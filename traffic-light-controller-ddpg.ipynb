{
 "cells": [
  {
   "cell_type": "markdown",
   "id": "0d81e824",
   "metadata": {
    "papermill": {
     "duration": 0.006375,
     "end_time": "2024-05-01T12:21:34.642540",
     "exception": false,
     "start_time": "2024-05-01T12:21:34.636165",
     "status": "completed"
    },
    "tags": []
   },
   "source": [
    "# Traffic Light Controller for a Single 4-Way Road Intersection using Deep Deterministic Policy Gradient (DDPG) algorithm"
   ]
  },
  {
   "cell_type": "markdown",
   "id": "dab08c86",
   "metadata": {
    "papermill": {
     "duration": 0.00553,
     "end_time": "2024-05-01T12:21:34.654243",
     "exception": false,
     "start_time": "2024-05-01T12:21:34.648713",
     "status": "completed"
    },
    "tags": []
   },
   "source": [
    "## Installations"
   ]
  },
  {
   "cell_type": "markdown",
   "id": "e8c2ff8a",
   "metadata": {
    "papermill": {
     "duration": 0.005847,
     "end_time": "2024-05-01T12:21:34.665807",
     "exception": false,
     "start_time": "2024-05-01T12:21:34.659960",
     "status": "completed"
    },
    "tags": []
   },
   "source": [
    "We use SUMO (Simulation of Urban MObility) for simulating the traffic environment"
   ]
  },
  {
   "cell_type": "code",
   "execution_count": 1,
   "id": "a1776ea2",
   "metadata": {
    "_cell_guid": "b1076dfc-b9ad-4769-8c92-a6c4dae69d19",
    "_uuid": "8f2839f25d086af736a60e9eeb907d3b93b6e0e5",
    "execution": {
     "iopub.execute_input": "2024-05-01T12:21:34.679047Z",
     "iopub.status.busy": "2024-05-01T12:21:34.678647Z",
     "iopub.status.idle": "2024-05-01T12:22:48.673556Z",
     "shell.execute_reply": "2024-05-01T12:22:48.671964Z"
    },
    "papermill": {
     "duration": 74.004507,
     "end_time": "2024-05-01T12:22:48.676099",
     "exception": false,
     "start_time": "2024-05-01T12:21:34.671592",
     "status": "completed"
    },
    "tags": []
   },
   "outputs": [
    {
     "name": "stdout",
     "output_type": "stream",
     "text": [
      "\r\n",
      "\r\n",
      "\r\n",
      "The following additional packages will be installed:\r\n",
      "  binfmt-support fastjar fonts-roboto-unhinted gdal-data jarwrapper\r\n",
      "  javascript-common libarmadillo9 libarpack2 libcfitsio8 libcharls2 libdap25\r\n",
      "  libdapclient6v5 libepsilon1 libfox-1.6-0 libfreexl1 libfyba0 libgdal26\r\n",
      "  libgeos-3.8.0 libgeos-c1v5 libgeotiff5 libglu1-mesa libhdf4-0-alt\r\n",
      "  libjs-jquery libjs-openlayers libjs-underscore libkmlbase1 libkmldom1\r\n",
      "  libkmlengine1 libminizip1 libmysqlclient21 libnetcdf15 libodbc1 libogdi4.1\r\n",
      "  libpoppler97 libpq5 libproj15 libqhull7 libspatialite7 libsuperlu5\r\n",
      "  liburiparser1 libxerces-c3.2 mysql-common odbcinst odbcinst1debian2\r\n",
      "  poppler-data proj-bin proj-data\r\n",
      "Suggested packages:\r\n",
      "  apache2 | lighttpd | httpd geotiff-bin gdal-bin libgeotiff-epsg libhdf4-doc\r\n",
      "  libhdf4-alt-dev hdf4-tools libmyodbc odbc-postgresql tdsodbc unixodbc-bin\r\n",
      "  ogdi-bin poppler-utils ghostscript fonts-japanese-mincho\r\n",
      "  | fonts-ipafont-mincho fonts-japanese-gothic | fonts-ipafont-gothic\r\n",
      "  fonts-arphic-ukai fonts-arphic-uming fonts-nanum\r\n",
      "The following NEW packages will be installed:\r\n",
      "  binfmt-support fastjar fonts-roboto-unhinted gdal-data jarwrapper\r\n",
      "  javascript-common libarmadillo9 libarpack2 libcfitsio8 libcharls2 libdap25\r\n",
      "  libdapclient6v5 libepsilon1 libfox-1.6-0 libfreexl1 libfyba0 libgdal26\r\n",
      "  libgeos-3.8.0 libgeos-c1v5 libgeotiff5 libglu1-mesa libhdf4-0-alt\r\n",
      "  libjs-jquery libjs-openlayers libjs-underscore libkmlbase1 libkmldom1\r\n",
      "  libkmlengine1 libminizip1 libmysqlclient21 libnetcdf15 libodbc1 libogdi4.1\r\n",
      "  libpoppler97 libpq5 libproj15 libqhull7 libspatialite7 libsuperlu5\r\n",
      "  liburiparser1 libxerces-c3.2 mysql-common odbcinst odbcinst1debian2\r\n",
      "  poppler-data proj-bin proj-data sumo sumo-doc sumo-tools\r\n",
      "0 upgraded, 50 newly installed, 0 to remove and 65 not upgraded.\r\n",
      "Need to get 74.7 MB of archives.\r\n",
      "After this operation, 636 MB of additional disk space will be used.\r\n",
      "Get:1 http://archive.ubuntu.com/ubuntu focal/main amd64 poppler-data all 0.4.9-2 [1475 kB]\r\n",
      "Get:2 http://archive.ubuntu.com/ubuntu focal/universe amd64 binfmt-support amd64 2.2.0-2 [58.2 kB]\r\n",
      "Get:3 http://archive.ubuntu.com/ubuntu focal/universe amd64 fonts-roboto-unhinted all 2:0~20170802-3 [2376 kB]\r\n",
      "Get:4 http://archive.ubuntu.com/ubuntu focal/universe amd64 gdal-data all 3.0.4+dfsg-1build3 [186 kB]\r\n",
      "Get:5 http://archive.ubuntu.com/ubuntu focal/universe amd64 fastjar amd64 2:0.98-6build1 [66.7 kB]\r\n",
      "Get:6 http://archive.ubuntu.com/ubuntu focal/universe amd64 jarwrapper all 0.72.10 [10.9 kB]\r\n",
      "Get:7 http://archive.ubuntu.com/ubuntu focal/main amd64 javascript-common all 11 [6066 B]\r\n",
      "Get:8 http://archive.ubuntu.com/ubuntu focal/universe amd64 libarpack2 amd64 3.7.0-3 [92.8 kB]\r\n",
      "Get:9 http://archive.ubuntu.com/ubuntu focal/universe amd64 libsuperlu5 amd64 5.2.1+dfsg1-4 [159 kB]\r\n",
      "Get:10 http://archive.ubuntu.com/ubuntu focal/universe amd64 libarmadillo9 amd64 1:9.800.4+dfsg-1build1 [93.2 kB]\r\n",
      "Get:11 http://archive.ubuntu.com/ubuntu focal/universe amd64 libcfitsio8 amd64 3.470-3 [466 kB]\r\n",
      "Get:12 http://archive.ubuntu.com/ubuntu focal/universe amd64 libcharls2 amd64 2.0.0+dfsg-1build1 [74.1 kB]\r\n",
      "Get:13 http://archive.ubuntu.com/ubuntu focal/universe amd64 libdap25 amd64 3.20.5-1 [435 kB]\r\n",
      "Get:14 http://archive.ubuntu.com/ubuntu focal/universe amd64 libdapclient6v5 amd64 3.20.5-1 [92.2 kB]\r\n",
      "Get:15 http://archive.ubuntu.com/ubuntu focal/universe amd64 libepsilon1 amd64 0.9.2+dfsg-4 [41.0 kB]\r\n",
      "Get:16 http://archive.ubuntu.com/ubuntu focal/main amd64 libglu1-mesa amd64 9.0.1-1build1 [168 kB]\r\n",
      "Get:17 http://archive.ubuntu.com/ubuntu focal/universe amd64 libfox-1.6-0 amd64 1.6.57-1build1 [890 kB]\r\n",
      "Get:18 http://archive.ubuntu.com/ubuntu focal/universe amd64 libfyba0 amd64 4.1.1-6build1 [113 kB]\r\n",
      "Get:19 http://archive.ubuntu.com/ubuntu focal/universe amd64 libfreexl1 amd64 1.0.5-3 [33.4 kB]\r\n",
      "Get:20 http://archive.ubuntu.com/ubuntu focal/universe amd64 libgeos-3.8.0 amd64 3.8.0-1build1 [535 kB]\r\n",
      "Get:21 http://archive.ubuntu.com/ubuntu focal/universe amd64 libgeos-c1v5 amd64 3.8.0-1build1 [69.9 kB]\r\n",
      "Get:22 http://archive.ubuntu.com/ubuntu focal/universe amd64 proj-data all 6.3.1-1 [7647 kB]\r\n",
      "Get:23 http://archive.ubuntu.com/ubuntu focal/universe amd64 libproj15 amd64 6.3.1-1 [925 kB]\r\n",
      "Get:24 http://archive.ubuntu.com/ubuntu focal/universe amd64 libgeotiff5 amd64 1.5.1-2 [53.1 kB]\r\n",
      "Get:25 http://archive.ubuntu.com/ubuntu focal/universe amd64 libhdf4-0-alt amd64 4.2.14-1ubuntu1 [268 kB]\r\n",
      "Get:26 http://archive.ubuntu.com/ubuntu focal/universe amd64 libminizip1 amd64 1.1-8build1 [20.2 kB]\r\n",
      "Get:27 http://archive.ubuntu.com/ubuntu focal/universe amd64 liburiparser1 amd64 0.9.3-2 [39.3 kB]\r\n",
      "Get:28 http://archive.ubuntu.com/ubuntu focal/universe amd64 libkmlbase1 amd64 1.3.0-8build1 [45.4 kB]\r\n",
      "Get:29 http://archive.ubuntu.com/ubuntu focal/universe amd64 libkmldom1 amd64 1.3.0-8build1 [152 kB]\r\n",
      "Get:30 http://archive.ubuntu.com/ubuntu focal/universe amd64 libkmlengine1 amd64 1.3.0-8build1 [72.5 kB]\r\n",
      "Get:31 http://archive.ubuntu.com/ubuntu focal/main amd64 mysql-common all 5.8+1.0.5ubuntu2 [7496 B]\r\n",
      "Get:32 http://archive.ubuntu.com/ubuntu focal-updates/main amd64 libmysqlclient21 amd64 8.0.36-0ubuntu0.20.04.1 [1302 kB]\r\n",
      "Get:33 http://archive.ubuntu.com/ubuntu focal/universe amd64 libnetcdf15 amd64 1:4.7.3-1 [341 kB]\r\n",
      "Get:34 http://archive.ubuntu.com/ubuntu focal-updates/main amd64 libodbc1 amd64 2.3.6-0.1ubuntu0.1 [190 kB]\r\n",
      "Get:35 http://archive.ubuntu.com/ubuntu focal/universe amd64 libogdi4.1 amd64 4.1.0+ds-1build1 [198 kB]\r\n",
      "Get:36 http://archive.ubuntu.com/ubuntu focal-updates/main amd64 libpoppler97 amd64 0.86.1-0ubuntu1.4 [916 kB]\r\n",
      "Get:37 http://archive.ubuntu.com/ubuntu focal-updates/main amd64 libpq5 amd64 12.18-0ubuntu0.20.04.1 [116 kB]\r\n",
      "Get:38 http://archive.ubuntu.com/ubuntu focal/universe amd64 libqhull7 amd64 2015.2-4 [152 kB]\r\n",
      "Get:39 http://archive.ubuntu.com/ubuntu focal/universe amd64 libspatialite7 amd64 4.3.0a-6build1 [1286 kB]\r\n",
      "Get:40 http://archive.ubuntu.com/ubuntu focal-updates/universe amd64 libxerces-c3.2 amd64 3.2.2+debian-1ubuntu0.2 [878 kB]\r\n",
      "Get:41 http://archive.ubuntu.com/ubuntu focal-updates/main amd64 odbcinst amd64 2.3.6-0.1ubuntu0.1 [14.5 kB]\r\n",
      "Get:42 http://archive.ubuntu.com/ubuntu focal-updates/main amd64 odbcinst1debian2 amd64 2.3.6-0.1ubuntu0.1 [41.7 kB]\r\n",
      "Get:43 http://archive.ubuntu.com/ubuntu focal/universe amd64 libgdal26 amd64 3.0.4+dfsg-1build3 [6156 kB]\r\n",
      "Get:44 http://archive.ubuntu.com/ubuntu focal/main amd64 libjs-jquery all 3.3.1~dfsg-3 [329 kB]\r\n",
      "Get:45 http://archive.ubuntu.com/ubuntu focal-updates/main amd64 libjs-underscore all 1.9.1~dfsg-1ubuntu0.20.04.1 [99.5 kB]\r\n",
      "Get:46 http://archive.ubuntu.com/ubuntu focal/universe amd64 sumo amd64 1.4.0+dfsg1-1 [10.4 MB]\r\n",
      "Get:47 http://archive.ubuntu.com/ubuntu focal/universe amd64 sumo-doc all 1.4.0+dfsg1-1 [27.4 MB]\r\n",
      "Get:48 http://archive.ubuntu.com/ubuntu focal/universe amd64 libjs-openlayers all 2.13.1+ds2-7 [715 kB]\r\n",
      "Get:49 http://archive.ubuntu.com/ubuntu focal/universe amd64 sumo-tools all 1.4.0+dfsg1-1 [7360 kB]\r\n",
      "Get:50 http://archive.ubuntu.com/ubuntu focal/universe amd64 proj-bin amd64 6.3.1-1 [88.8 kB]\r\n",
      "Fetched 74.7 MB in 8s (9536 kB/s)\r\n",
      "Extracting templates from packages: 100%\r\n",
      "Selecting previously unselected package poppler-data.\r\n",
      "(Reading database ... 113807 files and directories currently installed.)\r\n",
      "Preparing to unpack .../00-poppler-data_0.4.9-2_all.deb ...\r\n",
      "Unpacking poppler-data (0.4.9-2) ...\r\n",
      "Selecting previously unselected package binfmt-support.\r\n",
      "Preparing to unpack .../01-binfmt-support_2.2.0-2_amd64.deb ...\r\n",
      "Unpacking binfmt-support (2.2.0-2) ...\r\n",
      "Selecting previously unselected package fonts-roboto-unhinted.\r\n",
      "Preparing to unpack .../02-fonts-roboto-unhinted_2%3a0~20170802-3_all.deb ...\r\n",
      "Unpacking fonts-roboto-unhinted (2:0~20170802-3) ...\r\n",
      "Selecting previously unselected package gdal-data.\r\n",
      "Preparing to unpack .../03-gdal-data_3.0.4+dfsg-1build3_all.deb ...\r\n",
      "Unpacking gdal-data (3.0.4+dfsg-1build3) ...\r\n",
      "Selecting previously unselected package fastjar.\r\n",
      "Preparing to unpack .../04-fastjar_2%3a0.98-6build1_amd64.deb ...\r\n",
      "Unpacking fastjar (2:0.98-6build1) ...\r\n",
      "Selecting previously unselected package jarwrapper.\r\n",
      "Preparing to unpack .../05-jarwrapper_0.72.10_all.deb ...\r\n",
      "Unpacking jarwrapper (0.72.10) ...\r\n",
      "Selecting previously unselected package javascript-common.\r\n",
      "Preparing to unpack .../06-javascript-common_11_all.deb ...\r\n",
      "Unpacking javascript-common (11) ...\r\n",
      "Selecting previously unselected package libarpack2:amd64.\r\n",
      "Preparing to unpack .../07-libarpack2_3.7.0-3_amd64.deb ...\r\n",
      "Unpacking libarpack2:amd64 (3.7.0-3) ...\r\n",
      "Selecting previously unselected package libsuperlu5:amd64.\r\n",
      "Preparing to unpack .../08-libsuperlu5_5.2.1+dfsg1-4_amd64.deb ...\r\n",
      "Unpacking libsuperlu5:amd64 (5.2.1+dfsg1-4) ...\r\n",
      "Selecting previously unselected package libarmadillo9.\r\n",
      "Preparing to unpack .../09-libarmadillo9_1%3a9.800.4+dfsg-1build1_amd64.deb ...\r\n",
      "Unpacking libarmadillo9 (1:9.800.4+dfsg-1build1) ...\r\n",
      "Selecting previously unselected package libcfitsio8:amd64.\r\n",
      "Preparing to unpack .../10-libcfitsio8_3.470-3_amd64.deb ...\r\n",
      "Unpacking libcfitsio8:amd64 (3.470-3) ...\r\n",
      "Selecting previously unselected package libcharls2:amd64.\r\n",
      "Preparing to unpack .../11-libcharls2_2.0.0+dfsg-1build1_amd64.deb ...\r\n",
      "Unpacking libcharls2:amd64 (2.0.0+dfsg-1build1) ...\r\n",
      "Selecting previously unselected package libdap25:amd64.\r\n",
      "Preparing to unpack .../12-libdap25_3.20.5-1_amd64.deb ...\r\n",
      "Unpacking libdap25:amd64 (3.20.5-1) ...\r\n",
      "Selecting previously unselected package libdapclient6v5:amd64.\r\n",
      "Preparing to unpack .../13-libdapclient6v5_3.20.5-1_amd64.deb ...\r\n",
      "Unpacking libdapclient6v5:amd64 (3.20.5-1) ...\r\n",
      "Selecting previously unselected package libepsilon1:amd64.\r\n",
      "Preparing to unpack .../14-libepsilon1_0.9.2+dfsg-4_amd64.deb ...\r\n",
      "Unpacking libepsilon1:amd64 (0.9.2+dfsg-4) ...\r\n",
      "Selecting previously unselected package libglu1-mesa:amd64.\r\n",
      "Preparing to unpack .../15-libglu1-mesa_9.0.1-1build1_amd64.deb ...\r\n",
      "Unpacking libglu1-mesa:amd64 (9.0.1-1build1) ...\r\n",
      "Selecting previously unselected package libfox-1.6-0:amd64.\r\n",
      "Preparing to unpack .../16-libfox-1.6-0_1.6.57-1build1_amd64.deb ...\r\n",
      "Unpacking libfox-1.6-0:amd64 (1.6.57-1build1) ...\r\n",
      "Selecting previously unselected package libfyba0:amd64.\r\n",
      "Preparing to unpack .../17-libfyba0_4.1.1-6build1_amd64.deb ...\r\n",
      "Unpacking libfyba0:amd64 (4.1.1-6build1) ...\r\n",
      "Selecting previously unselected package libfreexl1:amd64.\r\n",
      "Preparing to unpack .../18-libfreexl1_1.0.5-3_amd64.deb ...\r\n",
      "Unpacking libfreexl1:amd64 (1.0.5-3) ...\r\n",
      "Selecting previously unselected package libgeos-3.8.0:amd64.\r\n",
      "Preparing to unpack .../19-libgeos-3.8.0_3.8.0-1build1_amd64.deb ...\r\n",
      "Unpacking libgeos-3.8.0:amd64 (3.8.0-1build1) ...\r\n",
      "Selecting previously unselected package libgeos-c1v5:amd64.\r\n",
      "Preparing to unpack .../20-libgeos-c1v5_3.8.0-1build1_amd64.deb ...\r\n",
      "Unpacking libgeos-c1v5:amd64 (3.8.0-1build1) ...\r\n",
      "Selecting previously unselected package proj-data.\r\n",
      "Preparing to unpack .../21-proj-data_6.3.1-1_all.deb ...\r\n",
      "Unpacking proj-data (6.3.1-1) ...\r\n",
      "Selecting previously unselected package libproj15:amd64.\r\n",
      "Preparing to unpack .../22-libproj15_6.3.1-1_amd64.deb ...\r\n",
      "Unpacking libproj15:amd64 (6.3.1-1) ...\r\n",
      "Selecting previously unselected package libgeotiff5:amd64.\r\n",
      "Preparing to unpack .../23-libgeotiff5_1.5.1-2_amd64.deb ...\r\n",
      "Unpacking libgeotiff5:amd64 (1.5.1-2) ...\r\n",
      "Selecting previously unselected package libhdf4-0-alt.\r\n",
      "Preparing to unpack .../24-libhdf4-0-alt_4.2.14-1ubuntu1_amd64.deb ...\r\n",
      "Unpacking libhdf4-0-alt (4.2.14-1ubuntu1) ...\r\n",
      "Selecting previously unselected package libminizip1:amd64.\r\n",
      "Preparing to unpack .../25-libminizip1_1.1-8build1_amd64.deb ...\r\n",
      "Unpacking libminizip1:amd64 (1.1-8build1) ...\r\n",
      "Selecting previously unselected package liburiparser1:amd64.\r\n",
      "Preparing to unpack .../26-liburiparser1_0.9.3-2_amd64.deb ...\r\n",
      "Unpacking liburiparser1:amd64 (0.9.3-2) ...\r\n",
      "Selecting previously unselected package libkmlbase1:amd64.\r\n",
      "Preparing to unpack .../27-libkmlbase1_1.3.0-8build1_amd64.deb ...\r\n",
      "Unpacking libkmlbase1:amd64 (1.3.0-8build1) ...\r\n",
      "Selecting previously unselected package libkmldom1:amd64.\r\n",
      "Preparing to unpack .../28-libkmldom1_1.3.0-8build1_amd64.deb ...\r\n",
      "Unpacking libkmldom1:amd64 (1.3.0-8build1) ...\r\n",
      "Selecting previously unselected package libkmlengine1:amd64.\r\n",
      "Preparing to unpack .../29-libkmlengine1_1.3.0-8build1_amd64.deb ...\r\n",
      "Unpacking libkmlengine1:amd64 (1.3.0-8build1) ...\r\n",
      "Selecting previously unselected package mysql-common.\r\n",
      "Preparing to unpack .../30-mysql-common_5.8+1.0.5ubuntu2_all.deb ...\r\n",
      "Unpacking mysql-common (5.8+1.0.5ubuntu2) ...\r\n",
      "Selecting previously unselected package libmysqlclient21:amd64.\r\n",
      "Preparing to unpack .../31-libmysqlclient21_8.0.36-0ubuntu0.20.04.1_amd64.deb ...\r\n",
      "Unpacking libmysqlclient21:amd64 (8.0.36-0ubuntu0.20.04.1) ...\r\n",
      "Selecting previously unselected package libnetcdf15:amd64.\r\n",
      "Preparing to unpack .../32-libnetcdf15_1%3a4.7.3-1_amd64.deb ...\r\n",
      "Unpacking libnetcdf15:amd64 (1:4.7.3-1) ...\r\n",
      "Selecting previously unselected package libodbc1:amd64.\r\n",
      "Preparing to unpack .../33-libodbc1_2.3.6-0.1ubuntu0.1_amd64.deb ...\r\n",
      "Unpacking libodbc1:amd64 (2.3.6-0.1ubuntu0.1) ...\r\n",
      "Selecting previously unselected package libogdi4.1.\r\n",
      "Preparing to unpack .../34-libogdi4.1_4.1.0+ds-1build1_amd64.deb ...\r\n",
      "Unpacking libogdi4.1 (4.1.0+ds-1build1) ...\r\n",
      "Selecting previously unselected package libpoppler97:amd64.\r\n",
      "Preparing to unpack .../35-libpoppler97_0.86.1-0ubuntu1.4_amd64.deb ...\r\n",
      "Unpacking libpoppler97:amd64 (0.86.1-0ubuntu1.4) ...\r\n",
      "Selecting previously unselected package libpq5:amd64.\r\n",
      "Preparing to unpack .../36-libpq5_12.18-0ubuntu0.20.04.1_amd64.deb ...\r\n",
      "Unpacking libpq5:amd64 (12.18-0ubuntu0.20.04.1) ...\r\n",
      "Selecting previously unselected package libqhull7:amd64.\r\n",
      "Preparing to unpack .../37-libqhull7_2015.2-4_amd64.deb ...\r\n",
      "Unpacking libqhull7:amd64 (2015.2-4) ...\r\n",
      "Selecting previously unselected package libspatialite7:amd64.\r\n",
      "Preparing to unpack .../38-libspatialite7_4.3.0a-6build1_amd64.deb ...\r\n",
      "Unpacking libspatialite7:amd64 (4.3.0a-6build1) ...\r\n",
      "Selecting previously unselected package libxerces-c3.2:amd64.\r\n",
      "Preparing to unpack .../39-libxerces-c3.2_3.2.2+debian-1ubuntu0.2_amd64.deb ...\r\n",
      "Unpacking libxerces-c3.2:amd64 (3.2.2+debian-1ubuntu0.2) ...\r\n",
      "Selecting previously unselected package odbcinst.\r\n",
      "Preparing to unpack .../40-odbcinst_2.3.6-0.1ubuntu0.1_amd64.deb ...\r\n",
      "Unpacking odbcinst (2.3.6-0.1ubuntu0.1) ...\r\n",
      "Selecting previously unselected package odbcinst1debian2:amd64.\r\n",
      "Preparing to unpack .../41-odbcinst1debian2_2.3.6-0.1ubuntu0.1_amd64.deb ...\r\n",
      "Unpacking odbcinst1debian2:amd64 (2.3.6-0.1ubuntu0.1) ...\r\n",
      "Selecting previously unselected package libgdal26.\r\n",
      "Preparing to unpack .../42-libgdal26_3.0.4+dfsg-1build3_amd64.deb ...\r\n",
      "Unpacking libgdal26 (3.0.4+dfsg-1build3) ...\r\n",
      "Selecting previously unselected package libjs-jquery.\r\n",
      "Preparing to unpack .../43-libjs-jquery_3.3.1~dfsg-3_all.deb ...\r\n",
      "Unpacking libjs-jquery (3.3.1~dfsg-3) ...\r\n",
      "Selecting previously unselected package libjs-underscore.\r\n",
      "Preparing to unpack .../44-libjs-underscore_1.9.1~dfsg-1ubuntu0.20.04.1_all.deb ...\r\n",
      "Unpacking libjs-underscore (1.9.1~dfsg-1ubuntu0.20.04.1) ...\r\n",
      "Selecting previously unselected package sumo.\r\n",
      "Preparing to unpack .../45-sumo_1.4.0+dfsg1-1_amd64.deb ...\r\n",
      "Unpacking sumo (1.4.0+dfsg1-1) ...\r\n",
      "Selecting previously unselected package sumo-doc.\r\n",
      "Preparing to unpack .../46-sumo-doc_1.4.0+dfsg1-1_all.deb ...\r\n",
      "Unpacking sumo-doc (1.4.0+dfsg1-1) ...\r\n",
      "Selecting previously unselected package libjs-openlayers.\r\n",
      "Preparing to unpack .../47-libjs-openlayers_2.13.1+ds2-7_all.deb ...\r\n",
      "Unpacking libjs-openlayers (2.13.1+ds2-7) ...\r\n",
      "Selecting previously unselected package sumo-tools.\r\n",
      "Preparing to unpack .../48-sumo-tools_1.4.0+dfsg1-1_all.deb ...\r\n",
      "Unpacking sumo-tools (1.4.0+dfsg1-1) ...\r\n",
      "Selecting previously unselected package proj-bin.\r\n",
      "Preparing to unpack .../49-proj-bin_6.3.1-1_amd64.deb ...\r\n",
      "Unpacking proj-bin (6.3.1-1) ...\r\n",
      "Setting up fastjar (2:0.98-6build1) ...\r\n",
      "Setting up javascript-common (11) ...\r\n",
      "Setting up mysql-common (5.8+1.0.5ubuntu2) ...\r\n",
      "update-alternatives: using /etc/mysql/my.cnf.fallback to provide /etc/mysql/my.cnf (my.cnf) in auto mode\r\n",
      "Setting up libmysqlclient21:amd64 (8.0.36-0ubuntu0.20.04.1) ...\r\n",
      "Setting up libxerces-c3.2:amd64 (3.2.2+debian-1ubuntu0.2) ...\r\n",
      "Setting up proj-data (6.3.1-1) ...\r\n",
      "Setting up libgeos-3.8.0:amd64 (3.8.0-1build1) ...\r\n",
      "Setting up libogdi4.1 (4.1.0+ds-1build1) ...\r\n",
      "Setting up libcharls2:amd64 (2.0.0+dfsg-1build1) ...\r\n",
      "Setting up libminizip1:amd64 (1.1-8build1) ...\r\n",
      "Setting up libarpack2:amd64 (3.7.0-3) ...\r\n",
      "Setting up libpq5:amd64 (12.18-0ubuntu0.20.04.1) ...\r\n",
      "Setting up libsuperlu5:amd64 (5.2.1+dfsg1-4) ...\r\n",
      "Setting up libdap25:amd64 (3.20.5-1) ...\r\n",
      "Setting up libqhull7:amd64 (2015.2-4) ...\r\n",
      "Setting up libpoppler97:amd64 (0.86.1-0ubuntu1.4) ...\r\n",
      "Setting up fonts-roboto-unhinted (2:0~20170802-3) ...\r\n",
      "Setting up libepsilon1:amd64 (0.9.2+dfsg-4) ...\r\n",
      "Setting up gdal-data (3.0.4+dfsg-1build3) ...\r\n",
      "Setting up poppler-data (0.4.9-2) ...\r\n",
      "Setting up libnetcdf15:amd64 (1:4.7.3-1) ...\r\n",
      "Setting up libcfitsio8:amd64 (3.470-3) ...\r\n",
      "Setting up binfmt-support (2.2.0-2) ...\r\n",
      "Created symlink /etc/systemd/system/multi-user.target.wants/binfmt-support.service -> /lib/systemd/system/binfmt-support.service.\r\n",
      "invoke-rc.d: could not determine current runlevel\r\n",
      "invoke-rc.d: policy-rc.d denied execution of start.\r\n",
      "Setting up libgeos-c1v5:amd64 (3.8.0-1build1) ...\r\n",
      "Setting up libproj15:amd64 (6.3.1-1) ...\r\n",
      "Setting up libodbc1:amd64 (2.3.6-0.1ubuntu0.1) ...\r\n",
      "Setting up libhdf4-0-alt (4.2.14-1ubuntu1) ...\r\n",
      "Setting up liburiparser1:amd64 (0.9.3-2) ...\r\n",
      "Setting up libfreexl1:amd64 (1.0.5-3) ...\r\n",
      "Setting up libfyba0:amd64 (4.1.1-6build1) ...\r\n",
      "Setting up libkmlbase1:amd64 (1.3.0-8build1) ...\r\n",
      "Setting up libdapclient6v5:amd64 (3.20.5-1) ...\r\n",
      "Setting up libjs-openlayers (2.13.1+ds2-7) ...\r\n",
      "Setting up libglu1-mesa:amd64 (9.0.1-1build1) ...\r\n",
      "Setting up libarmadillo9 (1:9.800.4+dfsg-1build1) ...\r\n",
      "Setting up libjs-jquery (3.3.1~dfsg-3) ...\r\n",
      "Setting up libfox-1.6-0:amd64 (1.6.57-1build1) ...\r\n",
      "Setting up libjs-underscore (1.9.1~dfsg-1ubuntu0.20.04.1) ...\r\n",
      "Setting up libkmldom1:amd64 (1.3.0-8build1) ...\r\n",
      "Setting up libspatialite7:amd64 (4.3.0a-6build1) ...\r\n",
      "Setting up libkmlengine1:amd64 (1.3.0-8build1) ...\r\n",
      "Setting up jarwrapper (0.72.10) ...\r\n",
      "Setting up proj-bin (6.3.1-1) ...\r\n",
      "Setting up libgeotiff5:amd64 (1.5.1-2) ...\r\n",
      "Setting up sumo-doc (1.4.0+dfsg1-1) ...\r\n",
      "Setting up sumo-tools (1.4.0+dfsg1-1) ...\r\n",
      "Setting up odbcinst (2.3.6-0.1ubuntu0.1) ...\r\n",
      "Setting up odbcinst1debian2:amd64 (2.3.6-0.1ubuntu0.1) ...\r\n",
      "Setting up libgdal26 (3.0.4+dfsg-1build3) ...\r\n",
      "Setting up sumo (1.4.0+dfsg1-1) ...\r\n",
      "Processing triggers for fontconfig (2.13.1-2ubuntu3) ...\r\n",
      "Processing triggers for mime-support (3.64ubuntu1) ...\r\n",
      "Processing triggers for libc-bin (2.31-0ubuntu9.14) ...\r\n",
      "Processing triggers for systemd (245.4-4ubuntu3.22) ...\r\n",
      "Processing triggers for man-db (2.9.1-1) ...\r\n",
      "Processing triggers for install-info (6.7.0.dfsg.2-5) ...\r\n",
      "Collecting sumolib\r\n",
      "  Downloading sumolib-1.19.0-py3-none-any.whl.metadata (2.5 kB)\r\n",
      "Collecting traci\r\n",
      "  Downloading traci-1.19.0-py3-none-any.whl.metadata (3.0 kB)\r\n",
      "Downloading sumolib-1.19.0-py3-none-any.whl (148 kB)\r\n",
      "\u001b[2K   \u001b[90m━━━━━━━━━━━━━━━━━━━━━━━━━━━━━━━━━━━━━━━━\u001b[0m \u001b[32m148.8/148.8 kB\u001b[0m \u001b[31m2.6 MB/s\u001b[0m eta \u001b[36m0:00:00\u001b[0m\r\n",
      "\u001b[?25hDownloading traci-1.19.0-py3-none-any.whl (124 kB)\r\n",
      "\u001b[2K   \u001b[90m━━━━━━━━━━━━━━━━━━━━━━━━━━━━━━━━━━━━━━━━\u001b[0m \u001b[32m124.5/124.5 kB\u001b[0m \u001b[31m7.5 MB/s\u001b[0m eta \u001b[36m0:00:00\u001b[0m\r\n",
      "\u001b[?25hInstalling collected packages: sumolib, traci\r\n",
      "Successfully installed sumolib-1.19.0 traci-1.19.0\r\n",
      "Collecting torchviz\r\n",
      "  Downloading torchviz-0.0.2.tar.gz (4.9 kB)\r\n",
      "  Preparing metadata (setup.py) ... \u001b[?25l-\b \bdone\r\n",
      "\u001b[?25hRequirement already satisfied: torch in /opt/conda/lib/python3.10/site-packages (from torchviz) (2.1.2)\r\n",
      "Requirement already satisfied: graphviz in /opt/conda/lib/python3.10/site-packages (from torchviz) (0.20.3)\r\n",
      "Requirement already satisfied: filelock in /opt/conda/lib/python3.10/site-packages (from torch->torchviz) (3.13.1)\r\n",
      "Requirement already satisfied: typing-extensions in /opt/conda/lib/python3.10/site-packages (from torch->torchviz) (4.9.0)\r\n",
      "Requirement already satisfied: sympy in /opt/conda/lib/python3.10/site-packages (from torch->torchviz) (1.12)\r\n",
      "Requirement already satisfied: networkx in /opt/conda/lib/python3.10/site-packages (from torch->torchviz) (3.2.1)\r\n",
      "Requirement already satisfied: jinja2 in /opt/conda/lib/python3.10/site-packages (from torch->torchviz) (3.1.2)\r\n",
      "Requirement already satisfied: fsspec in /opt/conda/lib/python3.10/site-packages (from torch->torchviz) (2024.2.0)\r\n",
      "Requirement already satisfied: MarkupSafe>=2.0 in /opt/conda/lib/python3.10/site-packages (from jinja2->torch->torchviz) (2.1.3)\r\n",
      "Requirement already satisfied: mpmath>=0.19 in /opt/conda/lib/python3.10/site-packages (from sympy->torch->torchviz) (1.3.0)\r\n",
      "Building wheels for collected packages: torchviz\r\n",
      "  Building wheel for torchviz (setup.py) ... \u001b[?25l-\b \b\\\b \bdone\r\n",
      "\u001b[?25h  Created wheel for torchviz: filename=torchviz-0.0.2-py3-none-any.whl size=4131 sha256=617665f84e563c33feb7b283e5fccca2bc18d25ce9d9167516cd69d4267c3b44\r\n",
      "  Stored in directory: /root/.cache/pip/wheels/4c/97/88/a02973217949e0db0c9f4346d154085f4725f99c4f15a87094\r\n",
      "Successfully built torchviz\r\n",
      "Installing collected packages: torchviz\r\n",
      "Successfully installed torchviz-0.0.2\r\n",
      "Requirement already satisfied: stable-baselines3 in /opt/conda/lib/python3.10/site-packages (2.1.0)\r\n",
      "Requirement already satisfied: gym in /opt/conda/lib/python3.10/site-packages (0.26.2)\r\n",
      "Requirement already satisfied: gymnasium<0.30,>=0.28.1 in /opt/conda/lib/python3.10/site-packages (from stable-baselines3) (0.29.0)\r\n",
      "Requirement already satisfied: numpy>=1.20 in /opt/conda/lib/python3.10/site-packages (from stable-baselines3) (1.26.4)\r\n",
      "Requirement already satisfied: torch>=1.13 in /opt/conda/lib/python3.10/site-packages (from stable-baselines3) (2.1.2)\r\n",
      "Requirement already satisfied: cloudpickle in /opt/conda/lib/python3.10/site-packages (from stable-baselines3) (2.2.1)\r\n",
      "Requirement already satisfied: pandas in /opt/conda/lib/python3.10/site-packages (from stable-baselines3) (2.1.4)\r\n",
      "Requirement already satisfied: matplotlib in /opt/conda/lib/python3.10/site-packages (from stable-baselines3) (3.7.5)\r\n",
      "Requirement already satisfied: gym-notices>=0.0.4 in /opt/conda/lib/python3.10/site-packages (from gym) (0.0.8)\r\n",
      "Requirement already satisfied: typing-extensions>=4.3.0 in /opt/conda/lib/python3.10/site-packages (from gymnasium<0.30,>=0.28.1->stable-baselines3) (4.9.0)\r\n",
      "Requirement already satisfied: farama-notifications>=0.0.1 in /opt/conda/lib/python3.10/site-packages (from gymnasium<0.30,>=0.28.1->stable-baselines3) (0.0.4)\r\n",
      "Requirement already satisfied: filelock in /opt/conda/lib/python3.10/site-packages (from torch>=1.13->stable-baselines3) (3.13.1)\r\n",
      "Requirement already satisfied: sympy in /opt/conda/lib/python3.10/site-packages (from torch>=1.13->stable-baselines3) (1.12)\r\n",
      "Requirement already satisfied: networkx in /opt/conda/lib/python3.10/site-packages (from torch>=1.13->stable-baselines3) (3.2.1)\r\n",
      "Requirement already satisfied: jinja2 in /opt/conda/lib/python3.10/site-packages (from torch>=1.13->stable-baselines3) (3.1.2)\r\n",
      "Requirement already satisfied: fsspec in /opt/conda/lib/python3.10/site-packages (from torch>=1.13->stable-baselines3) (2024.2.0)\r\n",
      "Requirement already satisfied: contourpy>=1.0.1 in /opt/conda/lib/python3.10/site-packages (from matplotlib->stable-baselines3) (1.2.0)\r\n",
      "Requirement already satisfied: cycler>=0.10 in /opt/conda/lib/python3.10/site-packages (from matplotlib->stable-baselines3) (0.12.1)\r\n",
      "Requirement already satisfied: fonttools>=4.22.0 in /opt/conda/lib/python3.10/site-packages (from matplotlib->stable-baselines3) (4.47.0)\r\n",
      "Requirement already satisfied: kiwisolver>=1.0.1 in /opt/conda/lib/python3.10/site-packages (from matplotlib->stable-baselines3) (1.4.5)\r\n",
      "Requirement already satisfied: packaging>=20.0 in /opt/conda/lib/python3.10/site-packages (from matplotlib->stable-baselines3) (21.3)\r\n",
      "Requirement already satisfied: pillow>=6.2.0 in /opt/conda/lib/python3.10/site-packages (from matplotlib->stable-baselines3) (9.5.0)\r\n",
      "Requirement already satisfied: pyparsing>=2.3.1 in /opt/conda/lib/python3.10/site-packages (from matplotlib->stable-baselines3) (3.1.1)\r\n",
      "Requirement already satisfied: python-dateutil>=2.7 in /opt/conda/lib/python3.10/site-packages (from matplotlib->stable-baselines3) (2.9.0.post0)\r\n",
      "Requirement already satisfied: pytz>=2020.1 in /opt/conda/lib/python3.10/site-packages (from pandas->stable-baselines3) (2023.3.post1)\r\n",
      "Requirement already satisfied: tzdata>=2022.1 in /opt/conda/lib/python3.10/site-packages (from pandas->stable-baselines3) (2023.4)\r\n",
      "Requirement already satisfied: six>=1.5 in /opt/conda/lib/python3.10/site-packages (from python-dateutil>=2.7->matplotlib->stable-baselines3) (1.16.0)\r\n",
      "Requirement already satisfied: MarkupSafe>=2.0 in /opt/conda/lib/python3.10/site-packages (from jinja2->torch>=1.13->stable-baselines3) (2.1.3)\r\n",
      "Requirement already satisfied: mpmath>=0.19 in /opt/conda/lib/python3.10/site-packages (from sympy->torch>=1.13->stable-baselines3) (1.3.0)\r\n"
     ]
    }
   ],
   "source": [
    "!sudo apt-get install -y sumo sumo-tools sumo-doc\n",
    "!pip install sumolib traci\n",
    "!pip install torchviz\n",
    "!pip install stable-baselines3 gym"
   ]
  },
  {
   "cell_type": "code",
   "execution_count": 2,
   "id": "84abe910",
   "metadata": {
    "execution": {
     "iopub.execute_input": "2024-05-01T12:22:48.723548Z",
     "iopub.status.busy": "2024-05-01T12:22:48.722769Z",
     "iopub.status.idle": "2024-05-01T12:22:49.698390Z",
     "shell.execute_reply": "2024-05-01T12:22:49.697022Z"
    },
    "papermill": {
     "duration": 1.001939,
     "end_time": "2024-05-01T12:22:49.701008",
     "exception": false,
     "start_time": "2024-05-01T12:22:48.699069",
     "status": "completed"
    },
    "tags": []
   },
   "outputs": [
    {
     "name": "stdout",
     "output_type": "stream",
     "text": [
      "sumo-gui: /usr/bin/sumo-gui\r\n"
     ]
    }
   ],
   "source": [
    "!whereis sumo-gui"
   ]
  },
  {
   "cell_type": "code",
   "execution_count": 3,
   "id": "c76256f4",
   "metadata": {
    "execution": {
     "iopub.execute_input": "2024-05-01T12:22:49.752661Z",
     "iopub.status.busy": "2024-05-01T12:22:49.752297Z",
     "iopub.status.idle": "2024-05-01T12:22:50.735421Z",
     "shell.execute_reply": "2024-05-01T12:22:50.734268Z"
    },
    "papermill": {
     "duration": 1.010392,
     "end_time": "2024-05-01T12:22:50.737804",
     "exception": false,
     "start_time": "2024-05-01T12:22:49.727412",
     "status": "completed"
    },
    "tags": []
   },
   "outputs": [
    {
     "name": "stdout",
     "output_type": "stream",
     "text": [
      "/usr/share/sumo/tools/game/cross_demo.sumocfg\r\n"
     ]
    }
   ],
   "source": [
    "# Confirming presence of sumocfg file\n",
    "!ls /usr/share/sumo/tools/game/cross_demo.sumocfg"
   ]
  },
  {
   "cell_type": "code",
   "execution_count": 4,
   "id": "6dee688c",
   "metadata": {
    "execution": {
     "iopub.execute_input": "2024-05-01T12:22:50.782526Z",
     "iopub.status.busy": "2024-05-01T12:22:50.782176Z",
     "iopub.status.idle": "2024-05-01T12:22:51.751172Z",
     "shell.execute_reply": "2024-05-01T12:22:51.749982Z"
    },
    "papermill": {
     "duration": 0.993898,
     "end_time": "2024-05-01T12:22:51.753606",
     "exception": false,
     "start_time": "2024-05-01T12:22:50.759708",
     "status": "completed"
    },
    "tags": []
   },
   "outputs": [
    {
     "name": "stdout",
     "output_type": "stream",
     "text": [
      "/usr/share/sumo/tools/game/cross/cross.net.xml\r\n"
     ]
    }
   ],
   "source": [
    "# Confirming presence of the network file for cross_demo.sumocfg\n",
    "!ls /usr/share/sumo/tools/game/cross/cross.net.xml"
   ]
  },
  {
   "cell_type": "markdown",
   "id": "e728c060",
   "metadata": {
    "papermill": {
     "duration": 0.021254,
     "end_time": "2024-05-01T12:22:51.797619",
     "exception": false,
     "start_time": "2024-05-01T12:22:51.776365",
     "status": "completed"
    },
    "tags": []
   },
   "source": [
    "## Imports"
   ]
  },
  {
   "cell_type": "code",
   "execution_count": 5,
   "id": "2aacf399",
   "metadata": {
    "execution": {
     "iopub.execute_input": "2024-05-01T12:22:51.844042Z",
     "iopub.status.busy": "2024-05-01T12:22:51.843383Z",
     "iopub.status.idle": "2024-05-01T12:23:07.900137Z",
     "shell.execute_reply": "2024-05-01T12:23:07.899351Z"
    },
    "papermill": {
     "duration": 16.081928,
     "end_time": "2024-05-01T12:23:07.902550",
     "exception": false,
     "start_time": "2024-05-01T12:22:51.820622",
     "status": "completed"
    },
    "tags": []
   },
   "outputs": [
    {
     "name": "stderr",
     "output_type": "stream",
     "text": [
      "2024-05-01 12:22:57.938679: E external/local_xla/xla/stream_executor/cuda/cuda_dnn.cc:9261] Unable to register cuDNN factory: Attempting to register factory for plugin cuDNN when one has already been registered\n",
      "2024-05-01 12:22:57.938804: E external/local_xla/xla/stream_executor/cuda/cuda_fft.cc:607] Unable to register cuFFT factory: Attempting to register factory for plugin cuFFT when one has already been registered\n",
      "2024-05-01 12:22:58.071855: E external/local_xla/xla/stream_executor/cuda/cuda_blas.cc:1515] Unable to register cuBLAS factory: Attempting to register factory for plugin cuBLAS when one has already been registered\n"
     ]
    }
   ],
   "source": [
    "import traci\n",
    "import sumolib\n",
    "import numpy as np\n",
    "import os\n",
    "import matplotlib.pyplot as plt\n",
    "from collections import deque\n",
    "import random\n",
    "import torch\n",
    "import torch.nn as nn\n",
    "import torch.nn.functional as F\n",
    "import torch.optim as optim\n",
    "from torchviz import make_dot\n",
    "\n",
    "import gymnasium as gym\n",
    "from stable_baselines3 import DDPG\n",
    "from stable_baselines3.common.env_checker import check_env\n",
    "from stable_baselines3.common.callbacks import EvalCallback\n",
    "from gymnasium.spaces import Box, Dict, Discrete"
   ]
  },
  {
   "cell_type": "markdown",
   "id": "fc9b8005",
   "metadata": {
    "papermill": {
     "duration": 0.021044,
     "end_time": "2024-05-01T12:23:07.945640",
     "exception": false,
     "start_time": "2024-05-01T12:23:07.924596",
     "status": "completed"
    },
    "tags": []
   },
   "source": [
    "## Utility functions"
   ]
  },
  {
   "cell_type": "code",
   "execution_count": 6,
   "id": "50d4db02",
   "metadata": {
    "execution": {
     "iopub.execute_input": "2024-05-01T12:23:07.989531Z",
     "iopub.status.busy": "2024-05-01T12:23:07.988933Z",
     "iopub.status.idle": "2024-05-01T12:23:07.995072Z",
     "shell.execute_reply": "2024-05-01T12:23:07.994240Z"
    },
    "papermill": {
     "duration": 0.030108,
     "end_time": "2024-05-01T12:23:07.997007",
     "exception": false,
     "start_time": "2024-05-01T12:23:07.966899",
     "status": "completed"
    },
    "tags": []
   },
   "outputs": [],
   "source": [
    "# Get the appropriate device (CUDA or CPU)\n",
    "def get_device():\n",
    "    return torch.device(\"cuda\" if torch.cuda.is_available() else \"cpu\")\n",
    "\n",
    "def dict_to_sorted_numpy_array(dictionary):\n",
    "    # Sort the keys\n",
    "    sorted_keys = sorted(dictionary.keys())\n",
    "    # Create a list of values in sorted order\n",
    "    sorted_values = [dictionary[key] for key in sorted_keys]\n",
    "    # Convert to numpy array\n",
    "    np_array = np.array(sorted_values, dtype=np.float32)\n",
    "    return np_array"
   ]
  },
  {
   "cell_type": "markdown",
   "id": "fb242b3f",
   "metadata": {
    "papermill": {
     "duration": 0.021248,
     "end_time": "2024-05-01T12:23:08.039865",
     "exception": false,
     "start_time": "2024-05-01T12:23:08.018617",
     "status": "completed"
    },
    "tags": []
   },
   "source": [
    "## Creating a custom gym environment"
   ]
  },
  {
   "cell_type": "code",
   "execution_count": 7,
   "id": "51b25a90",
   "metadata": {
    "execution": {
     "iopub.execute_input": "2024-05-01T12:23:08.084831Z",
     "iopub.status.busy": "2024-05-01T12:23:08.084503Z",
     "iopub.status.idle": "2024-05-01T12:23:08.130789Z",
     "shell.execute_reply": "2024-05-01T12:23:08.130020Z"
    },
    "papermill": {
     "duration": 0.071431,
     "end_time": "2024-05-01T12:23:08.132901",
     "exception": false,
     "start_time": "2024-05-01T12:23:08.061470",
     "status": "completed"
    },
    "tags": []
   },
   "outputs": [],
   "source": [
    "class SingleRoadIntersectionEnv(gym.Env):\n",
    "    \n",
    "    def __init__(self):\n",
    "        \n",
    "        self.max_episode_steps = 5000\n",
    "        \n",
    "        self.AREA_SIZE = self.get_frame_dimensions()\n",
    "        \n",
    "        self.GRID_SIZE = (int(self.AREA_SIZE[0]), int(self.AREA_SIZE[1]))  # Rows and columns in the grid \n",
    "        self.GRID_RES = (self.AREA_SIZE[0] /self.GRID_SIZE[0], self.AREA_SIZE[1] / self.GRID_SIZE[1])   \n",
    "        \n",
    "        # Path to SUMO binary\n",
    "        self.sumoBinary = \"/usr/bin/sumo\"\n",
    "        self.sumoCmd = [self.sumoBinary, \"-c\", \"/usr/share/sumo/tools/game/cross_demo.sumocfg\"]\n",
    "        \n",
    "        # Start the SUMO simulation\n",
    "        traci.start(self.sumoCmd)\n",
    "        \n",
    "        lanes = traci.lane.getIDList()\n",
    "        \n",
    "        # Define the observation space using gym.spaces.Dict\n",
    "        self.observation_space = Dict({\n",
    "            \"queue_length\": Box(low=0, high=np.inf, shape=(len(lanes),), dtype=np.float32),\n",
    "            \"vehicle_count\": Box(low=0, high=np.inf, shape=(len(lanes),), dtype=np.float32),\n",
    "            \"avg_waiting_time\": Box(low=0, high=np.inf, shape=(len(lanes),), dtype=np.float32),\n",
    "            \"current_phase\": Box(low=0, high=11, shape=(1,), dtype=np.float32),\n",
    "            \"next_phase\": Box(low=0, high=11, shape=(1,), dtype=np.float32),\n",
    "            \"vehicle_grid\": Box(low=0, high=1, shape=(int(self.AREA_SIZE[0]), int(self.AREA_SIZE[1])), dtype=np.float32),\n",
    "        })\n",
    "\n",
    "        # Define continuous action space\n",
    "        self.action_space = Box(low=-1, high=1, shape=(1,), dtype=np.float32)\n",
    "        \n",
    "        # Setting the initial state\n",
    "        self.state = self.get_current_state()\n",
    "        \n",
    "        # Keeping track of the simulation time at phase changes\n",
    "        self.simulation_time_at_phase_change = traci.simulation.getCurrentTime()/1000\n",
    "        \n",
    "        # Initialising episode_steps and cumulative_reward\n",
    "        self.episode_steps = 0\n",
    "        self.cumulative_reward = 0\n",
    "        \n",
    "        self.reward_factors = None\n",
    "\n",
    "    def reset(self, seed=None):\n",
    "        # End SUMO simulation\n",
    "        traci.close()\n",
    "        # Start the SUMO simulation\n",
    "        traci.start(self.sumoCmd)\n",
    "        # Keeping track of the simulation time at phase changes\n",
    "        self.simulation_time_at_phase_change = traci.simulation.getCurrentTime()/1000\n",
    "        # Initialising episode_steps and cumulative_reward\n",
    "        self.episode_steps = 0\n",
    "        self.cumulative_reward = 0\n",
    "        \n",
    "        self.state = self.get_current_state() # Get the initial state\n",
    "        return (self.state, {})  # Return the initial state\n",
    "\n",
    "    def step(self, action):\n",
    "#         print(\"ACTION:\", action)\n",
    "        # Get the current state\n",
    "        current_state = self.state\n",
    "\n",
    "        # Dictionary to store vehicle entry times\n",
    "        vehicle_start_times = {}\n",
    "\n",
    "        # Get current simulation time (in seconds)\n",
    "        current_time = traci.simulation.getCurrentTime() / 1000  # Convert from ms to s\n",
    "\n",
    "        # Compute vehicle start times\n",
    "        vehicle_ids = traci.vehicle.getIDList()\n",
    "        for veh_id in vehicle_ids:\n",
    "            # Update the start time (to be tracked from last action taken)\n",
    "            vehicle_start_times[veh_id] = current_time\n",
    "            \n",
    "            \n",
    "            \n",
    "        traffic_light_ids = traci.trafficlight.getIDList()\n",
    "        # Determine the next action (continuous) to manage traffic lights\n",
    "        if action[0] > 0:\n",
    "            action = 1\n",
    "        else:\n",
    "            action = 0\n",
    "            \n",
    "#         print(\"\\n\\nACTION TAKEN = \"+str(action)+\"\\n\\n\")\n",
    "        \n",
    "        # Advance simulation by one step\n",
    "        traci.simulationStep()\n",
    "\n",
    "        # Set traffic light phase according to action chosen\n",
    "        if action == 1:\n",
    "            traci.trafficlight.setPhase(traffic_light_ids[0], (current_state[\"current_phase\"][0] + 1) % 12)\n",
    "        else:\n",
    "            traci.trafficlight.setPhase(traffic_light_ids[0], current_state[\"current_phase\"][0])\n",
    "            \n",
    "            \n",
    "        \n",
    "        # Get the new state after action is taken\n",
    "        next_state = self.get_current_state()\n",
    "        \n",
    "        \n",
    "\n",
    "        # Get current simulation time (in seconds)\n",
    "        current_time = traci.simulation.getCurrentTime() / 1000  # Convert from ms to s\n",
    "\n",
    "        # List to store travel times for vehicles that have exited the frame\n",
    "        vehicle_travel_times = []\n",
    "\n",
    "        # Track vehicles that have exited\n",
    "        arrived_vehicle_ids = traci.simulation.getArrivedIDList()\n",
    "        for veh_id in arrived_vehicle_ids:\n",
    "            if veh_id in vehicle_start_times:\n",
    "                # Calculate travel time\n",
    "                start_time = vehicle_start_times[veh_id]\n",
    "                travel_time = current_time - start_time\n",
    "\n",
    "                # Store the travel time\n",
    "                vehicle_travel_times.append(travel_time)\n",
    "\n",
    "                # Remove the vehicle from the tracking dictionary\n",
    "                del vehicle_start_times[veh_id]\n",
    "                \n",
    "                \n",
    "                \n",
    "        # Get the reward\n",
    "        reward, reward_factors = self.getReward(current_state, next_state, vehicle_travel_times)\n",
    "        self.reward_factors = reward_factors\n",
    "        \n",
    "        \n",
    "        \n",
    "        # Update simulation_time_at_phase_change if a phase change has occured\n",
    "        traffic_light_changes = sum(\n",
    "            1 if next_state[\"current_phase\"][0] != current_state[\"current_phase\"][0] else 0\n",
    "            for tl in traci.trafficlight.getIDList()\n",
    "        )\n",
    "        phase_change = 0\n",
    "        if traffic_light_changes > 0:\n",
    "            phase_change = 1\n",
    "        if phase_change == 1:\n",
    "            self.simulation_time_at_phase_change = traci.simulation.getCurrentTime()/1000\n",
    "            \n",
    "            \n",
    "             \n",
    "        # Calculate cumulative reward, append data to replay buffer etc...\n",
    "        self.cumulative_reward += reward\n",
    "                    \n",
    "        info = {}  # Additional information if needed\n",
    "\n",
    "        self.state = next_state  # Update the state\n",
    "        \n",
    "        self.episode_steps += 1\n",
    "        \n",
    "        # Determine whether the episode is done\n",
    "        done = False\n",
    "        if self.episode_steps == self.max_episode_steps:\n",
    "            done = True\n",
    "        if done:                   \n",
    "            print(\"Cumulative Reward: \"+str(self.cumulative_reward))\n",
    "\n",
    "        return next_state, reward, done, False, info\n",
    "        #obs, reward, terminated, truncated, info\n",
    "\n",
    "    def close(self):\n",
    "        # End SUMO simulation\n",
    "        traci.close()\n",
    "        # Resetting episode_steps and cumulative_reward\n",
    "        self.episode_steps = 0\n",
    "        self.cumulative_reward = 0\n",
    "        \n",
    "    def get_frame_dimensions(self):\n",
    "        # Load the network file\n",
    "        net_file = \"/usr/share/sumo/tools/game/cross/cross.net.xml\"\n",
    "        net = sumolib.net.readNet(net_file)\n",
    "\n",
    "        # Get the network's boundaries\n",
    "        bounding_box = net.getBoundary()\n",
    "\n",
    "        # Calculate the width and height of the area\n",
    "        width = bounding_box[2] - bounding_box[0]\n",
    "        height = bounding_box[3] - bounding_box[1]\n",
    "\n",
    "        AREA_SIZE = (width, height)  # Width and height of the area in meters\n",
    "\n",
    "        return AREA_SIZE\n",
    "    \n",
    "    def get_next_phase(self, current_phase): # Note: This is specific to cross_demo.sumocfg \n",
    "        next_phase = {}\n",
    "        for key in current_phase.keys():\n",
    "            next_phase[key] = (current_phase[key] + 1)%12\n",
    "        return next_phase\n",
    "    \n",
    "    # Define a function to extract the current state from the simulation\n",
    "    def get_current_state(self):\n",
    "        lanes = traci.lane.getIDList()\n",
    "        queue_length = {lane: traci.lane.getLastStepHaltingNumber(lane) for lane in lanes}\n",
    "        vehicle_count = {lane: traci.lane.getLastStepVehicleNumber(lane) for lane in lanes}\n",
    "        avg_waiting_time = {lane: traci.lane.getWaitingTime(lane) for lane in lanes}\n",
    "        traffic_light_ids = traci.trafficlight.getIDList()\n",
    "        current_phase = {tl: traci.trafficlight.getPhase(tl) for tl in traffic_light_ids}\n",
    "        next_phase = self.get_next_phase(current_phase)\n",
    "\n",
    "        # Initialize the grid with zeros\n",
    "        vehicle_grid = np.zeros((self.GRID_SIZE[1], self.GRID_SIZE[0]), dtype=np.float32)\n",
    "\n",
    "        # Get all vehicle IDs\n",
    "        vehicle_ids = traci.vehicle.getIDList()\n",
    "\n",
    "        # Loop through all vehicles and place them on the grid\n",
    "        for veh_id in vehicle_ids:\n",
    "            # Get the position of the vehicle\n",
    "            x, y = traci.vehicle.getPosition(veh_id)\n",
    "\n",
    "            # Map the position to the grid indices\n",
    "            row = int(y // self.GRID_RES[1])  # Rows are indexed by the y-coordinate\n",
    "            col = int(x // self.GRID_RES[0])  # Columns are indexed by the x-coordinate\n",
    "\n",
    "            # Ensure the indices are within the grid bounds\n",
    "            if 0 <= row < self.GRID_SIZE[1] and 0 <= col < self.GRID_SIZE[0]:\n",
    "                vehicle_grid[row, col] += 1  # Increment the count at the grid position\n",
    "        \n",
    "        return {\n",
    "            \"queue_length\": dict_to_sorted_numpy_array(queue_length),\n",
    "            \"vehicle_count\": dict_to_sorted_numpy_array(vehicle_count),\n",
    "            \"avg_waiting_time\": dict_to_sorted_numpy_array(avg_waiting_time),\n",
    "            \"current_phase\": dict_to_sorted_numpy_array(current_phase),\n",
    "            \"next_phase\": dict_to_sorted_numpy_array(next_phase),\n",
    "            \"vehicle_grid\": vehicle_grid,\n",
    "        }\n",
    "    \n",
    "    # Function to compute the reward\n",
    "    def getReward(self, previous_state, current_state, vehicle_travel_times):\n",
    "        # Weights for each component of the reward\n",
    "        WEIGHT_QUEUE_LENGTH = -0.7/1000\n",
    "        WEIGHT_WAITING_TIME = -0.2/1000\n",
    "        WEIGHT_PHASE_CHANGE = -1.0/1000\n",
    "        WEIGHT_DELAY = -0.3/1000\n",
    "        WEIGHT_VEHICLES_PASSED = 7.0/1000\n",
    "        WEIGHT_ENVIRONMENTAL_COST = -0.4/1000\n",
    "        WEIGHT_SUDDEN_PHASE_CHANGE = -25.0/1000\n",
    "        WEIGHT_COLLISION = -15.0/1000\n",
    "        WEIGHT_TRAVEL_TIME = -1.0/1000\n",
    "\n",
    "        lanes = traci.lane.getIDList()\n",
    "\n",
    "        # Sum of queue lengths (halting vehicles)\n",
    "        queue_length = sum(traci.lane.getLastStepHaltingNumber(lane) for lane in lanes)\n",
    "\n",
    "        # Sum of average waiting times\n",
    "        avg_waiting_time = sum(traci.lane.getWaitingTime(lane) for lane in lanes)\n",
    "\n",
    "        # Check if phase change has occured since the last step\n",
    "        traffic_light_changes = sum(\n",
    "            1 if current_state[\"current_phase\"][0] != previous_state[\"current_phase\"][0] else 0\n",
    "            for tl in traci.trafficlight.getIDList()\n",
    "        )\n",
    "        phase_change = 0\n",
    "        if traffic_light_changes > 0:\n",
    "            phase_change = 1\n",
    "\n",
    "        # Calculate delay for all vehicles\n",
    "        total_delay = sum(\n",
    "            (1 - (traci.vehicle.getSpeed(veh) / traci.vehicle.getAllowedSpeed(veh))) for veh in traci.vehicle.getIDList()\n",
    "        )\n",
    "\n",
    "        # Number of vehicles which arrived (have reached their destination and are removed from the road network) in this time step\n",
    "        vehicles_passed = traci.simulation.getArrivedNumber()\n",
    "\n",
    "        # Environmental cost (based on CO2 and CO emissions)\n",
    "        total_emissions = sum(traci.vehicle.getCO2Emission(veh) for veh in traci.vehicle.getIDList()) + sum(traci.vehicle.getCOEmission(veh) for veh in traci.vehicle.getIDList())\n",
    "        total_emissions = total_emissions/1000\n",
    "\n",
    "        # Penalty for sudden changes (if the phase duration was too short)\n",
    "        min_phase_duration = 5  # penalize if phases switch within 5 seconds\n",
    "        sudden_traffic_light_changes = sum(\n",
    "            1 if ((phase_change == 1) and ((traci.simulation.getCurrentTime()/1000 - self.simulation_time_at_phase_change) < min_phase_duration) and ((current_state[\"current_phase\"][0] % 3) == 0)) else 0\n",
    "            for tl in traci.trafficlight.getIDList()\n",
    "        )\n",
    "        sudden_phase_change = 0\n",
    "        if sudden_traffic_light_changes > 0:\n",
    "            sudden_phase_change = 1\n",
    "\n",
    "        # Penalty for collision between vehicles\n",
    "        num_collided_vehicles = traci.simulation.getCollidingVehiclesNumber()\n",
    "\n",
    "        # Penalty for a high value of average travel time for vehicles which exited the frame\n",
    "        average_travel_time = 0\n",
    "        if len(vehicle_travel_times) != 0:\n",
    "            average_travel_time = np.mean(vehicle_travel_times)\n",
    "\n",
    "        # Compute the reward as a weighted sum of factors\n",
    "        reward = (\n",
    "            (WEIGHT_QUEUE_LENGTH * queue_length) +\n",
    "            (WEIGHT_WAITING_TIME * avg_waiting_time) +\n",
    "            (WEIGHT_PHASE_CHANGE * phase_change) +\n",
    "            (WEIGHT_DELAY * total_delay) +\n",
    "            (WEIGHT_VEHICLES_PASSED * vehicles_passed) +\n",
    "            (WEIGHT_ENVIRONMENTAL_COST * total_emissions) +\n",
    "            (WEIGHT_SUDDEN_PHASE_CHANGE * sudden_phase_change) +\n",
    "            (WEIGHT_COLLISION * num_collided_vehicles) + \n",
    "            (WEIGHT_TRAVEL_TIME * average_travel_time)\n",
    "        )\n",
    "\n",
    "        # Preparing the reward factors as well\n",
    "        reward_factors = {}\n",
    "        reward_factors[\"queue_length\"] = queue_length     # Number\n",
    "        reward_factors[\"avg_waiting_time\"] = avg_waiting_time     # Seconds \n",
    "        reward_factors[\"phase_change\"] = phase_change     # Flag\n",
    "        reward_factors[\"total_delay\"] = total_delay     # Sum of fractions\n",
    "        reward_factors[\"vehicles_passed\"] = vehicles_passed     # Number\n",
    "        reward_factors[\"total_emissions\"] = total_emissions     # grams/second\n",
    "        reward_factors[\"sudden_phase_change\"] = sudden_phase_change     # Flag\n",
    "        reward_factors[\"num_collided_vehicles\"] = num_collided_vehicles     # Number\n",
    "        reward_factors[\"average_travel_time\"] = average_travel_time     # Second \n",
    "\n",
    "        return reward, reward_factors\n"
   ]
  },
  {
   "cell_type": "markdown",
   "id": "d7dda9f4",
   "metadata": {
    "papermill": {
     "duration": 0.021096,
     "end_time": "2024-05-01T12:23:08.175540",
     "exception": false,
     "start_time": "2024-05-01T12:23:08.154444",
     "status": "completed"
    },
    "tags": []
   },
   "source": [
    "## Training"
   ]
  },
  {
   "cell_type": "code",
   "execution_count": 8,
   "id": "3ad7044d",
   "metadata": {
    "execution": {
     "iopub.execute_input": "2024-05-01T12:23:08.219156Z",
     "iopub.status.busy": "2024-05-01T12:23:08.218866Z",
     "iopub.status.idle": "2024-05-01T16:54:52.817649Z",
     "shell.execute_reply": "2024-05-01T16:54:52.816362Z"
    },
    "papermill": {
     "duration": 16305.366283,
     "end_time": "2024-05-01T16:54:53.563154",
     "exception": false,
     "start_time": "2024-05-01T12:23:08.196871",
     "status": "completed"
    },
    "tags": []
   },
   "outputs": [
    {
     "name": "stdout",
     "output_type": "stream",
     "text": [
      " Retrying in 1 seconds\n",
      "Loading configuration ... done.\n"
     ]
    },
    {
     "name": "stderr",
     "output_type": "stream",
     "text": [
      "Warning: Missing yellow phase in tlLogic '0', program '0' for tl-index 3 when switching to phase 0\n",
      "Warning: Missing yellow phase in tlLogic '0', program '1' for tl-index 5 when switching to phase 0\n",
      "Warning: Missing yellow phase in tlLogic '0', program '2' for tl-index 0 when switching to phase 0\n",
      "Warning: Missing yellow phase in tlLogic '0', program '3' for tl-index 2 when switching to phase 0\n",
      "/tmp/ipykernel_24/2116822760.py:38: UserWarning: getCurrentTime is deprecated, please use getTime which returns floating point seconds\n",
      "  self.simulation_time_at_phase_change = traci.simulation.getCurrentTime()/1000\n"
     ]
    },
    {
     "name": "stdout",
     "output_type": "stream",
     "text": [
      " Retrying in 1 seconds\n",
      "Loading configuration ... done.\n"
     ]
    },
    {
     "name": "stderr",
     "output_type": "stream",
     "text": [
      "Warning: Missing yellow phase in tlLogic '0', program '0' for tl-index 3 when switching to phase 0\n",
      "Warning: Missing yellow phase in tlLogic '0', program '1' for tl-index 5 when switching to phase 0\n",
      "Warning: Missing yellow phase in tlLogic '0', program '2' for tl-index 0 when switching to phase 0\n",
      "Warning: Missing yellow phase in tlLogic '0', program '3' for tl-index 2 when switching to phase 0\n",
      "/tmp/ipykernel_24/2116822760.py:52: UserWarning: getCurrentTime is deprecated, please use getTime which returns floating point seconds\n",
      "  self.simulation_time_at_phase_change = traci.simulation.getCurrentTime()/1000\n",
      "/opt/conda/lib/python3.10/site-packages/stable_baselines3/common/env_checker.py:244: UserWarning: Your observation vehicle_grid has an unconventional shape (neither an image, nor a 1D vector). We recommend you to flatten the observation to have only a 1D vector or use a custom policy to properly process the data.\n",
      "  warnings.warn(\n"
     ]
    },
    {
     "name": "stdout",
     "output_type": "stream",
     "text": [
      " Retrying in 1 seconds\n",
      "Loading configuration ... done.\n"
     ]
    },
    {
     "name": "stderr",
     "output_type": "stream",
     "text": [
      "Warning: Missing yellow phase in tlLogic '0', program '0' for tl-index 3 when switching to phase 0\n",
      "Warning: Missing yellow phase in tlLogic '0', program '1' for tl-index 5 when switching to phase 0\n",
      "Warning: Missing yellow phase in tlLogic '0', program '2' for tl-index 0 when switching to phase 0\n",
      "Warning: Missing yellow phase in tlLogic '0', program '3' for tl-index 2 when switching to phase 0\n",
      "/tmp/ipykernel_24/2116822760.py:69: UserWarning: getCurrentTime is deprecated, please use getTime which returns floating point seconds\n",
      "  current_time = traci.simulation.getCurrentTime() / 1000  # Convert from ms to s\n",
      "/tmp/ipykernel_24/2116822760.py:105: UserWarning: getCurrentTime is deprecated, please use getTime which returns floating point seconds\n",
      "  current_time = traci.simulation.getCurrentTime() / 1000  # Convert from ms to s\n"
     ]
    },
    {
     "name": "stdout",
     "output_type": "stream",
     "text": [
      " Retrying in 1 seconds\n",
      "Loading configuration ... done.\n"
     ]
    },
    {
     "name": "stderr",
     "output_type": "stream",
     "text": [
      "Warning: Missing yellow phase in tlLogic '0', program '0' for tl-index 3 when switching to phase 0\n",
      "Warning: Missing yellow phase in tlLogic '0', program '1' for tl-index 5 when switching to phase 0\n",
      "Warning: Missing yellow phase in tlLogic '0', program '2' for tl-index 0 when switching to phase 0\n",
      "Warning: Missing yellow phase in tlLogic '0', program '3' for tl-index 2 when switching to phase 0\n",
      "/tmp/ipykernel_24/2116822760.py:276: UserWarning: getCurrentTime is deprecated, please use getTime which returns floating point seconds\n",
      "  1 if ((phase_change == 1) and ((traci.simulation.getCurrentTime()/1000 - self.simulation_time_at_phase_change) < min_phase_duration) and ((current_state[\"current_phase\"][0] % 3) == 0)) else 0\n",
      "/tmp/ipykernel_24/2116822760.py:141: UserWarning: getCurrentTime is deprecated, please use getTime which returns floating point seconds\n",
      "  self.simulation_time_at_phase_change = traci.simulation.getCurrentTime()/1000\n"
     ]
    },
    {
     "name": "stdout",
     "output_type": "stream",
     "text": [
      "Using cuda device\n",
      "Wrapping the env with a `Monitor` wrapper\n",
      "Wrapping the env in a DummyVecEnv.\n",
      " Retrying in 1 seconds\n",
      "Loading configuration ... done.\n"
     ]
    },
    {
     "name": "stderr",
     "output_type": "stream",
     "text": [
      "Warning: Missing yellow phase in tlLogic '0', program '0' for tl-index 3 when switching to phase 0\n",
      "Warning: Missing yellow phase in tlLogic '0', program '1' for tl-index 5 when switching to phase 0\n",
      "Warning: Missing yellow phase in tlLogic '0', program '2' for tl-index 0 when switching to phase 0\n",
      "Warning: Missing yellow phase in tlLogic '0', program '3' for tl-index 2 when switching to phase 0\n",
      "/tmp/ipykernel_24/2116822760.py:52: UserWarning: getCurrentTime is deprecated, please use getTime which returns floating point seconds\n",
      "  self.simulation_time_at_phase_change = traci.simulation.getCurrentTime()/1000\n",
      "/tmp/ipykernel_24/2116822760.py:69: UserWarning: getCurrentTime is deprecated, please use getTime which returns floating point seconds\n",
      "  current_time = traci.simulation.getCurrentTime() / 1000  # Convert from ms to s\n",
      "/tmp/ipykernel_24/2116822760.py:105: UserWarning: getCurrentTime is deprecated, please use getTime which returns floating point seconds\n",
      "  current_time = traci.simulation.getCurrentTime() / 1000  # Convert from ms to s\n",
      "/tmp/ipykernel_24/2116822760.py:276: UserWarning: getCurrentTime is deprecated, please use getTime which returns floating point seconds\n",
      "  1 if ((phase_change == 1) and ((traci.simulation.getCurrentTime()/1000 - self.simulation_time_at_phase_change) < min_phase_duration) and ((current_state[\"current_phase\"][0] % 3) == 0)) else 0\n",
      "/tmp/ipykernel_24/2116822760.py:141: UserWarning: getCurrentTime is deprecated, please use getTime which returns floating point seconds\n",
      "  self.simulation_time_at_phase_change = traci.simulation.getCurrentTime()/1000\n"
     ]
    },
    {
     "name": "stdout",
     "output_type": "stream",
     "text": [
      "Step #14.80"
     ]
    },
    {
     "name": "stderr",
     "output_type": "stream",
     "text": [
      "Warning: Vehicle '1_right.0' performs emergency braking with decel=-9.00 wished=4.50 severity=1.00, time=14.00.\n",
      "Warning: Vehicle '1_right.0' performs emergency stop at the end of lane '1si_0' because of a red traffic light (decel=-14.19, offset=0.96), time=14.00.\n",
      "Warning: Vehicle '2_left.0' performs emergency braking with decel=-9.00 wished=4.50 severity=1.00, time=14.60.\n",
      "Warning: Vehicle '1_left.0' performs emergency braking with decel=-9.00 wished=4.50 severity=1.00, time=14.60.\n",
      "Warning: Vehicle '2_left.0' performs emergency stop at the end of lane '2si_2' because of a red traffic light (decel=-11.01, offset=0.36), time=14.80.\n"
     ]
    },
    {
     "name": "stdout",
     "output_type": "stream",
     "text": [
      "Step #311.80 (0ms ?*RT. ?UPS, TraCI: 49ms, v"
     ]
    },
    {
     "name": "stderr",
     "output_type": "stream",
     "text": [
      "Warning: Teleporting vehicle '2_horizontal.0'; waited too long (yield), lane='2si_1', time=317.80.\n",
      "Warning: Teleporting vehicle '2_right.0'; waited too long (yield), lane='2si_0', time=317.80.\n",
      "Warning: Vehicle '2_right.0' ends teleporting on edge '4o', time 317.80.\n",
      "Warning: Vehicle '2_horizontal.0' ends teleporting on edge '1o', time 317.80.\n",
      "Warning: Teleporting vehicle '1_horizontal.0'; waited too long (yield), lane='1si_1', time=318.00.\n",
      "Warning: Vehicle '1_horizontal.0' ends teleporting on edge '2o', time 318.00.\n",
      "Warning: Teleporting vehicle '1_left.0'; waited too long (yield), lane='1si_2', time=318.20.\n",
      "Warning: Vehicle '1_left.0' ends teleporting on edge '4o', time 318.20.\n"
     ]
    },
    {
     "name": "stdout",
     "output_type": "stream",
     "text": [
      "Step #333.60"
     ]
    },
    {
     "name": "stderr",
     "output_type": "stream",
     "text": [
      "Warning: Teleporting vehicle '4_right.0'; waited too long (yield), lane='4si_0', time=333.60.\n",
      "Warning: Vehicle '4_right.0' ends teleporting on edge '1o', time 333.60.\n"
     ]
    },
    {
     "name": "stdout",
     "output_type": "stream",
     "text": [
      "Step #334.40"
     ]
    },
    {
     "name": "stderr",
     "output_type": "stream",
     "text": [
      "Warning: Teleporting vehicle '3_right.0'; waited too long (yield), lane='3si_0', time=334.40.\n",
      "Warning: Vehicle '3_right.0' ends teleporting on edge '2o', time 334.40.\n",
      "Warning: Teleporting vehicle '3_left.0'; waited too long (yield), lane='3si_1', time=335.40.\n",
      "Warning: Vehicle '3_left.0' ends teleporting on edge '1o', time 335.40.\n",
      "Warning: Teleporting vehicle '4_left.0'; waited too long (yield), lane='4si_1', time=335.80.\n",
      "Warning: Vehicle '4_left.0' ends teleporting on edge '2o', time 335.80.\n"
     ]
    },
    {
     "name": "stdout",
     "output_type": "stream",
     "text": [
      "Step #335.80"
     ]
    },
    {
     "name": "stderr",
     "output_type": "stream",
     "text": [
      "Warning: Teleporting vehicle '1_right.1'; waited too long (yield), lane='1si_0', time=343.80.\n",
      "Warning: Vehicle '1_right.1' ends teleporting on edge '3o', time 343.80.\n"
     ]
    },
    {
     "name": "stdout",
     "output_type": "stream",
     "text": [
      "Step #348.80"
     ]
    },
    {
     "name": "stderr",
     "output_type": "stream",
     "text": [
      "Warning: Vehicle '1_right.2' performs emergency braking with decel=-9.00 wished=4.50 severity=1.00, time=348.60.\n",
      "Warning: Vehicle '1_right.2' performs emergency stop at the end of lane '1si_0' because of a red traffic light (decel=-10.78, offset=0.25), time=348.80.\n"
     ]
    },
    {
     "name": "stdout",
     "output_type": "stream",
     "text": [
      "Step #500.00"
     ]
    },
    {
     "name": "stderr",
     "output_type": "stream",
     "text": [
      "Warning: Choosing new speed factor 1.23 for vehicle '3_vertical0.22' to match departure speed.\n"
     ]
    },
    {
     "name": "stdout",
     "output_type": "stream",
     "text": [
      "Step #644.40"
     ]
    },
    {
     "name": "stderr",
     "output_type": "stream",
     "text": [
      "Warning: Teleporting vehicle '2_horizontal.17'; waited too long (jam), lane='2fi_0', time=644.40.\n"
     ]
    },
    {
     "name": "stdout",
     "output_type": "stream",
     "text": [
      "Step #661.80"
     ]
    },
    {
     "name": "stderr",
     "output_type": "stream",
     "text": [
      "Warning: Teleporting vehicle '4_right0.4'; waited too long (jam), lane='4fi_0', time=661.80.\n"
     ]
    },
    {
     "name": "stdout",
     "output_type": "stream",
     "text": [
      "Step #664.60"
     ]
    },
    {
     "name": "stderr",
     "output_type": "stream",
     "text": [
      "Warning: Teleporting vehicle '3_vertical.0'; waited too long (yield), lane='3si_0', time=664.00.\n",
      "Warning: Teleporting vehicle '4_vertical.0'; waited too long (yield), lane='4si_0', time=664.00.\n",
      "Warning: Vehicle '3_vertical.0' ends teleporting on edge '4o', time 664.00.\n",
      "Warning: Vehicle '4_vertical.0' ends teleporting on edge '3o', time 664.00.\n",
      "Warning: Vehicle '4_right0.4' ends teleporting on edge '4si', time 664.00.\n",
      "Warning: Teleporting vehicle '3_left.1'; waited too long (yield), lane='3si_1', time=664.60.\n",
      "Warning: Teleporting vehicle '4_left.1'; waited too long (yield), lane='4si_1', time=664.60.\n",
      "Warning: Vehicle '3_left.1' ends teleporting on edge '1o', time 664.60.\n",
      "Warning: Vehicle '4_left.1' ends teleporting on edge '2o', time 664.60.\n"
     ]
    },
    {
     "name": "stdout",
     "output_type": "stream",
     "text": [
      "Step #665.20"
     ]
    },
    {
     "name": "stderr",
     "output_type": "stream",
     "text": [
      "Warning: Teleporting vehicle '1_right.3'; waited too long (yield), lane='1si_0', time=665.20.\n",
      "Warning: Teleporting vehicle '2_horizontal.1'; waited too long (yield), lane='2si_1', time=665.20.\n",
      "Warning: Teleporting vehicle '1_horizontal.1'; waited too long (yield), lane='1si_1', time=665.20.\n",
      "Warning: Teleporting vehicle '2_right.1'; waited too long (yield), lane='2si_0', time=665.20.\n",
      "Warning: Vehicle '1_horizontal.1' ends teleporting on edge '2o', time 665.20.\n",
      "Warning: Vehicle '2_horizontal.1' ends teleporting on edge '1o', time 665.20.\n",
      "Warning: Vehicle '2_right.1' ends teleporting on edge '4o', time 665.20.\n",
      "Warning: Vehicle '1_right.3' ends teleporting on edge '3o', time 665.20.\n",
      "Warning: Vehicle '2_horizontal.17' ends teleporting on edge '2si', time 665.20.\n"
     ]
    },
    {
     "name": "stdout",
     "output_type": "stream",
     "text": [
      "Step #810.00"
     ]
    },
    {
     "name": "stderr",
     "output_type": "stream",
     "text": [
      "Warning: Choosing new speed factor 1.24 for vehicle '1_horizontal0.38' to match departure speed.\n"
     ]
    },
    {
     "name": "stdout",
     "output_type": "stream",
     "text": [
      "Step #945.00 (1ms ~= 200.00"
     ]
    },
    {
     "name": "stderr",
     "output_type": "stream",
     "text": [
      "Warning: Teleporting vehicle '2_left0.3'; waited too long (jam), lane='2fi_0', time=952.60.\n",
      "Warning: Vehicle '2_left0.3' ends teleporting on edge '2si', time 952.60.\n"
     ]
    },
    {
     "name": "stdout",
     "output_type": "stream",
     "text": [
      "Step #964.20"
     ]
    },
    {
     "name": "stderr",
     "output_type": "stream",
     "text": [
      "Warning: Teleporting vehicle '4_right0.4'; waited too long (yield), lane='4si_0', time=964.20.\n",
      "Warning: Vehicle '4_right0.4' ends teleporting on edge '1o', time 964.20.\n",
      "Warning: Teleporting vehicle '2_horizontal.17'; waited too long (yield), lane='2si_1', time=965.40.\n",
      "Warning: Vehicle '2_horizontal.17' ends teleporting on edge '1o', time 965.40.\n"
     ]
    },
    {
     "name": "stdout",
     "output_type": "stream",
     "text": [
      "Step #967.80"
     ]
    },
    {
     "name": "stderr",
     "output_type": "stream",
     "text": [
      "Warning: Teleporting vehicle '3_right.1'; waited too long (yield), lane='3si_0', time=967.00.\n",
      "Warning: Vehicle '3_right.1' ends teleporting on edge '2o', time 967.00.\n",
      "Warning: Teleporting vehicle '4_left.2'; waited too long (yield), lane='4si_1', time=967.60.\n",
      "Warning: Vehicle '4_left.2' ends teleporting on edge '2o', time 967.60.\n",
      "Warning: Teleporting vehicle '3_left.2'; waited too long (yield), lane='3si_1', time=967.80.\n",
      "Warning: Vehicle '3_left.2' ends teleporting on edge '1o', time 967.80.\n"
     ]
    },
    {
     "name": "stdout",
     "output_type": "stream",
     "text": [
      "Step #968.40"
     ]
    },
    {
     "name": "stderr",
     "output_type": "stream",
     "text": [
      "Warning: Teleporting vehicle '1_horizontal.2'; waited too long (yield), lane='1si_1', time=968.20.\n",
      "Warning: Vehicle '1_horizontal.2' ends teleporting on edge '2o', time 968.20.\n",
      "Warning: Teleporting vehicle '1_right.4'; waited too long (yield), lane='1si_0', time=968.40.\n",
      "Warning: Teleporting vehicle '2_right.2'; waited too long (yield), lane='2si_0', time=968.40.\n",
      "Warning: Vehicle '2_right.2' ends teleporting on edge '4o', time 968.40.\n",
      "Warning: Vehicle '1_right.4' ends teleporting on edge '3o', time 968.40.\n",
      "Warning: Teleporting vehicle '4_vertical.8'; waited too long (jam), lane='4fi_0', time=969.80.\n"
     ]
    },
    {
     "name": "stdout",
     "output_type": "stream",
     "text": [
      "Step #975.00"
     ]
    },
    {
     "name": "stderr",
     "output_type": "stream",
     "text": [
      "Warning: Choosing new speed factor 1.30 for vehicle '1_horizontal.65' to match departure speed.\n"
     ]
    },
    {
     "name": "stdout",
     "output_type": "stream",
     "text": [
      "Step #993.00 (Cumulative Reward: -13889.79279472774\n",
      " Retrying in 1 seconds\n",
      "Loading configuration ... done.\n"
     ]
    },
    {
     "name": "stderr",
     "output_type": "stream",
     "text": [
      "Warning: Missing yellow phase in tlLogic '0', program '0' for tl-index 3 when switching to phase 0\n",
      "Warning: Missing yellow phase in tlLogic '0', program '1' for tl-index 5 when switching to phase 0\n",
      "Warning: Missing yellow phase in tlLogic '0', program '2' for tl-index 0 when switching to phase 0\n",
      "Warning: Missing yellow phase in tlLogic '0', program '3' for tl-index 2 when switching to phase 0\n"
     ]
    },
    {
     "name": "stdout",
     "output_type": "stream",
     "text": [
      "Step #12.20"
     ]
    },
    {
     "name": "stderr",
     "output_type": "stream",
     "text": [
      "Warning: Vehicle '2_right.0' performs emergency braking with decel=-9.00 wished=4.50 severity=1.00, time=11.60.\n",
      "Warning: Vehicle '2_left.0' performs emergency braking with decel=-9.00 wished=4.50 severity=1.00, time=12.20.\n",
      "Warning: Vehicle '1_right.0' performs emergency braking with decel=-9.00 wished=4.50 severity=1.00, time=14.00.\n",
      "Warning: Vehicle '1_right.0' performs emergency stop at the end of lane '1si_0' because of a red traffic light (decel=-11.12, offset=0.37), time=14.20.\n",
      "Warning: Vehicle '2_left.0' performs emergency braking with decel=-9.00 wished=4.50 severity=1.00, time=14.60.\n",
      "Warning: Vehicle '2_left.0' performs emergency stop at the end of lane '2si_2' because of a red traffic light (decel=-12.64, offset=0.05), time=14.60.\n",
      "Warning: Vehicle '1_left.0' performs emergency braking with decel=-9.00 wished=4.50 severity=1.00, time=14.60.\n"
     ]
    },
    {
     "name": "stdout",
     "output_type": "stream",
     "text": [
      "Step #16.80"
     ]
    },
    {
     "name": "stderr",
     "output_type": "stream",
     "text": [
      "Warning: Vehicle '2_horizontal.0' performs emergency braking with decel=-9.00 wished=4.50 severity=1.00, time=16.40.\n",
      "Warning: Vehicle '1_horizontal.0' performs emergency braking with decel=-9.00 wished=4.50 severity=1.00, time=16.40.\n",
      "Warning: Vehicle '2_horizontal.0' performs emergency stop at the end of lane '2si_1' because of a red traffic light (decel=-10.07, offset=0.08), time=16.80.\n",
      "Warning: Vehicle '1_horizontal.0' performs emergency stop at the end of lane '1si_1' because of a red traffic light (decel=-11.19, offset=0.13), time=16.80.\n"
     ]
    },
    {
     "name": "stdout",
     "output_type": "stream",
     "text": [
      "Step #26.00"
     ]
    },
    {
     "name": "stderr",
     "output_type": "stream",
     "text": [
      "Warning: Vehicle '1_horizontal.1' performs emergency braking with decel=-9.00 wished=4.50 severity=1.00, time=26.00.\n"
     ]
    },
    {
     "name": "stdout",
     "output_type": "stream",
     "text": [
      "Step #28.40"
     ]
    },
    {
     "name": "stderr",
     "output_type": "stream",
     "text": [
      "Warning: Vehicle '2_horizontal.1' performs emergency braking with decel=-9.00 wished=4.50 severity=1.00, time=28.40.\n",
      "Warning: Vehicle '1_horizontal.1' performs emergency braking with decel=-9.00 wished=4.50 severity=1.00, time=28.40.\n",
      "Warning: Vehicle '1_horizontal.1' performs emergency stop at the end of lane '1si_1' because of a red traffic light (decel=-12.72, offset=0.02), time=28.40.\n"
     ]
    },
    {
     "name": "stdout",
     "output_type": "stream",
     "text": [
      "Step #32.60"
     ]
    },
    {
     "name": "stderr",
     "output_type": "stream",
     "text": [
      "Warning: Vehicle '4_right.0' performs emergency braking with decel=-9.00 wished=4.50 severity=1.00, time=32.00.\n",
      "Warning: Vehicle '3_left.0' performs emergency braking with decel=-9.00 wished=4.50 severity=1.00, time=32.60.\n"
     ]
    },
    {
     "name": "stdout",
     "output_type": "stream",
     "text": [
      "Step #35.20"
     ]
    },
    {
     "name": "stderr",
     "output_type": "stream",
     "text": [
      "Warning: Vehicle '4_left.0' performs emergency braking with decel=-9.00 wished=4.50 severity=1.00, time=35.00.\n",
      "Warning: Vehicle '4_left.0' performs emergency stop at the end of lane '4si_1' because of a red traffic light (decel=-11.65, offset=0.11), time=35.20.\n",
      "Warning: Vehicle '2_right.1' performs emergency braking with decel=-9.00 wished=4.50 severity=1.00, time=42.80.\n",
      "Warning: Vehicle '1_right.1' performs emergency braking with decel=-9.00 wished=4.50 severity=1.00, time=42.80.\n",
      "Warning: Vehicle '1_right.1' performs emergency stop at the end of lane '1si_0' because of a red traffic light (decel=-9.26, offset=0.04), time=43.40.\n"
     ]
    },
    {
     "name": "stdout",
     "output_type": "stream",
     "text": [
      "Step #45.40"
     ]
    },
    {
     "name": "stderr",
     "output_type": "stream",
     "text": [
      "Warning: Vehicle '2_horizontal.2' performs emergency braking with decel=-9.00 wished=4.50 severity=1.00, time=45.20.\n",
      "Warning: Vehicle '1_horizontal.2' performs emergency braking with decel=-9.00 wished=4.50 severity=1.00, time=45.20.\n",
      "Warning: Vehicle '2_horizontal.2' performs emergency stop at the end of lane '2si_1' because of a red traffic light (decel=-11.98, offset=0.03), time=45.40.\n",
      "Warning: Vehicle '3_vertical.0' performs emergency braking with decel=-9.00 wished=4.50 severity=1.00, time=53.60.\n",
      "Warning: Vehicle '3_vertical.0' performs emergency stop at the end of lane '3si_0' because of a red traffic light (decel=-11.61, offset=0.26), time=53.80.\n"
     ]
    },
    {
     "name": "stdout",
     "output_type": "stream",
     "text": [
      "Step #53.80"
     ]
    },
    {
     "name": "stderr",
     "output_type": "stream",
     "text": [
      "Warning: Vehicle '2_horizontal.3' performs emergency braking with decel=-9.00 wished=4.50 severity=1.00, time=57.20.\n"
     ]
    },
    {
     "name": "stdout",
     "output_type": "stream",
     "text": [
      "Step #59.80"
     ]
    },
    {
     "name": "stderr",
     "output_type": "stream",
     "text": [
      "Warning: Vehicle '1_horizontal.3' performs emergency braking with decel=-9.00 wished=4.50 severity=1.00, time=59.60.\n",
      "Warning: Vehicle '1_horizontal.3' performs emergency stop at the end of lane '1si_1' because of a red traffic light (decel=-12.08, offset=0.22), time=59.80.\n"
     ]
    },
    {
     "name": "stdout",
     "output_type": "stream",
     "text": [
      "Step #67.40"
     ]
    },
    {
     "name": "stderr",
     "output_type": "stream",
     "text": [
      "Warning: Vehicle '2_left.1' performs emergency braking with decel=-9.00 wished=4.50 severity=1.00, time=67.40.\n"
     ]
    },
    {
     "name": "stdout",
     "output_type": "stream",
     "text": [
      "Step #71.60"
     ]
    },
    {
     "name": "stderr",
     "output_type": "stream",
     "text": [
      "Warning: Vehicle '1_right.2' performs emergency braking with decel=-9.00 wished=4.50 severity=1.00, time=71.60.\n"
     ]
    },
    {
     "name": "stdout",
     "output_type": "stream",
     "text": [
      "Step #74.00"
     ]
    },
    {
     "name": "stderr",
     "output_type": "stream",
     "text": [
      "Warning: Vehicle '2_horizontal.4' performs emergency braking with decel=-9.00 wished=4.50 severity=1.00, time=74.00.\n"
     ]
    },
    {
     "name": "stdout",
     "output_type": "stream",
     "text": [
      "Step #78.60"
     ]
    },
    {
     "name": "stderr",
     "output_type": "stream",
     "text": [
      "Warning: Vehicle '3_left.1' performs emergency braking with decel=-9.00 wished=4.50 severity=1.00, time=78.20.\n",
      "Warning: Vehicle '3_left.1' performs emergency stop at the end of lane '3si_1' because of a red traffic light (decel=-10.86, offset=0.08), time=78.60.\n"
     ]
    },
    {
     "name": "stdout",
     "output_type": "stream",
     "text": [
      "Step #87.60 "
     ]
    },
    {
     "name": "stderr",
     "output_type": "stream",
     "text": [
      "Warning: Vehicle '2_left0.0' performs emergency braking with decel=-9.00 wished=4.50 severity=1.00, time=93.80.\n"
     ]
    },
    {
     "name": "stdout",
     "output_type": "stream",
     "text": [
      "Step #123.80"
     ]
    },
    {
     "name": "stderr",
     "output_type": "stream",
     "text": [
      "Warning: Vehicle '2_left.2' performs emergency braking with decel=-9.00 wished=4.50 severity=1.00, time=122.60.\n",
      "Warning: Vehicle '3_left.2' performs emergency braking with decel=-9.00 wished=4.50 severity=1.00, time=123.80.\n",
      "Warning: Vehicle '1_horizontal0.1' performs emergency braking with decel=-9.00 wished=4.50 severity=1.00, time=126.80.\n",
      "Warning: Vehicle '1_horizontal0.1' performs emergency stop at the end of lane '1si_1' because of a red traffic light (decel=-10.72, offset=0.11), time=127.00.\n"
     ]
    },
    {
     "name": "stdout",
     "output_type": "stream",
     "text": [
      "Step #145.00 ("
     ]
    },
    {
     "name": "stderr",
     "output_type": "stream",
     "text": [
      "Warning: Vehicle '1_left.3' performs emergency braking with decel=-9.00 wished=4.50 severity=1.00, time=146.60.\n"
     ]
    },
    {
     "name": "stdout",
     "output_type": "stream",
     "text": [
      "Step #154.00"
     ]
    },
    {
     "name": "stderr",
     "output_type": "stream",
     "text": [
      "Warning: Vehicle '2_left0.1' performs emergency braking with decel=-9.00 wished=4.50 severity=1.00, time=153.80.\n",
      "Warning: Vehicle '2_left0.1' performs emergency stop at the end of lane '2si_2' because of a red traffic light (decel=-11.12, offset=0.27), time=154.00.\n",
      "Warning: Vehicle '2_right.5' performs emergency braking with decel=-9.00 wished=4.50 severity=1.00, time=162.80.\n"
     ]
    },
    {
     "name": "stdout",
     "output_type": "stream",
     "text": [
      "Step #162.80"
     ]
    },
    {
     "name": "stderr",
     "output_type": "stream",
     "text": [
      "Warning: Vehicle '4_left.3' performs emergency braking with decel=-9.00 wished=4.50 severity=1.00, time=164.60.\n"
     ]
    },
    {
     "name": "stdout",
     "output_type": "stream",
     "text": [
      "Step #167.00"
     ]
    },
    {
     "name": "stderr",
     "output_type": "stream",
     "text": [
      "Warning: Vehicle '3_left.3' performs emergency braking with decel=-9.00 wished=4.50 severity=1.00, time=167.00.\n"
     ]
    },
    {
     "name": "stdout",
     "output_type": "stream",
     "text": [
      "Step #169.40"
     ]
    },
    {
     "name": "stderr",
     "output_type": "stream",
     "text": [
      "Warning: Vehicle '3_left.3' performs emergency braking with decel=-9.00 wished=4.50 severity=1.00, time=169.40.\n",
      "Warning: Vehicle '3_left.3' performs emergency stop at the end of lane '3si_1' because of a red traffic light (decel=-11.28, offset=0.40), time=169.40.\n"
     ]
    },
    {
     "name": "stdout",
     "output_type": "stream",
     "text": [
      "Step #171.40"
     ]
    },
    {
     "name": "stderr",
     "output_type": "stream",
     "text": [
      "Warning: Vehicle '3_vertical0.1' performs emergency braking with decel=-9.00 wished=4.50 severity=1.00, time=171.20.\n",
      "Warning: Vehicle '3_vertical0.1' performs emergency stop at the end of lane '3si_0' because of a red traffic light (decel=-10.68, offset=0.11), time=171.40.\n"
     ]
    },
    {
     "name": "stdout",
     "output_type": "stream",
     "text": [
      "Step #175.40"
     ]
    },
    {
     "name": "stderr",
     "output_type": "stream",
     "text": [
      "Warning: Vehicle '2_left.3' performs emergency braking with decel=-9.00 wished=4.50 severity=1.00, time=175.40.\n"
     ]
    },
    {
     "name": "stdout",
     "output_type": "stream",
     "text": [
      "Step #202.40 (0"
     ]
    },
    {
     "name": "stderr",
     "output_type": "stream",
     "text": [
      "Warning: Vehicle '2_left0.2' performs emergency braking with decel=-9.00 wished=4.50 severity=1.00, time=211.40.\n"
     ]
    },
    {
     "name": "stdout",
     "output_type": "stream",
     "text": [
      "Step #212.60"
     ]
    },
    {
     "name": "stderr",
     "output_type": "stream",
     "text": [
      "Warning: Vehicle '3_left.4' performs emergency braking with decel=-9.00 wished=4.50 severity=1.00, time=212.60.\n",
      "Warning: Vehicle '4_left.4' performs emergency braking with decel=-9.00 wished=4.50 severity=1.00, time=212.60.\n"
     ]
    },
    {
     "name": "stdout",
     "output_type": "stream",
     "text": [
      "Step #230.60 ("
     ]
    },
    {
     "name": "stderr",
     "output_type": "stream",
     "text": [
      "Warning: Vehicle '2_left.4' performs emergency braking with decel=-9.00 wished=4.50 severity=1.00, time=233.00.\n"
     ]
    },
    {
     "name": "stdout",
     "output_type": "stream",
     "text": [
      "Step #238.00"
     ]
    },
    {
     "name": "stderr",
     "output_type": "stream",
     "text": [
      "Warning: Vehicle '1_left.5' performs emergency braking with decel=-9.00 wished=4.50 severity=1.00, time=237.80.\n",
      "Warning: Vehicle '1_left.5' performs emergency stop at the end of lane '1si_2' because of a red traffic light (decel=-10.93, offset=0.29), time=238.00.\n"
     ]
    },
    {
     "name": "stdout",
     "output_type": "stream",
     "text": [
      "Step #247.00 "
     ]
    },
    {
     "name": "stderr",
     "output_type": "stream",
     "text": [
      "Warning: Vehicle '2_right.8' performs emergency braking with decel=-9.00 wished=4.50 severity=1.00, time=254.00.\n",
      "Warning: Vehicle '2_right.8' performs emergency stop at the end of lane '2si_0' because of a red traffic light (decel=-10.07, offset=0.17), time=254.40.\n"
     ]
    },
    {
     "name": "stdout",
     "output_type": "stream",
     "text": [
      "Step #258.20"
     ]
    },
    {
     "name": "stderr",
     "output_type": "stream",
     "text": [
      "Warning: Vehicle '4_left.5' performs emergency braking with decel=-9.00 wished=4.50 severity=1.00, time=258.20.\n"
     ]
    },
    {
     "name": "stdout",
     "output_type": "stream",
     "text": [
      "Step #267.20 "
     ]
    },
    {
     "name": "stderr",
     "output_type": "stream",
     "text": [
      "Warning: Vehicle '2_left0.3' performs emergency braking with decel=-9.00 wished=4.50 severity=1.00, time=271.40.\n"
     ]
    },
    {
     "name": "stdout",
     "output_type": "stream",
     "text": [
      "Step #282.80"
     ]
    },
    {
     "name": "stderr",
     "output_type": "stream",
     "text": [
      "Warning: Vehicle '2_right.9' performs emergency braking with decel=-9.00 wished=4.50 severity=1.00, time=282.80.\n"
     ]
    },
    {
     "name": "stdout",
     "output_type": "stream",
     "text": [
      "Step #301.40"
     ]
    },
    {
     "name": "stderr",
     "output_type": "stream",
     "text": [
      "Warning: Vehicle '4_left.6' performs emergency braking with decel=-9.00 wished=4.50 severity=1.00, time=301.40.\n"
     ]
    },
    {
     "name": "stdout",
     "output_type": "stream",
     "text": [
      "Step #311.60"
     ]
    },
    {
     "name": "stderr",
     "output_type": "stream",
     "text": [
      "Warning: Vehicle '2_right.10' performs emergency braking with decel=-9.00 wished=4.50 severity=1.00, time=311.60.\n"
     ]
    },
    {
     "name": "stdout",
     "output_type": "stream",
     "text": [
      "Step #342.80"
     ]
    },
    {
     "name": "stderr",
     "output_type": "stream",
     "text": [
      "Warning: Vehicle '2_right.11' performs emergency braking with decel=-9.00 wished=4.50 severity=1.00, time=342.80.\n"
     ]
    },
    {
     "name": "stdout",
     "output_type": "stream",
     "text": [
      "Step #347.00"
     ]
    },
    {
     "name": "stderr",
     "output_type": "stream",
     "text": [
      "Warning: Vehicle '4_left.7' performs emergency braking with decel=-9.00 wished=4.50 severity=1.00, time=347.00.\n"
     ]
    },
    {
     "name": "stdout",
     "output_type": "stream",
     "text": [
      "Step #360.20"
     ]
    },
    {
     "name": "stderr",
     "output_type": "stream",
     "text": [
      "Warning: Vehicle '1_right.9' performs emergency braking with decel=-9.00 wished=4.50 severity=1.00, time=359.60.\n",
      "Warning: Vehicle '1_left.6' performs emergency braking with decel=-9.00 wished=4.50 severity=1.00, time=360.20.\n"
     ]
    },
    {
     "name": "stdout",
     "output_type": "stream",
     "text": [
      "Step #373.60"
     ]
    },
    {
     "name": "stderr",
     "output_type": "stream",
     "text": [
      "Warning: Vehicle '3_left.5' performs emergency braking with decel=-9.00 wished=4.50 severity=1.00, time=373.40.\n",
      "Warning: Vehicle '3_left.5' performs emergency stop at the end of lane '3si_1' because of a red traffic light (decel=-11.68, offset=0.09), time=373.60.\n"
     ]
    },
    {
     "name": "stdout",
     "output_type": "stream",
     "text": [
      "Step #382.60 "
     ]
    },
    {
     "name": "stderr",
     "output_type": "stream",
     "text": [
      "Warning: Vehicle '2_left0.5' performs emergency braking with decel=-9.00 wished=4.50 severity=1.00, time=391.40.\n"
     ]
    },
    {
     "name": "stdout",
     "output_type": "stream",
     "text": [
      "Step #431.60"
     ]
    },
    {
     "name": "stderr",
     "output_type": "stream",
     "text": [
      "Warning: Vehicle '2_right.14' performs emergency braking with decel=-9.00 wished=4.50 severity=1.00, time=431.60.\n"
     ]
    },
    {
     "name": "stdout",
     "output_type": "stream",
     "text": [
      "Step #441.20"
     ]
    },
    {
     "name": "stderr",
     "output_type": "stream",
     "text": [
      "Warning: Vehicle '2_horizontal.17' performs emergency braking with decel=-9.00 wished=4.50 severity=1.00, time=441.20.\n",
      "Warning: Vehicle '2_horizontal.17' performs emergency stop at the end of lane '2si_1' because of a red traffic light (decel=-12.28, offset=0.05), time=441.20.\n"
     ]
    },
    {
     "name": "stdout",
     "output_type": "stream",
     "text": [
      "Step #459.20 ("
     ]
    },
    {
     "name": "stderr",
     "output_type": "stream",
     "text": [
      "Warning: Vehicle '3_left.6' performs emergency braking with decel=-9.00 wished=4.50 severity=1.00, time=462.20.\n",
      "Warning: Vehicle '2_right.15' performs emergency braking with decel=-9.00 wished=4.50 severity=1.00, time=462.80.\n"
     ]
    },
    {
     "name": "stdout",
     "output_type": "stream",
     "text": [
      "Step #474.20"
     ]
    },
    {
     "name": "stderr",
     "output_type": "stream",
     "text": [
      "Warning: Vehicle '4_left.8' performs emergency braking with decel=-9.00 wished=4.50 severity=1.00, time=474.20.\n"
     ]
    },
    {
     "name": "stdout",
     "output_type": "stream",
     "text": [
      "Step #482.00"
     ]
    },
    {
     "name": "stderr",
     "output_type": "stream",
     "text": [
      "Warning: Vehicle '1_right.10' performs emergency braking with decel=-9.00 wished=4.50 severity=1.00, time=482.00.\n"
     ]
    },
    {
     "name": "stdout",
     "output_type": "stream",
     "text": [
      "Step #500.00"
     ]
    },
    {
     "name": "stderr",
     "output_type": "stream",
     "text": [
      "Warning: Choosing new speed factor 1.23 for vehicle '3_vertical0.22' to match departure speed.\n",
      "Warning: Vehicle '2_left.9' performs emergency braking with decel=-9.00 wished=4.50 severity=1.00, time=509.00.\n",
      "Warning: Vehicle '2_left.9' performs emergency stop at the end of lane '2si_2' because of a red traffic light (decel=-10.18, offset=0.22), time=509.20.\n"
     ]
    },
    {
     "name": "stdout",
     "output_type": "stream",
     "text": [
      "Step #522.80"
     ]
    },
    {
     "name": "stderr",
     "output_type": "stream",
     "text": [
      "Warning: Vehicle '2_right.17' performs emergency braking with decel=-9.00 wished=4.50 severity=1.00, time=522.80.\n"
     ]
    },
    {
     "name": "stdout",
     "output_type": "stream",
     "text": [
      "Step #531.80 "
     ]
    },
    {
     "name": "stderr",
     "output_type": "stream",
     "text": [
      "Warning: Vehicle '1_left.7' performs emergency braking with decel=-9.00 wished=4.50 severity=1.00, time=537.80.\n"
     ]
    },
    {
     "name": "stdout",
     "output_type": "stream",
     "text": [
      "Step #546.80 "
     ]
    },
    {
     "name": "stderr",
     "output_type": "stream",
     "text": [
      "Warning: Vehicle '2_right.18' performs emergency braking with decel=-9.00 wished=4.50 severity=1.00, time=551.60.\n"
     ]
    },
    {
     "name": "stdout",
     "output_type": "stream",
     "text": [
      "Step #561.80"
     ]
    },
    {
     "name": "stderr",
     "output_type": "stream",
     "text": [
      "Warning: Vehicle '2_left.10' performs emergency braking with decel=-9.00 wished=4.50 severity=1.00, time=561.80.\n"
     ]
    },
    {
     "name": "stdout",
     "output_type": "stream",
     "text": [
      "Step #563.60"
     ]
    },
    {
     "name": "stderr",
     "output_type": "stream",
     "text": [
      "Warning: Vehicle '1_right.11' performs emergency braking with decel=-9.00 wished=4.50 severity=1.00, time=563.60.\n"
     ]
    },
    {
     "name": "stdout",
     "output_type": "stream",
     "text": [
      "Step #581.60 ("
     ]
    },
    {
     "name": "stderr",
     "output_type": "stream",
     "text": [
      "Warning: Vehicle '2_left0.8' performs emergency braking with decel=-9.00 wished=4.50 severity=1.00, time=588.20.\n"
     ]
    },
    {
     "name": "stdout",
     "output_type": "stream",
     "text": [
      "Step #588.20"
     ]
    },
    {
     "name": "stderr",
     "output_type": "stream",
     "text": [
      "Warning: Vehicle '2_right.19' performs emergency braking with decel=-9.00 wished=4.50 severity=1.00, time=590.00.\n"
     ]
    },
    {
     "name": "stdout",
     "output_type": "stream",
     "text": [
      "Step #590.00"
     ]
    },
    {
     "name": "stderr",
     "output_type": "stream",
     "text": [
      "Warning: Vehicle '4_left.9' performs emergency braking with decel=-9.00 wished=4.50 severity=1.00, time=599.00.\n",
      "Warning: Vehicle '4_left.9' performs emergency stop at the end of lane '4si_1' because of a red traffic light (decel=-12.03, offset=0.13), time=599.00.\n"
     ]
    },
    {
     "name": "stdout",
     "output_type": "stream",
     "text": [
      "Step #635.00"
     ]
    },
    {
     "name": "stderr",
     "output_type": "stream",
     "text": [
      "Warning: Vehicle '3_left.7' performs emergency braking with decel=-9.00 wished=4.50 severity=1.00, time=635.00.\n"
     ]
    },
    {
     "name": "stdout",
     "output_type": "stream",
     "text": [
      "Step #647.60"
     ]
    },
    {
     "name": "stderr",
     "output_type": "stream",
     "text": [
      "Warning: Vehicle '2_right.20' performs emergency braking with decel=-9.00 wished=4.50 severity=1.00, time=647.60.\n"
     ]
    },
    {
     "name": "stdout",
     "output_type": "stream",
     "text": [
      "Step #658.20"
     ]
    },
    {
     "name": "stderr",
     "output_type": "stream",
     "text": [
      "Warning: Vehicle '1_left.8' performs emergency braking with decel=-9.00 wished=4.50 severity=1.00, time=657.80.\n",
      "Warning: Vehicle '1_left.8' performs emergency stop at the end of lane '1si_2' because of a red traffic light (decel=-10.47, offset=0.19), time=658.20.\n"
     ]
    },
    {
     "name": "stdout",
     "output_type": "stream",
     "text": [
      "Step #667.20 "
     ]
    },
    {
     "name": "stderr",
     "output_type": "stream",
     "text": [
      "Warning: Vehicle '2_left.11' performs emergency braking with decel=-9.00 wished=4.50 severity=1.00, time=672.20.\n"
     ]
    },
    {
     "name": "stdout",
     "output_type": "stream",
     "text": [
      "Step #679.40"
     ]
    },
    {
     "name": "stderr",
     "output_type": "stream",
     "text": [
      "Warning: Vehicle '2_left0.9' performs emergency braking with decel=-9.00 wished=4.50 severity=1.00, time=679.40.\n"
     ]
    },
    {
     "name": "stdout",
     "output_type": "stream",
     "text": [
      "Step #681.20"
     ]
    },
    {
     "name": "stderr",
     "output_type": "stream",
     "text": [
      "Warning: Vehicle '2_right.21' performs emergency braking with decel=-9.00 wished=4.50 severity=1.00, time=681.20.\n",
      "Warning: Vehicle '2_right.21' performs emergency stop at the end of lane '2si_0' because of a red traffic light (decel=-13.05, offset=0.06), time=681.20.\n"
     ]
    },
    {
     "name": "stdout",
     "output_type": "stream",
     "text": [
      "Step #724.40"
     ]
    },
    {
     "name": "stderr",
     "output_type": "stream",
     "text": [
      "Warning: Vehicle '1_right.13' performs emergency braking with decel=-9.00 wished=4.50 severity=1.00, time=724.40.\n"
     ]
    },
    {
     "name": "stdout",
     "output_type": "stream",
     "text": [
      "Step #740.60"
     ]
    },
    {
     "name": "stderr",
     "output_type": "stream",
     "text": [
      "Warning: Vehicle '4_left.10' performs emergency braking with decel=-9.00 wished=4.50 severity=1.00, time=740.60.\n",
      "Warning: Vehicle '3_left.8' performs emergency braking with decel=-9.00 wished=4.50 severity=1.00, time=740.60.\n"
     ]
    },
    {
     "name": "stdout",
     "output_type": "stream",
     "text": [
      "Step #749.00"
     ]
    },
    {
     "name": "stderr",
     "output_type": "stream",
     "text": [
      "Warning: Vehicle '1_left.9' performs emergency braking with decel=-9.00 wished=4.50 severity=1.00, time=749.00.\n"
     ]
    },
    {
     "name": "stdout",
     "output_type": "stream",
     "text": [
      "Step #751.40"
     ]
    },
    {
     "name": "stderr",
     "output_type": "stream",
     "text": [
      "Warning: Vehicle '2_right.22' performs emergency braking with decel=-9.00 wished=4.50 severity=1.00, time=750.80.\n",
      "Warning: Vehicle '2_left.12' performs emergency braking with decel=-9.00 wished=4.50 severity=1.00, time=751.40.\n"
     ]
    },
    {
     "name": "stdout",
     "output_type": "stream",
     "text": [
      "Step #806.00"
     ]
    },
    {
     "name": "stderr",
     "output_type": "stream",
     "text": [
      "Warning: Vehicle '1_right.14' performs emergency braking with decel=-9.00 wished=4.50 severity=1.00, time=806.00.\n",
      "Warning: Vehicle '2_left0.10' performs emergency braking with decel=-9.00 wished=4.50 severity=1.00, time=806.60.\n"
     ]
    },
    {
     "name": "stdout",
     "output_type": "stream",
     "text": [
      "Step #808.40"
     ]
    },
    {
     "name": "stderr",
     "output_type": "stream",
     "text": [
      "Warning: Vehicle '2_right.23' performs emergency braking with decel=-9.00 wished=4.50 severity=1.00, time=808.40.\n"
     ]
    },
    {
     "name": "stdout",
     "output_type": "stream",
     "text": [
      "Step #810.00"
     ]
    },
    {
     "name": "stderr",
     "output_type": "stream",
     "text": [
      "Warning: Choosing new speed factor 1.24 for vehicle '1_horizontal0.38' to match departure speed.\n"
     ]
    },
    {
     "name": "stdout",
     "output_type": "stream",
     "text": [
      "Step #855.80"
     ]
    },
    {
     "name": "stderr",
     "output_type": "stream",
     "text": [
      "Warning: Vehicle '4_left.11' performs emergency braking with decel=-9.00 wished=4.50 severity=1.00, time=855.80.\n"
     ]
    },
    {
     "name": "stdout",
     "output_type": "stream",
     "text": [
      "Step #861.80"
     ]
    },
    {
     "name": "stderr",
     "output_type": "stream",
     "text": [
      "Warning: Vehicle '2_left.13' performs emergency braking with decel=-9.00 wished=4.50 severity=1.00, time=861.80.\n"
     ]
    },
    {
     "name": "stdout",
     "output_type": "stream",
     "text": [
      "Step #863.60"
     ]
    },
    {
     "name": "stderr",
     "output_type": "stream",
     "text": [
      "Warning: Vehicle '2_right.24' performs emergency braking with decel=-9.00 wished=4.50 severity=1.00, time=863.60.\n"
     ]
    },
    {
     "name": "stdout",
     "output_type": "stream",
     "text": [
      "Step #894.80"
     ]
    },
    {
     "name": "stderr",
     "output_type": "stream",
     "text": [
      "Warning: Vehicle '1_right.15' performs emergency braking with decel=-9.00 wished=4.50 severity=1.00, time=894.80.\n",
      "Warning: Vehicle '1_left.10' performs emergency braking with decel=-9.00 wished=4.50 severity=1.00, time=897.80.\n",
      "Warning: Vehicle '1_left.10' performs emergency stop at the end of lane '1si_2' because of a red traffic light (decel=-10.83, offset=0.22), time=898.20.\n"
     ]
    },
    {
     "name": "stdout",
     "output_type": "stream",
     "text": [
      "Step #916.20 ("
     ]
    },
    {
     "name": "stderr",
     "output_type": "stream",
     "text": [
      "Warning: Vehicle '2_left0.11' performs emergency braking with decel=-9.00 wished=4.50 severity=1.00, time=919.40.\n"
     ]
    },
    {
     "name": "stdout",
     "output_type": "stream",
     "text": [
      "Step #921.20"
     ]
    },
    {
     "name": "stderr",
     "output_type": "stream",
     "text": [
      "Warning: Vehicle '2_right.25' performs emergency braking with decel=-9.00 wished=4.50 severity=1.00, time=921.20.\n"
     ]
    },
    {
     "name": "stdout",
     "output_type": "stream",
     "text": [
      "Step #930.20 "
     ]
    },
    {
     "name": "stderr",
     "output_type": "stream",
     "text": [
      "Warning: Vehicle '3_left.9' performs emergency braking with decel=-9.00 wished=4.50 severity=1.00, time=935.00.\n"
     ]
    },
    {
     "name": "stdout",
     "output_type": "stream",
     "text": [
      "Step #971.00"
     ]
    },
    {
     "name": "stderr",
     "output_type": "stream",
     "text": [
      "Warning: Vehicle '4_left.12' performs emergency braking with decel=-9.00 wished=4.50 severity=1.00, time=971.00.\n"
     ]
    },
    {
     "name": "stdout",
     "output_type": "stream",
     "text": [
      "Step #975.00"
     ]
    },
    {
     "name": "stderr",
     "output_type": "stream",
     "text": [
      "Warning: Choosing new speed factor 1.30 for vehicle '1_horizontal.65' to match departure speed.\n"
     ]
    },
    {
     "name": "stdout",
     "output_type": "stream",
     "text": [
      "Step #993.00 (Cumulative Reward: -629.5514170447141\n",
      " Retrying in 1 seconds\n",
      "Loading configuration ... done.\n"
     ]
    },
    {
     "name": "stderr",
     "output_type": "stream",
     "text": [
      "Warning: Missing yellow phase in tlLogic '0', program '0' for tl-index 3 when switching to phase 0\n",
      "Warning: Missing yellow phase in tlLogic '0', program '1' for tl-index 5 when switching to phase 0\n",
      "Warning: Missing yellow phase in tlLogic '0', program '2' for tl-index 0 when switching to phase 0\n",
      "Warning: Missing yellow phase in tlLogic '0', program '3' for tl-index 2 when switching to phase 0\n"
     ]
    },
    {
     "name": "stdout",
     "output_type": "stream",
     "text": [
      "Step #313.00"
     ]
    },
    {
     "name": "stderr",
     "output_type": "stream",
     "text": [
      "Warning: Teleporting vehicle '2_right.0'; waited too long (yield), lane='2si_0', time=313.00.\n",
      "Warning: Vehicle '2_right.0' ends teleporting on edge '4o', time 313.00.\n"
     ]
    },
    {
     "name": "stdout",
     "output_type": "stream",
     "text": [
      "Step #315.20"
     ]
    },
    {
     "name": "stderr",
     "output_type": "stream",
     "text": [
      "Warning: Teleporting vehicle '1_right.0'; waited too long (yield), lane='1si_0', time=314.60.\n",
      "Warning: Vehicle '1_right.0' ends teleporting on edge '3o', time 314.60.\n",
      "Warning: Teleporting vehicle '2_left.0'; waited too long (yield), lane='2si_2', time=315.20.\n",
      "Warning: Vehicle '2_left.0' ends teleporting on edge '3o', time 315.20.\n"
     ]
    },
    {
     "name": "stdout",
     "output_type": "stream",
     "text": [
      "Step #316.00"
     ]
    },
    {
     "name": "stderr",
     "output_type": "stream",
     "text": [
      "Warning: Teleporting vehicle '1_left.0'; waited too long (yield), lane='1si_2', time=316.00.\n",
      "Warning: Vehicle '1_left.0' ends teleporting on edge '4o', time 316.00.\n"
     ]
    },
    {
     "name": "stdout",
     "output_type": "stream",
     "text": [
      "Step #317.40"
     ]
    },
    {
     "name": "stderr",
     "output_type": "stream",
     "text": [
      "Warning: Teleporting vehicle '2_horizontal.0'; waited too long (yield), lane='2si_1', time=317.20.\n",
      "Warning: Vehicle '2_horizontal.0' ends teleporting on edge '1o', time 317.20.\n",
      "Warning: Teleporting vehicle '1_horizontal.0'; waited too long (yield), lane='1si_1', time=317.40.\n",
      "Warning: Vehicle '1_horizontal.0' ends teleporting on edge '2o', time 317.40.\n"
     ]
    },
    {
     "name": "stdout",
     "output_type": "stream",
     "text": [
      "Step #334.40"
     ]
    },
    {
     "name": "stderr",
     "output_type": "stream",
     "text": [
      "Warning: Teleporting vehicle '4_right.0'; waited too long (yield), lane='4si_0', time=333.60.\n",
      "Warning: Vehicle '4_right.0' ends teleporting on edge '1o', time 333.60.\n",
      "Warning: Teleporting vehicle '3_right.0'; waited too long (yield), lane='3si_0', time=334.40.\n",
      "Warning: Vehicle '3_right.0' ends teleporting on edge '2o', time 334.40.\n"
     ]
    },
    {
     "name": "stdout",
     "output_type": "stream",
     "text": [
      "Step #335.80"
     ]
    },
    {
     "name": "stderr",
     "output_type": "stream",
     "text": [
      "Warning: Teleporting vehicle '3_left.0'; waited too long (yield), lane='3si_1', time=335.40.\n",
      "Warning: Vehicle '3_left.0' ends teleporting on edge '1o', time 335.40.\n",
      "Warning: Teleporting vehicle '4_left.0'; waited too long (yield), lane='4si_1', time=335.80.\n",
      "Warning: Vehicle '4_left.0' ends teleporting on edge '2o', time 335.80.\n"
     ]
    },
    {
     "name": "stdout",
     "output_type": "stream",
     "text": [
      "Step #500.00"
     ]
    },
    {
     "name": "stderr",
     "output_type": "stream",
     "text": [
      "Warning: Choosing new speed factor 1.23 for vehicle '3_vertical0.22' to match departure speed.\n"
     ]
    },
    {
     "name": "stdout",
     "output_type": "stream",
     "text": [
      "Step #616.40"
     ]
    },
    {
     "name": "stderr",
     "output_type": "stream",
     "text": [
      "Warning: Teleporting vehicle '2_right.1'; waited too long (yield), lane='2si_0', time=616.40.\n",
      "Warning: Vehicle '2_right.1' ends teleporting on edge '4o', time 616.40.\n",
      "Warning: Teleporting vehicle '1_right.1'; waited too long (yield), lane='1si_0', time=617.80.\n",
      "Warning: Vehicle '1_right.1' ends teleporting on edge '3o', time 617.80.\n"
     ]
    },
    {
     "name": "stdout",
     "output_type": "stream",
     "text": [
      "Step #617.80"
     ]
    },
    {
     "name": "stderr",
     "output_type": "stream",
     "text": [
      "Warning: Teleporting vehicle '2_left.1'; waited too long (yield), lane='2si_2', time=618.60.\n",
      "Warning: Vehicle '2_left.1' ends teleporting on edge '3o', time 618.60.\n",
      "Warning: Teleporting vehicle '1_left.1'; waited too long (yield), lane='1si_2', time=619.20.\n",
      "Warning: Vehicle '1_left.1' ends teleporting on edge '4o', time 619.20.\n"
     ]
    },
    {
     "name": "stdout",
     "output_type": "stream",
     "text": [
      "Step #619.20"
     ]
    },
    {
     "name": "stderr",
     "output_type": "stream",
     "text": [
      "Warning: Teleporting vehicle '2_horizontal.1'; waited too long (yield), lane='2si_1', time=620.60.\n",
      "Warning: Teleporting vehicle '1_horizontal.1'; waited too long (yield), lane='1si_1', time=620.60.\n",
      "Warning: Vehicle '1_horizontal.1' ends teleporting on edge '2o', time 620.60.\n",
      "Warning: Vehicle '2_horizontal.1' ends teleporting on edge '1o', time 620.60.\n"
     ]
    },
    {
     "name": "stdout",
     "output_type": "stream",
     "text": [
      "Step #637.80"
     ]
    },
    {
     "name": "stderr",
     "output_type": "stream",
     "text": [
      "Warning: Teleporting vehicle '4_vertical.0'; waited too long (yield), lane='4si_0', time=637.00.\n",
      "Warning: Vehicle '4_vertical.0' ends teleporting on edge '3o', time 637.00.\n",
      "Warning: Teleporting vehicle '3_vertical.0'; waited too long (yield), lane='3si_0', time=637.80.\n",
      "Warning: Vehicle '3_vertical.0' ends teleporting on edge '4o', time 637.80.\n"
     ]
    },
    {
     "name": "stdout",
     "output_type": "stream",
     "text": [
      "Step #639.00"
     ]
    },
    {
     "name": "stderr",
     "output_type": "stream",
     "text": [
      "Warning: Teleporting vehicle '3_left.1'; waited too long (yield), lane='3si_1', time=638.60.\n",
      "Warning: Vehicle '3_left.1' ends teleporting on edge '1o', time 638.60.\n",
      "Warning: Teleporting vehicle '4_left.1'; waited too long (yield), lane='4si_1', time=639.00.\n",
      "Warning: Vehicle '4_left.1' ends teleporting on edge '2o', time 639.00.\n"
     ]
    },
    {
     "name": "stdout",
     "output_type": "stream",
     "text": [
      "Step #801.00 (0ms ?*RT. ?UPS, "
     ]
    },
    {
     "name": "stderr",
     "output_type": "stream",
     "text": [
      "Warning: Choosing new speed factor 1.24 for vehicle '1_horizontal0.38' to match departure speed.\n"
     ]
    },
    {
     "name": "stdout",
     "output_type": "stream",
     "text": [
      "Step #919.80"
     ]
    },
    {
     "name": "stderr",
     "output_type": "stream",
     "text": [
      "Warning: Teleporting vehicle '2_right.2'; waited too long (yield), lane='2si_0', time=919.80.\n",
      "Warning: Vehicle '2_right.2' ends teleporting on edge '4o', time 919.80.\n"
     ]
    },
    {
     "name": "stdout",
     "output_type": "stream",
     "text": [
      "Step #923.20"
     ]
    },
    {
     "name": "stderr",
     "output_type": "stream",
     "text": [
      "Warning: Teleporting vehicle '1_left.2'; waited too long (yield), lane='1si_2', time=922.40.\n",
      "Warning: Vehicle '1_left.2' ends teleporting on edge '4o', time 922.40.\n",
      "Warning: Teleporting vehicle '2_left0.0'; waited too long (yield), lane='2si_2', time=923.20.\n",
      "Warning: Teleporting vehicle '1_right.2'; waited too long (yield), lane='1si_0', time=923.20.\n",
      "Warning: Vehicle '1_right.2' ends teleporting on edge '3o', time 923.20.\n",
      "Warning: Vehicle '2_left0.0' ends teleporting on edge '3o', time 923.20.\n"
     ]
    },
    {
     "name": "stdout",
     "output_type": "stream",
     "text": [
      "Step #924.00"
     ]
    },
    {
     "name": "stderr",
     "output_type": "stream",
     "text": [
      "Warning: Teleporting vehicle '2_horizontal.2'; waited too long (yield), lane='2si_1', time=924.00.\n",
      "Warning: Teleporting vehicle '1_horizontal.2'; waited too long (yield), lane='1si_1', time=924.00.\n",
      "Warning: Vehicle '1_horizontal.2' ends teleporting on edge '2o', time 924.00.\n",
      "Warning: Vehicle '2_horizontal.2' ends teleporting on edge '1o', time 924.00.\n"
     ]
    },
    {
     "name": "stdout",
     "output_type": "stream",
     "text": [
      "Step #941.00"
     ]
    },
    {
     "name": "stderr",
     "output_type": "stream",
     "text": [
      "Warning: Teleporting vehicle '4_right.1'; waited too long (yield), lane='4si_0', time=940.40.\n",
      "Warning: Vehicle '4_right.1' ends teleporting on edge '1o', time 940.40.\n",
      "Warning: Teleporting vehicle '3_right.1'; waited too long (yield), lane='3si_0', time=941.00.\n",
      "Warning: Vehicle '3_right.1' ends teleporting on edge '2o', time 941.00.\n"
     ]
    },
    {
     "name": "stdout",
     "output_type": "stream",
     "text": [
      "Step #942.40"
     ]
    },
    {
     "name": "stderr",
     "output_type": "stream",
     "text": [
      "Warning: Teleporting vehicle '3_left.2'; waited too long (yield), lane='3si_1', time=942.00.\n",
      "Warning: Vehicle '3_left.2' ends teleporting on edge '1o', time 942.00.\n",
      "Warning: Teleporting vehicle '4_left.2'; waited too long (yield), lane='4si_1', time=942.40.\n",
      "Warning: Vehicle '4_left.2' ends teleporting on edge '2o', time 942.40.\n"
     ]
    },
    {
     "name": "stdout",
     "output_type": "stream",
     "text": [
      "Step #969.40 (0"
     ]
    },
    {
     "name": "stderr",
     "output_type": "stream",
     "text": [
      "Warning: Choosing new speed factor 1.30 for vehicle '1_horizontal.65' to match departure speed.\n"
     ]
    },
    {
     "name": "stdout",
     "output_type": "stream",
     "text": [
      "Step #993.00 (Cumulative Reward: -11158.18175306146\n",
      " Retrying in 1 seconds\n",
      "Loading configuration ... done.\n"
     ]
    },
    {
     "name": "stderr",
     "output_type": "stream",
     "text": [
      "Warning: Missing yellow phase in tlLogic '0', program '0' for tl-index 3 when switching to phase 0\n",
      "Warning: Missing yellow phase in tlLogic '0', program '1' for tl-index 5 when switching to phase 0\n",
      "Warning: Missing yellow phase in tlLogic '0', program '2' for tl-index 0 when switching to phase 0\n",
      "Warning: Missing yellow phase in tlLogic '0', program '3' for tl-index 2 when switching to phase 0\n"
     ]
    },
    {
     "name": "stdout",
     "output_type": "stream",
     "text": [
      "Step #313.00"
     ]
    },
    {
     "name": "stderr",
     "output_type": "stream",
     "text": [
      "Warning: Teleporting vehicle '2_right.0'; waited too long (yield), lane='2si_0', time=313.00.\n",
      "Warning: Vehicle '2_right.0' ends teleporting on edge '4o', time 313.00.\n",
      "Warning: Teleporting vehicle '1_right.0'; waited too long (yield), lane='1si_0', time=314.60.\n",
      "Warning: Vehicle '1_right.0' ends teleporting on edge '3o', time 314.60.\n",
      "Warning: Teleporting vehicle '2_left.0'; waited too long (yield), lane='2si_2', time=315.20.\n",
      "Warning: Vehicle '2_left.0' ends teleporting on edge '3o', time 315.20.\n"
     ]
    },
    {
     "name": "stdout",
     "output_type": "stream",
     "text": [
      "Step #316.00"
     ]
    },
    {
     "name": "stderr",
     "output_type": "stream",
     "text": [
      "Warning: Teleporting vehicle '1_left.0'; waited too long (yield), lane='1si_2', time=316.00.\n",
      "Warning: Vehicle '1_left.0' ends teleporting on edge '4o', time 316.00.\n",
      "Warning: Teleporting vehicle '2_horizontal.0'; waited too long (yield), lane='2si_1', time=317.20.\n",
      "Warning: Vehicle '2_horizontal.0' ends teleporting on edge '1o', time 317.20.\n",
      "Warning: Teleporting vehicle '1_horizontal.0'; waited too long (yield), lane='1si_1', time=317.40.\n",
      "Warning: Vehicle '1_horizontal.0' ends teleporting on edge '2o', time 317.40.\n"
     ]
    },
    {
     "name": "stdout",
     "output_type": "stream",
     "text": [
      "Step #333.60"
     ]
    },
    {
     "name": "stderr",
     "output_type": "stream",
     "text": [
      "Warning: Teleporting vehicle '4_right.0'; waited too long (yield), lane='4si_0', time=333.60.\n",
      "Warning: Vehicle '4_right.0' ends teleporting on edge '1o', time 333.60.\n"
     ]
    },
    {
     "name": "stdout",
     "output_type": "stream",
     "text": [
      "Step #334.40"
     ]
    },
    {
     "name": "stderr",
     "output_type": "stream",
     "text": [
      "Warning: Teleporting vehicle '3_right.0'; waited too long (yield), lane='3si_0', time=334.40.\n",
      "Warning: Vehicle '3_right.0' ends teleporting on edge '2o', time 334.40.\n",
      "Warning: Teleporting vehicle '3_left.0'; waited too long (yield), lane='3si_1', time=335.40.\n",
      "Warning: Vehicle '3_left.0' ends teleporting on edge '1o', time 335.40.\n",
      "Warning: Teleporting vehicle '4_left.0'; waited too long (yield), lane='4si_1', time=335.80.\n",
      "Warning: Vehicle '4_left.0' ends teleporting on edge '2o', time 335.80.\n"
     ]
    },
    {
     "name": "stdout",
     "output_type": "stream",
     "text": [
      "Step #497.80 (1ms ~= 200.00*RT"
     ]
    },
    {
     "name": "stderr",
     "output_type": "stream",
     "text": [
      "Warning: Choosing new speed factor 1.23 for vehicle '3_vertical0.22' to match departure speed.\n"
     ]
    },
    {
     "name": "stdout",
     "output_type": "stream",
     "text": [
      "Step #608.00 (1ms ~= 200"
     ]
    },
    {
     "name": "stderr",
     "output_type": "stream",
     "text": [
      "Warning: Teleporting vehicle '2_right.1'; waited too long (yield), lane='2si_0', time=616.40.\n",
      "Warning: Vehicle '2_right.1' ends teleporting on edge '4o', time 616.40.\n"
     ]
    },
    {
     "name": "stdout",
     "output_type": "stream",
     "text": [
      "Step #618.60"
     ]
    },
    {
     "name": "stderr",
     "output_type": "stream",
     "text": [
      "Warning: Teleporting vehicle '1_right.1'; waited too long (yield), lane='1si_0', time=617.80.\n",
      "Warning: Vehicle '1_right.1' ends teleporting on edge '3o', time 617.80.\n",
      "Warning: Teleporting vehicle '2_left.1'; waited too long (yield), lane='2si_2', time=618.60.\n",
      "Warning: Vehicle '2_left.1' ends teleporting on edge '3o', time 618.60.\n",
      "Warning: Teleporting vehicle '1_left.1'; waited too long (yield), lane='1si_2', time=619.20.\n",
      "Warning: Vehicle '1_left.1' ends teleporting on edge '4o', time 619.20.\n"
     ]
    },
    {
     "name": "stdout",
     "output_type": "stream",
     "text": [
      "Step #620.60"
     ]
    },
    {
     "name": "stderr",
     "output_type": "stream",
     "text": [
      "Warning: Teleporting vehicle '2_horizontal.1'; waited too long (yield), lane='2si_1', time=620.60.\n",
      "Warning: Teleporting vehicle '1_horizontal.1'; waited too long (yield), lane='1si_1', time=620.60.\n",
      "Warning: Vehicle '1_horizontal.1' ends teleporting on edge '2o', time 620.60.\n",
      "Warning: Vehicle '2_horizontal.1' ends teleporting on edge '1o', time 620.60.\n"
     ]
    },
    {
     "name": "stdout",
     "output_type": "stream",
     "text": [
      "Step #637.80"
     ]
    },
    {
     "name": "stderr",
     "output_type": "stream",
     "text": [
      "Warning: Teleporting vehicle '4_vertical.0'; waited too long (yield), lane='4si_0', time=637.00.\n",
      "Warning: Vehicle '4_vertical.0' ends teleporting on edge '3o', time 637.00.\n",
      "Warning: Teleporting vehicle '3_vertical.0'; waited too long (yield), lane='3si_0', time=637.80.\n",
      "Warning: Vehicle '3_vertical.0' ends teleporting on edge '4o', time 637.80.\n"
     ]
    },
    {
     "name": "stdout",
     "output_type": "stream",
     "text": [
      "Step #639.00"
     ]
    },
    {
     "name": "stderr",
     "output_type": "stream",
     "text": [
      "Warning: Teleporting vehicle '3_left.1'; waited too long (yield), lane='3si_1', time=638.60.\n",
      "Warning: Vehicle '3_left.1' ends teleporting on edge '1o', time 638.60.\n",
      "Warning: Teleporting vehicle '4_left.1'; waited too long (yield), lane='4si_1', time=639.00.\n",
      "Warning: Vehicle '4_left.1' ends teleporting on edge '2o', time 639.00.\n"
     ]
    },
    {
     "name": "stdout",
     "output_type": "stream",
     "text": [
      "Step #801.00 (1ms ~= 200.00*RT"
     ]
    },
    {
     "name": "stderr",
     "output_type": "stream",
     "text": [
      "Warning: Choosing new speed factor 1.24 for vehicle '1_horizontal0.38' to match departure speed.\n"
     ]
    },
    {
     "name": "stdout",
     "output_type": "stream",
     "text": [
      "Step #919.80"
     ]
    },
    {
     "name": "stderr",
     "output_type": "stream",
     "text": [
      "Warning: Teleporting vehicle '2_right.2'; waited too long (yield), lane='2si_0', time=919.80.\n",
      "Warning: Vehicle '2_right.2' ends teleporting on edge '4o', time 919.80.\n"
     ]
    },
    {
     "name": "stdout",
     "output_type": "stream",
     "text": [
      "Step #923.20"
     ]
    },
    {
     "name": "stderr",
     "output_type": "stream",
     "text": [
      "Warning: Teleporting vehicle '1_left.2'; waited too long (yield), lane='1si_2', time=922.40.\n",
      "Warning: Vehicle '1_left.2' ends teleporting on edge '4o', time 922.40.\n",
      "Warning: Teleporting vehicle '2_left0.0'; waited too long (yield), lane='2si_2', time=923.20.\n",
      "Warning: Teleporting vehicle '1_right.2'; waited too long (yield), lane='1si_0', time=923.20.\n",
      "Warning: Vehicle '1_right.2' ends teleporting on edge '3o', time 923.20.\n",
      "Warning: Vehicle '2_left0.0' ends teleporting on edge '3o', time 923.20.\n"
     ]
    },
    {
     "name": "stdout",
     "output_type": "stream",
     "text": [
      "Step #924.00"
     ]
    },
    {
     "name": "stderr",
     "output_type": "stream",
     "text": [
      "Warning: Teleporting vehicle '2_horizontal.2'; waited too long (yield), lane='2si_1', time=924.00.\n",
      "Warning: Teleporting vehicle '1_horizontal.2'; waited too long (yield), lane='1si_1', time=924.00.\n",
      "Warning: Vehicle '1_horizontal.2' ends teleporting on edge '2o', time 924.00.\n",
      "Warning: Vehicle '2_horizontal.2' ends teleporting on edge '1o', time 924.00.\n"
     ]
    },
    {
     "name": "stdout",
     "output_type": "stream",
     "text": [
      "Step #941.00"
     ]
    },
    {
     "name": "stderr",
     "output_type": "stream",
     "text": [
      "Warning: Teleporting vehicle '4_right.1'; waited too long (yield), lane='4si_0', time=940.40.\n",
      "Warning: Vehicle '4_right.1' ends teleporting on edge '1o', time 940.40.\n",
      "Warning: Teleporting vehicle '3_right.1'; waited too long (yield), lane='3si_0', time=941.00.\n",
      "Warning: Vehicle '3_right.1' ends teleporting on edge '2o', time 941.00.\n"
     ]
    },
    {
     "name": "stdout",
     "output_type": "stream",
     "text": [
      "Step #942.40"
     ]
    },
    {
     "name": "stderr",
     "output_type": "stream",
     "text": [
      "Warning: Teleporting vehicle '3_left.2'; waited too long (yield), lane='3si_1', time=942.00.\n",
      "Warning: Vehicle '3_left.2' ends teleporting on edge '1o', time 942.00.\n",
      "Warning: Teleporting vehicle '4_left.2'; waited too long (yield), lane='4si_1', time=942.40.\n",
      "Warning: Vehicle '4_left.2' ends teleporting on edge '2o', time 942.40.\n"
     ]
    },
    {
     "name": "stdout",
     "output_type": "stream",
     "text": [
      "Step #975.00"
     ]
    },
    {
     "name": "stderr",
     "output_type": "stream",
     "text": [
      "Warning: Choosing new speed factor 1.30 for vehicle '1_horizontal.65' to match departure speed.\n"
     ]
    },
    {
     "name": "stdout",
     "output_type": "stream",
     "text": [
      "Step #993.00 (Cumulative Reward: -11158.155753061463\n",
      " Retrying in 1 seconds\n",
      "Loading configuration ... done.\n",
      "----------------------------------\n",
      "| rollout/           |           |\n",
      "|    ep_len_mean     | 5e+03     |\n",
      "|    ep_rew_mean     | -9.21e+03 |\n",
      "| time/              |           |\n",
      "|    episodes        | 4         |\n",
      "|    fps             | 7         |\n",
      "|    time_elapsed    | 2668      |\n",
      "|    total_timesteps | 20000     |\n",
      "| train/             |           |\n",
      "|    actor_loss      | 53.3      |\n",
      "|    critic_loss     | 0.951     |\n",
      "|    learning_rate   | 0.001     |\n",
      "|    n_updates       | 15000     |\n",
      "----------------------------------\n"
     ]
    },
    {
     "name": "stderr",
     "output_type": "stream",
     "text": [
      "Warning: Missing yellow phase in tlLogic '0', program '0' for tl-index 3 when switching to phase 0\n",
      "Warning: Missing yellow phase in tlLogic '0', program '1' for tl-index 5 when switching to phase 0\n",
      "Warning: Missing yellow phase in tlLogic '0', program '2' for tl-index 0 when switching to phase 0\n",
      "Warning: Missing yellow phase in tlLogic '0', program '3' for tl-index 2 when switching to phase 0\n"
     ]
    },
    {
     "name": "stdout",
     "output_type": "stream",
     "text": [
      "Step #313.00"
     ]
    },
    {
     "name": "stderr",
     "output_type": "stream",
     "text": [
      "Warning: Teleporting vehicle '2_right.0'; waited too long (yield), lane='2si_0', time=313.00.\n",
      "Warning: Vehicle '2_right.0' ends teleporting on edge '4o', time 313.00.\n"
     ]
    },
    {
     "name": "stdout",
     "output_type": "stream",
     "text": [
      "Step #315.20"
     ]
    },
    {
     "name": "stderr",
     "output_type": "stream",
     "text": [
      "Warning: Teleporting vehicle '1_right.0'; waited too long (yield), lane='1si_0', time=314.60.\n",
      "Warning: Vehicle '1_right.0' ends teleporting on edge '3o', time 314.60.\n",
      "Warning: Teleporting vehicle '2_left.0'; waited too long (yield), lane='2si_2', time=315.20.\n",
      "Warning: Vehicle '2_left.0' ends teleporting on edge '3o', time 315.20.\n"
     ]
    },
    {
     "name": "stdout",
     "output_type": "stream",
     "text": [
      "Step #316.00"
     ]
    },
    {
     "name": "stderr",
     "output_type": "stream",
     "text": [
      "Warning: Teleporting vehicle '1_left.0'; waited too long (yield), lane='1si_2', time=316.00.\n",
      "Warning: Vehicle '1_left.0' ends teleporting on edge '4o', time 316.00.\n"
     ]
    },
    {
     "name": "stdout",
     "output_type": "stream",
     "text": [
      "Step #317.40"
     ]
    },
    {
     "name": "stderr",
     "output_type": "stream",
     "text": [
      "Warning: Teleporting vehicle '2_horizontal.0'; waited too long (yield), lane='2si_1', time=317.20.\n",
      "Warning: Vehicle '2_horizontal.0' ends teleporting on edge '1o', time 317.20.\n",
      "Warning: Teleporting vehicle '1_horizontal.0'; waited too long (yield), lane='1si_1', time=317.40.\n",
      "Warning: Vehicle '1_horizontal.0' ends teleporting on edge '2o', time 317.40.\n"
     ]
    },
    {
     "name": "stdout",
     "output_type": "stream",
     "text": [
      "Step #333.60"
     ]
    },
    {
     "name": "stderr",
     "output_type": "stream",
     "text": [
      "Warning: Teleporting vehicle '4_right.0'; waited too long (yield), lane='4si_0', time=333.60.\n",
      "Warning: Vehicle '4_right.0' ends teleporting on edge '1o', time 333.60.\n"
     ]
    },
    {
     "name": "stdout",
     "output_type": "stream",
     "text": [
      "Step #334.40"
     ]
    },
    {
     "name": "stderr",
     "output_type": "stream",
     "text": [
      "Warning: Teleporting vehicle '3_right.0'; waited too long (yield), lane='3si_0', time=334.40.\n",
      "Warning: Vehicle '3_right.0' ends teleporting on edge '2o', time 334.40.\n"
     ]
    },
    {
     "name": "stdout",
     "output_type": "stream",
     "text": [
      "Step #335.80"
     ]
    },
    {
     "name": "stderr",
     "output_type": "stream",
     "text": [
      "Warning: Teleporting vehicle '3_left.0'; waited too long (yield), lane='3si_1', time=335.40.\n",
      "Warning: Vehicle '3_left.0' ends teleporting on edge '1o', time 335.40.\n",
      "Warning: Teleporting vehicle '4_left.0'; waited too long (yield), lane='4si_1', time=335.80.\n",
      "Warning: Vehicle '4_left.0' ends teleporting on edge '2o', time 335.80.\n"
     ]
    },
    {
     "name": "stdout",
     "output_type": "stream",
     "text": [
      "Step #497.80 (1ms ~= 200.00*RT"
     ]
    },
    {
     "name": "stderr",
     "output_type": "stream",
     "text": [
      "Warning: Choosing new speed factor 1.23 for vehicle '3_vertical0.22' to match departure speed.\n"
     ]
    },
    {
     "name": "stdout",
     "output_type": "stream",
     "text": [
      "Step #616.40"
     ]
    },
    {
     "name": "stderr",
     "output_type": "stream",
     "text": [
      "Warning: Teleporting vehicle '2_right.1'; waited too long (yield), lane='2si_0', time=616.40.\n",
      "Warning: Vehicle '2_right.1' ends teleporting on edge '4o', time 616.40.\n"
     ]
    },
    {
     "name": "stdout",
     "output_type": "stream",
     "text": [
      "Step #618.60"
     ]
    },
    {
     "name": "stderr",
     "output_type": "stream",
     "text": [
      "Warning: Teleporting vehicle '1_right.1'; waited too long (yield), lane='1si_0', time=617.80.\n",
      "Warning: Vehicle '1_right.1' ends teleporting on edge '3o', time 617.80.\n",
      "Warning: Teleporting vehicle '2_left.1'; waited too long (yield), lane='2si_2', time=618.60.\n",
      "Warning: Vehicle '2_left.1' ends teleporting on edge '3o', time 618.60.\n",
      "Warning: Teleporting vehicle '1_left.1'; waited too long (yield), lane='1si_2', time=619.20.\n",
      "Warning: Vehicle '1_left.1' ends teleporting on edge '4o', time 619.20.\n"
     ]
    },
    {
     "name": "stdout",
     "output_type": "stream",
     "text": [
      "Step #620.60"
     ]
    },
    {
     "name": "stderr",
     "output_type": "stream",
     "text": [
      "Warning: Teleporting vehicle '2_horizontal.1'; waited too long (yield), lane='2si_1', time=620.60.\n",
      "Warning: Teleporting vehicle '1_horizontal.1'; waited too long (yield), lane='1si_1', time=620.60.\n",
      "Warning: Vehicle '1_horizontal.1' ends teleporting on edge '2o', time 620.60.\n",
      "Warning: Vehicle '2_horizontal.1' ends teleporting on edge '1o', time 620.60.\n"
     ]
    },
    {
     "name": "stdout",
     "output_type": "stream",
     "text": [
      "Step #637.80"
     ]
    },
    {
     "name": "stderr",
     "output_type": "stream",
     "text": [
      "Warning: Teleporting vehicle '4_vertical.0'; waited too long (yield), lane='4si_0', time=637.00.\n",
      "Warning: Vehicle '4_vertical.0' ends teleporting on edge '3o', time 637.00.\n",
      "Warning: Teleporting vehicle '3_vertical.0'; waited too long (yield), lane='3si_0', time=637.80.\n",
      "Warning: Vehicle '3_vertical.0' ends teleporting on edge '4o', time 637.80.\n",
      "Warning: Teleporting vehicle '3_left.1'; waited too long (yield), lane='3si_1', time=638.60.\n",
      "Warning: Vehicle '3_left.1' ends teleporting on edge '1o', time 638.60.\n",
      "Warning: Teleporting vehicle '4_left.1'; waited too long (yield), lane='4si_1', time=639.00.\n",
      "Warning: Vehicle '4_left.1' ends teleporting on edge '2o', time 639.00.\n"
     ]
    },
    {
     "name": "stdout",
     "output_type": "stream",
     "text": [
      "Step #810.00"
     ]
    },
    {
     "name": "stderr",
     "output_type": "stream",
     "text": [
      "Warning: Choosing new speed factor 1.24 for vehicle '1_horizontal0.38' to match departure speed.\n"
     ]
    },
    {
     "name": "stdout",
     "output_type": "stream",
     "text": [
      "Step #919.80"
     ]
    },
    {
     "name": "stderr",
     "output_type": "stream",
     "text": [
      "Warning: Teleporting vehicle '2_right.2'; waited too long (yield), lane='2si_0', time=919.80.\n",
      "Warning: Vehicle '2_right.2' ends teleporting on edge '4o', time 919.80.\n",
      "Warning: Teleporting vehicle '1_left.2'; waited too long (yield), lane='1si_2', time=922.40.\n",
      "Warning: Vehicle '1_left.2' ends teleporting on edge '4o', time 922.40.\n",
      "Warning: Teleporting vehicle '2_left0.0'; waited too long (yield), lane='2si_2', time=923.20.\n",
      "Warning: Teleporting vehicle '1_right.2'; waited too long (yield), lane='1si_0', time=923.20.\n",
      "Warning: Vehicle '1_right.2' ends teleporting on edge '3o', time 923.20.\n",
      "Warning: Vehicle '2_left0.0' ends teleporting on edge '3o', time 923.20.\n"
     ]
    },
    {
     "name": "stdout",
     "output_type": "stream",
     "text": [
      "Step #924.00"
     ]
    },
    {
     "name": "stderr",
     "output_type": "stream",
     "text": [
      "Warning: Teleporting vehicle '2_horizontal.2'; waited too long (yield), lane='2si_1', time=924.00.\n",
      "Warning: Teleporting vehicle '1_horizontal.2'; waited too long (yield), lane='1si_1', time=924.00.\n",
      "Warning: Vehicle '1_horizontal.2' ends teleporting on edge '2o', time 924.00.\n",
      "Warning: Vehicle '2_horizontal.2' ends teleporting on edge '1o', time 924.00.\n"
     ]
    },
    {
     "name": "stdout",
     "output_type": "stream",
     "text": [
      "Step #933.00 "
     ]
    },
    {
     "name": "stderr",
     "output_type": "stream",
     "text": [
      "Warning: Teleporting vehicle '4_right.1'; waited too long (yield), lane='4si_0', time=940.40.\n",
      "Warning: Vehicle '4_right.1' ends teleporting on edge '1o', time 940.40.\n",
      "Warning: Teleporting vehicle '3_right.1'; waited too long (yield), lane='3si_0', time=941.00.\n",
      "Warning: Vehicle '3_right.1' ends teleporting on edge '2o', time 941.00.\n"
     ]
    },
    {
     "name": "stdout",
     "output_type": "stream",
     "text": [
      "Step #942.40"
     ]
    },
    {
     "name": "stderr",
     "output_type": "stream",
     "text": [
      "Warning: Teleporting vehicle '3_left.2'; waited too long (yield), lane='3si_1', time=942.00.\n",
      "Warning: Vehicle '3_left.2' ends teleporting on edge '1o', time 942.00.\n",
      "Warning: Teleporting vehicle '4_left.2'; waited too long (yield), lane='4si_1', time=942.40.\n",
      "Warning: Vehicle '4_left.2' ends teleporting on edge '2o', time 942.40.\n"
     ]
    },
    {
     "name": "stdout",
     "output_type": "stream",
     "text": [
      "Step #975.00"
     ]
    },
    {
     "name": "stderr",
     "output_type": "stream",
     "text": [
      "Warning: Choosing new speed factor 1.30 for vehicle '1_horizontal.65' to match departure speed.\n"
     ]
    },
    {
     "name": "stdout",
     "output_type": "stream",
     "text": [
      "Step #993.00 (Cumulative Reward: -11158.153753061462\n",
      " Retrying in 1 seconds\n",
      "Loading configuration ... done.\n"
     ]
    },
    {
     "name": "stderr",
     "output_type": "stream",
     "text": [
      "Warning: Missing yellow phase in tlLogic '0', program '0' for tl-index 3 when switching to phase 0\n",
      "Warning: Missing yellow phase in tlLogic '0', program '1' for tl-index 5 when switching to phase 0\n",
      "Warning: Missing yellow phase in tlLogic '0', program '2' for tl-index 0 when switching to phase 0\n",
      "Warning: Missing yellow phase in tlLogic '0', program '3' for tl-index 2 when switching to phase 0\n"
     ]
    },
    {
     "name": "stdout",
     "output_type": "stream",
     "text": [
      "Step #313.00"
     ]
    },
    {
     "name": "stderr",
     "output_type": "stream",
     "text": [
      "Warning: Teleporting vehicle '2_right.0'; waited too long (yield), lane='2si_0', time=313.00.\n",
      "Warning: Vehicle '2_right.0' ends teleporting on edge '4o', time 313.00.\n"
     ]
    },
    {
     "name": "stdout",
     "output_type": "stream",
     "text": [
      "Step #315.20"
     ]
    },
    {
     "name": "stderr",
     "output_type": "stream",
     "text": [
      "Warning: Teleporting vehicle '1_right.0'; waited too long (yield), lane='1si_0', time=314.60.\n",
      "Warning: Vehicle '1_right.0' ends teleporting on edge '3o', time 314.60.\n",
      "Warning: Teleporting vehicle '2_left.0'; waited too long (yield), lane='2si_2', time=315.20.\n",
      "Warning: Vehicle '2_left.0' ends teleporting on edge '3o', time 315.20.\n"
     ]
    },
    {
     "name": "stdout",
     "output_type": "stream",
     "text": [
      "Step #316.00"
     ]
    },
    {
     "name": "stderr",
     "output_type": "stream",
     "text": [
      "Warning: Teleporting vehicle '1_left.0'; waited too long (yield), lane='1si_2', time=316.00.\n",
      "Warning: Vehicle '1_left.0' ends teleporting on edge '4o', time 316.00.\n"
     ]
    },
    {
     "name": "stdout",
     "output_type": "stream",
     "text": [
      "Step #317.40"
     ]
    },
    {
     "name": "stderr",
     "output_type": "stream",
     "text": [
      "Warning: Teleporting vehicle '2_horizontal.0'; waited too long (yield), lane='2si_1', time=317.20.\n",
      "Warning: Vehicle '2_horizontal.0' ends teleporting on edge '1o', time 317.20.\n",
      "Warning: Teleporting vehicle '1_horizontal.0'; waited too long (yield), lane='1si_1', time=317.40.\n",
      "Warning: Vehicle '1_horizontal.0' ends teleporting on edge '2o', time 317.40.\n"
     ]
    },
    {
     "name": "stdout",
     "output_type": "stream",
     "text": [
      "Step #326.40 "
     ]
    },
    {
     "name": "stderr",
     "output_type": "stream",
     "text": [
      "Warning: Teleporting vehicle '4_right.0'; waited too long (yield), lane='4si_0', time=333.60.\n",
      "Warning: Vehicle '4_right.0' ends teleporting on edge '1o', time 333.60.\n",
      "Warning: Teleporting vehicle '3_right.0'; waited too long (yield), lane='3si_0', time=334.40.\n",
      "Warning: Vehicle '3_right.0' ends teleporting on edge '2o', time 334.40.\n"
     ]
    },
    {
     "name": "stdout",
     "output_type": "stream",
     "text": [
      "Step #334.40"
     ]
    },
    {
     "name": "stderr",
     "output_type": "stream",
     "text": [
      "Warning: Teleporting vehicle '3_left.0'; waited too long (yield), lane='3si_1', time=335.40.\n",
      "Warning: Vehicle '3_left.0' ends teleporting on edge '1o', time 335.40.\n",
      "Warning: Teleporting vehicle '4_left.0'; waited too long (yield), lane='4si_1', time=335.80.\n",
      "Warning: Vehicle '4_left.0' ends teleporting on edge '2o', time 335.80.\n"
     ]
    },
    {
     "name": "stdout",
     "output_type": "stream",
     "text": [
      "Step #500.00"
     ]
    },
    {
     "name": "stderr",
     "output_type": "stream",
     "text": [
      "Warning: Choosing new speed factor 1.23 for vehicle '3_vertical0.22' to match departure speed.\n"
     ]
    },
    {
     "name": "stdout",
     "output_type": "stream",
     "text": [
      "Step #616.40"
     ]
    },
    {
     "name": "stderr",
     "output_type": "stream",
     "text": [
      "Warning: Teleporting vehicle '2_right.1'; waited too long (yield), lane='2si_0', time=616.40.\n",
      "Warning: Vehicle '2_right.1' ends teleporting on edge '4o', time 616.40.\n",
      "Warning: Teleporting vehicle '1_right.1'; waited too long (yield), lane='1si_0', time=617.80.\n",
      "Warning: Vehicle '1_right.1' ends teleporting on edge '3o', time 617.80.\n"
     ]
    },
    {
     "name": "stdout",
     "output_type": "stream",
     "text": [
      "Step #619.20"
     ]
    },
    {
     "name": "stderr",
     "output_type": "stream",
     "text": [
      "Warning: Teleporting vehicle '2_left.1'; waited too long (yield), lane='2si_2', time=618.60.\n",
      "Warning: Vehicle '2_left.1' ends teleporting on edge '3o', time 618.60.\n",
      "Warning: Teleporting vehicle '1_left.1'; waited too long (yield), lane='1si_2', time=619.20.\n",
      "Warning: Vehicle '1_left.1' ends teleporting on edge '4o', time 619.20.\n"
     ]
    },
    {
     "name": "stdout",
     "output_type": "stream",
     "text": [
      "Step #620.60"
     ]
    },
    {
     "name": "stderr",
     "output_type": "stream",
     "text": [
      "Warning: Teleporting vehicle '2_horizontal.1'; waited too long (yield), lane='2si_1', time=620.60.\n",
      "Warning: Teleporting vehicle '1_horizontal.1'; waited too long (yield), lane='1si_1', time=620.60.\n",
      "Warning: Vehicle '1_horizontal.1' ends teleporting on edge '2o', time 620.60.\n",
      "Warning: Vehicle '2_horizontal.1' ends teleporting on edge '1o', time 620.60.\n"
     ]
    },
    {
     "name": "stdout",
     "output_type": "stream",
     "text": [
      "Step #629.60 "
     ]
    },
    {
     "name": "stderr",
     "output_type": "stream",
     "text": [
      "Warning: Teleporting vehicle '4_vertical.0'; waited too long (yield), lane='4si_0', time=637.00.\n",
      "Warning: Vehicle '4_vertical.0' ends teleporting on edge '3o', time 637.00.\n",
      "Warning: Teleporting vehicle '3_vertical.0'; waited too long (yield), lane='3si_0', time=637.80.\n",
      "Warning: Vehicle '3_vertical.0' ends teleporting on edge '4o', time 637.80.\n"
     ]
    },
    {
     "name": "stdout",
     "output_type": "stream",
     "text": [
      "Step #639.00"
     ]
    },
    {
     "name": "stderr",
     "output_type": "stream",
     "text": [
      "Warning: Teleporting vehicle '3_left.1'; waited too long (yield), lane='3si_1', time=638.60.\n",
      "Warning: Vehicle '3_left.1' ends teleporting on edge '1o', time 638.60.\n",
      "Warning: Teleporting vehicle '4_left.1'; waited too long (yield), lane='4si_1', time=639.00.\n",
      "Warning: Vehicle '4_left.1' ends teleporting on edge '2o', time 639.00.\n"
     ]
    },
    {
     "name": "stdout",
     "output_type": "stream",
     "text": [
      "Step #810.00"
     ]
    },
    {
     "name": "stderr",
     "output_type": "stream",
     "text": [
      "Warning: Choosing new speed factor 1.24 for vehicle '1_horizontal0.38' to match departure speed.\n"
     ]
    },
    {
     "name": "stdout",
     "output_type": "stream",
     "text": [
      "Step #919.80"
     ]
    },
    {
     "name": "stderr",
     "output_type": "stream",
     "text": [
      "Warning: Teleporting vehicle '2_right.2'; waited too long (yield), lane='2si_0', time=919.80.\n",
      "Warning: Vehicle '2_right.2' ends teleporting on edge '4o', time 919.80.\n"
     ]
    },
    {
     "name": "stdout",
     "output_type": "stream",
     "text": [
      "Step #923.20"
     ]
    },
    {
     "name": "stderr",
     "output_type": "stream",
     "text": [
      "Warning: Teleporting vehicle '1_left.2'; waited too long (yield), lane='1si_2', time=922.40.\n",
      "Warning: Vehicle '1_left.2' ends teleporting on edge '4o', time 922.40.\n",
      "Warning: Teleporting vehicle '2_left0.0'; waited too long (yield), lane='2si_2', time=923.20.\n",
      "Warning: Teleporting vehicle '1_right.2'; waited too long (yield), lane='1si_0', time=923.20.\n",
      "Warning: Vehicle '1_right.2' ends teleporting on edge '3o', time 923.20.\n",
      "Warning: Vehicle '2_left0.0' ends teleporting on edge '3o', time 923.20.\n",
      "Warning: Teleporting vehicle '2_horizontal.2'; waited too long (yield), lane='2si_1', time=924.00.\n",
      "Warning: Teleporting vehicle '1_horizontal.2'; waited too long (yield), lane='1si_1', time=924.00.\n",
      "Warning: Vehicle '1_horizontal.2' ends teleporting on edge '2o', time 924.00.\n",
      "Warning: Vehicle '2_horizontal.2' ends teleporting on edge '1o', time 924.00.\n"
     ]
    },
    {
     "name": "stdout",
     "output_type": "stream",
     "text": [
      "Step #941.00"
     ]
    },
    {
     "name": "stderr",
     "output_type": "stream",
     "text": [
      "Warning: Teleporting vehicle '4_right.1'; waited too long (yield), lane='4si_0', time=940.40.\n",
      "Warning: Vehicle '4_right.1' ends teleporting on edge '1o', time 940.40.\n",
      "Warning: Teleporting vehicle '3_right.1'; waited too long (yield), lane='3si_0', time=941.00.\n",
      "Warning: Vehicle '3_right.1' ends teleporting on edge '2o', time 941.00.\n",
      "Warning: Teleporting vehicle '3_left.2'; waited too long (yield), lane='3si_1', time=942.00.\n",
      "Warning: Vehicle '3_left.2' ends teleporting on edge '1o', time 942.00.\n",
      "Warning: Teleporting vehicle '4_left.2'; waited too long (yield), lane='4si_1', time=942.40.\n",
      "Warning: Vehicle '4_left.2' ends teleporting on edge '2o', time 942.40.\n"
     ]
    },
    {
     "name": "stdout",
     "output_type": "stream",
     "text": [
      "Step #975.00"
     ]
    },
    {
     "name": "stderr",
     "output_type": "stream",
     "text": [
      "Warning: Choosing new speed factor 1.30 for vehicle '1_horizontal.65' to match departure speed.\n"
     ]
    },
    {
     "name": "stdout",
     "output_type": "stream",
     "text": [
      "Step #993.00 (Cumulative Reward: -11158.153753061462\n",
      " Retrying in 1 seconds\n",
      "Loading configuration ... done.\n"
     ]
    },
    {
     "name": "stderr",
     "output_type": "stream",
     "text": [
      "Warning: Missing yellow phase in tlLogic '0', program '0' for tl-index 3 when switching to phase 0\n",
      "Warning: Missing yellow phase in tlLogic '0', program '1' for tl-index 5 when switching to phase 0\n",
      "Warning: Missing yellow phase in tlLogic '0', program '2' for tl-index 0 when switching to phase 0\n",
      "Warning: Missing yellow phase in tlLogic '0', program '3' for tl-index 2 when switching to phase 0\n"
     ]
    },
    {
     "name": "stdout",
     "output_type": "stream",
     "text": [
      "Step #313.00"
     ]
    },
    {
     "name": "stderr",
     "output_type": "stream",
     "text": [
      "Warning: Teleporting vehicle '2_right.0'; waited too long (yield), lane='2si_0', time=313.00.\n",
      "Warning: Vehicle '2_right.0' ends teleporting on edge '4o', time 313.00.\n",
      "Warning: Teleporting vehicle '1_right.0'; waited too long (yield), lane='1si_0', time=314.60.\n",
      "Warning: Vehicle '1_right.0' ends teleporting on edge '3o', time 314.60.\n",
      "Warning: Teleporting vehicle '2_left.0'; waited too long (yield), lane='2si_2', time=315.20.\n",
      "Warning: Vehicle '2_left.0' ends teleporting on edge '3o', time 315.20.\n"
     ]
    },
    {
     "name": "stdout",
     "output_type": "stream",
     "text": [
      "Step #316.00"
     ]
    },
    {
     "name": "stderr",
     "output_type": "stream",
     "text": [
      "Warning: Teleporting vehicle '1_left.0'; waited too long (yield), lane='1si_2', time=316.00.\n",
      "Warning: Vehicle '1_left.0' ends teleporting on edge '4o', time 316.00.\n"
     ]
    },
    {
     "name": "stdout",
     "output_type": "stream",
     "text": [
      "Step #317.40"
     ]
    },
    {
     "name": "stderr",
     "output_type": "stream",
     "text": [
      "Warning: Teleporting vehicle '2_horizontal.0'; waited too long (yield), lane='2si_1', time=317.20.\n",
      "Warning: Vehicle '2_horizontal.0' ends teleporting on edge '1o', time 317.20.\n",
      "Warning: Teleporting vehicle '1_horizontal.0'; waited too long (yield), lane='1si_1', time=317.40.\n",
      "Warning: Vehicle '1_horizontal.0' ends teleporting on edge '2o', time 317.40.\n"
     ]
    },
    {
     "name": "stdout",
     "output_type": "stream",
     "text": [
      "Step #333.60"
     ]
    },
    {
     "name": "stderr",
     "output_type": "stream",
     "text": [
      "Warning: Teleporting vehicle '4_right.0'; waited too long (yield), lane='4si_0', time=333.60.\n",
      "Warning: Vehicle '4_right.0' ends teleporting on edge '1o', time 333.60.\n"
     ]
    },
    {
     "name": "stdout",
     "output_type": "stream",
     "text": [
      "Step #334.40"
     ]
    },
    {
     "name": "stderr",
     "output_type": "stream",
     "text": [
      "Warning: Teleporting vehicle '3_right.0'; waited too long (yield), lane='3si_0', time=334.40.\n",
      "Warning: Vehicle '3_right.0' ends teleporting on edge '2o', time 334.40.\n"
     ]
    },
    {
     "name": "stdout",
     "output_type": "stream",
     "text": [
      "Step #335.80"
     ]
    },
    {
     "name": "stderr",
     "output_type": "stream",
     "text": [
      "Warning: Teleporting vehicle '3_left.0'; waited too long (yield), lane='3si_1', time=335.40.\n",
      "Warning: Vehicle '3_left.0' ends teleporting on edge '1o', time 335.40.\n",
      "Warning: Teleporting vehicle '4_left.0'; waited too long (yield), lane='4si_1', time=335.80.\n",
      "Warning: Vehicle '4_left.0' ends teleporting on edge '2o', time 335.80.\n"
     ]
    },
    {
     "name": "stdout",
     "output_type": "stream",
     "text": [
      "Step #500.00"
     ]
    },
    {
     "name": "stderr",
     "output_type": "stream",
     "text": [
      "Warning: Choosing new speed factor 1.23 for vehicle '3_vertical0.22' to match departure speed.\n"
     ]
    },
    {
     "name": "stdout",
     "output_type": "stream",
     "text": [
      "Step #616.40"
     ]
    },
    {
     "name": "stderr",
     "output_type": "stream",
     "text": [
      "Warning: Teleporting vehicle '2_right.1'; waited too long (yield), lane='2si_0', time=616.40.\n",
      "Warning: Vehicle '2_right.1' ends teleporting on edge '4o', time 616.40.\n"
     ]
    },
    {
     "name": "stdout",
     "output_type": "stream",
     "text": [
      "Step #618.60"
     ]
    },
    {
     "name": "stderr",
     "output_type": "stream",
     "text": [
      "Warning: Teleporting vehicle '1_right.1'; waited too long (yield), lane='1si_0', time=617.80.\n",
      "Warning: Vehicle '1_right.1' ends teleporting on edge '3o', time 617.80.\n",
      "Warning: Teleporting vehicle '2_left.1'; waited too long (yield), lane='2si_2', time=618.60.\n",
      "Warning: Vehicle '2_left.1' ends teleporting on edge '3o', time 618.60.\n"
     ]
    },
    {
     "name": "stdout",
     "output_type": "stream",
     "text": [
      "Step #619.20"
     ]
    },
    {
     "name": "stderr",
     "output_type": "stream",
     "text": [
      "Warning: Teleporting vehicle '1_left.1'; waited too long (yield), lane='1si_2', time=619.20.\n",
      "Warning: Vehicle '1_left.1' ends teleporting on edge '4o', time 619.20.\n"
     ]
    },
    {
     "name": "stdout",
     "output_type": "stream",
     "text": [
      "Step #620.60"
     ]
    },
    {
     "name": "stderr",
     "output_type": "stream",
     "text": [
      "Warning: Teleporting vehicle '2_horizontal.1'; waited too long (yield), lane='2si_1', time=620.60.\n",
      "Warning: Teleporting vehicle '1_horizontal.1'; waited too long (yield), lane='1si_1', time=620.60.\n",
      "Warning: Vehicle '1_horizontal.1' ends teleporting on edge '2o', time 620.60.\n",
      "Warning: Vehicle '2_horizontal.1' ends teleporting on edge '1o', time 620.60.\n"
     ]
    },
    {
     "name": "stdout",
     "output_type": "stream",
     "text": [
      "Step #637.80"
     ]
    },
    {
     "name": "stderr",
     "output_type": "stream",
     "text": [
      "Warning: Teleporting vehicle '4_vertical.0'; waited too long (yield), lane='4si_0', time=637.00.\n",
      "Warning: Vehicle '4_vertical.0' ends teleporting on edge '3o', time 637.00.\n",
      "Warning: Teleporting vehicle '3_vertical.0'; waited too long (yield), lane='3si_0', time=637.80.\n",
      "Warning: Vehicle '3_vertical.0' ends teleporting on edge '4o', time 637.80.\n"
     ]
    },
    {
     "name": "stdout",
     "output_type": "stream",
     "text": [
      "Step #639.00"
     ]
    },
    {
     "name": "stderr",
     "output_type": "stream",
     "text": [
      "Warning: Teleporting vehicle '3_left.1'; waited too long (yield), lane='3si_1', time=638.60.\n",
      "Warning: Vehicle '3_left.1' ends teleporting on edge '1o', time 638.60.\n",
      "Warning: Teleporting vehicle '4_left.1'; waited too long (yield), lane='4si_1', time=639.00.\n",
      "Warning: Vehicle '4_left.1' ends teleporting on edge '2o', time 639.00.\n"
     ]
    },
    {
     "name": "stdout",
     "output_type": "stream",
     "text": [
      "Step #810.00"
     ]
    },
    {
     "name": "stderr",
     "output_type": "stream",
     "text": [
      "Warning: Choosing new speed factor 1.24 for vehicle '1_horizontal0.38' to match departure speed.\n"
     ]
    },
    {
     "name": "stdout",
     "output_type": "stream",
     "text": [
      "Step #918.00 (1ms ~= 200"
     ]
    },
    {
     "name": "stderr",
     "output_type": "stream",
     "text": [
      "Warning: Teleporting vehicle '2_right.2'; waited too long (yield), lane='2si_0', time=919.80.\n",
      "Warning: Vehicle '2_right.2' ends teleporting on edge '4o', time 919.80.\n"
     ]
    },
    {
     "name": "stdout",
     "output_type": "stream",
     "text": [
      "Step #923.20"
     ]
    },
    {
     "name": "stderr",
     "output_type": "stream",
     "text": [
      "Warning: Teleporting vehicle '1_left.2'; waited too long (yield), lane='1si_2', time=922.40.\n",
      "Warning: Vehicle '1_left.2' ends teleporting on edge '4o', time 922.40.\n",
      "Warning: Teleporting vehicle '2_left0.0'; waited too long (yield), lane='2si_2', time=923.20.\n",
      "Warning: Teleporting vehicle '1_right.2'; waited too long (yield), lane='1si_0', time=923.20.\n",
      "Warning: Vehicle '1_right.2' ends teleporting on edge '3o', time 923.20.\n",
      "Warning: Vehicle '2_left0.0' ends teleporting on edge '3o', time 923.20.\n"
     ]
    },
    {
     "name": "stdout",
     "output_type": "stream",
     "text": [
      "Step #924.00"
     ]
    },
    {
     "name": "stderr",
     "output_type": "stream",
     "text": [
      "Warning: Teleporting vehicle '2_horizontal.2'; waited too long (yield), lane='2si_1', time=924.00.\n",
      "Warning: Teleporting vehicle '1_horizontal.2'; waited too long (yield), lane='1si_1', time=924.00.\n",
      "Warning: Vehicle '1_horizontal.2' ends teleporting on edge '2o', time 924.00.\n",
      "Warning: Vehicle '2_horizontal.2' ends teleporting on edge '1o', time 924.00.\n"
     ]
    },
    {
     "name": "stdout",
     "output_type": "stream",
     "text": [
      "Step #941.00"
     ]
    },
    {
     "name": "stderr",
     "output_type": "stream",
     "text": [
      "Warning: Teleporting vehicle '4_right.1'; waited too long (yield), lane='4si_0', time=940.40.\n",
      "Warning: Vehicle '4_right.1' ends teleporting on edge '1o', time 940.40.\n",
      "Warning: Teleporting vehicle '3_right.1'; waited too long (yield), lane='3si_0', time=941.00.\n",
      "Warning: Vehicle '3_right.1' ends teleporting on edge '2o', time 941.00.\n",
      "Warning: Teleporting vehicle '3_left.2'; waited too long (yield), lane='3si_1', time=942.00.\n",
      "Warning: Vehicle '3_left.2' ends teleporting on edge '1o', time 942.00.\n",
      "Warning: Teleporting vehicle '4_left.2'; waited too long (yield), lane='4si_1', time=942.40.\n",
      "Warning: Vehicle '4_left.2' ends teleporting on edge '2o', time 942.40.\n"
     ]
    },
    {
     "name": "stdout",
     "output_type": "stream",
     "text": [
      "Step #969.40 (1"
     ]
    },
    {
     "name": "stderr",
     "output_type": "stream",
     "text": [
      "Warning: Choosing new speed factor 1.30 for vehicle '1_horizontal.65' to match departure speed.\n"
     ]
    },
    {
     "name": "stdout",
     "output_type": "stream",
     "text": [
      "Step #993.00 (Cumulative Reward: -11158.153753061462\n",
      " Retrying in 1 seconds\n",
      "Loading configuration ... done.\n"
     ]
    },
    {
     "name": "stderr",
     "output_type": "stream",
     "text": [
      "Warning: Missing yellow phase in tlLogic '0', program '0' for tl-index 3 when switching to phase 0\n",
      "Warning: Missing yellow phase in tlLogic '0', program '1' for tl-index 5 when switching to phase 0\n",
      "Warning: Missing yellow phase in tlLogic '0', program '2' for tl-index 0 when switching to phase 0\n",
      "Warning: Missing yellow phase in tlLogic '0', program '3' for tl-index 2 when switching to phase 0\n"
     ]
    },
    {
     "name": "stdout",
     "output_type": "stream",
     "text": [
      "Step #10.40"
     ]
    },
    {
     "name": "stderr",
     "output_type": "stream",
     "text": [
      "Warning: Vehicle '2_right.0' performs emergency braking with decel=-9.00 wished=4.50 severity=1.00, time=10.40.\n",
      "Warning: Vehicle '2_right.0' performs emergency stop at the end of lane '2si_0' because of a red traffic light (decel=-11.27, offset=0.43), time=11.80.\n"
     ]
    },
    {
     "name": "stdout",
     "output_type": "stream",
     "text": [
      "Step #17.00"
     ]
    },
    {
     "name": "stderr",
     "output_type": "stream",
     "text": [
      "Warning: Vehicle '1_horizontal.0' performs emergency braking with decel=-9.00 wished=4.50 severity=1.00, time=17.00.\n",
      "Warning: Vehicle '1_horizontal.0' performs emergency stop at the end of lane '1si_1' because of a red traffic light (decel=-11.88, offset=0.03), time=17.00.\n"
     ]
    },
    {
     "name": "stdout",
     "output_type": "stream",
     "text": [
      "Step #28.60"
     ]
    },
    {
     "name": "stderr",
     "output_type": "stream",
     "text": [
      "Warning: Vehicle '2_horizontal.1' performs emergency braking with decel=-9.00 wished=4.50 severity=1.00, time=28.60.\n",
      "Warning: Vehicle '1_horizontal.1' performs emergency braking with decel=-9.00 wished=4.50 severity=1.00, time=28.60.\n",
      "Warning: Vehicle '1_horizontal.1' performs emergency stop at the end of lane '1si_1' because of a red traffic light (decel=-12.03, offset=0.13), time=28.60.\n"
     ]
    },
    {
     "name": "stdout",
     "output_type": "stream",
     "text": [
      "Step #33.40"
     ]
    },
    {
     "name": "stderr",
     "output_type": "stream",
     "text": [
      "Warning: Vehicle '4_right.0' performs emergency braking with decel=-9.00 wished=4.50 severity=1.00, time=32.80.\n",
      "Warning: Vehicle '4_right.0' performs emergency stop at the end of lane '4si_0' because of a red traffic light (decel=-10.53, offset=0.15), time=33.20.\n",
      "Warning: Vehicle '3_left.0' performs emergency braking with decel=-9.00 wished=4.50 severity=1.00, time=33.40.\n",
      "Warning: Vehicle '1_right.1' performs emergency braking with decel=-9.00 wished=4.50 severity=1.00, time=41.60.\n"
     ]
    },
    {
     "name": "stdout",
     "output_type": "stream",
     "text": [
      "Step #44.20"
     ]
    },
    {
     "name": "stderr",
     "output_type": "stream",
     "text": [
      "Warning: Vehicle '2_horizontal.2' performs emergency braking with decel=-9.00 wished=4.50 severity=1.00, time=44.00.\n",
      "Warning: Vehicle '1_horizontal.2' performs emergency braking with decel=-9.00 wished=4.50 severity=1.00, time=44.00.\n",
      "Warning: Vehicle '2_right.1' performs emergency braking with decel=-9.00 wished=4.50 severity=1.00, time=44.00.\n",
      "Warning: Vehicle '2_right.1' performs emergency stop at the end of lane '2si_0' because of a red traffic light (decel=-11.89, offset=0.02), time=44.20.\n"
     ]
    },
    {
     "name": "stdout",
     "output_type": "stream",
     "text": [
      "Step #52.80"
     ]
    },
    {
     "name": "stderr",
     "output_type": "stream",
     "text": [
      "Warning: Vehicle '4_vertical.0' performs emergency braking with decel=-9.00 wished=4.50 severity=1.00, time=52.40.\n",
      "Warning: Vehicle '3_vertical.0' performs emergency braking with decel=-9.00 wished=4.50 severity=1.00, time=52.40.\n",
      "Warning: Vehicle '4_vertical.0' performs emergency stop at the end of lane '4si_0' because of a red traffic light (decel=-10.43, offset=0.18), time=52.80.\n",
      "Warning: Vehicle '1_left.1' performs emergency braking with decel=-9.00 wished=4.50 severity=1.00, time=59.20.\n",
      "Warning: Vehicle '1_left.1' performs emergency stop at the end of lane '1si_2' because of a red traffic light (decel=-14.93, offset=0.57), time=59.20.\n"
     ]
    },
    {
     "name": "stdout",
     "output_type": "stream",
     "text": [
      "Step #68.20 "
     ]
    },
    {
     "name": "stderr",
     "output_type": "stream",
     "text": [
      "Warning: Vehicle '1_right.2' performs emergency braking with decel=-9.00 wished=4.50 severity=1.00, time=73.00.\n",
      "Warning: Vehicle '1_right.2' performs emergency stop at the end of lane '1si_0' because of a red traffic light (decel=-11.18, offset=0.14), time=73.40.\n"
     ]
    },
    {
     "name": "stdout",
     "output_type": "stream",
     "text": [
      "Step #77.20"
     ]
    },
    {
     "name": "stderr",
     "output_type": "stream",
     "text": [
      "Warning: Vehicle '3_left.1' performs emergency braking with decel=-9.00 wished=4.50 severity=1.00, time=77.20.\n",
      "Warning: Vehicle '4_left.1' performs emergency braking with decel=-9.00 wished=4.50 severity=1.00, time=77.20.\n"
     ]
    },
    {
     "name": "stdout",
     "output_type": "stream",
     "text": [
      "Step #92.80"
     ]
    },
    {
     "name": "stderr",
     "output_type": "stream",
     "text": [
      "Warning: Vehicle '2_left0.0' performs emergency braking with decel=-9.00 wished=4.50 severity=1.00, time=92.80.\n"
     ]
    },
    {
     "name": "stdout",
     "output_type": "stream",
     "text": [
      "Step #102.40"
     ]
    },
    {
     "name": "stderr",
     "output_type": "stream",
     "text": [
      "Warning: Vehicle '1_left.2' performs emergency braking with decel=-9.00 wished=4.50 severity=1.00, time=102.40.\n",
      "Warning: Vehicle '2_right.3' performs emergency braking with decel=-9.00 wished=4.50 severity=1.00, time=104.20.\n",
      "Warning: Vehicle '1_right.3' performs emergency braking with decel=-9.00 wished=4.50 severity=1.00, time=104.20.\n",
      "Warning: Vehicle '2_right.3' performs emergency stop at the end of lane '2si_0' because of a red traffic light (decel=-10.99, offset=0.21), time=104.40.\n",
      "Warning: Vehicle '1_right.3' performs emergency stop at the end of lane '1si_0' because of a red traffic light (decel=-10.56, offset=0.30), time=104.40.\n",
      "Warning: Vehicle '1_left.2' performs emergency braking with decel=-9.00 wished=4.50 severity=1.00, time=104.80.\n",
      "Warning: Vehicle '1_left.2' performs emergency stop at the end of lane '1si_2' because of a red traffic light (decel=-11.33, offset=0.25), time=105.00.\n"
     ]
    },
    {
     "name": "stdout",
     "output_type": "stream",
     "text": [
      "Step #122.80"
     ]
    },
    {
     "name": "stderr",
     "output_type": "stream",
     "text": [
      "Warning: Vehicle '2_left.2' performs emergency braking with decel=-9.00 wished=4.50 severity=1.00, time=121.60.\n",
      "Warning: Vehicle '3_left.2' performs emergency braking with decel=-9.00 wished=4.50 severity=1.00, time=122.80.\n",
      "Warning: Vehicle '4_left.2' performs emergency braking with decel=-9.00 wished=4.50 severity=1.00, time=122.80.\n"
     ]
    },
    {
     "name": "stdout",
     "output_type": "stream",
     "text": [
      "Step #124.00"
     ]
    },
    {
     "name": "stderr",
     "output_type": "stream",
     "text": [
      "Warning: Vehicle '2_left.2' performs emergency braking with decel=-9.00 wished=4.50 severity=1.00, time=124.00.\n",
      "Warning: Vehicle '2_left.2' performs emergency stop at the end of lane '2si_2' because of a red traffic light (decel=-11.80, offset=0.05), time=124.00.\n"
     ]
    },
    {
     "name": "stdout",
     "output_type": "stream",
     "text": [
      "Step #133.00"
     ]
    },
    {
     "name": "stderr",
     "output_type": "stream",
     "text": [
      "Warning: Vehicle '1_right.4' performs emergency braking with decel=-9.00 wished=4.50 severity=1.00, time=133.00.\n"
     ]
    },
    {
     "name": "stdout",
     "output_type": "stream",
     "text": [
      "Step #148.20"
     ]
    },
    {
     "name": "stderr",
     "output_type": "stream",
     "text": [
      "Warning: Vehicle '1_left.3' performs emergency braking with decel=-9.00 wished=4.50 severity=1.00, time=148.00.\n",
      "Warning: Vehicle '1_left.3' performs emergency stop at the end of lane '1si_2' because of a red traffic light (decel=-10.38, offset=0.28), time=148.20.\n"
     ]
    },
    {
     "name": "stdout",
     "output_type": "stream",
     "text": [
      "Step #150.00"
     ]
    },
    {
     "name": "stderr",
     "output_type": "stream",
     "text": [
      "Warning: Vehicle '1_horizontal0.1' performs emergency braking with decel=-9.00 wished=4.50 severity=1.00, time=149.80.\n",
      "Warning: Vehicle '1_horizontal0.1' performs emergency stop at the end of lane '1si_1' because of a red traffic light (decel=-10.69, offset=0.18), time=150.00.\n"
     ]
    },
    {
     "name": "stdout",
     "output_type": "stream",
     "text": [
      "Step #152.80"
     ]
    },
    {
     "name": "stderr",
     "output_type": "stream",
     "text": [
      "Warning: Vehicle '2_left0.1' performs emergency braking with decel=-9.00 wished=4.50 severity=1.00, time=152.80.\n",
      "Warning: Vehicle '3_right.2' performs emergency braking with decel=-9.00 wished=4.50 severity=1.00, time=160.60.\n",
      "Warning: Vehicle '3_right.2' performs emergency stop at the end of lane '3si_0' because of a red traffic light (decel=-10.51, offset=0.29), time=160.80.\n"
     ]
    },
    {
     "name": "stdout",
     "output_type": "stream",
     "text": [
      "Step #161.80"
     ]
    },
    {
     "name": "stderr",
     "output_type": "stream",
     "text": [
      "Warning: Vehicle '2_right.5' performs emergency braking with decel=-9.00 wished=4.50 severity=1.00, time=161.80.\n"
     ]
    },
    {
     "name": "stdout",
     "output_type": "stream",
     "text": [
      "Step #164.60"
     ]
    },
    {
     "name": "stderr",
     "output_type": "stream",
     "text": [
      "Warning: Vehicle '1_right.5' performs emergency braking with decel=-9.00 wished=4.50 severity=1.00, time=164.20.\n",
      "Warning: Vehicle '1_right.5' performs emergency stop at the end of lane '1si_0' because of a red traffic light (decel=-9.90, offset=0.15), time=164.60.\n"
     ]
    },
    {
     "name": "stdout",
     "output_type": "stream",
     "text": [
      "Step #166.00"
     ]
    },
    {
     "name": "stderr",
     "output_type": "stream",
     "text": [
      "Warning: Vehicle '4_left.3' performs emergency braking with decel=-9.00 wished=4.50 severity=1.00, time=166.00.\n",
      "Warning: Vehicle '3_vertical0.1' performs emergency braking with decel=-9.00 wished=4.50 severity=1.00, time=167.80.\n",
      "Warning: Vehicle '3_vertical0.1' performs emergency stop at the end of lane '3si_0' because of a red traffic light (decel=-10.30, offset=0.19), time=168.00.\n",
      "Warning: Vehicle '3_left.3' performs emergency braking with decel=-9.00 wished=4.50 severity=1.00, time=168.40.\n"
     ]
    },
    {
     "name": "stdout",
     "output_type": "stream",
     "text": [
      "Step #176.80"
     ]
    },
    {
     "name": "stderr",
     "output_type": "stream",
     "text": [
      "Warning: Vehicle '2_left.3' performs emergency braking with decel=-9.00 wished=4.50 severity=1.00, time=176.80.\n"
     ]
    },
    {
     "name": "stdout",
     "output_type": "stream",
     "text": [
      "Step #193.60"
     ]
    },
    {
     "name": "stderr",
     "output_type": "stream",
     "text": [
      "Warning: Vehicle '1_right.6' performs emergency braking with decel=-9.00 wished=4.50 severity=1.00, time=193.00.\n",
      "Warning: Vehicle '1_left.4' performs emergency braking with decel=-9.00 wished=4.50 severity=1.00, time=193.60.\n"
     ]
    },
    {
     "name": "stdout",
     "output_type": "stream",
     "text": [
      "Step #211.60"
     ]
    },
    {
     "name": "stderr",
     "output_type": "stream",
     "text": [
      "Warning: Vehicle '3_left.4' performs emergency braking with decel=-9.00 wished=4.50 severity=1.00, time=211.60.\n",
      "Warning: Vehicle '4_left.4' performs emergency braking with decel=-9.00 wished=4.50 severity=1.00, time=211.60.\n",
      "Warning: Vehicle '2_left0.2' performs emergency braking with decel=-9.00 wished=4.50 severity=1.00, time=212.80.\n",
      "Warning: Vehicle '3_left.4' performs emergency braking with decel=-9.00 wished=4.50 severity=1.00, time=214.00.\n"
     ]
    },
    {
     "name": "stdout",
     "output_type": "stream",
     "text": [
      "Step #214.20"
     ]
    },
    {
     "name": "stderr",
     "output_type": "stream",
     "text": [
      "Warning: Vehicle '3_left.4' performs emergency stop at the end of lane '3si_1' because of a red traffic light (decel=-11.91, offset=0.11), time=214.20.\n",
      "Warning: Vehicle '1_horizontal0.2' performs emergency braking with decel=-9.00 wished=4.50 severity=1.00, time=217.00.\n",
      "Warning: Vehicle '1_horizontal0.2' performs emergency stop at the end of lane '1si_1' because of a red traffic light (decel=-11.43, offset=0.28), time=217.20.\n"
     ]
    },
    {
     "name": "stdout",
     "output_type": "stream",
     "text": [
      "Step #226.20 "
     ]
    },
    {
     "name": "stderr",
     "output_type": "stream",
     "text": [
      "Warning: Vehicle '2_left.4' performs emergency braking with decel=-9.00 wished=4.50 severity=1.00, time=234.40.\n",
      "Warning: Vehicle '2_left.4' performs emergency stop at the end of lane '2si_2' because of a red traffic light (decel=-12.10, offset=0.31), time=234.40.\n"
     ]
    },
    {
     "name": "stdout",
     "output_type": "stream",
     "text": [
      "Step #236.80"
     ]
    },
    {
     "name": "stderr",
     "output_type": "stream",
     "text": [
      "Warning: Vehicle '1_left.5' performs emergency braking with decel=-9.00 wished=4.50 severity=1.00, time=236.80.\n",
      "Warning: Vehicle '1_left.5' performs emergency braking with decel=-9.00 wished=4.50 severity=1.00, time=239.20.\n",
      "Warning: Vehicle '1_left.5' performs emergency stop at the end of lane '1si_2' because of a red traffic light (decel=-10.11, offset=0.05), time=239.40.\n"
     ]
    },
    {
     "name": "stdout",
     "output_type": "stream",
     "text": [
      "Step #248.40 "
     ]
    },
    {
     "name": "stderr",
     "output_type": "stream",
     "text": [
      "Warning: Vehicle '2_right.8' performs emergency braking with decel=-9.00 wished=4.50 severity=1.00, time=253.00.\n"
     ]
    },
    {
     "name": "stdout",
     "output_type": "stream",
     "text": [
      "Step #255.40"
     ]
    },
    {
     "name": "stderr",
     "output_type": "stream",
     "text": [
      "Warning: Vehicle '1_right.8' performs emergency braking with decel=-9.00 wished=4.50 severity=1.00, time=255.40.\n"
     ]
    },
    {
     "name": "stdout",
     "output_type": "stream",
     "text": [
      "Step #257.20"
     ]
    },
    {
     "name": "stderr",
     "output_type": "stream",
     "text": [
      "Warning: Vehicle '4_left.5' performs emergency braking with decel=-9.00 wished=4.50 severity=1.00, time=257.20.\n"
     ]
    },
    {
     "name": "stdout",
     "output_type": "stream",
     "text": [
      "Step #273.20"
     ]
    },
    {
     "name": "stderr",
     "output_type": "stream",
     "text": [
      "Warning: Vehicle '2_left0.3' performs emergency braking with decel=-9.00 wished=4.50 severity=1.00, time=272.80.\n",
      "Warning: Vehicle '2_left0.3' performs emergency stop at the end of lane '2si_2' because of a red traffic light (decel=-11.29, offset=0.13), time=273.20.\n"
     ]
    },
    {
     "name": "stdout",
     "output_type": "stream",
     "text": [
      "Step #282.20 "
     ]
    },
    {
     "name": "stderr",
     "output_type": "stream",
     "text": [
      "Warning: Vehicle '2_left.5' performs emergency braking with decel=-9.00 wished=4.50 severity=1.00, time=287.20.\n"
     ]
    },
    {
     "name": "stdout",
     "output_type": "stream",
     "text": [
      "Step #303.00"
     ]
    },
    {
     "name": "stderr",
     "output_type": "stream",
     "text": [
      "Warning: Vehicle '4_left.6' performs emergency braking with decel=-9.00 wished=4.50 severity=1.00, time=302.80.\n",
      "Warning: Vehicle '4_left.6' performs emergency stop at the end of lane '4si_1' because of a red traffic light (decel=-11.82, offset=0.54), time=303.00.\n"
     ]
    },
    {
     "name": "stdout",
     "output_type": "stream",
     "text": [
      "Step #330.00 (0"
     ]
    },
    {
     "name": "stderr",
     "output_type": "stream",
     "text": [
      "Warning: Vehicle '2_left0.4' performs emergency braking with decel=-9.00 wished=4.50 severity=1.00, time=332.80.\n",
      "Warning: Vehicle '2_left0.4' performs emergency stop at the end of lane '2si_2' because of a red traffic light (decel=-13.70, offset=0.42), time=332.80.\n"
     ]
    },
    {
     "name": "stdout",
     "output_type": "stream",
     "text": [
      "Step #341.80"
     ]
    },
    {
     "name": "stderr",
     "output_type": "stream",
     "text": [
      "Warning: Vehicle '2_right.11' performs emergency braking with decel=-9.00 wished=4.50 severity=1.00, time=341.80.\n"
     ]
    },
    {
     "name": "stdout",
     "output_type": "stream",
     "text": [
      "Step #344.80"
     ]
    },
    {
     "name": "stderr",
     "output_type": "stream",
     "text": [
      "Warning: Vehicle '2_left.6' performs emergency braking with decel=-9.00 wished=4.50 severity=1.00, time=344.80.\n",
      "Warning: Vehicle '4_left.7' performs emergency braking with decel=-9.00 wished=4.50 severity=1.00, time=346.00.\n"
     ]
    },
    {
     "name": "stdout",
     "output_type": "stream",
     "text": [
      "Step #346.00"
     ]
    },
    {
     "name": "stderr",
     "output_type": "stream",
     "text": [
      "Warning: Vehicle '4_left.7' performs emergency braking with decel=-9.00 wished=4.50 severity=1.00, time=348.40.\n",
      "Warning: Vehicle '4_left.7' performs emergency stop at the end of lane '4si_1' because of a red traffic light (decel=-11.64, offset=0.14), time=348.40.\n"
     ]
    },
    {
     "name": "stdout",
     "output_type": "stream",
     "text": [
      "Step #368.80"
     ]
    },
    {
     "name": "stderr",
     "output_type": "stream",
     "text": [
      "Warning: Vehicle '1_right.9' performs emergency braking with decel=-9.00 wished=4.50 severity=1.00, time=368.20.\n",
      "Warning: Vehicle '1_left.6' performs emergency braking with decel=-9.00 wished=4.50 severity=1.00, time=368.80.\n"
     ]
    },
    {
     "name": "stdout",
     "output_type": "stream",
     "text": [
      "Step #372.60"
     ]
    },
    {
     "name": "stderr",
     "output_type": "stream",
     "text": [
      "Warning: Vehicle '3_left.5' performs emergency braking with decel=-9.00 wished=4.50 severity=1.00, time=372.40.\n",
      "Warning: Vehicle '3_left.5' performs emergency stop at the end of lane '3si_1' because of a red traffic light (decel=-10.80, offset=0.29), time=372.60.\n"
     ]
    },
    {
     "name": "stdout",
     "output_type": "stream",
     "text": [
      "Step #392.80"
     ]
    },
    {
     "name": "stderr",
     "output_type": "stream",
     "text": [
      "Warning: Vehicle '2_left0.5' performs emergency braking with decel=-9.00 wished=4.50 severity=1.00, time=392.80.\n",
      "Warning: Vehicle '2_left0.5' performs emergency stop at the end of lane '2si_2' because of a red traffic light (decel=-12.54, offset=0.06), time=392.80.\n",
      "Warning: Vehicle '2_left.7' performs emergency braking with decel=-9.00 wished=4.50 severity=1.00, time=400.00.\n",
      "Warning: Vehicle '2_left.7' performs emergency stop at the end of lane '2si_2' because of a red traffic light (decel=-12.60, offset=0.01), time=400.00.\n"
     ]
    },
    {
     "name": "stdout",
     "output_type": "stream",
     "text": [
      "Step #430.60"
     ]
    },
    {
     "name": "stderr",
     "output_type": "stream",
     "text": [
      "Warning: Vehicle '2_right.14' performs emergency braking with decel=-9.00 wished=4.50 severity=1.00, time=430.60.\n"
     ]
    },
    {
     "name": "stdout",
     "output_type": "stream",
     "text": [
      "Step #433.00"
     ]
    },
    {
     "name": "stderr",
     "output_type": "stream",
     "text": [
      "Warning: Vehicle '2_right.14' performs emergency braking with decel=-9.00 wished=4.50 severity=1.00, time=433.00.\n",
      "Warning: Vehicle '2_right.14' performs emergency stop at the end of lane '2si_0' because of a red traffic light (decel=-12.22, offset=0.58), time=433.00.\n"
     ]
    },
    {
     "name": "stdout",
     "output_type": "stream",
     "text": [
      "Step #437.60"
     ]
    },
    {
     "name": "stderr",
     "output_type": "stream",
     "text": [
      "Warning: Vehicle '4_left.8' performs emergency braking with decel=-9.00 wished=4.50 severity=1.00, time=437.20.\n",
      "Warning: Vehicle '4_left.8' performs emergency stop at the end of lane '4si_1' because of a red traffic light (decel=-10.61, offset=0.18), time=437.60.\n"
     ]
    },
    {
     "name": "stdout",
     "output_type": "stream",
     "text": [
      "Step #455.60 ("
     ]
    },
    {
     "name": "stderr",
     "output_type": "stream",
     "text": [
      "Warning: Vehicle '2_left.8' performs emergency braking with decel=-9.00 wished=4.50 severity=1.00, time=462.40.\n"
     ]
    },
    {
     "name": "stdout",
     "output_type": "stream",
     "text": [
      "Step #466.60"
     ]
    },
    {
     "name": "stderr",
     "output_type": "stream",
     "text": [
      "Warning: Vehicle '2_right.15' performs emergency braking with decel=-9.00 wished=4.50 severity=1.00, time=466.60.\n"
     ]
    },
    {
     "name": "stdout",
     "output_type": "stream",
     "text": [
      "Step #476.20"
     ]
    },
    {
     "name": "stderr",
     "output_type": "stream",
     "text": [
      "Warning: Vehicle '2_horizontal.17' performs emergency braking with decel=-9.00 wished=4.50 severity=1.00, time=476.20.\n",
      "Warning: Vehicle '2_horizontal.17' performs emergency stop at the end of lane '2si_1' because of a red traffic light (decel=-12.44, offset=0.06), time=476.20.\n"
     ]
    },
    {
     "name": "stdout",
     "output_type": "stream",
     "text": [
      "Step #478.20"
     ]
    },
    {
     "name": "stderr",
     "output_type": "stream",
     "text": [
      "Warning: Vehicle '3_left.6' performs emergency braking with decel=-9.00 wished=4.50 severity=1.00, time=478.00.\n",
      "Warning: Vehicle '3_left.6' performs emergency stop at the end of lane '3si_1' because of a red traffic light (decel=-11.15, offset=0.28), time=478.20.\n"
     ]
    },
    {
     "name": "stdout",
     "output_type": "stream",
     "text": [
      "Step #485.80"
     ]
    },
    {
     "name": "stderr",
     "output_type": "stream",
     "text": [
      "Warning: Vehicle '1_right.10' performs emergency braking with decel=-9.00 wished=4.50 severity=1.00, time=485.80.\n"
     ]
    },
    {
     "name": "stdout",
     "output_type": "stream",
     "text": [
      "Step #500.20"
     ]
    },
    {
     "name": "stderr",
     "output_type": "stream",
     "text": [
      "Warning: Choosing new speed factor 1.23 for vehicle '3_vertical0.22' to match departure speed.\n",
      "Warning: Vehicle '2_right.16' performs emergency braking with decel=-9.00 wished=4.50 severity=1.00, time=500.20.\n"
     ]
    },
    {
     "name": "stdout",
     "output_type": "stream",
     "text": [
      "Step #508.00"
     ]
    },
    {
     "name": "stderr",
     "output_type": "stream",
     "text": [
      "Warning: Vehicle '2_left.9' performs emergency braking with decel=-9.00 wished=4.50 severity=1.00, time=508.00.\n"
     ]
    },
    {
     "name": "stdout",
     "output_type": "stream",
     "text": [
      "Step #521.80"
     ]
    },
    {
     "name": "stderr",
     "output_type": "stream",
     "text": [
      "Warning: Vehicle '2_right.17' performs emergency braking with decel=-9.00 wished=4.50 severity=1.00, time=521.80.\n"
     ]
    },
    {
     "name": "stdout",
     "output_type": "stream",
     "text": [
      "Step #529.60"
     ]
    },
    {
     "name": "stderr",
     "output_type": "stream",
     "text": [
      "Warning: Vehicle '1_left.7' performs emergency braking with decel=-9.00 wished=4.50 severity=1.00, time=529.60.\n"
     ]
    },
    {
     "name": "stdout",
     "output_type": "stream",
     "text": [
      "Step #550.20"
     ]
    },
    {
     "name": "stderr",
     "output_type": "stream",
     "text": [
      "Warning: Vehicle '4_left.9' performs emergency braking with decel=-9.00 wished=4.50 severity=1.00, time=550.00.\n",
      "Warning: Vehicle '4_left.9' performs emergency stop at the end of lane '4si_1' because of a red traffic light (decel=-11.76, offset=0.14), time=550.20.\n"
     ]
    },
    {
     "name": "stdout",
     "output_type": "stream",
     "text": [
      "Step #557.80"
     ]
    },
    {
     "name": "stderr",
     "output_type": "stream",
     "text": [
      "Warning: Vehicle '1_right.11' performs emergency braking with decel=-9.00 wished=4.50 severity=1.00, time=557.80.\n"
     ]
    },
    {
     "name": "stdout",
     "output_type": "stream",
     "text": [
      "Step #567.40"
     ]
    },
    {
     "name": "stderr",
     "output_type": "stream",
     "text": [
      "Warning: Vehicle '2_right.18' performs emergency braking with decel=-9.00 wished=4.50 severity=1.00, time=567.40.\n"
     ]
    },
    {
     "name": "stdout",
     "output_type": "stream",
     "text": [
      "Step #592.00"
     ]
    },
    {
     "name": "stderr",
     "output_type": "stream",
     "text": [
      "Warning: Vehicle '2_left.10' performs emergency braking with decel=-9.00 wished=4.50 severity=1.00, time=592.00.\n"
     ]
    },
    {
     "name": "stdout",
     "output_type": "stream",
     "text": [
      "Step #619.00 (0"
     ]
    },
    {
     "name": "stderr",
     "output_type": "stream",
     "text": [
      "Warning: Vehicle '2_right.19' performs emergency braking with decel=-9.00 wished=4.50 severity=1.00, time=622.60.\n"
     ]
    },
    {
     "name": "stdout",
     "output_type": "stream",
     "text": [
      "Step #649.60"
     ]
    },
    {
     "name": "stderr",
     "output_type": "stream",
     "text": [
      "Warning: Vehicle '1_right.12' performs emergency braking with decel=-9.00 wished=4.50 severity=1.00, time=649.00.\n",
      "Warning: Vehicle '1_right.12' performs emergency stop at the end of lane '1si_0' because of a red traffic light (decel=-10.52, offset=0.29), time=649.20.\n",
      "Warning: Vehicle '1_left.8' performs emergency braking with decel=-9.00 wished=4.50 severity=1.00, time=649.60.\n"
     ]
    },
    {
     "name": "stdout",
     "output_type": "stream",
     "text": [
      "Step #650.00"
     ]
    },
    {
     "name": "stderr",
     "output_type": "stream",
     "text": [
      "Warning: Vehicle '1_left.8' performs emergency stop at the end of lane '1si_2' because of a red traffic light (decel=-10.68, offset=0.23), time=650.00.\n"
     ]
    },
    {
     "name": "stdout",
     "output_type": "stream",
     "text": [
      "Step #677.00 (0"
     ]
    },
    {
     "name": "stderr",
     "output_type": "stream",
     "text": [
      "Warning: Vehicle '2_right.20' performs emergency braking with decel=-9.00 wished=4.50 severity=1.00, time=680.20.\n"
     ]
    },
    {
     "name": "stdout",
     "output_type": "stream",
     "text": [
      "Step #691.60"
     ]
    },
    {
     "name": "stderr",
     "output_type": "stream",
     "text": [
      "Warning: Vehicle '4_left.10' performs emergency braking with decel=-9.00 wished=4.50 severity=1.00, time=691.60.\n"
     ]
    },
    {
     "name": "stdout",
     "output_type": "stream",
     "text": [
      "Step #704.80"
     ]
    },
    {
     "name": "stderr",
     "output_type": "stream",
     "text": [
      "Warning: Vehicle '2_left.11' performs emergency braking with decel=-9.00 wished=4.50 severity=1.00, time=704.80.\n"
     ]
    },
    {
     "name": "stdout",
     "output_type": "stream",
     "text": [
      "Step #714.00"
     ]
    },
    {
     "name": "stderr",
     "output_type": "stream",
     "text": [
      "Warning: Vehicle '2_right.21' performs emergency braking with decel=-9.00 wished=4.50 severity=1.00, time=713.80.\n",
      "Warning: Vehicle '2_right.21' performs emergency stop at the end of lane '2si_0' because of a red traffic light (decel=-11.76, offset=0.16), time=714.00.\n"
     ]
    },
    {
     "name": "stdout",
     "output_type": "stream",
     "text": [
      "Step #763.60"
     ]
    },
    {
     "name": "stderr",
     "output_type": "stream",
     "text": [
      "Warning: Vehicle '3_left.8' performs emergency braking with decel=-9.00 wished=4.50 severity=1.00, time=763.60.\n"
     ]
    },
    {
     "name": "stdout",
     "output_type": "stream",
     "text": [
      "Step #788.80"
     ]
    },
    {
     "name": "stderr",
     "output_type": "stream",
     "text": [
      "Warning: Vehicle '2_right.22' performs emergency braking with decel=-9.00 wished=4.50 severity=1.00, time=788.20.\n",
      "Warning: Vehicle '2_left.12' performs emergency braking with decel=-9.00 wished=4.50 severity=1.00, time=788.80.\n"
     ]
    },
    {
     "name": "stdout",
     "output_type": "stream",
     "text": [
      "Step #790.60"
     ]
    },
    {
     "name": "stderr",
     "output_type": "stream",
     "text": [
      "Warning: Vehicle '1_right.14' performs emergency braking with decel=-9.00 wished=4.50 severity=1.00, time=790.60.\n"
     ]
    },
    {
     "name": "stdout",
     "output_type": "stream",
     "text": [
      "Step #810.00"
     ]
    },
    {
     "name": "stderr",
     "output_type": "stream",
     "text": [
      "Warning: Choosing new speed factor 1.24 for vehicle '1_horizontal0.38' to match departure speed.\n"
     ]
    },
    {
     "name": "stdout",
     "output_type": "stream",
     "text": [
      "Step #811.60"
     ]
    },
    {
     "name": "stderr",
     "output_type": "stream",
     "text": [
      "Warning: Vehicle '4_left.11' performs emergency braking with decel=-9.00 wished=4.50 severity=1.00, time=811.60.\n"
     ]
    },
    {
     "name": "stdout",
     "output_type": "stream",
     "text": [
      "Step #844.00"
     ]
    },
    {
     "name": "stderr",
     "output_type": "stream",
     "text": [
      "Warning: Vehicle '2_left0.10' performs emergency braking with decel=-9.00 wished=4.50 severity=1.00, time=844.00.\n",
      "Warning: Vehicle '2_right.23' performs emergency braking with decel=-9.00 wished=4.50 severity=1.00, time=845.80.\n"
     ]
    },
    {
     "name": "stdout",
     "output_type": "stream",
     "text": [
      "Step #877.60"
     ]
    },
    {
     "name": "stderr",
     "output_type": "stream",
     "text": [
      "Warning: Vehicle '1_left.10' performs emergency braking with decel=-9.00 wished=4.50 severity=1.00, time=877.60.\n"
     ]
    },
    {
     "name": "stdout",
     "output_type": "stream",
     "text": [
      "Step #895.60 ("
     ]
    },
    {
     "name": "stderr",
     "output_type": "stream",
     "text": [
      "Warning: Vehicle '2_left.13' performs emergency braking with decel=-9.00 wished=4.50 severity=1.00, time=899.20.\n"
     ]
    },
    {
     "name": "stdout",
     "output_type": "stream",
     "text": [
      "Step #926.20 (0"
     ]
    },
    {
     "name": "stderr",
     "output_type": "stream",
     "text": [
      "Warning: Vehicle '4_left.12' performs emergency braking with decel=-9.00 wished=4.50 severity=1.00, time=934.00.\n"
     ]
    },
    {
     "name": "stdout",
     "output_type": "stream",
     "text": [
      "Step #956.80"
     ]
    },
    {
     "name": "stderr",
     "output_type": "stream",
     "text": [
      "Warning: Vehicle '2_left0.11' performs emergency braking with decel=-9.00 wished=4.50 severity=1.00, time=956.80.\n"
     ]
    },
    {
     "name": "stdout",
     "output_type": "stream",
     "text": [
      "Step #960.40"
     ]
    },
    {
     "name": "stderr",
     "output_type": "stream",
     "text": [
      "Warning: Vehicle '3_left.9' performs emergency braking with decel=-9.00 wished=4.50 severity=1.00, time=960.40.\n"
     ]
    },
    {
     "name": "stdout",
     "output_type": "stream",
     "text": [
      "Step #975.00"
     ]
    },
    {
     "name": "stderr",
     "output_type": "stream",
     "text": [
      "Warning: Choosing new speed factor 1.30 for vehicle '1_horizontal.65' to match departure speed.\n",
      "Warning: Vehicle '1_right.16' performs emergency braking with decel=-9.00 wished=4.50 severity=1.00, time=982.60.\n"
     ]
    },
    {
     "name": "stdout",
     "output_type": "stream",
     "text": [
      "Step #991.60 Cumulative Reward: -629.4029214827879\n",
      " Retrying in 1 seconds\n",
      "Loading configuration ... done.\n",
      "----------------------------------\n",
      "| rollout/           |           |\n",
      "|    ep_len_mean     | 5e+03     |\n",
      "|    ep_rew_mean     | -8.87e+03 |\n",
      "| time/              |           |\n",
      "|    episodes        | 8         |\n",
      "|    fps             | 6         |\n",
      "|    time_elapsed    | 5926      |\n",
      "|    total_timesteps | 40000     |\n",
      "| train/             |           |\n",
      "|    actor_loss      | 187       |\n",
      "|    critic_loss     | 10        |\n",
      "|    learning_rate   | 0.001     |\n",
      "|    n_updates       | 35000     |\n",
      "----------------------------------\n"
     ]
    },
    {
     "name": "stderr",
     "output_type": "stream",
     "text": [
      "Warning: Missing yellow phase in tlLogic '0', program '0' for tl-index 3 when switching to phase 0\n",
      "Warning: Missing yellow phase in tlLogic '0', program '1' for tl-index 5 when switching to phase 0\n",
      "Warning: Missing yellow phase in tlLogic '0', program '2' for tl-index 0 when switching to phase 0\n",
      "Warning: Missing yellow phase in tlLogic '0', program '3' for tl-index 2 when switching to phase 0\n"
     ]
    },
    {
     "name": "stdout",
     "output_type": "stream",
     "text": [
      "Step #35.00"
     ]
    },
    {
     "name": "stderr",
     "output_type": "stream",
     "text": [
      "Warning: Vehicle '3_right.0' performs emergency braking with decel=-9.00 wished=4.50 severity=1.00, time=34.00.\n",
      "Warning: Vehicle '3_right.0' performs emergency stop at the end of lane '3si_0' because of a red traffic light (decel=-10.74, offset=0.26), time=34.20.\n",
      "Warning: Vehicle '3_left.0' performs emergency braking with decel=-9.00 wished=4.50 severity=1.00, time=34.60.\n",
      "Warning: Vehicle '4_left.0' performs emergency braking with decel=-9.00 wished=4.50 severity=1.00, time=34.60.\n",
      "Warning: Vehicle '3_left.0' performs emergency stop at the end of lane '3si_1' because of a red traffic light (decel=-10.40, offset=0.27), time=35.00.\n"
     ]
    },
    {
     "name": "stdout",
     "output_type": "stream",
     "text": [
      "Step #44.00 "
     ]
    },
    {
     "name": "stderr",
     "output_type": "stream",
     "text": [
      "Warning: Vehicle '3_vertical.0' performs emergency braking with decel=-9.00 wished=4.50 severity=1.00, time=52.00.\n"
     ]
    },
    {
     "name": "stdout",
     "output_type": "stream",
     "text": [
      "Step #68.60"
     ]
    },
    {
     "name": "stderr",
     "output_type": "stream",
     "text": [
      "Warning: Vehicle '2_left.1' performs emergency braking with decel=-9.00 wished=4.50 severity=1.00, time=68.20.\n",
      "Warning: Vehicle '2_left.1' performs emergency stop at the end of lane '2si_2' because of a red traffic light (decel=-10.40, offset=0.23), time=68.60.\n",
      "Warning: Vehicle '4_left.1' performs emergency braking with decel=-9.00 wished=4.50 severity=1.00, time=76.00.\n"
     ]
    },
    {
     "name": "stdout",
     "output_type": "stream",
     "text": [
      "Step #85.00 "
     ]
    },
    {
     "name": "stderr",
     "output_type": "stream",
     "text": [
      "Warning: Vehicle '1_horizontal.5' performs emergency braking with decel=-9.00 wished=4.50 severity=1.00, time=88.80.\n",
      "Warning: Vehicle '1_horizontal.5' performs emergency stop at the end of lane '1si_1' because of a red traffic light (decel=-14.26, offset=0.96), time=88.80.\n"
     ]
    },
    {
     "name": "stdout",
     "output_type": "stream",
     "text": [
      "Step #104.20"
     ]
    },
    {
     "name": "stderr",
     "output_type": "stream",
     "text": [
      "Warning: Vehicle '2_horizontal.6' performs emergency braking with decel=-9.00 wished=4.50 severity=1.00, time=104.20.\n",
      "Warning: Vehicle '1_right.3' performs emergency braking with decel=-9.00 wished=4.50 severity=1.00, time=104.20.\n",
      "Warning: Vehicle '1_right.3' performs emergency stop at the end of lane '1si_0' because of a red traffic light (decel=-12.21, offset=0.36), time=104.20.\n"
     ]
    },
    {
     "name": "stdout",
     "output_type": "stream",
     "text": [
      "Step #106.60"
     ]
    },
    {
     "name": "stderr",
     "output_type": "stream",
     "text": [
      "Warning: Vehicle '1_horizontal.6' performs emergency braking with decel=-9.00 wished=4.50 severity=1.00, time=106.60.\n"
     ]
    },
    {
     "name": "stdout",
     "output_type": "stream",
     "text": [
      "Step #115.60 "
     ]
    },
    {
     "name": "stderr",
     "output_type": "stream",
     "text": [
      "Warning: Vehicle '3_left.2' performs emergency braking with decel=-9.00 wished=4.50 severity=1.00, time=122.80.\n"
     ]
    },
    {
     "name": "stdout",
     "output_type": "stream",
     "text": [
      "Step #122.80"
     ]
    },
    {
     "name": "stderr",
     "output_type": "stream",
     "text": [
      "Warning: Vehicle '2_right.4' performs emergency braking with decel=-9.00 wished=4.50 severity=1.00, time=130.00.\n"
     ]
    },
    {
     "name": "stdout",
     "output_type": "stream",
     "text": [
      "Step #132.60"
     ]
    },
    {
     "name": "stderr",
     "output_type": "stream",
     "text": [
      "Warning: Vehicle '2_horizontal.8' performs emergency braking with decel=-9.00 wished=4.50 severity=1.00, time=132.60.\n",
      "Warning: Vehicle '1_right.4' performs emergency braking with decel=-9.00 wished=4.50 severity=1.00, time=132.60.\n",
      "Warning: Vehicle '2_right.4' performs emergency braking with decel=-9.00 wished=4.50 severity=1.00, time=132.60.\n",
      "Warning: Vehicle '2_right.4' performs emergency stop at the end of lane '2si_0' because of a red traffic light (decel=-11.71, offset=0.13), time=132.60.\n"
     ]
    },
    {
     "name": "stdout",
     "output_type": "stream",
     "text": [
      "Step #135.00"
     ]
    },
    {
     "name": "stderr",
     "output_type": "stream",
     "text": [
      "Warning: Vehicle '2_horizontal.8' performs emergency braking with decel=-9.00 wished=4.50 severity=1.00, time=135.00.\n",
      "Warning: Vehicle '2_horizontal.8' performs emergency stop at the end of lane '2si_1' because of a red traffic light (decel=-11.82, offset=0.14), time=135.00.\n"
     ]
    },
    {
     "name": "stdout",
     "output_type": "stream",
     "text": [
      "Step #140.20"
     ]
    },
    {
     "name": "stderr",
     "output_type": "stream",
     "text": [
      "Warning: Vehicle '1_horizontal.7' performs emergency braking with decel=-9.00 wished=4.50 severity=1.00, time=140.20.\n",
      "Warning: Vehicle '1_horizontal.7' performs emergency stop at the end of lane '1si_1' because of a red traffic light (decel=-11.72, offset=0.10), time=140.20.\n",
      "Warning: Vehicle '1_left.3' performs emergency braking with decel=-9.00 wished=4.50 severity=1.00, time=145.60.\n"
     ]
    },
    {
     "name": "stdout",
     "output_type": "stream",
     "text": [
      "Step #163.60"
     ]
    },
    {
     "name": "stderr",
     "output_type": "stream",
     "text": [
      "Warning: Vehicle '2_right.5' performs emergency braking with decel=-9.00 wished=4.50 severity=1.00, time=163.20.\n",
      "Warning: Vehicle '1_right.5' performs emergency braking with decel=-9.00 wished=4.50 severity=1.00, time=163.20.\n",
      "Warning: Vehicle '2_right.5' performs emergency stop at the end of lane '2si_0' because of a red traffic light (decel=-10.62, offset=0.10), time=163.60.\n"
     ]
    },
    {
     "name": "stdout",
     "output_type": "stream",
     "text": [
      "Step #190.60 (1"
     ]
    },
    {
     "name": "stderr",
     "output_type": "stream",
     "text": [
      "Warning: Vehicle '1_right.6' performs emergency braking with decel=-9.00 wished=4.50 severity=1.00, time=194.20.\n",
      "Warning: Vehicle '1_right.6' performs emergency stop at the end of lane '1si_0' because of a red traffic light (decel=-11.51, offset=0.06), time=194.40.\n",
      "Warning: Vehicle '1_left.4' performs emergency braking with decel=-9.00 wished=4.50 severity=1.00, time=194.80.\n"
     ]
    },
    {
     "name": "stdout",
     "output_type": "stream",
     "text": [
      "Step #212.80"
     ]
    },
    {
     "name": "stderr",
     "output_type": "stream",
     "text": [
      "Warning: Vehicle '4_left.4' performs emergency braking with decel=-9.00 wished=4.50 severity=1.00, time=212.80.\n"
     ]
    },
    {
     "name": "stdout",
     "output_type": "stream",
     "text": [
      "Step #223.00"
     ]
    },
    {
     "name": "stderr",
     "output_type": "stream",
     "text": [
      "Warning: Vehicle '3_right.2' performs emergency braking with decel=-9.00 wished=4.50 severity=1.00, time=221.80.\n",
      "Warning: Vehicle '3_right.2' performs emergency stop at the end of lane '3si_0' because of a red traffic light (decel=-12.27, offset=0.12), time=221.80.\n",
      "Warning: Vehicle '1_right.7' performs emergency braking with decel=-9.00 wished=4.50 severity=1.00, time=223.00.\n"
     ]
    },
    {
     "name": "stdout",
     "output_type": "stream",
     "text": [
      "Step #234.00"
     ]
    },
    {
     "name": "stderr",
     "output_type": "stream",
     "text": [
      "Warning: Vehicle '3_vertical0.1' performs emergency braking with decel=-9.00 wished=4.50 severity=1.00, time=233.80.\n",
      "Warning: Vehicle '3_vertical0.1' performs emergency stop at the end of lane '3si_0' because of a red traffic light (decel=-10.64, offset=0.29), time=234.00.\n"
     ]
    },
    {
     "name": "stdout",
     "output_type": "stream",
     "text": [
      "Step #235.60"
     ]
    },
    {
     "name": "stderr",
     "output_type": "stream",
     "text": [
      "Warning: Vehicle '1_left.5' performs emergency braking with decel=-9.00 wished=4.50 severity=1.00, time=235.60.\n"
     ]
    },
    {
     "name": "stdout",
     "output_type": "stream",
     "text": [
      "Step #251.80"
     ]
    },
    {
     "name": "stderr",
     "output_type": "stream",
     "text": [
      "Warning: Vehicle '1_right.8' performs emergency braking with decel=-9.00 wished=4.50 severity=1.00, time=251.80.\n"
     ]
    },
    {
     "name": "stdout",
     "output_type": "stream",
     "text": [
      "Step #259.00"
     ]
    },
    {
     "name": "stderr",
     "output_type": "stream",
     "text": [
      "Warning: Vehicle '3_left.4' performs emergency braking with decel=-9.00 wished=4.50 severity=1.00, time=258.40.\n",
      "Warning: Vehicle '4_left.5' performs emergency braking with decel=-9.00 wished=4.50 severity=1.00, time=258.40.\n",
      "Warning: Vehicle '4_left.5' performs emergency stop at the end of lane '4si_1' because of a red traffic light (decel=-10.00, offset=0.09), time=259.00.\n"
     ]
    },
    {
     "name": "stdout",
     "output_type": "stream",
     "text": [
      "Step #261.00"
     ]
    },
    {
     "name": "stderr",
     "output_type": "stream",
     "text": [
      "Warning: Vehicle '3_left.4' performs emergency braking with decel=-9.00 wished=4.50 severity=1.00, time=260.80.\n",
      "Warning: Vehicle '3_left.4' performs emergency stop at the end of lane '3si_1' because of a red traffic light (decel=-10.48, offset=0.24), time=261.00.\n"
     ]
    },
    {
     "name": "stdout",
     "output_type": "stream",
     "text": [
      "Step #271.60"
     ]
    },
    {
     "name": "stderr",
     "output_type": "stream",
     "text": [
      "Warning: Vehicle '2_left0.3' performs emergency braking with decel=-9.00 wished=4.50 severity=1.00, time=271.60.\n"
     ]
    },
    {
     "name": "stdout",
     "output_type": "stream",
     "text": [
      "Step #280.60"
     ]
    },
    {
     "name": "stderr",
     "output_type": "stream",
     "text": [
      "Warning: Vehicle '1_right.9' performs emergency braking with decel=-9.00 wished=4.50 severity=1.00, time=280.60.\n"
     ]
    },
    {
     "name": "stdout",
     "output_type": "stream",
     "text": [
      "Step #283.60"
     ]
    },
    {
     "name": "stderr",
     "output_type": "stream",
     "text": [
      "Warning: Vehicle '1_left.6' performs emergency braking with decel=-9.00 wished=4.50 severity=1.00, time=283.60.\n"
     ]
    },
    {
     "name": "stdout",
     "output_type": "stream",
     "text": [
      "Step #310.60 (1"
     ]
    },
    {
     "name": "stderr",
     "output_type": "stream",
     "text": [
      "Warning: Vehicle '2_right.10' performs emergency braking with decel=-9.00 wished=4.50 severity=1.00, time=311.80.\n"
     ]
    },
    {
     "name": "stdout",
     "output_type": "stream",
     "text": [
      "Step #331.60"
     ]
    },
    {
     "name": "stderr",
     "output_type": "stream",
     "text": [
      "Warning: Vehicle '2_left0.4' performs emergency braking with decel=-9.00 wished=4.50 severity=1.00, time=331.60.\n"
     ]
    },
    {
     "name": "stdout",
     "output_type": "stream",
     "text": [
      "Step #374.40"
     ]
    },
    {
     "name": "stderr",
     "output_type": "stream",
     "text": [
      "Warning: Vehicle '2_horizontal.17' performs emergency braking with decel=-9.00 wished=4.50 severity=1.00, time=374.20.\n",
      "Warning: Vehicle '2_horizontal.17' performs emergency stop at the end of lane '2si_1' because of a red traffic light (decel=-10.93, offset=0.29), time=374.40.\n"
     ]
    },
    {
     "name": "stdout",
     "output_type": "stream",
     "text": [
      "Step #378.40"
     ]
    },
    {
     "name": "stderr",
     "output_type": "stream",
     "text": [
      "Warning: Vehicle '4_left.7' performs emergency braking with decel=-9.00 wished=4.50 severity=1.00, time=378.40.\n"
     ]
    },
    {
     "name": "stdout",
     "output_type": "stream",
     "text": [
      "Step #391.60"
     ]
    },
    {
     "name": "stderr",
     "output_type": "stream",
     "text": [
      "Warning: Vehicle '2_left0.5' performs emergency braking with decel=-9.00 wished=4.50 severity=1.00, time=391.60.\n"
     ]
    },
    {
     "name": "stdout",
     "output_type": "stream",
     "text": [
      "Step #393.40"
     ]
    },
    {
     "name": "stderr",
     "output_type": "stream",
     "text": [
      "Warning: Vehicle '1_right.10' performs emergency braking with decel=-9.00 wished=4.50 severity=1.00, time=393.40.\n"
     ]
    },
    {
     "name": "stdout",
     "output_type": "stream",
     "text": [
      "Step #400.60"
     ]
    },
    {
     "name": "stderr",
     "output_type": "stream",
     "text": [
      "Warning: Vehicle '2_right.13' performs emergency braking with decel=-9.00 wished=4.50 severity=1.00, time=400.60.\n"
     ]
    },
    {
     "name": "stdout",
     "output_type": "stream",
     "text": [
      "Step #427.60 (1"
     ]
    },
    {
     "name": "stderr",
     "output_type": "stream",
     "text": [
      "Warning: Vehicle '3_left.5' performs emergency braking with decel=-9.00 wished=4.50 severity=1.00, time=431.20.\n",
      "Warning: Vehicle '3_left.5' performs emergency stop at the end of lane '3si_1' because of a red traffic light (decel=-10.95, offset=0.19), time=431.40.\n"
     ]
    },
    {
     "name": "stdout",
     "output_type": "stream",
     "text": [
      "Step #439.60"
     ]
    },
    {
     "name": "stderr",
     "output_type": "stream",
     "text": [
      "Warning: Vehicle '1_left.7' performs emergency braking with decel=-9.00 wished=4.50 severity=1.00, time=439.60.\n"
     ]
    },
    {
     "name": "stdout",
     "output_type": "stream",
     "text": [
      "Step #451.60"
     ]
    },
    {
     "name": "stderr",
     "output_type": "stream",
     "text": [
      "Warning: Vehicle '2_left.8' performs emergency braking with decel=-9.00 wished=4.50 severity=1.00, time=451.60.\n"
     ]
    },
    {
     "name": "stdout",
     "output_type": "stream",
     "text": [
      "Step #456.80"
     ]
    },
    {
     "name": "stderr",
     "output_type": "stream",
     "text": [
      "Warning: Vehicle '2_left0.6' performs emergency braking with decel=-9.00 wished=4.50 severity=1.00, time=456.40.\n",
      "Warning: Vehicle '2_left0.6' performs emergency stop at the end of lane '2si_2' because of a red traffic light (decel=-9.65, offset=0.08), time=456.80.\n",
      "Warning: Vehicle '3_vertical0.5' performs emergency braking with decel=-9.00 wished=4.50 severity=1.00, time=461.80.\n",
      "Warning: Vehicle '3_vertical0.5' performs emergency stop at the end of lane '3si_0' because of a red traffic light (decel=-12.76, offset=0.04), time=461.80.\n"
     ]
    },
    {
     "name": "stdout",
     "output_type": "stream",
     "text": [
      "Step #463.00"
     ]
    },
    {
     "name": "stderr",
     "output_type": "stream",
     "text": [
      "Warning: Vehicle '2_right.15' performs emergency braking with decel=-9.00 wished=4.50 severity=1.00, time=463.00.\n",
      "Warning: Vehicle '1_right.11' performs emergency braking with decel=-9.00 wished=4.50 severity=1.00, time=467.80.\n"
     ]
    },
    {
     "name": "stdout",
     "output_type": "stream",
     "text": [
      "Step #491.80"
     ]
    },
    {
     "name": "stderr",
     "output_type": "stream",
     "text": [
      "Warning: Vehicle '2_right.16' performs emergency braking with decel=-9.00 wished=4.50 severity=1.00, time=491.80.\n"
     ]
    },
    {
     "name": "stdout",
     "output_type": "stream",
     "text": [
      "Step #500.00"
     ]
    },
    {
     "name": "stderr",
     "output_type": "stream",
     "text": [
      "Warning: Choosing new speed factor 1.23 for vehicle '3_vertical0.22' to match departure speed.\n"
     ]
    },
    {
     "name": "stdout",
     "output_type": "stream",
     "text": [
      "Step #506.80"
     ]
    },
    {
     "name": "stderr",
     "output_type": "stream",
     "text": [
      "Warning: Vehicle '2_left.9' performs emergency braking with decel=-9.00 wished=4.50 severity=1.00, time=506.80.\n"
     ]
    },
    {
     "name": "stdout",
     "output_type": "stream",
     "text": [
      "Step #520.00"
     ]
    },
    {
     "name": "stderr",
     "output_type": "stream",
     "text": [
      "Warning: Vehicle '4_left.8' performs emergency braking with decel=-9.00 wished=4.50 severity=1.00, time=520.00.\n"
     ]
    },
    {
     "name": "stdout",
     "output_type": "stream",
     "text": [
      "Step #523.00"
     ]
    },
    {
     "name": "stderr",
     "output_type": "stream",
     "text": [
      "Warning: Vehicle '2_right.17' performs emergency braking with decel=-9.00 wished=4.50 severity=1.00, time=523.00.\n"
     ]
    },
    {
     "name": "stdout",
     "output_type": "stream",
     "text": [
      "Step #525.00"
     ]
    },
    {
     "name": "stderr",
     "output_type": "stream",
     "text": [
      "Warning: Vehicle '3_left.6' performs emergency braking with decel=-9.00 wished=4.50 severity=1.00, time=524.80.\n",
      "Warning: Vehicle '3_left.6' performs emergency stop at the end of lane '3si_1' because of a red traffic light (decel=-10.95, offset=0.23), time=525.00.\n"
     ]
    },
    {
     "name": "stdout",
     "output_type": "stream",
     "text": [
      "Step #551.80"
     ]
    },
    {
     "name": "stderr",
     "output_type": "stream",
     "text": [
      "Warning: Vehicle '2_right.18' performs emergency braking with decel=-9.00 wished=4.50 severity=1.00, time=551.80.\n"
     ]
    },
    {
     "name": "stdout",
     "output_type": "stream",
     "text": [
      "Step #561.40"
     ]
    },
    {
     "name": "stderr",
     "output_type": "stream",
     "text": [
      "Warning: Vehicle '1_right.12' performs emergency braking with decel=-9.00 wished=4.50 severity=1.00, time=561.40.\n",
      "Warning: Vehicle '2_left.10' performs emergency braking with decel=-9.00 wished=4.50 severity=1.00, time=562.00.\n",
      "Warning: Vehicle '1_left.8' performs emergency braking with decel=-9.00 wished=4.50 severity=1.00, time=562.00.\n"
     ]
    },
    {
     "name": "stdout",
     "output_type": "stream",
     "text": [
      "Step #571.00 "
     ]
    },
    {
     "name": "stderr",
     "output_type": "stream",
     "text": [
      "Warning: Vehicle '2_left0.8' performs emergency braking with decel=-9.00 wished=4.50 severity=1.00, time=578.80.\n",
      "Warning: Vehicle '2_left0.8' performs emergency stop at the end of lane '2si_2' because of a red traffic light (decel=-10.48, offset=0.23), time=579.00.\n"
     ]
    },
    {
     "name": "stdout",
     "output_type": "stream",
     "text": [
      "Step #606.00 (0"
     ]
    },
    {
     "name": "stderr",
     "output_type": "stream",
     "text": [
      "Warning: Vehicle '2_right.20' performs emergency braking with decel=-9.00 wished=4.50 severity=1.00, time=611.80.\n"
     ]
    },
    {
     "name": "stdout",
     "output_type": "stream",
     "text": [
      "Step #617.20"
     ]
    },
    {
     "name": "stderr",
     "output_type": "stream",
     "text": [
      "Warning: Vehicle '2_left.11' performs emergency braking with decel=-9.00 wished=4.50 severity=1.00, time=617.20.\n"
     ]
    },
    {
     "name": "stdout",
     "output_type": "stream",
     "text": [
      "Step #631.60"
     ]
    },
    {
     "name": "stderr",
     "output_type": "stream",
     "text": [
      "Warning: Vehicle '2_left0.9' performs emergency braking with decel=-9.00 wished=4.50 severity=1.00, time=631.60.\n",
      "Warning: Vehicle '4_left.9' performs emergency braking with decel=-9.00 wished=4.50 severity=1.00, time=637.60.\n",
      "Warning: Vehicle '4_left.9' performs emergency stop at the end of lane '4si_1' because of a red traffic light (decel=-10.82, offset=0.27), time=637.80.\n"
     ]
    },
    {
     "name": "stdout",
     "output_type": "stream",
     "text": [
      "Step #640.60"
     ]
    },
    {
     "name": "stderr",
     "output_type": "stream",
     "text": [
      "Warning: Vehicle '2_right.21' performs emergency braking with decel=-9.00 wished=4.50 severity=1.00, time=640.60.\n"
     ]
    },
    {
     "name": "stdout",
     "output_type": "stream",
     "text": [
      "Step #643.00"
     ]
    },
    {
     "name": "stderr",
     "output_type": "stream",
     "text": [
      "Warning: Vehicle '1_right.13' performs emergency braking with decel=-9.00 wished=4.50 severity=1.00, time=643.00.\n",
      "Warning: Vehicle '2_right.21' performs emergency braking with decel=-9.00 wished=4.50 severity=1.00, time=643.00.\n",
      "Warning: Vehicle '2_right.21' performs emergency stop at the end of lane '2si_0' because of a red traffic light (decel=-12.35, offset=0.34), time=643.00.\n"
     ]
    },
    {
     "name": "stdout",
     "output_type": "stream",
     "text": [
      "Step #661.00 ("
     ]
    },
    {
     "name": "stderr",
     "output_type": "stream",
     "text": [
      "Warning: Vehicle '1_left.9' performs emergency braking with decel=-9.00 wished=4.50 severity=1.00, time=662.80.\n"
     ]
    },
    {
     "name": "stdout",
     "output_type": "stream",
     "text": [
      "Step #686.80"
     ]
    },
    {
     "name": "stderr",
     "output_type": "stream",
     "text": [
      "Warning: Vehicle '2_right.22' performs emergency braking with decel=-9.00 wished=4.50 severity=1.00, time=686.20.\n",
      "Warning: Vehicle '2_left.12' performs emergency braking with decel=-9.00 wished=4.50 severity=1.00, time=686.80.\n"
     ]
    },
    {
     "name": "stdout",
     "output_type": "stream",
     "text": [
      "Step #704.80"
     ]
    },
    {
     "name": "stderr",
     "output_type": "stream",
     "text": [
      "Warning: Vehicle '3_left.7' performs emergency braking with decel=-9.00 wished=4.50 severity=1.00, time=704.80.\n"
     ]
    },
    {
     "name": "stdout",
     "output_type": "stream",
     "text": [
      "Step #713.80 "
     ]
    },
    {
     "name": "stderr",
     "output_type": "stream",
     "text": [
      "Warning: Vehicle '1_right.14' performs emergency braking with decel=-9.00 wished=4.50 severity=1.00, time=719.80.\n"
     ]
    },
    {
     "name": "stdout",
     "output_type": "stream",
     "text": [
      "Step #737.80 ("
     ]
    },
    {
     "name": "stderr",
     "output_type": "stream",
     "text": [
      "Warning: Vehicle '2_left0.10' performs emergency braking with decel=-9.00 wished=4.50 severity=1.00, time=742.00.\n"
     ]
    },
    {
     "name": "stdout",
     "output_type": "stream",
     "text": [
      "Step #743.80"
     ]
    },
    {
     "name": "stderr",
     "output_type": "stream",
     "text": [
      "Warning: Vehicle '2_right.23' performs emergency braking with decel=-9.00 wished=4.50 severity=1.00, time=743.80.\n"
     ]
    },
    {
     "name": "stdout",
     "output_type": "stream",
     "text": [
      "Step #797.20"
     ]
    },
    {
     "name": "stderr",
     "output_type": "stream",
     "text": [
      "Warning: Vehicle '2_left.13' performs emergency braking with decel=-9.00 wished=4.50 severity=1.00, time=797.20.\n"
     ]
    },
    {
     "name": "stdout",
     "output_type": "stream",
     "text": [
      "Step #799.00"
     ]
    },
    {
     "name": "stderr",
     "output_type": "stream",
     "text": [
      "Warning: Vehicle '2_right.24' performs emergency braking with decel=-9.00 wished=4.50 severity=1.00, time=799.00.\n"
     ]
    },
    {
     "name": "stdout",
     "output_type": "stream",
     "text": [
      "Step #803.80"
     ]
    },
    {
     "name": "stderr",
     "output_type": "stream",
     "text": [
      "Warning: Vehicle '1_right.15' performs emergency braking with decel=-9.00 wished=4.50 severity=1.00, time=803.80.\n"
     ]
    },
    {
     "name": "stdout",
     "output_type": "stream",
     "text": [
      "Step #806.80"
     ]
    },
    {
     "name": "stderr",
     "output_type": "stream",
     "text": [
      "Warning: Vehicle '1_left.10' performs emergency braking with decel=-9.00 wished=4.50 severity=1.00, time=806.80.\n",
      "Warning: Choosing new speed factor 1.24 for vehicle '1_horizontal0.38' to match departure speed.\n"
     ]
    },
    {
     "name": "stdout",
     "output_type": "stream",
     "text": [
      "Step #810.00"
     ]
    },
    {
     "name": "stderr",
     "output_type": "stream",
     "text": [
      "Warning: Vehicle '3_left.8' performs emergency braking with decel=-9.00 wished=4.50 severity=1.00, time=812.80.\n"
     ]
    },
    {
     "name": "stdout",
     "output_type": "stream",
     "text": [
      "Step #848.80 (0m"
     ]
    },
    {
     "name": "stderr",
     "output_type": "stream",
     "text": [
      "Warning: Vehicle '2_left0.11' performs emergency braking with decel=-9.00 wished=4.50 severity=1.00, time=854.80.\n"
     ]
    },
    {
     "name": "stdout",
     "output_type": "stream",
     "text": [
      "Step #854.80"
     ]
    },
    {
     "name": "stderr",
     "output_type": "stream",
     "text": [
      "Warning: Vehicle '2_right.25' performs emergency braking with decel=-9.00 wished=4.50 severity=1.00, time=856.60.\n"
     ]
    },
    {
     "name": "stdout",
     "output_type": "stream",
     "text": [
      "Step #894.40"
     ]
    },
    {
     "name": "stderr",
     "output_type": "stream",
     "text": [
      "Warning: Vehicle '4_left.11' performs emergency braking with decel=-9.00 wished=4.50 severity=1.00, time=894.40.\n"
     ]
    },
    {
     "name": "stdout",
     "output_type": "stream",
     "text": [
      "Step #909.40"
     ]
    },
    {
     "name": "stderr",
     "output_type": "stream",
     "text": [
      "Warning: Vehicle '1_right.16' performs emergency braking with decel=-9.00 wished=4.50 severity=1.00, time=909.40.\n"
     ]
    },
    {
     "name": "stdout",
     "output_type": "stream",
     "text": [
      "Step #941.20"
     ]
    },
    {
     "name": "stderr",
     "output_type": "stream",
     "text": [
      "Warning: Vehicle '2_left.14' performs emergency braking with decel=-9.00 wished=4.50 severity=1.00, time=941.20.\n"
     ]
    },
    {
     "name": "stdout",
     "output_type": "stream",
     "text": [
      "Step #943.20"
     ]
    },
    {
     "name": "stderr",
     "output_type": "stream",
     "text": [
      "Warning: Vehicle '2_right.26' performs emergency braking with decel=-9.00 wished=4.50 severity=1.00, time=943.00.\n",
      "Warning: Vehicle '2_right.26' performs emergency stop at the end of lane '2si_0' because of a red traffic light (decel=-11.90, offset=0.06), time=943.20.\n"
     ]
    },
    {
     "name": "stdout",
     "output_type": "stream",
     "text": [
      "Step #975.00"
     ]
    },
    {
     "name": "stderr",
     "output_type": "stream",
     "text": [
      "Warning: Choosing new speed factor 1.30 for vehicle '1_horizontal.65' to match departure speed.\n"
     ]
    },
    {
     "name": "stdout",
     "output_type": "stream",
     "text": [
      "Step #994.00"
     ]
    },
    {
     "name": "stderr",
     "output_type": "stream",
     "text": [
      "Warning: Vehicle '1_left.11' performs emergency braking with decel=-9.00 wished=4.50 severity=1.00, time=994.00.\n"
     ]
    },
    {
     "name": "stdout",
     "output_type": "stream",
     "text": [
      "Cumulative Reward: -630.8901263687242\n",
      " Retrying in 1 seconds\n",
      "Loading configuration ... done.\n"
     ]
    },
    {
     "name": "stderr",
     "output_type": "stream",
     "text": [
      "Warning: Missing yellow phase in tlLogic '0', program '0' for tl-index 3 when switching to phase 0\n",
      "Warning: Missing yellow phase in tlLogic '0', program '1' for tl-index 5 when switching to phase 0\n",
      "Warning: Missing yellow phase in tlLogic '0', program '2' for tl-index 0 when switching to phase 0\n",
      "Warning: Missing yellow phase in tlLogic '0', program '3' for tl-index 2 when switching to phase 0\n"
     ]
    },
    {
     "name": "stdout",
     "output_type": "stream",
     "text": [
      "Step #324.00 (1ms ~= 200.00*RT, ~660"
     ]
    },
    {
     "name": "stderr",
     "output_type": "stream",
     "text": [
      "Warning: Teleporting vehicle '2_left.0'; waited too long (yield), lane='2si_2', time=327.60.\n",
      "Warning: Teleporting vehicle '1_left.0'; waited too long (yield), lane='1si_2', time=327.60.\n",
      "Warning: Vehicle '1_left.0' ends teleporting on edge '4o', time 327.60.\n",
      "Warning: Vehicle '2_left.0' ends teleporting on edge '3o', time 327.60.\n"
     ]
    },
    {
     "name": "stdout",
     "output_type": "stream",
     "text": [
      "Step #334.40"
     ]
    },
    {
     "name": "stderr",
     "output_type": "stream",
     "text": [
      "Warning: Teleporting vehicle '4_right.0'; waited too long (yield), lane='4si_0', time=333.60.\n",
      "Warning: Vehicle '4_right.0' ends teleporting on edge '1o', time 333.60.\n",
      "Warning: Teleporting vehicle '3_right.0'; waited too long (yield), lane='3si_0', time=334.40.\n",
      "Warning: Vehicle '3_right.0' ends teleporting on edge '2o', time 334.40.\n"
     ]
    },
    {
     "name": "stdout",
     "output_type": "stream",
     "text": [
      "Step #335.80"
     ]
    },
    {
     "name": "stderr",
     "output_type": "stream",
     "text": [
      "Warning: Teleporting vehicle '3_left.0'; waited too long (yield), lane='3si_1', time=335.40.\n",
      "Warning: Vehicle '3_left.0' ends teleporting on edge '1o', time 335.40.\n",
      "Warning: Teleporting vehicle '4_left.0'; waited too long (yield), lane='4si_1', time=335.80.\n",
      "Warning: Vehicle '4_left.0' ends teleporting on edge '2o', time 335.80.\n"
     ]
    },
    {
     "name": "stdout",
     "output_type": "stream",
     "text": [
      "Step #342.80"
     ]
    },
    {
     "name": "stderr",
     "output_type": "stream",
     "text": [
      "Warning: Vehicle '2_right.11' performs emergency braking with decel=-9.00 wished=4.50 severity=1.00, time=342.80.\n",
      "Warning: Vehicle '2_right.11' performs emergency stop at the end of lane '2si_0' because of a red traffic light (decel=-21.57, offset=1.71), time=342.80.\n"
     ]
    },
    {
     "name": "stdout",
     "output_type": "stream",
     "text": [
      "Step #345.40"
     ]
    },
    {
     "name": "stderr",
     "output_type": "stream",
     "text": [
      "Warning: Vehicle '2_horizontal.22' performs emergency braking with decel=-9.00 wished=4.50 severity=1.00, time=345.20.\n",
      "Warning: Vehicle '1_horizontal.22' performs emergency braking with decel=-9.00 wished=4.50 severity=1.00, time=345.20.\n",
      "Warning: Vehicle '1_horizontal.22' performs emergency stop at the end of lane '1si_1' because of a red traffic light (decel=-11.66, offset=0.00), time=345.40.\n"
     ]
    },
    {
     "name": "stdout",
     "output_type": "stream",
     "text": [
      "Step #399.40 (0ms "
     ]
    },
    {
     "name": "stderr",
     "output_type": "stream",
     "text": [
      "Warning: Vehicle '2_right.13' performs emergency braking with decel=-9.00 wished=4.50 severity=1.00, time=402.20.\n"
     ]
    },
    {
     "name": "stdout",
     "output_type": "stream",
     "text": [
      "Step #431.00"
     ]
    },
    {
     "name": "stderr",
     "output_type": "stream",
     "text": [
      "Warning: Vehicle '2_right.14' performs emergency braking with decel=-9.00 wished=4.50 severity=1.00, time=431.00.\n"
     ]
    },
    {
     "name": "stdout",
     "output_type": "stream",
     "text": [
      "Step #433.20"
     ]
    },
    {
     "name": "stderr",
     "output_type": "stream",
     "text": [
      "Warning: Vehicle '3_left.3' performs emergency braking with decel=-9.00 wished=4.50 severity=1.00, time=432.80.\n",
      "Warning: Vehicle '3_left.3' performs emergency stop at the end of lane '3si_1' because of a red traffic light (decel=-10.66, offset=0.25), time=433.20.\n"
     ]
    },
    {
     "name": "stdout",
     "output_type": "stream",
     "text": [
      "Step #470.80"
     ]
    },
    {
     "name": "stderr",
     "output_type": "stream",
     "text": [
      "Warning: Vehicle '3_right.2' performs emergency braking with decel=-9.00 wished=4.50 severity=1.00, time=470.60.\n",
      "Warning: Vehicle '3_right.2' performs emergency stop at the end of lane '3si_0' because of a red traffic light (decel=-11.87, offset=0.08), time=470.80.\n"
     ]
    },
    {
     "name": "stdout",
     "output_type": "stream",
     "text": [
      "Step #479.80 "
     ]
    },
    {
     "name": "stderr",
     "output_type": "stream",
     "text": [
      "Warning: Vehicle '3_vertical0.1' performs emergency braking with decel=-9.00 wished=4.50 severity=1.00, time=482.80.\n",
      "Warning: Vehicle '3_vertical0.1' performs emergency stop at the end of lane '3si_0' because of a red traffic light (decel=-10.72, offset=0.04), time=483.00.\n"
     ]
    },
    {
     "name": "stdout",
     "output_type": "stream",
     "text": [
      "Step #492.00 "
     ]
    },
    {
     "name": "stderr",
     "output_type": "stream",
     "text": [
      "Warning: Vehicle '2_right.16' performs emergency braking with decel=-9.00 wished=4.50 severity=1.00, time=493.60.\n",
      "Warning: Vehicle '2_right.16' performs emergency stop at the end of lane '2si_0' because of a red traffic light (decel=-10.42, offset=0.28), time=494.00.\n"
     ]
    },
    {
     "name": "stdout",
     "output_type": "stream",
     "text": [
      "Step #500.00"
     ]
    },
    {
     "name": "stderr",
     "output_type": "stream",
     "text": [
      "Warning: Choosing new speed factor 1.23 for vehicle '3_vertical0.22' to match departure speed.\n"
     ]
    },
    {
     "name": "stdout",
     "output_type": "stream",
     "text": [
      "Step #507.40"
     ]
    },
    {
     "name": "stderr",
     "output_type": "stream",
     "text": [
      "Warning: Vehicle '4_left.6' performs emergency braking with decel=-9.00 wished=4.50 severity=1.00, time=507.40.\n",
      "Warning: Vehicle '3_left.4' performs emergency braking with decel=-9.00 wished=4.50 severity=1.00, time=509.80.\n",
      "Warning: Vehicle '3_left.4' performs emergency stop at the end of lane '3si_1' because of a red traffic light (decel=-10.27, offset=0.16), time=510.20.\n"
     ]
    },
    {
     "name": "stdout",
     "output_type": "stream",
     "text": [
      "Step #522.40"
     ]
    },
    {
     "name": "stderr",
     "output_type": "stream",
     "text": [
      "Warning: Vehicle '2_right.17' performs emergency braking with decel=-9.00 wished=4.50 severity=1.00, time=522.40.\n"
     ]
    },
    {
     "name": "stdout",
     "output_type": "stream",
     "text": [
      "Step #621.40"
     ]
    },
    {
     "name": "stderr",
     "output_type": "stream",
     "text": [
      "Warning: Vehicle '4_left.7' performs emergency braking with decel=-9.00 wished=4.50 severity=1.00, time=621.20.\n",
      "Warning: Vehicle '4_left.7' performs emergency stop at the end of lane '4si_1' because of a red traffic light (decel=-11.61, offset=0.04), time=621.40.\n"
     ]
    },
    {
     "name": "stdout",
     "output_type": "stream",
     "text": [
      "Step #653.00"
     ]
    },
    {
     "name": "stderr",
     "output_type": "stream",
     "text": [
      "Warning: Vehicle '1_right.18' performs emergency braking with decel=-9.00 wished=4.50 severity=1.00, time=653.00.\n"
     ]
    },
    {
     "name": "stdout",
     "output_type": "stream",
     "text": [
      "Step #656.00"
     ]
    },
    {
     "name": "stderr",
     "output_type": "stream",
     "text": [
      "Warning: Vehicle '1_left.12' performs emergency braking with decel=-9.00 wished=4.50 severity=1.00, time=656.00.\n",
      "Warning: Vehicle '1_left.12' performs emergency stop at the end of lane '1si_2' because of a red traffic light (decel=-12.36, offset=0.09), time=656.00.\n"
     ]
    },
    {
     "name": "stdout",
     "output_type": "stream",
     "text": [
      "Step #672.00"
     ]
    },
    {
     "name": "stderr",
     "output_type": "stream",
     "text": [
      "Warning: Vehicle '2_right.22' performs emergency braking with decel=-9.00 wished=4.50 severity=1.00, time=672.00.\n"
     ]
    },
    {
     "name": "stdout",
     "output_type": "stream",
     "text": [
      "Step #752.20"
     ]
    },
    {
     "name": "stderr",
     "output_type": "stream",
     "text": [
      "Warning: Vehicle '3_vertical0.5' performs emergency braking with decel=-9.00 wished=4.50 severity=1.00, time=752.00.\n",
      "Warning: Vehicle '3_vertical0.5' performs emergency stop at the end of lane '3si_0' because of a red traffic light (decel=-10.54, offset=0.21), time=752.20.\n"
     ]
    },
    {
     "name": "stdout",
     "output_type": "stream",
     "text": [
      "Step #792.20"
     ]
    },
    {
     "name": "stderr",
     "output_type": "stream",
     "text": [
      "Warning: Vehicle '1_left.14' performs emergency braking with decel=-9.00 wished=4.50 severity=1.00, time=792.20.\n"
     ]
    },
    {
     "name": "stdout",
     "output_type": "stream",
     "text": [
      "Step #794.20"
     ]
    },
    {
     "name": "stderr",
     "output_type": "stream",
     "text": [
      "Warning: Vehicle '2_right.26' performs emergency braking with decel=-9.00 wished=4.50 severity=1.00, time=794.00.\n",
      "Warning: Vehicle '2_right.26' performs emergency stop at the end of lane '2si_0' because of a red traffic light (decel=-11.90, offset=0.06), time=794.20.\n"
     ]
    },
    {
     "name": "stdout",
     "output_type": "stream",
     "text": [
      "Step #795.80"
     ]
    },
    {
     "name": "stderr",
     "output_type": "stream",
     "text": [
      "Warning: Vehicle '4_left.8' performs emergency braking with decel=-9.00 wished=4.50 severity=1.00, time=795.80.\n",
      "Warning: Vehicle '4_left.8' performs emergency stop at the end of lane '4si_1' because of a red traffic light (decel=-12.30, offset=0.10), time=795.80.\n"
     ]
    },
    {
     "name": "stdout",
     "output_type": "stream",
     "text": [
      "Step #804.80 "
     ]
    },
    {
     "name": "stderr",
     "output_type": "stream",
     "text": [
      "Warning: Vehicle '3_left.6' performs emergency braking with decel=-9.00 wished=4.50 severity=1.00, time=807.80.\n"
     ]
    },
    {
     "name": "stdout",
     "output_type": "stream",
     "text": [
      "Step #810.40"
     ]
    },
    {
     "name": "stderr",
     "output_type": "stream",
     "text": [
      "Warning: Choosing new speed factor 1.24 for vehicle '1_horizontal0.38' to match departure speed.\n",
      "Warning: Vehicle '3_left.6' performs emergency braking with decel=-9.00 wished=4.50 severity=1.00, time=810.20.\n",
      "Warning: Vehicle '3_left.6' performs emergency stop at the end of lane '3si_1' because of a red traffic light (decel=-10.98, offset=0.34), time=810.40.\n"
     ]
    },
    {
     "name": "stdout",
     "output_type": "stream",
     "text": [
      "Step #892.60"
     ]
    },
    {
     "name": "stderr",
     "output_type": "stream",
     "text": [
      "Warning: Vehicle '4_left.9' performs emergency braking with decel=-9.00 wished=4.50 severity=1.00, time=892.60.\n"
     ]
    },
    {
     "name": "stdout",
     "output_type": "stream",
     "text": [
      "Step #898.00"
     ]
    },
    {
     "name": "stderr",
     "output_type": "stream",
     "text": [
      "Warning: Vehicle '2_right.29' performs emergency braking with decel=-9.00 wished=4.50 severity=1.00, time=898.00.\n"
     ]
    },
    {
     "name": "stdout",
     "output_type": "stream",
     "text": [
      "Step #957.20"
     ]
    },
    {
     "name": "stderr",
     "output_type": "stream",
     "text": [
      "Warning: Vehicle '1_left.15' performs emergency braking with decel=-9.00 wished=4.50 severity=1.00, time=957.20.\n"
     ]
    },
    {
     "name": "stdout",
     "output_type": "stream",
     "text": [
      "Step #966.20 "
     ]
    },
    {
     "name": "stderr",
     "output_type": "stream",
     "text": [
      "Warning: Vehicle '1_right.23' performs emergency braking with decel=-9.00 wished=4.50 severity=1.00, time=971.00.\n"
     ]
    },
    {
     "name": "stdout",
     "output_type": "stream",
     "text": [
      "Step #975.00"
     ]
    },
    {
     "name": "stderr",
     "output_type": "stream",
     "text": [
      "Warning: Choosing new speed factor 1.30 for vehicle '1_horizontal.65' to match departure speed.\n"
     ]
    },
    {
     "name": "stdout",
     "output_type": "stream",
     "text": [
      "Step #984.80"
     ]
    },
    {
     "name": "stderr",
     "output_type": "stream",
     "text": [
      "Warning: Vehicle '3_left.7' performs emergency braking with decel=-9.00 wished=4.50 severity=1.00, time=984.80.\n"
     ]
    },
    {
     "name": "stdout",
     "output_type": "stream",
     "text": [
      "Step #993.80 Cumulative Reward: -2026.74930382079\n",
      " Retrying in 1 seconds\n",
      "Loading configuration ... done.\n"
     ]
    },
    {
     "name": "stderr",
     "output_type": "stream",
     "text": [
      "Warning: Missing yellow phase in tlLogic '0', program '0' for tl-index 3 when switching to phase 0\n",
      "Warning: Missing yellow phase in tlLogic '0', program '1' for tl-index 5 when switching to phase 0\n",
      "Warning: Missing yellow phase in tlLogic '0', program '2' for tl-index 0 when switching to phase 0\n",
      "Warning: Missing yellow phase in tlLogic '0', program '3' for tl-index 2 when switching to phase 0\n"
     ]
    },
    {
     "name": "stdout",
     "output_type": "stream",
     "text": [
      "Step #33.40"
     ]
    },
    {
     "name": "stderr",
     "output_type": "stream",
     "text": [
      "Warning: Vehicle '3_left.0' performs emergency braking with decel=-9.00 wished=4.50 severity=1.00, time=33.40.\n",
      "Warning: Vehicle '4_left.0' performs emergency braking with decel=-9.00 wished=4.50 severity=1.00, time=33.40.\n"
     ]
    },
    {
     "name": "stdout",
     "output_type": "stream",
     "text": [
      "Step #87.60"
     ]
    },
    {
     "name": "stderr",
     "output_type": "stream",
     "text": [
      "Warning: Vehicle '2_horizontal.5' performs emergency braking with decel=-9.00 wished=4.50 severity=1.00, time=87.60.\n"
     ]
    },
    {
     "name": "stdout",
     "output_type": "stream",
     "text": [
      "Step #103.20"
     ]
    },
    {
     "name": "stderr",
     "output_type": "stream",
     "text": [
      "Warning: Vehicle '2_right.3' performs emergency braking with decel=-9.00 wished=4.50 severity=1.00, time=103.20.\n",
      "Warning: Vehicle '2_right.3' performs emergency stop at the end of lane '2si_0' because of a red traffic light (decel=-21.09, offset=0.74), time=103.20.\n",
      "Warning: Vehicle '1_right.3' performs emergency braking with decel=-9.00 wished=4.50 severity=1.00, time=103.20.\n",
      "Warning: Vehicle '1_right.3' performs emergency stop at the end of lane '1si_0' because of a red traffic light (decel=-21.42, offset=2.40), time=103.20.\n"
     ]
    },
    {
     "name": "stdout",
     "output_type": "stream",
     "text": [
      "Step #124.00"
     ]
    },
    {
     "name": "stderr",
     "output_type": "stream",
     "text": [
      "Warning: Vehicle '3_left.2' performs emergency braking with decel=-9.00 wished=4.50 severity=1.00, time=124.00.\n",
      "Warning: Vehicle '4_left.2' performs emergency braking with decel=-9.00 wished=4.50 severity=1.00, time=124.00.\n",
      "Warning: Vehicle '4_left.2' performs emergency stop at the end of lane '4si_1' because of a red traffic light (decel=-12.64, offset=0.03), time=124.00.\n",
      "Warning: Vehicle '2_right.4' performs emergency braking with decel=-9.00 wished=4.50 severity=1.00, time=131.80.\n"
     ]
    },
    {
     "name": "stdout",
     "output_type": "stream",
     "text": [
      "Step #134.40"
     ]
    },
    {
     "name": "stderr",
     "output_type": "stream",
     "text": [
      "Warning: Vehicle '1_right.4' performs emergency braking with decel=-9.00 wished=4.50 severity=1.00, time=134.20.\n",
      "Warning: Vehicle '1_right.4' performs emergency stop at the end of lane '1si_0' because of a red traffic light (decel=-11.32, offset=0.28), time=134.40.\n"
     ]
    },
    {
     "name": "stdout",
     "output_type": "stream",
     "text": [
      "Step #162.60"
     ]
    },
    {
     "name": "stderr",
     "output_type": "stream",
     "text": [
      "Warning: Vehicle '2_right.5' performs emergency braking with decel=-9.00 wished=4.50 severity=1.00, time=162.60.\n"
     ]
    },
    {
     "name": "stdout",
     "output_type": "stream",
     "text": [
      "Step #164.40"
     ]
    },
    {
     "name": "stderr",
     "output_type": "stream",
     "text": [
      "Warning: Vehicle '4_left.3' performs emergency braking with decel=-9.00 wished=4.50 severity=1.00, time=164.40.\n",
      "Warning: Vehicle '4_left.3' performs emergency braking with decel=-9.00 wished=4.50 severity=1.00, time=166.80.\n",
      "Warning: Vehicle '4_left.3' performs emergency stop at the end of lane '4si_1' because of a red traffic light (decel=-11.03, offset=0.36), time=167.00.\n"
     ]
    },
    {
     "name": "stdout",
     "output_type": "stream",
     "text": [
      "Step #167.00"
     ]
    },
    {
     "name": "stderr",
     "output_type": "stream",
     "text": [
      "Warning: Vehicle '3_left.3' performs emergency braking with decel=-9.00 wished=4.50 severity=1.00, time=169.20.\n",
      "Warning: Vehicle '3_left.3' performs emergency stop at the end of lane '3si_1' because of a red traffic light (decel=-10.34, offset=0.25), time=169.40.\n"
     ]
    },
    {
     "name": "stdout",
     "output_type": "stream",
     "text": [
      "Step #194.40"
     ]
    },
    {
     "name": "stderr",
     "output_type": "stream",
     "text": [
      "Warning: Vehicle '1_right.6' performs emergency braking with decel=-9.00 wished=4.50 severity=1.00, time=193.80.\n",
      "Warning: Vehicle '1_right.6' performs emergency stop at the end of lane '1si_0' because of a red traffic light (decel=-9.77, offset=0.06), time=194.40.\n"
     ]
    },
    {
     "name": "stdout",
     "output_type": "stream",
     "text": [
      "Step #207.20"
     ]
    },
    {
     "name": "stderr",
     "output_type": "stream",
     "text": [
      "Warning: Vehicle '3_right.2' performs emergency braking with decel=-9.00 wished=4.50 severity=1.00, time=207.00.\n",
      "Warning: Vehicle '3_right.2' performs emergency stop at the end of lane '3si_0' because of a red traffic light (decel=-10.55, offset=0.23), time=207.20.\n"
     ]
    },
    {
     "name": "stdout",
     "output_type": "stream",
     "text": [
      "Step #212.40"
     ]
    },
    {
     "name": "stderr",
     "output_type": "stream",
     "text": [
      "Warning: Vehicle '4_left.4' performs emergency braking with decel=-9.00 wished=4.50 severity=1.00, time=212.40.\n",
      "Warning: Vehicle '3_vertical0.1' performs emergency braking with decel=-9.00 wished=4.50 severity=1.00, time=214.20.\n",
      "Warning: Vehicle '3_vertical0.1' performs emergency stop at the end of lane '3si_0' because of a red traffic light (decel=-10.94, offset=0.19), time=214.40.\n"
     ]
    },
    {
     "name": "stdout",
     "output_type": "stream",
     "text": [
      "Step #220.40"
     ]
    },
    {
     "name": "stderr",
     "output_type": "stream",
     "text": [
      "Warning: Vehicle '1_horizontal0.2' performs emergency braking with decel=-9.00 wished=4.50 severity=1.00, time=220.20.\n",
      "Warning: Vehicle '1_horizontal0.2' performs emergency stop at the end of lane '1si_1' because of a red traffic light (decel=-10.60, offset=0.22), time=220.40.\n",
      "Warning: Vehicle '1_right.7' performs emergency braking with decel=-9.00 wished=4.50 severity=1.00, time=222.60.\n"
     ]
    },
    {
     "name": "stdout",
     "output_type": "stream",
     "text": [
      "Step #241.20"
     ]
    },
    {
     "name": "stderr",
     "output_type": "stream",
     "text": [
      "Warning: Vehicle '3_left.4' performs emergency braking with decel=-9.00 wished=4.50 severity=1.00, time=241.20.\n",
      "Warning: Vehicle '1_left.5' performs emergency braking with decel=-9.00 wished=4.50 severity=1.00, time=242.40.\n"
     ]
    },
    {
     "name": "stdout",
     "output_type": "stream",
     "text": [
      "Step #258.00"
     ]
    },
    {
     "name": "stderr",
     "output_type": "stream",
     "text": [
      "Warning: Vehicle '4_left.5' performs emergency braking with decel=-9.00 wished=4.50 severity=1.00, time=258.00.\n"
     ]
    },
    {
     "name": "stdout",
     "output_type": "stream",
     "text": [
      "Step #294.00 (1m"
     ]
    },
    {
     "name": "stderr",
     "output_type": "stream",
     "text": [
      "Warning: Vehicle '4_left.6' performs emergency braking with decel=-9.00 wished=4.50 severity=1.00, time=301.20.\n"
     ]
    },
    {
     "name": "stdout",
     "output_type": "stream",
     "text": [
      "Step #311.40"
     ]
    },
    {
     "name": "stderr",
     "output_type": "stream",
     "text": [
      "Warning: Vehicle '2_right.10' performs emergency braking with decel=-9.00 wished=4.50 severity=1.00, time=311.40.\n"
     ]
    },
    {
     "name": "stdout",
     "output_type": "stream",
     "text": [
      "Step #342.60"
     ]
    },
    {
     "name": "stderr",
     "output_type": "stream",
     "text": [
      "Warning: Vehicle '2_right.11' performs emergency braking with decel=-9.00 wished=4.50 severity=1.00, time=342.60.\n"
     ]
    },
    {
     "name": "stdout",
     "output_type": "stream",
     "text": [
      "Step #361.20"
     ]
    },
    {
     "name": "stderr",
     "output_type": "stream",
     "text": [
      "Warning: Vehicle '4_left.7' performs emergency braking with decel=-9.00 wished=4.50 severity=1.00, time=361.20.\n"
     ]
    },
    {
     "name": "stdout",
     "output_type": "stream",
     "text": [
      "Step #366.60"
     ]
    },
    {
     "name": "stderr",
     "output_type": "stream",
     "text": [
      "Warning: Vehicle '1_right.9' performs emergency braking with decel=-9.00 wished=4.50 severity=1.00, time=366.60.\n"
     ]
    },
    {
     "name": "stdout",
     "output_type": "stream",
     "text": [
      "Step #371.40"
     ]
    },
    {
     "name": "stderr",
     "output_type": "stream",
     "text": [
      "Warning: Vehicle '2_right.12' performs emergency braking with decel=-9.00 wished=4.50 severity=1.00, time=371.40.\n"
     ]
    },
    {
     "name": "stdout",
     "output_type": "stream",
     "text": [
      "Step #403.00"
     ]
    },
    {
     "name": "stderr",
     "output_type": "stream",
     "text": [
      "Warning: Vehicle '2_right.13' performs emergency braking with decel=-9.00 wished=4.50 severity=1.00, time=402.60.\n",
      "Warning: Vehicle '2_right.13' performs emergency stop at the end of lane '2si_0' because of a red traffic light (decel=-10.43, offset=0.10), time=403.00.\n"
     ]
    },
    {
     "name": "stdout",
     "output_type": "stream",
     "text": [
      "Step #421.00 ("
     ]
    },
    {
     "name": "stderr",
     "output_type": "stream",
     "text": [
      "Warning: Vehicle '3_left.5' performs emergency braking with decel=-9.00 wished=4.50 severity=1.00, time=426.00.\n",
      "Warning: Vehicle '3_left.5' performs emergency stop at the end of lane '3si_1' because of a red traffic light (decel=-11.66, offset=0.10), time=426.20.\n"
     ]
    },
    {
     "name": "stdout",
     "output_type": "stream",
     "text": [
      "Step #431.40"
     ]
    },
    {
     "name": "stderr",
     "output_type": "stream",
     "text": [
      "Warning: Vehicle '2_right.14' performs emergency braking with decel=-9.00 wished=4.50 severity=1.00, time=431.40.\n"
     ]
    },
    {
     "name": "stdout",
     "output_type": "stream",
     "text": [
      "Step #441.00"
     ]
    },
    {
     "name": "stderr",
     "output_type": "stream",
     "text": [
      "Warning: Vehicle '2_horizontal.17' performs emergency braking with decel=-9.00 wished=4.50 severity=1.00, time=441.00.\n",
      "Warning: Vehicle '2_horizontal.17' performs emergency stop at the end of lane '2si_1' because of a red traffic light (decel=-12.44, offset=0.06), time=441.00.\n"
     ]
    },
    {
     "name": "stdout",
     "output_type": "stream",
     "text": [
      "Step #456.60"
     ]
    },
    {
     "name": "stderr",
     "output_type": "stream",
     "text": [
      "Warning: Vehicle '3_vertical0.5' performs emergency braking with decel=-9.00 wished=4.50 severity=1.00, time=456.60.\n",
      "Warning: Vehicle '3_vertical0.5' performs emergency stop at the end of lane '3si_0' because of a red traffic light (decel=-12.40, offset=0.02), time=456.60.\n"
     ]
    },
    {
     "name": "stdout",
     "output_type": "stream",
     "text": [
      "Step #494.00"
     ]
    },
    {
     "name": "stderr",
     "output_type": "stream",
     "text": [
      "Warning: Vehicle '2_right.16' performs emergency braking with decel=-9.00 wished=4.50 severity=1.00, time=493.80.\n",
      "Warning: Vehicle '2_right.16' performs emergency stop at the end of lane '2si_0' because of a red traffic light (decel=-11.26, offset=0.22), time=494.00.\n",
      "Warning: Choosing new speed factor 1.23 for vehicle '3_vertical0.22' to match departure speed.\n"
     ]
    },
    {
     "name": "stdout",
     "output_type": "stream",
     "text": [
      "Step #515.00"
     ]
    },
    {
     "name": "stderr",
     "output_type": "stream",
     "text": [
      "Warning: Vehicle '3_left.6' performs emergency braking with decel=-9.00 wished=4.50 severity=1.00, time=514.80.\n",
      "Warning: Vehicle '3_left.6' performs emergency stop at the end of lane '3si_1' because of a red traffic light (decel=-11.74, offset=0.16), time=515.00.\n",
      "Warning: Vehicle '2_right.17' performs emergency braking with decel=-9.00 wished=4.50 severity=1.00, time=522.60.\n"
     ]
    },
    {
     "name": "stdout",
     "output_type": "stream",
     "text": [
      "Step #522.60"
     ]
    },
    {
     "name": "stderr",
     "output_type": "stream",
     "text": [
      "Warning: Vehicle '1_left.7' performs emergency braking with decel=-9.00 wished=4.50 severity=1.00, time=528.00.\n"
     ]
    },
    {
     "name": "stdout",
     "output_type": "stream",
     "text": [
      "Step #555.00 (1"
     ]
    },
    {
     "name": "stderr",
     "output_type": "stream",
     "text": [
      "Warning: Vehicle '1_right.11' performs emergency braking with decel=-9.00 wished=4.50 severity=1.00, time=556.20.\n"
     ]
    },
    {
     "name": "stdout",
     "output_type": "stream",
     "text": [
      "Step #589.80"
     ]
    },
    {
     "name": "stderr",
     "output_type": "stream",
     "text": [
      "Warning: Vehicle '2_right.19' performs emergency braking with decel=-9.00 wished=4.50 severity=1.00, time=589.80.\n"
     ]
    },
    {
     "name": "stdout",
     "output_type": "stream",
     "text": [
      "Step #624.20"
     ]
    },
    {
     "name": "stderr",
     "output_type": "stream",
     "text": [
      "Warning: Vehicle '2_left0.8' performs emergency braking with decel=-9.00 wished=4.50 severity=1.00, time=624.00.\n",
      "Warning: Vehicle '2_left0.8' performs emergency stop at the end of lane '2si_2' because of a red traffic light (decel=-10.91, offset=0.28), time=624.20.\n",
      "Warning: Vehicle '4_left.9' performs emergency braking with decel=-9.00 wished=4.50 severity=1.00, time=630.00.\n",
      "Warning: Vehicle '4_left.9' performs emergency stop at the end of lane '4si_1' because of a red traffic light (decel=-12.47, offset=0.03), time=630.00.\n"
     ]
    },
    {
     "name": "stdout",
     "output_type": "stream",
     "text": [
      "Step #639.00 "
     ]
    },
    {
     "name": "stderr",
     "output_type": "stream",
     "text": [
      "Warning: Vehicle '2_right.20' performs emergency braking with decel=-9.00 wished=4.50 severity=1.00, time=647.40.\n",
      "Warning: Vehicle '1_right.12' performs emergency braking with decel=-9.00 wished=4.50 severity=1.00, time=647.40.\n",
      "Warning: Vehicle '1_right.12' performs emergency stop at the end of lane '1si_0' because of a red traffic light (decel=-12.29, offset=0.02), time=647.40.\n",
      "Warning: Vehicle '1_left.8' performs emergency braking with decel=-9.00 wished=4.50 severity=1.00, time=648.00.\n"
     ]
    },
    {
     "name": "stdout",
     "output_type": "stream",
     "text": [
      "Step #648.40"
     ]
    },
    {
     "name": "stderr",
     "output_type": "stream",
     "text": [
      "Warning: Vehicle '1_left.8' performs emergency stop at the end of lane '1si_2' because of a red traffic light (decel=-11.07, offset=0.02), time=648.40.\n"
     ]
    },
    {
     "name": "stdout",
     "output_type": "stream",
     "text": [
      "Step #666.40 ("
     ]
    },
    {
     "name": "stderr",
     "output_type": "stream",
     "text": [
      "Warning: Vehicle '2_left.11' performs emergency braking with decel=-9.00 wished=4.50 severity=1.00, time=672.00.\n"
     ]
    },
    {
     "name": "stdout",
     "output_type": "stream",
     "text": [
      "Step #679.20"
     ]
    },
    {
     "name": "stderr",
     "output_type": "stream",
     "text": [
      "Warning: Vehicle '2_right.21' performs emergency braking with decel=-9.00 wished=4.50 severity=1.00, time=678.60.\n",
      "Warning: Vehicle '2_left0.9' performs emergency braking with decel=-9.00 wished=4.50 severity=1.00, time=679.20.\n",
      "Warning: Vehicle '2_right.21' performs emergency braking with decel=-9.00 wished=4.50 severity=1.00, time=681.00.\n",
      "Warning: Vehicle '2_right.21' performs emergency stop at the end of lane '2si_0' because of a red traffic light (decel=-12.26, offset=0.10), time=681.00.\n"
     ]
    },
    {
     "name": "stdout",
     "output_type": "stream",
     "text": [
      "Step #687.60"
     ]
    },
    {
     "name": "stderr",
     "output_type": "stream",
     "text": [
      "Warning: Vehicle '3_left.7' performs emergency braking with decel=-9.00 wished=4.50 severity=1.00, time=687.60.\n"
     ]
    },
    {
     "name": "stdout",
     "output_type": "stream",
     "text": [
      "Step #721.80"
     ]
    },
    {
     "name": "stderr",
     "output_type": "stream",
     "text": [
      "Warning: Vehicle '1_right.13' performs emergency braking with decel=-9.00 wished=4.50 severity=1.00, time=721.80.\n"
     ]
    },
    {
     "name": "stdout",
     "output_type": "stream",
     "text": [
      "Step #739.80 ("
     ]
    },
    {
     "name": "stderr",
     "output_type": "stream",
     "text": [
      "Warning: Vehicle '1_left.9' performs emergency braking with decel=-9.00 wished=4.50 severity=1.00, time=741.60.\n"
     ]
    },
    {
     "name": "stdout",
     "output_type": "stream",
     "text": [
      "Step #756.00"
     ]
    },
    {
     "name": "stderr",
     "output_type": "stream",
     "text": [
      "Warning: Vehicle '2_left.12' performs emergency braking with decel=-9.00 wished=4.50 severity=1.00, time=756.00.\n"
     ]
    },
    {
     "name": "stdout",
     "output_type": "stream",
     "text": [
      "Step #774.00 ("
     ]
    },
    {
     "name": "stderr",
     "output_type": "stream",
     "text": [
      "Warning: Vehicle '4_left.10' performs emergency braking with decel=-9.00 wished=4.50 severity=1.00, time=776.40.\n"
     ]
    },
    {
     "name": "stdout",
     "output_type": "stream",
     "text": [
      "Step #794.40 ("
     ]
    },
    {
     "name": "stderr",
     "output_type": "stream",
     "text": [
      "Warning: Vehicle '1_right.14' performs emergency braking with decel=-9.00 wished=4.50 severity=1.00, time=798.60.\n"
     ]
    },
    {
     "name": "stdout",
     "output_type": "stream",
     "text": [
      "Step #798.60"
     ]
    },
    {
     "name": "stderr",
     "output_type": "stream",
     "text": [
      "Warning: Vehicle '3_left.8' performs emergency braking with decel=-9.00 wished=4.50 severity=1.00, time=800.40.\n"
     ]
    },
    {
     "name": "stdout",
     "output_type": "stream",
     "text": [
      "Step #810.00"
     ]
    },
    {
     "name": "stderr",
     "output_type": "stream",
     "text": [
      "Warning: Choosing new speed factor 1.24 for vehicle '1_horizontal0.38' to match departure speed.\n"
     ]
    },
    {
     "name": "stdout",
     "output_type": "stream",
     "text": [
      "Step #811.20"
     ]
    },
    {
     "name": "stderr",
     "output_type": "stream",
     "text": [
      "Warning: Vehicle '2_left0.10' performs emergency braking with decel=-9.00 wished=4.50 severity=1.00, time=811.20.\n"
     ]
    },
    {
     "name": "stdout",
     "output_type": "stream",
     "text": [
      "Step #813.00"
     ]
    },
    {
     "name": "stderr",
     "output_type": "stream",
     "text": [
      "Warning: Vehicle '2_right.23' performs emergency braking with decel=-9.00 wished=4.50 severity=1.00, time=813.00.\n"
     ]
    },
    {
     "name": "stdout",
     "output_type": "stream",
     "text": [
      "Step #867.00 (0ms "
     ]
    },
    {
     "name": "stderr",
     "output_type": "stream",
     "text": [
      "Warning: Vehicle '2_left.13' performs emergency braking with decel=-9.00 wished=4.50 severity=1.00, time=868.80.\n"
     ]
    },
    {
     "name": "stdout",
     "output_type": "stream",
     "text": [
      "Step #870.60"
     ]
    },
    {
     "name": "stderr",
     "output_type": "stream",
     "text": [
      "Warning: Vehicle '2_right.24' performs emergency braking with decel=-9.00 wished=4.50 severity=1.00, time=870.60.\n"
     ]
    },
    {
     "name": "stdout",
     "output_type": "stream",
     "text": [
      "Step #879.60 "
     ]
    },
    {
     "name": "stderr",
     "output_type": "stream",
     "text": [
      "Warning: Vehicle '1_right.15' performs emergency braking with decel=-9.00 wished=4.50 severity=1.00, time=882.60.\n"
     ]
    },
    {
     "name": "stdout",
     "output_type": "stream",
     "text": [
      "Step #885.60"
     ]
    },
    {
     "name": "stderr",
     "output_type": "stream",
     "text": [
      "Warning: Vehicle '1_left.10' performs emergency braking with decel=-9.00 wished=4.50 severity=1.00, time=885.60.\n"
     ]
    },
    {
     "name": "stdout",
     "output_type": "stream",
     "text": [
      "Step #889.20"
     ]
    },
    {
     "name": "stderr",
     "output_type": "stream",
     "text": [
      "Warning: Vehicle '4_left.11' performs emergency braking with decel=-9.00 wished=4.50 severity=1.00, time=889.20.\n"
     ]
    },
    {
     "name": "stdout",
     "output_type": "stream",
     "text": [
      "Step #926.40"
     ]
    },
    {
     "name": "stderr",
     "output_type": "stream",
     "text": [
      "Warning: Vehicle '2_left0.11' performs emergency braking with decel=-9.00 wished=4.50 severity=1.00, time=926.40.\n",
      "Warning: Vehicle '2_right.25' performs emergency braking with decel=-9.00 wished=4.50 severity=1.00, time=928.20.\n"
     ]
    },
    {
     "name": "stdout",
     "output_type": "stream",
     "text": [
      "Step #975.00"
     ]
    },
    {
     "name": "stderr",
     "output_type": "stream",
     "text": [
      "Warning: Choosing new speed factor 1.30 for vehicle '1_horizontal.65' to match departure speed.\n"
     ]
    },
    {
     "name": "stdout",
     "output_type": "stream",
     "text": [
      "Step #984.00 "
     ]
    },
    {
     "name": "stderr",
     "output_type": "stream",
     "text": [
      "Warning: Vehicle '1_right.16' performs emergency braking with decel=-9.00 wished=4.50 severity=1.00, time=990.60.\n"
     ]
    },
    {
     "name": "stdout",
     "output_type": "stream",
     "text": [
      "Step #997.20"
     ]
    },
    {
     "name": "stderr",
     "output_type": "stream",
     "text": [
      "Warning: Vehicle '3_left.9' performs emergency braking with decel=-9.00 wished=4.50 severity=1.00, time=997.20.\n"
     ]
    },
    {
     "name": "stdout",
     "output_type": "stream",
     "text": [
      "Cumulative Reward: -652.8326544920488\n",
      " Retrying in 1 seconds\n",
      "Loading configuration ... done.\n"
     ]
    },
    {
     "name": "stderr",
     "output_type": "stream",
     "text": [
      "Warning: Missing yellow phase in tlLogic '0', program '0' for tl-index 3 when switching to phase 0\n",
      "Warning: Missing yellow phase in tlLogic '0', program '1' for tl-index 5 when switching to phase 0\n",
      "Warning: Missing yellow phase in tlLogic '0', program '2' for tl-index 0 when switching to phase 0\n",
      "Warning: Missing yellow phase in tlLogic '0', program '3' for tl-index 2 when switching to phase 0\n"
     ]
    },
    {
     "name": "stdout",
     "output_type": "stream",
     "text": [
      "Step #52.20"
     ]
    },
    {
     "name": "stderr",
     "output_type": "stream",
     "text": [
      "Warning: Vehicle '4_vertical.0' performs emergency braking with decel=-9.00 wished=4.50 severity=1.00, time=50.80.\n",
      "Warning: Vehicle '4_vertical.0' performs emergency stop at the end of lane '4si_0' because of a red traffic light (decel=-10.32, offset=0.09), time=52.20.\n"
     ]
    },
    {
     "name": "stdout",
     "output_type": "stream",
     "text": [
      "Step #78.60"
     ]
    },
    {
     "name": "stderr",
     "output_type": "stream",
     "text": [
      "Warning: Vehicle '3_left.1' performs emergency braking with decel=-9.00 wished=4.50 severity=1.00, time=78.20.\n",
      "Warning: Vehicle '3_left.1' performs emergency stop at the end of lane '3si_1' because of a red traffic light (decel=-10.73, offset=0.06), time=78.60.\n"
     ]
    },
    {
     "name": "stdout",
     "output_type": "stream",
     "text": [
      "Step #102.80"
     ]
    },
    {
     "name": "stderr",
     "output_type": "stream",
     "text": [
      "Warning: Vehicle '2_horizontal.6' performs emergency braking with decel=-9.00 wished=4.50 severity=1.00, time=102.80.\n",
      "Warning: Vehicle '1_right.3' performs emergency braking with decel=-9.00 wished=4.50 severity=1.00, time=102.80.\n"
     ]
    },
    {
     "name": "stdout",
     "output_type": "stream",
     "text": [
      "Step #124.20"
     ]
    },
    {
     "name": "stderr",
     "output_type": "stream",
     "text": [
      "Warning: Vehicle '4_left.2' performs emergency braking with decel=-9.00 wished=4.50 severity=1.00, time=124.00.\n",
      "Warning: Vehicle '4_left.2' performs emergency stop at the end of lane '4si_1' because of a red traffic light (decel=-10.67, offset=0.26), time=124.20.\n"
     ]
    },
    {
     "name": "stdout",
     "output_type": "stream",
     "text": [
      "Step #142.20 ("
     ]
    },
    {
     "name": "stderr",
     "output_type": "stream",
     "text": [
      "Warning: Vehicle '1_left.3' performs emergency braking with decel=-9.00 wished=4.50 severity=1.00, time=146.80.\n"
     ]
    },
    {
     "name": "stdout",
     "output_type": "stream",
     "text": [
      "Step #164.80"
     ]
    },
    {
     "name": "stderr",
     "output_type": "stream",
     "text": [
      "Warning: Vehicle '4_left.3' performs emergency braking with decel=-9.00 wished=4.50 severity=1.00, time=164.80.\n"
     ]
    },
    {
     "name": "stdout",
     "output_type": "stream",
     "text": [
      "Step #167.20"
     ]
    },
    {
     "name": "stderr",
     "output_type": "stream",
     "text": [
      "Warning: Vehicle '3_left.3' performs emergency braking with decel=-9.00 wished=4.50 severity=1.00, time=167.20.\n"
     ]
    },
    {
     "name": "stdout",
     "output_type": "stream",
     "text": [
      "Step #175.40"
     ]
    },
    {
     "name": "stderr",
     "output_type": "stream",
     "text": [
      "Warning: Vehicle '1_horizontal0.2' performs emergency braking with decel=-9.00 wished=4.50 severity=1.00, time=175.00.\n",
      "Warning: Vehicle '1_horizontal0.2' performs emergency stop at the end of lane '1si_1' because of a red traffic light (decel=-9.92, offset=0.09), time=175.40.\n"
     ]
    },
    {
     "name": "stdout",
     "output_type": "stream",
     "text": [
      "Step #195.40"
     ]
    },
    {
     "name": "stderr",
     "output_type": "stream",
     "text": [
      "Warning: Vehicle '3_right.2' performs emergency braking with decel=-9.00 wished=4.50 severity=1.00, time=195.40.\n",
      "Warning: Vehicle '3_right.2' performs emergency stop at the end of lane '3si_0' because of a red traffic light (decel=-12.23, offset=0.04), time=195.40.\n"
     ]
    },
    {
     "name": "stdout",
     "output_type": "stream",
     "text": [
      "Step #212.80"
     ]
    },
    {
     "name": "stderr",
     "output_type": "stream",
     "text": [
      "Warning: Vehicle '4_left.4' performs emergency braking with decel=-9.00 wished=4.50 severity=1.00, time=212.80.\n"
     ]
    },
    {
     "name": "stdout",
     "output_type": "stream",
     "text": [
      "Step #221.80 "
     ]
    },
    {
     "name": "stderr",
     "output_type": "stream",
     "text": [
      "Warning: Vehicle '2_right.7' performs emergency braking with decel=-9.00 wished=4.50 severity=1.00, time=223.00.\n",
      "Warning: Vehicle '2_right.7' performs emergency stop at the end of lane '2si_0' because of a red traffic light (decel=-11.28, offset=0.04), time=223.40.\n"
     ]
    },
    {
     "name": "stdout",
     "output_type": "stream",
     "text": [
      "Step #232.00"
     ]
    },
    {
     "name": "stderr",
     "output_type": "stream",
     "text": [
      "Warning: Vehicle '3_left.4' performs emergency braking with decel=-9.00 wished=4.50 severity=1.00, time=232.00.\n",
      "Warning: Vehicle '1_left.5' performs emergency braking with decel=-9.00 wished=4.50 severity=1.00, time=235.60.\n"
     ]
    },
    {
     "name": "stdout",
     "output_type": "stream",
     "text": [
      "Step #254.40"
     ]
    },
    {
     "name": "stderr",
     "output_type": "stream",
     "text": [
      "Warning: Vehicle '2_right.8' performs emergency braking with decel=-9.00 wished=4.50 severity=1.00, time=254.20.\n",
      "Warning: Vehicle '2_right.8' performs emergency stop at the end of lane '2si_0' because of a red traffic light (decel=-11.13, offset=0.32), time=254.40.\n"
     ]
    },
    {
     "name": "stdout",
     "output_type": "stream",
     "text": [
      "Step #258.40"
     ]
    },
    {
     "name": "stderr",
     "output_type": "stream",
     "text": [
      "Warning: Vehicle '4_left.5' performs emergency braking with decel=-9.00 wished=4.50 severity=1.00, time=258.40.\n"
     ]
    },
    {
     "name": "stdout",
     "output_type": "stream",
     "text": [
      "Step #283.00"
     ]
    },
    {
     "name": "stderr",
     "output_type": "stream",
     "text": [
      "Warning: Vehicle '2_right.9' performs emergency braking with decel=-9.00 wished=4.50 severity=1.00, time=283.00.\n"
     ]
    },
    {
     "name": "stdout",
     "output_type": "stream",
     "text": [
      "Step #301.60"
     ]
    },
    {
     "name": "stderr",
     "output_type": "stream",
     "text": [
      "Warning: Vehicle '4_left.6' performs emergency braking with decel=-9.00 wished=4.50 severity=1.00, time=301.60.\n"
     ]
    },
    {
     "name": "stdout",
     "output_type": "stream",
     "text": [
      "Step #311.80"
     ]
    },
    {
     "name": "stderr",
     "output_type": "stream",
     "text": [
      "Warning: Vehicle '2_right.10' performs emergency braking with decel=-9.00 wished=4.50 severity=1.00, time=311.80.\n"
     ]
    },
    {
     "name": "stdout",
     "output_type": "stream",
     "text": [
      "Step #316.60"
     ]
    },
    {
     "name": "stderr",
     "output_type": "stream",
     "text": [
      "Warning: Vehicle '1_right.9' performs emergency braking with decel=-9.00 wished=4.50 severity=1.00, time=316.60.\n"
     ]
    },
    {
     "name": "stdout",
     "output_type": "stream",
     "text": [
      "Step #331.60"
     ]
    },
    {
     "name": "stderr",
     "output_type": "stream",
     "text": [
      "Warning: Vehicle '2_left0.4' performs emergency braking with decel=-9.00 wished=4.50 severity=1.00, time=331.60.\n"
     ]
    },
    {
     "name": "stdout",
     "output_type": "stream",
     "text": [
      "Step #343.00"
     ]
    },
    {
     "name": "stderr",
     "output_type": "stream",
     "text": [
      "Warning: Vehicle '2_right.11' performs emergency braking with decel=-9.00 wished=4.50 severity=1.00, time=343.00.\n"
     ]
    },
    {
     "name": "stdout",
     "output_type": "stream",
     "text": [
      "Step #347.20"
     ]
    },
    {
     "name": "stderr",
     "output_type": "stream",
     "text": [
      "Warning: Vehicle '4_left.7' performs emergency braking with decel=-9.00 wished=4.50 severity=1.00, time=347.20.\n"
     ]
    },
    {
     "name": "stdout",
     "output_type": "stream",
     "text": [
      "Step #365.20 ("
     ]
    },
    {
     "name": "stderr",
     "output_type": "stream",
     "text": [
      "Warning: Vehicle '2_right.12' performs emergency braking with decel=-9.00 wished=4.50 severity=1.00, time=371.80.\n"
     ]
    },
    {
     "name": "stdout",
     "output_type": "stream",
     "text": [
      "Step #391.60"
     ]
    },
    {
     "name": "stderr",
     "output_type": "stream",
     "text": [
      "Warning: Vehicle '2_left0.5' performs emergency braking with decel=-9.00 wished=4.50 severity=1.00, time=391.60.\n",
      "Warning: Vehicle '2_right.13' performs emergency braking with decel=-9.00 wished=4.50 severity=1.00, time=400.60.\n"
     ]
    },
    {
     "name": "stdout",
     "output_type": "stream",
     "text": [
      "Step #400.60"
     ]
    },
    {
     "name": "stderr",
     "output_type": "stream",
     "text": [
      "Warning: Vehicle '3_left.5' performs emergency braking with decel=-9.00 wished=4.50 severity=1.00, time=404.80.\n",
      "Warning: Vehicle '3_left.5' performs emergency stop at the end of lane '3si_1' because of a red traffic light (decel=-12.44, offset=0.63), time=404.80.\n"
     ]
    },
    {
     "name": "stdout",
     "output_type": "stream",
     "text": [
      "Step #413.80 "
     ]
    },
    {
     "name": "stderr",
     "output_type": "stream",
     "text": [
      "Warning: Vehicle '2_horizontal.17' performs emergency braking with decel=-9.00 wished=4.50 severity=1.00, time=415.00.\n",
      "Warning: Vehicle '2_horizontal.17' performs emergency stop at the end of lane '2si_1' because of a red traffic light (decel=-10.87, offset=0.16), time=415.20.\n"
     ]
    },
    {
     "name": "stdout",
     "output_type": "stream",
     "text": [
      "Step #435.60"
     ]
    },
    {
     "name": "stderr",
     "output_type": "stream",
     "text": [
      "Warning: Vehicle '3_vertical0.5' performs emergency braking with decel=-9.00 wished=4.50 severity=1.00, time=435.40.\n",
      "Warning: Vehicle '3_vertical0.5' performs emergency stop at the end of lane '3si_0' because of a red traffic light (decel=-10.42, offset=0.23), time=435.60.\n"
     ]
    },
    {
     "name": "stdout",
     "output_type": "stream",
     "text": [
      "Step #441.40"
     ]
    },
    {
     "name": "stderr",
     "output_type": "stream",
     "text": [
      "Warning: Vehicle '1_right.10' performs emergency braking with decel=-9.00 wished=4.50 severity=1.00, time=441.40.\n"
     ]
    },
    {
     "name": "stdout",
     "output_type": "stream",
     "text": [
      "Step #463.00"
     ]
    },
    {
     "name": "stderr",
     "output_type": "stream",
     "text": [
      "Warning: Vehicle '2_right.15' performs emergency braking with decel=-9.00 wished=4.50 severity=1.00, time=463.00.\n"
     ]
    },
    {
     "name": "stdout",
     "output_type": "stream",
     "text": [
      "Step #482.80"
     ]
    },
    {
     "name": "stderr",
     "output_type": "stream",
     "text": [
      "Warning: Vehicle '1_left.7' performs emergency braking with decel=-9.00 wished=4.50 severity=1.00, time=482.80.\n",
      "Warning: Vehicle '4_left.8' performs emergency braking with decel=-9.00 wished=4.50 severity=1.00, time=484.00.\n",
      "Warning: Vehicle '4_left.8' performs emergency stop at the end of lane '4si_1' because of a red traffic light (decel=-10.24, offset=0.23), time=484.40.\n"
     ]
    },
    {
     "name": "stdout",
     "output_type": "stream",
     "text": [
      "Step #491.80"
     ]
    },
    {
     "name": "stderr",
     "output_type": "stream",
     "text": [
      "Warning: Vehicle '3_left.6' performs emergency braking with decel=-9.00 wished=4.50 severity=1.00, time=491.20.\n",
      "Warning: Vehicle '2_right.16' performs emergency braking with decel=-9.00 wished=4.50 severity=1.00, time=491.80.\n",
      "Warning: Vehicle '3_left.6' performs emergency braking with decel=-9.00 wished=4.50 severity=1.00, time=493.60.\n",
      "Warning: Vehicle '3_left.6' performs emergency stop at the end of lane '3si_1' because of a red traffic light (decel=-10.81, offset=0.26), time=493.80.\n"
     ]
    },
    {
     "name": "stdout",
     "output_type": "stream",
     "text": [
      "Step #500.00"
     ]
    },
    {
     "name": "stderr",
     "output_type": "stream",
     "text": [
      "Warning: Choosing new speed factor 1.23 for vehicle '3_vertical0.22' to match departure speed.\n",
      "Warning: Vehicle '2_left.9' performs emergency braking with decel=-9.00 wished=4.50 severity=1.00, time=506.80.\n"
     ]
    },
    {
     "name": "stdout",
     "output_type": "stream",
     "text": [
      "Step #515.80 "
     ]
    },
    {
     "name": "stderr",
     "output_type": "stream",
     "text": [
      "Warning: Vehicle '2_right.17' performs emergency braking with decel=-9.00 wished=4.50 severity=1.00, time=523.00.\n"
     ]
    },
    {
     "name": "stdout",
     "output_type": "stream",
     "text": [
      "Step #551.80"
     ]
    },
    {
     "name": "stderr",
     "output_type": "stream",
     "text": [
      "Warning: Vehicle '2_right.18' performs emergency braking with decel=-9.00 wished=4.50 severity=1.00, time=551.80.\n"
     ]
    },
    {
     "name": "stdout",
     "output_type": "stream",
     "text": [
      "Step #562.00"
     ]
    },
    {
     "name": "stderr",
     "output_type": "stream",
     "text": [
      "Warning: Vehicle '2_left.10' performs emergency braking with decel=-9.00 wished=4.50 severity=1.00, time=562.00.\n"
     ]
    },
    {
     "name": "stdout",
     "output_type": "stream",
     "text": [
      "Step #576.60"
     ]
    },
    {
     "name": "stderr",
     "output_type": "stream",
     "text": [
      "Warning: Vehicle '2_left0.8' performs emergency braking with decel=-9.00 wished=4.50 severity=1.00, time=576.40.\n",
      "Warning: Vehicle '2_left0.8' performs emergency stop at the end of lane '2si_2' because of a red traffic light (decel=-11.36, offset=0.16), time=576.60.\n",
      "Warning: Vehicle '2_right.19' performs emergency braking with decel=-9.00 wished=4.50 severity=1.00, time=583.00.\n"
     ]
    },
    {
     "name": "stdout",
     "output_type": "stream",
     "text": [
      "Step #600.80"
     ]
    },
    {
     "name": "stderr",
     "output_type": "stream",
     "text": [
      "Warning: Vehicle '1_left.8' performs emergency braking with decel=-9.00 wished=4.50 severity=1.00, time=600.40.\n",
      "Warning: Vehicle '1_left.8' performs emergency stop at the end of lane '1si_2' because of a red traffic light (decel=-10.90, offset=0.00), time=600.80.\n"
     ]
    },
    {
     "name": "stdout",
     "output_type": "stream",
     "text": [
      "Step #601.80"
     ]
    },
    {
     "name": "stderr",
     "output_type": "stream",
     "text": [
      "Warning: Vehicle '4_left.9' performs emergency braking with decel=-9.00 wished=4.50 severity=1.00, time=601.60.\n",
      "Warning: Vehicle '4_left.9' performs emergency stop at the end of lane '4si_1' because of a red traffic light (decel=-10.74, offset=0.22), time=601.80.\n"
     ]
    },
    {
     "name": "stdout",
     "output_type": "stream",
     "text": [
      "Step #621.40"
     ]
    },
    {
     "name": "stderr",
     "output_type": "stream",
     "text": [
      "Warning: Vehicle '2_right.20' performs emergency braking with decel=-9.00 wished=4.50 severity=1.00, time=621.40.\n"
     ]
    },
    {
     "name": "stdout",
     "output_type": "stream",
     "text": [
      "Step #646.00"
     ]
    },
    {
     "name": "stderr",
     "output_type": "stream",
     "text": [
      "Warning: Vehicle '2_left.11' performs emergency braking with decel=-9.00 wished=4.50 severity=1.00, time=646.00.\n"
     ]
    },
    {
     "name": "stdout",
     "output_type": "stream",
     "text": [
      "Step #653.20"
     ]
    },
    {
     "name": "stderr",
     "output_type": "stream",
     "text": [
      "Warning: Vehicle '2_left0.9' performs emergency braking with decel=-9.00 wished=4.50 severity=1.00, time=653.20.\n",
      "Warning: Vehicle '2_right.21' performs emergency braking with decel=-9.00 wished=4.50 severity=1.00, time=655.00.\n",
      "Warning: Vehicle '2_right.21' performs emergency stop at the end of lane '2si_0' because of a red traffic light (decel=-11.62, offset=0.20), time=655.20.\n"
     ]
    },
    {
     "name": "stdout",
     "output_type": "stream",
     "text": [
      "Step #682.20 (1"
     ]
    },
    {
     "name": "stderr",
     "output_type": "stream",
     "text": [
      "Warning: Vehicle '1_left.9' performs emergency braking with decel=-9.00 wished=4.50 severity=1.00, time=689.20.\n"
     ]
    },
    {
     "name": "stdout",
     "output_type": "stream",
     "text": [
      "Step #725.20"
     ]
    },
    {
     "name": "stderr",
     "output_type": "stream",
     "text": [
      "Warning: Vehicle '2_right.22' performs emergency braking with decel=-9.00 wished=4.50 severity=1.00, time=724.60.\n",
      "Warning: Vehicle '2_left.12' performs emergency braking with decel=-9.00 wished=4.50 severity=1.00, time=725.20.\n"
     ]
    },
    {
     "name": "stdout",
     "output_type": "stream",
     "text": [
      "Step #734.20 "
     ]
    },
    {
     "name": "stderr",
     "output_type": "stream",
     "text": [
      "Warning: Vehicle '4_left.10' performs emergency braking with decel=-9.00 wished=4.50 severity=1.00, time=740.80.\n"
     ]
    },
    {
     "name": "stdout",
     "output_type": "stream",
     "text": [
      "Step #774.40"
     ]
    },
    {
     "name": "stderr",
     "output_type": "stream",
     "text": [
      "Warning: Vehicle '3_left.8' performs emergency braking with decel=-9.00 wished=4.50 severity=1.00, time=774.40.\n"
     ]
    },
    {
     "name": "stdout",
     "output_type": "stream",
     "text": [
      "Step #780.40"
     ]
    },
    {
     "name": "stderr",
     "output_type": "stream",
     "text": [
      "Warning: Vehicle '2_left0.10' performs emergency braking with decel=-9.00 wished=4.50 severity=1.00, time=780.40.\n",
      "Warning: Vehicle '2_right.23' performs emergency braking with decel=-9.00 wished=4.50 severity=1.00, time=782.20.\n"
     ]
    },
    {
     "name": "stdout",
     "output_type": "stream",
     "text": [
      "Step #809.20 (0"
     ]
    },
    {
     "name": "stderr",
     "output_type": "stream",
     "text": [
      "Warning: Choosing new speed factor 1.24 for vehicle '1_horizontal0.38' to match departure speed.\n"
     ]
    },
    {
     "name": "stdout",
     "output_type": "stream",
     "text": [
      "Step #827.80"
     ]
    },
    {
     "name": "stderr",
     "output_type": "stream",
     "text": [
      "Warning: Vehicle '1_right.15' performs emergency braking with decel=-9.00 wished=4.50 severity=1.00, time=827.80.\n"
     ]
    },
    {
     "name": "stdout",
     "output_type": "stream",
     "text": [
      "Step #831.20"
     ]
    },
    {
     "name": "stderr",
     "output_type": "stream",
     "text": [
      "Warning: Vehicle '1_left.10' performs emergency braking with decel=-9.00 wished=4.50 severity=1.00, time=830.80.\n",
      "Warning: Vehicle '1_left.10' performs emergency stop at the end of lane '1si_2' because of a red traffic light (decel=-11.35, offset=0.01), time=831.20.\n"
     ]
    },
    {
     "name": "stdout",
     "output_type": "stream",
     "text": [
      "Step #838.00"
     ]
    },
    {
     "name": "stderr",
     "output_type": "stream",
     "text": [
      "Warning: Vehicle '2_left.13' performs emergency braking with decel=-9.00 wished=4.50 severity=1.00, time=838.00.\n"
     ]
    },
    {
     "name": "stdout",
     "output_type": "stream",
     "text": [
      "Step #839.80"
     ]
    },
    {
     "name": "stderr",
     "output_type": "stream",
     "text": [
      "Warning: Vehicle '2_right.24' performs emergency braking with decel=-9.00 wished=4.50 severity=1.00, time=839.80.\n"
     ]
    },
    {
     "name": "stdout",
     "output_type": "stream",
     "text": [
      "Step #853.60"
     ]
    },
    {
     "name": "stderr",
     "output_type": "stream",
     "text": [
      "Warning: Vehicle '4_left.11' performs emergency braking with decel=-9.00 wished=4.50 severity=1.00, time=853.60.\n"
     ]
    },
    {
     "name": "stdout",
     "output_type": "stream",
     "text": [
      "Step #895.60"
     ]
    },
    {
     "name": "stderr",
     "output_type": "stream",
     "text": [
      "Warning: Vehicle '2_left0.11' performs emergency braking with decel=-9.00 wished=4.50 severity=1.00, time=895.60.\n"
     ]
    },
    {
     "name": "stdout",
     "output_type": "stream",
     "text": [
      "Step #897.40"
     ]
    },
    {
     "name": "stderr",
     "output_type": "stream",
     "text": [
      "Warning: Vehicle '2_right.25' performs emergency braking with decel=-9.00 wished=4.50 severity=1.00, time=897.40.\n"
     ]
    },
    {
     "name": "stdout",
     "output_type": "stream",
     "text": [
      "Step #933.40"
     ]
    },
    {
     "name": "stderr",
     "output_type": "stream",
     "text": [
      "Warning: Vehicle '1_right.16' performs emergency braking with decel=-9.00 wished=4.50 severity=1.00, time=933.40.\n"
     ]
    },
    {
     "name": "stdout",
     "output_type": "stream",
     "text": [
      "Step #971.20"
     ]
    },
    {
     "name": "stderr",
     "output_type": "stream",
     "text": [
      "Warning: Vehicle '4_left.12' performs emergency braking with decel=-9.00 wished=4.50 severity=1.00, time=971.20.\n"
     ]
    },
    {
     "name": "stdout",
     "output_type": "stream",
     "text": [
      "Step #973.60"
     ]
    },
    {
     "name": "stderr",
     "output_type": "stream",
     "text": [
      "Warning: Vehicle '3_left.9' performs emergency braking with decel=-9.00 wished=4.50 severity=1.00, time=973.60.\n",
      "Warning: Choosing new speed factor 1.30 for vehicle '1_horizontal.65' to match departure speed.\n"
     ]
    },
    {
     "name": "stdout",
     "output_type": "stream",
     "text": [
      "Step #982.00"
     ]
    },
    {
     "name": "stderr",
     "output_type": "stream",
     "text": [
      "Warning: Vehicle '2_left.14' performs emergency braking with decel=-9.00 wished=4.50 severity=1.00, time=982.00.\n",
      "Warning: Vehicle '2_right.26' performs emergency braking with decel=-9.00 wished=4.50 severity=1.00, time=983.80.\n",
      "Warning: Vehicle '2_right.26' performs emergency stop at the end of lane '2si_0' because of a red traffic light (decel=-11.44, offset=0.20), time=984.00.\n"
     ]
    },
    {
     "name": "stdout",
     "output_type": "stream",
     "text": [
      "Step #993.00 Cumulative Reward: -621.610099307112\n",
      " Retrying in 1 seconds\n",
      "Loading configuration ... done.\n",
      "----------------------------------\n",
      "| rollout/           |           |\n",
      "|    ep_len_mean     | 5e+03     |\n",
      "|    ep_rew_mean     | -6.24e+03 |\n",
      "| time/              |           |\n",
      "|    episodes        | 12        |\n",
      "|    fps             | 6         |\n",
      "|    time_elapsed    | 9110      |\n",
      "|    total_timesteps | 60000     |\n",
      "| train/             |           |\n",
      "|    actor_loss      | 12.2      |\n",
      "|    critic_loss     | 0.0287    |\n",
      "|    learning_rate   | 0.001     |\n",
      "|    n_updates       | 55000     |\n",
      "----------------------------------\n"
     ]
    },
    {
     "name": "stderr",
     "output_type": "stream",
     "text": [
      "Warning: Missing yellow phase in tlLogic '0', program '0' for tl-index 3 when switching to phase 0\n",
      "Warning: Missing yellow phase in tlLogic '0', program '1' for tl-index 5 when switching to phase 0\n",
      "Warning: Missing yellow phase in tlLogic '0', program '2' for tl-index 0 when switching to phase 0\n",
      "Warning: Missing yellow phase in tlLogic '0', program '3' for tl-index 2 when switching to phase 0\n"
     ]
    },
    {
     "name": "stdout",
     "output_type": "stream",
     "text": [
      "Step #313.00"
     ]
    },
    {
     "name": "stderr",
     "output_type": "stream",
     "text": [
      "Warning: Teleporting vehicle '2_right.0'; waited too long (yield), lane='2si_0', time=313.00.\n",
      "Warning: Vehicle '2_right.0' ends teleporting on edge '4o', time 313.00.\n"
     ]
    },
    {
     "name": "stdout",
     "output_type": "stream",
     "text": [
      "Step #315.20"
     ]
    },
    {
     "name": "stderr",
     "output_type": "stream",
     "text": [
      "Warning: Teleporting vehicle '1_right.0'; waited too long (yield), lane='1si_0', time=314.60.\n",
      "Warning: Vehicle '1_right.0' ends teleporting on edge '3o', time 314.60.\n",
      "Warning: Teleporting vehicle '2_left.0'; waited too long (yield), lane='2si_2', time=315.20.\n",
      "Warning: Vehicle '2_left.0' ends teleporting on edge '3o', time 315.20.\n"
     ]
    },
    {
     "name": "stdout",
     "output_type": "stream",
     "text": [
      "Step #316.00"
     ]
    },
    {
     "name": "stderr",
     "output_type": "stream",
     "text": [
      "Warning: Teleporting vehicle '1_left.0'; waited too long (yield), lane='1si_2', time=316.00.\n",
      "Warning: Vehicle '1_left.0' ends teleporting on edge '4o', time 316.00.\n"
     ]
    },
    {
     "name": "stdout",
     "output_type": "stream",
     "text": [
      "Step #317.40"
     ]
    },
    {
     "name": "stderr",
     "output_type": "stream",
     "text": [
      "Warning: Teleporting vehicle '2_horizontal.0'; waited too long (yield), lane='2si_1', time=317.20.\n",
      "Warning: Vehicle '2_horizontal.0' ends teleporting on edge '1o', time 317.20.\n",
      "Warning: Teleporting vehicle '1_horizontal.0'; waited too long (yield), lane='1si_1', time=317.40.\n",
      "Warning: Vehicle '1_horizontal.0' ends teleporting on edge '2o', time 317.40.\n"
     ]
    },
    {
     "name": "stdout",
     "output_type": "stream",
     "text": [
      "Step #333.60"
     ]
    },
    {
     "name": "stderr",
     "output_type": "stream",
     "text": [
      "Warning: Teleporting vehicle '4_right.0'; waited too long (yield), lane='4si_0', time=333.60.\n",
      "Warning: Vehicle '4_right.0' ends teleporting on edge '1o', time 333.60.\n",
      "Warning: Teleporting vehicle '3_right.0'; waited too long (yield), lane='3si_0', time=334.40.\n",
      "Warning: Vehicle '3_right.0' ends teleporting on edge '2o', time 334.40.\n"
     ]
    },
    {
     "name": "stdout",
     "output_type": "stream",
     "text": [
      "Step #334.40"
     ]
    },
    {
     "name": "stderr",
     "output_type": "stream",
     "text": [
      "Warning: Teleporting vehicle '3_left.0'; waited too long (yield), lane='3si_1', time=335.40.\n",
      "Warning: Vehicle '3_left.0' ends teleporting on edge '1o', time 335.40.\n",
      "Warning: Teleporting vehicle '4_left.0'; waited too long (yield), lane='4si_1', time=335.80.\n",
      "Warning: Vehicle '4_left.0' ends teleporting on edge '2o', time 335.80.\n"
     ]
    },
    {
     "name": "stdout",
     "output_type": "stream",
     "text": [
      "Step #497.80 (1ms ~= 200.00*RT"
     ]
    },
    {
     "name": "stderr",
     "output_type": "stream",
     "text": [
      "Warning: Choosing new speed factor 1.23 for vehicle '3_vertical0.22' to match departure speed.\n"
     ]
    },
    {
     "name": "stdout",
     "output_type": "stream",
     "text": [
      "Step #616.40"
     ]
    },
    {
     "name": "stderr",
     "output_type": "stream",
     "text": [
      "Warning: Teleporting vehicle '2_right.1'; waited too long (yield), lane='2si_0', time=616.40.\n",
      "Warning: Vehicle '2_right.1' ends teleporting on edge '4o', time 616.40.\n"
     ]
    },
    {
     "name": "stdout",
     "output_type": "stream",
     "text": [
      "Step #617.80"
     ]
    },
    {
     "name": "stderr",
     "output_type": "stream",
     "text": [
      "Warning: Teleporting vehicle '1_right.1'; waited too long (yield), lane='1si_0', time=617.80.\n",
      "Warning: Vehicle '1_right.1' ends teleporting on edge '3o', time 617.80.\n",
      "Warning: Teleporting vehicle '2_left.1'; waited too long (yield), lane='2si_2', time=618.60.\n",
      "Warning: Vehicle '2_left.1' ends teleporting on edge '3o', time 618.60.\n",
      "Warning: Teleporting vehicle '1_left.1'; waited too long (yield), lane='1si_2', time=619.20.\n",
      "Warning: Vehicle '1_left.1' ends teleporting on edge '4o', time 619.20.\n"
     ]
    },
    {
     "name": "stdout",
     "output_type": "stream",
     "text": [
      "Step #620.60"
     ]
    },
    {
     "name": "stderr",
     "output_type": "stream",
     "text": [
      "Warning: Teleporting vehicle '2_horizontal.1'; waited too long (yield), lane='2si_1', time=620.60.\n",
      "Warning: Teleporting vehicle '1_horizontal.1'; waited too long (yield), lane='1si_1', time=620.60.\n",
      "Warning: Vehicle '1_horizontal.1' ends teleporting on edge '2o', time 620.60.\n",
      "Warning: Vehicle '2_horizontal.1' ends teleporting on edge '1o', time 620.60.\n"
     ]
    },
    {
     "name": "stdout",
     "output_type": "stream",
     "text": [
      "Step #629.60 "
     ]
    },
    {
     "name": "stderr",
     "output_type": "stream",
     "text": [
      "Warning: Teleporting vehicle '3_left.1'; waited too long (yield), lane='3si_1', time=638.60.\n",
      "Warning: Vehicle '3_left.1' ends teleporting on edge '1o', time 638.60.\n",
      "Warning: Teleporting vehicle '4_left.1'; waited too long (yield), lane='4si_1', time=639.00.\n",
      "Warning: Vehicle '4_left.1' ends teleporting on edge '2o', time 639.00.\n"
     ]
    },
    {
     "name": "stdout",
     "output_type": "stream",
     "text": [
      "Step #644.60"
     ]
    },
    {
     "name": "stderr",
     "output_type": "stream",
     "text": [
      "Warning: Teleporting vehicle '3_vertical.0'; waited too long (yield), lane='3si_0', time=644.60.\n",
      "Warning: Teleporting vehicle '4_vertical.0'; waited too long (yield), lane='4si_0', time=644.60.\n",
      "Warning: Vehicle '3_vertical.0' ends teleporting on edge '4o', time 644.60.\n",
      "Warning: Vehicle '4_vertical.0' ends teleporting on edge '3o', time 644.60.\n"
     ]
    },
    {
     "name": "stdout",
     "output_type": "stream",
     "text": [
      "Step #810.00"
     ]
    },
    {
     "name": "stderr",
     "output_type": "stream",
     "text": [
      "Warning: Choosing new speed factor 1.24 for vehicle '1_horizontal0.38' to match departure speed.\n"
     ]
    },
    {
     "name": "stdout",
     "output_type": "stream",
     "text": [
      "Step #918.00 (1ms ~= 200"
     ]
    },
    {
     "name": "stderr",
     "output_type": "stream",
     "text": [
      "Warning: Teleporting vehicle '1_left.2'; waited too long (yield), lane='1si_2', time=922.40.\n",
      "Warning: Vehicle '1_left.2' ends teleporting on edge '4o', time 922.40.\n",
      "Warning: Teleporting vehicle '2_left0.0'; waited too long (yield), lane='2si_2', time=923.20.\n",
      "Warning: Vehicle '2_left0.0' ends teleporting on edge '3o', time 923.20.\n"
     ]
    },
    {
     "name": "stdout",
     "output_type": "stream",
     "text": [
      "Step #946.00"
     ]
    },
    {
     "name": "stderr",
     "output_type": "stream",
     "text": [
      "Warning: Teleporting vehicle '2_horizontal.17'; waited too long (jam), lane=':m2_0_1', time=946.00.\n"
     ]
    },
    {
     "name": "stdout",
     "output_type": "stream",
     "text": [
      "Step #948.00"
     ]
    },
    {
     "name": "stderr",
     "output_type": "stream",
     "text": [
      "Warning: Teleporting vehicle '3_right.1'; waited too long (yield), lane='3si_0', time=948.00.\n",
      "Warning: Teleporting vehicle '4_right.1'; waited too long (yield), lane='4si_0', time=948.00.\n",
      "Warning: Vehicle '3_right.1' ends teleporting on edge '2o', time 948.00.\n",
      "Warning: Vehicle '4_right.1' ends teleporting on edge '1o', time 948.00.\n"
     ]
    },
    {
     "name": "stdout",
     "output_type": "stream",
     "text": [
      "Step #956.00"
     ]
    },
    {
     "name": "stderr",
     "output_type": "stream",
     "text": [
      "Warning: Teleporting vehicle '3_left.2'; waited too long (yield), lane='3si_1', time=955.40.\n",
      "Warning: Teleporting vehicle '4_left.2'; waited too long (yield), lane='4si_1', time=955.40.\n",
      "Warning: Vehicle '3_left.2' ends teleporting on edge '1o', time 955.40.\n",
      "Warning: Vehicle '4_left.2' ends teleporting on edge '2o', time 955.40.\n",
      "Warning: Teleporting vehicle '2_horizontal.2'; waited too long (yield), lane='2si_1', time=956.00.\n",
      "Warning: Teleporting vehicle '1_horizontal.2'; waited too long (yield), lane='1si_1', time=956.00.\n",
      "Warning: Teleporting vehicle '2_right.2'; waited too long (yield), lane='2si_0', time=956.00.\n",
      "Warning: Teleporting vehicle '1_right.2'; waited too long (yield), lane='1si_0', time=956.00.\n",
      "Warning: Vehicle '1_horizontal.2' ends teleporting on edge '2o', time 956.00.\n",
      "Warning: Vehicle '2_horizontal.2' ends teleporting on edge '1o', time 956.00.\n",
      "Warning: Vehicle '1_right.2' ends teleporting on edge '3o', time 956.00.\n",
      "Warning: Vehicle '2_right.2' ends teleporting on edge '4o', time 956.00.\n",
      "Warning: Vehicle '2_horizontal.17' ends teleporting on edge '2si', time 956.00.\n"
     ]
    },
    {
     "name": "stdout",
     "output_type": "stream",
     "text": [
      "Step #974.00 ("
     ]
    },
    {
     "name": "stderr",
     "output_type": "stream",
     "text": [
      "Warning: Choosing new speed factor 1.30 for vehicle '1_horizontal.65' to match departure speed.\n"
     ]
    },
    {
     "name": "stdout",
     "output_type": "stream",
     "text": [
      "Step #978.20"
     ]
    },
    {
     "name": "stderr",
     "output_type": "stream",
     "text": [
      "Warning: Vehicle '3_left.3' performs emergency braking with decel=-9.00 wished=4.50 severity=1.00, time=978.00.\n",
      "Warning: Vehicle '3_left.3' performs emergency stop at the end of lane '3si_1' because of a red traffic light (decel=-11.64, offset=0.05), time=978.20.\n"
     ]
    },
    {
     "name": "stdout",
     "output_type": "stream",
     "text": [
      "Step #996.20 (Cumulative Reward: -11552.105181434923\n",
      " Retrying in 1 seconds\n",
      "Loading configuration ... done.\n"
     ]
    },
    {
     "name": "stderr",
     "output_type": "stream",
     "text": [
      "Warning: Missing yellow phase in tlLogic '0', program '0' for tl-index 3 when switching to phase 0\n",
      "Warning: Missing yellow phase in tlLogic '0', program '1' for tl-index 5 when switching to phase 0\n",
      "Warning: Missing yellow phase in tlLogic '0', program '2' for tl-index 0 when switching to phase 0\n",
      "Warning: Missing yellow phase in tlLogic '0', program '3' for tl-index 2 when switching to phase 0\n"
     ]
    },
    {
     "name": "stdout",
     "output_type": "stream",
     "text": [
      "Step #315.20"
     ]
    },
    {
     "name": "stderr",
     "output_type": "stream",
     "text": [
      "Warning: Teleporting vehicle '2_left.0'; waited too long (yield), lane='2si_2', time=315.20.\n",
      "Warning: Vehicle '2_left.0' ends teleporting on edge '3o', time 315.20.\n",
      "Warning: Teleporting vehicle '1_left.0'; waited too long (yield), lane='1si_2', time=316.00.\n",
      "Warning: Vehicle '1_left.0' ends teleporting on edge '4o', time 316.00.\n"
     ]
    },
    {
     "name": "stdout",
     "output_type": "stream",
     "text": [
      "Step #334.40"
     ]
    },
    {
     "name": "stderr",
     "output_type": "stream",
     "text": [
      "Warning: Teleporting vehicle '4_right.0'; waited too long (yield), lane='4si_0', time=333.60.\n",
      "Warning: Vehicle '4_right.0' ends teleporting on edge '1o', time 333.60.\n",
      "Warning: Teleporting vehicle '3_right.0'; waited too long (yield), lane='3si_0', time=334.40.\n",
      "Warning: Vehicle '3_right.0' ends teleporting on edge '2o', time 334.40.\n"
     ]
    },
    {
     "name": "stdout",
     "output_type": "stream",
     "text": [
      "Step #342.80"
     ]
    },
    {
     "name": "stderr",
     "output_type": "stream",
     "text": [
      "Warning: Vehicle '2_right.11' performs emergency braking with decel=-9.00 wished=4.50 severity=1.00, time=342.80.\n",
      "Warning: Vehicle '1_right.11' performs emergency braking with decel=-9.00 wished=4.50 severity=1.00, time=342.80.\n",
      "Warning: Vehicle '2_horizontal.22' performs emergency braking with decel=-9.00 wished=4.50 severity=1.00, time=345.20.\n",
      "Warning: Vehicle '1_horizontal.22' performs emergency braking with decel=-9.00 wished=4.50 severity=1.00, time=345.20.\n",
      "Warning: Vehicle '1_horizontal.22' performs emergency stop at the end of lane '1si_1' because of a red traffic light (decel=-9.96, offset=0.19), time=345.60.\n"
     ]
    },
    {
     "name": "stdout",
     "output_type": "stream",
     "text": [
      "Step #498.60 (1ms ~= 200.00*R"
     ]
    },
    {
     "name": "stderr",
     "output_type": "stream",
     "text": [
      "Warning: Choosing new speed factor 1.23 for vehicle '3_vertical0.22' to match departure speed.\n"
     ]
    },
    {
     "name": "stdout",
     "output_type": "stream",
     "text": [
      "Step #760.40"
     ]
    },
    {
     "name": "stderr",
     "output_type": "stream",
     "text": [
      "Warning: Vehicle '3_vertical0.1' performs emergency braking with decel=-9.00 wished=4.50 severity=1.00, time=760.20.\n",
      "Warning: Vehicle '3_vertical0.1' performs emergency stop at the end of lane '3si_0' because of a red traffic light (decel=-10.76, offset=0.20), time=760.40.\n"
     ]
    },
    {
     "name": "stdout",
     "output_type": "stream",
     "text": [
      "Step #767.40"
     ]
    },
    {
     "name": "stderr",
     "output_type": "stream",
     "text": [
      "Warning: Vehicle '3_vertical.2' performs emergency braking with decel=-9.00 wished=4.50 severity=1.00, time=767.40.\n",
      "Warning: Vehicle '3_vertical.2' performs emergency stop at the end of lane '3si_0' because of a red traffic light (decel=-11.56, offset=0.13), time=767.40.\n"
     ]
    },
    {
     "name": "stdout",
     "output_type": "stream",
     "text": [
      "Step #810.00"
     ]
    },
    {
     "name": "stderr",
     "output_type": "stream",
     "text": [
      "Warning: Choosing new speed factor 1.24 for vehicle '1_horizontal0.38' to match departure speed.\n"
     ]
    },
    {
     "name": "stdout",
     "output_type": "stream",
     "text": [
      "Step #840.00"
     ]
    },
    {
     "name": "stderr",
     "output_type": "stream",
     "text": [
      "Warning: Vehicle '1_horizontal.41' performs emergency braking with decel=-9.00 wished=4.50 severity=1.00, time=840.00.\n",
      "Warning: Vehicle '1_horizontal.41' performs emergency stop at the end of lane '1si_1' because of a red traffic light (decel=-17.96, offset=0.24), time=840.00.\n"
     ]
    },
    {
     "name": "stdout",
     "output_type": "stream",
     "text": [
      "Step #966.00 (1ms ~= 200.0"
     ]
    },
    {
     "name": "stderr",
     "output_type": "stream",
     "text": [
      "Warning: Choosing new speed factor 1.30 for vehicle '1_horizontal.65' to match departure speed.\n"
     ]
    },
    {
     "name": "stdout",
     "output_type": "stream",
     "text": [
      "Step #993.00 (Cumulative Reward: -4028.3452358014456\n",
      " Retrying in 1 seconds\n",
      "Loading configuration ... done.\n"
     ]
    },
    {
     "name": "stderr",
     "output_type": "stream",
     "text": [
      "Warning: Missing yellow phase in tlLogic '0', program '0' for tl-index 3 when switching to phase 0\n",
      "Warning: Missing yellow phase in tlLogic '0', program '1' for tl-index 5 when switching to phase 0\n",
      "Warning: Missing yellow phase in tlLogic '0', program '2' for tl-index 0 when switching to phase 0\n",
      "Warning: Missing yellow phase in tlLogic '0', program '3' for tl-index 2 when switching to phase 0\n"
     ]
    },
    {
     "name": "stdout",
     "output_type": "stream",
     "text": [
      "Step #126.00 ("
     ]
    },
    {
     "name": "stderr",
     "output_type": "stream",
     "text": [
      "Warning: Vehicle '2_horizontal.8' performs emergency braking with decel=-9.00 wished=4.50 severity=1.00, time=134.20.\n",
      "Warning: Vehicle '1_horizontal.8' performs emergency braking with decel=-9.00 wished=4.50 severity=1.00, time=134.20.\n",
      "Warning: Vehicle '1_right.4' performs emergency braking with decel=-9.00 wished=4.50 severity=1.00, time=134.20.\n",
      "Warning: Vehicle '1_right.4' performs emergency stop at the end of lane '1si_0' because of a red traffic light (decel=-11.37, offset=0.34), time=134.40.\n"
     ]
    },
    {
     "name": "stdout",
     "output_type": "stream",
     "text": [
      "Step #198.40"
     ]
    },
    {
     "name": "stderr",
     "output_type": "stream",
     "text": [
      "Warning: Vehicle '3_right.1' performs emergency braking with decel=-9.00 wished=4.50 severity=1.00, time=198.20.\n",
      "Warning: Vehicle '4_right.1' performs emergency braking with decel=-9.00 wished=4.50 severity=1.00, time=198.20.\n",
      "Warning: Vehicle '3_right.1' performs emergency stop at the end of lane '3si_0' because of a red traffic light (decel=-10.25, offset=0.19), time=198.40.\n",
      "Warning: Vehicle '4_right.1' performs emergency stop at the end of lane '4si_0' because of a red traffic light (decel=-10.46, offset=0.25), time=198.40.\n"
     ]
    },
    {
     "name": "stdout",
     "output_type": "stream",
     "text": [
      "Step #243.40 (0ms"
     ]
    },
    {
     "name": "stderr",
     "output_type": "stream",
     "text": [
      "Warning: Vehicle '1_horizontal.14' performs emergency braking with decel=-9.00 wished=4.50 severity=1.00, time=247.80.\n",
      "Warning: Vehicle '1_horizontal.14' performs emergency stop at the end of lane '1si_1' because of a red traffic light (decel=-16.48, offset=1.19), time=247.80.\n"
     ]
    },
    {
     "name": "stdout",
     "output_type": "stream",
     "text": [
      "Step #253.80"
     ]
    },
    {
     "name": "stderr",
     "output_type": "stream",
     "text": [
      "Warning: Vehicle '2_horizontal.16' performs emergency braking with decel=-9.00 wished=4.50 severity=1.00, time=253.60.\n",
      "Warning: Vehicle '2_right.8' performs emergency braking with decel=-9.00 wished=4.50 severity=1.00, time=253.60.\n",
      "Warning: Vehicle '1_right.8' performs emergency braking with decel=-9.00 wished=4.50 severity=1.00, time=253.60.\n",
      "Warning: Vehicle '1_right.8' performs emergency stop at the end of lane '1si_0' because of a red traffic light (decel=-11.34, offset=0.14), time=253.80.\n"
     ]
    },
    {
     "name": "stdout",
     "output_type": "stream",
     "text": [
      "Step #267.20"
     ]
    },
    {
     "name": "stderr",
     "output_type": "stream",
     "text": [
      "Warning: Vehicle '2_horizontal.17' performs emergency braking with decel=-9.00 wished=4.50 severity=1.00, time=267.20.\n"
     ]
    },
    {
     "name": "stdout",
     "output_type": "stream",
     "text": [
      "Step #384.20 (1ms ~= 200."
     ]
    },
    {
     "name": "stderr",
     "output_type": "stream",
     "text": [
      "Warning: Vehicle '1_horizontal0.13' performs emergency braking with decel=-9.00 wished=4.50 severity=1.00, time=387.00.\n"
     ]
    },
    {
     "name": "stdout",
     "output_type": "stream",
     "text": [
      "Step #404.20"
     ]
    },
    {
     "name": "stderr",
     "output_type": "stream",
     "text": [
      "Warning: Vehicle '1_right.13' performs emergency braking with decel=-9.00 wished=4.50 severity=1.00, time=404.00.\n",
      "Warning: Vehicle '1_right.13' performs emergency stop at the end of lane '1si_0' because of a red traffic light (decel=-11.39, offset=0.00), time=404.20.\n"
     ]
    },
    {
     "name": "stdout",
     "output_type": "stream",
     "text": [
      "Step #431.20"
     ]
    },
    {
     "name": "stderr",
     "output_type": "stream",
     "text": [
      "Warning: Vehicle '2_right.14' performs emergency braking with decel=-9.00 wished=4.50 severity=1.00, time=431.20.\n",
      "Warning: Vehicle '2_right.14' performs emergency stop at the end of lane '2si_0' because of a red traffic light (decel=-15.72, offset=0.98), time=432.00.\n"
     ]
    },
    {
     "name": "stdout",
     "output_type": "stream",
     "text": [
      "Step #434.20"
     ]
    },
    {
     "name": "stderr",
     "output_type": "stream",
     "text": [
      "Warning: Vehicle '2_horizontal.28' performs emergency braking with decel=-9.00 wished=4.50 severity=1.00, time=434.00.\n",
      "Warning: Vehicle '2_horizontal.28' performs emergency stop at the end of lane '2si_1' because of a red traffic light (decel=-15.28, offset=0.35), time=434.20.\n"
     ]
    },
    {
     "name": "stdout",
     "output_type": "stream",
     "text": [
      "Step #449.20"
     ]
    },
    {
     "name": "stderr",
     "output_type": "stream",
     "text": [
      "Warning: Vehicle '2_horizontal.29' performs emergency braking with decel=-9.00 wished=4.50 severity=1.00, time=448.80.\n",
      "Warning: Vehicle '2_horizontal.29' performs emergency stop at the end of lane '2si_1' because of a red traffic light (decel=-10.63, offset=0.20), time=449.20.\n"
     ]
    },
    {
     "name": "stdout",
     "output_type": "stream",
     "text": [
      "Step #494.20 (0ms"
     ]
    },
    {
     "name": "stderr",
     "output_type": "stream",
     "text": [
      "Warning: Choosing new speed factor 1.23 for vehicle '3_vertical0.22' to match departure speed.\n"
     ]
    },
    {
     "name": "stdout",
     "output_type": "stream",
     "text": [
      "Step #506.60"
     ]
    },
    {
     "name": "stderr",
     "output_type": "stream",
     "text": [
      "Warning: Vehicle '1_left.8' performs emergency braking with decel=-9.00 wished=4.50 severity=1.00, time=506.60.\n",
      "Warning: Vehicle '1_left.8' performs emergency stop at the end of lane '1si_2' because of a red traffic light (decel=-11.96, offset=0.04), time=506.60.\n"
     ]
    },
    {
     "name": "stdout",
     "output_type": "stream",
     "text": [
      "Step #623.60 (0ms ?*RT. ?"
     ]
    },
    {
     "name": "stderr",
     "output_type": "stream",
     "text": [
      "Warning: Vehicle '1_right.17' performs emergency braking with decel=-9.00 wished=4.50 severity=1.00, time=630.40.\n",
      "Warning: Vehicle '1_right.17' performs emergency stop at the end of lane '1si_0' because of a red traffic light (decel=-11.62, offset=0.02), time=630.80.\n"
     ]
    },
    {
     "name": "stdout",
     "output_type": "stream",
     "text": [
      "Step #675.80 (1ms"
     ]
    },
    {
     "name": "stderr",
     "output_type": "stream",
     "text": [
      "Warning: Vehicle '3_left.5' performs emergency braking with decel=-9.00 wished=4.50 severity=1.00, time=682.40.\n",
      "Warning: Vehicle '3_left.5' performs emergency stop at the end of lane '3si_1' because of a red traffic light (decel=-9.36, offset=0.02), time=683.00.\n"
     ]
    },
    {
     "name": "stdout",
     "output_type": "stream",
     "text": [
      "Step #781.20"
     ]
    },
    {
     "name": "stderr",
     "output_type": "stream",
     "text": [
      "Warning: Vehicle '4_left.8' performs emergency braking with decel=-9.00 wished=4.50 severity=1.00, time=781.20.\n"
     ]
    },
    {
     "name": "stdout",
     "output_type": "stream",
     "text": [
      "Step #810.00"
     ]
    },
    {
     "name": "stderr",
     "output_type": "stream",
     "text": [
      "Warning: Choosing new speed factor 1.24 for vehicle '1_horizontal0.38' to match departure speed.\n"
     ]
    },
    {
     "name": "stdout",
     "output_type": "stream",
     "text": [
      "Step #839.60"
     ]
    },
    {
     "name": "stderr",
     "output_type": "stream",
     "text": [
      "Warning: Vehicle '3_left.6' performs emergency braking with decel=-9.00 wished=4.50 severity=1.00, time=839.40.\n",
      "Warning: Vehicle '3_left.6' performs emergency stop at the end of lane '3si_1' because of a red traffic light (decel=-10.95, offset=0.32), time=839.60.\n"
     ]
    },
    {
     "name": "stdout",
     "output_type": "stream",
     "text": [
      "Step #882.60"
     ]
    },
    {
     "name": "stderr",
     "output_type": "stream",
     "text": [
      "Warning: Vehicle '1_horizontal.34' performs emergency braking with decel=-9.00 wished=4.50 severity=1.00, time=882.40.\n",
      "Warning: Vehicle '1_horizontal.34' performs emergency stop at the end of lane '1si_1' because of a red traffic light (decel=-17.32, offset=1.08), time=882.60.\n"
     ]
    },
    {
     "name": "stdout",
     "output_type": "stream",
     "text": [
      "Step #887.60"
     ]
    },
    {
     "name": "stderr",
     "output_type": "stream",
     "text": [
      "Warning: Vehicle '1_right.19' performs emergency braking with decel=-9.00 wished=4.50 severity=1.00, time=887.60.\n",
      "Warning: Vehicle '1_right.19' performs emergency braking with decel=-9.00 wished=4.50 severity=1.00, time=890.00.\n",
      "Warning: Vehicle '2_right.27' performs emergency braking with decel=-9.00 wished=4.50 severity=1.00, time=890.00.\n",
      "Warning: Vehicle '2_right.27' performs emergency stop at the end of lane '2si_0' because of a red traffic light (decel=-11.57, offset=0.17), time=890.20.\n",
      "Warning: Vehicle '1_right.19' performs emergency stop at the end of lane '1si_0' because of a red traffic light (decel=-10.84, offset=0.20), time=890.40.\n"
     ]
    },
    {
     "name": "stdout",
     "output_type": "stream",
     "text": [
      "Step #895.40"
     ]
    },
    {
     "name": "stderr",
     "output_type": "stream",
     "text": [
      "Warning: Vehicle '1_left.13' performs emergency braking with decel=-9.00 wished=4.50 severity=1.00, time=895.40.\n"
     ]
    },
    {
     "name": "stdout",
     "output_type": "stream",
     "text": [
      "Step #899.60"
     ]
    },
    {
     "name": "stderr",
     "output_type": "stream",
     "text": [
      "Warning: Vehicle '1_right.20' performs emergency braking with decel=-9.00 wished=4.50 severity=1.00, time=899.60.\n"
     ]
    },
    {
     "name": "stdout",
     "output_type": "stream",
     "text": [
      "Step #928.20"
     ]
    },
    {
     "name": "stderr",
     "output_type": "stream",
     "text": [
      "Warning: Vehicle '2_horizontal.54' performs emergency braking with decel=-9.00 wished=4.50 severity=1.00, time=927.60.\n",
      "Warning: Vehicle '2_horizontal.54' performs emergency stop at the end of lane '2si_1' because of a red traffic light (decel=-12.84, offset=0.23), time=928.20.\n",
      "Warning: Vehicle '4_left.9' performs emergency braking with decel=-9.00 wished=4.50 severity=1.00, time=936.80.\n"
     ]
    },
    {
     "name": "stdout",
     "output_type": "stream",
     "text": [
      "Step #939.80"
     ]
    },
    {
     "name": "stderr",
     "output_type": "stream",
     "text": [
      "Warning: Vehicle '2_right.31' performs emergency braking with decel=-9.00 wished=4.50 severity=1.00, time=939.80.\n"
     ]
    },
    {
     "name": "stdout",
     "output_type": "stream",
     "text": [
      "Step #944.60"
     ]
    },
    {
     "name": "stderr",
     "output_type": "stream",
     "text": [
      "Warning: Vehicle '1_right.22' performs emergency braking with decel=-9.00 wished=4.50 severity=1.00, time=944.60.\n"
     ]
    },
    {
     "name": "stdout",
     "output_type": "stream",
     "text": [
      "Step #954.80"
     ]
    },
    {
     "name": "stderr",
     "output_type": "stream",
     "text": [
      "Warning: Vehicle '1_left.15' performs emergency braking with decel=-9.00 wished=4.50 severity=1.00, time=954.80.\n"
     ]
    },
    {
     "name": "stdout",
     "output_type": "stream",
     "text": [
      "Step #975.00"
     ]
    },
    {
     "name": "stderr",
     "output_type": "stream",
     "text": [
      "Warning: Choosing new speed factor 1.30 for vehicle '1_horizontal.65' to match departure speed.\n"
     ]
    },
    {
     "name": "stdout",
     "output_type": "stream",
     "text": [
      "Step #993.00 (Cumulative Reward: -1094.931054956786\n",
      " Retrying in 1 seconds\n",
      "Loading configuration ... done.\n"
     ]
    },
    {
     "name": "stderr",
     "output_type": "stream",
     "text": [
      "Warning: Missing yellow phase in tlLogic '0', program '0' for tl-index 3 when switching to phase 0\n",
      "Warning: Missing yellow phase in tlLogic '0', program '1' for tl-index 5 when switching to phase 0\n",
      "Warning: Missing yellow phase in tlLogic '0', program '2' for tl-index 0 when switching to phase 0\n",
      "Warning: Missing yellow phase in tlLogic '0', program '3' for tl-index 2 when switching to phase 0\n"
     ]
    },
    {
     "name": "stdout",
     "output_type": "stream",
     "text": [
      "Step #306.00 (1ms ~= 200.00*RT, ~1"
     ]
    },
    {
     "name": "stderr",
     "output_type": "stream",
     "text": [
      "Warning: Teleporting vehicle '2_right.0'; waited too long (yield), lane='2si_0', time=313.00.\n",
      "Warning: Vehicle '2_right.0' ends teleporting on edge '4o', time 313.00.\n"
     ]
    },
    {
     "name": "stdout",
     "output_type": "stream",
     "text": [
      "Step #313.00"
     ]
    },
    {
     "name": "stderr",
     "output_type": "stream",
     "text": [
      "Warning: Teleporting vehicle '1_right.0'; waited too long (yield), lane='1si_0', time=314.60.\n",
      "Warning: Vehicle '1_right.0' ends teleporting on edge '3o', time 314.60.\n",
      "Warning: Teleporting vehicle '2_left.0'; waited too long (yield), lane='2si_2', time=315.20.\n",
      "Warning: Vehicle '2_left.0' ends teleporting on edge '3o', time 315.20.\n"
     ]
    },
    {
     "name": "stdout",
     "output_type": "stream",
     "text": [
      "Step #316.00"
     ]
    },
    {
     "name": "stderr",
     "output_type": "stream",
     "text": [
      "Warning: Teleporting vehicle '1_left.0'; waited too long (yield), lane='1si_2', time=316.00.\n",
      "Warning: Vehicle '1_left.0' ends teleporting on edge '4o', time 316.00.\n"
     ]
    },
    {
     "name": "stdout",
     "output_type": "stream",
     "text": [
      "Step #317.40"
     ]
    },
    {
     "name": "stderr",
     "output_type": "stream",
     "text": [
      "Warning: Teleporting vehicle '2_horizontal.0'; waited too long (yield), lane='2si_1', time=317.20.\n",
      "Warning: Vehicle '2_horizontal.0' ends teleporting on edge '1o', time 317.20.\n",
      "Warning: Teleporting vehicle '1_horizontal.0'; waited too long (yield), lane='1si_1', time=317.40.\n",
      "Warning: Vehicle '1_horizontal.0' ends teleporting on edge '2o', time 317.40.\n"
     ]
    },
    {
     "name": "stdout",
     "output_type": "stream",
     "text": [
      "Step #334.40"
     ]
    },
    {
     "name": "stderr",
     "output_type": "stream",
     "text": [
      "Warning: Teleporting vehicle '4_right.0'; waited too long (yield), lane='4si_0', time=333.60.\n",
      "Warning: Vehicle '4_right.0' ends teleporting on edge '1o', time 333.60.\n",
      "Warning: Teleporting vehicle '3_right.0'; waited too long (yield), lane='3si_0', time=334.40.\n",
      "Warning: Vehicle '3_right.0' ends teleporting on edge '2o', time 334.40.\n",
      "Warning: Teleporting vehicle '3_left.0'; waited too long (yield), lane='3si_1', time=335.40.\n",
      "Warning: Vehicle '3_left.0' ends teleporting on edge '1o', time 335.40.\n",
      "Warning: Teleporting vehicle '4_left.0'; waited too long (yield), lane='4si_1', time=335.80.\n",
      "Warning: Vehicle '4_left.0' ends teleporting on edge '2o', time 335.80.\n"
     ]
    },
    {
     "name": "stdout",
     "output_type": "stream",
     "text": [
      "Step #500.00"
     ]
    },
    {
     "name": "stderr",
     "output_type": "stream",
     "text": [
      "Warning: Choosing new speed factor 1.23 for vehicle '3_vertical0.22' to match departure speed.\n"
     ]
    },
    {
     "name": "stdout",
     "output_type": "stream",
     "text": [
      "Step #616.40"
     ]
    },
    {
     "name": "stderr",
     "output_type": "stream",
     "text": [
      "Warning: Teleporting vehicle '2_right.1'; waited too long (yield), lane='2si_0', time=616.40.\n",
      "Warning: Vehicle '2_right.1' ends teleporting on edge '4o', time 616.40.\n"
     ]
    },
    {
     "name": "stdout",
     "output_type": "stream",
     "text": [
      "Step #617.80"
     ]
    },
    {
     "name": "stderr",
     "output_type": "stream",
     "text": [
      "Warning: Teleporting vehicle '1_right.1'; waited too long (yield), lane='1si_0', time=617.80.\n",
      "Warning: Vehicle '1_right.1' ends teleporting on edge '3o', time 617.80.\n"
     ]
    },
    {
     "name": "stdout",
     "output_type": "stream",
     "text": [
      "Step #619.20"
     ]
    },
    {
     "name": "stderr",
     "output_type": "stream",
     "text": [
      "Warning: Teleporting vehicle '2_left.1'; waited too long (yield), lane='2si_2', time=618.60.\n",
      "Warning: Vehicle '2_left.1' ends teleporting on edge '3o', time 618.60.\n",
      "Warning: Teleporting vehicle '1_left.1'; waited too long (yield), lane='1si_2', time=619.20.\n",
      "Warning: Vehicle '1_left.1' ends teleporting on edge '4o', time 619.20.\n"
     ]
    },
    {
     "name": "stdout",
     "output_type": "stream",
     "text": [
      "Step #620.60"
     ]
    },
    {
     "name": "stderr",
     "output_type": "stream",
     "text": [
      "Warning: Teleporting vehicle '2_horizontal.1'; waited too long (yield), lane='2si_1', time=620.60.\n",
      "Warning: Teleporting vehicle '1_horizontal.1'; waited too long (yield), lane='1si_1', time=620.60.\n",
      "Warning: Vehicle '1_horizontal.1' ends teleporting on edge '2o', time 620.60.\n",
      "Warning: Vehicle '2_horizontal.1' ends teleporting on edge '1o', time 620.60.\n"
     ]
    },
    {
     "name": "stdout",
     "output_type": "stream",
     "text": [
      "Step #629.60 "
     ]
    },
    {
     "name": "stderr",
     "output_type": "stream",
     "text": [
      "Warning: Teleporting vehicle '4_vertical.0'; waited too long (yield), lane='4si_0', time=637.00.\n",
      "Warning: Vehicle '4_vertical.0' ends teleporting on edge '3o', time 637.00.\n"
     ]
    },
    {
     "name": "stdout",
     "output_type": "stream",
     "text": [
      "Step #638.60"
     ]
    },
    {
     "name": "stderr",
     "output_type": "stream",
     "text": [
      "Warning: Teleporting vehicle '3_vertical.0'; waited too long (yield), lane='3si_0', time=637.80.\n",
      "Warning: Vehicle '3_vertical.0' ends teleporting on edge '4o', time 637.80.\n",
      "Warning: Teleporting vehicle '3_left.1'; waited too long (yield), lane='3si_1', time=638.60.\n",
      "Warning: Vehicle '3_left.1' ends teleporting on edge '1o', time 638.60.\n"
     ]
    },
    {
     "name": "stdout",
     "output_type": "stream",
     "text": [
      "Step #639.00"
     ]
    },
    {
     "name": "stderr",
     "output_type": "stream",
     "text": [
      "Warning: Teleporting vehicle '4_left.1'; waited too long (yield), lane='4si_1', time=639.00.\n",
      "Warning: Vehicle '4_left.1' ends teleporting on edge '2o', time 639.00.\n"
     ]
    },
    {
     "name": "stdout",
     "output_type": "stream",
     "text": [
      "Step #810.00"
     ]
    },
    {
     "name": "stderr",
     "output_type": "stream",
     "text": [
      "Warning: Choosing new speed factor 1.24 for vehicle '1_horizontal0.38' to match departure speed.\n"
     ]
    },
    {
     "name": "stdout",
     "output_type": "stream",
     "text": [
      "Step #919.80"
     ]
    },
    {
     "name": "stderr",
     "output_type": "stream",
     "text": [
      "Warning: Teleporting vehicle '2_right.2'; waited too long (yield), lane='2si_0', time=919.80.\n",
      "Warning: Vehicle '2_right.2' ends teleporting on edge '4o', time 919.80.\n"
     ]
    },
    {
     "name": "stdout",
     "output_type": "stream",
     "text": [
      "Step #923.20"
     ]
    },
    {
     "name": "stderr",
     "output_type": "stream",
     "text": [
      "Warning: Teleporting vehicle '1_left.2'; waited too long (yield), lane='1si_2', time=922.40.\n",
      "Warning: Vehicle '1_left.2' ends teleporting on edge '4o', time 922.40.\n",
      "Warning: Teleporting vehicle '2_left0.0'; waited too long (yield), lane='2si_2', time=923.20.\n",
      "Warning: Teleporting vehicle '1_right.2'; waited too long (yield), lane='1si_0', time=923.20.\n",
      "Warning: Vehicle '1_right.2' ends teleporting on edge '3o', time 923.20.\n",
      "Warning: Vehicle '2_left0.0' ends teleporting on edge '3o', time 923.20.\n"
     ]
    },
    {
     "name": "stdout",
     "output_type": "stream",
     "text": [
      "Step #924.00"
     ]
    },
    {
     "name": "stderr",
     "output_type": "stream",
     "text": [
      "Warning: Teleporting vehicle '2_horizontal.2'; waited too long (yield), lane='2si_1', time=924.00.\n",
      "Warning: Teleporting vehicle '1_horizontal.2'; waited too long (yield), lane='1si_1', time=924.00.\n",
      "Warning: Vehicle '1_horizontal.2' ends teleporting on edge '2o', time 924.00.\n",
      "Warning: Vehicle '2_horizontal.2' ends teleporting on edge '1o', time 924.00.\n"
     ]
    },
    {
     "name": "stdout",
     "output_type": "stream",
     "text": [
      "Step #941.00"
     ]
    },
    {
     "name": "stderr",
     "output_type": "stream",
     "text": [
      "Warning: Teleporting vehicle '4_right.1'; waited too long (yield), lane='4si_0', time=940.40.\n",
      "Warning: Vehicle '4_right.1' ends teleporting on edge '1o', time 940.40.\n",
      "Warning: Teleporting vehicle '3_right.1'; waited too long (yield), lane='3si_0', time=941.00.\n",
      "Warning: Vehicle '3_right.1' ends teleporting on edge '2o', time 941.00.\n",
      "Warning: Teleporting vehicle '3_left.2'; waited too long (yield), lane='3si_1', time=942.00.\n",
      "Warning: Vehicle '3_left.2' ends teleporting on edge '1o', time 942.00.\n",
      "Warning: Teleporting vehicle '4_left.2'; waited too long (yield), lane='4si_1', time=942.40.\n",
      "Warning: Vehicle '4_left.2' ends teleporting on edge '2o', time 942.40.\n"
     ]
    },
    {
     "name": "stdout",
     "output_type": "stream",
     "text": [
      "Step #969.40 (1"
     ]
    },
    {
     "name": "stderr",
     "output_type": "stream",
     "text": [
      "Warning: Choosing new speed factor 1.30 for vehicle '1_horizontal.65' to match departure speed.\n"
     ]
    },
    {
     "name": "stdout",
     "output_type": "stream",
     "text": [
      "Step #993.00 (Cumulative Reward: -11158.152753061462\n",
      " Retrying in 1 seconds\n",
      "Loading configuration ... done.\n",
      "----------------------------------\n",
      "| rollout/           |           |\n",
      "|    ep_len_mean     | 5e+03     |\n",
      "|    ep_rew_mean     | -6.42e+03 |\n",
      "| time/              |           |\n",
      "|    episodes        | 16        |\n",
      "|    fps             | 6         |\n",
      "|    time_elapsed    | 12378     |\n",
      "|    total_timesteps | 80000     |\n",
      "| train/             |           |\n",
      "|    actor_loss      | 26        |\n",
      "|    critic_loss     | 0.352     |\n",
      "|    learning_rate   | 0.001     |\n",
      "|    n_updates       | 75000     |\n",
      "----------------------------------\n"
     ]
    },
    {
     "name": "stderr",
     "output_type": "stream",
     "text": [
      "Warning: Missing yellow phase in tlLogic '0', program '0' for tl-index 3 when switching to phase 0\n",
      "Warning: Missing yellow phase in tlLogic '0', program '1' for tl-index 5 when switching to phase 0\n",
      "Warning: Missing yellow phase in tlLogic '0', program '2' for tl-index 0 when switching to phase 0\n",
      "Warning: Missing yellow phase in tlLogic '0', program '3' for tl-index 2 when switching to phase 0\n"
     ]
    },
    {
     "name": "stdout",
     "output_type": "stream",
     "text": [
      "Step #306.00 (0ms ?*RT. ?UPS, TraC"
     ]
    },
    {
     "name": "stderr",
     "output_type": "stream",
     "text": [
      "Warning: Teleporting vehicle '2_right.0'; waited too long (yield), lane='2si_0', time=313.00.\n",
      "Warning: Vehicle '2_right.0' ends teleporting on edge '4o', time 313.00.\n"
     ]
    },
    {
     "name": "stdout",
     "output_type": "stream",
     "text": [
      "Step #315.20"
     ]
    },
    {
     "name": "stderr",
     "output_type": "stream",
     "text": [
      "Warning: Teleporting vehicle '1_right.0'; waited too long (yield), lane='1si_0', time=314.60.\n",
      "Warning: Vehicle '1_right.0' ends teleporting on edge '3o', time 314.60.\n",
      "Warning: Teleporting vehicle '2_left.0'; waited too long (yield), lane='2si_2', time=315.20.\n",
      "Warning: Vehicle '2_left.0' ends teleporting on edge '3o', time 315.20.\n"
     ]
    },
    {
     "name": "stdout",
     "output_type": "stream",
     "text": [
      "Step #316.00"
     ]
    },
    {
     "name": "stderr",
     "output_type": "stream",
     "text": [
      "Warning: Teleporting vehicle '1_left.0'; waited too long (yield), lane='1si_2', time=316.00.\n",
      "Warning: Vehicle '1_left.0' ends teleporting on edge '4o', time 316.00.\n",
      "Warning: Teleporting vehicle '2_horizontal.0'; waited too long (yield), lane='2si_1', time=317.20.\n",
      "Warning: Vehicle '2_horizontal.0' ends teleporting on edge '1o', time 317.20.\n",
      "Warning: Teleporting vehicle '1_horizontal.0'; waited too long (yield), lane='1si_1', time=317.40.\n",
      "Warning: Vehicle '1_horizontal.0' ends teleporting on edge '2o', time 317.40.\n"
     ]
    },
    {
     "name": "stdout",
     "output_type": "stream",
     "text": [
      "Step #326.40 "
     ]
    },
    {
     "name": "stderr",
     "output_type": "stream",
     "text": [
      "Warning: Teleporting vehicle '4_right.0'; waited too long (yield), lane='4si_0', time=333.60.\n",
      "Warning: Vehicle '4_right.0' ends teleporting on edge '1o', time 333.60.\n"
     ]
    },
    {
     "name": "stdout",
     "output_type": "stream",
     "text": [
      "Step #333.60"
     ]
    },
    {
     "name": "stderr",
     "output_type": "stream",
     "text": [
      "Warning: Teleporting vehicle '3_right.0'; waited too long (yield), lane='3si_0', time=334.40.\n",
      "Warning: Vehicle '3_right.0' ends teleporting on edge '2o', time 334.40.\n"
     ]
    },
    {
     "name": "stdout",
     "output_type": "stream",
     "text": [
      "Step #335.80"
     ]
    },
    {
     "name": "stderr",
     "output_type": "stream",
     "text": [
      "Warning: Teleporting vehicle '3_left.0'; waited too long (yield), lane='3si_1', time=335.40.\n",
      "Warning: Vehicle '3_left.0' ends teleporting on edge '1o', time 335.40.\n",
      "Warning: Teleporting vehicle '4_left.0'; waited too long (yield), lane='4si_1', time=335.80.\n",
      "Warning: Vehicle '4_left.0' ends teleporting on edge '2o', time 335.80.\n"
     ]
    },
    {
     "name": "stdout",
     "output_type": "stream",
     "text": [
      "Step #500.00"
     ]
    },
    {
     "name": "stderr",
     "output_type": "stream",
     "text": [
      "Warning: Choosing new speed factor 1.23 for vehicle '3_vertical0.22' to match departure speed.\n"
     ]
    },
    {
     "name": "stdout",
     "output_type": "stream",
     "text": [
      "Step #616.40"
     ]
    },
    {
     "name": "stderr",
     "output_type": "stream",
     "text": [
      "Warning: Teleporting vehicle '2_right.1'; waited too long (yield), lane='2si_0', time=616.40.\n",
      "Warning: Vehicle '2_right.1' ends teleporting on edge '4o', time 616.40.\n"
     ]
    },
    {
     "name": "stdout",
     "output_type": "stream",
     "text": [
      "Step #618.60"
     ]
    },
    {
     "name": "stderr",
     "output_type": "stream",
     "text": [
      "Warning: Teleporting vehicle '1_right.1'; waited too long (yield), lane='1si_0', time=617.80.\n",
      "Warning: Vehicle '1_right.1' ends teleporting on edge '3o', time 617.80.\n",
      "Warning: Teleporting vehicle '2_left.1'; waited too long (yield), lane='2si_2', time=618.60.\n",
      "Warning: Vehicle '2_left.1' ends teleporting on edge '3o', time 618.60.\n",
      "Warning: Teleporting vehicle '1_left.1'; waited too long (yield), lane='1si_2', time=619.20.\n",
      "Warning: Vehicle '1_left.1' ends teleporting on edge '4o', time 619.20.\n"
     ]
    },
    {
     "name": "stdout",
     "output_type": "stream",
     "text": [
      "Step #619.20"
     ]
    },
    {
     "name": "stderr",
     "output_type": "stream",
     "text": [
      "Warning: Teleporting vehicle '2_horizontal.1'; waited too long (yield), lane='2si_1', time=620.60.\n",
      "Warning: Teleporting vehicle '1_horizontal.1'; waited too long (yield), lane='1si_1', time=620.60.\n",
      "Warning: Vehicle '1_horizontal.1' ends teleporting on edge '2o', time 620.60.\n",
      "Warning: Vehicle '2_horizontal.1' ends teleporting on edge '1o', time 620.60.\n"
     ]
    },
    {
     "name": "stdout",
     "output_type": "stream",
     "text": [
      "Step #637.00"
     ]
    },
    {
     "name": "stderr",
     "output_type": "stream",
     "text": [
      "Warning: Teleporting vehicle '4_vertical.0'; waited too long (yield), lane='4si_0', time=637.00.\n",
      "Warning: Vehicle '4_vertical.0' ends teleporting on edge '3o', time 637.00.\n"
     ]
    },
    {
     "name": "stdout",
     "output_type": "stream",
     "text": [
      "Step #638.60"
     ]
    },
    {
     "name": "stderr",
     "output_type": "stream",
     "text": [
      "Warning: Teleporting vehicle '3_vertical.0'; waited too long (yield), lane='3si_0', time=637.80.\n",
      "Warning: Vehicle '3_vertical.0' ends teleporting on edge '4o', time 637.80.\n",
      "Warning: Teleporting vehicle '3_left.1'; waited too long (yield), lane='3si_1', time=638.60.\n",
      "Warning: Vehicle '3_left.1' ends teleporting on edge '1o', time 638.60.\n"
     ]
    },
    {
     "name": "stdout",
     "output_type": "stream",
     "text": [
      "Step #639.00"
     ]
    },
    {
     "name": "stderr",
     "output_type": "stream",
     "text": [
      "Warning: Teleporting vehicle '4_left.1'; waited too long (yield), lane='4si_1', time=639.00.\n",
      "Warning: Vehicle '4_left.1' ends teleporting on edge '2o', time 639.00.\n"
     ]
    },
    {
     "name": "stdout",
     "output_type": "stream",
     "text": [
      "Step #810.00"
     ]
    },
    {
     "name": "stderr",
     "output_type": "stream",
     "text": [
      "Warning: Choosing new speed factor 1.24 for vehicle '1_horizontal0.38' to match departure speed.\n"
     ]
    },
    {
     "name": "stdout",
     "output_type": "stream",
     "text": [
      "Step #919.80"
     ]
    },
    {
     "name": "stderr",
     "output_type": "stream",
     "text": [
      "Warning: Teleporting vehicle '2_right.2'; waited too long (yield), lane='2si_0', time=919.80.\n",
      "Warning: Vehicle '2_right.2' ends teleporting on edge '4o', time 919.80.\n",
      "Warning: Teleporting vehicle '1_left.2'; waited too long (yield), lane='1si_2', time=922.40.\n",
      "Warning: Vehicle '1_left.2' ends teleporting on edge '4o', time 922.40.\n",
      "Warning: Teleporting vehicle '2_left0.0'; waited too long (yield), lane='2si_2', time=923.20.\n",
      "Warning: Teleporting vehicle '1_right.2'; waited too long (yield), lane='1si_0', time=923.20.\n",
      "Warning: Vehicle '1_right.2' ends teleporting on edge '3o', time 923.20.\n",
      "Warning: Vehicle '2_left0.0' ends teleporting on edge '3o', time 923.20.\n"
     ]
    },
    {
     "name": "stdout",
     "output_type": "stream",
     "text": [
      "Step #924.00"
     ]
    },
    {
     "name": "stderr",
     "output_type": "stream",
     "text": [
      "Warning: Teleporting vehicle '2_horizontal.2'; waited too long (yield), lane='2si_1', time=924.00.\n",
      "Warning: Teleporting vehicle '1_horizontal.2'; waited too long (yield), lane='1si_1', time=924.00.\n",
      "Warning: Vehicle '1_horizontal.2' ends teleporting on edge '2o', time 924.00.\n",
      "Warning: Vehicle '2_horizontal.2' ends teleporting on edge '1o', time 924.00.\n"
     ]
    },
    {
     "name": "stdout",
     "output_type": "stream",
     "text": [
      "Step #933.00 "
     ]
    },
    {
     "name": "stderr",
     "output_type": "stream",
     "text": [
      "Warning: Teleporting vehicle '4_right.1'; waited too long (yield), lane='4si_0', time=940.40.\n",
      "Warning: Vehicle '4_right.1' ends teleporting on edge '1o', time 940.40.\n",
      "Warning: Teleporting vehicle '3_right.1'; waited too long (yield), lane='3si_0', time=941.00.\n",
      "Warning: Vehicle '3_right.1' ends teleporting on edge '2o', time 941.00.\n"
     ]
    },
    {
     "name": "stdout",
     "output_type": "stream",
     "text": [
      "Step #941.00"
     ]
    },
    {
     "name": "stderr",
     "output_type": "stream",
     "text": [
      "Warning: Teleporting vehicle '3_left.2'; waited too long (yield), lane='3si_1', time=942.00.\n",
      "Warning: Vehicle '3_left.2' ends teleporting on edge '1o', time 942.00.\n",
      "Warning: Teleporting vehicle '4_left.2'; waited too long (yield), lane='4si_1', time=942.40.\n",
      "Warning: Vehicle '4_left.2' ends teleporting on edge '2o', time 942.40.\n"
     ]
    },
    {
     "name": "stdout",
     "output_type": "stream",
     "text": [
      "Step #975.00"
     ]
    },
    {
     "name": "stderr",
     "output_type": "stream",
     "text": [
      "Warning: Choosing new speed factor 1.30 for vehicle '1_horizontal.65' to match departure speed.\n"
     ]
    },
    {
     "name": "stdout",
     "output_type": "stream",
     "text": [
      "Step #993.00 (Cumulative Reward: -11158.152753061462\n",
      " Retrying in 1 seconds\n",
      "Loading configuration ... done.\n"
     ]
    },
    {
     "name": "stderr",
     "output_type": "stream",
     "text": [
      "Warning: Missing yellow phase in tlLogic '0', program '0' for tl-index 3 when switching to phase 0\n",
      "Warning: Missing yellow phase in tlLogic '0', program '1' for tl-index 5 when switching to phase 0\n",
      "Warning: Missing yellow phase in tlLogic '0', program '2' for tl-index 0 when switching to phase 0\n",
      "Warning: Missing yellow phase in tlLogic '0', program '3' for tl-index 2 when switching to phase 0\n"
     ]
    },
    {
     "name": "stdout",
     "output_type": "stream",
     "text": [
      "Step #313.00"
     ]
    },
    {
     "name": "stderr",
     "output_type": "stream",
     "text": [
      "Warning: Teleporting vehicle '2_right.0'; waited too long (yield), lane='2si_0', time=313.00.\n",
      "Warning: Vehicle '2_right.0' ends teleporting on edge '4o', time 313.00.\n"
     ]
    },
    {
     "name": "stdout",
     "output_type": "stream",
     "text": [
      "Step #315.20"
     ]
    },
    {
     "name": "stderr",
     "output_type": "stream",
     "text": [
      "Warning: Teleporting vehicle '1_right.0'; waited too long (yield), lane='1si_0', time=314.60.\n",
      "Warning: Vehicle '1_right.0' ends teleporting on edge '3o', time 314.60.\n",
      "Warning: Teleporting vehicle '2_left.0'; waited too long (yield), lane='2si_2', time=315.20.\n",
      "Warning: Vehicle '2_left.0' ends teleporting on edge '3o', time 315.20.\n"
     ]
    },
    {
     "name": "stdout",
     "output_type": "stream",
     "text": [
      "Step #316.00"
     ]
    },
    {
     "name": "stderr",
     "output_type": "stream",
     "text": [
      "Warning: Teleporting vehicle '1_left.0'; waited too long (yield), lane='1si_2', time=316.00.\n",
      "Warning: Vehicle '1_left.0' ends teleporting on edge '4o', time 316.00.\n"
     ]
    },
    {
     "name": "stdout",
     "output_type": "stream",
     "text": [
      "Step #317.40"
     ]
    },
    {
     "name": "stderr",
     "output_type": "stream",
     "text": [
      "Warning: Teleporting vehicle '2_horizontal.0'; waited too long (yield), lane='2si_1', time=317.20.\n",
      "Warning: Vehicle '2_horizontal.0' ends teleporting on edge '1o', time 317.20.\n",
      "Warning: Teleporting vehicle '1_horizontal.0'; waited too long (yield), lane='1si_1', time=317.40.\n",
      "Warning: Vehicle '1_horizontal.0' ends teleporting on edge '2o', time 317.40.\n"
     ]
    },
    {
     "name": "stdout",
     "output_type": "stream",
     "text": [
      "Step #333.60"
     ]
    },
    {
     "name": "stderr",
     "output_type": "stream",
     "text": [
      "Warning: Teleporting vehicle '4_right.0'; waited too long (yield), lane='4si_0', time=333.60.\n",
      "Warning: Vehicle '4_right.0' ends teleporting on edge '1o', time 333.60.\n"
     ]
    },
    {
     "name": "stdout",
     "output_type": "stream",
     "text": [
      "Step #334.40"
     ]
    },
    {
     "name": "stderr",
     "output_type": "stream",
     "text": [
      "Warning: Teleporting vehicle '3_right.0'; waited too long (yield), lane='3si_0', time=334.40.\n",
      "Warning: Vehicle '3_right.0' ends teleporting on edge '2o', time 334.40.\n",
      "Warning: Teleporting vehicle '3_left.0'; waited too long (yield), lane='3si_1', time=335.40.\n",
      "Warning: Vehicle '3_left.0' ends teleporting on edge '1o', time 335.40.\n",
      "Warning: Teleporting vehicle '4_left.0'; waited too long (yield), lane='4si_1', time=335.80.\n",
      "Warning: Vehicle '4_left.0' ends teleporting on edge '2o', time 335.80.\n"
     ]
    },
    {
     "name": "stdout",
     "output_type": "stream",
     "text": [
      "Step #497.80 (1ms ~= 200.00*RT"
     ]
    },
    {
     "name": "stderr",
     "output_type": "stream",
     "text": [
      "Warning: Choosing new speed factor 1.23 for vehicle '3_vertical0.22' to match departure speed.\n"
     ]
    },
    {
     "name": "stdout",
     "output_type": "stream",
     "text": [
      "Step #608.00 (0ms ?*RT. "
     ]
    },
    {
     "name": "stderr",
     "output_type": "stream",
     "text": [
      "Warning: Teleporting vehicle '2_right.1'; waited too long (yield), lane='2si_0', time=616.40.\n",
      "Warning: Vehicle '2_right.1' ends teleporting on edge '4o', time 616.40.\n"
     ]
    },
    {
     "name": "stdout",
     "output_type": "stream",
     "text": [
      "Step #616.40"
     ]
    },
    {
     "name": "stderr",
     "output_type": "stream",
     "text": [
      "Warning: Teleporting vehicle '1_right.1'; waited too long (yield), lane='1si_0', time=617.80.\n",
      "Warning: Vehicle '1_right.1' ends teleporting on edge '3o', time 617.80.\n",
      "Warning: Teleporting vehicle '2_left.1'; waited too long (yield), lane='2si_2', time=618.60.\n",
      "Warning: Vehicle '2_left.1' ends teleporting on edge '3o', time 618.60.\n"
     ]
    },
    {
     "name": "stdout",
     "output_type": "stream",
     "text": [
      "Step #619.20"
     ]
    },
    {
     "name": "stderr",
     "output_type": "stream",
     "text": [
      "Warning: Teleporting vehicle '1_left.1'; waited too long (yield), lane='1si_2', time=619.20.\n",
      "Warning: Vehicle '1_left.1' ends teleporting on edge '4o', time 619.20.\n"
     ]
    },
    {
     "name": "stdout",
     "output_type": "stream",
     "text": [
      "Step #620.60"
     ]
    },
    {
     "name": "stderr",
     "output_type": "stream",
     "text": [
      "Warning: Teleporting vehicle '2_horizontal.1'; waited too long (yield), lane='2si_1', time=620.60.\n",
      "Warning: Teleporting vehicle '1_horizontal.1'; waited too long (yield), lane='1si_1', time=620.60.\n",
      "Warning: Vehicle '1_horizontal.1' ends teleporting on edge '2o', time 620.60.\n",
      "Warning: Vehicle '2_horizontal.1' ends teleporting on edge '1o', time 620.60.\n"
     ]
    },
    {
     "name": "stdout",
     "output_type": "stream",
     "text": [
      "Step #637.80"
     ]
    },
    {
     "name": "stderr",
     "output_type": "stream",
     "text": [
      "Warning: Teleporting vehicle '4_vertical.0'; waited too long (yield), lane='4si_0', time=637.00.\n",
      "Warning: Vehicle '4_vertical.0' ends teleporting on edge '3o', time 637.00.\n",
      "Warning: Teleporting vehicle '3_vertical.0'; waited too long (yield), lane='3si_0', time=637.80.\n",
      "Warning: Vehicle '3_vertical.0' ends teleporting on edge '4o', time 637.80.\n"
     ]
    },
    {
     "name": "stdout",
     "output_type": "stream",
     "text": [
      "Step #639.00"
     ]
    },
    {
     "name": "stderr",
     "output_type": "stream",
     "text": [
      "Warning: Teleporting vehicle '3_left.1'; waited too long (yield), lane='3si_1', time=638.60.\n",
      "Warning: Vehicle '3_left.1' ends teleporting on edge '1o', time 638.60.\n",
      "Warning: Teleporting vehicle '4_left.1'; waited too long (yield), lane='4si_1', time=639.00.\n",
      "Warning: Vehicle '4_left.1' ends teleporting on edge '2o', time 639.00.\n"
     ]
    },
    {
     "name": "stdout",
     "output_type": "stream",
     "text": [
      "Step #801.00 (1ms ~= 200.00*RT"
     ]
    },
    {
     "name": "stderr",
     "output_type": "stream",
     "text": [
      "Warning: Choosing new speed factor 1.24 for vehicle '1_horizontal0.38' to match departure speed.\n"
     ]
    },
    {
     "name": "stdout",
     "output_type": "stream",
     "text": [
      "Step #919.80"
     ]
    },
    {
     "name": "stderr",
     "output_type": "stream",
     "text": [
      "Warning: Teleporting vehicle '2_right.2'; waited too long (yield), lane='2si_0', time=919.80.\n",
      "Warning: Vehicle '2_right.2' ends teleporting on edge '4o', time 919.80.\n",
      "Warning: Teleporting vehicle '1_left.2'; waited too long (yield), lane='1si_2', time=922.40.\n",
      "Warning: Vehicle '1_left.2' ends teleporting on edge '4o', time 922.40.\n",
      "Warning: Teleporting vehicle '2_left0.0'; waited too long (yield), lane='2si_2', time=923.20.\n",
      "Warning: Teleporting vehicle '1_right.2'; waited too long (yield), lane='1si_0', time=923.20.\n",
      "Warning: Vehicle '1_right.2' ends teleporting on edge '3o', time 923.20.\n",
      "Warning: Vehicle '2_left0.0' ends teleporting on edge '3o', time 923.20.\n"
     ]
    },
    {
     "name": "stdout",
     "output_type": "stream",
     "text": [
      "Step #923.20"
     ]
    },
    {
     "name": "stderr",
     "output_type": "stream",
     "text": [
      "Warning: Teleporting vehicle '2_horizontal.2'; waited too long (yield), lane='2si_1', time=924.00.\n",
      "Warning: Teleporting vehicle '1_horizontal.2'; waited too long (yield), lane='1si_1', time=924.00.\n",
      "Warning: Vehicle '1_horizontal.2' ends teleporting on edge '2o', time 924.00.\n",
      "Warning: Vehicle '2_horizontal.2' ends teleporting on edge '1o', time 924.00.\n"
     ]
    },
    {
     "name": "stdout",
     "output_type": "stream",
     "text": [
      "Step #933.00 "
     ]
    },
    {
     "name": "stderr",
     "output_type": "stream",
     "text": [
      "Warning: Teleporting vehicle '4_right.1'; waited too long (yield), lane='4si_0', time=940.40.\n",
      "Warning: Vehicle '4_right.1' ends teleporting on edge '1o', time 940.40.\n",
      "Warning: Teleporting vehicle '3_right.1'; waited too long (yield), lane='3si_0', time=941.00.\n",
      "Warning: Vehicle '3_right.1' ends teleporting on edge '2o', time 941.00.\n"
     ]
    },
    {
     "name": "stdout",
     "output_type": "stream",
     "text": [
      "Step #941.00"
     ]
    },
    {
     "name": "stderr",
     "output_type": "stream",
     "text": [
      "Warning: Teleporting vehicle '3_left.2'; waited too long (yield), lane='3si_1', time=942.00.\n",
      "Warning: Vehicle '3_left.2' ends teleporting on edge '1o', time 942.00.\n",
      "Warning: Teleporting vehicle '4_left.2'; waited too long (yield), lane='4si_1', time=942.40.\n",
      "Warning: Vehicle '4_left.2' ends teleporting on edge '2o', time 942.40.\n"
     ]
    },
    {
     "name": "stdout",
     "output_type": "stream",
     "text": [
      "Step #975.00"
     ]
    },
    {
     "name": "stderr",
     "output_type": "stream",
     "text": [
      "Warning: Choosing new speed factor 1.30 for vehicle '1_horizontal.65' to match departure speed.\n"
     ]
    },
    {
     "name": "stdout",
     "output_type": "stream",
     "text": [
      "Step #993.00 (Cumulative Reward: -11158.152753061462\n",
      " Retrying in 1 seconds\n",
      "Loading configuration ... done.\n"
     ]
    },
    {
     "name": "stderr",
     "output_type": "stream",
     "text": [
      "Warning: Missing yellow phase in tlLogic '0', program '0' for tl-index 3 when switching to phase 0\n",
      "Warning: Missing yellow phase in tlLogic '0', program '1' for tl-index 5 when switching to phase 0\n",
      "Warning: Missing yellow phase in tlLogic '0', program '2' for tl-index 0 when switching to phase 0\n",
      "Warning: Missing yellow phase in tlLogic '0', program '3' for tl-index 2 when switching to phase 0\n"
     ]
    },
    {
     "name": "stdout",
     "output_type": "stream",
     "text": [
      "Step #306.00 (1ms ~= 200.00*RT, ~1"
     ]
    },
    {
     "name": "stderr",
     "output_type": "stream",
     "text": [
      "Warning: Teleporting vehicle '2_right.0'; waited too long (yield), lane='2si_0', time=313.00.\n",
      "Warning: Vehicle '2_right.0' ends teleporting on edge '4o', time 313.00.\n"
     ]
    },
    {
     "name": "stdout",
     "output_type": "stream",
     "text": [
      "Step #315.20"
     ]
    },
    {
     "name": "stderr",
     "output_type": "stream",
     "text": [
      "Warning: Teleporting vehicle '1_right.0'; waited too long (yield), lane='1si_0', time=314.60.\n",
      "Warning: Vehicle '1_right.0' ends teleporting on edge '3o', time 314.60.\n",
      "Warning: Teleporting vehicle '2_left.0'; waited too long (yield), lane='2si_2', time=315.20.\n",
      "Warning: Vehicle '2_left.0' ends teleporting on edge '3o', time 315.20.\n"
     ]
    },
    {
     "name": "stdout",
     "output_type": "stream",
     "text": [
      "Step #316.00"
     ]
    },
    {
     "name": "stderr",
     "output_type": "stream",
     "text": [
      "Warning: Teleporting vehicle '1_left.0'; waited too long (yield), lane='1si_2', time=316.00.\n",
      "Warning: Vehicle '1_left.0' ends teleporting on edge '4o', time 316.00.\n",
      "Warning: Teleporting vehicle '2_horizontal.0'; waited too long (yield), lane='2si_1', time=317.20.\n",
      "Warning: Vehicle '2_horizontal.0' ends teleporting on edge '1o', time 317.20.\n",
      "Warning: Teleporting vehicle '1_horizontal.0'; waited too long (yield), lane='1si_1', time=317.40.\n",
      "Warning: Vehicle '1_horizontal.0' ends teleporting on edge '2o', time 317.40.\n"
     ]
    },
    {
     "name": "stdout",
     "output_type": "stream",
     "text": [
      "Step #326.40 "
     ]
    },
    {
     "name": "stderr",
     "output_type": "stream",
     "text": [
      "Warning: Teleporting vehicle '4_right.0'; waited too long (yield), lane='4si_0', time=333.60.\n",
      "Warning: Vehicle '4_right.0' ends teleporting on edge '1o', time 333.60.\n",
      "Warning: Teleporting vehicle '3_right.0'; waited too long (yield), lane='3si_0', time=334.40.\n",
      "Warning: Vehicle '3_right.0' ends teleporting on edge '2o', time 334.40.\n"
     ]
    },
    {
     "name": "stdout",
     "output_type": "stream",
     "text": [
      "Step #335.80"
     ]
    },
    {
     "name": "stderr",
     "output_type": "stream",
     "text": [
      "Warning: Teleporting vehicle '3_left.0'; waited too long (yield), lane='3si_1', time=335.40.\n",
      "Warning: Vehicle '3_left.0' ends teleporting on edge '1o', time 335.40.\n",
      "Warning: Teleporting vehicle '4_left.0'; waited too long (yield), lane='4si_1', time=335.80.\n",
      "Warning: Vehicle '4_left.0' ends teleporting on edge '2o', time 335.80.\n"
     ]
    },
    {
     "name": "stdout",
     "output_type": "stream",
     "text": [
      "Step #500.00"
     ]
    },
    {
     "name": "stderr",
     "output_type": "stream",
     "text": [
      "Warning: Choosing new speed factor 1.23 for vehicle '3_vertical0.22' to match departure speed.\n"
     ]
    },
    {
     "name": "stdout",
     "output_type": "stream",
     "text": [
      "Step #616.40"
     ]
    },
    {
     "name": "stderr",
     "output_type": "stream",
     "text": [
      "Warning: Teleporting vehicle '2_right.1'; waited too long (yield), lane='2si_0', time=616.40.\n",
      "Warning: Vehicle '2_right.1' ends teleporting on edge '4o', time 616.40.\n",
      "Warning: Teleporting vehicle '1_right.1'; waited too long (yield), lane='1si_0', time=617.80.\n",
      "Warning: Vehicle '1_right.1' ends teleporting on edge '3o', time 617.80.\n"
     ]
    },
    {
     "name": "stdout",
     "output_type": "stream",
     "text": [
      "Step #619.20"
     ]
    },
    {
     "name": "stderr",
     "output_type": "stream",
     "text": [
      "Warning: Teleporting vehicle '2_left.1'; waited too long (yield), lane='2si_2', time=618.60.\n",
      "Warning: Vehicle '2_left.1' ends teleporting on edge '3o', time 618.60.\n",
      "Warning: Teleporting vehicle '1_left.1'; waited too long (yield), lane='1si_2', time=619.20.\n",
      "Warning: Vehicle '1_left.1' ends teleporting on edge '4o', time 619.20.\n"
     ]
    },
    {
     "name": "stdout",
     "output_type": "stream",
     "text": [
      "Step #620.60"
     ]
    },
    {
     "name": "stderr",
     "output_type": "stream",
     "text": [
      "Warning: Teleporting vehicle '2_horizontal.1'; waited too long (yield), lane='2si_1', time=620.60.\n",
      "Warning: Teleporting vehicle '1_horizontal.1'; waited too long (yield), lane='1si_1', time=620.60.\n",
      "Warning: Vehicle '1_horizontal.1' ends teleporting on edge '2o', time 620.60.\n",
      "Warning: Vehicle '2_horizontal.1' ends teleporting on edge '1o', time 620.60.\n"
     ]
    },
    {
     "name": "stdout",
     "output_type": "stream",
     "text": [
      "Step #637.80"
     ]
    },
    {
     "name": "stderr",
     "output_type": "stream",
     "text": [
      "Warning: Teleporting vehicle '4_vertical.0'; waited too long (yield), lane='4si_0', time=637.00.\n",
      "Warning: Vehicle '4_vertical.0' ends teleporting on edge '3o', time 637.00.\n",
      "Warning: Teleporting vehicle '3_vertical.0'; waited too long (yield), lane='3si_0', time=637.80.\n",
      "Warning: Vehicle '3_vertical.0' ends teleporting on edge '4o', time 637.80.\n"
     ]
    },
    {
     "name": "stdout",
     "output_type": "stream",
     "text": [
      "Step #639.00"
     ]
    },
    {
     "name": "stderr",
     "output_type": "stream",
     "text": [
      "Warning: Teleporting vehicle '3_left.1'; waited too long (yield), lane='3si_1', time=638.60.\n",
      "Warning: Vehicle '3_left.1' ends teleporting on edge '1o', time 638.60.\n",
      "Warning: Teleporting vehicle '4_left.1'; waited too long (yield), lane='4si_1', time=639.00.\n",
      "Warning: Vehicle '4_left.1' ends teleporting on edge '2o', time 639.00.\n"
     ]
    },
    {
     "name": "stdout",
     "output_type": "stream",
     "text": [
      "Step #810.00"
     ]
    },
    {
     "name": "stderr",
     "output_type": "stream",
     "text": [
      "Warning: Choosing new speed factor 1.24 for vehicle '1_horizontal0.38' to match departure speed.\n"
     ]
    },
    {
     "name": "stdout",
     "output_type": "stream",
     "text": [
      "Step #919.80"
     ]
    },
    {
     "name": "stderr",
     "output_type": "stream",
     "text": [
      "Warning: Teleporting vehicle '2_right.2'; waited too long (yield), lane='2si_0', time=919.80.\n",
      "Warning: Vehicle '2_right.2' ends teleporting on edge '4o', time 919.80.\n",
      "Warning: Teleporting vehicle '1_left.2'; waited too long (yield), lane='1si_2', time=922.40.\n",
      "Warning: Vehicle '1_left.2' ends teleporting on edge '4o', time 922.40.\n"
     ]
    },
    {
     "name": "stdout",
     "output_type": "stream",
     "text": [
      "Step #923.20"
     ]
    },
    {
     "name": "stderr",
     "output_type": "stream",
     "text": [
      "Warning: Teleporting vehicle '2_left0.0'; waited too long (yield), lane='2si_2', time=923.20.\n",
      "Warning: Teleporting vehicle '1_right.2'; waited too long (yield), lane='1si_0', time=923.20.\n",
      "Warning: Vehicle '1_right.2' ends teleporting on edge '3o', time 923.20.\n",
      "Warning: Vehicle '2_left0.0' ends teleporting on edge '3o', time 923.20.\n"
     ]
    },
    {
     "name": "stdout",
     "output_type": "stream",
     "text": [
      "Step #924.00"
     ]
    },
    {
     "name": "stderr",
     "output_type": "stream",
     "text": [
      "Warning: Teleporting vehicle '2_horizontal.2'; waited too long (yield), lane='2si_1', time=924.00.\n",
      "Warning: Teleporting vehicle '1_horizontal.2'; waited too long (yield), lane='1si_1', time=924.00.\n",
      "Warning: Vehicle '1_horizontal.2' ends teleporting on edge '2o', time 924.00.\n",
      "Warning: Vehicle '2_horizontal.2' ends teleporting on edge '1o', time 924.00.\n"
     ]
    },
    {
     "name": "stdout",
     "output_type": "stream",
     "text": [
      "Step #941.00"
     ]
    },
    {
     "name": "stderr",
     "output_type": "stream",
     "text": [
      "Warning: Teleporting vehicle '4_right.1'; waited too long (yield), lane='4si_0', time=940.40.\n",
      "Warning: Vehicle '4_right.1' ends teleporting on edge '1o', time 940.40.\n",
      "Warning: Teleporting vehicle '3_right.1'; waited too long (yield), lane='3si_0', time=941.00.\n",
      "Warning: Vehicle '3_right.1' ends teleporting on edge '2o', time 941.00.\n"
     ]
    },
    {
     "name": "stdout",
     "output_type": "stream",
     "text": [
      "Step #942.40"
     ]
    },
    {
     "name": "stderr",
     "output_type": "stream",
     "text": [
      "Warning: Teleporting vehicle '3_left.2'; waited too long (yield), lane='3si_1', time=942.00.\n",
      "Warning: Vehicle '3_left.2' ends teleporting on edge '1o', time 942.00.\n",
      "Warning: Teleporting vehicle '4_left.2'; waited too long (yield), lane='4si_1', time=942.40.\n",
      "Warning: Vehicle '4_left.2' ends teleporting on edge '2o', time 942.40.\n"
     ]
    },
    {
     "name": "stdout",
     "output_type": "stream",
     "text": [
      "Step #975.00"
     ]
    },
    {
     "name": "stderr",
     "output_type": "stream",
     "text": [
      "Warning: Choosing new speed factor 1.30 for vehicle '1_horizontal.65' to match departure speed.\n"
     ]
    },
    {
     "name": "stdout",
     "output_type": "stream",
     "text": [
      "Step #993.00 (Cumulative Reward: -11158.152753061462\n",
      " Retrying in 1 seconds\n",
      "Loading configuration ... done.\n"
     ]
    },
    {
     "name": "stderr",
     "output_type": "stream",
     "text": [
      "Warning: Missing yellow phase in tlLogic '0', program '0' for tl-index 3 when switching to phase 0\n",
      "Warning: Missing yellow phase in tlLogic '0', program '1' for tl-index 5 when switching to phase 0\n",
      "Warning: Missing yellow phase in tlLogic '0', program '2' for tl-index 0 when switching to phase 0\n",
      "Warning: Missing yellow phase in tlLogic '0', program '3' for tl-index 2 when switching to phase 0\n"
     ]
    },
    {
     "name": "stdout",
     "output_type": "stream",
     "text": [
      "Step #313.00"
     ]
    },
    {
     "name": "stderr",
     "output_type": "stream",
     "text": [
      "Warning: Teleporting vehicle '2_right.0'; waited too long (yield), lane='2si_0', time=313.00.\n",
      "Warning: Vehicle '2_right.0' ends teleporting on edge '4o', time 313.00.\n"
     ]
    },
    {
     "name": "stdout",
     "output_type": "stream",
     "text": [
      "Step #315.20"
     ]
    },
    {
     "name": "stderr",
     "output_type": "stream",
     "text": [
      "Warning: Teleporting vehicle '1_right.0'; waited too long (yield), lane='1si_0', time=314.60.\n",
      "Warning: Vehicle '1_right.0' ends teleporting on edge '3o', time 314.60.\n",
      "Warning: Teleporting vehicle '2_left.0'; waited too long (yield), lane='2si_2', time=315.20.\n",
      "Warning: Vehicle '2_left.0' ends teleporting on edge '3o', time 315.20.\n",
      "Warning: Teleporting vehicle '1_left.0'; waited too long (yield), lane='1si_2', time=316.00.\n",
      "Warning: Vehicle '1_left.0' ends teleporting on edge '4o', time 316.00.\n"
     ]
    },
    {
     "name": "stdout",
     "output_type": "stream",
     "text": [
      "Step #317.40"
     ]
    },
    {
     "name": "stderr",
     "output_type": "stream",
     "text": [
      "Warning: Teleporting vehicle '2_horizontal.0'; waited too long (yield), lane='2si_1', time=317.20.\n",
      "Warning: Vehicle '2_horizontal.0' ends teleporting on edge '1o', time 317.20.\n",
      "Warning: Teleporting vehicle '1_horizontal.0'; waited too long (yield), lane='1si_1', time=317.40.\n",
      "Warning: Vehicle '1_horizontal.0' ends teleporting on edge '2o', time 317.40.\n"
     ]
    },
    {
     "name": "stdout",
     "output_type": "stream",
     "text": [
      "Step #334.40"
     ]
    },
    {
     "name": "stderr",
     "output_type": "stream",
     "text": [
      "Warning: Teleporting vehicle '4_right.0'; waited too long (yield), lane='4si_0', time=333.60.\n",
      "Warning: Vehicle '4_right.0' ends teleporting on edge '1o', time 333.60.\n",
      "Warning: Teleporting vehicle '3_right.0'; waited too long (yield), lane='3si_0', time=334.40.\n",
      "Warning: Vehicle '3_right.0' ends teleporting on edge '2o', time 334.40.\n"
     ]
    },
    {
     "name": "stdout",
     "output_type": "stream",
     "text": [
      "Step #335.80"
     ]
    },
    {
     "name": "stderr",
     "output_type": "stream",
     "text": [
      "Warning: Teleporting vehicle '3_left.0'; waited too long (yield), lane='3si_1', time=335.40.\n",
      "Warning: Vehicle '3_left.0' ends teleporting on edge '1o', time 335.40.\n",
      "Warning: Teleporting vehicle '4_left.0'; waited too long (yield), lane='4si_1', time=335.80.\n",
      "Warning: Vehicle '4_left.0' ends teleporting on edge '2o', time 335.80.\n"
     ]
    },
    {
     "name": "stdout",
     "output_type": "stream",
     "text": [
      "Step #497.80 (1ms ~= 200.00*RT"
     ]
    },
    {
     "name": "stderr",
     "output_type": "stream",
     "text": [
      "Warning: Choosing new speed factor 1.23 for vehicle '3_vertical0.22' to match departure speed.\n"
     ]
    },
    {
     "name": "stdout",
     "output_type": "stream",
     "text": [
      "Step #608.00 (1ms ~= 200"
     ]
    },
    {
     "name": "stderr",
     "output_type": "stream",
     "text": [
      "Warning: Teleporting vehicle '2_right.1'; waited too long (yield), lane='2si_0', time=616.40.\n",
      "Warning: Vehicle '2_right.1' ends teleporting on edge '4o', time 616.40.\n"
     ]
    },
    {
     "name": "stdout",
     "output_type": "stream",
     "text": [
      "Step #616.40"
     ]
    },
    {
     "name": "stderr",
     "output_type": "stream",
     "text": [
      "Warning: Teleporting vehicle '1_right.1'; waited too long (yield), lane='1si_0', time=617.80.\n",
      "Warning: Vehicle '1_right.1' ends teleporting on edge '3o', time 617.80.\n",
      "Warning: Teleporting vehicle '2_left.1'; waited too long (yield), lane='2si_2', time=618.60.\n",
      "Warning: Vehicle '2_left.1' ends teleporting on edge '3o', time 618.60.\n"
     ]
    },
    {
     "name": "stdout",
     "output_type": "stream",
     "text": [
      "Step #619.20"
     ]
    },
    {
     "name": "stderr",
     "output_type": "stream",
     "text": [
      "Warning: Teleporting vehicle '1_left.1'; waited too long (yield), lane='1si_2', time=619.20.\n",
      "Warning: Vehicle '1_left.1' ends teleporting on edge '4o', time 619.20.\n",
      "Warning: Teleporting vehicle '2_horizontal.1'; waited too long (yield), lane='2si_1', time=620.60.\n",
      "Warning: Teleporting vehicle '1_horizontal.1'; waited too long (yield), lane='1si_1', time=620.60.\n",
      "Warning: Vehicle '1_horizontal.1' ends teleporting on edge '2o', time 620.60.\n",
      "Warning: Vehicle '2_horizontal.1' ends teleporting on edge '1o', time 620.60.\n"
     ]
    },
    {
     "name": "stdout",
     "output_type": "stream",
     "text": [
      "Step #637.80"
     ]
    },
    {
     "name": "stderr",
     "output_type": "stream",
     "text": [
      "Warning: Teleporting vehicle '4_vertical.0'; waited too long (yield), lane='4si_0', time=637.00.\n",
      "Warning: Vehicle '4_vertical.0' ends teleporting on edge '3o', time 637.00.\n",
      "Warning: Teleporting vehicle '3_vertical.0'; waited too long (yield), lane='3si_0', time=637.80.\n",
      "Warning: Vehicle '3_vertical.0' ends teleporting on edge '4o', time 637.80.\n"
     ]
    },
    {
     "name": "stdout",
     "output_type": "stream",
     "text": [
      "Step #639.00"
     ]
    },
    {
     "name": "stderr",
     "output_type": "stream",
     "text": [
      "Warning: Teleporting vehicle '3_left.1'; waited too long (yield), lane='3si_1', time=638.60.\n",
      "Warning: Vehicle '3_left.1' ends teleporting on edge '1o', time 638.60.\n",
      "Warning: Teleporting vehicle '4_left.1'; waited too long (yield), lane='4si_1', time=639.00.\n",
      "Warning: Vehicle '4_left.1' ends teleporting on edge '2o', time 639.00.\n"
     ]
    },
    {
     "name": "stdout",
     "output_type": "stream",
     "text": [
      "Step #801.00 (0ms ?*RT. ?UPS, "
     ]
    },
    {
     "name": "stderr",
     "output_type": "stream",
     "text": [
      "Warning: Choosing new speed factor 1.24 for vehicle '1_horizontal0.38' to match departure speed.\n"
     ]
    },
    {
     "name": "stdout",
     "output_type": "stream",
     "text": [
      "Step #919.80"
     ]
    },
    {
     "name": "stderr",
     "output_type": "stream",
     "text": [
      "Warning: Teleporting vehicle '2_right.2'; waited too long (yield), lane='2si_0', time=919.80.\n",
      "Warning: Vehicle '2_right.2' ends teleporting on edge '4o', time 919.80.\n"
     ]
    },
    {
     "name": "stdout",
     "output_type": "stream",
     "text": [
      "Step #923.20"
     ]
    },
    {
     "name": "stderr",
     "output_type": "stream",
     "text": [
      "Warning: Teleporting vehicle '1_left.2'; waited too long (yield), lane='1si_2', time=922.40.\n",
      "Warning: Vehicle '1_left.2' ends teleporting on edge '4o', time 922.40.\n",
      "Warning: Teleporting vehicle '2_left0.0'; waited too long (yield), lane='2si_2', time=923.20.\n",
      "Warning: Teleporting vehicle '1_right.2'; waited too long (yield), lane='1si_0', time=923.20.\n",
      "Warning: Vehicle '1_right.2' ends teleporting on edge '3o', time 923.20.\n",
      "Warning: Vehicle '2_left0.0' ends teleporting on edge '3o', time 923.20.\n"
     ]
    },
    {
     "name": "stdout",
     "output_type": "stream",
     "text": [
      "Step #924.00"
     ]
    },
    {
     "name": "stderr",
     "output_type": "stream",
     "text": [
      "Warning: Teleporting vehicle '2_horizontal.2'; waited too long (yield), lane='2si_1', time=924.00.\n",
      "Warning: Teleporting vehicle '1_horizontal.2'; waited too long (yield), lane='1si_1', time=924.00.\n",
      "Warning: Vehicle '1_horizontal.2' ends teleporting on edge '2o', time 924.00.\n",
      "Warning: Vehicle '2_horizontal.2' ends teleporting on edge '1o', time 924.00.\n"
     ]
    },
    {
     "name": "stdout",
     "output_type": "stream",
     "text": [
      "Step #941.00"
     ]
    },
    {
     "name": "stderr",
     "output_type": "stream",
     "text": [
      "Warning: Teleporting vehicle '4_right.1'; waited too long (yield), lane='4si_0', time=940.40.\n",
      "Warning: Vehicle '4_right.1' ends teleporting on edge '1o', time 940.40.\n",
      "Warning: Teleporting vehicle '3_right.1'; waited too long (yield), lane='3si_0', time=941.00.\n",
      "Warning: Vehicle '3_right.1' ends teleporting on edge '2o', time 941.00.\n"
     ]
    },
    {
     "name": "stdout",
     "output_type": "stream",
     "text": [
      "Step #942.40"
     ]
    },
    {
     "name": "stderr",
     "output_type": "stream",
     "text": [
      "Warning: Teleporting vehicle '3_left.2'; waited too long (yield), lane='3si_1', time=942.00.\n",
      "Warning: Vehicle '3_left.2' ends teleporting on edge '1o', time 942.00.\n",
      "Warning: Teleporting vehicle '4_left.2'; waited too long (yield), lane='4si_1', time=942.40.\n",
      "Warning: Vehicle '4_left.2' ends teleporting on edge '2o', time 942.40.\n"
     ]
    },
    {
     "name": "stdout",
     "output_type": "stream",
     "text": [
      "Step #975.00"
     ]
    },
    {
     "name": "stderr",
     "output_type": "stream",
     "text": [
      "Warning: Choosing new speed factor 1.30 for vehicle '1_horizontal.65' to match departure speed.\n"
     ]
    },
    {
     "name": "stdout",
     "output_type": "stream",
     "text": [
      "Step #993.00 (Cumulative Reward: -11158.152753061462\n",
      " Retrying in 1 seconds\n",
      "Loading configuration ... done.\n",
      "----------------------------------\n",
      "| rollout/           |           |\n",
      "|    ep_len_mean     | 5e+03     |\n",
      "|    ep_rew_mean     | -7.37e+03 |\n",
      "| time/              |           |\n",
      "|    episodes        | 20        |\n",
      "|    fps             | 6         |\n",
      "|    time_elapsed    | 15693     |\n",
      "|    total_timesteps | 100000    |\n",
      "| train/             |           |\n",
      "|    actor_loss      | 203       |\n",
      "|    critic_loss     | 23.5      |\n",
      "|    learning_rate   | 0.001     |\n",
      "|    n_updates       | 95000     |\n",
      "----------------------------------\n"
     ]
    },
    {
     "name": "stderr",
     "output_type": "stream",
     "text": [
      "Warning: Missing yellow phase in tlLogic '0', program '0' for tl-index 3 when switching to phase 0\n",
      "Warning: Missing yellow phase in tlLogic '0', program '1' for tl-index 5 when switching to phase 0\n",
      "Warning: Missing yellow phase in tlLogic '0', program '2' for tl-index 0 when switching to phase 0\n",
      "Warning: Missing yellow phase in tlLogic '0', program '3' for tl-index 2 when switching to phase 0\n"
     ]
    },
    {
     "name": "stdout",
     "output_type": "stream",
     "text": [
      "Step #0.00 (0ms ?*RT. ?UPS, TraCI: 602646ms, vehicles TOT 0 ACT 0 BUF 0)                 \r"
     ]
    }
   ],
   "source": [
    "# Create the environment\n",
    "env = SingleRoadIntersectionEnv()\n",
    "check_env(env)  # Ensure compatibility with Gym\n",
    "\n",
    "# Instantiate the DDPG agent\n",
    "ddpg_model = DDPG(\"MultiInputPolicy\", env, verbose=1, buffer_size = 8000)\n",
    "\n",
    "# Train the DDPG agent with validation callback\n",
    "ddpg_model.learn(total_timesteps=100000)\n",
    "\n",
    "# Save the model\n",
    "ddpg_model.save(\"DDPGModel\")\n",
    "\n",
    "# Close the environment\n",
    "env.close()"
   ]
  },
  {
   "cell_type": "markdown",
   "id": "37b60d57",
   "metadata": {
    "papermill": {
     "duration": 0.45262,
     "end_time": "2024-05-01T16:54:54.582379",
     "exception": false,
     "start_time": "2024-05-01T16:54:54.129759",
     "status": "completed"
    },
    "tags": []
   },
   "source": [
    "## Evaluation"
   ]
  },
  {
   "cell_type": "markdown",
   "id": "72138344",
   "metadata": {
    "papermill": {
     "duration": 0.453024,
     "end_time": "2024-05-01T16:54:55.486391",
     "exception": false,
     "start_time": "2024-05-01T16:54:55.033367",
     "status": "completed"
    },
    "tags": []
   },
   "source": [
    "### Extracting the data for eval episodes"
   ]
  },
  {
   "cell_type": "markdown",
   "id": "87910413",
   "metadata": {
    "papermill": {
     "duration": 0.450487,
     "end_time": "2024-05-01T16:54:56.380938",
     "exception": false,
     "start_time": "2024-05-01T16:54:55.930451",
     "status": "completed"
    },
    "tags": []
   },
   "source": [
    "We are going to average all our metrics over the eval episodes"
   ]
  },
  {
   "cell_type": "code",
   "execution_count": 9,
   "id": "5b6e4206",
   "metadata": {
    "execution": {
     "iopub.execute_input": "2024-05-01T16:54:57.271711Z",
     "iopub.status.busy": "2024-05-01T16:54:57.271340Z",
     "iopub.status.idle": "2024-05-01T17:14:05.721784Z",
     "shell.execute_reply": "2024-05-01T17:14:05.720690Z"
    },
    "papermill": {
     "duration": 1148.90171,
     "end_time": "2024-05-01T17:14:05.724066",
     "exception": false,
     "start_time": "2024-05-01T16:54:56.822356",
     "status": "completed"
    },
    "tags": []
   },
   "outputs": [
    {
     "name": "stdout",
     "output_type": "stream",
     "text": [
      " Retrying in 1 seconds\n",
      "Loading configuration ... done.\n"
     ]
    },
    {
     "name": "stderr",
     "output_type": "stream",
     "text": [
      "Warning: Missing yellow phase in tlLogic '0', program '0' for tl-index 3 when switching to phase 0\n",
      "Warning: Missing yellow phase in tlLogic '0', program '1' for tl-index 5 when switching to phase 0\n",
      "Warning: Missing yellow phase in tlLogic '0', program '2' for tl-index 0 when switching to phase 0\n",
      "Warning: Missing yellow phase in tlLogic '0', program '3' for tl-index 2 when switching to phase 0\n",
      "/tmp/ipykernel_24/2116822760.py:38: UserWarning: getCurrentTime is deprecated, please use getTime which returns floating point seconds\n",
      "  self.simulation_time_at_phase_change = traci.simulation.getCurrentTime()/1000\n"
     ]
    },
    {
     "name": "stdout",
     "output_type": "stream",
     "text": [
      " Retrying in 1 seconds\n",
      "Loading configuration ... done.\n"
     ]
    },
    {
     "name": "stderr",
     "output_type": "stream",
     "text": [
      "Warning: Missing yellow phase in tlLogic '0', program '0' for tl-index 3 when switching to phase 0\n",
      "Warning: Missing yellow phase in tlLogic '0', program '1' for tl-index 5 when switching to phase 0\n",
      "Warning: Missing yellow phase in tlLogic '0', program '2' for tl-index 0 when switching to phase 0\n",
      "Warning: Missing yellow phase in tlLogic '0', program '3' for tl-index 2 when switching to phase 0\n",
      "/tmp/ipykernel_24/2116822760.py:52: UserWarning: getCurrentTime is deprecated, please use getTime which returns floating point seconds\n",
      "  self.simulation_time_at_phase_change = traci.simulation.getCurrentTime()/1000\n",
      "/tmp/ipykernel_24/2116822760.py:69: UserWarning: getCurrentTime is deprecated, please use getTime which returns floating point seconds\n",
      "  current_time = traci.simulation.getCurrentTime() / 1000  # Convert from ms to s\n",
      "/tmp/ipykernel_24/2116822760.py:105: UserWarning: getCurrentTime is deprecated, please use getTime which returns floating point seconds\n",
      "  current_time = traci.simulation.getCurrentTime() / 1000  # Convert from ms to s\n"
     ]
    },
    {
     "name": "stdout",
     "output_type": "stream",
     "text": [
      "Step #306.00 (0ms ?*RT. ?UPS, TraC"
     ]
    },
    {
     "name": "stderr",
     "output_type": "stream",
     "text": [
      "Warning: Teleporting vehicle '2_right.0'; waited too long (yield), lane='2si_0', time=313.00.\n",
      "Warning: Vehicle '2_right.0' ends teleporting on edge '4o', time 313.00.\n"
     ]
    },
    {
     "name": "stdout",
     "output_type": "stream",
     "text": [
      "Step #313.00"
     ]
    },
    {
     "name": "stderr",
     "output_type": "stream",
     "text": [
      "Warning: Teleporting vehicle '1_right.0'; waited too long (yield), lane='1si_0', time=314.60.\n",
      "Warning: Vehicle '1_right.0' ends teleporting on edge '3o', time 314.60.\n",
      "Warning: Teleporting vehicle '2_left.0'; waited too long (yield), lane='2si_2', time=315.20.\n",
      "Warning: Vehicle '2_left.0' ends teleporting on edge '3o', time 315.20.\n"
     ]
    },
    {
     "name": "stdout",
     "output_type": "stream",
     "text": [
      "Step #316.00"
     ]
    },
    {
     "name": "stderr",
     "output_type": "stream",
     "text": [
      "Warning: Teleporting vehicle '1_left.0'; waited too long (yield), lane='1si_2', time=316.00.\n",
      "Warning: Vehicle '1_left.0' ends teleporting on edge '4o', time 316.00.\n"
     ]
    },
    {
     "name": "stdout",
     "output_type": "stream",
     "text": [
      "Step #317.40"
     ]
    },
    {
     "name": "stderr",
     "output_type": "stream",
     "text": [
      "Warning: Teleporting vehicle '2_horizontal.0'; waited too long (yield), lane='2si_1', time=317.20.\n",
      "Warning: Vehicle '2_horizontal.0' ends teleporting on edge '1o', time 317.20.\n",
      "Warning: Teleporting vehicle '1_horizontal.0'; waited too long (yield), lane='1si_1', time=317.40.\n",
      "Warning: Vehicle '1_horizontal.0' ends teleporting on edge '2o', time 317.40.\n"
     ]
    },
    {
     "name": "stdout",
     "output_type": "stream",
     "text": [
      "Step #326.40 "
     ]
    },
    {
     "name": "stderr",
     "output_type": "stream",
     "text": [
      "Warning: Teleporting vehicle '4_right.0'; waited too long (yield), lane='4si_0', time=333.60.\n",
      "Warning: Vehicle '4_right.0' ends teleporting on edge '1o', time 333.60.\n"
     ]
    },
    {
     "name": "stdout",
     "output_type": "stream",
     "text": [
      "Step #334.40"
     ]
    },
    {
     "name": "stderr",
     "output_type": "stream",
     "text": [
      "Warning: Teleporting vehicle '3_right.0'; waited too long (yield), lane='3si_0', time=334.40.\n",
      "Warning: Vehicle '3_right.0' ends teleporting on edge '2o', time 334.40.\n"
     ]
    },
    {
     "name": "stdout",
     "output_type": "stream",
     "text": [
      "Step #335.80"
     ]
    },
    {
     "name": "stderr",
     "output_type": "stream",
     "text": [
      "Warning: Teleporting vehicle '3_left.0'; waited too long (yield), lane='3si_1', time=335.40.\n",
      "Warning: Vehicle '3_left.0' ends teleporting on edge '1o', time 335.40.\n",
      "Warning: Teleporting vehicle '4_left.0'; waited too long (yield), lane='4si_1', time=335.80.\n",
      "Warning: Vehicle '4_left.0' ends teleporting on edge '2o', time 335.80.\n"
     ]
    },
    {
     "name": "stdout",
     "output_type": "stream",
     "text": [
      "Step #500.00"
     ]
    },
    {
     "name": "stderr",
     "output_type": "stream",
     "text": [
      "Warning: Choosing new speed factor 1.23 for vehicle '3_vertical0.22' to match departure speed.\n"
     ]
    },
    {
     "name": "stdout",
     "output_type": "stream",
     "text": [
      "Step #616.40"
     ]
    },
    {
     "name": "stderr",
     "output_type": "stream",
     "text": [
      "Warning: Teleporting vehicle '2_right.1'; waited too long (yield), lane='2si_0', time=616.40.\n",
      "Warning: Vehicle '2_right.1' ends teleporting on edge '4o', time 616.40.\n"
     ]
    },
    {
     "name": "stdout",
     "output_type": "stream",
     "text": [
      "Step #618.60"
     ]
    },
    {
     "name": "stderr",
     "output_type": "stream",
     "text": [
      "Warning: Teleporting vehicle '1_right.1'; waited too long (yield), lane='1si_0', time=617.80.\n",
      "Warning: Vehicle '1_right.1' ends teleporting on edge '3o', time 617.80.\n",
      "Warning: Teleporting vehicle '2_left.1'; waited too long (yield), lane='2si_2', time=618.60.\n",
      "Warning: Vehicle '2_left.1' ends teleporting on edge '3o', time 618.60.\n",
      "Warning: Teleporting vehicle '1_left.1'; waited too long (yield), lane='1si_2', time=619.20.\n",
      "Warning: Vehicle '1_left.1' ends teleporting on edge '4o', time 619.20.\n"
     ]
    },
    {
     "name": "stdout",
     "output_type": "stream",
     "text": [
      "Step #620.60"
     ]
    },
    {
     "name": "stderr",
     "output_type": "stream",
     "text": [
      "Warning: Teleporting vehicle '2_horizontal.1'; waited too long (yield), lane='2si_1', time=620.60.\n",
      "Warning: Teleporting vehicle '1_horizontal.1'; waited too long (yield), lane='1si_1', time=620.60.\n",
      "Warning: Vehicle '1_horizontal.1' ends teleporting on edge '2o', time 620.60.\n",
      "Warning: Vehicle '2_horizontal.1' ends teleporting on edge '1o', time 620.60.\n"
     ]
    },
    {
     "name": "stdout",
     "output_type": "stream",
     "text": [
      "Step #637.80"
     ]
    },
    {
     "name": "stderr",
     "output_type": "stream",
     "text": [
      "Warning: Teleporting vehicle '4_vertical.0'; waited too long (yield), lane='4si_0', time=637.00.\n",
      "Warning: Vehicle '4_vertical.0' ends teleporting on edge '3o', time 637.00.\n",
      "Warning: Teleporting vehicle '3_vertical.0'; waited too long (yield), lane='3si_0', time=637.80.\n",
      "Warning: Vehicle '3_vertical.0' ends teleporting on edge '4o', time 637.80.\n"
     ]
    },
    {
     "name": "stdout",
     "output_type": "stream",
     "text": [
      "Step #639.00"
     ]
    },
    {
     "name": "stderr",
     "output_type": "stream",
     "text": [
      "Warning: Teleporting vehicle '3_left.1'; waited too long (yield), lane='3si_1', time=638.60.\n",
      "Warning: Vehicle '3_left.1' ends teleporting on edge '1o', time 638.60.\n",
      "Warning: Teleporting vehicle '4_left.1'; waited too long (yield), lane='4si_1', time=639.00.\n",
      "Warning: Vehicle '4_left.1' ends teleporting on edge '2o', time 639.00.\n"
     ]
    },
    {
     "name": "stdout",
     "output_type": "stream",
     "text": [
      "Step #810.00"
     ]
    },
    {
     "name": "stderr",
     "output_type": "stream",
     "text": [
      "Warning: Choosing new speed factor 1.24 for vehicle '1_horizontal0.38' to match departure speed.\n"
     ]
    },
    {
     "name": "stdout",
     "output_type": "stream",
     "text": [
      "Step #918.00 (1ms ~= 200"
     ]
    },
    {
     "name": "stderr",
     "output_type": "stream",
     "text": [
      "Warning: Teleporting vehicle '2_right.2'; waited too long (yield), lane='2si_0', time=919.80.\n",
      "Warning: Vehicle '2_right.2' ends teleporting on edge '4o', time 919.80.\n"
     ]
    },
    {
     "name": "stdout",
     "output_type": "stream",
     "text": [
      "Step #923.20"
     ]
    },
    {
     "name": "stderr",
     "output_type": "stream",
     "text": [
      "Warning: Teleporting vehicle '1_left.2'; waited too long (yield), lane='1si_2', time=922.40.\n",
      "Warning: Vehicle '1_left.2' ends teleporting on edge '4o', time 922.40.\n",
      "Warning: Teleporting vehicle '2_left0.0'; waited too long (yield), lane='2si_2', time=923.20.\n",
      "Warning: Teleporting vehicle '1_right.2'; waited too long (yield), lane='1si_0', time=923.20.\n",
      "Warning: Vehicle '1_right.2' ends teleporting on edge '3o', time 923.20.\n",
      "Warning: Vehicle '2_left0.0' ends teleporting on edge '3o', time 923.20.\n"
     ]
    },
    {
     "name": "stdout",
     "output_type": "stream",
     "text": [
      "Step #924.00"
     ]
    },
    {
     "name": "stderr",
     "output_type": "stream",
     "text": [
      "Warning: Teleporting vehicle '2_horizontal.2'; waited too long (yield), lane='2si_1', time=924.00.\n",
      "Warning: Teleporting vehicle '1_horizontal.2'; waited too long (yield), lane='1si_1', time=924.00.\n",
      "Warning: Vehicle '1_horizontal.2' ends teleporting on edge '2o', time 924.00.\n",
      "Warning: Vehicle '2_horizontal.2' ends teleporting on edge '1o', time 924.00.\n"
     ]
    },
    {
     "name": "stdout",
     "output_type": "stream",
     "text": [
      "Step #941.00"
     ]
    },
    {
     "name": "stderr",
     "output_type": "stream",
     "text": [
      "Warning: Teleporting vehicle '4_right.1'; waited too long (yield), lane='4si_0', time=940.40.\n",
      "Warning: Vehicle '4_right.1' ends teleporting on edge '1o', time 940.40.\n",
      "Warning: Teleporting vehicle '3_right.1'; waited too long (yield), lane='3si_0', time=941.00.\n",
      "Warning: Vehicle '3_right.1' ends teleporting on edge '2o', time 941.00.\n",
      "Warning: Teleporting vehicle '3_left.2'; waited too long (yield), lane='3si_1', time=942.00.\n",
      "Warning: Vehicle '3_left.2' ends teleporting on edge '1o', time 942.00.\n",
      "Warning: Teleporting vehicle '4_left.2'; waited too long (yield), lane='4si_1', time=942.40.\n",
      "Warning: Vehicle '4_left.2' ends teleporting on edge '2o', time 942.40.\n"
     ]
    },
    {
     "name": "stdout",
     "output_type": "stream",
     "text": [
      "Step #975.00"
     ]
    },
    {
     "name": "stderr",
     "output_type": "stream",
     "text": [
      "Warning: Choosing new speed factor 1.30 for vehicle '1_horizontal.65' to match departure speed.\n"
     ]
    },
    {
     "name": "stdout",
     "output_type": "stream",
     "text": [
      "Step #993.00 (Cumulative Reward: -11158.152753061462\n",
      " Retrying in 1 seconds\n",
      "Loading configuration ... done.\n"
     ]
    },
    {
     "name": "stderr",
     "output_type": "stream",
     "text": [
      "Warning: Missing yellow phase in tlLogic '0', program '0' for tl-index 3 when switching to phase 0\n",
      "Warning: Missing yellow phase in tlLogic '0', program '1' for tl-index 5 when switching to phase 0\n",
      "Warning: Missing yellow phase in tlLogic '0', program '2' for tl-index 0 when switching to phase 0\n",
      "Warning: Missing yellow phase in tlLogic '0', program '3' for tl-index 2 when switching to phase 0\n"
     ]
    },
    {
     "name": "stdout",
     "output_type": "stream",
     "text": [
      "Step #313.00"
     ]
    },
    {
     "name": "stderr",
     "output_type": "stream",
     "text": [
      "Warning: Teleporting vehicle '2_right.0'; waited too long (yield), lane='2si_0', time=313.00.\n",
      "Warning: Vehicle '2_right.0' ends teleporting on edge '4o', time 313.00.\n",
      "Warning: Teleporting vehicle '1_right.0'; waited too long (yield), lane='1si_0', time=314.60.\n",
      "Warning: Vehicle '1_right.0' ends teleporting on edge '3o', time 314.60.\n",
      "Warning: Teleporting vehicle '2_left.0'; waited too long (yield), lane='2si_2', time=315.20.\n",
      "Warning: Vehicle '2_left.0' ends teleporting on edge '3o', time 315.20.\n"
     ]
    },
    {
     "name": "stdout",
     "output_type": "stream",
     "text": [
      "Step #315.20"
     ]
    },
    {
     "name": "stderr",
     "output_type": "stream",
     "text": [
      "Warning: Teleporting vehicle '1_left.0'; waited too long (yield), lane='1si_2', time=316.00.\n",
      "Warning: Vehicle '1_left.0' ends teleporting on edge '4o', time 316.00.\n"
     ]
    },
    {
     "name": "stdout",
     "output_type": "stream",
     "text": [
      "Step #317.40"
     ]
    },
    {
     "name": "stderr",
     "output_type": "stream",
     "text": [
      "Warning: Teleporting vehicle '2_horizontal.0'; waited too long (yield), lane='2si_1', time=317.20.\n",
      "Warning: Vehicle '2_horizontal.0' ends teleporting on edge '1o', time 317.20.\n",
      "Warning: Teleporting vehicle '1_horizontal.0'; waited too long (yield), lane='1si_1', time=317.40.\n",
      "Warning: Vehicle '1_horizontal.0' ends teleporting on edge '2o', time 317.40.\n"
     ]
    },
    {
     "name": "stdout",
     "output_type": "stream",
     "text": [
      "Step #334.40"
     ]
    },
    {
     "name": "stderr",
     "output_type": "stream",
     "text": [
      "Warning: Teleporting vehicle '4_right.0'; waited too long (yield), lane='4si_0', time=333.60.\n",
      "Warning: Vehicle '4_right.0' ends teleporting on edge '1o', time 333.60.\n",
      "Warning: Teleporting vehicle '3_right.0'; waited too long (yield), lane='3si_0', time=334.40.\n",
      "Warning: Vehicle '3_right.0' ends teleporting on edge '2o', time 334.40.\n"
     ]
    },
    {
     "name": "stdout",
     "output_type": "stream",
     "text": [
      "Step #335.80"
     ]
    },
    {
     "name": "stderr",
     "output_type": "stream",
     "text": [
      "Warning: Teleporting vehicle '3_left.0'; waited too long (yield), lane='3si_1', time=335.40.\n",
      "Warning: Vehicle '3_left.0' ends teleporting on edge '1o', time 335.40.\n",
      "Warning: Teleporting vehicle '4_left.0'; waited too long (yield), lane='4si_1', time=335.80.\n",
      "Warning: Vehicle '4_left.0' ends teleporting on edge '2o', time 335.80.\n"
     ]
    },
    {
     "name": "stdout",
     "output_type": "stream",
     "text": [
      "Step #500.00"
     ]
    },
    {
     "name": "stderr",
     "output_type": "stream",
     "text": [
      "Warning: Choosing new speed factor 1.23 for vehicle '3_vertical0.22' to match departure speed.\n"
     ]
    },
    {
     "name": "stdout",
     "output_type": "stream",
     "text": [
      "Step #608.00 (0ms ?*RT. "
     ]
    },
    {
     "name": "stderr",
     "output_type": "stream",
     "text": [
      "Warning: Teleporting vehicle '2_right.1'; waited too long (yield), lane='2si_0', time=616.40.\n",
      "Warning: Vehicle '2_right.1' ends teleporting on edge '4o', time 616.40.\n"
     ]
    },
    {
     "name": "stdout",
     "output_type": "stream",
     "text": [
      "Step #618.60"
     ]
    },
    {
     "name": "stderr",
     "output_type": "stream",
     "text": [
      "Warning: Teleporting vehicle '1_right.1'; waited too long (yield), lane='1si_0', time=617.80.\n",
      "Warning: Vehicle '1_right.1' ends teleporting on edge '3o', time 617.80.\n",
      "Warning: Teleporting vehicle '2_left.1'; waited too long (yield), lane='2si_2', time=618.60.\n",
      "Warning: Vehicle '2_left.1' ends teleporting on edge '3o', time 618.60.\n"
     ]
    },
    {
     "name": "stdout",
     "output_type": "stream",
     "text": [
      "Step #619.20"
     ]
    },
    {
     "name": "stderr",
     "output_type": "stream",
     "text": [
      "Warning: Teleporting vehicle '1_left.1'; waited too long (yield), lane='1si_2', time=619.20.\n",
      "Warning: Vehicle '1_left.1' ends teleporting on edge '4o', time 619.20.\n",
      "Warning: Teleporting vehicle '2_horizontal.1'; waited too long (yield), lane='2si_1', time=620.60.\n",
      "Warning: Teleporting vehicle '1_horizontal.1'; waited too long (yield), lane='1si_1', time=620.60.\n",
      "Warning: Vehicle '1_horizontal.1' ends teleporting on edge '2o', time 620.60.\n",
      "Warning: Vehicle '2_horizontal.1' ends teleporting on edge '1o', time 620.60.\n"
     ]
    },
    {
     "name": "stdout",
     "output_type": "stream",
     "text": [
      "Step #637.00"
     ]
    },
    {
     "name": "stderr",
     "output_type": "stream",
     "text": [
      "Warning: Teleporting vehicle '4_vertical.0'; waited too long (yield), lane='4si_0', time=637.00.\n",
      "Warning: Vehicle '4_vertical.0' ends teleporting on edge '3o', time 637.00.\n"
     ]
    },
    {
     "name": "stdout",
     "output_type": "stream",
     "text": [
      "Step #638.60"
     ]
    },
    {
     "name": "stderr",
     "output_type": "stream",
     "text": [
      "Warning: Teleporting vehicle '3_vertical.0'; waited too long (yield), lane='3si_0', time=637.80.\n",
      "Warning: Vehicle '3_vertical.0' ends teleporting on edge '4o', time 637.80.\n",
      "Warning: Teleporting vehicle '3_left.1'; waited too long (yield), lane='3si_1', time=638.60.\n",
      "Warning: Vehicle '3_left.1' ends teleporting on edge '1o', time 638.60.\n"
     ]
    },
    {
     "name": "stdout",
     "output_type": "stream",
     "text": [
      "Step #639.00"
     ]
    },
    {
     "name": "stderr",
     "output_type": "stream",
     "text": [
      "Warning: Teleporting vehicle '4_left.1'; waited too long (yield), lane='4si_1', time=639.00.\n",
      "Warning: Vehicle '4_left.1' ends teleporting on edge '2o', time 639.00.\n"
     ]
    },
    {
     "name": "stdout",
     "output_type": "stream",
     "text": [
      "Step #810.00"
     ]
    },
    {
     "name": "stderr",
     "output_type": "stream",
     "text": [
      "Warning: Choosing new speed factor 1.24 for vehicle '1_horizontal0.38' to match departure speed.\n"
     ]
    },
    {
     "name": "stdout",
     "output_type": "stream",
     "text": [
      "Step #919.80"
     ]
    },
    {
     "name": "stderr",
     "output_type": "stream",
     "text": [
      "Warning: Teleporting vehicle '2_right.2'; waited too long (yield), lane='2si_0', time=919.80.\n",
      "Warning: Vehicle '2_right.2' ends teleporting on edge '4o', time 919.80.\n"
     ]
    },
    {
     "name": "stdout",
     "output_type": "stream",
     "text": [
      "Step #923.20"
     ]
    },
    {
     "name": "stderr",
     "output_type": "stream",
     "text": [
      "Warning: Teleporting vehicle '1_left.2'; waited too long (yield), lane='1si_2', time=922.40.\n",
      "Warning: Vehicle '1_left.2' ends teleporting on edge '4o', time 922.40.\n",
      "Warning: Teleporting vehicle '2_left0.0'; waited too long (yield), lane='2si_2', time=923.20.\n",
      "Warning: Teleporting vehicle '1_right.2'; waited too long (yield), lane='1si_0', time=923.20.\n",
      "Warning: Vehicle '1_right.2' ends teleporting on edge '3o', time 923.20.\n",
      "Warning: Vehicle '2_left0.0' ends teleporting on edge '3o', time 923.20.\n",
      "Warning: Teleporting vehicle '2_horizontal.2'; waited too long (yield), lane='2si_1', time=924.00.\n",
      "Warning: Teleporting vehicle '1_horizontal.2'; waited too long (yield), lane='1si_1', time=924.00.\n",
      "Warning: Vehicle '1_horizontal.2' ends teleporting on edge '2o', time 924.00.\n",
      "Warning: Vehicle '2_horizontal.2' ends teleporting on edge '1o', time 924.00.\n"
     ]
    },
    {
     "name": "stdout",
     "output_type": "stream",
     "text": [
      "Step #941.00"
     ]
    },
    {
     "name": "stderr",
     "output_type": "stream",
     "text": [
      "Warning: Teleporting vehicle '4_right.1'; waited too long (yield), lane='4si_0', time=940.40.\n",
      "Warning: Vehicle '4_right.1' ends teleporting on edge '1o', time 940.40.\n",
      "Warning: Teleporting vehicle '3_right.1'; waited too long (yield), lane='3si_0', time=941.00.\n",
      "Warning: Vehicle '3_right.1' ends teleporting on edge '2o', time 941.00.\n"
     ]
    },
    {
     "name": "stdout",
     "output_type": "stream",
     "text": [
      "Step #942.40"
     ]
    },
    {
     "name": "stderr",
     "output_type": "stream",
     "text": [
      "Warning: Teleporting vehicle '3_left.2'; waited too long (yield), lane='3si_1', time=942.00.\n",
      "Warning: Vehicle '3_left.2' ends teleporting on edge '1o', time 942.00.\n",
      "Warning: Teleporting vehicle '4_left.2'; waited too long (yield), lane='4si_1', time=942.40.\n",
      "Warning: Vehicle '4_left.2' ends teleporting on edge '2o', time 942.40.\n"
     ]
    },
    {
     "name": "stdout",
     "output_type": "stream",
     "text": [
      "Step #975.00"
     ]
    },
    {
     "name": "stderr",
     "output_type": "stream",
     "text": [
      "Warning: Choosing new speed factor 1.30 for vehicle '1_horizontal.65' to match departure speed.\n"
     ]
    },
    {
     "name": "stdout",
     "output_type": "stream",
     "text": [
      "Step #993.00 (Cumulative Reward: -11158.152753061462\n",
      " Retrying in 1 seconds\n",
      "Loading configuration ... done.\n"
     ]
    },
    {
     "name": "stderr",
     "output_type": "stream",
     "text": [
      "Warning: Missing yellow phase in tlLogic '0', program '0' for tl-index 3 when switching to phase 0\n",
      "Warning: Missing yellow phase in tlLogic '0', program '1' for tl-index 5 when switching to phase 0\n",
      "Warning: Missing yellow phase in tlLogic '0', program '2' for tl-index 0 when switching to phase 0\n",
      "Warning: Missing yellow phase in tlLogic '0', program '3' for tl-index 2 when switching to phase 0\n"
     ]
    },
    {
     "name": "stdout",
     "output_type": "stream",
     "text": [
      "Step #313.00"
     ]
    },
    {
     "name": "stderr",
     "output_type": "stream",
     "text": [
      "Warning: Teleporting vehicle '2_right.0'; waited too long (yield), lane='2si_0', time=313.00.\n",
      "Warning: Vehicle '2_right.0' ends teleporting on edge '4o', time 313.00.\n"
     ]
    },
    {
     "name": "stdout",
     "output_type": "stream",
     "text": [
      "Step #315.20"
     ]
    },
    {
     "name": "stderr",
     "output_type": "stream",
     "text": [
      "Warning: Teleporting vehicle '1_right.0'; waited too long (yield), lane='1si_0', time=314.60.\n",
      "Warning: Vehicle '1_right.0' ends teleporting on edge '3o', time 314.60.\n",
      "Warning: Teleporting vehicle '2_left.0'; waited too long (yield), lane='2si_2', time=315.20.\n",
      "Warning: Vehicle '2_left.0' ends teleporting on edge '3o', time 315.20.\n"
     ]
    },
    {
     "name": "stdout",
     "output_type": "stream",
     "text": [
      "Step #316.00"
     ]
    },
    {
     "name": "stderr",
     "output_type": "stream",
     "text": [
      "Warning: Teleporting vehicle '1_left.0'; waited too long (yield), lane='1si_2', time=316.00.\n",
      "Warning: Vehicle '1_left.0' ends teleporting on edge '4o', time 316.00.\n"
     ]
    },
    {
     "name": "stdout",
     "output_type": "stream",
     "text": [
      "Step #317.40"
     ]
    },
    {
     "name": "stderr",
     "output_type": "stream",
     "text": [
      "Warning: Teleporting vehicle '2_horizontal.0'; waited too long (yield), lane='2si_1', time=317.20.\n",
      "Warning: Vehicle '2_horizontal.0' ends teleporting on edge '1o', time 317.20.\n",
      "Warning: Teleporting vehicle '1_horizontal.0'; waited too long (yield), lane='1si_1', time=317.40.\n",
      "Warning: Vehicle '1_horizontal.0' ends teleporting on edge '2o', time 317.40.\n"
     ]
    },
    {
     "name": "stdout",
     "output_type": "stream",
     "text": [
      "Step #334.40"
     ]
    },
    {
     "name": "stderr",
     "output_type": "stream",
     "text": [
      "Warning: Teleporting vehicle '4_right.0'; waited too long (yield), lane='4si_0', time=333.60.\n",
      "Warning: Vehicle '4_right.0' ends teleporting on edge '1o', time 333.60.\n",
      "Warning: Teleporting vehicle '3_right.0'; waited too long (yield), lane='3si_0', time=334.40.\n",
      "Warning: Vehicle '3_right.0' ends teleporting on edge '2o', time 334.40.\n"
     ]
    },
    {
     "name": "stdout",
     "output_type": "stream",
     "text": [
      "Step #335.80"
     ]
    },
    {
     "name": "stderr",
     "output_type": "stream",
     "text": [
      "Warning: Teleporting vehicle '3_left.0'; waited too long (yield), lane='3si_1', time=335.40.\n",
      "Warning: Vehicle '3_left.0' ends teleporting on edge '1o', time 335.40.\n",
      "Warning: Teleporting vehicle '4_left.0'; waited too long (yield), lane='4si_1', time=335.80.\n",
      "Warning: Vehicle '4_left.0' ends teleporting on edge '2o', time 335.80.\n"
     ]
    },
    {
     "name": "stdout",
     "output_type": "stream",
     "text": [
      "Step #497.80 (0ms ?*RT. ?UPS, "
     ]
    },
    {
     "name": "stderr",
     "output_type": "stream",
     "text": [
      "Warning: Choosing new speed factor 1.23 for vehicle '3_vertical0.22' to match departure speed.\n"
     ]
    },
    {
     "name": "stdout",
     "output_type": "stream",
     "text": [
      "Step #616.40"
     ]
    },
    {
     "name": "stderr",
     "output_type": "stream",
     "text": [
      "Warning: Teleporting vehicle '2_right.1'; waited too long (yield), lane='2si_0', time=616.40.\n",
      "Warning: Vehicle '2_right.1' ends teleporting on edge '4o', time 616.40.\n"
     ]
    },
    {
     "name": "stdout",
     "output_type": "stream",
     "text": [
      "Step #617.80"
     ]
    },
    {
     "name": "stderr",
     "output_type": "stream",
     "text": [
      "Warning: Teleporting vehicle '1_right.1'; waited too long (yield), lane='1si_0', time=617.80.\n",
      "Warning: Vehicle '1_right.1' ends teleporting on edge '3o', time 617.80.\n"
     ]
    },
    {
     "name": "stdout",
     "output_type": "stream",
     "text": [
      "Step #619.20"
     ]
    },
    {
     "name": "stderr",
     "output_type": "stream",
     "text": [
      "Warning: Teleporting vehicle '2_left.1'; waited too long (yield), lane='2si_2', time=618.60.\n",
      "Warning: Vehicle '2_left.1' ends teleporting on edge '3o', time 618.60.\n",
      "Warning: Teleporting vehicle '1_left.1'; waited too long (yield), lane='1si_2', time=619.20.\n",
      "Warning: Vehicle '1_left.1' ends teleporting on edge '4o', time 619.20.\n",
      "Warning: Teleporting vehicle '2_horizontal.1'; waited too long (yield), lane='2si_1', time=620.60.\n",
      "Warning: Teleporting vehicle '1_horizontal.1'; waited too long (yield), lane='1si_1', time=620.60.\n",
      "Warning: Vehicle '1_horizontal.1' ends teleporting on edge '2o', time 620.60.\n",
      "Warning: Vehicle '2_horizontal.1' ends teleporting on edge '1o', time 620.60.\n"
     ]
    },
    {
     "name": "stdout",
     "output_type": "stream",
     "text": [
      "Step #637.00"
     ]
    },
    {
     "name": "stderr",
     "output_type": "stream",
     "text": [
      "Warning: Teleporting vehicle '4_vertical.0'; waited too long (yield), lane='4si_0', time=637.00.\n",
      "Warning: Vehicle '4_vertical.0' ends teleporting on edge '3o', time 637.00.\n"
     ]
    },
    {
     "name": "stdout",
     "output_type": "stream",
     "text": [
      "Step #638.60"
     ]
    },
    {
     "name": "stderr",
     "output_type": "stream",
     "text": [
      "Warning: Teleporting vehicle '3_vertical.0'; waited too long (yield), lane='3si_0', time=637.80.\n",
      "Warning: Vehicle '3_vertical.0' ends teleporting on edge '4o', time 637.80.\n",
      "Warning: Teleporting vehicle '3_left.1'; waited too long (yield), lane='3si_1', time=638.60.\n",
      "Warning: Vehicle '3_left.1' ends teleporting on edge '1o', time 638.60.\n",
      "Warning: Teleporting vehicle '4_left.1'; waited too long (yield), lane='4si_1', time=639.00.\n",
      "Warning: Vehicle '4_left.1' ends teleporting on edge '2o', time 639.00.\n"
     ]
    },
    {
     "name": "stdout",
     "output_type": "stream",
     "text": [
      "Step #810.00"
     ]
    },
    {
     "name": "stderr",
     "output_type": "stream",
     "text": [
      "Warning: Choosing new speed factor 1.24 for vehicle '1_horizontal0.38' to match departure speed.\n"
     ]
    },
    {
     "name": "stdout",
     "output_type": "stream",
     "text": [
      "Step #918.00 (0ms ?*RT. "
     ]
    },
    {
     "name": "stderr",
     "output_type": "stream",
     "text": [
      "Warning: Teleporting vehicle '2_right.2'; waited too long (yield), lane='2si_0', time=919.80.\n",
      "Warning: Vehicle '2_right.2' ends teleporting on edge '4o', time 919.80.\n"
     ]
    },
    {
     "name": "stdout",
     "output_type": "stream",
     "text": [
      "Step #922.40"
     ]
    },
    {
     "name": "stderr",
     "output_type": "stream",
     "text": [
      "Warning: Teleporting vehicle '1_left.2'; waited too long (yield), lane='1si_2', time=922.40.\n",
      "Warning: Vehicle '1_left.2' ends teleporting on edge '4o', time 922.40.\n"
     ]
    },
    {
     "name": "stdout",
     "output_type": "stream",
     "text": [
      "Step #924.00"
     ]
    },
    {
     "name": "stderr",
     "output_type": "stream",
     "text": [
      "Warning: Teleporting vehicle '2_left0.0'; waited too long (yield), lane='2si_2', time=923.20.\n",
      "Warning: Teleporting vehicle '1_right.2'; waited too long (yield), lane='1si_0', time=923.20.\n",
      "Warning: Vehicle '1_right.2' ends teleporting on edge '3o', time 923.20.\n",
      "Warning: Vehicle '2_left0.0' ends teleporting on edge '3o', time 923.20.\n",
      "Warning: Teleporting vehicle '2_horizontal.2'; waited too long (yield), lane='2si_1', time=924.00.\n",
      "Warning: Teleporting vehicle '1_horizontal.2'; waited too long (yield), lane='1si_1', time=924.00.\n",
      "Warning: Vehicle '1_horizontal.2' ends teleporting on edge '2o', time 924.00.\n",
      "Warning: Vehicle '2_horizontal.2' ends teleporting on edge '1o', time 924.00.\n"
     ]
    },
    {
     "name": "stdout",
     "output_type": "stream",
     "text": [
      "Step #933.00 "
     ]
    },
    {
     "name": "stderr",
     "output_type": "stream",
     "text": [
      "Warning: Teleporting vehicle '4_right.1'; waited too long (yield), lane='4si_0', time=940.40.\n",
      "Warning: Vehicle '4_right.1' ends teleporting on edge '1o', time 940.40.\n",
      "Warning: Teleporting vehicle '3_right.1'; waited too long (yield), lane='3si_0', time=941.00.\n",
      "Warning: Vehicle '3_right.1' ends teleporting on edge '2o', time 941.00.\n"
     ]
    },
    {
     "name": "stdout",
     "output_type": "stream",
     "text": [
      "Step #942.40"
     ]
    },
    {
     "name": "stderr",
     "output_type": "stream",
     "text": [
      "Warning: Teleporting vehicle '3_left.2'; waited too long (yield), lane='3si_1', time=942.00.\n",
      "Warning: Vehicle '3_left.2' ends teleporting on edge '1o', time 942.00.\n",
      "Warning: Teleporting vehicle '4_left.2'; waited too long (yield), lane='4si_1', time=942.40.\n",
      "Warning: Vehicle '4_left.2' ends teleporting on edge '2o', time 942.40.\n"
     ]
    },
    {
     "name": "stdout",
     "output_type": "stream",
     "text": [
      "Step #975.00"
     ]
    },
    {
     "name": "stderr",
     "output_type": "stream",
     "text": [
      "Warning: Choosing new speed factor 1.30 for vehicle '1_horizontal.65' to match departure speed.\n"
     ]
    },
    {
     "name": "stdout",
     "output_type": "stream",
     "text": [
      "Step #993.00 (Cumulative Reward: -11158.152753061462\n",
      " Retrying in 1 seconds\n",
      "Loading configuration ... done.\n"
     ]
    },
    {
     "name": "stderr",
     "output_type": "stream",
     "text": [
      "Warning: Missing yellow phase in tlLogic '0', program '0' for tl-index 3 when switching to phase 0\n",
      "Warning: Missing yellow phase in tlLogic '0', program '1' for tl-index 5 when switching to phase 0\n",
      "Warning: Missing yellow phase in tlLogic '0', program '2' for tl-index 0 when switching to phase 0\n",
      "Warning: Missing yellow phase in tlLogic '0', program '3' for tl-index 2 when switching to phase 0\n"
     ]
    },
    {
     "name": "stdout",
     "output_type": "stream",
     "text": [
      "Step #313.00"
     ]
    },
    {
     "name": "stderr",
     "output_type": "stream",
     "text": [
      "Warning: Teleporting vehicle '2_right.0'; waited too long (yield), lane='2si_0', time=313.00.\n",
      "Warning: Vehicle '2_right.0' ends teleporting on edge '4o', time 313.00.\n",
      "Warning: Teleporting vehicle '1_right.0'; waited too long (yield), lane='1si_0', time=314.60.\n",
      "Warning: Vehicle '1_right.0' ends teleporting on edge '3o', time 314.60.\n",
      "Warning: Teleporting vehicle '2_left.0'; waited too long (yield), lane='2si_2', time=315.20.\n",
      "Warning: Vehicle '2_left.0' ends teleporting on edge '3o', time 315.20.\n"
     ]
    },
    {
     "name": "stdout",
     "output_type": "stream",
     "text": [
      "Step #315.20"
     ]
    },
    {
     "name": "stderr",
     "output_type": "stream",
     "text": [
      "Warning: Teleporting vehicle '1_left.0'; waited too long (yield), lane='1si_2', time=316.00.\n",
      "Warning: Vehicle '1_left.0' ends teleporting on edge '4o', time 316.00.\n"
     ]
    },
    {
     "name": "stdout",
     "output_type": "stream",
     "text": [
      "Step #317.40"
     ]
    },
    {
     "name": "stderr",
     "output_type": "stream",
     "text": [
      "Warning: Teleporting vehicle '2_horizontal.0'; waited too long (yield), lane='2si_1', time=317.20.\n",
      "Warning: Vehicle '2_horizontal.0' ends teleporting on edge '1o', time 317.20.\n",
      "Warning: Teleporting vehicle '1_horizontal.0'; waited too long (yield), lane='1si_1', time=317.40.\n",
      "Warning: Vehicle '1_horizontal.0' ends teleporting on edge '2o', time 317.40.\n"
     ]
    },
    {
     "name": "stdout",
     "output_type": "stream",
     "text": [
      "Step #326.40 "
     ]
    },
    {
     "name": "stderr",
     "output_type": "stream",
     "text": [
      "Warning: Teleporting vehicle '4_right.0'; waited too long (yield), lane='4si_0', time=333.60.\n",
      "Warning: Vehicle '4_right.0' ends teleporting on edge '1o', time 333.60.\n",
      "Warning: Teleporting vehicle '3_right.0'; waited too long (yield), lane='3si_0', time=334.40.\n",
      "Warning: Vehicle '3_right.0' ends teleporting on edge '2o', time 334.40.\n"
     ]
    },
    {
     "name": "stdout",
     "output_type": "stream",
     "text": [
      "Step #335.80"
     ]
    },
    {
     "name": "stderr",
     "output_type": "stream",
     "text": [
      "Warning: Teleporting vehicle '3_left.0'; waited too long (yield), lane='3si_1', time=335.40.\n",
      "Warning: Vehicle '3_left.0' ends teleporting on edge '1o', time 335.40.\n",
      "Warning: Teleporting vehicle '4_left.0'; waited too long (yield), lane='4si_1', time=335.80.\n",
      "Warning: Vehicle '4_left.0' ends teleporting on edge '2o', time 335.80.\n"
     ]
    },
    {
     "name": "stdout",
     "output_type": "stream",
     "text": [
      "Step #497.80 (0ms ?*RT. ?UPS, "
     ]
    },
    {
     "name": "stderr",
     "output_type": "stream",
     "text": [
      "Warning: Choosing new speed factor 1.23 for vehicle '3_vertical0.22' to match departure speed.\n"
     ]
    },
    {
     "name": "stdout",
     "output_type": "stream",
     "text": [
      "Step #616.40"
     ]
    },
    {
     "name": "stderr",
     "output_type": "stream",
     "text": [
      "Warning: Teleporting vehicle '2_right.1'; waited too long (yield), lane='2si_0', time=616.40.\n",
      "Warning: Vehicle '2_right.1' ends teleporting on edge '4o', time 616.40.\n",
      "Warning: Teleporting vehicle '1_right.1'; waited too long (yield), lane='1si_0', time=617.80.\n",
      "Warning: Vehicle '1_right.1' ends teleporting on edge '3o', time 617.80.\n",
      "Warning: Teleporting vehicle '2_left.1'; waited too long (yield), lane='2si_2', time=618.60.\n",
      "Warning: Vehicle '2_left.1' ends teleporting on edge '3o', time 618.60.\n"
     ]
    },
    {
     "name": "stdout",
     "output_type": "stream",
     "text": [
      "Step #619.20"
     ]
    },
    {
     "name": "stderr",
     "output_type": "stream",
     "text": [
      "Warning: Teleporting vehicle '1_left.1'; waited too long (yield), lane='1si_2', time=619.20.\n",
      "Warning: Vehicle '1_left.1' ends teleporting on edge '4o', time 619.20.\n"
     ]
    },
    {
     "name": "stdout",
     "output_type": "stream",
     "text": [
      "Step #620.60"
     ]
    },
    {
     "name": "stderr",
     "output_type": "stream",
     "text": [
      "Warning: Teleporting vehicle '2_horizontal.1'; waited too long (yield), lane='2si_1', time=620.60.\n",
      "Warning: Teleporting vehicle '1_horizontal.1'; waited too long (yield), lane='1si_1', time=620.60.\n",
      "Warning: Vehicle '1_horizontal.1' ends teleporting on edge '2o', time 620.60.\n",
      "Warning: Vehicle '2_horizontal.1' ends teleporting on edge '1o', time 620.60.\n"
     ]
    },
    {
     "name": "stdout",
     "output_type": "stream",
     "text": [
      "Step #637.80"
     ]
    },
    {
     "name": "stderr",
     "output_type": "stream",
     "text": [
      "Warning: Teleporting vehicle '4_vertical.0'; waited too long (yield), lane='4si_0', time=637.00.\n",
      "Warning: Vehicle '4_vertical.0' ends teleporting on edge '3o', time 637.00.\n",
      "Warning: Teleporting vehicle '3_vertical.0'; waited too long (yield), lane='3si_0', time=637.80.\n",
      "Warning: Vehicle '3_vertical.0' ends teleporting on edge '4o', time 637.80.\n"
     ]
    },
    {
     "name": "stdout",
     "output_type": "stream",
     "text": [
      "Step #639.00"
     ]
    },
    {
     "name": "stderr",
     "output_type": "stream",
     "text": [
      "Warning: Teleporting vehicle '3_left.1'; waited too long (yield), lane='3si_1', time=638.60.\n",
      "Warning: Vehicle '3_left.1' ends teleporting on edge '1o', time 638.60.\n",
      "Warning: Teleporting vehicle '4_left.1'; waited too long (yield), lane='4si_1', time=639.00.\n",
      "Warning: Vehicle '4_left.1' ends teleporting on edge '2o', time 639.00.\n"
     ]
    },
    {
     "name": "stdout",
     "output_type": "stream",
     "text": [
      "Step #810.00"
     ]
    },
    {
     "name": "stderr",
     "output_type": "stream",
     "text": [
      "Warning: Choosing new speed factor 1.24 for vehicle '1_horizontal0.38' to match departure speed.\n"
     ]
    },
    {
     "name": "stdout",
     "output_type": "stream",
     "text": [
      "Step #919.80"
     ]
    },
    {
     "name": "stderr",
     "output_type": "stream",
     "text": [
      "Warning: Teleporting vehicle '2_right.2'; waited too long (yield), lane='2si_0', time=919.80.\n",
      "Warning: Vehicle '2_right.2' ends teleporting on edge '4o', time 919.80.\n",
      "Warning: Teleporting vehicle '1_left.2'; waited too long (yield), lane='1si_2', time=922.40.\n",
      "Warning: Vehicle '1_left.2' ends teleporting on edge '4o', time 922.40.\n",
      "Warning: Teleporting vehicle '2_left0.0'; waited too long (yield), lane='2si_2', time=923.20.\n",
      "Warning: Teleporting vehicle '1_right.2'; waited too long (yield), lane='1si_0', time=923.20.\n",
      "Warning: Vehicle '1_right.2' ends teleporting on edge '3o', time 923.20.\n",
      "Warning: Vehicle '2_left0.0' ends teleporting on edge '3o', time 923.20.\n"
     ]
    },
    {
     "name": "stdout",
     "output_type": "stream",
     "text": [
      "Step #924.00"
     ]
    },
    {
     "name": "stderr",
     "output_type": "stream",
     "text": [
      "Warning: Teleporting vehicle '2_horizontal.2'; waited too long (yield), lane='2si_1', time=924.00.\n",
      "Warning: Teleporting vehicle '1_horizontal.2'; waited too long (yield), lane='1si_1', time=924.00.\n",
      "Warning: Vehicle '1_horizontal.2' ends teleporting on edge '2o', time 924.00.\n",
      "Warning: Vehicle '2_horizontal.2' ends teleporting on edge '1o', time 924.00.\n"
     ]
    },
    {
     "name": "stdout",
     "output_type": "stream",
     "text": [
      "Step #941.00"
     ]
    },
    {
     "name": "stderr",
     "output_type": "stream",
     "text": [
      "Warning: Teleporting vehicle '4_right.1'; waited too long (yield), lane='4si_0', time=940.40.\n",
      "Warning: Vehicle '4_right.1' ends teleporting on edge '1o', time 940.40.\n",
      "Warning: Teleporting vehicle '3_right.1'; waited too long (yield), lane='3si_0', time=941.00.\n",
      "Warning: Vehicle '3_right.1' ends teleporting on edge '2o', time 941.00.\n",
      "Warning: Teleporting vehicle '3_left.2'; waited too long (yield), lane='3si_1', time=942.00.\n",
      "Warning: Vehicle '3_left.2' ends teleporting on edge '1o', time 942.00.\n",
      "Warning: Teleporting vehicle '4_left.2'; waited too long (yield), lane='4si_1', time=942.40.\n",
      "Warning: Vehicle '4_left.2' ends teleporting on edge '2o', time 942.40.\n"
     ]
    },
    {
     "name": "stdout",
     "output_type": "stream",
     "text": [
      "Step #969.40 (0"
     ]
    },
    {
     "name": "stderr",
     "output_type": "stream",
     "text": [
      "Warning: Choosing new speed factor 1.30 for vehicle '1_horizontal.65' to match departure speed.\n"
     ]
    },
    {
     "name": "stdout",
     "output_type": "stream",
     "text": [
      "Step #993.00 (Cumulative Reward: -11158.152753061462\n",
      " Retrying in 1 seconds\n",
      "Loading configuration ... done.\n"
     ]
    },
    {
     "name": "stderr",
     "output_type": "stream",
     "text": [
      "Warning: Missing yellow phase in tlLogic '0', program '0' for tl-index 3 when switching to phase 0\n",
      "Warning: Missing yellow phase in tlLogic '0', program '1' for tl-index 5 when switching to phase 0\n",
      "Warning: Missing yellow phase in tlLogic '0', program '2' for tl-index 0 when switching to phase 0\n",
      "Warning: Missing yellow phase in tlLogic '0', program '3' for tl-index 2 when switching to phase 0\n"
     ]
    },
    {
     "name": "stdout",
     "output_type": "stream",
     "text": [
      "Step #313.00"
     ]
    },
    {
     "name": "stderr",
     "output_type": "stream",
     "text": [
      "Warning: Teleporting vehicle '2_right.0'; waited too long (yield), lane='2si_0', time=313.00.\n",
      "Warning: Vehicle '2_right.0' ends teleporting on edge '4o', time 313.00.\n"
     ]
    },
    {
     "name": "stdout",
     "output_type": "stream",
     "text": [
      "Step #315.20"
     ]
    },
    {
     "name": "stderr",
     "output_type": "stream",
     "text": [
      "Warning: Teleporting vehicle '1_right.0'; waited too long (yield), lane='1si_0', time=314.60.\n",
      "Warning: Vehicle '1_right.0' ends teleporting on edge '3o', time 314.60.\n",
      "Warning: Teleporting vehicle '2_left.0'; waited too long (yield), lane='2si_2', time=315.20.\n",
      "Warning: Vehicle '2_left.0' ends teleporting on edge '3o', time 315.20.\n",
      "Warning: Teleporting vehicle '1_left.0'; waited too long (yield), lane='1si_2', time=316.00.\n",
      "Warning: Vehicle '1_left.0' ends teleporting on edge '4o', time 316.00.\n"
     ]
    },
    {
     "name": "stdout",
     "output_type": "stream",
     "text": [
      "Step #317.40"
     ]
    },
    {
     "name": "stderr",
     "output_type": "stream",
     "text": [
      "Warning: Teleporting vehicle '2_horizontal.0'; waited too long (yield), lane='2si_1', time=317.20.\n",
      "Warning: Vehicle '2_horizontal.0' ends teleporting on edge '1o', time 317.20.\n",
      "Warning: Teleporting vehicle '1_horizontal.0'; waited too long (yield), lane='1si_1', time=317.40.\n",
      "Warning: Vehicle '1_horizontal.0' ends teleporting on edge '2o', time 317.40.\n"
     ]
    },
    {
     "name": "stdout",
     "output_type": "stream",
     "text": [
      "Step #326.40 "
     ]
    },
    {
     "name": "stderr",
     "output_type": "stream",
     "text": [
      "Warning: Teleporting vehicle '4_right.0'; waited too long (yield), lane='4si_0', time=333.60.\n",
      "Warning: Vehicle '4_right.0' ends teleporting on edge '1o', time 333.60.\n",
      "Warning: Teleporting vehicle '3_right.0'; waited too long (yield), lane='3si_0', time=334.40.\n",
      "Warning: Vehicle '3_right.0' ends teleporting on edge '2o', time 334.40.\n"
     ]
    },
    {
     "name": "stdout",
     "output_type": "stream",
     "text": [
      "Step #334.40"
     ]
    },
    {
     "name": "stderr",
     "output_type": "stream",
     "text": [
      "Warning: Teleporting vehicle '3_left.0'; waited too long (yield), lane='3si_1', time=335.40.\n",
      "Warning: Vehicle '3_left.0' ends teleporting on edge '1o', time 335.40.\n",
      "Warning: Teleporting vehicle '4_left.0'; waited too long (yield), lane='4si_1', time=335.80.\n",
      "Warning: Vehicle '4_left.0' ends teleporting on edge '2o', time 335.80.\n"
     ]
    },
    {
     "name": "stdout",
     "output_type": "stream",
     "text": [
      "Step #500.00"
     ]
    },
    {
     "name": "stderr",
     "output_type": "stream",
     "text": [
      "Warning: Choosing new speed factor 1.23 for vehicle '3_vertical0.22' to match departure speed.\n"
     ]
    },
    {
     "name": "stdout",
     "output_type": "stream",
     "text": [
      "Step #616.40"
     ]
    },
    {
     "name": "stderr",
     "output_type": "stream",
     "text": [
      "Warning: Teleporting vehicle '2_right.1'; waited too long (yield), lane='2si_0', time=616.40.\n",
      "Warning: Vehicle '2_right.1' ends teleporting on edge '4o', time 616.40.\n"
     ]
    },
    {
     "name": "stdout",
     "output_type": "stream",
     "text": [
      "Step #618.60"
     ]
    },
    {
     "name": "stderr",
     "output_type": "stream",
     "text": [
      "Warning: Teleporting vehicle '1_right.1'; waited too long (yield), lane='1si_0', time=617.80.\n",
      "Warning: Vehicle '1_right.1' ends teleporting on edge '3o', time 617.80.\n",
      "Warning: Teleporting vehicle '2_left.1'; waited too long (yield), lane='2si_2', time=618.60.\n",
      "Warning: Vehicle '2_left.1' ends teleporting on edge '3o', time 618.60.\n"
     ]
    },
    {
     "name": "stdout",
     "output_type": "stream",
     "text": [
      "Step #619.20"
     ]
    },
    {
     "name": "stderr",
     "output_type": "stream",
     "text": [
      "Warning: Teleporting vehicle '1_left.1'; waited too long (yield), lane='1si_2', time=619.20.\n",
      "Warning: Vehicle '1_left.1' ends teleporting on edge '4o', time 619.20.\n"
     ]
    },
    {
     "name": "stdout",
     "output_type": "stream",
     "text": [
      "Step #620.60"
     ]
    },
    {
     "name": "stderr",
     "output_type": "stream",
     "text": [
      "Warning: Teleporting vehicle '2_horizontal.1'; waited too long (yield), lane='2si_1', time=620.60.\n",
      "Warning: Teleporting vehicle '1_horizontal.1'; waited too long (yield), lane='1si_1', time=620.60.\n",
      "Warning: Vehicle '1_horizontal.1' ends teleporting on edge '2o', time 620.60.\n",
      "Warning: Vehicle '2_horizontal.1' ends teleporting on edge '1o', time 620.60.\n"
     ]
    },
    {
     "name": "stdout",
     "output_type": "stream",
     "text": [
      "Step #637.80"
     ]
    },
    {
     "name": "stderr",
     "output_type": "stream",
     "text": [
      "Warning: Teleporting vehicle '4_vertical.0'; waited too long (yield), lane='4si_0', time=637.00.\n",
      "Warning: Vehicle '4_vertical.0' ends teleporting on edge '3o', time 637.00.\n",
      "Warning: Teleporting vehicle '3_vertical.0'; waited too long (yield), lane='3si_0', time=637.80.\n",
      "Warning: Vehicle '3_vertical.0' ends teleporting on edge '4o', time 637.80.\n"
     ]
    },
    {
     "name": "stdout",
     "output_type": "stream",
     "text": [
      "Step #639.00"
     ]
    },
    {
     "name": "stderr",
     "output_type": "stream",
     "text": [
      "Warning: Teleporting vehicle '3_left.1'; waited too long (yield), lane='3si_1', time=638.60.\n",
      "Warning: Vehicle '3_left.1' ends teleporting on edge '1o', time 638.60.\n",
      "Warning: Teleporting vehicle '4_left.1'; waited too long (yield), lane='4si_1', time=639.00.\n",
      "Warning: Vehicle '4_left.1' ends teleporting on edge '2o', time 639.00.\n"
     ]
    },
    {
     "name": "stdout",
     "output_type": "stream",
     "text": [
      "Step #810.00"
     ]
    },
    {
     "name": "stderr",
     "output_type": "stream",
     "text": [
      "Warning: Choosing new speed factor 1.24 for vehicle '1_horizontal0.38' to match departure speed.\n"
     ]
    },
    {
     "name": "stdout",
     "output_type": "stream",
     "text": [
      "Step #919.80"
     ]
    },
    {
     "name": "stderr",
     "output_type": "stream",
     "text": [
      "Warning: Teleporting vehicle '2_right.2'; waited too long (yield), lane='2si_0', time=919.80.\n",
      "Warning: Vehicle '2_right.2' ends teleporting on edge '4o', time 919.80.\n",
      "Warning: Teleporting vehicle '1_left.2'; waited too long (yield), lane='1si_2', time=922.40.\n",
      "Warning: Vehicle '1_left.2' ends teleporting on edge '4o', time 922.40.\n",
      "Warning: Teleporting vehicle '2_left0.0'; waited too long (yield), lane='2si_2', time=923.20.\n",
      "Warning: Teleporting vehicle '1_right.2'; waited too long (yield), lane='1si_0', time=923.20.\n",
      "Warning: Vehicle '1_right.2' ends teleporting on edge '3o', time 923.20.\n",
      "Warning: Vehicle '2_left0.0' ends teleporting on edge '3o', time 923.20.\n"
     ]
    },
    {
     "name": "stdout",
     "output_type": "stream",
     "text": [
      "Step #924.00"
     ]
    },
    {
     "name": "stderr",
     "output_type": "stream",
     "text": [
      "Warning: Teleporting vehicle '2_horizontal.2'; waited too long (yield), lane='2si_1', time=924.00.\n",
      "Warning: Teleporting vehicle '1_horizontal.2'; waited too long (yield), lane='1si_1', time=924.00.\n",
      "Warning: Vehicle '1_horizontal.2' ends teleporting on edge '2o', time 924.00.\n",
      "Warning: Vehicle '2_horizontal.2' ends teleporting on edge '1o', time 924.00.\n"
     ]
    },
    {
     "name": "stdout",
     "output_type": "stream",
     "text": [
      "Step #941.00"
     ]
    },
    {
     "name": "stderr",
     "output_type": "stream",
     "text": [
      "Warning: Teleporting vehicle '4_right.1'; waited too long (yield), lane='4si_0', time=940.40.\n",
      "Warning: Vehicle '4_right.1' ends teleporting on edge '1o', time 940.40.\n",
      "Warning: Teleporting vehicle '3_right.1'; waited too long (yield), lane='3si_0', time=941.00.\n",
      "Warning: Vehicle '3_right.1' ends teleporting on edge '2o', time 941.00.\n"
     ]
    },
    {
     "name": "stdout",
     "output_type": "stream",
     "text": [
      "Step #942.40"
     ]
    },
    {
     "name": "stderr",
     "output_type": "stream",
     "text": [
      "Warning: Teleporting vehicle '3_left.2'; waited too long (yield), lane='3si_1', time=942.00.\n",
      "Warning: Vehicle '3_left.2' ends teleporting on edge '1o', time 942.00.\n",
      "Warning: Teleporting vehicle '4_left.2'; waited too long (yield), lane='4si_1', time=942.40.\n",
      "Warning: Vehicle '4_left.2' ends teleporting on edge '2o', time 942.40.\n"
     ]
    },
    {
     "name": "stdout",
     "output_type": "stream",
     "text": [
      "Step #969.40 (1"
     ]
    },
    {
     "name": "stderr",
     "output_type": "stream",
     "text": [
      "Warning: Choosing new speed factor 1.30 for vehicle '1_horizontal.65' to match departure speed.\n"
     ]
    },
    {
     "name": "stdout",
     "output_type": "stream",
     "text": [
      "Step #993.00 (Cumulative Reward: -11158.152753061462\n",
      "Step #1000.00 (1ms ~= 200.00*RT, ~83000.00UPS, TraCI: 45ms, vehicles TOT 113 ACT 83 BUF 446\r"
     ]
    }
   ],
   "source": [
    "# Load the pre-trained DDPG model\n",
    "ddpg_model = DDPG.load(\"DDPGModel\")\n",
    "\n",
    "env = SingleRoadIntersectionEnv()\n",
    "\n",
    "num_eval_episodes = 5\n",
    "eval_data = []\n",
    "\n",
    "for episode in range(num_eval_episodes):\n",
    "    eval_data.append([])\n",
    "    state, info = env.reset()  # Reset the environment\n",
    "    \n",
    "    done = False\n",
    "    while not done:\n",
    "        # Predict the action using the DDPG model\n",
    "        action, _ = ddpg_model.predict(state, deterministic=True)  # Use deterministic for inference\n",
    "        \n",
    "        # Perform the action and get the new state\n",
    "        next_state, reward, done, _, info = env.step(action) #obs, reward, terminated, truncated, info\n",
    "        state = next_state\n",
    "        \n",
    "        reward_factors = env.reward_factors\n",
    "        eval_data[-1].append((reward, reward_factors))\n",
    "           \n",
    "# Close the environment\n",
    "env.close()"
   ]
  },
  {
   "cell_type": "markdown",
   "id": "c62128d0",
   "metadata": {
    "papermill": {
     "duration": 0.542193,
     "end_time": "2024-05-01T17:14:06.824002",
     "exception": false,
     "start_time": "2024-05-01T17:14:06.281809",
     "status": "completed"
    },
    "tags": []
   },
   "source": [
    "### Visualising the evaluation data obtained "
   ]
  },
  {
   "cell_type": "code",
   "execution_count": 10,
   "id": "941a2fa5",
   "metadata": {
    "execution": {
     "iopub.execute_input": "2024-05-01T17:14:07.909362Z",
     "iopub.status.busy": "2024-05-01T17:14:07.908848Z",
     "iopub.status.idle": "2024-05-01T17:14:10.168321Z",
     "shell.execute_reply": "2024-05-01T17:14:10.167172Z"
    },
    "papermill": {
     "duration": 2.803013,
     "end_time": "2024-05-01T17:14:10.170648",
     "exception": false,
     "start_time": "2024-05-01T17:14:07.367635",
     "status": "completed"
    },
    "tags": []
   },
   "outputs": [
    {
     "data": {
      "image/png": "[encoded data removed]",
      "text/plain": [
       "<Figure size 1000x600 with 1 Axes>"
      ]
     },
     "metadata": {},
     "output_type": "display_data"
    },
    {
     "data": {
      "image/png": "[encoded data removed]",
      "text/plain": [
       "<Figure size 1000x600 with 1 Axes>"
      ]
     },
     "metadata": {},
     "output_type": "display_data"
    },
    {
     "data": {
      "image/png": "[encoded data removed]",
      "text/plain": [
       "<Figure size 1000x600 with 1 Axes>"
      ]
     },
     "metadata": {},
     "output_type": "display_data"
    },
    {
     "data": {
      "image/png": "[encoded data removed]",
      "text/plain": [
       "<Figure size 1000x600 with 1 Axes>"
      ]
     },
     "metadata": {},
     "output_type": "display_data"
    },
    {
     "data": {
      "image/png": "[encoded data removed]",
      "text/plain": [
       "<Figure size 1000x600 with 1 Axes>"
      ]
     },
     "metadata": {},
     "output_type": "display_data"
    },
    {
     "data": {
      "image/png": "[encoded data removed]",
      "text/plain": [
       "<Figure size 1000x600 with 1 Axes>"
      ]
     },
     "metadata": {},
     "output_type": "display_data"
    },
    {
     "data": {
      "image/png": "[encoded data removed]",
      "text/plain": [
       "<Figure size 1000x600 with 1 Axes>"
      ]
     },
     "metadata": {},
     "output_type": "display_data"
    },
    {
     "data": {
      "image/png": "[encoded data removed]",
      "text/plain": [
       "<Figure size 1000x600 with 1 Axes>"
      ]
     },
     "metadata": {},
     "output_type": "display_data"
    },
    {
     "data": {
      "image/png": "[encoded data removed]",
      "text/plain": [
       "<Figure size 1000x600 with 1 Axes>"
      ]
     },
     "metadata": {},
     "output_type": "display_data"
    },
    {
     "data": {
      "image/png": "[encoded data removed]",
      "text/plain": [
       "<Figure size 1000x600 with 1 Axes>"
      ]
     },
     "metadata": {},
     "output_type": "display_data"
    }
   ],
   "source": [
    "# Reward factor naming dictionary\n",
    "naming_dict = {\n",
    "    \"queue_length\": \"Sum of queue lengths of lanes (number)\",\n",
    "    \"avg_waiting_time\": \"Sum of average waiting times of lanes (s)\",\n",
    "    \"phase_change\": \"Occurrence of phase change (flag)\",\n",
    "    \"total_delay\": \"Sum of delay for all vehicles (sum of fractions)\",\n",
    "    \"vehicles_passed\": \"Number of vehicles which exited (number)\",\n",
    "    \"total_emissions\": \"Combined CO2 and CO emission rate for all vehicles (g/s)\",\n",
    "    \"sudden_phase_change\": \"Occurrence of a sudden phase change (flag)\",\n",
    "    \"num_collided_vehicles\": \"Number of vehicles involved in a collision (number)\",\n",
    "    \"average_travel_time\": \"Average time taken by a car to exit since last action (s)\"\n",
    "}\n",
    "\n",
    "# Number of steps for each episode\n",
    "num_steps = len(eval_data[0])\n",
    "\n",
    "# Initialize lists to store summed values for each step\n",
    "reward_sums = []\n",
    "reward_factor_sums = {\n",
    "    \"queue_length\": [],\n",
    "    \"avg_waiting_time\": [],\n",
    "    \"phase_change\": [],\n",
    "    \"total_delay\": [],\n",
    "    \"vehicles_passed\": [],\n",
    "    \"total_emissions\": [],\n",
    "    \"sudden_phase_change\": [],\n",
    "    \"num_collided_vehicles\": [],\n",
    "    \"average_travel_time\": []\n",
    "}\n",
    "for i in range(num_steps):\n",
    "    reward_sums.append(0)\n",
    "    for key in reward_factor_sums:\n",
    "        reward_factor_sums[key].append(0)\n",
    "\n",
    "# Accumulate rewards and reward factors for each step across all episodes\n",
    "for episode in eval_data:\n",
    "    for step_index, (reward, reward_factors) in enumerate(episode):\n",
    "        reward_sums[step_index] += reward\n",
    "        \n",
    "        for key in reward_factor_sums:\n",
    "            reward_factor_sums[key][step_index] += reward_factors[key]\n",
    "\n",
    "# Number of episodes\n",
    "num_episodes = len(eval_data)\n",
    "\n",
    "# Calculate the average for each step\n",
    "average_rewards = [reward_sums[i] / num_episodes for i in range(num_steps)]\n",
    "\n",
    "average_reward_factors = {\n",
    "    key: [reward_factor_sums[key][i] / num_episodes for i in range(num_steps)]\n",
    "    for key in reward_factor_sums\n",
    "}\n",
    "\n",
    "# Plotting\n",
    "steps = np.arange(num_steps)  # X-axis for plotting\n",
    "\n",
    "line_thickness = 1\n",
    "\n",
    "# Plot average reward\n",
    "plt.figure(figsize=(10, 6))\n",
    "plt.plot(steps, average_rewards, linestyle='-', linewidth=line_thickness)\n",
    "plt.xlabel(\"Episode Step\")\n",
    "plt.ylabel(\"Reward\")\n",
    "plt.grid(True)\n",
    "plt.show()\n",
    "\n",
    "# Plot reward factors\n",
    "for key, values in average_reward_factors.items():\n",
    "    plt.figure(figsize=(10, 6))\n",
    "    plt.plot(steps, values, linestyle='-', linewidth=line_thickness)\n",
    "    plt.xlabel(\"Episode Step\")\n",
    "    plt.ylabel(naming_dict[key])\n",
    "    plt.grid(True)\n",
    "    plt.show()"
   ]
  },
  {
   "cell_type": "code",
   "execution_count": 11,
   "id": "6127fec7",
   "metadata": {
    "execution": {
     "iopub.execute_input": "2024-05-01T17:14:11.384637Z",
     "iopub.status.busy": "2024-05-01T17:14:11.384055Z",
     "iopub.status.idle": "2024-05-01T17:14:11.403596Z",
     "shell.execute_reply": "2024-05-01T17:14:11.402640Z"
    },
    "papermill": {
     "duration": 0.567119,
     "end_time": "2024-05-01T17:14:11.406243",
     "exception": false,
     "start_time": "2024-05-01T17:14:10.839124",
     "status": "completed"
    },
    "tags": []
   },
   "outputs": [
    {
     "name": "stdout",
     "output_type": "stream",
     "text": [
      "Reward - Min: -5.4524052\n",
      "Reward - Max: -0.00044411250704520604\n",
      "Reward - Mean: -2.2316305506122935\n",
      "Reward - Cumulative: -11158.152753061462\n",
      "\n",
      "Sum of queue lengths of lanes (number) - Min: 0.0\n",
      "Sum of queue lengths of lanes (number) - Max: 101.0\n",
      "Sum of queue lengths of lanes (number) - Mean: 78.9656\n",
      "Sum of queue lengths of lanes (number) - Cumulative: 394828.0\n",
      "\n",
      "Sum of average waiting times of lanes (s) - Min: 0.0\n",
      "Sum of average waiting times of lanes (s) - Max: 26267.6\n",
      "Sum of average waiting times of lanes (s) - Mean: 10326.99868\n",
      "Sum of average waiting times of lanes (s) - Cumulative: 51634993.40000001\n",
      "\n",
      "Occurrence of phase change (flag) - Min: 0.0\n",
      "Occurrence of phase change (flag) - Max: 0.0\n",
      "Occurrence of phase change (flag) - Mean: 0.0\n",
      "Occurrence of phase change (flag) - Cumulative: 0.0\n",
      "\n",
      "Sum of delay for all vehicles (sum of fractions) - Min: 0.030940502448194684\n",
      "Sum of delay for all vehicles (sum of fractions) - Max: 101.0\n",
      "Sum of delay for all vehicles (sum of fractions) - Mean: 81.89488004674821\n",
      "Sum of delay for all vehicles (sum of fractions) - Cumulative: 409474.40023374115\n",
      "\n",
      "Number of vehicles which exited (number) - Min: 0.0\n",
      "Number of vehicles which exited (number) - Max: 2.0\n",
      "Number of vehicles which exited (number) - Mean: 0.006\n",
      "Number of vehicles which exited (number) - Cumulative: 30.0\n",
      "\n",
      "Combined CO2 and CO emission rate for all vehicles (g/s) - Min: 0.0\n",
      "Combined CO2 and CO emission rate for all vehicles (g/s) - Max: 293.7505831825201\n",
      "Combined CO2 and CO emission rate for all vehicles (g/s) - Mean: 216.06827649567202\n",
      "Combined CO2 and CO emission rate for all vehicles (g/s) - Cumulative: 1080341.382478376\n",
      "\n",
      "Occurrence of a sudden phase change (flag) - Min: 0.0\n",
      "Occurrence of a sudden phase change (flag) - Max: 0.0\n",
      "Occurrence of a sudden phase change (flag) - Mean: 0.0\n",
      "Occurrence of a sudden phase change (flag) - Cumulative: 0.0\n",
      "\n",
      "Number of vehicles involved in a collision (number) - Min: 0.0\n",
      "Number of vehicles involved in a collision (number) - Max: 0.0\n",
      "Number of vehicles involved in a collision (number) - Mean: 0.0\n",
      "Number of vehicles involved in a collision (number) - Cumulative: 0.0\n",
      "\n",
      "Average time taken by a car to exit since last action (s) - Min: 0.0\n",
      "Average time taken by a car to exit since last action (s) - Max: 0.20000000000004547\n",
      "Average time taken by a car to exit since last action (s) - Mean: 0.001119999999999982\n",
      "Average time taken by a car to exit since last action (s) - Cumulative: 5.599999999999909\n",
      "\n"
     ]
    }
   ],
   "source": [
    "# Function to compute min, max, mean and sum\n",
    "def compute_stats(values):\n",
    "    min_value = min(values)\n",
    "    max_value = max(values)\n",
    "    mean_value = np.mean(values)\n",
    "    cumulative_value = sum(values)\n",
    "    return min_value, max_value, mean_value, cumulative_value\n",
    "\n",
    "# Compute and print the stats for average rewards\n",
    "reward_min, reward_max, reward_mean, reward_cumulative = compute_stats(average_rewards)\n",
    "print(\"Reward - Min:\", reward_min)\n",
    "print(\"Reward - Max:\", reward_max)\n",
    "print(\"Reward - Mean:\", reward_mean)\n",
    "print(\"Reward - Cumulative:\", reward_cumulative)\n",
    "print(\"\")\n",
    "\n",
    "# Compute and print the stats for each reward factor\n",
    "for key, values in average_reward_factors.items():\n",
    "    factor_min, factor_max, factor_mean, factor_cumulative = compute_stats(values)\n",
    "    print(f\"{naming_dict[key]} - Min:\", factor_min)\n",
    "    print(f\"{naming_dict[key]} - Max:\", factor_max)\n",
    "    print(f\"{naming_dict[key]} - Mean:\", factor_mean)\n",
    "    print(f\"{naming_dict[key]} - Cumulative:\", factor_cumulative)\n",
    "    print(\"\")"
   ]
  }
 ],
 "metadata": {
  "kaggle": {
   "accelerator": "gpu",
   "dataSources": [],
   "dockerImageVersionId": 30699,
   "isGpuEnabled": true,
   "isInternetEnabled": true,
   "language": "python",
   "sourceType": "notebook"
  },
  "kernelspec": {
   "display_name": "Python 3",
   "language": "python",
   "name": "python3"
  },
  "language_info": {
   "codemirror_mode": {
    "name": "ipython",
    "version": 3
   },
   "file_extension": ".py",
   "mimetype": "text/x-python",
   "name": "python",
   "nbconvert_exporter": "python",
   "pygments_lexer": "ipython3",
   "version": "3.10.13"
  },
  "papermill": {
   "default_parameters": {},
   "duration": 17563.102075,
   "end_time": "2024-05-01T17:14:15.070012",
   "environment_variables": {},
   "exception": null,
   "input_path": "__notebook__.ipynb",
   "output_path": "__notebook__.ipynb",
   "parameters": {},
   "start_time": "2024-05-01T12:21:31.967937",
   "version": "2.5.0"
  }
 },
 "nbformat": 4,
 "nbformat_minor": 5
}
