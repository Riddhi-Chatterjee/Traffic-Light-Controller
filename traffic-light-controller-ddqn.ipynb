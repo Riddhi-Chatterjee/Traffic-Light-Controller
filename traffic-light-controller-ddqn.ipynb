{
 "cells": [
  {
   "cell_type": "markdown",
   "id": "6e2f2ab9",
   "metadata": {
    "papermill": {
     "duration": 0.006841,
     "end_time": "2024-05-01T12:20:38.705805",
     "exception": false,
     "start_time": "2024-05-01T12:20:38.698964",
     "status": "completed"
    },
    "tags": []
   },
   "source": [
    "# Traffic Light Controller for a Single 4-Way Road Intersection using Double Deep Q-Network"
   ]
  },
  {
   "cell_type": "markdown",
   "id": "2c483d7a",
   "metadata": {
    "papermill": {
     "duration": 0.005669,
     "end_time": "2024-05-01T12:20:38.717669",
     "exception": false,
     "start_time": "2024-05-01T12:20:38.712000",
     "status": "completed"
    },
    "tags": []
   },
   "source": [
    "## Installations"
   ]
  },
  {
   "cell_type": "markdown",
   "id": "dbcaceef",
   "metadata": {
    "papermill": {
     "duration": 0.005532,
     "end_time": "2024-05-01T12:20:38.729081",
     "exception": false,
     "start_time": "2024-05-01T12:20:38.723549",
     "status": "completed"
    },
    "tags": []
   },
   "source": [
    "We use SUMO (Simulation of Urban MObility) for simulating the traffic environment"
   ]
  },
  {
   "cell_type": "code",
   "execution_count": 1,
   "id": "722b8931",
   "metadata": {
    "_cell_guid": "b1076dfc-b9ad-4769-8c92-a6c4dae69d19",
    "_uuid": "8f2839f25d086af736a60e9eeb907d3b93b6e0e5",
    "execution": {
     "iopub.execute_input": "2024-05-01T12:20:38.742524Z",
     "iopub.status.busy": "2024-05-01T12:20:38.742161Z",
     "iopub.status.idle": "2024-05-01T12:21:54.185949Z",
     "shell.execute_reply": "2024-05-01T12:21:54.184764Z"
    },
    "papermill": {
     "duration": 75.453676,
     "end_time": "2024-05-01T12:21:54.188611",
     "exception": false,
     "start_time": "2024-05-01T12:20:38.734935",
     "status": "completed"
    },
    "tags": []
   },
   "outputs": [
    {
     "name": "stdout",
     "output_type": "stream",
     "text": [
      "\r\n",
      "\r\n",
      "\r\n",
      "The following additional packages will be installed:\r\n",
      "  binfmt-support fastjar fonts-roboto-unhinted gdal-data jarwrapper\r\n",
      "  javascript-common libarmadillo9 libarpack2 libcfitsio8 libcharls2 libdap25\r\n",
      "  libdapclient6v5 libepsilon1 libfox-1.6-0 libfreexl1 libfyba0 libgdal26\r\n",
      "  libgeos-3.8.0 libgeos-c1v5 libgeotiff5 libglu1-mesa libhdf4-0-alt\r\n",
      "  libjs-jquery libjs-openlayers libjs-underscore libkmlbase1 libkmldom1\r\n",
      "  libkmlengine1 libminizip1 libmysqlclient21 libnetcdf15 libodbc1 libogdi4.1\r\n",
      "  libpoppler97 libpq5 libproj15 libqhull7 libspatialite7 libsuperlu5\r\n",
      "  liburiparser1 libxerces-c3.2 mysql-common odbcinst odbcinst1debian2\r\n",
      "  poppler-data proj-bin proj-data\r\n",
      "Suggested packages:\r\n",
      "  apache2 | lighttpd | httpd geotiff-bin gdal-bin libgeotiff-epsg libhdf4-doc\r\n",
      "  libhdf4-alt-dev hdf4-tools libmyodbc odbc-postgresql tdsodbc unixodbc-bin\r\n",
      "  ogdi-bin poppler-utils ghostscript fonts-japanese-mincho\r\n",
      "  | fonts-ipafont-mincho fonts-japanese-gothic | fonts-ipafont-gothic\r\n",
      "  fonts-arphic-ukai fonts-arphic-uming fonts-nanum\r\n",
      "The following NEW packages will be installed:\r\n",
      "  binfmt-support fastjar fonts-roboto-unhinted gdal-data jarwrapper\r\n",
      "  javascript-common libarmadillo9 libarpack2 libcfitsio8 libcharls2 libdap25\r\n",
      "  libdapclient6v5 libepsilon1 libfox-1.6-0 libfreexl1 libfyba0 libgdal26\r\n",
      "  libgeos-3.8.0 libgeos-c1v5 libgeotiff5 libglu1-mesa libhdf4-0-alt\r\n",
      "  libjs-jquery libjs-openlayers libjs-underscore libkmlbase1 libkmldom1\r\n",
      "  libkmlengine1 libminizip1 libmysqlclient21 libnetcdf15 libodbc1 libogdi4.1\r\n",
      "  libpoppler97 libpq5 libproj15 libqhull7 libspatialite7 libsuperlu5\r\n",
      "  liburiparser1 libxerces-c3.2 mysql-common odbcinst odbcinst1debian2\r\n",
      "  poppler-data proj-bin proj-data sumo sumo-doc sumo-tools\r\n",
      "0 upgraded, 50 newly installed, 0 to remove and 65 not upgraded.\r\n",
      "Need to get 74.7 MB of archives.\r\n",
      "After this operation, 636 MB of additional disk space will be used.\r\n",
      "Get:1 http://archive.ubuntu.com/ubuntu focal/main amd64 poppler-data all 0.4.9-2 [1475 kB]\r\n",
      "Get:2 http://archive.ubuntu.com/ubuntu focal/universe amd64 binfmt-support amd64 2.2.0-2 [58.2 kB]\r\n",
      "Get:3 http://archive.ubuntu.com/ubuntu focal/universe amd64 fonts-roboto-unhinted all 2:0~20170802-3 [2376 kB]\r\n",
      "Get:4 http://archive.ubuntu.com/ubuntu focal/universe amd64 gdal-data all 3.0.4+dfsg-1build3 [186 kB]\r\n",
      "Get:5 http://archive.ubuntu.com/ubuntu focal/universe amd64 fastjar amd64 2:0.98-6build1 [66.7 kB]\r\n",
      "Get:6 http://archive.ubuntu.com/ubuntu focal/universe amd64 jarwrapper all 0.72.10 [10.9 kB]\r\n",
      "Get:7 http://archive.ubuntu.com/ubuntu focal/main amd64 javascript-common all 11 [6066 B]\r\n",
      "Get:8 http://archive.ubuntu.com/ubuntu focal/universe amd64 libarpack2 amd64 3.7.0-3 [92.8 kB]\r\n",
      "Get:9 http://archive.ubuntu.com/ubuntu focal/universe amd64 libsuperlu5 amd64 5.2.1+dfsg1-4 [159 kB]\r\n",
      "Get:10 http://archive.ubuntu.com/ubuntu focal/universe amd64 libarmadillo9 amd64 1:9.800.4+dfsg-1build1 [93.2 kB]\r\n",
      "Get:11 http://archive.ubuntu.com/ubuntu focal/universe amd64 libcfitsio8 amd64 3.470-3 [466 kB]\r\n",
      "Get:12 http://archive.ubuntu.com/ubuntu focal/universe amd64 libcharls2 amd64 2.0.0+dfsg-1build1 [74.1 kB]\r\n",
      "Get:13 http://archive.ubuntu.com/ubuntu focal/universe amd64 libdap25 amd64 3.20.5-1 [435 kB]\r\n",
      "Get:14 http://archive.ubuntu.com/ubuntu focal/universe amd64 libdapclient6v5 amd64 3.20.5-1 [92.2 kB]\r\n",
      "Get:15 http://archive.ubuntu.com/ubuntu focal/universe amd64 libepsilon1 amd64 0.9.2+dfsg-4 [41.0 kB]\r\n",
      "Get:16 http://archive.ubuntu.com/ubuntu focal/main amd64 libglu1-mesa amd64 9.0.1-1build1 [168 kB]\r\n",
      "Get:17 http://archive.ubuntu.com/ubuntu focal/universe amd64 libfox-1.6-0 amd64 1.6.57-1build1 [890 kB]\r\n",
      "Get:18 http://archive.ubuntu.com/ubuntu focal/universe amd64 libfyba0 amd64 4.1.1-6build1 [113 kB]\r\n",
      "Get:19 http://archive.ubuntu.com/ubuntu focal/universe amd64 libfreexl1 amd64 1.0.5-3 [33.4 kB]\r\n",
      "Get:20 http://archive.ubuntu.com/ubuntu focal/universe amd64 libgeos-3.8.0 amd64 3.8.0-1build1 [535 kB]\r\n",
      "Get:21 http://archive.ubuntu.com/ubuntu focal/universe amd64 libgeos-c1v5 amd64 3.8.0-1build1 [69.9 kB]\r\n",
      "Get:22 http://archive.ubuntu.com/ubuntu focal/universe amd64 proj-data all 6.3.1-1 [7647 kB]\r\n",
      "Get:23 http://archive.ubuntu.com/ubuntu focal/universe amd64 libproj15 amd64 6.3.1-1 [925 kB]\r\n",
      "Get:24 http://archive.ubuntu.com/ubuntu focal/universe amd64 libgeotiff5 amd64 1.5.1-2 [53.1 kB]\r\n",
      "Get:25 http://archive.ubuntu.com/ubuntu focal/universe amd64 libhdf4-0-alt amd64 4.2.14-1ubuntu1 [268 kB]\r\n",
      "Get:26 http://archive.ubuntu.com/ubuntu focal/universe amd64 libminizip1 amd64 1.1-8build1 [20.2 kB]\r\n",
      "Get:27 http://archive.ubuntu.com/ubuntu focal/universe amd64 liburiparser1 amd64 0.9.3-2 [39.3 kB]\r\n",
      "Get:28 http://archive.ubuntu.com/ubuntu focal/universe amd64 libkmlbase1 amd64 1.3.0-8build1 [45.4 kB]\r\n",
      "Get:29 http://archive.ubuntu.com/ubuntu focal/universe amd64 libkmldom1 amd64 1.3.0-8build1 [152 kB]\r\n",
      "Get:30 http://archive.ubuntu.com/ubuntu focal/universe amd64 libkmlengine1 amd64 1.3.0-8build1 [72.5 kB]\r\n",
      "Get:31 http://archive.ubuntu.com/ubuntu focal/main amd64 mysql-common all 5.8+1.0.5ubuntu2 [7496 B]\r\n",
      "Get:32 http://archive.ubuntu.com/ubuntu focal-updates/main amd64 libmysqlclient21 amd64 8.0.36-0ubuntu0.20.04.1 [1302 kB]\r\n",
      "Get:33 http://archive.ubuntu.com/ubuntu focal/universe amd64 libnetcdf15 amd64 1:4.7.3-1 [341 kB]\r\n",
      "Get:34 http://archive.ubuntu.com/ubuntu focal-updates/main amd64 libodbc1 amd64 2.3.6-0.1ubuntu0.1 [190 kB]\r\n",
      "Get:35 http://archive.ubuntu.com/ubuntu focal/universe amd64 libogdi4.1 amd64 4.1.0+ds-1build1 [198 kB]\r\n",
      "Get:36 http://archive.ubuntu.com/ubuntu focal-updates/main amd64 libpoppler97 amd64 0.86.1-0ubuntu1.4 [916 kB]\r\n",
      "Get:37 http://archive.ubuntu.com/ubuntu focal-updates/main amd64 libpq5 amd64 12.18-0ubuntu0.20.04.1 [116 kB]\r\n",
      "Get:38 http://archive.ubuntu.com/ubuntu focal/universe amd64 libqhull7 amd64 2015.2-4 [152 kB]\r\n",
      "Get:39 http://archive.ubuntu.com/ubuntu focal/universe amd64 libspatialite7 amd64 4.3.0a-6build1 [1286 kB]\r\n",
      "Get:40 http://archive.ubuntu.com/ubuntu focal-updates/universe amd64 libxerces-c3.2 amd64 3.2.2+debian-1ubuntu0.2 [878 kB]\r\n",
      "Get:41 http://archive.ubuntu.com/ubuntu focal-updates/main amd64 odbcinst amd64 2.3.6-0.1ubuntu0.1 [14.5 kB]\r\n",
      "Get:42 http://archive.ubuntu.com/ubuntu focal-updates/main amd64 odbcinst1debian2 amd64 2.3.6-0.1ubuntu0.1 [41.7 kB]\r\n",
      "Get:43 http://archive.ubuntu.com/ubuntu focal/universe amd64 libgdal26 amd64 3.0.4+dfsg-1build3 [6156 kB]\r\n",
      "Get:44 http://archive.ubuntu.com/ubuntu focal/main amd64 libjs-jquery all 3.3.1~dfsg-3 [329 kB]\r\n",
      "Get:45 http://archive.ubuntu.com/ubuntu focal-updates/main amd64 libjs-underscore all 1.9.1~dfsg-1ubuntu0.20.04.1 [99.5 kB]\r\n",
      "Get:46 http://archive.ubuntu.com/ubuntu focal/universe amd64 sumo amd64 1.4.0+dfsg1-1 [10.4 MB]\r\n",
      "Get:47 http://archive.ubuntu.com/ubuntu focal/universe amd64 sumo-doc all 1.4.0+dfsg1-1 [27.4 MB]\r\n",
      "Get:48 http://archive.ubuntu.com/ubuntu focal/universe amd64 libjs-openlayers all 2.13.1+ds2-7 [715 kB]\r\n",
      "Get:49 http://archive.ubuntu.com/ubuntu focal/universe amd64 sumo-tools all 1.4.0+dfsg1-1 [7360 kB]\r\n",
      "Get:50 http://archive.ubuntu.com/ubuntu focal/universe amd64 proj-bin amd64 6.3.1-1 [88.8 kB]\r\n",
      "Fetched 74.7 MB in 7s (10.5 MB/s)\r\n",
      "Extracting templates from packages: 100%\r\n",
      "Selecting previously unselected package poppler-data.\r\n",
      "(Reading database ... 113807 files and directories currently installed.)\r\n",
      "Preparing to unpack .../00-poppler-data_0.4.9-2_all.deb ...\r\n",
      "Unpacking poppler-data (0.4.9-2) ...\r\n",
      "Selecting previously unselected package binfmt-support.\r\n",
      "Preparing to unpack .../01-binfmt-support_2.2.0-2_amd64.deb ...\r\n",
      "Unpacking binfmt-support (2.2.0-2) ...\r\n",
      "Selecting previously unselected package fonts-roboto-unhinted.\r\n",
      "Preparing to unpack .../02-fonts-roboto-unhinted_2%3a0~20170802-3_all.deb ...\r\n",
      "Unpacking fonts-roboto-unhinted (2:0~20170802-3) ...\r\n",
      "Selecting previously unselected package gdal-data.\r\n",
      "Preparing to unpack .../03-gdal-data_3.0.4+dfsg-1build3_all.deb ...\r\n",
      "Unpacking gdal-data (3.0.4+dfsg-1build3) ...\r\n",
      "Selecting previously unselected package fastjar.\r\n",
      "Preparing to unpack .../04-fastjar_2%3a0.98-6build1_amd64.deb ...\r\n",
      "Unpacking fastjar (2:0.98-6build1) ...\r\n",
      "Selecting previously unselected package jarwrapper.\r\n",
      "Preparing to unpack .../05-jarwrapper_0.72.10_all.deb ...\r\n",
      "Unpacking jarwrapper (0.72.10) ...\r\n",
      "Selecting previously unselected package javascript-common.\r\n",
      "Preparing to unpack .../06-javascript-common_11_all.deb ...\r\n",
      "Unpacking javascript-common (11) ...\r\n",
      "Selecting previously unselected package libarpack2:amd64.\r\n",
      "Preparing to unpack .../07-libarpack2_3.7.0-3_amd64.deb ...\r\n",
      "Unpacking libarpack2:amd64 (3.7.0-3) ...\r\n",
      "Selecting previously unselected package libsuperlu5:amd64.\r\n",
      "Preparing to unpack .../08-libsuperlu5_5.2.1+dfsg1-4_amd64.deb ...\r\n",
      "Unpacking libsuperlu5:amd64 (5.2.1+dfsg1-4) ...\r\n",
      "Selecting previously unselected package libarmadillo9.\r\n",
      "Preparing to unpack .../09-libarmadillo9_1%3a9.800.4+dfsg-1build1_amd64.deb ...\r\n",
      "Unpacking libarmadillo9 (1:9.800.4+dfsg-1build1) ...\r\n",
      "Selecting previously unselected package libcfitsio8:amd64.\r\n",
      "Preparing to unpack .../10-libcfitsio8_3.470-3_amd64.deb ...\r\n",
      "Unpacking libcfitsio8:amd64 (3.470-3) ...\r\n",
      "Selecting previously unselected package libcharls2:amd64.\r\n",
      "Preparing to unpack .../11-libcharls2_2.0.0+dfsg-1build1_amd64.deb ...\r\n",
      "Unpacking libcharls2:amd64 (2.0.0+dfsg-1build1) ...\r\n",
      "Selecting previously unselected package libdap25:amd64.\r\n",
      "Preparing to unpack .../12-libdap25_3.20.5-1_amd64.deb ...\r\n",
      "Unpacking libdap25:amd64 (3.20.5-1) ...\r\n",
      "Selecting previously unselected package libdapclient6v5:amd64.\r\n",
      "Preparing to unpack .../13-libdapclient6v5_3.20.5-1_amd64.deb ...\r\n",
      "Unpacking libdapclient6v5:amd64 (3.20.5-1) ...\r\n",
      "Selecting previously unselected package libepsilon1:amd64.\r\n",
      "Preparing to unpack .../14-libepsilon1_0.9.2+dfsg-4_amd64.deb ...\r\n",
      "Unpacking libepsilon1:amd64 (0.9.2+dfsg-4) ...\r\n",
      "Selecting previously unselected package libglu1-mesa:amd64.\r\n",
      "Preparing to unpack .../15-libglu1-mesa_9.0.1-1build1_amd64.deb ...\r\n",
      "Unpacking libglu1-mesa:amd64 (9.0.1-1build1) ...\r\n",
      "Selecting previously unselected package libfox-1.6-0:amd64.\r\n",
      "Preparing to unpack .../16-libfox-1.6-0_1.6.57-1build1_amd64.deb ...\r\n",
      "Unpacking libfox-1.6-0:amd64 (1.6.57-1build1) ...\r\n",
      "Selecting previously unselected package libfyba0:amd64.\r\n",
      "Preparing to unpack .../17-libfyba0_4.1.1-6build1_amd64.deb ...\r\n",
      "Unpacking libfyba0:amd64 (4.1.1-6build1) ...\r\n",
      "Selecting previously unselected package libfreexl1:amd64.\r\n",
      "Preparing to unpack .../18-libfreexl1_1.0.5-3_amd64.deb ...\r\n",
      "Unpacking libfreexl1:amd64 (1.0.5-3) ...\r\n",
      "Selecting previously unselected package libgeos-3.8.0:amd64.\r\n",
      "Preparing to unpack .../19-libgeos-3.8.0_3.8.0-1build1_amd64.deb ...\r\n",
      "Unpacking libgeos-3.8.0:amd64 (3.8.0-1build1) ...\r\n",
      "Selecting previously unselected package libgeos-c1v5:amd64.\r\n",
      "Preparing to unpack .../20-libgeos-c1v5_3.8.0-1build1_amd64.deb ...\r\n",
      "Unpacking libgeos-c1v5:amd64 (3.8.0-1build1) ...\r\n",
      "Selecting previously unselected package proj-data.\r\n",
      "Preparing to unpack .../21-proj-data_6.3.1-1_all.deb ...\r\n",
      "Unpacking proj-data (6.3.1-1) ...\r\n",
      "Selecting previously unselected package libproj15:amd64.\r\n",
      "Preparing to unpack .../22-libproj15_6.3.1-1_amd64.deb ...\r\n",
      "Unpacking libproj15:amd64 (6.3.1-1) ...\r\n",
      "Selecting previously unselected package libgeotiff5:amd64.\r\n",
      "Preparing to unpack .../23-libgeotiff5_1.5.1-2_amd64.deb ...\r\n",
      "Unpacking libgeotiff5:amd64 (1.5.1-2) ...\r\n",
      "Selecting previously unselected package libhdf4-0-alt.\r\n",
      "Preparing to unpack .../24-libhdf4-0-alt_4.2.14-1ubuntu1_amd64.deb ...\r\n",
      "Unpacking libhdf4-0-alt (4.2.14-1ubuntu1) ...\r\n",
      "Selecting previously unselected package libminizip1:amd64.\r\n",
      "Preparing to unpack .../25-libminizip1_1.1-8build1_amd64.deb ...\r\n",
      "Unpacking libminizip1:amd64 (1.1-8build1) ...\r\n",
      "Selecting previously unselected package liburiparser1:amd64.\r\n",
      "Preparing to unpack .../26-liburiparser1_0.9.3-2_amd64.deb ...\r\n",
      "Unpacking liburiparser1:amd64 (0.9.3-2) ...\r\n",
      "Selecting previously unselected package libkmlbase1:amd64.\r\n",
      "Preparing to unpack .../27-libkmlbase1_1.3.0-8build1_amd64.deb ...\r\n",
      "Unpacking libkmlbase1:amd64 (1.3.0-8build1) ...\r\n",
      "Selecting previously unselected package libkmldom1:amd64.\r\n",
      "Preparing to unpack .../28-libkmldom1_1.3.0-8build1_amd64.deb ...\r\n",
      "Unpacking libkmldom1:amd64 (1.3.0-8build1) ...\r\n",
      "Selecting previously unselected package libkmlengine1:amd64.\r\n",
      "Preparing to unpack .../29-libkmlengine1_1.3.0-8build1_amd64.deb ...\r\n",
      "Unpacking libkmlengine1:amd64 (1.3.0-8build1) ...\r\n",
      "Selecting previously unselected package mysql-common.\r\n",
      "Preparing to unpack .../30-mysql-common_5.8+1.0.5ubuntu2_all.deb ...\r\n",
      "Unpacking mysql-common (5.8+1.0.5ubuntu2) ...\r\n",
      "Selecting previously unselected package libmysqlclient21:amd64.\r\n",
      "Preparing to unpack .../31-libmysqlclient21_8.0.36-0ubuntu0.20.04.1_amd64.deb ...\r\n",
      "Unpacking libmysqlclient21:amd64 (8.0.36-0ubuntu0.20.04.1) ...\r\n",
      "Selecting previously unselected package libnetcdf15:amd64.\r\n",
      "Preparing to unpack .../32-libnetcdf15_1%3a4.7.3-1_amd64.deb ...\r\n",
      "Unpacking libnetcdf15:amd64 (1:4.7.3-1) ...\r\n",
      "Selecting previously unselected package libodbc1:amd64.\r\n",
      "Preparing to unpack .../33-libodbc1_2.3.6-0.1ubuntu0.1_amd64.deb ...\r\n",
      "Unpacking libodbc1:amd64 (2.3.6-0.1ubuntu0.1) ...\r\n",
      "Selecting previously unselected package libogdi4.1.\r\n",
      "Preparing to unpack .../34-libogdi4.1_4.1.0+ds-1build1_amd64.deb ...\r\n",
      "Unpacking libogdi4.1 (4.1.0+ds-1build1) ...\r\n",
      "Selecting previously unselected package libpoppler97:amd64.\r\n",
      "Preparing to unpack .../35-libpoppler97_0.86.1-0ubuntu1.4_amd64.deb ...\r\n",
      "Unpacking libpoppler97:amd64 (0.86.1-0ubuntu1.4) ...\r\n",
      "Selecting previously unselected package libpq5:amd64.\r\n",
      "Preparing to unpack .../36-libpq5_12.18-0ubuntu0.20.04.1_amd64.deb ...\r\n",
      "Unpacking libpq5:amd64 (12.18-0ubuntu0.20.04.1) ...\r\n",
      "Selecting previously unselected package libqhull7:amd64.\r\n",
      "Preparing to unpack .../37-libqhull7_2015.2-4_amd64.deb ...\r\n",
      "Unpacking libqhull7:amd64 (2015.2-4) ...\r\n",
      "Selecting previously unselected package libspatialite7:amd64.\r\n",
      "Preparing to unpack .../38-libspatialite7_4.3.0a-6build1_amd64.deb ...\r\n",
      "Unpacking libspatialite7:amd64 (4.3.0a-6build1) ...\r\n",
      "Selecting previously unselected package libxerces-c3.2:amd64.\r\n",
      "Preparing to unpack .../39-libxerces-c3.2_3.2.2+debian-1ubuntu0.2_amd64.deb ...\r\n",
      "Unpacking libxerces-c3.2:amd64 (3.2.2+debian-1ubuntu0.2) ...\r\n",
      "Selecting previously unselected package odbcinst.\r\n",
      "Preparing to unpack .../40-odbcinst_2.3.6-0.1ubuntu0.1_amd64.deb ...\r\n",
      "Unpacking odbcinst (2.3.6-0.1ubuntu0.1) ...\r\n",
      "Selecting previously unselected package odbcinst1debian2:amd64.\r\n",
      "Preparing to unpack .../41-odbcinst1debian2_2.3.6-0.1ubuntu0.1_amd64.deb ...\r\n",
      "Unpacking odbcinst1debian2:amd64 (2.3.6-0.1ubuntu0.1) ...\r\n",
      "Selecting previously unselected package libgdal26.\r\n",
      "Preparing to unpack .../42-libgdal26_3.0.4+dfsg-1build3_amd64.deb ...\r\n",
      "Unpacking libgdal26 (3.0.4+dfsg-1build3) ...\r\n",
      "Selecting previously unselected package libjs-jquery.\r\n",
      "Preparing to unpack .../43-libjs-jquery_3.3.1~dfsg-3_all.deb ...\r\n",
      "Unpacking libjs-jquery (3.3.1~dfsg-3) ...\r\n",
      "Selecting previously unselected package libjs-underscore.\r\n",
      "Preparing to unpack .../44-libjs-underscore_1.9.1~dfsg-1ubuntu0.20.04.1_all.deb ...\r\n",
      "Unpacking libjs-underscore (1.9.1~dfsg-1ubuntu0.20.04.1) ...\r\n",
      "Selecting previously unselected package sumo.\r\n",
      "Preparing to unpack .../45-sumo_1.4.0+dfsg1-1_amd64.deb ...\r\n",
      "Unpacking sumo (1.4.0+dfsg1-1) ...\r\n",
      "Selecting previously unselected package sumo-doc.\r\n",
      "Preparing to unpack .../46-sumo-doc_1.4.0+dfsg1-1_all.deb ...\r\n",
      "Unpacking sumo-doc (1.4.0+dfsg1-1) ...\r\n",
      "Selecting previously unselected package libjs-openlayers.\r\n",
      "Preparing to unpack .../47-libjs-openlayers_2.13.1+ds2-7_all.deb ...\r\n",
      "Unpacking libjs-openlayers (2.13.1+ds2-7) ...\r\n",
      "Selecting previously unselected package sumo-tools.\r\n",
      "Preparing to unpack .../48-sumo-tools_1.4.0+dfsg1-1_all.deb ...\r\n",
      "Unpacking sumo-tools (1.4.0+dfsg1-1) ...\r\n",
      "Selecting previously unselected package proj-bin.\r\n",
      "Preparing to unpack .../49-proj-bin_6.3.1-1_amd64.deb ...\r\n",
      "Unpacking proj-bin (6.3.1-1) ...\r\n",
      "Setting up fastjar (2:0.98-6build1) ...\r\n",
      "Setting up javascript-common (11) ...\r\n",
      "Setting up mysql-common (5.8+1.0.5ubuntu2) ...\r\n",
      "update-alternatives: using /etc/mysql/my.cnf.fallback to provide /etc/mysql/my.cnf (my.cnf) in auto mode\r\n",
      "Setting up libmysqlclient21:amd64 (8.0.36-0ubuntu0.20.04.1) ...\r\n",
      "Setting up libxerces-c3.2:amd64 (3.2.2+debian-1ubuntu0.2) ...\r\n",
      "Setting up proj-data (6.3.1-1) ...\r\n",
      "Setting up libgeos-3.8.0:amd64 (3.8.0-1build1) ...\r\n",
      "Setting up libogdi4.1 (4.1.0+ds-1build1) ...\r\n",
      "Setting up libcharls2:amd64 (2.0.0+dfsg-1build1) ...\r\n",
      "Setting up libminizip1:amd64 (1.1-8build1) ...\r\n",
      "Setting up libarpack2:amd64 (3.7.0-3) ...\r\n",
      "Setting up libpq5:amd64 (12.18-0ubuntu0.20.04.1) ...\r\n",
      "Setting up libsuperlu5:amd64 (5.2.1+dfsg1-4) ...\r\n",
      "Setting up libdap25:amd64 (3.20.5-1) ...\r\n",
      "Setting up libqhull7:amd64 (2015.2-4) ...\r\n",
      "Setting up libpoppler97:amd64 (0.86.1-0ubuntu1.4) ...\r\n",
      "Setting up fonts-roboto-unhinted (2:0~20170802-3) ...\r\n",
      "Setting up libepsilon1:amd64 (0.9.2+dfsg-4) ...\r\n",
      "Setting up gdal-data (3.0.4+dfsg-1build3) ...\r\n",
      "Setting up poppler-data (0.4.9-2) ...\r\n",
      "Setting up libnetcdf15:amd64 (1:4.7.3-1) ...\r\n",
      "Setting up libcfitsio8:amd64 (3.470-3) ...\r\n",
      "Setting up binfmt-support (2.2.0-2) ...\r\n",
      "Created symlink /etc/systemd/system/multi-user.target.wants/binfmt-support.service -> /lib/systemd/system/binfmt-support.service.\r\n",
      "invoke-rc.d: could not determine current runlevel\r\n",
      "invoke-rc.d: policy-rc.d denied execution of start.\r\n",
      "Setting up libgeos-c1v5:amd64 (3.8.0-1build1) ...\r\n",
      "Setting up libproj15:amd64 (6.3.1-1) ...\r\n",
      "Setting up libodbc1:amd64 (2.3.6-0.1ubuntu0.1) ...\r\n",
      "Setting up libhdf4-0-alt (4.2.14-1ubuntu1) ...\r\n",
      "Setting up liburiparser1:amd64 (0.9.3-2) ...\r\n",
      "Setting up libfreexl1:amd64 (1.0.5-3) ...\r\n",
      "Setting up libfyba0:amd64 (4.1.1-6build1) ...\r\n",
      "Setting up libkmlbase1:amd64 (1.3.0-8build1) ...\r\n",
      "Setting up libdapclient6v5:amd64 (3.20.5-1) ...\r\n",
      "Setting up libjs-openlayers (2.13.1+ds2-7) ...\r\n",
      "Setting up libglu1-mesa:amd64 (9.0.1-1build1) ...\r\n",
      "Setting up libarmadillo9 (1:9.800.4+dfsg-1build1) ...\r\n",
      "Setting up libjs-jquery (3.3.1~dfsg-3) ...\r\n",
      "Setting up libfox-1.6-0:amd64 (1.6.57-1build1) ...\r\n",
      "Setting up libjs-underscore (1.9.1~dfsg-1ubuntu0.20.04.1) ...\r\n",
      "Setting up libkmldom1:amd64 (1.3.0-8build1) ...\r\n",
      "Setting up libspatialite7:amd64 (4.3.0a-6build1) ...\r\n",
      "Setting up libkmlengine1:amd64 (1.3.0-8build1) ...\r\n",
      "Setting up jarwrapper (0.72.10) ...\r\n",
      "Setting up proj-bin (6.3.1-1) ...\r\n",
      "Setting up libgeotiff5:amd64 (1.5.1-2) ...\r\n",
      "Setting up sumo-doc (1.4.0+dfsg1-1) ...\r\n",
      "Setting up sumo-tools (1.4.0+dfsg1-1) ...\r\n",
      "Setting up odbcinst (2.3.6-0.1ubuntu0.1) ...\r\n",
      "Setting up odbcinst1debian2:amd64 (2.3.6-0.1ubuntu0.1) ...\r\n",
      "Setting up libgdal26 (3.0.4+dfsg-1build3) ...\r\n",
      "Setting up sumo (1.4.0+dfsg1-1) ...\r\n",
      "Processing triggers for fontconfig (2.13.1-2ubuntu3) ...\r\n",
      "Processing triggers for mime-support (3.64ubuntu1) ...\r\n",
      "Processing triggers for libc-bin (2.31-0ubuntu9.14) ...\r\n",
      "Processing triggers for systemd (245.4-4ubuntu3.22) ...\r\n",
      "Processing triggers for man-db (2.9.1-1) ...\r\n",
      "Processing triggers for install-info (6.7.0.dfsg.2-5) ...\r\n",
      "Collecting sumolib\r\n",
      "  Downloading sumolib-1.19.0-py3-none-any.whl.metadata (2.5 kB)\r\n",
      "Collecting traci\r\n",
      "  Downloading traci-1.19.0-py3-none-any.whl.metadata (3.0 kB)\r\n",
      "Downloading sumolib-1.19.0-py3-none-any.whl (148 kB)\r\n",
      "\u001b[2K   \u001b[90m━━━━━━━━━━━━━━━━━━━━━━━━━━━━━━━━━━━━━━━━\u001b[0m \u001b[32m148.8/148.8 kB\u001b[0m \u001b[31m3.0 MB/s\u001b[0m eta \u001b[36m0:00:00\u001b[0m\r\n",
      "\u001b[?25hDownloading traci-1.19.0-py3-none-any.whl (124 kB)\r\n",
      "\u001b[2K   \u001b[90m━━━━━━━━━━━━━━━━━━━━━━━━━━━━━━━━━━━━━━━━\u001b[0m \u001b[32m124.5/124.5 kB\u001b[0m \u001b[31m6.8 MB/s\u001b[0m eta \u001b[36m0:00:00\u001b[0m\r\n",
      "\u001b[?25hInstalling collected packages: sumolib, traci\r\n",
      "Successfully installed sumolib-1.19.0 traci-1.19.0\r\n",
      "Collecting torchviz\r\n",
      "  Downloading torchviz-0.0.2.tar.gz (4.9 kB)\r\n",
      "  Preparing metadata (setup.py) ... \u001b[?25l-\b \bdone\r\n",
      "\u001b[?25hRequirement already satisfied: torch in /opt/conda/lib/python3.10/site-packages (from torchviz) (2.1.2)\r\n",
      "Requirement already satisfied: graphviz in /opt/conda/lib/python3.10/site-packages (from torchviz) (0.20.3)\r\n",
      "Requirement already satisfied: filelock in /opt/conda/lib/python3.10/site-packages (from torch->torchviz) (3.13.1)\r\n",
      "Requirement already satisfied: typing-extensions in /opt/conda/lib/python3.10/site-packages (from torch->torchviz) (4.9.0)\r\n",
      "Requirement already satisfied: sympy in /opt/conda/lib/python3.10/site-packages (from torch->torchviz) (1.12)\r\n",
      "Requirement already satisfied: networkx in /opt/conda/lib/python3.10/site-packages (from torch->torchviz) (3.2.1)\r\n",
      "Requirement already satisfied: jinja2 in /opt/conda/lib/python3.10/site-packages (from torch->torchviz) (3.1.2)\r\n",
      "Requirement already satisfied: fsspec in /opt/conda/lib/python3.10/site-packages (from torch->torchviz) (2024.2.0)\r\n",
      "Requirement already satisfied: MarkupSafe>=2.0 in /opt/conda/lib/python3.10/site-packages (from jinja2->torch->torchviz) (2.1.3)\r\n",
      "Requirement already satisfied: mpmath>=0.19 in /opt/conda/lib/python3.10/site-packages (from sympy->torch->torchviz) (1.3.0)\r\n",
      "Building wheels for collected packages: torchviz\r\n",
      "  Building wheel for torchviz (setup.py) ... \u001b[?25l-\b \b\\\b \bdone\r\n",
      "\u001b[?25h  Created wheel for torchviz: filename=torchviz-0.0.2-py3-none-any.whl size=4131 sha256=8b36577b30c44bcf6d03dd28576e83619b4ee60a3c34665a5cfb090a31f62293\r\n",
      "  Stored in directory: /root/.cache/pip/wheels/4c/97/88/a02973217949e0db0c9f4346d154085f4725f99c4f15a87094\r\n",
      "Successfully built torchviz\r\n",
      "Installing collected packages: torchviz\r\n",
      "Successfully installed torchviz-0.0.2\r\n",
      "Requirement already satisfied: stable-baselines3 in /opt/conda/lib/python3.10/site-packages (2.1.0)\r\n",
      "Requirement already satisfied: gym in /opt/conda/lib/python3.10/site-packages (0.26.2)\r\n",
      "Requirement already satisfied: gymnasium<0.30,>=0.28.1 in /opt/conda/lib/python3.10/site-packages (from stable-baselines3) (0.29.0)\r\n",
      "Requirement already satisfied: numpy>=1.20 in /opt/conda/lib/python3.10/site-packages (from stable-baselines3) (1.26.4)\r\n",
      "Requirement already satisfied: torch>=1.13 in /opt/conda/lib/python3.10/site-packages (from stable-baselines3) (2.1.2)\r\n",
      "Requirement already satisfied: cloudpickle in /opt/conda/lib/python3.10/site-packages (from stable-baselines3) (2.2.1)\r\n",
      "Requirement already satisfied: pandas in /opt/conda/lib/python3.10/site-packages (from stable-baselines3) (2.1.4)\r\n",
      "Requirement already satisfied: matplotlib in /opt/conda/lib/python3.10/site-packages (from stable-baselines3) (3.7.5)\r\n",
      "Requirement already satisfied: gym-notices>=0.0.4 in /opt/conda/lib/python3.10/site-packages (from gym) (0.0.8)\r\n",
      "Requirement already satisfied: typing-extensions>=4.3.0 in /opt/conda/lib/python3.10/site-packages (from gymnasium<0.30,>=0.28.1->stable-baselines3) (4.9.0)\r\n",
      "Requirement already satisfied: farama-notifications>=0.0.1 in /opt/conda/lib/python3.10/site-packages (from gymnasium<0.30,>=0.28.1->stable-baselines3) (0.0.4)\r\n",
      "Requirement already satisfied: filelock in /opt/conda/lib/python3.10/site-packages (from torch>=1.13->stable-baselines3) (3.13.1)\r\n",
      "Requirement already satisfied: sympy in /opt/conda/lib/python3.10/site-packages (from torch>=1.13->stable-baselines3) (1.12)\r\n",
      "Requirement already satisfied: networkx in /opt/conda/lib/python3.10/site-packages (from torch>=1.13->stable-baselines3) (3.2.1)\r\n",
      "Requirement already satisfied: jinja2 in /opt/conda/lib/python3.10/site-packages (from torch>=1.13->stable-baselines3) (3.1.2)\r\n",
      "Requirement already satisfied: fsspec in /opt/conda/lib/python3.10/site-packages (from torch>=1.13->stable-baselines3) (2024.2.0)\r\n",
      "Requirement already satisfied: contourpy>=1.0.1 in /opt/conda/lib/python3.10/site-packages (from matplotlib->stable-baselines3) (1.2.0)\r\n",
      "Requirement already satisfied: cycler>=0.10 in /opt/conda/lib/python3.10/site-packages (from matplotlib->stable-baselines3) (0.12.1)\r\n",
      "Requirement already satisfied: fonttools>=4.22.0 in /opt/conda/lib/python3.10/site-packages (from matplotlib->stable-baselines3) (4.47.0)\r\n",
      "Requirement already satisfied: kiwisolver>=1.0.1 in /opt/conda/lib/python3.10/site-packages (from matplotlib->stable-baselines3) (1.4.5)\r\n",
      "Requirement already satisfied: packaging>=20.0 in /opt/conda/lib/python3.10/site-packages (from matplotlib->stable-baselines3) (21.3)\r\n",
      "Requirement already satisfied: pillow>=6.2.0 in /opt/conda/lib/python3.10/site-packages (from matplotlib->stable-baselines3) (9.5.0)\r\n",
      "Requirement already satisfied: pyparsing>=2.3.1 in /opt/conda/lib/python3.10/site-packages (from matplotlib->stable-baselines3) (3.1.1)\r\n",
      "Requirement already satisfied: python-dateutil>=2.7 in /opt/conda/lib/python3.10/site-packages (from matplotlib->stable-baselines3) (2.9.0.post0)\r\n",
      "Requirement already satisfied: pytz>=2020.1 in /opt/conda/lib/python3.10/site-packages (from pandas->stable-baselines3) (2023.3.post1)\r\n",
      "Requirement already satisfied: tzdata>=2022.1 in /opt/conda/lib/python3.10/site-packages (from pandas->stable-baselines3) (2023.4)\r\n",
      "Requirement already satisfied: six>=1.5 in /opt/conda/lib/python3.10/site-packages (from python-dateutil>=2.7->matplotlib->stable-baselines3) (1.16.0)\r\n",
      "Requirement already satisfied: MarkupSafe>=2.0 in /opt/conda/lib/python3.10/site-packages (from jinja2->torch>=1.13->stable-baselines3) (2.1.3)\r\n",
      "Requirement already satisfied: mpmath>=0.19 in /opt/conda/lib/python3.10/site-packages (from sympy->torch>=1.13->stable-baselines3) (1.3.0)\r\n"
     ]
    }
   ],
   "source": [
    "!sudo apt-get install -y sumo sumo-tools sumo-doc\n",
    "!pip install sumolib traci\n",
    "!pip install torchviz\n",
    "!pip install stable-baselines3 gym"
   ]
  },
  {
   "cell_type": "code",
   "execution_count": 2,
   "id": "c9ad884e",
   "metadata": {
    "execution": {
     "iopub.execute_input": "2024-05-01T12:21:54.235918Z",
     "iopub.status.busy": "2024-05-01T12:21:54.235507Z",
     "iopub.status.idle": "2024-05-01T12:21:55.262445Z",
     "shell.execute_reply": "2024-05-01T12:21:55.261290Z"
    },
    "papermill": {
     "duration": 1.053146,
     "end_time": "2024-05-01T12:21:55.264741",
     "exception": false,
     "start_time": "2024-05-01T12:21:54.211595",
     "status": "completed"
    },
    "tags": []
   },
   "outputs": [
    {
     "name": "stdout",
     "output_type": "stream",
     "text": [
      "sumo-gui: /usr/bin/sumo-gui\r\n"
     ]
    }
   ],
   "source": [
    "!whereis sumo-gui"
   ]
  },
  {
   "cell_type": "code",
   "execution_count": 3,
   "id": "708f23d6",
   "metadata": {
    "execution": {
     "iopub.execute_input": "2024-05-01T12:21:55.314356Z",
     "iopub.status.busy": "2024-05-01T12:21:55.313963Z",
     "iopub.status.idle": "2024-05-01T12:21:56.287114Z",
     "shell.execute_reply": "2024-05-01T12:21:56.285920Z"
    },
    "papermill": {
     "duration": 1.000769,
     "end_time": "2024-05-01T12:21:56.289682",
     "exception": false,
     "start_time": "2024-05-01T12:21:55.288913",
     "status": "completed"
    },
    "tags": []
   },
   "outputs": [
    {
     "name": "stdout",
     "output_type": "stream",
     "text": [
      "/usr/share/sumo/tools/game/cross_demo.sumocfg\r\n"
     ]
    }
   ],
   "source": [
    "# Confirming presence of sumocfg file\n",
    "!ls /usr/share/sumo/tools/game/cross_demo.sumocfg"
   ]
  },
  {
   "cell_type": "code",
   "execution_count": 4,
   "id": "399e36a0",
   "metadata": {
    "execution": {
     "iopub.execute_input": "2024-05-01T12:21:56.336416Z",
     "iopub.status.busy": "2024-05-01T12:21:56.336001Z",
     "iopub.status.idle": "2024-05-01T12:21:57.325267Z",
     "shell.execute_reply": "2024-05-01T12:21:57.324193Z"
    },
    "papermill": {
     "duration": 1.015232,
     "end_time": "2024-05-01T12:21:57.327637",
     "exception": false,
     "start_time": "2024-05-01T12:21:56.312405",
     "status": "completed"
    },
    "tags": []
   },
   "outputs": [
    {
     "name": "stdout",
     "output_type": "stream",
     "text": [
      "/usr/share/sumo/tools/game/cross/cross.net.xml\r\n"
     ]
    }
   ],
   "source": [
    "# Confirming presence of the network file for cross_demo.sumocfg\n",
    "!ls /usr/share/sumo/tools/game/cross/cross.net.xml"
   ]
  },
  {
   "cell_type": "markdown",
   "id": "5c522ea2",
   "metadata": {
    "papermill": {
     "duration": 0.023654,
     "end_time": "2024-05-01T12:21:57.376102",
     "exception": false,
     "start_time": "2024-05-01T12:21:57.352448",
     "status": "completed"
    },
    "tags": []
   },
   "source": [
    "## Imports"
   ]
  },
  {
   "cell_type": "code",
   "execution_count": 5,
   "id": "12e02683",
   "metadata": {
    "execution": {
     "iopub.execute_input": "2024-05-01T12:21:57.423825Z",
     "iopub.status.busy": "2024-05-01T12:21:57.423444Z",
     "iopub.status.idle": "2024-05-01T12:22:14.442218Z",
     "shell.execute_reply": "2024-05-01T12:22:14.441157Z"
    },
    "papermill": {
     "duration": 17.045524,
     "end_time": "2024-05-01T12:22:14.444549",
     "exception": false,
     "start_time": "2024-05-01T12:21:57.399025",
     "status": "completed"
    },
    "tags": []
   },
   "outputs": [
    {
     "name": "stderr",
     "output_type": "stream",
     "text": [
      "2024-05-01 12:22:04.074325: E external/local_xla/xla/stream_executor/cuda/cuda_dnn.cc:9261] Unable to register cuDNN factory: Attempting to register factory for plugin cuDNN when one has already been registered\n",
      "2024-05-01 12:22:04.074428: E external/local_xla/xla/stream_executor/cuda/cuda_fft.cc:607] Unable to register cuFFT factory: Attempting to register factory for plugin cuFFT when one has already been registered\n",
      "2024-05-01 12:22:04.209656: E external/local_xla/xla/stream_executor/cuda/cuda_blas.cc:1515] Unable to register cuBLAS factory: Attempting to register factory for plugin cuBLAS when one has already been registered\n"
     ]
    }
   ],
   "source": [
    "import traci\n",
    "import sumolib\n",
    "import numpy as np\n",
    "import os\n",
    "import matplotlib.pyplot as plt\n",
    "from collections import deque\n",
    "import random\n",
    "import torch\n",
    "import torch.nn as nn\n",
    "import torch.nn.functional as F\n",
    "import torch.optim as optim\n",
    "from torchviz import make_dot\n",
    "\n",
    "import gymnasium as gym\n",
    "from stable_baselines3 import DQN\n",
    "from stable_baselines3.common.env_checker import check_env\n",
    "from stable_baselines3.common.callbacks import EvalCallback\n",
    "from gymnasium.spaces import Box, Dict, Discrete"
   ]
  },
  {
   "cell_type": "markdown",
   "id": "3ea67c98",
   "metadata": {
    "papermill": {
     "duration": 0.024001,
     "end_time": "2024-05-01T12:22:14.492843",
     "exception": false,
     "start_time": "2024-05-01T12:22:14.468842",
     "status": "completed"
    },
    "tags": []
   },
   "source": [
    "## Utility functions"
   ]
  },
  {
   "cell_type": "code",
   "execution_count": 6,
   "id": "a2a144c7",
   "metadata": {
    "execution": {
     "iopub.execute_input": "2024-05-01T12:22:14.543332Z",
     "iopub.status.busy": "2024-05-01T12:22:14.542385Z",
     "iopub.status.idle": "2024-05-01T12:22:14.549136Z",
     "shell.execute_reply": "2024-05-01T12:22:14.548198Z"
    },
    "papermill": {
     "duration": 0.034437,
     "end_time": "2024-05-01T12:22:14.551169",
     "exception": false,
     "start_time": "2024-05-01T12:22:14.516732",
     "status": "completed"
    },
    "tags": []
   },
   "outputs": [],
   "source": [
    "# Get the appropriate device (CUDA or CPU)\n",
    "def get_device():\n",
    "    return torch.device(\"cuda\" if torch.cuda.is_available() else \"cpu\")\n",
    "\n",
    "def dict_to_sorted_numpy_array(dictionary):\n",
    "    # Sort the keys\n",
    "    sorted_keys = sorted(dictionary.keys())\n",
    "    # Create a list of values in sorted order\n",
    "    sorted_values = [dictionary[key] for key in sorted_keys]\n",
    "    # Convert to numpy array\n",
    "    np_array = np.array(sorted_values, dtype=np.float32)\n",
    "    return np_array"
   ]
  },
  {
   "cell_type": "markdown",
   "id": "428b8f4f",
   "metadata": {
    "papermill": {
     "duration": 0.023738,
     "end_time": "2024-05-01T12:22:14.598446",
     "exception": false,
     "start_time": "2024-05-01T12:22:14.574708",
     "status": "completed"
    },
    "tags": []
   },
   "source": [
    "## Creating a custom gym environment"
   ]
  },
  {
   "cell_type": "code",
   "execution_count": 7,
   "id": "88737bdd",
   "metadata": {
    "execution": {
     "iopub.execute_input": "2024-05-01T12:22:14.648755Z",
     "iopub.status.busy": "2024-05-01T12:22:14.648387Z",
     "iopub.status.idle": "2024-05-01T12:22:14.697203Z",
     "shell.execute_reply": "2024-05-01T12:22:14.696255Z"
    },
    "papermill": {
     "duration": 0.076484,
     "end_time": "2024-05-01T12:22:14.699442",
     "exception": false,
     "start_time": "2024-05-01T12:22:14.622958",
     "status": "completed"
    },
    "tags": []
   },
   "outputs": [],
   "source": [
    "class SingleRoadIntersectionEnv(gym.Env):\n",
    "    \n",
    "    def __init__(self):\n",
    "        \n",
    "        self.max_episode_steps = 5000\n",
    "        \n",
    "        self.AREA_SIZE = self.get_frame_dimensions()\n",
    "        \n",
    "        self.GRID_SIZE = (int(self.AREA_SIZE[0]), int(self.AREA_SIZE[1]))  # Rows and columns in the grid \n",
    "        self.GRID_RES = (self.AREA_SIZE[0] /self.GRID_SIZE[0], self.AREA_SIZE[1] / self.GRID_SIZE[1])   \n",
    "        \n",
    "        # Path to SUMO binary\n",
    "        self.sumoBinary = \"/usr/bin/sumo\"\n",
    "        self.sumoCmd = [self.sumoBinary, \"-c\", \"/usr/share/sumo/tools/game/cross_demo.sumocfg\"]\n",
    "        \n",
    "        # Start the SUMO simulation\n",
    "        traci.start(self.sumoCmd)\n",
    "        \n",
    "        lanes = traci.lane.getIDList()\n",
    "        \n",
    "        # Define the observation space using gym.spaces.Dict\n",
    "        self.observation_space = Dict({\n",
    "            \"queue_length\": Box(low=0, high=np.inf, shape=(len(lanes),), dtype=np.float32),\n",
    "            \"vehicle_count\": Box(low=0, high=np.inf, shape=(len(lanes),), dtype=np.float32),\n",
    "            \"avg_waiting_time\": Box(low=0, high=np.inf, shape=(len(lanes),), dtype=np.float32),\n",
    "            \"current_phase\": Box(low=0, high=11, shape=(1,), dtype=np.float32),\n",
    "            \"next_phase\": Box(low=0, high=11, shape=(1,), dtype=np.float32),\n",
    "            \"vehicle_grid\": Box(low=0, high=1, shape=(int(self.AREA_SIZE[0]), int(self.AREA_SIZE[1])), dtype=np.float32),\n",
    "        })\n",
    "\n",
    "        # Define continuous action space\n",
    "        self.action_space = Discrete(2)\n",
    "        \n",
    "        # Setting the initial state\n",
    "        self.state = self.get_current_state()\n",
    "        \n",
    "        # Keeping track of the simulation time at phase changes\n",
    "        self.simulation_time_at_phase_change = traci.simulation.getCurrentTime()/1000\n",
    "        \n",
    "        # Initialising episode_steps and cumulative_reward\n",
    "        self.episode_steps = 0\n",
    "        self.cumulative_reward = 0\n",
    "        \n",
    "        self.reward_factors = None\n",
    "\n",
    "    def reset(self, seed=None):\n",
    "        # End SUMO simulation\n",
    "        traci.close()\n",
    "        # Start the SUMO simulation\n",
    "        traci.start(self.sumoCmd)\n",
    "        # Keeping track of the simulation time at phase changes\n",
    "        self.simulation_time_at_phase_change = traci.simulation.getCurrentTime()/1000\n",
    "        # Initialising episode_steps and cumulative_reward\n",
    "        self.episode_steps = 0\n",
    "        self.cumulative_reward = 0\n",
    "        \n",
    "        self.state = self.get_current_state() # Get the initial state\n",
    "        return (self.state, {})  # Return the initial state\n",
    "\n",
    "    def step(self, action):\n",
    "#         print(\"ACTION:\", action)\n",
    "        # Get the current state\n",
    "        current_state = self.state\n",
    "\n",
    "        # Dictionary to store vehicle entry times\n",
    "        vehicle_start_times = {}\n",
    "\n",
    "        # Get current simulation time (in seconds)\n",
    "        current_time = traci.simulation.getCurrentTime() / 1000  # Convert from ms to s\n",
    "\n",
    "        # Compute vehicle start times\n",
    "        vehicle_ids = traci.vehicle.getIDList()\n",
    "        for veh_id in vehicle_ids:\n",
    "            # Update the start time (to be tracked from last action taken)\n",
    "            vehicle_start_times[veh_id] = current_time\n",
    "            \n",
    "            \n",
    "            \n",
    "        traffic_light_ids = traci.trafficlight.getIDList()\n",
    "#         print(\"\\n\\nACTION TAKEN = \"+str(action)+\"\\n\\n\")\n",
    "        \n",
    "        # Advance simulation by one step\n",
    "        traci.simulationStep()\n",
    "\n",
    "        # Set traffic light phase according to action chosen\n",
    "        if action == 1:\n",
    "            traci.trafficlight.setPhase(traffic_light_ids[0], (current_state[\"current_phase\"][0] + 1) % 12)\n",
    "        else:\n",
    "            traci.trafficlight.setPhase(traffic_light_ids[0], current_state[\"current_phase\"][0])\n",
    "            \n",
    "            \n",
    "        \n",
    "        # Get the new state after action is taken\n",
    "        next_state = self.get_current_state()\n",
    "        \n",
    "        \n",
    "\n",
    "        # Get current simulation time (in seconds)\n",
    "        current_time = traci.simulation.getCurrentTime() / 1000  # Convert from ms to s\n",
    "\n",
    "        # List to store travel times for vehicles that have exited the frame\n",
    "        vehicle_travel_times = []\n",
    "\n",
    "        # Track vehicles that have exited\n",
    "        arrived_vehicle_ids = traci.simulation.getArrivedIDList()\n",
    "        for veh_id in arrived_vehicle_ids:\n",
    "            if veh_id in vehicle_start_times:\n",
    "                # Calculate travel time\n",
    "                start_time = vehicle_start_times[veh_id]\n",
    "                travel_time = current_time - start_time\n",
    "\n",
    "                # Store the travel time\n",
    "                vehicle_travel_times.append(travel_time)\n",
    "\n",
    "                # Remove the vehicle from the tracking dictionary\n",
    "                del vehicle_start_times[veh_id]\n",
    "                \n",
    "                \n",
    "                \n",
    "        # Get the reward\n",
    "        reward, reward_factors = self.getReward(current_state, next_state, vehicle_travel_times)\n",
    "        self.reward_factors = reward_factors\n",
    "        \n",
    "        \n",
    "        \n",
    "        # Update simulation_time_at_phase_change if a phase change has occured\n",
    "        traffic_light_changes = sum(\n",
    "            1 if next_state[\"current_phase\"][0] != current_state[\"current_phase\"][0] else 0\n",
    "            for tl in traci.trafficlight.getIDList()\n",
    "        )\n",
    "        phase_change = 0\n",
    "        if traffic_light_changes > 0:\n",
    "            phase_change = 1\n",
    "        if phase_change == 1:\n",
    "            self.simulation_time_at_phase_change = traci.simulation.getCurrentTime()/1000\n",
    "            \n",
    "            \n",
    "             \n",
    "        # Calculate cumulative reward, append data to replay buffer etc...\n",
    "        self.cumulative_reward += reward\n",
    "                    \n",
    "        info = {}  # Additional information if needed\n",
    "\n",
    "        self.state = next_state  # Update the state\n",
    "        \n",
    "        self.episode_steps += 1\n",
    "        \n",
    "        # Determine whether the episode is done\n",
    "        done = False\n",
    "        if self.episode_steps == self.max_episode_steps:\n",
    "            done = True\n",
    "        if done:                   \n",
    "            print(\"Cumulative Reward: \"+str(self.cumulative_reward))\n",
    "\n",
    "        return next_state, reward, done, False, info\n",
    "        #obs, reward, terminated, truncated, info\n",
    "\n",
    "    def close(self):\n",
    "        # End SUMO simulation\n",
    "        traci.close()\n",
    "        # Resetting episode_steps and cumulative_reward\n",
    "        self.episode_steps = 0\n",
    "        self.cumulative_reward = 0\n",
    "        \n",
    "    def get_frame_dimensions(self):\n",
    "        # Load the network file\n",
    "        net_file = \"/usr/share/sumo/tools/game/cross/cross.net.xml\"\n",
    "        net = sumolib.net.readNet(net_file)\n",
    "\n",
    "        # Get the network's boundaries\n",
    "        bounding_box = net.getBoundary()\n",
    "\n",
    "        # Calculate the width and height of the area\n",
    "        width = bounding_box[2] - bounding_box[0]\n",
    "        height = bounding_box[3] - bounding_box[1]\n",
    "\n",
    "        AREA_SIZE = (width, height)  # Width and height of the area in meters\n",
    "\n",
    "        return AREA_SIZE\n",
    "    \n",
    "    def get_next_phase(self, current_phase): # Note: This is specific to cross_demo.sumocfg \n",
    "        next_phase = {}\n",
    "        for key in current_phase.keys():\n",
    "            next_phase[key] = (current_phase[key] + 1)%12\n",
    "        return next_phase\n",
    "    \n",
    "    # Define a function to extract the current state from the simulation\n",
    "    def get_current_state(self):\n",
    "        lanes = traci.lane.getIDList()\n",
    "        queue_length = {lane: traci.lane.getLastStepHaltingNumber(lane) for lane in lanes}\n",
    "        vehicle_count = {lane: traci.lane.getLastStepVehicleNumber(lane) for lane in lanes}\n",
    "        avg_waiting_time = {lane: traci.lane.getWaitingTime(lane) for lane in lanes}\n",
    "        traffic_light_ids = traci.trafficlight.getIDList()\n",
    "        current_phase = {tl: traci.trafficlight.getPhase(tl) for tl in traffic_light_ids}\n",
    "        next_phase = self.get_next_phase(current_phase)\n",
    "\n",
    "        # Initialize the grid with zeros\n",
    "        vehicle_grid = np.zeros((self.GRID_SIZE[1], self.GRID_SIZE[0]), dtype=np.float32)\n",
    "\n",
    "        # Get all vehicle IDs\n",
    "        vehicle_ids = traci.vehicle.getIDList()\n",
    "\n",
    "        # Loop through all vehicles and place them on the grid\n",
    "        for veh_id in vehicle_ids:\n",
    "            # Get the position of the vehicle\n",
    "            x, y = traci.vehicle.getPosition(veh_id)\n",
    "\n",
    "            # Map the position to the grid indices\n",
    "            row = int(y // self.GRID_RES[1])  # Rows are indexed by the y-coordinate\n",
    "            col = int(x // self.GRID_RES[0])  # Columns are indexed by the x-coordinate\n",
    "\n",
    "            # Ensure the indices are within the grid bounds\n",
    "            if 0 <= row < self.GRID_SIZE[1] and 0 <= col < self.GRID_SIZE[0]:\n",
    "                vehicle_grid[row, col] += 1  # Increment the count at the grid position\n",
    "        \n",
    "        return {\n",
    "            \"queue_length\": dict_to_sorted_numpy_array(queue_length),\n",
    "            \"vehicle_count\": dict_to_sorted_numpy_array(vehicle_count),\n",
    "            \"avg_waiting_time\": dict_to_sorted_numpy_array(avg_waiting_time),\n",
    "            \"current_phase\": dict_to_sorted_numpy_array(current_phase),\n",
    "            \"next_phase\": dict_to_sorted_numpy_array(next_phase),\n",
    "            \"vehicle_grid\": vehicle_grid,\n",
    "        }\n",
    "    \n",
    "    # Function to compute the reward\n",
    "    def getReward(self, previous_state, current_state, vehicle_travel_times):\n",
    "        # Weights for each component of the reward\n",
    "        WEIGHT_QUEUE_LENGTH = -0.7/1000\n",
    "        WEIGHT_WAITING_TIME = -0.2/1000\n",
    "        WEIGHT_PHASE_CHANGE = -1.0/1000\n",
    "        WEIGHT_DELAY = -0.3/1000\n",
    "        WEIGHT_VEHICLES_PASSED = 7.0/1000\n",
    "        WEIGHT_ENVIRONMENTAL_COST = -0.4/1000\n",
    "        WEIGHT_SUDDEN_PHASE_CHANGE = -25.0/1000\n",
    "        WEIGHT_COLLISION = -15.0/1000\n",
    "        WEIGHT_TRAVEL_TIME = -1.0/1000\n",
    "\n",
    "        lanes = traci.lane.getIDList()\n",
    "\n",
    "        # Sum of queue lengths (halting vehicles)\n",
    "        queue_length = sum(traci.lane.getLastStepHaltingNumber(lane) for lane in lanes)\n",
    "\n",
    "        # Sum of average waiting times\n",
    "        avg_waiting_time = sum(traci.lane.getWaitingTime(lane) for lane in lanes)\n",
    "\n",
    "        # Check if phase change has occured since the last step\n",
    "        traffic_light_changes = sum(\n",
    "            1 if current_state[\"current_phase\"][0] != previous_state[\"current_phase\"][0] else 0\n",
    "            for tl in traci.trafficlight.getIDList()\n",
    "        )\n",
    "        phase_change = 0\n",
    "        if traffic_light_changes > 0:\n",
    "            phase_change = 1\n",
    "\n",
    "        # Calculate delay for all vehicles\n",
    "        total_delay = sum(\n",
    "            (1 - (traci.vehicle.getSpeed(veh) / traci.vehicle.getAllowedSpeed(veh))) for veh in traci.vehicle.getIDList()\n",
    "        )\n",
    "\n",
    "        # Number of vehicles which arrived (have reached their destination and are removed from the road network) in this time step\n",
    "        vehicles_passed = traci.simulation.getArrivedNumber()\n",
    "\n",
    "        # Environmental cost (based on CO2 and CO emissions)\n",
    "        total_emissions = sum(traci.vehicle.getCO2Emission(veh) for veh in traci.vehicle.getIDList()) + sum(traci.vehicle.getCOEmission(veh) for veh in traci.vehicle.getIDList())\n",
    "        total_emissions = total_emissions/1000\n",
    "\n",
    "        # Penalty for sudden changes (if the phase duration was too short)\n",
    "        min_phase_duration = 5  # penalize if phases switch within 5 seconds\n",
    "        sudden_traffic_light_changes = sum(\n",
    "            1 if ((phase_change == 1) and ((traci.simulation.getCurrentTime()/1000 - self.simulation_time_at_phase_change) < min_phase_duration) and ((current_state[\"current_phase\"][0] % 3) == 0)) else 0\n",
    "            for tl in traci.trafficlight.getIDList()\n",
    "        )\n",
    "        sudden_phase_change = 0\n",
    "        if sudden_traffic_light_changes > 0:\n",
    "            sudden_phase_change = 1\n",
    "\n",
    "        # Penalty for collision between vehicles\n",
    "        num_collided_vehicles = traci.simulation.getCollidingVehiclesNumber()\n",
    "\n",
    "        # Penalty for a high value of average travel time for vehicles which exited the frame\n",
    "        average_travel_time = 0\n",
    "        if len(vehicle_travel_times) != 0:\n",
    "            average_travel_time = np.mean(vehicle_travel_times)\n",
    "\n",
    "        # Compute the reward as a weighted sum of factors\n",
    "        reward = (\n",
    "            (WEIGHT_QUEUE_LENGTH * queue_length) +\n",
    "            (WEIGHT_WAITING_TIME * avg_waiting_time) +\n",
    "            (WEIGHT_PHASE_CHANGE * phase_change) +\n",
    "            (WEIGHT_DELAY * total_delay) +\n",
    "            (WEIGHT_VEHICLES_PASSED * vehicles_passed) +\n",
    "            (WEIGHT_ENVIRONMENTAL_COST * total_emissions) +\n",
    "            (WEIGHT_SUDDEN_PHASE_CHANGE * sudden_phase_change) +\n",
    "            (WEIGHT_COLLISION * num_collided_vehicles) + \n",
    "            (WEIGHT_TRAVEL_TIME * average_travel_time)\n",
    "        )\n",
    "\n",
    "        # Preparing the reward factors as well\n",
    "        reward_factors = {}\n",
    "        reward_factors[\"queue_length\"] = queue_length     # Number\n",
    "        reward_factors[\"avg_waiting_time\"] = avg_waiting_time     # Seconds \n",
    "        reward_factors[\"phase_change\"] = phase_change     # Flag\n",
    "        reward_factors[\"total_delay\"] = total_delay     # Sum of fractions\n",
    "        reward_factors[\"vehicles_passed\"] = vehicles_passed     # Number\n",
    "        reward_factors[\"total_emissions\"] = total_emissions     # grams/second\n",
    "        reward_factors[\"sudden_phase_change\"] = sudden_phase_change     # Flag\n",
    "        reward_factors[\"num_collided_vehicles\"] = num_collided_vehicles     # Number\n",
    "        reward_factors[\"average_travel_time\"] = average_travel_time     # Second \n",
    "\n",
    "        return reward, reward_factors\n"
   ]
  },
  {
   "cell_type": "markdown",
   "id": "dd0bbe79",
   "metadata": {
    "papermill": {
     "duration": 0.023473,
     "end_time": "2024-05-01T12:22:14.746981",
     "exception": false,
     "start_time": "2024-05-01T12:22:14.723508",
     "status": "completed"
    },
    "tags": []
   },
   "source": [
    "## Training"
   ]
  },
  {
   "cell_type": "code",
   "execution_count": 8,
   "id": "26ff9f82",
   "metadata": {
    "execution": {
     "iopub.execute_input": "2024-05-01T12:22:14.794998Z",
     "iopub.status.busy": "2024-05-01T12:22:14.794660Z",
     "iopub.status.idle": "2024-05-01T13:32:44.611321Z",
     "shell.execute_reply": "2024-05-01T13:32:44.610346Z"
    },
    "papermill": {
     "duration": 4229.843358,
     "end_time": "2024-05-01T13:32:44.613446",
     "exception": false,
     "start_time": "2024-05-01T12:22:14.770088",
     "status": "completed"
    },
    "tags": []
   },
   "outputs": [
    {
     "name": "stdout",
     "output_type": "stream",
     "text": [
      " Retrying in 1 seconds\n",
      "Loading configuration ... done.\n"
     ]
    },
    {
     "name": "stderr",
     "output_type": "stream",
     "text": [
      "Warning: Missing yellow phase in tlLogic '0', program '0' for tl-index 3 when switching to phase 0\n",
      "Warning: Missing yellow phase in tlLogic '0', program '1' for tl-index 5 when switching to phase 0\n",
      "Warning: Missing yellow phase in tlLogic '0', program '2' for tl-index 0 when switching to phase 0\n",
      "Warning: Missing yellow phase in tlLogic '0', program '3' for tl-index 2 when switching to phase 0\n",
      "/tmp/ipykernel_24/2840145907.py:38: UserWarning: getCurrentTime is deprecated, please use getTime which returns floating point seconds\n",
      "  self.simulation_time_at_phase_change = traci.simulation.getCurrentTime()/1000\n"
     ]
    },
    {
     "name": "stdout",
     "output_type": "stream",
     "text": [
      " Retrying in 1 seconds\n",
      "Loading configuration ... done.\n"
     ]
    },
    {
     "name": "stderr",
     "output_type": "stream",
     "text": [
      "Warning: Missing yellow phase in tlLogic '0', program '0' for tl-index 3 when switching to phase 0\n",
      "Warning: Missing yellow phase in tlLogic '0', program '1' for tl-index 5 when switching to phase 0\n",
      "Warning: Missing yellow phase in tlLogic '0', program '2' for tl-index 0 when switching to phase 0\n",
      "Warning: Missing yellow phase in tlLogic '0', program '3' for tl-index 2 when switching to phase 0\n",
      "/tmp/ipykernel_24/2840145907.py:52: UserWarning: getCurrentTime is deprecated, please use getTime which returns floating point seconds\n",
      "  self.simulation_time_at_phase_change = traci.simulation.getCurrentTime()/1000\n",
      "/opt/conda/lib/python3.10/site-packages/stable_baselines3/common/env_checker.py:244: UserWarning: Your observation vehicle_grid has an unconventional shape (neither an image, nor a 1D vector). We recommend you to flatten the observation to have only a 1D vector or use a custom policy to properly process the data.\n",
      "  warnings.warn(\n"
     ]
    },
    {
     "name": "stdout",
     "output_type": "stream",
     "text": [
      " Retrying in 1 seconds\n",
      "Loading configuration ... done.\n"
     ]
    },
    {
     "name": "stderr",
     "output_type": "stream",
     "text": [
      "Warning: Missing yellow phase in tlLogic '0', program '0' for tl-index 3 when switching to phase 0\n",
      "Warning: Missing yellow phase in tlLogic '0', program '1' for tl-index 5 when switching to phase 0\n",
      "Warning: Missing yellow phase in tlLogic '0', program '2' for tl-index 0 when switching to phase 0\n",
      "Warning: Missing yellow phase in tlLogic '0', program '3' for tl-index 2 when switching to phase 0\n",
      "/tmp/ipykernel_24/2840145907.py:69: UserWarning: getCurrentTime is deprecated, please use getTime which returns floating point seconds\n",
      "  current_time = traci.simulation.getCurrentTime() / 1000  # Convert from ms to s\n",
      "/tmp/ipykernel_24/2840145907.py:99: UserWarning: getCurrentTime is deprecated, please use getTime which returns floating point seconds\n",
      "  current_time = traci.simulation.getCurrentTime() / 1000  # Convert from ms to s\n",
      "/tmp/ipykernel_24/2840145907.py:270: UserWarning: getCurrentTime is deprecated, please use getTime which returns floating point seconds\n",
      "  1 if ((phase_change == 1) and ((traci.simulation.getCurrentTime()/1000 - self.simulation_time_at_phase_change) < min_phase_duration) and ((current_state[\"current_phase\"][0] % 3) == 0)) else 0\n",
      "/tmp/ipykernel_24/2840145907.py:135: UserWarning: getCurrentTime is deprecated, please use getTime which returns floating point seconds\n",
      "  self.simulation_time_at_phase_change = traci.simulation.getCurrentTime()/1000\n"
     ]
    },
    {
     "name": "stdout",
     "output_type": "stream",
     "text": [
      " Retrying in 1 seconds\n",
      "Loading configuration ... done.\n"
     ]
    },
    {
     "name": "stderr",
     "output_type": "stream",
     "text": [
      "Warning: Missing yellow phase in tlLogic '0', program '0' for tl-index 3 when switching to phase 0\n",
      "Warning: Missing yellow phase in tlLogic '0', program '1' for tl-index 5 when switching to phase 0\n",
      "Warning: Missing yellow phase in tlLogic '0', program '2' for tl-index 0 when switching to phase 0\n",
      "Warning: Missing yellow phase in tlLogic '0', program '3' for tl-index 2 when switching to phase 0\n"
     ]
    },
    {
     "name": "stdout",
     "output_type": "stream",
     "text": [
      "Using cuda device\n",
      "Wrapping the env with a `Monitor` wrapper\n",
      "Wrapping the env in a DummyVecEnv.\n",
      " Retrying in 1 seconds\n",
      "Loading configuration ... done.\n"
     ]
    },
    {
     "name": "stderr",
     "output_type": "stream",
     "text": [
      "Warning: Missing yellow phase in tlLogic '0', program '0' for tl-index 3 when switching to phase 0\n",
      "Warning: Missing yellow phase in tlLogic '0', program '1' for tl-index 5 when switching to phase 0\n",
      "Warning: Missing yellow phase in tlLogic '0', program '2' for tl-index 0 when switching to phase 0\n",
      "Warning: Missing yellow phase in tlLogic '0', program '3' for tl-index 2 when switching to phase 0\n",
      "/tmp/ipykernel_24/2840145907.py:52: UserWarning: getCurrentTime is deprecated, please use getTime which returns floating point seconds\n",
      "  self.simulation_time_at_phase_change = traci.simulation.getCurrentTime()/1000\n",
      "/tmp/ipykernel_24/2840145907.py:69: UserWarning: getCurrentTime is deprecated, please use getTime which returns floating point seconds\n",
      "  current_time = traci.simulation.getCurrentTime() / 1000  # Convert from ms to s\n",
      "/tmp/ipykernel_24/2840145907.py:99: UserWarning: getCurrentTime is deprecated, please use getTime which returns floating point seconds\n",
      "  current_time = traci.simulation.getCurrentTime() / 1000  # Convert from ms to s\n",
      "/tmp/ipykernel_24/2840145907.py:270: UserWarning: getCurrentTime is deprecated, please use getTime which returns floating point seconds\n",
      "  1 if ((phase_change == 1) and ((traci.simulation.getCurrentTime()/1000 - self.simulation_time_at_phase_change) < min_phase_duration) and ((current_state[\"current_phase\"][0] % 3) == 0)) else 0\n",
      "/tmp/ipykernel_24/2840145907.py:135: UserWarning: getCurrentTime is deprecated, please use getTime which returns floating point seconds\n",
      "  self.simulation_time_at_phase_change = traci.simulation.getCurrentTime()/1000\n"
     ]
    },
    {
     "name": "stdout",
     "output_type": "stream",
     "text": [
      "Step #12.80"
     ]
    },
    {
     "name": "stderr",
     "output_type": "stream",
     "text": [
      "Warning: Vehicle '2_right.0' performs emergency braking with decel=-9.00 wished=4.50 severity=1.00, time=11.40.\n",
      "Warning: Vehicle '2_right.0' performs emergency stop at the end of lane '2si_0' because of a red traffic light (decel=-13.43, offset=0.83), time=12.00.\n",
      "Warning: Vehicle '2_left.0' performs emergency braking with decel=-9.00 wished=4.50 severity=1.00, time=12.80.\n"
     ]
    },
    {
     "name": "stdout",
     "output_type": "stream",
     "text": [
      "Step #52.80"
     ]
    },
    {
     "name": "stderr",
     "output_type": "stream",
     "text": [
      "Warning: Vehicle '3_vertical.0' performs emergency braking with decel=-9.00 wished=4.50 severity=1.00, time=52.60.\n",
      "Warning: Vehicle '4_vertical.0' performs emergency braking with decel=-9.00 wished=4.50 severity=1.00, time=52.60.\n",
      "Warning: Vehicle '4_vertical.0' performs emergency stop at the end of lane '4si_0' because of a red traffic light (decel=-17.55, offset=0.91), time=52.60.\n",
      "Warning: Vehicle '3_vertical.0' performs emergency stop at the end of lane '3si_0' because of a red traffic light (decel=-19.73, offset=1.17), time=52.80.\n"
     ]
    },
    {
     "name": "stdout",
     "output_type": "stream",
     "text": [
      "Step #59.60"
     ]
    },
    {
     "name": "stderr",
     "output_type": "stream",
     "text": [
      "Warning: Vehicle '1_horizontal.3' performs emergency braking with decel=-9.00 wished=4.50 severity=1.00, time=59.60.\n",
      "Warning: Vehicle '1_horizontal.3' performs emergency stop at the end of lane '1si_1' because of a red traffic light (decel=-15.04, offset=0.22), time=59.60.\n"
     ]
    },
    {
     "name": "stdout",
     "output_type": "stream",
     "text": [
      "Step #123.00"
     ]
    },
    {
     "name": "stderr",
     "output_type": "stream",
     "text": [
      "Warning: Vehicle '2_left.2' performs emergency braking with decel=-9.00 wished=4.50 severity=1.00, time=123.00.\n",
      "Warning: Vehicle '2_right.4' performs emergency braking with decel=-9.00 wished=4.50 severity=1.00, time=130.80.\n"
     ]
    },
    {
     "name": "stdout",
     "output_type": "stream",
     "text": [
      "Step #139.80 "
     ]
    },
    {
     "name": "stderr",
     "output_type": "stream",
     "text": [
      "Warning: Vehicle '1_left.3' performs emergency braking with decel=-9.00 wished=4.50 severity=1.00, time=146.20.\n"
     ]
    },
    {
     "name": "stdout",
     "output_type": "stream",
     "text": [
      "Step #164.80"
     ]
    },
    {
     "name": "stderr",
     "output_type": "stream",
     "text": [
      "Warning: Vehicle '4_left.3' performs emergency braking with decel=-9.00 wished=4.50 severity=1.00, time=164.80.\n"
     ]
    },
    {
     "name": "stdout",
     "output_type": "stream",
     "text": [
      "Step #234.00"
     ]
    },
    {
     "name": "stderr",
     "output_type": "stream",
     "text": [
      "Warning: Vehicle '2_left.4' performs emergency braking with decel=-9.00 wished=4.50 severity=1.00, time=233.60.\n",
      "Warning: Vehicle '2_left.4' performs emergency stop at the end of lane '2si_2' because of a red traffic light (decel=-18.47, offset=1.84), time=233.60.\n",
      "Warning: Vehicle '1_horizontal0.2' performs emergency braking with decel=-9.00 wished=4.50 severity=1.00, time=234.00.\n"
     ]
    },
    {
     "name": "stdout",
     "output_type": "stream",
     "text": [
      "Step #345.80"
     ]
    },
    {
     "name": "stderr",
     "output_type": "stream",
     "text": [
      "Warning: Vehicle '2_left.6' performs emergency braking with decel=-9.00 wished=4.50 severity=1.00, time=345.60.\n",
      "Warning: Vehicle '2_left.6' performs emergency stop at the end of lane '2si_2' because of a red traffic light (decel=-11.87, offset=0.01), time=345.80.\n",
      "Warning: Vehicle '4_left.7' performs emergency braking with decel=-9.00 wished=4.50 severity=1.00, time=348.20.\n",
      "Warning: Vehicle '4_left.7' performs emergency stop at the end of lane '4si_1' because of a red traffic light (decel=-11.16, offset=0.26), time=348.40.\n"
     ]
    },
    {
     "name": "stdout",
     "output_type": "stream",
     "text": [
      "Step #380.40"
     ]
    },
    {
     "name": "stderr",
     "output_type": "stream",
     "text": [
      "Warning: Vehicle '1_right.10' performs emergency braking with decel=-9.00 wished=4.50 severity=1.00, time=380.20.\n",
      "Warning: Vehicle '1_right.10' performs emergency stop at the end of lane '1si_0' because of a red traffic light (decel=-20.27, offset=0.62), time=380.40.\n"
     ]
    },
    {
     "name": "stdout",
     "output_type": "stream",
     "text": [
      "Step #418.20"
     ]
    },
    {
     "name": "stderr",
     "output_type": "stream",
     "text": [
      "Warning: Vehicle '1_right.11' performs emergency braking with decel=-9.00 wished=4.50 severity=1.00, time=418.20.\n"
     ]
    },
    {
     "name": "stdout",
     "output_type": "stream",
     "text": [
      "Step #437.00"
     ]
    },
    {
     "name": "stderr",
     "output_type": "stream",
     "text": [
      "Warning: Vehicle '4_left.9' performs emergency braking with decel=-9.00 wished=4.50 severity=1.00, time=437.00.\n"
     ]
    },
    {
     "name": "stdout",
     "output_type": "stream",
     "text": [
      "Step #484.00"
     ]
    },
    {
     "name": "stderr",
     "output_type": "stream",
     "text": [
      "Warning: Vehicle '1_right.12' performs emergency braking with decel=-9.00 wished=4.50 severity=1.00, time=483.80.\n",
      "Warning: Vehicle '1_right.12' performs emergency stop at the end of lane '1si_0' because of a red traffic light (decel=-18.24, offset=0.66), time=484.00.\n"
     ]
    },
    {
     "name": "stdout",
     "output_type": "stream",
     "text": [
      "Step #485.80"
     ]
    },
    {
     "name": "stderr",
     "output_type": "stream",
     "text": [
      "Warning: Vehicle '1_left.8' performs emergency braking with decel=-9.00 wished=4.50 severity=1.00, time=485.80.\n",
      "Warning: Vehicle '1_left.8' performs emergency stop at the end of lane '1si_2' because of a red traffic light (decel=-15.08, offset=0.56), time=485.80.\n"
     ]
    },
    {
     "name": "stdout",
     "output_type": "stream",
     "text": [
      "Step #493.40"
     ]
    },
    {
     "name": "stderr",
     "output_type": "stream",
     "text": [
      "Warning: Vehicle '3_left.7' performs emergency braking with decel=-9.00 wished=4.50 severity=1.00, time=493.40.\n"
     ]
    },
    {
     "name": "stdout",
     "output_type": "stream",
     "text": [
      "Step #500.00"
     ]
    },
    {
     "name": "stderr",
     "output_type": "stream",
     "text": [
      "Warning: Choosing new speed factor 1.23 for vehicle '3_vertical0.22' to match departure speed.\n"
     ]
    },
    {
     "name": "stdout",
     "output_type": "stream",
     "text": [
      "Step #545.00 (1ms"
     ]
    },
    {
     "name": "stderr",
     "output_type": "stream",
     "text": [
      "Warning: Vehicle '2_right.18' performs emergency braking with decel=-9.00 wished=4.50 severity=1.00, time=551.80.\n",
      "Warning: Vehicle '2_right.18' performs emergency stop at the end of lane '2si_0' because of a red traffic light (decel=-16.19, offset=0.95), time=552.40.\n"
     ]
    },
    {
     "name": "stdout",
     "output_type": "stream",
     "text": [
      "Step #562.40"
     ]
    },
    {
     "name": "stderr",
     "output_type": "stream",
     "text": [
      "Warning: Vehicle '2_left.10' performs emergency braking with decel=-9.00 wished=4.50 severity=1.00, time=562.20.\n",
      "Warning: Vehicle '2_left.10' performs emergency stop at the end of lane '2si_2' because of a red traffic light (decel=-14.74, offset=0.79), time=562.40.\n"
     ]
    },
    {
     "name": "stdout",
     "output_type": "stream",
     "text": [
      "Step #564.20"
     ]
    },
    {
     "name": "stderr",
     "output_type": "stream",
     "text": [
      "Warning: Vehicle '4_left.11' performs emergency braking with decel=-9.00 wished=4.50 severity=1.00, time=563.80.\n",
      "Warning: Vehicle '4_left.11' performs emergency stop at the end of lane '4si_1' because of a red traffic light (decel=-11.31, offset=0.01), time=564.20.\n"
     ]
    },
    {
     "name": "stdout",
     "output_type": "stream",
     "text": [
      "Step #618.40"
     ]
    },
    {
     "name": "stderr",
     "output_type": "stream",
     "text": [
      "Warning: Vehicle '2_left.11' performs emergency braking with decel=-9.00 wished=4.50 severity=1.00, time=617.80.\n",
      "Warning: Vehicle '2_left.11' performs emergency stop at the end of lane '2si_2' because of a red traffic light (decel=-15.69, offset=0.37), time=618.40.\n"
     ]
    },
    {
     "name": "stdout",
     "output_type": "stream",
     "text": [
      "Step #629.60"
     ]
    },
    {
     "name": "stderr",
     "output_type": "stream",
     "text": [
      "Warning: Vehicle '1_right.15' performs emergency braking with decel=-9.00 wished=4.50 severity=1.00, time=629.60.\n"
     ]
    },
    {
     "name": "stdout",
     "output_type": "stream",
     "text": [
      "Step #631.20"
     ]
    },
    {
     "name": "stderr",
     "output_type": "stream",
     "text": [
      "Warning: Vehicle '2_left0.9' performs emergency braking with decel=-9.00 wished=4.50 severity=1.00, time=631.20.\n",
      "Warning: Vehicle '1_left.10' performs emergency braking with decel=-9.00 wished=4.50 severity=1.00, time=631.20.\n"
     ]
    },
    {
     "name": "stdout",
     "output_type": "stream",
     "text": [
      "Step #667.20 (0m"
     ]
    },
    {
     "name": "stderr",
     "output_type": "stream",
     "text": [
      "Warning: Vehicle '2_right.22' performs emergency braking with decel=-9.00 wished=4.50 severity=1.00, time=672.80.\n",
      "Warning: Vehicle '2_left.12' performs emergency braking with decel=-9.00 wished=4.50 severity=1.00, time=673.40.\n"
     ]
    },
    {
     "name": "stdout",
     "output_type": "stream",
     "text": [
      "Step #681.00"
     ]
    },
    {
     "name": "stderr",
     "output_type": "stream",
     "text": [
      "Warning: Vehicle '1_right.16' performs emergency braking with decel=-9.00 wished=4.50 severity=1.00, time=681.00.\n"
     ]
    },
    {
     "name": "stdout",
     "output_type": "stream",
     "text": [
      "Step #682.00"
     ]
    },
    {
     "name": "stderr",
     "output_type": "stream",
     "text": [
      "Warning: Vehicle '1_right.16' performs emergency stop at the end of lane '1si_0' because of a red traffic light (decel=-11.46, offset=0.03), time=682.00.\n"
     ]
    },
    {
     "name": "stdout",
     "output_type": "stream",
     "text": [
      "Step #691.00 "
     ]
    },
    {
     "name": "stderr",
     "output_type": "stream",
     "text": [
      "Warning: Vehicle '2_left0.10' performs emergency braking with decel=-9.00 wished=4.50 severity=1.00, time=693.00.\n"
     ]
    },
    {
     "name": "stdout",
     "output_type": "stream",
     "text": [
      "Step #732.40"
     ]
    },
    {
     "name": "stderr",
     "output_type": "stream",
     "text": [
      "Warning: Vehicle '2_right.24' performs emergency braking with decel=-9.00 wished=4.50 severity=1.00, time=732.40.\n"
     ]
    },
    {
     "name": "stdout",
     "output_type": "stream",
     "text": [
      "Step #810.00"
     ]
    },
    {
     "name": "stderr",
     "output_type": "stream",
     "text": [
      "Warning: Choosing new speed factor 1.24 for vehicle '1_horizontal0.38' to match departure speed.\n",
      "Warning: Vehicle '4_left.14' performs emergency braking with decel=-9.00 wished=4.50 severity=1.00, time=812.20.\n"
     ]
    },
    {
     "name": "stdout",
     "output_type": "stream",
     "text": [
      "Step #813.60"
     ]
    },
    {
     "name": "stderr",
     "output_type": "stream",
     "text": [
      "Warning: Vehicle '2_left0.12' performs emergency braking with decel=-9.00 wished=4.50 severity=1.00, time=813.40.\n",
      "Warning: Vehicle '2_left0.12' performs emergency stop at the end of lane '2si_2' because of a red traffic light (decel=-11.72, offset=0.19), time=813.60.\n"
     ]
    },
    {
     "name": "stdout",
     "output_type": "stream",
     "text": [
      "Step #849.60 (0m"
     ]
    },
    {
     "name": "stderr",
     "output_type": "stream",
     "text": [
      "Warning: Vehicle '2_right.28' performs emergency braking with decel=-9.00 wished=4.50 severity=1.00, time=851.80.\n"
     ]
    },
    {
     "name": "stdout",
     "output_type": "stream",
     "text": [
      "Step #874.40"
     ]
    },
    {
     "name": "stderr",
     "output_type": "stream",
     "text": [
      "Warning: Vehicle '4_left.15' performs emergency braking with decel=-9.00 wished=4.50 severity=1.00, time=873.60.\n",
      "Warning: Vehicle '4_left.15' performs emergency stop at the end of lane '4si_1' because of a red traffic light (decel=-12.95, offset=0.19), time=874.40.\n"
     ]
    },
    {
     "name": "stdout",
     "output_type": "stream",
     "text": [
      "Step #881.20"
     ]
    },
    {
     "name": "stderr",
     "output_type": "stream",
     "text": [
      "Warning: Vehicle '2_right.29' performs emergency braking with decel=-9.00 wished=4.50 severity=1.00, time=881.00.\n",
      "Warning: Vehicle '2_right.29' performs emergency stop at the end of lane '2si_0' because of a red traffic light (decel=-22.56, offset=2.27), time=881.20.\n"
     ]
    },
    {
     "name": "stdout",
     "output_type": "stream",
     "text": [
      "Step #890.20 "
     ]
    },
    {
     "name": "stderr",
     "output_type": "stream",
     "text": [
      "Warning: Vehicle '1_left.12' performs emergency braking with decel=-9.00 wished=4.50 severity=1.00, time=891.20.\n",
      "Warning: Vehicle '1_left.12' performs emergency stop at the end of lane '1si_2' because of a red traffic light (decel=-21.09, offset=0.46), time=891.20.\n"
     ]
    },
    {
     "name": "stdout",
     "output_type": "stream",
     "text": [
      "Step #913.40"
     ]
    },
    {
     "name": "stderr",
     "output_type": "stream",
     "text": [
      "Warning: Vehicle '2_right.30' performs emergency braking with decel=-9.00 wished=4.50 severity=1.00, time=913.40.\n",
      "Warning: Vehicle '2_right.30' performs emergency stop at the end of lane '2si_0' because of a red traffic light (decel=-16.99, offset=1.30), time=913.40.\n"
     ]
    },
    {
     "name": "stdout",
     "output_type": "stream",
     "text": [
      "Step #924.00"
     ]
    },
    {
     "name": "stderr",
     "output_type": "stream",
     "text": [
      "Warning: Vehicle '1_right.19' performs emergency braking with decel=-9.00 wished=4.50 severity=1.00, time=924.00.\n",
      "Warning: Vehicle '1_right.19' performs emergency stop at the end of lane '1si_0' because of a red traffic light (decel=-14.07, offset=0.94), time=924.00.\n"
     ]
    },
    {
     "name": "stdout",
     "output_type": "stream",
     "text": [
      "Step #969.00 (0ms"
     ]
    },
    {
     "name": "stderr",
     "output_type": "stream",
     "text": [
      "Warning: Choosing new speed factor 1.30 for vehicle '1_horizontal.65' to match departure speed.\n"
     ]
    },
    {
     "name": "stdout",
     "output_type": "stream",
     "text": [
      "Step #976.00"
     ]
    },
    {
     "name": "stderr",
     "output_type": "stream",
     "text": [
      "Warning: Vehicle '1_left.13' performs emergency braking with decel=-9.00 wished=4.50 severity=1.00, time=976.00.\n",
      "Warning: Vehicle '1_left.13' performs emergency stop at the end of lane '1si_2' because of a red traffic light (decel=-18.06, offset=0.44), time=976.00.\n"
     ]
    },
    {
     "name": "stdout",
     "output_type": "stream",
     "text": [
      "Step #994.00 (Cumulative Reward: -443.24789423215935\n",
      " Retrying in 1 seconds\n",
      "Loading configuration ... done.\n"
     ]
    },
    {
     "name": "stderr",
     "output_type": "stream",
     "text": [
      "Warning: Missing yellow phase in tlLogic '0', program '0' for tl-index 3 when switching to phase 0\n",
      "Warning: Missing yellow phase in tlLogic '0', program '1' for tl-index 5 when switching to phase 0\n",
      "Warning: Missing yellow phase in tlLogic '0', program '2' for tl-index 0 when switching to phase 0\n",
      "Warning: Missing yellow phase in tlLogic '0', program '3' for tl-index 2 when switching to phase 0\n"
     ]
    },
    {
     "name": "stdout",
     "output_type": "stream",
     "text": [
      "Step #15.00"
     ]
    },
    {
     "name": "stderr",
     "output_type": "stream",
     "text": [
      "Warning: Vehicle '1_right.0' performs emergency braking with decel=-9.00 wished=4.50 severity=1.00, time=13.60.\n",
      "Warning: Vehicle '1_right.0' performs emergency stop at the end of lane '1si_0' because of a red traffic light (decel=-11.01, offset=0.07), time=14.00.\n",
      "Warning: Vehicle '2_left.0' performs emergency braking with decel=-9.00 wished=4.50 severity=1.00, time=14.40.\n",
      "Warning: Vehicle '2_left.0' performs emergency stop at the end of lane '2si_2' because of a red traffic light (decel=-14.98, offset=0.59), time=14.40.\n",
      "Warning: Vehicle '1_left.0' performs emergency braking with decel=-9.00 wished=4.50 severity=1.00, time=14.40.\n",
      "Warning: Vehicle '1_left.0' performs emergency stop at the end of lane '1si_2' because of a red traffic light (decel=-13.53, offset=0.59), time=15.00.\n"
     ]
    },
    {
     "name": "stdout",
     "output_type": "stream",
     "text": [
      "Step #34.80"
     ]
    },
    {
     "name": "stderr",
     "output_type": "stream",
     "text": [
      "Warning: Vehicle '3_left.0' performs emergency braking with decel=-9.00 wished=4.50 severity=1.00, time=34.80.\n",
      "Warning: Vehicle '3_left.0' performs emergency stop at the end of lane '3si_1' because of a red traffic light (decel=-14.52, offset=0.92), time=34.80.\n",
      "Warning: Vehicle '4_left.0' performs emergency braking with decel=-9.00 wished=4.50 severity=1.00, time=34.80.\n",
      "Warning: Vehicle '4_left.0' performs emergency stop at the end of lane '4si_1' because of a red traffic light (decel=-15.67, offset=0.09), time=34.80.\n",
      "Warning: Vehicle '1_right.1' performs emergency braking with decel=-9.00 wished=4.50 severity=1.00, time=41.20.\n"
     ]
    },
    {
     "name": "stdout",
     "output_type": "stream",
     "text": [
      "Step #67.80"
     ]
    },
    {
     "name": "stderr",
     "output_type": "stream",
     "text": [
      "Warning: Vehicle '2_left.1' performs emergency braking with decel=-9.00 wished=4.50 severity=1.00, time=67.80.\n",
      "Warning: Vehicle '2_left.1' performs emergency stop at the end of lane '2si_2' because of a red traffic light (decel=-18.33, offset=0.20), time=67.80.\n",
      "Warning: Vehicle '4_right.1' performs emergency braking with decel=-9.00 wished=4.50 severity=1.00, time=72.20.\n",
      "Warning: Vehicle '4_right.1' performs emergency stop at the end of lane '4si_0' because of a red traffic light (decel=-13.24, offset=0.18), time=72.80.\n"
     ]
    },
    {
     "name": "stdout",
     "output_type": "stream",
     "text": [
      "Step #132.40"
     ]
    },
    {
     "name": "stderr",
     "output_type": "stream",
     "text": [
      "Warning: Vehicle '1_right.4' performs emergency braking with decel=-9.00 wished=4.50 severity=1.00, time=132.20.\n",
      "Warning: Vehicle '2_right.4' performs emergency braking with decel=-9.00 wished=4.50 severity=1.00, time=132.20.\n",
      "Warning: Vehicle '2_right.4' performs emergency stop at the end of lane '2si_0' because of a red traffic light (decel=-12.07, offset=0.06), time=132.40.\n"
     ]
    },
    {
     "name": "stdout",
     "output_type": "stream",
     "text": [
      "Step #147.00"
     ]
    },
    {
     "name": "stderr",
     "output_type": "stream",
     "text": [
      "Warning: Vehicle '1_left.3' performs emergency braking with decel=-9.00 wished=4.50 severity=1.00, time=146.40.\n",
      "Warning: Vehicle '1_left.3' performs emergency stop at the end of lane '1si_2' because of a red traffic light (decel=-16.64, offset=0.95), time=147.00.\n"
     ]
    },
    {
     "name": "stdout",
     "output_type": "stream",
     "text": [
      "Step #164.60"
     ]
    },
    {
     "name": "stderr",
     "output_type": "stream",
     "text": [
      "Warning: Vehicle '1_right.5' performs emergency braking with decel=-9.00 wished=4.50 severity=1.00, time=164.60.\n",
      "Warning: Vehicle '1_right.5' performs emergency stop at the end of lane '1si_0' because of a red traffic light (decel=-11.77, offset=0.21), time=164.60.\n"
     ]
    },
    {
     "name": "stdout",
     "output_type": "stream",
     "text": [
      "Step #167.60"
     ]
    },
    {
     "name": "stderr",
     "output_type": "stream",
     "text": [
      "Warning: Vehicle '3_left.3' performs emergency braking with decel=-9.00 wished=4.50 severity=1.00, time=167.60.\n"
     ]
    },
    {
     "name": "stdout",
     "output_type": "stream",
     "text": [
      "Step #177.40"
     ]
    },
    {
     "name": "stderr",
     "output_type": "stream",
     "text": [
      "Warning: Vehicle '1_horizontal0.2' performs emergency braking with decel=-9.00 wished=4.50 severity=1.00, time=177.00.\n",
      "Warning: Vehicle '1_horizontal0.2' performs emergency stop at the end of lane '1si_1' because of a red traffic light (decel=-9.82, offset=0.09), time=177.40.\n"
     ]
    },
    {
     "name": "stdout",
     "output_type": "stream",
     "text": [
      "Step #186.40 "
     ]
    },
    {
     "name": "stderr",
     "output_type": "stream",
     "text": [
      "Warning: Vehicle '1_right.6' performs emergency braking with decel=-9.00 wished=4.50 severity=1.00, time=192.40.\n"
     ]
    },
    {
     "name": "stdout",
     "output_type": "stream",
     "text": [
      "Step #211.20"
     ]
    },
    {
     "name": "stderr",
     "output_type": "stream",
     "text": [
      "Warning: Vehicle '2_left0.2' performs emergency braking with decel=-9.00 wished=4.50 severity=1.00, time=211.20.\n"
     ]
    },
    {
     "name": "stdout",
     "output_type": "stream",
     "text": [
      "Step #215.00"
     ]
    },
    {
     "name": "stderr",
     "output_type": "stream",
     "text": [
      "Warning: Vehicle '3_left.4' performs emergency braking with decel=-9.00 wished=4.50 severity=1.00, time=214.60.\n",
      "Warning: Vehicle '3_left.4' performs emergency stop at the end of lane '3si_1' because of a red traffic light (decel=-15.56, offset=0.12), time=215.00.\n"
     ]
    },
    {
     "name": "stdout",
     "output_type": "stream",
     "text": [
      "Step #237.80"
     ]
    },
    {
     "name": "stderr",
     "output_type": "stream",
     "text": [
      "Warning: Vehicle '1_left.5' performs emergency braking with decel=-9.00 wished=4.50 severity=1.00, time=237.40.\n",
      "Warning: Vehicle '1_left.5' performs emergency stop at the end of lane '1si_2' because of a red traffic light (decel=-10.91, offset=0.01), time=237.80.\n"
     ]
    },
    {
     "name": "stdout",
     "output_type": "stream",
     "text": [
      "Step #283.40"
     ]
    },
    {
     "name": "stderr",
     "output_type": "stream",
     "text": [
      "Warning: Vehicle '2_right.9' performs emergency braking with decel=-9.00 wished=4.50 severity=1.00, time=282.80.\n",
      "Warning: Vehicle '2_right.9' performs emergency stop at the end of lane '2si_0' because of a red traffic light (decel=-15.69, offset=0.82), time=283.40.\n"
     ]
    },
    {
     "name": "stdout",
     "output_type": "stream",
     "text": [
      "Step #300.80"
     ]
    },
    {
     "name": "stderr",
     "output_type": "stream",
     "text": [
      "Warning: Vehicle '4_left.6' performs emergency braking with decel=-9.00 wished=4.50 severity=1.00, time=300.80.\n"
     ]
    },
    {
     "name": "stdout",
     "output_type": "stream",
     "text": [
      "Step #341.60"
     ]
    },
    {
     "name": "stderr",
     "output_type": "stream",
     "text": [
      "Warning: Vehicle '2_right.11' performs emergency braking with decel=-9.00 wished=4.50 severity=1.00, time=341.60.\n"
     ]
    },
    {
     "name": "stdout",
     "output_type": "stream",
     "text": [
      "Step #386.60 (0ms"
     ]
    },
    {
     "name": "stderr",
     "output_type": "stream",
     "text": [
      "Warning: Vehicle '1_right.10' performs emergency braking with decel=-9.00 wished=4.50 severity=1.00, time=391.00.\n",
      "Warning: Vehicle '1_right.10' performs emergency stop at the end of lane '1si_0' because of a red traffic light (decel=-13.53, offset=0.09), time=391.60.\n"
     ]
    },
    {
     "name": "stdout",
     "output_type": "stream",
     "text": [
      "Step #392.40"
     ]
    },
    {
     "name": "stderr",
     "output_type": "stream",
     "text": [
      "Warning: Vehicle '2_left0.5' performs emergency braking with decel=-9.00 wished=4.50 severity=1.00, time=392.40.\n",
      "Warning: Vehicle '2_left0.5' performs emergency stop at the end of lane '2si_2' because of a red traffic light (decel=-16.34, offset=1.29), time=392.40.\n"
     ]
    },
    {
     "name": "stdout",
     "output_type": "stream",
     "text": [
      "Step #394.20"
     ]
    },
    {
     "name": "stderr",
     "output_type": "stream",
     "text": [
      "Warning: Vehicle '4_left.8' performs emergency braking with decel=-9.00 wished=4.50 severity=1.00, time=394.20.\n"
     ]
    },
    {
     "name": "stdout",
     "output_type": "stream",
     "text": [
      "Step #436.80"
     ]
    },
    {
     "name": "stderr",
     "output_type": "stream",
     "text": [
      "Warning: Vehicle '4_left.9' performs emergency braking with decel=-9.00 wished=4.50 severity=1.00, time=436.80.\n"
     ]
    },
    {
     "name": "stdout",
     "output_type": "stream",
     "text": [
      "Step #500.00"
     ]
    },
    {
     "name": "stderr",
     "output_type": "stream",
     "text": [
      "Warning: Choosing new speed factor 1.23 for vehicle '3_vertical0.22' to match departure speed.\n"
     ]
    },
    {
     "name": "stdout",
     "output_type": "stream",
     "text": [
      "Step #504.80"
     ]
    },
    {
     "name": "stderr",
     "output_type": "stream",
     "text": [
      "Warning: Vehicle '1_right.12' performs emergency braking with decel=-9.00 wished=4.50 severity=1.00, time=504.00.\n",
      "Warning: Vehicle '1_right.12' performs emergency stop at the end of lane '1si_0' because of a red traffic light (decel=-14.27, offset=0.89), time=504.00.\n",
      "Warning: Vehicle '1_left.8' performs emergency braking with decel=-9.00 wished=4.50 severity=1.00, time=504.80.\n",
      "Warning: Vehicle '1_left.8' performs emergency stop at the end of lane '1si_2' because of a red traffic light (decel=-10.98, offset=0.02), time=505.20.\n"
     ]
    },
    {
     "name": "stdout",
     "output_type": "stream",
     "text": [
      "Step #551.20"
     ]
    },
    {
     "name": "stderr",
     "output_type": "stream",
     "text": [
      "Warning: Vehicle '2_right.18' performs emergency braking with decel=-9.00 wished=4.50 severity=1.00, time=551.20.\n"
     ]
    },
    {
     "name": "stdout",
     "output_type": "stream",
     "text": [
      "Step #572.00"
     ]
    },
    {
     "name": "stderr",
     "output_type": "stream",
     "text": [
      "Warning: Vehicle '2_left0.8' performs emergency braking with decel=-9.00 wished=4.50 severity=1.00, time=572.00.\n"
     ]
    },
    {
     "name": "stdout",
     "output_type": "stream",
     "text": [
      "Step #574.20"
     ]
    },
    {
     "name": "stderr",
     "output_type": "stream",
     "text": [
      "Warning: Vehicle '1_right.13' performs emergency braking with decel=-9.00 wished=4.50 severity=1.00, time=574.20.\n",
      "Warning: Vehicle '1_right.13' performs emergency stop at the end of lane '1si_0' because of a red traffic light (decel=-11.72, offset=0.13), time=574.20.\n"
     ]
    },
    {
     "name": "stdout",
     "output_type": "stream",
     "text": [
      "Step #613.00"
     ]
    },
    {
     "name": "stderr",
     "output_type": "stream",
     "text": [
      "Warning: Vehicle '2_right.20' performs emergency braking with decel=-9.00 wished=4.50 severity=1.00, time=612.80.\n",
      "Warning: Vehicle '2_right.20' performs emergency stop at the end of lane '2si_0' because of a red traffic light (decel=-15.12, offset=0.37), time=613.00.\n"
     ]
    },
    {
     "name": "stdout",
     "output_type": "stream",
     "text": [
      "Step #662.00"
     ]
    },
    {
     "name": "stderr",
     "output_type": "stream",
     "text": [
      "Warning: Vehicle '3_left.9' performs emergency braking with decel=-9.00 wished=4.50 severity=1.00, time=662.00.\n",
      "Warning: Vehicle '1_right.15' performs emergency braking with decel=-9.00 wished=4.50 severity=1.00, time=667.00.\n",
      "Warning: Vehicle '1_right.15' performs emergency stop at the end of lane '1si_0' because of a red traffic light (decel=-11.23, offset=0.30), time=667.20.\n",
      "Warning: Vehicle '1_left.10' performs emergency braking with decel=-9.00 wished=4.50 severity=1.00, time=667.80.\n"
     ]
    },
    {
     "name": "stdout",
     "output_type": "stream",
     "text": [
      "Step #668.20"
     ]
    },
    {
     "name": "stderr",
     "output_type": "stream",
     "text": [
      "Warning: Vehicle '1_left.10' performs emergency stop at the end of lane '1si_2' because of a red traffic light (decel=-13.71, offset=0.59), time=668.20.\n"
     ]
    },
    {
     "name": "stdout",
     "output_type": "stream",
     "text": [
      "Step #703.60"
     ]
    },
    {
     "name": "stderr",
     "output_type": "stream",
     "text": [
      "Warning: Vehicle '2_right.23' performs emergency braking with decel=-9.00 wished=4.50 severity=1.00, time=703.60.\n",
      "Warning: Vehicle '2_right.23' performs emergency stop at the end of lane '2si_0' because of a red traffic light (decel=-14.38, offset=0.78), time=703.60.\n"
     ]
    },
    {
     "name": "stdout",
     "output_type": "stream",
     "text": [
      "Step #726.20"
     ]
    },
    {
     "name": "stderr",
     "output_type": "stream",
     "text": [
      "Warning: Vehicle '4_left.13' performs emergency braking with decel=-9.00 wished=4.50 severity=1.00, time=726.20.\n"
     ]
    },
    {
     "name": "stdout",
     "output_type": "stream",
     "text": [
      "Step #732.60"
     ]
    },
    {
     "name": "stderr",
     "output_type": "stream",
     "text": [
      "Warning: Vehicle '2_right.24' performs emergency braking with decel=-9.00 wished=4.50 severity=1.00, time=732.60.\n"
     ]
    },
    {
     "name": "stdout",
     "output_type": "stream",
     "text": [
      "Step #751.60"
     ]
    },
    {
     "name": "stderr",
     "output_type": "stream",
     "text": [
      "Warning: Vehicle '2_left0.11' performs emergency braking with decel=-9.00 wished=4.50 severity=1.00, time=751.60.\n"
     ]
    },
    {
     "name": "stdout",
     "output_type": "stream",
     "text": [
      "Step #787.60 (1m"
     ]
    },
    {
     "name": "stderr",
     "output_type": "stream",
     "text": [
      "Warning: Vehicle '2_right.26' performs emergency braking with decel=-9.00 wished=4.50 severity=1.00, time=792.60.\n"
     ]
    },
    {
     "name": "stdout",
     "output_type": "stream",
     "text": [
      "Step #806.00"
     ]
    },
    {
     "name": "stderr",
     "output_type": "stream",
     "text": [
      "Warning: Vehicle '1_right.17' performs emergency braking with decel=-9.00 wished=4.50 severity=1.00, time=805.80.\n",
      "Warning: Vehicle '1_right.17' performs emergency stop at the end of lane '1si_0' because of a red traffic light (decel=-18.28, offset=0.53), time=806.00.\n"
     ]
    },
    {
     "name": "stdout",
     "output_type": "stream",
     "text": [
      "Step #810.00"
     ]
    },
    {
     "name": "stderr",
     "output_type": "stream",
     "text": [
      "Warning: Choosing new speed factor 1.24 for vehicle '1_horizontal0.38' to match departure speed.\n"
     ]
    },
    {
     "name": "stdout",
     "output_type": "stream",
     "text": [
      "Step #822.20"
     ]
    },
    {
     "name": "stderr",
     "output_type": "stream",
     "text": [
      "Warning: Vehicle '2_right.27' performs emergency braking with decel=-9.00 wished=4.50 severity=1.00, time=822.20.\n"
     ]
    },
    {
     "name": "stdout",
     "output_type": "stream",
     "text": [
      "Step #853.60"
     ]
    },
    {
     "name": "stderr",
     "output_type": "stream",
     "text": [
      "Warning: Vehicle '2_right.28' performs emergency braking with decel=-9.00 wished=4.50 severity=1.00, time=853.60.\n",
      "Warning: Vehicle '2_right.28' performs emergency stop at the end of lane '2si_0' because of a red traffic light (decel=-16.71, offset=1.03), time=853.60.\n"
     ]
    },
    {
     "name": "stdout",
     "output_type": "stream",
     "text": [
      "Step #862.60 "
     ]
    },
    {
     "name": "stderr",
     "output_type": "stream",
     "text": [
      "Warning: Vehicle '4_left.15' performs emergency braking with decel=-9.00 wished=4.50 severity=1.00, time=868.80.\n",
      "Warning: Vehicle '4_left.15' performs emergency stop at the end of lane '4si_1' because of a red traffic light (decel=-15.11, offset=0.66), time=869.00.\n"
     ]
    },
    {
     "name": "stdout",
     "output_type": "stream",
     "text": [
      "Step #869.00"
     ]
    },
    {
     "name": "stderr",
     "output_type": "stream",
     "text": [
      "Warning: Vehicle '2_left0.13' performs emergency braking with decel=-9.00 wished=4.50 severity=1.00, time=872.20.\n"
     ]
    },
    {
     "name": "stdout",
     "output_type": "stream",
     "text": [
      "Step #873.40"
     ]
    },
    {
     "name": "stderr",
     "output_type": "stream",
     "text": [
      "Warning: Vehicle '2_left0.13' performs emergency stop at the end of lane '2si_2' because of a red traffic light (decel=-10.31, offset=0.11), time=873.40.\n"
     ]
    },
    {
     "name": "stdout",
     "output_type": "stream",
     "text": [
      "Step #880.00"
     ]
    },
    {
     "name": "stderr",
     "output_type": "stream",
     "text": [
      "Warning: Vehicle '2_right.29' performs emergency braking with decel=-9.00 wished=4.50 severity=1.00, time=880.00.\n"
     ]
    },
    {
     "name": "stdout",
     "output_type": "stream",
     "text": [
      "Step #884.60"
     ]
    },
    {
     "name": "stderr",
     "output_type": "stream",
     "text": [
      "Warning: Vehicle '1_left.12' performs emergency braking with decel=-9.00 wished=4.50 severity=1.00, time=884.40.\n",
      "Warning: Vehicle '1_left.12' performs emergency stop at the end of lane '1si_2' because of a red traffic light (decel=-11.54, offset=0.15), time=884.60.\n"
     ]
    },
    {
     "name": "stdout",
     "output_type": "stream",
     "text": [
      "Step #975.00"
     ]
    },
    {
     "name": "stderr",
     "output_type": "stream",
     "text": [
      "Warning: Choosing new speed factor 1.30 for vehicle '1_horizontal.65' to match departure speed.\n"
     ]
    },
    {
     "name": "stdout",
     "output_type": "stream",
     "text": [
      "Step #993.00 (Cumulative Reward: -465.06504333414676\n",
      " Retrying in 1 seconds\n",
      "Loading configuration ... done.\n"
     ]
    },
    {
     "name": "stderr",
     "output_type": "stream",
     "text": [
      "Warning: Missing yellow phase in tlLogic '0', program '0' for tl-index 3 when switching to phase 0\n",
      "Warning: Missing yellow phase in tlLogic '0', program '1' for tl-index 5 when switching to phase 0\n",
      "Warning: Missing yellow phase in tlLogic '0', program '2' for tl-index 0 when switching to phase 0\n",
      "Warning: Missing yellow phase in tlLogic '0', program '3' for tl-index 2 when switching to phase 0\n"
     ]
    },
    {
     "name": "stdout",
     "output_type": "stream",
     "text": [
      "S"
     ]
    },
    {
     "name": "stderr",
     "output_type": "stream",
     "text": [
      "Warning: Vehicle '2_left.0' performs emergency braking with decel=-9.00 wished=4.50 severity=1.00, time=13.60.\n",
      "Warning: Vehicle '1_left.0' performs emergency braking with decel=-9.00 wished=4.50 severity=1.00, time=13.60.\n",
      "Warning: Vehicle '2_left.0' performs emergency stop at the end of lane '2si_2' because of a red traffic light (decel=-17.96, offset=0.26), time=13.80.\n"
     ]
    },
    {
     "name": "stdout",
     "output_type": "stream",
     "text": [
      "Step #13.80"
     ]
    },
    {
     "name": "stderr",
     "output_type": "stream",
     "text": [
      "Warning: Vehicle '1_horizontal.0' performs emergency braking with decel=-9.00 wished=4.50 severity=1.00, time=16.80.\n",
      "Warning: Vehicle '1_horizontal.0' performs emergency stop at the end of lane '1si_1' because of a red traffic light (decel=-14.32, offset=0.96), time=16.80.\n"
     ]
    },
    {
     "name": "stdout",
     "output_type": "stream",
     "text": [
      "Step #29.40"
     ]
    },
    {
     "name": "stderr",
     "output_type": "stream",
     "text": [
      "Warning: Vehicle '2_horizontal.1' performs emergency braking with decel=-9.00 wished=4.50 severity=1.00, time=29.40.\n",
      "Warning: Vehicle '2_horizontal.1' performs emergency stop at the end of lane '2si_1' because of a red traffic light (decel=-11.93, offset=0.12), time=29.40.\n"
     ]
    },
    {
     "name": "stdout",
     "output_type": "stream",
     "text": [
      "Step #32.20"
     ]
    },
    {
     "name": "stderr",
     "output_type": "stream",
     "text": [
      "Warning: Vehicle '4_right.0' performs emergency braking with decel=-9.00 wished=4.50 severity=1.00, time=31.80.\n",
      "Warning: Vehicle '4_right.0' performs emergency stop at the end of lane '4si_0' because of a red traffic light (decel=-18.64, offset=1.91), time=32.20.\n"
     ]
    },
    {
     "name": "stdout",
     "output_type": "stream",
     "text": [
      "Step #41.20 "
     ]
    },
    {
     "name": "stderr",
     "output_type": "stream",
     "text": [
      "Warning: Vehicle '2_horizontal.2' performs emergency braking with decel=-9.00 wished=4.50 severity=1.00, time=44.20.\n",
      "Warning: Vehicle '2_horizontal.2' performs emergency stop at the end of lane '2si_1' because of a red traffic light (decel=-19.93, offset=0.64), time=44.40.\n"
     ]
    },
    {
     "name": "stdout",
     "output_type": "stream",
     "text": [
      "Step #71.40 (0"
     ]
    },
    {
     "name": "stderr",
     "output_type": "stream",
     "text": [
      "Warning: Vehicle '3_left.1' performs emergency braking with decel=-9.00 wished=4.50 severity=1.00, time=78.20.\n",
      "Warning: Vehicle '3_left.1' performs emergency stop at the end of lane '3si_1' because of a red traffic light (decel=-15.94, offset=0.25), time=78.20.\n"
     ]
    },
    {
     "name": "stdout",
     "output_type": "stream",
     "text": [
      "Step #86.80"
     ]
    },
    {
     "name": "stderr",
     "output_type": "stream",
     "text": [
      "Warning: Vehicle '2_horizontal.5' performs emergency braking with decel=-9.00 wished=4.50 severity=1.00, time=86.80.\n"
     ]
    },
    {
     "name": "stdout",
     "output_type": "stream",
     "text": [
      "Step #103.60"
     ]
    },
    {
     "name": "stderr",
     "output_type": "stream",
     "text": [
      "Warning: Vehicle '2_right.3' performs emergency braking with decel=-9.00 wished=4.50 severity=1.00, time=102.20.\n",
      "Warning: Vehicle '1_right.3' performs emergency braking with decel=-9.00 wished=4.50 severity=1.00, time=102.20.\n",
      "Warning: Vehicle '1_left.2' performs emergency braking with decel=-9.00 wished=4.50 severity=1.00, time=103.60.\n",
      "Warning: Vehicle '1_left.2' performs emergency stop at the end of lane '1si_2' because of a red traffic light (decel=-17.86, offset=0.36), time=104.00.\n"
     ]
    },
    {
     "name": "stdout",
     "output_type": "stream",
     "text": [
      "Step #122.80"
     ]
    },
    {
     "name": "stderr",
     "output_type": "stream",
     "text": [
      "Warning: Vehicle '3_left.2' performs emergency braking with decel=-9.00 wished=4.50 severity=1.00, time=122.80.\n",
      "Warning: Vehicle '4_left.2' performs emergency braking with decel=-9.00 wished=4.50 severity=1.00, time=122.80.\n"
     ]
    },
    {
     "name": "stdout",
     "output_type": "stream",
     "text": [
      "Step #132.40"
     ]
    },
    {
     "name": "stderr",
     "output_type": "stream",
     "text": [
      "Warning: Vehicle '2_right.4' performs emergency braking with decel=-9.00 wished=4.50 severity=1.00, time=132.20.\n",
      "Warning: Vehicle '1_right.4' performs emergency braking with decel=-9.00 wished=4.50 severity=1.00, time=132.20.\n",
      "Warning: Vehicle '2_right.4' performs emergency stop at the end of lane '2si_0' because of a red traffic light (decel=-12.19, offset=0.09), time=132.40.\n"
     ]
    },
    {
     "name": "stdout",
     "output_type": "stream",
     "text": [
      "Step #145.60"
     ]
    },
    {
     "name": "stderr",
     "output_type": "stream",
     "text": [
      "Warning: Vehicle '1_left.3' performs emergency braking with decel=-9.00 wished=4.50 severity=1.00, time=145.60.\n"
     ]
    },
    {
     "name": "stdout",
     "output_type": "stream",
     "text": [
      "Step #152.00"
     ]
    },
    {
     "name": "stderr",
     "output_type": "stream",
     "text": [
      "Warning: Vehicle '2_left0.1' performs emergency braking with decel=-9.00 wished=4.50 severity=1.00, time=152.00.\n"
     ]
    },
    {
     "name": "stdout",
     "output_type": "stream",
     "text": [
      "Step #168.20"
     ]
    },
    {
     "name": "stderr",
     "output_type": "stream",
     "text": [
      "Warning: Vehicle '3_left.3' performs emergency braking with decel=-9.00 wished=4.50 severity=1.00, time=168.20.\n",
      "Warning: Vehicle '3_left.3' performs emergency stop at the end of lane '3si_1' because of a red traffic light (decel=-20.87, offset=0.84), time=168.20.\n"
     ]
    },
    {
     "name": "stdout",
     "output_type": "stream",
     "text": [
      "Step #187.40"
     ]
    },
    {
     "name": "stderr",
     "output_type": "stream",
     "text": [
      "Warning: Vehicle '3_vertical0.1' performs emergency braking with decel=-9.00 wished=4.50 severity=1.00, time=187.20.\n",
      "Warning: Vehicle '3_vertical0.1' performs emergency stop at the end of lane '3si_0' because of a red traffic light (decel=-13.51, offset=0.01), time=187.40.\n"
     ]
    },
    {
     "name": "stdout",
     "output_type": "stream",
     "text": [
      "Step #193.80"
     ]
    },
    {
     "name": "stderr",
     "output_type": "stream",
     "text": [
      "Warning: Vehicle '1_right.6' performs emergency braking with decel=-9.00 wished=4.50 severity=1.00, time=193.00.\n",
      "Warning: Vehicle '1_right.6' performs emergency stop at the end of lane '1si_0' because of a red traffic light (decel=-12.81, offset=0.06), time=193.80.\n"
     ]
    },
    {
     "name": "stdout",
     "output_type": "stream",
     "text": [
      "Step #212.00"
     ]
    },
    {
     "name": "stderr",
     "output_type": "stream",
     "text": [
      "Warning: Vehicle '4_left.4' performs emergency braking with decel=-9.00 wished=4.50 severity=1.00, time=212.00.\n"
     ]
    },
    {
     "name": "stdout",
     "output_type": "stream",
     "text": [
      "Step #223.00"
     ]
    },
    {
     "name": "stderr",
     "output_type": "stream",
     "text": [
      "Warning: Vehicle '1_right.7' performs emergency braking with decel=-9.00 wished=4.50 severity=1.00, time=222.80.\n",
      "Warning: Vehicle '1_right.7' performs emergency stop at the end of lane '1si_0' because of a red traffic light (decel=-15.19, offset=0.26), time=223.00.\n"
     ]
    },
    {
     "name": "stdout",
     "output_type": "stream",
     "text": [
      "Step #271.20"
     ]
    },
    {
     "name": "stderr",
     "output_type": "stream",
     "text": [
      "Warning: Vehicle '2_left0.3' performs emergency braking with decel=-9.00 wished=4.50 severity=1.00, time=271.20.\n"
     ]
    },
    {
     "name": "stdout",
     "output_type": "stream",
     "text": [
      "Step #297.80"
     ]
    },
    {
     "name": "stderr",
     "output_type": "stream",
     "text": [
      "Warning: Vehicle '2_horizontal.17' performs emergency braking with decel=-9.00 wished=4.50 severity=1.00, time=297.60.\n",
      "Warning: Vehicle '2_horizontal.17' performs emergency stop at the end of lane '2si_1' because of a red traffic light (decel=-13.41, offset=0.14), time=297.80.\n"
     ]
    },
    {
     "name": "stdout",
     "output_type": "stream",
     "text": [
      "Step #330.20"
     ]
    },
    {
     "name": "stderr",
     "output_type": "stream",
     "text": [
      "Warning: Vehicle '3_left.5' performs emergency braking with decel=-9.00 wished=4.50 severity=1.00, time=330.20.\n",
      "Warning: Vehicle '3_left.5' performs emergency stop at the end of lane '3si_1' because of a red traffic light (decel=-17.17, offset=1.48), time=330.20.\n"
     ]
    },
    {
     "name": "stdout",
     "output_type": "stream",
     "text": [
      "Step #347.60"
     ]
    },
    {
     "name": "stderr",
     "output_type": "stream",
     "text": [
      "Warning: Vehicle '4_left.7' performs emergency braking with decel=-9.00 wished=4.50 severity=1.00, time=346.80.\n",
      "Warning: Vehicle '1_right.9' performs emergency braking with decel=-9.00 wished=4.50 severity=1.00, time=347.60.\n"
     ]
    },
    {
     "name": "stdout",
     "output_type": "stream",
     "text": [
      "Step #348.80"
     ]
    },
    {
     "name": "stderr",
     "output_type": "stream",
     "text": [
      "Warning: Vehicle '1_right.9' performs emergency stop at the end of lane '1si_0' because of a red traffic light (decel=-14.86, offset=0.06), time=347.80.\n",
      "Warning: Vehicle '1_left.6' performs emergency braking with decel=-9.00 wished=4.50 severity=1.00, time=348.40.\n",
      "Warning: Vehicle '1_left.6' performs emergency stop at the end of lane '1si_2' because of a red traffic light (decel=-14.78, offset=0.34), time=348.80.\n"
     ]
    },
    {
     "name": "stdout",
     "output_type": "stream",
     "text": [
      "Step #391.80"
     ]
    },
    {
     "name": "stderr",
     "output_type": "stream",
     "text": [
      "Warning: Vehicle '2_left0.5' performs emergency braking with decel=-9.00 wished=4.50 severity=1.00, time=391.80.\n"
     ]
    },
    {
     "name": "stdout",
     "output_type": "stream",
     "text": [
      "Step #436.80 (0ms"
     ]
    },
    {
     "name": "stderr",
     "output_type": "stream",
     "text": [
      "Warning: Vehicle '1_left.7' performs emergency braking with decel=-9.00 wished=4.50 severity=1.00, time=441.40.\n"
     ]
    },
    {
     "name": "stdout",
     "output_type": "stream",
     "text": [
      "Step #443.60"
     ]
    },
    {
     "name": "stderr",
     "output_type": "stream",
     "text": [
      "Warning: Vehicle '1_left.7' performs emergency stop at the end of lane '1si_2' because of a red traffic light (decel=-10.19, offset=0.07), time=442.60.\n",
      "Warning: Vehicle '4_left.9' performs emergency braking with decel=-9.00 wished=4.50 severity=1.00, time=443.60.\n"
     ]
    },
    {
     "name": "stdout",
     "output_type": "stream",
     "text": [
      "Step #443.80"
     ]
    },
    {
     "name": "stderr",
     "output_type": "stream",
     "text": [
      "Warning: Vehicle '4_left.9' performs emergency stop at the end of lane '4si_1' because of a red traffic light (decel=-17.97, offset=0.36), time=443.80.\n"
     ]
    },
    {
     "name": "stdout",
     "output_type": "stream",
     "text": [
      "Step #500.00"
     ]
    },
    {
     "name": "stderr",
     "output_type": "stream",
     "text": [
      "Warning: Choosing new speed factor 1.23 for vehicle '3_vertical0.22' to match departure speed.\n"
     ]
    },
    {
     "name": "stdout",
     "output_type": "stream",
     "text": [
      "Step #524.20"
     ]
    },
    {
     "name": "stderr",
     "output_type": "stream",
     "text": [
      "Warning: Vehicle '1_right.12' performs emergency braking with decel=-9.00 wished=4.50 severity=1.00, time=523.20.\n",
      "Warning: Vehicle '2_right.17' performs emergency braking with decel=-9.00 wished=4.50 severity=1.00, time=523.20.\n",
      "Warning: Vehicle '1_right.12' performs emergency stop at the end of lane '1si_0' because of a red traffic light (decel=-15.39, offset=0.07), time=523.40.\n",
      "Warning: Vehicle '2_right.17' performs emergency stop at the end of lane '2si_0' because of a red traffic light (decel=-14.30, offset=0.81), time=523.40.\n",
      "Warning: Vehicle '1_left.8' performs emergency braking with decel=-9.00 wished=4.50 severity=1.00, time=524.20.\n"
     ]
    },
    {
     "name": "stdout",
     "output_type": "stream",
     "text": [
      "Step #524.40"
     ]
    },
    {
     "name": "stderr",
     "output_type": "stream",
     "text": [
      "Warning: Vehicle '1_left.8' performs emergency stop at the end of lane '1si_2' because of a red traffic light (decel=-15.08, offset=0.55), time=524.40.\n"
     ]
    },
    {
     "name": "stdout",
     "output_type": "stream",
     "text": [
      "Step #553.20"
     ]
    },
    {
     "name": "stderr",
     "output_type": "stream",
     "text": [
      "Warning: Vehicle '2_right.18' performs emergency braking with decel=-9.00 wished=4.50 severity=1.00, time=553.00.\n",
      "Warning: Vehicle '2_right.18' performs emergency stop at the end of lane '2si_0' because of a red traffic light (decel=-11.90, offset=0.13), time=553.20.\n",
      "Warning: Vehicle '4_left.10' performs emergency braking with decel=-9.00 wished=4.50 severity=1.00, time=560.20.\n",
      "Warning: Vehicle '4_left.10' performs emergency stop at the end of lane '4si_1' because of a red traffic light (decel=-15.96, offset=0.98), time=560.20.\n"
     ]
    },
    {
     "name": "stdout",
     "output_type": "stream",
     "text": [
      "Step #562.20"
     ]
    },
    {
     "name": "stderr",
     "output_type": "stream",
     "text": [
      "Warning: Vehicle '2_left.10' performs emergency braking with decel=-9.00 wished=4.50 severity=1.00, time=561.80.\n",
      "Warning: Vehicle '2_left.10' performs emergency stop at the end of lane '2si_2' because of a red traffic light (decel=-14.63, offset=0.30), time=562.20.\n"
     ]
    },
    {
     "name": "stdout",
     "output_type": "stream",
     "text": [
      "Step #671.60"
     ]
    },
    {
     "name": "stderr",
     "output_type": "stream",
     "text": [
      "Warning: Vehicle '2_left.12' performs emergency braking with decel=-9.00 wished=4.50 severity=1.00, time=671.60.\n"
     ]
    },
    {
     "name": "stdout",
     "output_type": "stream",
     "text": [
      "Step #693.80"
     ]
    },
    {
     "name": "stderr",
     "output_type": "stream",
     "text": [
      "Warning: Vehicle '2_left0.10' performs emergency braking with decel=-9.00 wished=4.50 severity=1.00, time=693.80.\n",
      "Warning: Vehicle '2_left0.10' performs emergency stop at the end of lane '2si_2' because of a red traffic light (decel=-17.23, offset=1.13), time=693.80.\n"
     ]
    },
    {
     "name": "stdout",
     "output_type": "stream",
     "text": [
      "Step #697.00"
     ]
    },
    {
     "name": "stderr",
     "output_type": "stream",
     "text": [
      "Warning: Vehicle '1_right.16' performs emergency braking with decel=-9.00 wished=4.50 severity=1.00, time=697.00.\n"
     ]
    },
    {
     "name": "stdout",
     "output_type": "stream",
     "text": [
      "Step #760.00 (1ms ~"
     ]
    },
    {
     "name": "stderr",
     "output_type": "stream",
     "text": [
      "Warning: Vehicle '1_left.11' performs emergency braking with decel=-9.00 wished=4.50 severity=1.00, time=762.20.\n"
     ]
    },
    {
     "name": "stdout",
     "output_type": "stream",
     "text": [
      "Step #807.20 (0ms"
     ]
    },
    {
     "name": "stderr",
     "output_type": "stream",
     "text": [
      "Warning: Choosing new speed factor 1.24 for vehicle '1_horizontal0.38' to match departure speed.\n"
     ]
    },
    {
     "name": "stdout",
     "output_type": "stream",
     "text": [
      "Step #879.80"
     ]
    },
    {
     "name": "stderr",
     "output_type": "stream",
     "text": [
      "Warning: Vehicle '2_right.29' performs emergency braking with decel=-9.00 wished=4.50 severity=1.00, time=879.80.\n"
     ]
    },
    {
     "name": "stdout",
     "output_type": "stream",
     "text": [
      "Step #888.60"
     ]
    },
    {
     "name": "stderr",
     "output_type": "stream",
     "text": [
      "Warning: Vehicle '4_left.14' performs emergency braking with decel=-9.00 wished=4.50 severity=1.00, time=888.00.\n",
      "Warning: Vehicle '4_left.14' performs emergency stop at the end of lane '4si_1' because of a red traffic light (decel=-16.85, offset=0.57), time=888.60.\n"
     ]
    },
    {
     "name": "stdout",
     "output_type": "stream",
     "text": [
      "Step #913.00"
     ]
    },
    {
     "name": "stderr",
     "output_type": "stream",
     "text": [
      "Warning: Vehicle '2_right.30' performs emergency braking with decel=-9.00 wished=4.50 severity=1.00, time=913.00.\n"
     ]
    },
    {
     "name": "stdout",
     "output_type": "stream",
     "text": [
      "Step #933.20"
     ]
    },
    {
     "name": "stderr",
     "output_type": "stream",
     "text": [
      "Warning: Vehicle '2_left0.14' performs emergency braking with decel=-9.00 wished=4.50 severity=1.00, time=933.20.\n",
      "Warning: Vehicle '2_right.31' performs emergency braking with decel=-9.00 wished=4.50 severity=1.00, time=940.80.\n"
     ]
    },
    {
     "name": "stdout",
     "output_type": "stream",
     "text": [
      "Step #944.60"
     ]
    },
    {
     "name": "stderr",
     "output_type": "stream",
     "text": [
      "Warning: Vehicle '3_left.11' performs emergency braking with decel=-9.00 wished=4.50 severity=1.00, time=944.00.\n",
      "Warning: Vehicle '3_left.11' performs emergency stop at the end of lane '3si_1' because of a red traffic light (decel=-13.76, offset=0.50), time=944.60.\n",
      "Warning: Vehicle '2_left.17' performs emergency braking with decel=-9.00 wished=4.50 severity=1.00, time=949.40.\n",
      "Warning: Vehicle '2_left.17' performs emergency stop at the end of lane '2si_2' because of a red traffic light (decel=-10.87, offset=0.23), time=949.60.\n"
     ]
    },
    {
     "name": "stdout",
     "output_type": "stream",
     "text": [
      "Step #976.00"
     ]
    },
    {
     "name": "stderr",
     "output_type": "stream",
     "text": [
      "Warning: Choosing new speed factor 1.30 for vehicle '1_horizontal.65' to match departure speed.\n",
      "Warning: Vehicle '2_right.32' performs emergency braking with decel=-9.00 wished=4.50 severity=1.00, time=976.00.\n"
     ]
    },
    {
     "name": "stdout",
     "output_type": "stream",
     "text": [
      "Step #976.80"
     ]
    },
    {
     "name": "stderr",
     "output_type": "stream",
     "text": [
      "Warning: Vehicle '2_right.32' performs emergency stop at the end of lane '2si_0' because of a red traffic light (decel=-14.86, offset=0.85), time=976.80.\n"
     ]
    },
    {
     "name": "stdout",
     "output_type": "stream",
     "text": [
      "Step #994.80 (Cumulative Reward: -480.7204963755115\n",
      " Retrying in 1 seconds\n",
      "Loading configuration ... done.\n"
     ]
    },
    {
     "name": "stderr",
     "output_type": "stream",
     "text": [
      "Warning: Missing yellow phase in tlLogic '0', program '0' for tl-index 3 when switching to phase 0\n",
      "Warning: Missing yellow phase in tlLogic '0', program '1' for tl-index 5 when switching to phase 0\n",
      "Warning: Missing yellow phase in tlLogic '0', program '2' for tl-index 0 when switching to phase 0\n",
      "Warning: Missing yellow phase in tlLogic '0', program '3' for tl-index 2 when switching to phase 0\n"
     ]
    },
    {
     "name": "stdout",
     "output_type": "stream",
     "text": [
      "S"
     ]
    },
    {
     "name": "stderr",
     "output_type": "stream",
     "text": [
      "Warning: Vehicle '2_right.0' performs emergency braking with decel=-9.00 wished=4.50 severity=1.00, time=12.40.\n",
      "Warning: Vehicle '2_right.0' performs emergency stop at the end of lane '2si_0' because of a red traffic light (decel=-14.28, offset=0.94), time=12.40.\n",
      "Warning: Vehicle '1_right.0' performs emergency braking with decel=-9.00 wished=4.50 severity=1.00, time=12.40.\n",
      "Warning: Vehicle '2_left.0' performs emergency braking with decel=-9.00 wished=4.50 severity=1.00, time=13.60.\n",
      "Warning: Vehicle '1_left.0' performs emergency braking with decel=-9.00 wished=4.50 severity=1.00, time=13.60.\n",
      "Warning: Vehicle '2_left.0' performs emergency stop at the end of lane '2si_2' because of a red traffic light (decel=-18.14, offset=0.41), time=13.80.\n"
     ]
    },
    {
     "name": "stdout",
     "output_type": "stream",
     "text": [
      "Step #17.00"
     ]
    },
    {
     "name": "stderr",
     "output_type": "stream",
     "text": [
      "Warning: Vehicle '1_horizontal.0' performs emergency braking with decel=-9.00 wished=4.50 severity=1.00, time=17.00.\n",
      "Warning: Vehicle '1_horizontal.0' performs emergency stop at the end of lane '1si_1' because of a red traffic light (decel=-11.90, offset=0.03), time=17.00.\n"
     ]
    },
    {
     "name": "stdout",
     "output_type": "stream",
     "text": [
      "Step #28.00"
     ]
    },
    {
     "name": "stderr",
     "output_type": "stream",
     "text": [
      "Warning: Vehicle '2_horizontal.1' performs emergency braking with decel=-9.00 wished=4.50 severity=1.00, time=28.00.\n",
      "Warning: Vehicle '1_horizontal.1' performs emergency braking with decel=-9.00 wished=4.50 severity=1.00, time=28.00.\n",
      "Warning: Vehicle '1_horizontal.1' performs emergency stop at the end of lane '1si_1' because of a red traffic light (decel=-17.02, offset=1.11), time=28.00.\n",
      "Warning: Vehicle '2_horizontal.1' performs emergency stop at the end of lane '2si_1' because of a red traffic light (decel=-16.91, offset=0.32), time=28.40.\n"
     ]
    },
    {
     "name": "stdout",
     "output_type": "stream",
     "text": [
      "Step #37.40 "
     ]
    },
    {
     "name": "stderr",
     "output_type": "stream",
     "text": [
      "Warning: Vehicle '1_right.1' performs emergency braking with decel=-9.00 wished=4.50 severity=1.00, time=41.40.\n"
     ]
    },
    {
     "name": "stdout",
     "output_type": "stream",
     "text": [
      "Step #44.40"
     ]
    },
    {
     "name": "stderr",
     "output_type": "stream",
     "text": [
      "Warning: Vehicle '1_horizontal.2' performs emergency braking with decel=-9.00 wished=4.50 severity=1.00, time=44.40.\n"
     ]
    },
    {
     "name": "stdout",
     "output_type": "stream",
     "text": [
      "Step #53.00"
     ]
    },
    {
     "name": "stderr",
     "output_type": "stream",
     "text": [
      "Warning: Vehicle '3_vertical.0' performs emergency braking with decel=-9.00 wished=4.50 severity=1.00, time=52.60.\n",
      "Warning: Vehicle '3_vertical.0' performs emergency stop at the end of lane '3si_0' because of a red traffic light (decel=-17.09, offset=1.44), time=53.00.\n"
     ]
    },
    {
     "name": "stdout",
     "output_type": "stream",
     "text": [
      "Step #57.80"
     ]
    },
    {
     "name": "stderr",
     "output_type": "stream",
     "text": [
      "Warning: Vehicle '1_left.1' performs emergency braking with decel=-9.00 wished=4.50 severity=1.00, time=57.80.\n"
     ]
    },
    {
     "name": "stdout",
     "output_type": "stream",
     "text": [
      "Step #63.80"
     ]
    },
    {
     "name": "stderr",
     "output_type": "stream",
     "text": [
      "Warning: Vehicle '3_right.1' performs emergency braking with decel=-9.00 wished=4.50 severity=1.00, time=63.60.\n",
      "Warning: Vehicle '3_right.1' performs emergency stop at the end of lane '3si_0' because of a red traffic light (decel=-14.25, offset=0.72), time=63.80.\n"
     ]
    },
    {
     "name": "stdout",
     "output_type": "stream",
     "text": [
      "Step #67.80"
     ]
    },
    {
     "name": "stderr",
     "output_type": "stream",
     "text": [
      "Warning: Vehicle '2_left.1' performs emergency braking with decel=-9.00 wished=4.50 severity=1.00, time=67.40.\n",
      "Warning: Vehicle '2_left.1' performs emergency stop at the end of lane '2si_2' because of a red traffic light (decel=-16.58, offset=1.47), time=67.80.\n"
     ]
    },
    {
     "name": "stdout",
     "output_type": "stream",
     "text": [
      "Step #75.40"
     ]
    },
    {
     "name": "stderr",
     "output_type": "stream",
     "text": [
      "Warning: Vehicle '4_left.1' performs emergency braking with decel=-9.00 wished=4.50 severity=1.00, time=75.40.\n"
     ]
    },
    {
     "name": "stdout",
     "output_type": "stream",
     "text": [
      "Step #93.80"
     ]
    },
    {
     "name": "stderr",
     "output_type": "stream",
     "text": [
      "Warning: Vehicle '2_left0.0' performs emergency braking with decel=-9.00 wished=4.50 severity=1.00, time=93.40.\n",
      "Warning: Vehicle '2_left0.0' performs emergency stop at the end of lane '2si_2' because of a red traffic light (decel=-13.96, offset=0.50), time=93.80.\n"
     ]
    },
    {
     "name": "stdout",
     "output_type": "stream",
     "text": [
      "Step #103.40"
     ]
    },
    {
     "name": "stderr",
     "output_type": "stream",
     "text": [
      "Warning: Vehicle '1_left.2' performs emergency braking with decel=-9.00 wished=4.50 severity=1.00, time=103.40.\n"
     ]
    },
    {
     "name": "stdout",
     "output_type": "stream",
     "text": [
      "Step #123.00"
     ]
    },
    {
     "name": "stderr",
     "output_type": "stream",
     "text": [
      "Warning: Vehicle '3_left.2' performs emergency braking with decel=-9.00 wished=4.50 severity=1.00, time=123.00.\n",
      "Warning: Vehicle '4_left.2' performs emergency braking with decel=-9.00 wished=4.50 severity=1.00, time=123.00.\n"
     ]
    },
    {
     "name": "stdout",
     "output_type": "stream",
     "text": [
      "Step #163.00"
     ]
    },
    {
     "name": "stderr",
     "output_type": "stream",
     "text": [
      "Warning: Vehicle '2_right.5' performs emergency braking with decel=-9.00 wished=4.50 severity=1.00, time=162.40.\n",
      "Warning: Vehicle '1_right.5' performs emergency braking with decel=-9.00 wished=4.50 severity=1.00, time=162.40.\n",
      "Warning: Vehicle '2_right.5' performs emergency stop at the end of lane '2si_0' because of a red traffic light (decel=-13.97, offset=0.56), time=163.00.\n",
      "Warning: Vehicle '4_left.3' performs emergency braking with decel=-9.00 wished=4.50 severity=1.00, time=164.60.\n"
     ]
    },
    {
     "name": "stdout",
     "output_type": "stream",
     "text": [
      "Step #212.40"
     ]
    },
    {
     "name": "stderr",
     "output_type": "stream",
     "text": [
      "Warning: Vehicle '4_left.4' performs emergency braking with decel=-9.00 wished=4.50 severity=1.00, time=212.40.\n"
     ]
    },
    {
     "name": "stdout",
     "output_type": "stream",
     "text": [
      "Step #221.40 "
     ]
    },
    {
     "name": "stderr",
     "output_type": "stream",
     "text": [
      "Warning: Vehicle '2_right.7' performs emergency braking with decel=-9.00 wished=4.50 severity=1.00, time=223.00.\n",
      "Warning: Vehicle '1_right.7' performs emergency braking with decel=-9.00 wished=4.50 severity=1.00, time=223.00.\n",
      "Warning: Vehicle '2_right.7' performs emergency stop at the end of lane '2si_0' because of a red traffic light (decel=-9.53, offset=0.10), time=223.60.\n"
     ]
    },
    {
     "name": "stdout",
     "output_type": "stream",
     "text": [
      "Step #232.60 "
     ]
    },
    {
     "name": "stderr",
     "output_type": "stream",
     "text": [
      "Warning: Vehicle '1_left.5' performs emergency braking with decel=-9.00 wished=4.50 severity=1.00, time=236.00.\n",
      "Warning: Vehicle '1_left.5' performs emergency stop at the end of lane '1si_2' because of a red traffic light (decel=-13.14, offset=0.49), time=237.00.\n"
     ]
    },
    {
     "name": "stdout",
     "output_type": "stream",
     "text": [
      "Step #279.60"
     ]
    },
    {
     "name": "stderr",
     "output_type": "stream",
     "text": [
      "Warning: Vehicle '3_left.5' performs emergency braking with decel=-9.00 wished=4.50 severity=1.00, time=279.40.\n",
      "Warning: Vehicle '3_left.5' performs emergency stop at the end of lane '3si_1' because of a red traffic light (decel=-10.55, offset=0.29), time=279.60.\n"
     ]
    },
    {
     "name": "stdout",
     "output_type": "stream",
     "text": [
      "Step #282.80"
     ]
    },
    {
     "name": "stderr",
     "output_type": "stream",
     "text": [
      "Warning: Vehicle '3_vertical0.5' performs emergency braking with decel=-9.00 wished=4.50 severity=1.00, time=282.60.\n",
      "Warning: Vehicle '3_vertical0.5' performs emergency stop at the end of lane '3si_0' because of a red traffic light (decel=-13.26, offset=0.03), time=282.80.\n"
     ]
    },
    {
     "name": "stdout",
     "output_type": "stream",
     "text": [
      "Step #303.00"
     ]
    },
    {
     "name": "stderr",
     "output_type": "stream",
     "text": [
      "Warning: Vehicle '4_left.6' performs emergency braking with decel=-9.00 wished=4.50 severity=1.00, time=302.60.\n",
      "Warning: Vehicle '4_left.6' performs emergency stop at the end of lane '4si_1' because of a red traffic light (decel=-10.82, offset=0.23), time=303.00.\n"
     ]
    },
    {
     "name": "stdout",
     "output_type": "stream",
     "text": [
      "Step #372.20"
     ]
    },
    {
     "name": "stderr",
     "output_type": "stream",
     "text": [
      "Warning: Vehicle '2_right.12' performs emergency braking with decel=-9.00 wished=4.50 severity=1.00, time=371.20.\n",
      "Warning: Vehicle '2_right.12' performs emergency stop at the end of lane '2si_0' because of a red traffic light (decel=-18.02, offset=0.37), time=371.40.\n",
      "Warning: Vehicle '1_left.7' performs emergency braking with decel=-9.00 wished=4.50 severity=1.00, time=372.00.\n",
      "Warning: Vehicle '1_left.7' performs emergency stop at the end of lane '1si_2' because of a red traffic light (decel=-11.19, offset=0.26), time=372.20.\n",
      "Warning: Vehicle '1_right.11' performs emergency braking with decel=-9.00 wished=4.50 severity=1.00, time=379.80.\n",
      "Warning: Vehicle '1_right.11' performs emergency stop at the end of lane '1si_0' because of a red traffic light (decel=-16.99, offset=1.27), time=380.20.\n"
     ]
    },
    {
     "name": "stdout",
     "output_type": "stream",
     "text": [
      "Step #464.00"
     ]
    },
    {
     "name": "stderr",
     "output_type": "stream",
     "text": [
      "Warning: Vehicle '2_right.15' performs emergency braking with decel=-9.00 wished=4.50 severity=1.00, time=463.80.\n",
      "Warning: Vehicle '2_right.15' performs emergency stop at the end of lane '2si_0' because of a red traffic light (decel=-14.01, offset=0.98), time=464.00.\n"
     ]
    },
    {
     "name": "stdout",
     "output_type": "stream",
     "text": [
      "Step #491.00 (1"
     ]
    },
    {
     "name": "stderr",
     "output_type": "stream",
     "text": [
      "Warning: Choosing new speed factor 1.23 for vehicle '3_vertical0.22' to match departure speed.\n"
     ]
    },
    {
     "name": "stdout",
     "output_type": "stream",
     "text": [
      "Step #503.60"
     ]
    },
    {
     "name": "stderr",
     "output_type": "stream",
     "text": [
      "Warning: Vehicle '1_left.9' performs emergency braking with decel=-9.00 wished=4.50 severity=1.00, time=503.60.\n",
      "Warning: Vehicle '1_left.9' performs emergency stop at the end of lane '1si_2' because of a red traffic light (decel=-11.76, offset=0.07), time=503.60.\n"
     ]
    },
    {
     "name": "stdout",
     "output_type": "stream",
     "text": [
      "Step #521.60 ("
     ]
    },
    {
     "name": "stderr",
     "output_type": "stream",
     "text": [
      "Warning: Vehicle '2_right.17' performs emergency braking with decel=-9.00 wished=4.50 severity=1.00, time=523.20.\n",
      "Warning: Vehicle '1_right.14' performs emergency braking with decel=-9.00 wished=4.50 severity=1.00, time=523.20.\n",
      "Warning: Vehicle '2_right.17' performs emergency stop at the end of lane '2si_0' because of a red traffic light (decel=-14.42, offset=0.90), time=523.40.\n",
      "Warning: Vehicle '1_right.14' performs emergency stop at the end of lane '1si_0' because of a red traffic light (decel=-12.72, offset=0.33), time=524.00.\n"
     ]
    },
    {
     "name": "stdout",
     "output_type": "stream",
     "text": [
      "Step #545.80"
     ]
    },
    {
     "name": "stderr",
     "output_type": "stream",
     "text": [
      "Warning: Vehicle '3_left.8' performs emergency braking with decel=-9.00 wished=4.50 severity=1.00, time=545.80.\n"
     ]
    },
    {
     "name": "stdout",
     "output_type": "stream",
     "text": [
      "Step #572.80 (0"
     ]
    },
    {
     "name": "stderr",
     "output_type": "stream",
     "text": [
      "Warning: Vehicle '2_left0.8' performs emergency braking with decel=-9.00 wished=4.50 severity=1.00, time=578.80.\n",
      "Warning: Vehicle '2_left0.8' performs emergency stop at the end of lane '2si_2' because of a red traffic light (decel=-10.64, offset=0.29), time=579.00.\n"
     ]
    },
    {
     "name": "stdout",
     "output_type": "stream",
     "text": [
      "Step #613.00"
     ]
    },
    {
     "name": "stderr",
     "output_type": "stream",
     "text": [
      "Warning: Vehicle '2_right.20' performs emergency braking with decel=-9.00 wished=4.50 severity=1.00, time=613.00.\n",
      "Warning: Vehicle '2_left.11' performs emergency braking with decel=-9.00 wished=4.50 severity=1.00, time=618.00.\n",
      "Warning: Vehicle '2_left.11' performs emergency stop at the end of lane '2si_2' because of a red traffic light (decel=-12.25, offset=0.56), time=618.80.\n"
     ]
    },
    {
     "name": "stdout",
     "output_type": "stream",
     "text": [
      "Step #650.20"
     ]
    },
    {
     "name": "stderr",
     "output_type": "stream",
     "text": [
      "Warning: Vehicle '4_left.12' performs emergency braking with decel=-9.00 wished=4.50 severity=1.00, time=650.20.\n"
     ]
    },
    {
     "name": "stdout",
     "output_type": "stream",
     "text": [
      "Step #668.20 ("
     ]
    },
    {
     "name": "stderr",
     "output_type": "stream",
     "text": [
      "Warning: Vehicle '2_left.12' performs emergency braking with decel=-9.00 wished=4.50 severity=1.00, time=671.40.\n"
     ]
    },
    {
     "name": "stdout",
     "output_type": "stream",
     "text": [
      "Step #691.00"
     ]
    },
    {
     "name": "stderr",
     "output_type": "stream",
     "text": [
      "Warning: Vehicle '1_right.17' performs emergency braking with decel=-9.00 wished=4.50 severity=1.00, time=691.00.\n"
     ]
    },
    {
     "name": "stdout",
     "output_type": "stream",
     "text": [
      "Step #709.00 ("
     ]
    },
    {
     "name": "stderr",
     "output_type": "stream",
     "text": [
      "Warning: Vehicle '3_left.10' performs emergency braking with decel=-9.00 wished=4.50 severity=1.00, time=714.00.\n"
     ]
    },
    {
     "name": "stdout",
     "output_type": "stream",
     "text": [
      "Step #717.60"
     ]
    },
    {
     "name": "stderr",
     "output_type": "stream",
     "text": [
      "Warning: Vehicle '4_left.13' performs emergency braking with decel=-9.00 wished=4.50 severity=1.00, time=717.20.\n",
      "Warning: Vehicle '4_left.13' performs emergency stop at the end of lane '4si_1' because of a red traffic light (decel=-10.49, offset=0.20), time=717.60.\n"
     ]
    },
    {
     "name": "stdout",
     "output_type": "stream",
     "text": [
      "Step #807.60 (0ms ?*RT"
     ]
    },
    {
     "name": "stderr",
     "output_type": "stream",
     "text": [
      "Warning: Vehicle '3_left.11' performs emergency braking with decel=-9.00 wished=4.50 severity=1.00, time=809.20.\n",
      "Warning: Choosing new speed factor 1.24 for vehicle '1_horizontal0.38' to match departure speed.\n"
     ]
    },
    {
     "name": "stdout",
     "output_type": "stream",
     "text": [
      "Step #812.60"
     ]
    },
    {
     "name": "stderr",
     "output_type": "stream",
     "text": [
      "Warning: Vehicle '2_left0.12' performs emergency braking with decel=-9.00 wished=4.50 severity=1.00, time=812.00.\n",
      "Warning: Vehicle '2_left0.12' performs emergency stop at the end of lane '2si_2' because of a red traffic light (decel=-16.53, offset=0.49), time=812.60.\n"
     ]
    },
    {
     "name": "stdout",
     "output_type": "stream",
     "text": [
      "Step #815.80"
     ]
    },
    {
     "name": "stderr",
     "output_type": "stream",
     "text": [
      "Warning: Vehicle '1_right.18' performs emergency braking with decel=-9.00 wished=4.50 severity=1.00, time=815.00.\n",
      "Warning: Vehicle '1_right.18' performs emergency stop at the end of lane '1si_0' because of a red traffic light (decel=-14.00, offset=0.31), time=815.60.\n",
      "Warning: Vehicle '1_left.12' performs emergency braking with decel=-9.00 wished=4.50 severity=1.00, time=815.80.\n"
     ]
    },
    {
     "name": "stdout",
     "output_type": "stream",
     "text": [
      "Step #816.40"
     ]
    },
    {
     "name": "stderr",
     "output_type": "stream",
     "text": [
      "Warning: Vehicle '1_left.12' performs emergency stop at the end of lane '1si_2' because of a red traffic light (decel=-13.42, offset=0.64), time=816.40.\n"
     ]
    },
    {
     "name": "stdout",
     "output_type": "stream",
     "text": [
      "Step #837.80"
     ]
    },
    {
     "name": "stderr",
     "output_type": "stream",
     "text": [
      "Warning: Vehicle '2_left.15' performs emergency braking with decel=-9.00 wished=4.50 severity=1.00, time=837.40.\n",
      "Warning: Vehicle '2_left.15' performs emergency stop at the end of lane '2si_2' because of a red traffic light (decel=-14.56, offset=0.65), time=837.80.\n"
     ]
    },
    {
     "name": "stdout",
     "output_type": "stream",
     "text": [
      "Step #853.20"
     ]
    },
    {
     "name": "stderr",
     "output_type": "stream",
     "text": [
      "Warning: Vehicle '2_right.28' performs emergency braking with decel=-9.00 wished=4.50 severity=1.00, time=852.60.\n",
      "Warning: Vehicle '2_right.28' performs emergency stop at the end of lane '2si_0' because of a red traffic light (decel=-13.08, offset=0.35), time=853.20.\n"
     ]
    },
    {
     "name": "stdout",
     "output_type": "stream",
     "text": [
      "Step #880.60"
     ]
    },
    {
     "name": "stderr",
     "output_type": "stream",
     "text": [
      "Warning: Vehicle '2_right.29' performs emergency braking with decel=-9.00 wished=4.50 severity=1.00, time=880.60.\n"
     ]
    },
    {
     "name": "stdout",
     "output_type": "stream",
     "text": [
      "Step #892.00"
     ]
    },
    {
     "name": "stderr",
     "output_type": "stream",
     "text": [
      "Warning: Vehicle '2_left.16' performs emergency braking with decel=-9.00 wished=4.50 severity=1.00, time=891.20.\n",
      "Warning: Vehicle '2_left.16' performs emergency stop at the end of lane '2si_2' because of a red traffic light (decel=-14.82, offset=0.70), time=892.00.\n"
     ]
    },
    {
     "name": "stdout",
     "output_type": "stream",
     "text": [
      "Step #933.80"
     ]
    },
    {
     "name": "stderr",
     "output_type": "stream",
     "text": [
      "Warning: Vehicle '2_left0.14' performs emergency braking with decel=-9.00 wished=4.50 severity=1.00, time=933.80.\n",
      "Warning: Vehicle '2_left0.14' performs emergency stop at the end of lane '2si_2' because of a red traffic light (decel=-17.59, offset=1.50), time=933.80.\n"
     ]
    },
    {
     "name": "stdout",
     "output_type": "stream",
     "text": [
      "Step #946.60"
     ]
    },
    {
     "name": "stderr",
     "output_type": "stream",
     "text": [
      "Warning: Vehicle '2_left.17' performs emergency braking with decel=-9.00 wished=4.50 severity=1.00, time=946.60.\n"
     ]
    },
    {
     "name": "stdout",
     "output_type": "stream",
     "text": [
      "Step #973.60 (0"
     ]
    },
    {
     "name": "stderr",
     "output_type": "stream",
     "text": [
      "Warning: Choosing new speed factor 1.30 for vehicle '1_horizontal.65' to match departure speed.\n"
     ]
    },
    {
     "name": "stdout",
     "output_type": "stream",
     "text": [
      "Step #984.00 "
     ]
    },
    {
     "name": "stderr",
     "output_type": "stream",
     "text": [
      "Warning: Vehicle '4_left.16' performs emergency braking with decel=-9.00 wished=4.50 severity=1.00, time=986.80.\n"
     ]
    },
    {
     "name": "stdout",
     "output_type": "stream",
     "text": [
      "Step #995.80 Cumulative Reward: -465.7472116852793\n",
      " Retrying in 1 seconds\n",
      "Loading configuration ... done.\n",
      "----------------------------------\n",
      "| rollout/            |          |\n",
      "|    ep_len_mean      | 5e+03    |\n",
      "|    ep_rew_mean      | -464     |\n",
      "|    exploration_rate | 0.05     |\n",
      "| time/               |          |\n",
      "|    episodes         | 4        |\n",
      "|    fps              | 26       |\n",
      "|    time_elapsed     | 743      |\n",
      "|    total_timesteps  | 20000    |\n",
      "----------------------------------\n"
     ]
    },
    {
     "name": "stderr",
     "output_type": "stream",
     "text": [
      "Warning: Missing yellow phase in tlLogic '0', program '0' for tl-index 3 when switching to phase 0\n",
      "Warning: Missing yellow phase in tlLogic '0', program '1' for tl-index 5 when switching to phase 0\n",
      "Warning: Missing yellow phase in tlLogic '0', program '2' for tl-index 0 when switching to phase 0\n",
      "Warning: Missing yellow phase in tlLogic '0', program '3' for tl-index 2 when switching to phase 0\n"
     ]
    },
    {
     "name": "stdout",
     "output_type": "stream",
     "text": [
      "Step #12.00"
     ]
    },
    {
     "name": "stderr",
     "output_type": "stream",
     "text": [
      "Warning: Vehicle '2_right.0' performs emergency braking with decel=-9.00 wished=4.50 severity=1.00, time=12.00.\n",
      "Warning: Vehicle '1_right.0' performs emergency braking with decel=-9.00 wished=4.50 severity=1.00, time=12.00.\n"
     ]
    },
    {
     "name": "stdout",
     "output_type": "stream",
     "text": [
      "Step #13.80"
     ]
    },
    {
     "name": "stderr",
     "output_type": "stream",
     "text": [
      "Warning: Vehicle '2_left.0' performs emergency braking with decel=-9.00 wished=4.50 severity=1.00, time=13.80.\n",
      "Warning: Vehicle '1_left.0' performs emergency braking with decel=-9.00 wished=4.50 severity=1.00, time=13.80.\n"
     ]
    },
    {
     "name": "stdout",
     "output_type": "stream",
     "text": [
      "Step #33.60"
     ]
    },
    {
     "name": "stderr",
     "output_type": "stream",
     "text": [
      "Warning: Vehicle '3_right.0' performs emergency braking with decel=-9.00 wished=4.50 severity=1.00, time=32.40.\n",
      "Warning: Vehicle '4_right.0' performs emergency braking with decel=-9.00 wished=4.50 severity=1.00, time=32.40.\n",
      "Warning: Vehicle '3_left.0' performs emergency braking with decel=-9.00 wished=4.50 severity=1.00, time=33.60.\n",
      "Warning: Vehicle '4_left.0' performs emergency braking with decel=-9.00 wished=4.50 severity=1.00, time=33.60.\n",
      "Warning: Vehicle '3_left.0' performs emergency stop at the end of lane '3si_1' because of a red traffic light (decel=-17.56, offset=0.62), time=34.00.\n",
      "Warning: Vehicle '4_left.0' performs emergency stop at the end of lane '4si_1' because of a red traffic light (decel=-14.14, offset=0.21), time=34.40.\n"
     ]
    },
    {
     "name": "stdout",
     "output_type": "stream",
     "text": [
      "Step #41.80"
     ]
    },
    {
     "name": "stderr",
     "output_type": "stream",
     "text": [
      "Warning: Vehicle '1_right.1' performs emergency braking with decel=-9.00 wished=4.50 severity=1.00, time=41.80.\n"
     ]
    },
    {
     "name": "stdout",
     "output_type": "stream",
     "text": [
      "Step #58.80"
     ]
    },
    {
     "name": "stderr",
     "output_type": "stream",
     "text": [
      "Warning: Vehicle '1_left.1' performs emergency braking with decel=-9.00 wished=4.50 severity=1.00, time=58.40.\n",
      "Warning: Vehicle '1_left.1' performs emergency stop at the end of lane '1si_2' because of a red traffic light (decel=-15.05, offset=0.16), time=58.80.\n"
     ]
    },
    {
     "name": "stdout",
     "output_type": "stream",
     "text": [
      "Step #76.80"
     ]
    },
    {
     "name": "stderr",
     "output_type": "stream",
     "text": [
      "Warning: Vehicle '4_left.1' performs emergency braking with decel=-9.00 wished=4.50 severity=1.00, time=76.00.\n",
      "Warning: Vehicle '4_left.1' performs emergency stop at the end of lane '4si_1' because of a red traffic light (decel=-15.60, offset=0.24), time=76.80.\n"
     ]
    },
    {
     "name": "stdout",
     "output_type": "stream",
     "text": [
      "Step #102.60"
     ]
    },
    {
     "name": "stderr",
     "output_type": "stream",
     "text": [
      "Warning: Vehicle '1_left.2' performs emergency braking with decel=-9.00 wished=4.50 severity=1.00, time=102.60.\n"
     ]
    },
    {
     "name": "stdout",
     "output_type": "stream",
     "text": [
      "Step #106.20"
     ]
    },
    {
     "name": "stderr",
     "output_type": "stream",
     "text": [
      "Warning: Vehicle '1_right.2' performs emergency braking with decel=-9.00 wished=4.50 severity=1.00, time=106.00.\n",
      "Warning: Vehicle '1_right.2' performs emergency stop at the end of lane '1si_0' because of a red traffic light (decel=-13.42, offset=0.75), time=106.20.\n"
     ]
    },
    {
     "name": "stdout",
     "output_type": "stream",
     "text": [
      "Step #123.60"
     ]
    },
    {
     "name": "stderr",
     "output_type": "stream",
     "text": [
      "Warning: Vehicle '3_left.2' performs emergency braking with decel=-9.00 wished=4.50 severity=1.00, time=123.60.\n",
      "Warning: Vehicle '4_left.2' performs emergency braking with decel=-9.00 wished=4.50 severity=1.00, time=123.60.\n"
     ]
    },
    {
     "name": "stdout",
     "output_type": "stream",
     "text": [
      "Step #145.60"
     ]
    },
    {
     "name": "stderr",
     "output_type": "stream",
     "text": [
      "Warning: Vehicle '1_left.3' performs emergency braking with decel=-9.00 wished=4.50 severity=1.00, time=145.60.\n"
     ]
    },
    {
     "name": "stdout",
     "output_type": "stream",
     "text": [
      "Step #152.00"
     ]
    },
    {
     "name": "stderr",
     "output_type": "stream",
     "text": [
      "Warning: Vehicle '2_horizontal.6' performs emergency braking with decel=-9.00 wished=4.50 severity=1.00, time=152.00.\n",
      "Warning: Vehicle '2_horizontal.6' performs emergency stop at the end of lane '2si_1' because of a red traffic light (decel=-14.70, offset=1.10), time=152.00.\n"
     ]
    },
    {
     "name": "stdout",
     "output_type": "stream",
     "text": [
      "Step #166.20"
     ]
    },
    {
     "name": "stderr",
     "output_type": "stream",
     "text": [
      "Warning: Vehicle '4_left.3' performs emergency braking with decel=-9.00 wished=4.50 severity=1.00, time=166.20.\n",
      "Warning: Vehicle '4_left.3' performs emergency stop at the end of lane '4si_1' because of a red traffic light (decel=-18.71, offset=0.11), time=166.20.\n"
     ]
    },
    {
     "name": "stdout",
     "output_type": "stream",
     "text": [
      "Step #175.20 "
     ]
    },
    {
     "name": "stderr",
     "output_type": "stream",
     "text": [
      "Warning: Vehicle '2_left.3' performs emergency braking with decel=-9.00 wished=4.50 severity=1.00, time=177.20.\n",
      "Warning: Vehicle '2_left.3' performs emergency stop at the end of lane '2si_2' because of a red traffic light (decel=-15.87, offset=0.10), time=177.20.\n"
     ]
    },
    {
     "name": "stdout",
     "output_type": "stream",
     "text": [
      "Step #203.60"
     ]
    },
    {
     "name": "stderr",
     "output_type": "stream",
     "text": [
      "Warning: Vehicle '1_horizontal0.2' performs emergency braking with decel=-9.00 wished=4.50 severity=1.00, time=203.60.\n",
      "Warning: Vehicle '1_horizontal0.2' performs emergency stop at the end of lane '1si_1' because of a red traffic light (decel=-11.64, offset=0.09), time=203.60.\n"
     ]
    },
    {
     "name": "stdout",
     "output_type": "stream",
     "text": [
      "Step #211.60"
     ]
    },
    {
     "name": "stderr",
     "output_type": "stream",
     "text": [
      "Warning: Vehicle '3_left.4' performs emergency braking with decel=-9.00 wished=4.50 severity=1.00, time=211.60.\n",
      "Warning: Vehicle '4_left.4' performs emergency braking with decel=-9.00 wished=4.50 severity=1.00, time=211.60.\n"
     ]
    },
    {
     "name": "stdout",
     "output_type": "stream",
     "text": [
      "Step #233.60"
     ]
    },
    {
     "name": "stderr",
     "output_type": "stream",
     "text": [
      "Warning: Vehicle '2_left.4' performs emergency braking with decel=-9.00 wished=4.50 severity=1.00, time=233.40.\n",
      "Warning: Vehicle '2_left.4' performs emergency stop at the end of lane '2si_2' because of a red traffic light (decel=-17.29, offset=1.14), time=233.60.\n"
     ]
    },
    {
     "name": "stdout",
     "output_type": "stream",
     "text": [
      "Step #252.80"
     ]
    },
    {
     "name": "stderr",
     "output_type": "stream",
     "text": [
      "Warning: Vehicle '2_right.8' performs emergency braking with decel=-9.00 wished=4.50 severity=1.00, time=252.80.\n",
      "Warning: Vehicle '1_right.8' performs emergency braking with decel=-9.00 wished=4.50 severity=1.00, time=252.80.\n",
      "Warning: Vehicle '1_right.8' performs emergency stop at the end of lane '1si_0' because of a red traffic light (decel=-14.56, offset=0.50), time=253.20.\n",
      "Warning: Vehicle '2_right.8' performs emergency stop at the end of lane '2si_0' because of a red traffic light (decel=-11.53, offset=0.30), time=253.80.\n"
     ]
    },
    {
     "name": "stdout",
     "output_type": "stream",
     "text": [
      "Step #300.80"
     ]
    },
    {
     "name": "stderr",
     "output_type": "stream",
     "text": [
      "Warning: Vehicle '4_left.6' performs emergency braking with decel=-9.00 wished=4.50 severity=1.00, time=300.80.\n"
     ]
    },
    {
     "name": "stdout",
     "output_type": "stream",
     "text": [
      "Step #311.00"
     ]
    },
    {
     "name": "stderr",
     "output_type": "stream",
     "text": [
      "Warning: Vehicle '2_right.10' performs emergency braking with decel=-9.00 wished=4.50 severity=1.00, time=311.00.\n"
     ]
    },
    {
     "name": "stdout",
     "output_type": "stream",
     "text": [
      "Step #343.80"
     ]
    },
    {
     "name": "stderr",
     "output_type": "stream",
     "text": [
      "Warning: Vehicle '2_left.6' performs emergency braking with decel=-9.00 wished=4.50 severity=1.00, time=343.80.\n"
     ]
    },
    {
     "name": "stdout",
     "output_type": "stream",
     "text": [
      "Step #347.20"
     ]
    },
    {
     "name": "stderr",
     "output_type": "stream",
     "text": [
      "Warning: Vehicle '4_left.7' performs emergency braking with decel=-9.00 wished=4.50 severity=1.00, time=347.20.\n",
      "Warning: Vehicle '4_left.7' performs emergency stop at the end of lane '4si_1' because of a red traffic light (decel=-21.12, offset=1.01), time=347.20.\n"
     ]
    },
    {
     "name": "stdout",
     "output_type": "stream",
     "text": [
      "Step #352.40"
     ]
    },
    {
     "name": "stderr",
     "output_type": "stream",
     "text": [
      "Warning: Vehicle '1_horizontal0.6' performs emergency braking with decel=-9.00 wished=4.50 severity=1.00, time=352.20.\n",
      "Warning: Vehicle '1_horizontal0.6' performs emergency stop at the end of lane '1si_1' because of a red traffic light (decel=-11.34, offset=0.00), time=352.40.\n"
     ]
    },
    {
     "name": "stdout",
     "output_type": "stream",
     "text": [
      "Step #415.40 (0ms ?"
     ]
    },
    {
     "name": "stderr",
     "output_type": "stream",
     "text": [
      "Warning: Vehicle '1_right.11' performs emergency braking with decel=-9.00 wished=4.50 severity=1.00, time=420.60.\n",
      "Warning: Vehicle '1_right.11' performs emergency stop at the end of lane '1si_0' because of a red traffic light (decel=-15.58, offset=0.51), time=420.60.\n"
     ]
    },
    {
     "name": "stdout",
     "output_type": "stream",
     "text": [
      "Step #452.80"
     ]
    },
    {
     "name": "stderr",
     "output_type": "stream",
     "text": [
      "Warning: Vehicle '2_left.8' performs emergency braking with decel=-9.00 wished=4.50 severity=1.00, time=452.20.\n",
      "Warning: Vehicle '2_left.8' performs emergency stop at the end of lane '2si_2' because of a red traffic light (decel=-13.28, offset=0.65), time=452.80.\n"
     ]
    },
    {
     "name": "stdout",
     "output_type": "stream",
     "text": [
      "Step #497.80 (0ms"
     ]
    },
    {
     "name": "stderr",
     "output_type": "stream",
     "text": [
      "Warning: Choosing new speed factor 1.23 for vehicle '3_vertical0.22' to match departure speed.\n",
      "Warning: Vehicle '1_right.12' performs emergency braking with decel=-9.00 wished=4.50 severity=1.00, time=500.60.\n"
     ]
    },
    {
     "name": "stdout",
     "output_type": "stream",
     "text": [
      "Step #562.00"
     ]
    },
    {
     "name": "stderr",
     "output_type": "stream",
     "text": [
      "Warning: Vehicle '2_left.10' performs emergency braking with decel=-9.00 wished=4.50 severity=1.00, time=562.00.\n",
      "Warning: Vehicle '2_left.10' performs emergency stop at the end of lane '2si_2' because of a red traffic light (decel=-18.12, offset=0.58), time=562.00.\n",
      "Warning: Vehicle '4_left.10' performs emergency braking with decel=-9.00 wished=4.50 severity=1.00, time=563.60.\n",
      "Warning: Vehicle '4_left.10' performs emergency stop at the end of lane '4si_1' because of a red traffic light (decel=-13.11, offset=0.23), time=564.40.\n"
     ]
    },
    {
     "name": "stdout",
     "output_type": "stream",
     "text": [
      "Step #564.40"
     ]
    },
    {
     "name": "stderr",
     "output_type": "stream",
     "text": [
      "Warning: Vehicle '1_left.9' performs emergency braking with decel=-9.00 wished=4.50 severity=1.00, time=565.20.\n"
     ]
    },
    {
     "name": "stdout",
     "output_type": "stream",
     "text": [
      "Step #573.80"
     ]
    },
    {
     "name": "stderr",
     "output_type": "stream",
     "text": [
      "Warning: Vehicle '2_left0.8' performs emergency braking with decel=-9.00 wished=4.50 severity=1.00, time=573.80.\n",
      "Warning: Vehicle '2_left0.8' performs emergency stop at the end of lane '2si_2' because of a red traffic light (decel=-13.97, offset=0.81), time=573.80.\n"
     ]
    },
    {
     "name": "stdout",
     "output_type": "stream",
     "text": [
      "Step #583.60"
     ]
    },
    {
     "name": "stderr",
     "output_type": "stream",
     "text": [
      "Warning: Vehicle '2_right.19' performs emergency braking with decel=-9.00 wished=4.50 severity=1.00, time=583.60.\n",
      "Warning: Vehicle '1_right.14' performs emergency braking with decel=-9.00 wished=4.50 severity=1.00, time=588.20.\n"
     ]
    },
    {
     "name": "stdout",
     "output_type": "stream",
     "text": [
      "Step #611.80"
     ]
    },
    {
     "name": "stderr",
     "output_type": "stream",
     "text": [
      "Warning: Vehicle '2_right.20' performs emergency braking with decel=-9.00 wished=4.50 severity=1.00, time=611.80.\n"
     ]
    },
    {
     "name": "stdout",
     "output_type": "stream",
     "text": [
      "Step #655.20"
     ]
    },
    {
     "name": "stderr",
     "output_type": "stream",
     "text": [
      "Warning: Vehicle '1_right.15' performs emergency braking with decel=-9.00 wished=4.50 severity=1.00, time=655.20.\n"
     ]
    },
    {
     "name": "stdout",
     "output_type": "stream",
     "text": [
      "Step #656.60"
     ]
    },
    {
     "name": "stderr",
     "output_type": "stream",
     "text": [
      "Warning: Vehicle '1_left.10' performs emergency braking with decel=-9.00 wished=4.50 severity=1.00, time=656.60.\n"
     ]
    },
    {
     "name": "stdout",
     "output_type": "stream",
     "text": [
      "Step #763.00"
     ]
    },
    {
     "name": "stderr",
     "output_type": "stream",
     "text": [
      "Warning: Vehicle '2_right.25' performs emergency braking with decel=-9.00 wished=4.50 severity=1.00, time=762.60.\n",
      "Warning: Vehicle '2_right.25' performs emergency stop at the end of lane '2si_0' because of a red traffic light (decel=-14.58, offset=0.27), time=763.00.\n"
     ]
    },
    {
     "name": "stdout",
     "output_type": "stream",
     "text": [
      "Step #789.40"
     ]
    },
    {
     "name": "stderr",
     "output_type": "stream",
     "text": [
      "Warning: Vehicle '1_left.11' performs emergency braking with decel=-9.00 wished=4.50 severity=1.00, time=789.40.\n"
     ]
    },
    {
     "name": "stdout",
     "output_type": "stream",
     "text": [
      "Step #807.40 ("
     ]
    },
    {
     "name": "stderr",
     "output_type": "stream",
     "text": [
      "Warning: Choosing new speed factor 1.24 for vehicle '1_horizontal0.38' to match departure speed.\n"
     ]
    },
    {
     "name": "stdout",
     "output_type": "stream",
     "text": [
      "Step #891.00 (0ms ?*R"
     ]
    },
    {
     "name": "stderr",
     "output_type": "stream",
     "text": [
      "Warning: Vehicle '4_left.14' performs emergency braking with decel=-9.00 wished=4.50 severity=1.00, time=899.60.\n",
      "Warning: Vehicle '4_left.14' performs emergency stop at the end of lane '4si_1' because of a red traffic light (decel=-18.65, offset=1.39), time=900.00.\n"
     ]
    },
    {
     "name": "stdout",
     "output_type": "stream",
     "text": [
      "Step #906.60"
     ]
    },
    {
     "name": "stderr",
     "output_type": "stream",
     "text": [
      "Warning: Vehicle '2_right.29' performs emergency braking with decel=-9.00 wished=4.50 severity=1.00, time=905.60.\n",
      "Warning: Vehicle '2_left0.13' performs emergency braking with decel=-9.00 wished=4.50 severity=1.00, time=906.60.\n"
     ]
    },
    {
     "name": "stdout",
     "output_type": "stream",
     "text": [
      "Step #906.80"
     ]
    },
    {
     "name": "stderr",
     "output_type": "stream",
     "text": [
      "Warning: Vehicle '2_left0.13' performs emergency stop at the end of lane '2si_2' because of a red traffic light (decel=-15.12, offset=0.63), time=906.80.\n"
     ]
    },
    {
     "name": "stdout",
     "output_type": "stream",
     "text": [
      "Step #951.80"
     ]
    },
    {
     "name": "stderr",
     "output_type": "stream",
     "text": [
      "Warning: Vehicle '3_left.12' performs emergency braking with decel=-9.00 wished=4.50 severity=1.00, time=951.80.\n",
      "Warning: Vehicle '3_left.12' performs emergency stop at the end of lane '3si_1' because of a red traffic light (decel=-10.29, offset=0.02), time=953.00.\n"
     ]
    },
    {
     "name": "stdout",
     "output_type": "stream",
     "text": [
      "Step #971.00 ("
     ]
    },
    {
     "name": "stderr",
     "output_type": "stream",
     "text": [
      "Warning: Choosing new speed factor 1.30 for vehicle '1_horizontal.65' to match departure speed.\n"
     ]
    },
    {
     "name": "stdout",
     "output_type": "stream",
     "text": [
      "Step #993.00 (Cumulative Reward: -490.07198238664034\n",
      " Retrying in 1 seconds\n",
      "Loading configuration ... done.\n"
     ]
    },
    {
     "name": "stderr",
     "output_type": "stream",
     "text": [
      "Warning: Missing yellow phase in tlLogic '0', program '0' for tl-index 3 when switching to phase 0\n",
      "Warning: Missing yellow phase in tlLogic '0', program '1' for tl-index 5 when switching to phase 0\n",
      "Warning: Missing yellow phase in tlLogic '0', program '2' for tl-index 0 when switching to phase 0\n",
      "Warning: Missing yellow phase in tlLogic '0', program '3' for tl-index 2 when switching to phase 0\n"
     ]
    },
    {
     "name": "stdout",
     "output_type": "stream",
     "text": [
      "Step #9.80"
     ]
    },
    {
     "name": "stderr",
     "output_type": "stream",
     "text": [
      "Warning: Vehicle '2_right.0' performs emergency braking with decel=-9.00 wished=4.50 severity=1.00, time=9.80.\n",
      "Warning: Vehicle '1_right.0' performs emergency braking with decel=-9.00 wished=4.50 severity=1.00, time=13.80.\n",
      "Warning: Vehicle '1_right.0' performs emergency stop at the end of lane '1si_0' because of a red traffic light (decel=-11.87, offset=0.03), time=14.00.\n",
      "Warning: Vehicle '2_left.0' performs emergency braking with decel=-9.00 wished=4.50 severity=1.00, time=14.60.\n",
      "Warning: Vehicle '1_left.0' performs emergency braking with decel=-9.00 wished=4.50 severity=1.00, time=14.60.\n",
      "Warning: Vehicle '2_left.0' performs emergency stop at the end of lane '2si_2' because of a red traffic light (decel=-11.01, offset=0.36), time=14.80.\n"
     ]
    },
    {
     "name": "stdout",
     "output_type": "stream",
     "text": [
      "Step #52.80"
     ]
    },
    {
     "name": "stderr",
     "output_type": "stream",
     "text": [
      "Warning: Vehicle '3_vertical.0' performs emergency braking with decel=-9.00 wished=4.50 severity=1.00, time=52.60.\n",
      "Warning: Vehicle '4_vertical.0' performs emergency braking with decel=-9.00 wished=4.50 severity=1.00, time=52.60.\n",
      "Warning: Vehicle '4_vertical.0' performs emergency stop at the end of lane '4si_0' because of a red traffic light (decel=-11.24, offset=0.02), time=52.80.\n"
     ]
    },
    {
     "name": "stdout",
     "output_type": "stream",
     "text": [
      "Step #73.40"
     ]
    },
    {
     "name": "stderr",
     "output_type": "stream",
     "text": [
      "Warning: Vehicle '4_right.1' performs emergency braking with decel=-9.00 wished=4.50 severity=1.00, time=73.40.\n",
      "Warning: Vehicle '4_right.1' performs emergency stop at the end of lane '4si_0' because of a red traffic light (decel=-12.19, offset=0.07), time=73.40.\n"
     ]
    },
    {
     "name": "stdout",
     "output_type": "stream",
     "text": [
      "Step #130.20"
     ]
    },
    {
     "name": "stderr",
     "output_type": "stream",
     "text": [
      "Warning: Vehicle '2_right.4' performs emergency braking with decel=-9.00 wished=4.50 severity=1.00, time=130.20.\n"
     ]
    },
    {
     "name": "stdout",
     "output_type": "stream",
     "text": [
      "Step #134.40"
     ]
    },
    {
     "name": "stderr",
     "output_type": "stream",
     "text": [
      "Warning: Vehicle '1_right.4' performs emergency braking with decel=-9.00 wished=4.50 severity=1.00, time=133.80.\n",
      "Warning: Vehicle '1_right.4' performs emergency stop at the end of lane '1si_0' because of a red traffic light (decel=-9.50, offset=0.02), time=134.40.\n"
     ]
    },
    {
     "name": "stdout",
     "output_type": "stream",
     "text": [
      "Step #167.20"
     ]
    },
    {
     "name": "stderr",
     "output_type": "stream",
     "text": [
      "Warning: Vehicle '3_left.3' performs emergency braking with decel=-9.00 wished=4.50 severity=1.00, time=167.00.\n",
      "Warning: Vehicle '4_left.3' performs emergency braking with decel=-9.00 wished=4.50 severity=1.00, time=167.00.\n",
      "Warning: Vehicle '4_left.3' performs emergency stop at the end of lane '4si_1' because of a red traffic light (decel=-10.40, offset=0.16), time=167.20.\n"
     ]
    },
    {
     "name": "stdout",
     "output_type": "stream",
     "text": [
      "Step #194.40"
     ]
    },
    {
     "name": "stderr",
     "output_type": "stream",
     "text": [
      "Warning: Vehicle '2_right.6' performs emergency braking with decel=-9.00 wished=4.50 severity=1.00, time=193.00.\n",
      "Warning: Vehicle '2_right.6' performs emergency stop at the end of lane '2si_0' because of a red traffic light (decel=-14.03, offset=0.58), time=193.00.\n",
      "Warning: Vehicle '1_right.6' performs emergency braking with decel=-9.00 wished=4.50 severity=1.00, time=193.00.\n",
      "Warning: Vehicle '1_right.6' performs emergency stop at the end of lane '1si_0' because of a red traffic light (decel=-12.86, offset=0.36), time=193.80.\n",
      "Warning: Vehicle '1_left.4' performs emergency braking with decel=-9.00 wished=4.50 severity=1.00, time=194.40.\n"
     ]
    },
    {
     "name": "stdout",
     "output_type": "stream",
     "text": [
      "Step #194.60"
     ]
    },
    {
     "name": "stderr",
     "output_type": "stream",
     "text": [
      "Warning: Vehicle '1_left.4' performs emergency stop at the end of lane '1si_2' because of a red traffic light (decel=-16.42, offset=1.17), time=194.60.\n"
     ]
    },
    {
     "name": "stdout",
     "output_type": "stream",
     "text": [
      "Step #213.60"
     ]
    },
    {
     "name": "stderr",
     "output_type": "stream",
     "text": [
      "Warning: Vehicle '3_left.4' performs emergency braking with decel=-9.00 wished=4.50 severity=1.00, time=213.60.\n",
      "Warning: Vehicle '3_left.4' performs emergency stop at the end of lane '3si_1' because of a red traffic light (decel=-13.56, offset=0.43), time=213.60.\n"
     ]
    },
    {
     "name": "stdout",
     "output_type": "stream",
     "text": [
      "Step #272.80"
     ]
    },
    {
     "name": "stderr",
     "output_type": "stream",
     "text": [
      "Warning: Vehicle '2_left0.3' performs emergency braking with decel=-9.00 wished=4.50 severity=1.00, time=272.40.\n",
      "Warning: Vehicle '2_left0.3' performs emergency stop at the end of lane '2si_2' because of a red traffic light (decel=-13.96, offset=0.33), time=272.80.\n"
     ]
    },
    {
     "name": "stdout",
     "output_type": "stream",
     "text": [
      "Step #344.20"
     ]
    },
    {
     "name": "stderr",
     "output_type": "stream",
     "text": [
      "Warning: Vehicle '2_left.6' performs emergency braking with decel=-9.00 wished=4.50 severity=1.00, time=344.20.\n"
     ]
    },
    {
     "name": "stdout",
     "output_type": "stream",
     "text": [
      "Step #371.80"
     ]
    },
    {
     "name": "stderr",
     "output_type": "stream",
     "text": [
      "Warning: Vehicle '2_right.12' performs emergency braking with decel=-9.00 wished=4.50 severity=1.00, time=371.80.\n",
      "Warning: Vehicle '2_right.12' performs emergency stop at the end of lane '2si_0' because of a red traffic light (decel=-17.06, offset=1.11), time=371.80.\n"
     ]
    },
    {
     "name": "stdout",
     "output_type": "stream",
     "text": [
      "Step #397.20"
     ]
    },
    {
     "name": "stderr",
     "output_type": "stream",
     "text": [
      "Warning: Vehicle '2_left.7' performs emergency braking with decel=-9.00 wished=4.50 severity=1.00, time=397.20.\n"
     ]
    },
    {
     "name": "stdout",
     "output_type": "stream",
     "text": [
      "Step #406.20 "
     ]
    },
    {
     "name": "stderr",
     "output_type": "stream",
     "text": [
      "Warning: Vehicle '1_left.7' performs emergency braking with decel=-9.00 wished=4.50 severity=1.00, time=410.40.\n",
      "Warning: Vehicle '1_left.7' performs emergency stop at the end of lane '1si_2' because of a red traffic light (decel=-19.77, offset=1.67), time=410.60.\n"
     ]
    },
    {
     "name": "stdout",
     "output_type": "stream",
     "text": [
      "Step #428.60 ("
     ]
    },
    {
     "name": "stderr",
     "output_type": "stream",
     "text": [
      "Warning: Vehicle '2_right.14' performs emergency braking with decel=-9.00 wished=4.50 severity=1.00, time=432.80.\n",
      "Warning: Vehicle '2_right.14' performs emergency stop at the end of lane '2si_0' because of a red traffic light (decel=-11.47, offset=0.07), time=433.00.\n"
     ]
    },
    {
     "name": "stdout",
     "output_type": "stream",
     "text": [
      "Step #477.60"
     ]
    },
    {
     "name": "stderr",
     "output_type": "stream",
     "text": [
      "Warning: Vehicle '3_left.8' performs emergency braking with decel=-9.00 wished=4.50 severity=1.00, time=477.60.\n",
      "Warning: Vehicle '4_left.10' performs emergency braking with decel=-9.00 wished=4.50 severity=1.00, time=481.60.\n"
     ]
    },
    {
     "name": "stdout",
     "output_type": "stream",
     "text": [
      "Step #488.00"
     ]
    },
    {
     "name": "stderr",
     "output_type": "stream",
     "text": [
      "Warning: Vehicle '1_left.8' performs emergency braking with decel=-9.00 wished=4.50 severity=1.00, time=488.00.\n",
      "Warning: Vehicle '1_left.8' performs emergency stop at the end of lane '1si_2' because of a red traffic light (decel=-12.00, offset=0.09), time=488.00.\n"
     ]
    },
    {
     "name": "stdout",
     "output_type": "stream",
     "text": [
      "Step #500.00"
     ]
    },
    {
     "name": "stderr",
     "output_type": "stream",
     "text": [
      "Warning: Choosing new speed factor 1.23 for vehicle '3_vertical0.22' to match departure speed.\n"
     ]
    },
    {
     "name": "stdout",
     "output_type": "stream",
     "text": [
      "Step #549.80"
     ]
    },
    {
     "name": "stderr",
     "output_type": "stream",
     "text": [
      "Warning: Vehicle '4_left.11' performs emergency braking with decel=-9.00 wished=4.50 severity=1.00, time=549.80.\n"
     ]
    },
    {
     "name": "stdout",
     "output_type": "stream",
     "text": [
      "Step #603.80 (1ms "
     ]
    },
    {
     "name": "stderr",
     "output_type": "stream",
     "text": [
      "Warning: Vehicle '1_right.14' performs emergency braking with decel=-9.00 wished=4.50 severity=1.00, time=608.40.\n",
      "Warning: Vehicle '1_right.14' performs emergency stop at the end of lane '1si_0' because of a red traffic light (decel=-10.87, offset=0.13), time=608.80.\n"
     ]
    },
    {
     "name": "stdout",
     "output_type": "stream",
     "text": [
      "Step #632.00"
     ]
    },
    {
     "name": "stderr",
     "output_type": "stream",
     "text": [
      "Warning: Vehicle '4_left.12' performs emergency braking with decel=-9.00 wished=4.50 severity=1.00, time=631.40.\n",
      "Warning: Vehicle '4_left.12' performs emergency stop at the end of lane '4si_1' because of a red traffic light (decel=-14.12, offset=0.50), time=632.00.\n"
     ]
    },
    {
     "name": "stdout",
     "output_type": "stream",
     "text": [
      "Step #641.20"
     ]
    },
    {
     "name": "stderr",
     "output_type": "stream",
     "text": [
      "Warning: Vehicle '2_right.21' performs emergency braking with decel=-9.00 wished=4.50 severity=1.00, time=641.20.\n"
     ]
    },
    {
     "name": "stdout",
     "output_type": "stream",
     "text": [
      "Step #671.60"
     ]
    },
    {
     "name": "stderr",
     "output_type": "stream",
     "text": [
      "Warning: Vehicle '2_left.12' performs emergency braking with decel=-9.00 wished=4.50 severity=1.00, time=671.60.\n"
     ]
    },
    {
     "name": "stdout",
     "output_type": "stream",
     "text": [
      "Step #709.20"
     ]
    },
    {
     "name": "stderr",
     "output_type": "stream",
     "text": [
      "Warning: Vehicle '4_left.13' performs emergency braking with decel=-9.00 wished=4.50 severity=1.00, time=709.00.\n",
      "Warning: Vehicle '4_left.13' performs emergency stop at the end of lane '4si_1' because of a red traffic light (decel=-14.72, offset=0.83), time=709.20.\n"
     ]
    },
    {
     "name": "stdout",
     "output_type": "stream",
     "text": [
      "Step #758.80"
     ]
    },
    {
     "name": "stderr",
     "output_type": "stream",
     "text": [
      "Warning: Vehicle '4_left.14' performs emergency braking with decel=-9.00 wished=4.50 severity=1.00, time=758.80.\n"
     ]
    },
    {
     "name": "stdout",
     "output_type": "stream",
     "text": [
      "Step #810.00"
     ]
    },
    {
     "name": "stderr",
     "output_type": "stream",
     "text": [
      "Warning: Choosing new speed factor 1.24 for vehicle '1_horizontal0.38' to match departure speed.\n"
     ]
    },
    {
     "name": "stdout",
     "output_type": "stream",
     "text": [
      "Step #830.60"
     ]
    },
    {
     "name": "stderr",
     "output_type": "stream",
     "text": [
      "Warning: Vehicle '1_left.11' performs emergency braking with decel=-9.00 wished=4.50 severity=1.00, time=830.60.\n"
     ]
    },
    {
     "name": "stdout",
     "output_type": "stream",
     "text": [
      "Step #873.20"
     ]
    },
    {
     "name": "stderr",
     "output_type": "stream",
     "text": [
      "Warning: Vehicle '1_right.17' performs emergency braking with decel=-9.00 wished=4.50 severity=1.00, time=873.20.\n",
      "Warning: Vehicle '2_right.29' performs emergency braking with decel=-9.00 wished=4.50 severity=1.00, time=881.60.\n",
      "Warning: Vehicle '2_right.29' performs emergency stop at the end of lane '2si_0' because of a red traffic light (decel=-20.21, offset=0.88), time=881.60.\n"
     ]
    },
    {
     "name": "stdout",
     "output_type": "stream",
     "text": [
      "Step #922.80"
     ]
    },
    {
     "name": "stderr",
     "output_type": "stream",
     "text": [
      "Warning: Vehicle '3_left.12' performs emergency braking with decel=-9.00 wished=4.50 severity=1.00, time=922.40.\n",
      "Warning: Vehicle '3_left.12' performs emergency stop at the end of lane '3si_1' because of a red traffic light (decel=-17.06, offset=0.32), time=922.80.\n"
     ]
    },
    {
     "name": "stdout",
     "output_type": "stream",
     "text": [
      "Step #967.80 (0ms"
     ]
    },
    {
     "name": "stderr",
     "output_type": "stream",
     "text": [
      "Warning: Choosing new speed factor 1.30 for vehicle '1_horizontal.65' to match departure speed.\n"
     ]
    },
    {
     "name": "stdout",
     "output_type": "stream",
     "text": [
      "Step #996.20"
     ]
    },
    {
     "name": "stderr",
     "output_type": "stream",
     "text": [
      "Warning: Vehicle '1_right.19' performs emergency braking with decel=-9.00 wished=4.50 severity=1.00, time=996.20.\n",
      "Warning: Vehicle '1_right.19' performs emergency stop at the end of lane '1si_0' because of a red traffic light (decel=-14.64, offset=0.67), time=996.20.\n"
     ]
    },
    {
     "name": "stdout",
     "output_type": "stream",
     "text": [
      "Cumulative Reward: -467.6268976945615\n",
      " Retrying in 1 seconds\n",
      "Loading configuration ... done.\n"
     ]
    },
    {
     "name": "stderr",
     "output_type": "stream",
     "text": [
      "Warning: Missing yellow phase in tlLogic '0', program '0' for tl-index 3 when switching to phase 0\n",
      "Warning: Missing yellow phase in tlLogic '0', program '1' for tl-index 5 when switching to phase 0\n",
      "Warning: Missing yellow phase in tlLogic '0', program '2' for tl-index 0 when switching to phase 0\n",
      "Warning: Missing yellow phase in tlLogic '0', program '3' for tl-index 2 when switching to phase 0\n"
     ]
    },
    {
     "name": "stdout",
     "output_type": "stream",
     "text": [
      "Ste"
     ]
    },
    {
     "name": "stderr",
     "output_type": "stream",
     "text": [
      "Warning: Vehicle '3_right.0' performs emergency braking with decel=-9.00 wished=4.50 severity=1.00, time=32.40.\n",
      "Warning: Vehicle '4_right.0' performs emergency braking with decel=-9.00 wished=4.50 severity=1.00, time=32.40.\n",
      "Warning: Vehicle '4_right.0' performs emergency stop at the end of lane '4si_0' because of a red traffic light (decel=-13.63, offset=0.89), time=32.80.\n",
      "Warning: Vehicle '3_left.0' performs emergency braking with decel=-9.00 wished=4.50 severity=1.00, time=33.60.\n",
      "Warning: Vehicle '4_left.0' performs emergency braking with decel=-9.00 wished=4.50 severity=1.00, time=33.60.\n",
      "Warning: Vehicle '3_right.0' performs emergency stop at the end of lane '3si_0' because of a red traffic light (decel=-10.31, offset=0.06), time=33.60.\n",
      "Warning: Vehicle '3_left.0' performs emergency stop at the end of lane '3si_1' because of a red traffic light (decel=-20.57, offset=0.61), time=33.80.\n"
     ]
    },
    {
     "name": "stdout",
     "output_type": "stream",
     "text": [
      "Step #33.80"
     ]
    },
    {
     "name": "stderr",
     "output_type": "stream",
     "text": [
      "Warning: Vehicle '4_left.0' performs emergency stop at the end of lane '4si_1' because of a red traffic light (decel=-14.14, offset=0.38), time=34.40.\n"
     ]
    },
    {
     "name": "stdout",
     "output_type": "stream",
     "text": [
      "Step #44.40"
     ]
    },
    {
     "name": "stderr",
     "output_type": "stream",
     "text": [
      "Warning: Vehicle '2_horizontal.2' performs emergency braking with decel=-9.00 wished=4.50 severity=1.00, time=44.00.\n",
      "Warning: Vehicle '2_horizontal.2' performs emergency stop at the end of lane '2si_1' because of a red traffic light (decel=-18.13, offset=0.51), time=44.40.\n",
      "Warning: Vehicle '4_vertical.0' performs emergency braking with decel=-9.00 wished=4.50 severity=1.00, time=50.40.\n"
     ]
    },
    {
     "name": "stdout",
     "output_type": "stream",
     "text": [
      "Step #78.20"
     ]
    },
    {
     "name": "stderr",
     "output_type": "stream",
     "text": [
      "Warning: Vehicle '4_vertical.1' performs emergency braking with decel=-9.00 wished=4.50 severity=1.00, time=78.20.\n"
     ]
    },
    {
     "name": "stdout",
     "output_type": "stream",
     "text": [
      "Step #123.40"
     ]
    },
    {
     "name": "stderr",
     "output_type": "stream",
     "text": [
      "Warning: Vehicle '3_left.2' performs emergency braking with decel=-9.00 wished=4.50 severity=1.00, time=123.40.\n",
      "Warning: Vehicle '4_left.2' performs emergency braking with decel=-9.00 wished=4.50 severity=1.00, time=123.40.\n"
     ]
    },
    {
     "name": "stdout",
     "output_type": "stream",
     "text": [
      "Step #132.80"
     ]
    },
    {
     "name": "stderr",
     "output_type": "stream",
     "text": [
      "Warning: Vehicle '1_right.4' performs emergency braking with decel=-9.00 wished=4.50 severity=1.00, time=132.80.\n"
     ]
    },
    {
     "name": "stdout",
     "output_type": "stream",
     "text": [
      "Step #161.00"
     ]
    },
    {
     "name": "stderr",
     "output_type": "stream",
     "text": [
      "Warning: Vehicle '3_vertical0.1' performs emergency braking with decel=-9.00 wished=4.50 severity=1.00, time=161.00.\n",
      "Warning: Vehicle '3_vertical0.1' performs emergency stop at the end of lane '3si_0' because of a red traffic light (decel=-11.13, offset=0.07), time=161.40.\n"
     ]
    },
    {
     "name": "stdout",
     "output_type": "stream",
     "text": [
      "Step #163.40"
     ]
    },
    {
     "name": "stderr",
     "output_type": "stream",
     "text": [
      "Warning: Vehicle '1_right.5' performs emergency braking with decel=-9.00 wished=4.50 severity=1.00, time=163.40.\n",
      "Warning: Vehicle '1_right.5' performs emergency stop at the end of lane '1si_0' because of a red traffic light (decel=-21.09, offset=0.46), time=163.40.\n"
     ]
    },
    {
     "name": "stdout",
     "output_type": "stream",
     "text": [
      "Step #212.40"
     ]
    },
    {
     "name": "stderr",
     "output_type": "stream",
     "text": [
      "Warning: Vehicle '2_left0.2' performs emergency braking with decel=-9.00 wished=4.50 severity=1.00, time=211.80.\n",
      "Warning: Vehicle '2_left0.2' performs emergency stop at the end of lane '2si_2' because of a red traffic light (decel=-16.24, offset=1.43), time=212.40.\n"
     ]
    },
    {
     "name": "stdout",
     "output_type": "stream",
     "text": [
      "Step #236.60"
     ]
    },
    {
     "name": "stderr",
     "output_type": "stream",
     "text": [
      "Warning: Vehicle '1_left.5' performs emergency braking with decel=-9.00 wished=4.50 severity=1.00, time=236.20.\n",
      "Warning: Vehicle '1_left.5' performs emergency stop at the end of lane '1si_2' because of a red traffic light (decel=-19.84, offset=1.37), time=236.60.\n"
     ]
    },
    {
     "name": "stdout",
     "output_type": "stream",
     "text": [
      "Step #245.60 "
     ]
    },
    {
     "name": "stderr",
     "output_type": "stream",
     "text": [
      "Warning: Vehicle '1_right.8' performs emergency braking with decel=-9.00 wished=4.50 severity=1.00, time=252.20.\n"
     ]
    },
    {
     "name": "stdout",
     "output_type": "stream",
     "text": [
      "Step #299.40"
     ]
    },
    {
     "name": "stderr",
     "output_type": "stream",
     "text": [
      "Warning: Vehicle '1_right.9' performs emergency braking with decel=-9.00 wished=4.50 severity=1.00, time=298.60.\n",
      "Warning: Vehicle '1_right.9' performs emergency stop at the end of lane '1si_0' because of a red traffic light (decel=-20.38, offset=0.70), time=298.80.\n",
      "Warning: Vehicle '1_left.6' performs emergency braking with decel=-9.00 wished=4.50 severity=1.00, time=299.40.\n",
      "Warning: Vehicle '1_left.6' performs emergency stop at the end of lane '1si_2' because of a red traffic light (decel=-11.63, offset=0.02), time=300.40.\n",
      "Warning: Vehicle '4_left.6' performs emergency braking with decel=-9.00 wished=4.50 severity=1.00, time=301.20.\n"
     ]
    },
    {
     "name": "stdout",
     "output_type": "stream",
     "text": [
      "Step #311.00"
     ]
    },
    {
     "name": "stderr",
     "output_type": "stream",
     "text": [
      "Warning: Vehicle '2_right.10' performs emergency braking with decel=-9.00 wished=4.50 severity=1.00, time=311.00.\n"
     ]
    },
    {
     "name": "stdout",
     "output_type": "stream",
     "text": [
      "Step #325.60"
     ]
    },
    {
     "name": "stderr",
     "output_type": "stream",
     "text": [
      "Warning: Vehicle '1_horizontal0.6' performs emergency braking with decel=-9.00 wished=4.50 severity=1.00, time=325.40.\n",
      "Warning: Vehicle '1_horizontal0.6' performs emergency stop at the end of lane '1si_1' because of a red traffic light (decel=-10.96, offset=0.38), time=325.60.\n"
     ]
    },
    {
     "name": "stdout",
     "output_type": "stream",
     "text": [
      "Step #332.00"
     ]
    },
    {
     "name": "stderr",
     "output_type": "stream",
     "text": [
      "Warning: Vehicle '2_left0.4' performs emergency braking with decel=-9.00 wished=4.50 severity=1.00, time=331.60.\n",
      "Warning: Vehicle '2_left0.4' performs emergency stop at the end of lane '2si_2' because of a red traffic light (decel=-16.60, offset=1.10), time=332.00.\n"
     ]
    },
    {
     "name": "stdout",
     "output_type": "stream",
     "text": [
      "Step #346.00"
     ]
    },
    {
     "name": "stderr",
     "output_type": "stream",
     "text": [
      "Warning: Vehicle '2_left.6' performs emergency braking with decel=-9.00 wished=4.50 severity=1.00, time=345.60.\n",
      "Warning: Vehicle '2_left.6' performs emergency stop at the end of lane '2si_2' because of a red traffic light (decel=-10.12, offset=0.22), time=346.00.\n"
     ]
    },
    {
     "name": "stdout",
     "output_type": "stream",
     "text": [
      "Step #351.80"
     ]
    },
    {
     "name": "stderr",
     "output_type": "stream",
     "text": [
      "Warning: Vehicle '1_right.10' performs emergency braking with decel=-9.00 wished=4.50 severity=1.00, time=351.00.\n",
      "Warning: Vehicle '1_right.10' performs emergency stop at the end of lane '1si_0' because of a red traffic light (decel=-14.87, offset=0.42), time=351.80.\n"
     ]
    },
    {
     "name": "stdout",
     "output_type": "stream",
     "text": [
      "Step #418.40"
     ]
    },
    {
     "name": "stderr",
     "output_type": "stream",
     "text": [
      "Warning: Vehicle '1_right.12' performs emergency braking with decel=-9.00 wished=4.50 severity=1.00, time=418.40.\n"
     ]
    },
    {
     "name": "stdout",
     "output_type": "stream",
     "text": [
      "Step #419.60"
     ]
    },
    {
     "name": "stderr",
     "output_type": "stream",
     "text": [
      "Warning: Vehicle '1_left.8' performs emergency braking with decel=-9.00 wished=4.50 severity=1.00, time=419.60.\n"
     ]
    },
    {
     "name": "stdout",
     "output_type": "stream",
     "text": [
      "Step #430.60"
     ]
    },
    {
     "name": "stderr",
     "output_type": "stream",
     "text": [
      "Warning: Vehicle '3_left.6' performs emergency braking with decel=-9.00 wished=4.50 severity=1.00, time=430.60.\n"
     ]
    },
    {
     "name": "stdout",
     "output_type": "stream",
     "text": [
      "Step #462.60"
     ]
    },
    {
     "name": "stderr",
     "output_type": "stream",
     "text": [
      "Warning: Vehicle '2_right.15' performs emergency braking with decel=-9.00 wished=4.50 severity=1.00, time=462.60.\n"
     ]
    },
    {
     "name": "stdout",
     "output_type": "stream",
     "text": [
      "Step #471.60 "
     ]
    },
    {
     "name": "stderr",
     "output_type": "stream",
     "text": [
      "Warning: Vehicle '1_left.9' performs emergency braking with decel=-9.00 wished=4.50 severity=1.00, time=474.60.\n"
     ]
    },
    {
     "name": "stdout",
     "output_type": "stream",
     "text": [
      "Step #492.60 ("
     ]
    },
    {
     "name": "stderr",
     "output_type": "stream",
     "text": [
      "Warning: Choosing new speed factor 1.23 for vehicle '3_vertical0.22' to match departure speed.\n"
     ]
    },
    {
     "name": "stdout",
     "output_type": "stream",
     "text": [
      "Step #509.00 "
     ]
    },
    {
     "name": "stderr",
     "output_type": "stream",
     "text": [
      "Warning: Vehicle '1_right.14' performs emergency braking with decel=-9.00 wished=4.50 severity=1.00, time=510.20.\n",
      "Warning: Vehicle '1_right.14' performs emergency stop at the end of lane '1si_0' because of a red traffic light (decel=-18.42, offset=1.39), time=510.60.\n"
     ]
    },
    {
     "name": "stdout",
     "output_type": "stream",
     "text": [
      "Step #522.40"
     ]
    },
    {
     "name": "stderr",
     "output_type": "stream",
     "text": [
      "Warning: Vehicle '2_right.17' performs emergency braking with decel=-9.00 wished=4.50 severity=1.00, time=522.40.\n"
     ]
    },
    {
     "name": "stdout",
     "output_type": "stream",
     "text": [
      "Step #576.40 (0ms "
     ]
    },
    {
     "name": "stderr",
     "output_type": "stream",
     "text": [
      "Warning: Vehicle '4_left.11' performs emergency braking with decel=-9.00 wished=4.50 severity=1.00, time=585.20.\n",
      "Warning: Vehicle '4_left.11' performs emergency stop at the end of lane '4si_1' because of a red traffic light (decel=-20.73, offset=0.74), time=585.40.\n"
     ]
    },
    {
     "name": "stdout",
     "output_type": "stream",
     "text": [
      "Step #657.40 (1ms ~="
     ]
    },
    {
     "name": "stderr",
     "output_type": "stream",
     "text": [
      "Warning: Vehicle '4_left.12' performs emergency braking with decel=-9.00 wished=4.50 severity=1.00, time=660.00.\n",
      "Warning: Vehicle '4_left.12' performs emergency stop at the end of lane '4si_1' because of a red traffic light (decel=-22.81, offset=2.36), time=660.00.\n"
     ]
    },
    {
     "name": "stdout",
     "output_type": "stream",
     "text": [
      "Step #671.80"
     ]
    },
    {
     "name": "stderr",
     "output_type": "stream",
     "text": [
      "Warning: Vehicle '2_left.12' performs emergency braking with decel=-9.00 wished=4.50 severity=1.00, time=671.80.\n"
     ]
    },
    {
     "name": "stdout",
     "output_type": "stream",
     "text": [
      "Step #679.40"
     ]
    },
    {
     "name": "stderr",
     "output_type": "stream",
     "text": [
      "Warning: Vehicle '1_left.11' performs emergency braking with decel=-9.00 wished=4.50 severity=1.00, time=679.40.\n"
     ]
    },
    {
     "name": "stdout",
     "output_type": "stream",
     "text": [
      "Step #727.00"
     ]
    },
    {
     "name": "stderr",
     "output_type": "stream",
     "text": [
      "Warning: Vehicle '2_left.13' performs emergency braking with decel=-9.00 wished=4.50 severity=1.00, time=727.00.\n"
     ]
    },
    {
     "name": "stdout",
     "output_type": "stream",
     "text": [
      "Step #774.60"
     ]
    },
    {
     "name": "stderr",
     "output_type": "stream",
     "text": [
      "Warning: Vehicle '1_right.18' performs emergency braking with decel=-9.00 wished=4.50 severity=1.00, time=774.20.\n",
      "Warning: Vehicle '1_right.18' performs emergency stop at the end of lane '1si_0' because of a red traffic light (decel=-17.40, offset=0.07), time=774.60.\n",
      "Warning: Vehicle '1_left.12' performs emergency braking with decel=-9.00 wished=4.50 severity=1.00, time=775.40.\n",
      "Warning: Vehicle '1_left.12' performs emergency stop at the end of lane '1si_2' because of a red traffic light (decel=-13.40, offset=0.20), time=776.00.\n"
     ]
    },
    {
     "name": "stdout",
     "output_type": "stream",
     "text": [
      "Step #783.80"
     ]
    },
    {
     "name": "stderr",
     "output_type": "stream",
     "text": [
      "Warning: Vehicle '2_left.14' performs emergency braking with decel=-9.00 wished=4.50 severity=1.00, time=783.60.\n",
      "Warning: Vehicle '2_left.14' performs emergency stop at the end of lane '2si_2' because of a red traffic light (decel=-11.97, offset=0.10), time=783.80.\n"
     ]
    },
    {
     "name": "stdout",
     "output_type": "stream",
     "text": [
      "Step #801.80 ("
     ]
    },
    {
     "name": "stderr",
     "output_type": "stream",
     "text": [
      "Warning: Choosing new speed factor 1.24 for vehicle '1_horizontal0.38' to match departure speed.\n"
     ]
    },
    {
     "name": "stdout",
     "output_type": "stream",
     "text": [
      "Step #819.00"
     ]
    },
    {
     "name": "stderr",
     "output_type": "stream",
     "text": [
      "Warning: Vehicle '1_right.19' performs emergency braking with decel=-9.00 wished=4.50 severity=1.00, time=819.00.\n"
     ]
    },
    {
     "name": "stdout",
     "output_type": "stream",
     "text": [
      "Step #830.00"
     ]
    },
    {
     "name": "stderr",
     "output_type": "stream",
     "text": [
      "Warning: Vehicle '4_left.14' performs emergency braking with decel=-9.00 wished=4.50 severity=1.00, time=830.00.\n",
      "Warning: Vehicle '4_left.14' performs emergency stop at the end of lane '4si_1' because of a red traffic light (decel=-19.68, offset=1.87), time=830.00.\n"
     ]
    },
    {
     "name": "stdout",
     "output_type": "stream",
     "text": [
      "Step #839.00 "
     ]
    },
    {
     "name": "stderr",
     "output_type": "stream",
     "text": [
      "Warning: Vehicle '1_left.13' performs emergency braking with decel=-9.00 wished=4.50 severity=1.00, time=841.80.\n"
     ]
    },
    {
     "name": "stdout",
     "output_type": "stream",
     "text": [
      "Step #871.60"
     ]
    },
    {
     "name": "stderr",
     "output_type": "stream",
     "text": [
      "Warning: Vehicle '2_left0.13' performs emergency braking with decel=-9.00 wished=4.50 severity=1.00, time=871.60.\n"
     ]
    },
    {
     "name": "stdout",
     "output_type": "stream",
     "text": [
      "Step #874.20"
     ]
    },
    {
     "name": "stderr",
     "output_type": "stream",
     "text": [
      "Warning: Vehicle '1_right.20' performs emergency braking with decel=-9.00 wished=4.50 severity=1.00, time=874.00.\n",
      "Warning: Vehicle '1_right.20' performs emergency stop at the end of lane '1si_0' because of a red traffic light (decel=-11.70, offset=0.00), time=874.20.\n"
     ]
    },
    {
     "name": "stdout",
     "output_type": "stream",
     "text": [
      "Step #909.20"
     ]
    },
    {
     "name": "stderr",
     "output_type": "stream",
     "text": [
      "Warning: Vehicle '4_left.15' performs emergency braking with decel=-9.00 wished=4.50 severity=1.00, time=908.40.\n",
      "Warning: Vehicle '4_left.15' performs emergency stop at the end of lane '4si_1' because of a red traffic light (decel=-15.22, offset=1.24), time=909.20.\n",
      "Warning: Vehicle '1_right.21' performs emergency braking with decel=-9.00 wished=4.50 severity=1.00, time=914.20.\n"
     ]
    },
    {
     "name": "stdout",
     "output_type": "stream",
     "text": [
      "Step #932.20 ("
     ]
    },
    {
     "name": "stderr",
     "output_type": "stream",
     "text": [
      "Warning: Vehicle '2_right.31' performs emergency braking with decel=-9.00 wished=4.50 severity=1.00, time=941.20.\n",
      "Warning: Vehicle '2_right.31' performs emergency stop at the end of lane '2si_0' because of a red traffic light (decel=-17.55, offset=1.07), time=941.40.\n"
     ]
    },
    {
     "name": "stdout",
     "output_type": "stream",
     "text": [
      "Step #971.40"
     ]
    },
    {
     "name": "stderr",
     "output_type": "stream",
     "text": [
      "Warning: Vehicle '2_right.32' performs emergency braking with decel=-9.00 wished=4.50 severity=1.00, time=971.40.\n"
     ]
    },
    {
     "name": "stdout",
     "output_type": "stream",
     "text": [
      "Step #975.00"
     ]
    },
    {
     "name": "stderr",
     "output_type": "stream",
     "text": [
      "Warning: Choosing new speed factor 1.30 for vehicle '1_horizontal.65' to match departure speed.\n"
     ]
    },
    {
     "name": "stdout",
     "output_type": "stream",
     "text": [
      "Step #993.00 (Cumulative Reward: -433.3949096822011\n",
      " Retrying in 1 seconds\n",
      "Loading configuration ... done.\n"
     ]
    },
    {
     "name": "stderr",
     "output_type": "stream",
     "text": [
      "Warning: Missing yellow phase in tlLogic '0', program '0' for tl-index 3 when switching to phase 0\n",
      "Warning: Missing yellow phase in tlLogic '0', program '1' for tl-index 5 when switching to phase 0\n",
      "Warning: Missing yellow phase in tlLogic '0', program '2' for tl-index 0 when switching to phase 0\n",
      "Warning: Missing yellow phase in tlLogic '0', program '3' for tl-index 2 when switching to phase 0\n"
     ]
    },
    {
     "name": "stdout",
     "output_type": "stream",
     "text": [
      "S"
     ]
    },
    {
     "name": "stderr",
     "output_type": "stream",
     "text": [
      "Warning: Vehicle '1_right.0' performs emergency braking with decel=-9.00 wished=4.50 severity=1.00, time=12.80.\n",
      "Warning: Vehicle '1_right.0' performs emergency stop at the end of lane '1si_0' because of a red traffic light (decel=-17.23, offset=0.81), time=13.20.\n",
      "Warning: Vehicle '2_left.0' performs emergency braking with decel=-9.00 wished=4.50 severity=1.00, time=13.40.\n"
     ]
    },
    {
     "name": "stdout",
     "output_type": "stream",
     "text": [
      "Step #26.40"
     ]
    },
    {
     "name": "stderr",
     "output_type": "stream",
     "text": [
      "Warning: Vehicle '1_horizontal.1' performs emergency braking with decel=-9.00 wished=4.50 severity=1.00, time=26.40.\n"
     ]
    },
    {
     "name": "stdout",
     "output_type": "stream",
     "text": [
      "Step #44.40 ("
     ]
    },
    {
     "name": "stderr",
     "output_type": "stream",
     "text": [
      "Warning: Vehicle '3_vertical.0' performs emergency braking with decel=-9.00 wished=4.50 severity=1.00, time=52.20.\n",
      "Warning: Vehicle '4_vertical.0' performs emergency braking with decel=-9.00 wished=4.50 severity=1.00, time=52.20.\n",
      "Warning: Vehicle '4_vertical.0' performs emergency stop at the end of lane '4si_0' because of a red traffic light (decel=-9.74, offset=0.12), time=52.80.\n"
     ]
    },
    {
     "name": "stdout",
     "output_type": "stream",
     "text": [
      "Step #59.40"
     ]
    },
    {
     "name": "stderr",
     "output_type": "stream",
     "text": [
      "Warning: Vehicle '1_left.1' performs emergency braking with decel=-9.00 wished=4.50 severity=1.00, time=59.20.\n",
      "Warning: Vehicle '1_left.1' performs emergency stop at the end of lane '1si_2' because of a red traffic light (decel=-11.76, offset=0.10), time=59.40.\n"
     ]
    },
    {
     "name": "stdout",
     "output_type": "stream",
     "text": [
      "Step #72.20"
     ]
    },
    {
     "name": "stderr",
     "output_type": "stream",
     "text": [
      "Warning: Vehicle '4_right.1' performs emergency braking with decel=-9.00 wished=4.50 severity=1.00, time=72.00.\n",
      "Warning: Vehicle '4_right.1' performs emergency stop at the end of lane '4si_0' because of a red traffic light (decel=-20.20, offset=0.42), time=72.20.\n"
     ]
    },
    {
     "name": "stdout",
     "output_type": "stream",
     "text": [
      "Step #102.80"
     ]
    },
    {
     "name": "stderr",
     "output_type": "stream",
     "text": [
      "Warning: Vehicle '1_right.3' performs emergency braking with decel=-9.00 wished=4.50 severity=1.00, time=102.00.\n",
      "Warning: Vehicle '1_left.2' performs emergency braking with decel=-9.00 wished=4.50 severity=1.00, time=102.80.\n"
     ]
    },
    {
     "name": "stdout",
     "output_type": "stream",
     "text": [
      "Step #133.80"
     ]
    },
    {
     "name": "stderr",
     "output_type": "stream",
     "text": [
      "Warning: Vehicle '1_right.4' performs emergency braking with decel=-9.00 wished=4.50 severity=1.00, time=133.00.\n",
      "Warning: Vehicle '1_right.4' performs emergency stop at the end of lane '1si_0' because of a red traffic light (decel=-12.45, offset=0.12), time=133.80.\n"
     ]
    },
    {
     "name": "stdout",
     "output_type": "stream",
     "text": [
      "Step #154.00"
     ]
    },
    {
     "name": "stderr",
     "output_type": "stream",
     "text": [
      "Warning: Vehicle '2_left0.1' performs emergency braking with decel=-9.00 wished=4.50 severity=1.00, time=153.80.\n",
      "Warning: Vehicle '2_left0.1' performs emergency stop at the end of lane '2si_2' because of a red traffic light (decel=-11.20, offset=0.33), time=154.00.\n"
     ]
    },
    {
     "name": "stdout",
     "output_type": "stream",
     "text": [
      "Step #163.40"
     ]
    },
    {
     "name": "stderr",
     "output_type": "stream",
     "text": [
      "Warning: Vehicle '1_right.5' performs emergency braking with decel=-9.00 wished=4.50 severity=1.00, time=163.40.\n",
      "Warning: Vehicle '2_right.5' performs emergency braking with decel=-9.00 wished=4.50 severity=1.00, time=163.40.\n"
     ]
    },
    {
     "name": "stdout",
     "output_type": "stream",
     "text": [
      "Step #168.60"
     ]
    },
    {
     "name": "stderr",
     "output_type": "stream",
     "text": [
      "Warning: Vehicle '3_left.3' performs emergency braking with decel=-9.00 wished=4.50 severity=1.00, time=168.20.\n",
      "Warning: Vehicle '3_left.3' performs emergency stop at the end of lane '3si_1' because of a red traffic light (decel=-14.34, offset=0.23), time=168.60.\n"
     ]
    },
    {
     "name": "stdout",
     "output_type": "stream",
     "text": [
      "Step #195.40"
     ]
    },
    {
     "name": "stderr",
     "output_type": "stream",
     "text": [
      "Warning: Vehicle '1_left.4' performs emergency braking with decel=-9.00 wished=4.50 severity=1.00, time=195.40.\n",
      "Warning: Vehicle '1_left.4' performs emergency stop at the end of lane '1si_2' because of a red traffic light (decel=-11.65, offset=0.21), time=195.40.\n"
     ]
    },
    {
     "name": "stdout",
     "output_type": "stream",
     "text": [
      "Step #204.40 "
     ]
    },
    {
     "name": "stderr",
     "output_type": "stream",
     "text": [
      "Warning: Vehicle '3_left.4' performs emergency braking with decel=-9.00 wished=4.50 severity=1.00, time=212.00.\n",
      "Warning: Vehicle '4_left.4' performs emergency braking with decel=-9.00 wished=4.50 severity=1.00, time=212.00.\n"
     ]
    },
    {
     "name": "stdout",
     "output_type": "stream",
     "text": [
      "Step #223.00"
     ]
    },
    {
     "name": "stderr",
     "output_type": "stream",
     "text": [
      "Warning: Vehicle '2_right.7' performs emergency braking with decel=-9.00 wished=4.50 severity=1.00, time=222.40.\n",
      "Warning: Vehicle '1_right.7' performs emergency braking with decel=-9.00 wished=4.50 severity=1.00, time=222.40.\n",
      "Warning: Vehicle '2_right.7' performs emergency stop at the end of lane '2si_0' because of a red traffic light (decel=-13.15, offset=0.14), time=223.00.\n",
      "Warning: Vehicle '1_right.7' performs emergency stop at the end of lane '1si_0' because of a red traffic light (decel=-13.17, offset=0.35), time=223.00.\n"
     ]
    },
    {
     "name": "stdout",
     "output_type": "stream",
     "text": [
      "Step #250.00 (0"
     ]
    },
    {
     "name": "stderr",
     "output_type": "stream",
     "text": [
      "Warning: Vehicle '4_left.5' performs emergency braking with decel=-9.00 wished=4.50 severity=1.00, time=257.80.\n",
      "Warning: Vehicle '4_left.5' performs emergency stop at the end of lane '4si_1' because of a red traffic light (decel=-16.07, offset=0.43), time=258.20.\n"
     ]
    },
    {
     "name": "stdout",
     "output_type": "stream",
     "text": [
      "Step #332.60"
     ]
    },
    {
     "name": "stderr",
     "output_type": "stream",
     "text": [
      "Warning: Vehicle '2_left0.4' performs emergency braking with decel=-9.00 wished=4.50 severity=1.00, time=331.60.\n",
      "Warning: Vehicle '2_left0.4' performs emergency stop at the end of lane '2si_2' because of a red traffic light (decel=-9.70, offset=0.03), time=332.60.\n"
     ]
    },
    {
     "name": "stdout",
     "output_type": "stream",
     "text": [
      "Step #341.60 "
     ]
    },
    {
     "name": "stderr",
     "output_type": "stream",
     "text": [
      "Warning: Vehicle '2_left.6' performs emergency braking with decel=-9.00 wished=4.50 severity=1.00, time=344.20.\n"
     ]
    },
    {
     "name": "stdout",
     "output_type": "stream",
     "text": [
      "Step #347.40"
     ]
    },
    {
     "name": "stderr",
     "output_type": "stream",
     "text": [
      "Warning: Vehicle '4_left.7' performs emergency braking with decel=-9.00 wished=4.50 severity=1.00, time=346.80.\n",
      "Warning: Vehicle '4_left.7' performs emergency stop at the end of lane '4si_1' because of a red traffic light (decel=-16.66, offset=1.31), time=347.40.\n",
      "Warning: Vehicle '2_right.11' performs emergency braking with decel=-9.00 wished=4.50 severity=1.00, time=347.40.\n",
      "Warning: Vehicle '2_right.11' performs emergency stop at the end of lane '2si_0' because of a red traffic light (decel=-11.64, offset=0.11), time=347.40.\n"
     ]
    },
    {
     "name": "stdout",
     "output_type": "stream",
     "text": [
      "Step #366.20"
     ]
    },
    {
     "name": "stderr",
     "output_type": "stream",
     "text": [
      "Warning: Vehicle '3_left.5' performs emergency braking with decel=-9.00 wished=4.50 severity=1.00, time=366.20.\n"
     ]
    },
    {
     "name": "stdout",
     "output_type": "stream",
     "text": [
      "Step #372.00"
     ]
    },
    {
     "name": "stderr",
     "output_type": "stream",
     "text": [
      "Warning: Vehicle '2_right.12' performs emergency braking with decel=-9.00 wished=4.50 severity=1.00, time=371.80.\n",
      "Warning: Vehicle '2_right.12' performs emergency stop at the end of lane '2si_0' because of a red traffic light (decel=-14.19, offset=0.95), time=372.00.\n"
     ]
    },
    {
     "name": "stdout",
     "output_type": "stream",
     "text": [
      "Step #395.20"
     ]
    },
    {
     "name": "stderr",
     "output_type": "stream",
     "text": [
      "Warning: Vehicle '4_left.8' performs emergency braking with decel=-9.00 wished=4.50 severity=1.00, time=395.20.\n"
     ]
    },
    {
     "name": "stdout",
     "output_type": "stream",
     "text": [
      "Step #398.00"
     ]
    },
    {
     "name": "stderr",
     "output_type": "stream",
     "text": [
      "Warning: Vehicle '2_left.7' performs emergency braking with decel=-9.00 wished=4.50 severity=1.00, time=397.60.\n",
      "Warning: Vehicle '2_left.7' performs emergency stop at the end of lane '2si_2' because of a red traffic light (decel=-16.56, offset=1.14), time=398.00.\n"
     ]
    },
    {
     "name": "stdout",
     "output_type": "stream",
     "text": [
      "Step #401.20"
     ]
    },
    {
     "name": "stderr",
     "output_type": "stream",
     "text": [
      "Warning: Vehicle '2_right.13' performs emergency braking with decel=-9.00 wished=4.50 severity=1.00, time=401.20.\n"
     ]
    },
    {
     "name": "stdout",
     "output_type": "stream",
     "text": [
      "Step #462.80"
     ]
    },
    {
     "name": "stderr",
     "output_type": "stream",
     "text": [
      "Warning: Vehicle '2_right.15' performs emergency braking with decel=-9.00 wished=4.50 severity=1.00, time=462.80.\n",
      "Warning: Vehicle '2_right.15' performs emergency stop at the end of lane '2si_0' because of a red traffic light (decel=-11.24, offset=0.33), time=463.80.\n"
     ]
    },
    {
     "name": "stdout",
     "output_type": "stream",
     "text": [
      "Step #472.80 "
     ]
    },
    {
     "name": "stderr",
     "output_type": "stream",
     "text": [
      "Warning: Vehicle '1_right.11' performs emergency braking with decel=-9.00 wished=4.50 severity=1.00, time=473.60.\n"
     ]
    },
    {
     "name": "stdout",
     "output_type": "stream",
     "text": [
      "Step #474.80"
     ]
    },
    {
     "name": "stderr",
     "output_type": "stream",
     "text": [
      "Warning: Vehicle '1_right.11' performs emergency stop at the end of lane '1si_0' because of a red traffic light (decel=-10.05, offset=0.06), time=474.80.\n"
     ]
    },
    {
     "name": "stdout",
     "output_type": "stream",
     "text": [
      "Step #500.00"
     ]
    },
    {
     "name": "stderr",
     "output_type": "stream",
     "text": [
      "Warning: Choosing new speed factor 1.23 for vehicle '3_vertical0.22' to match departure speed.\n"
     ]
    },
    {
     "name": "stdout",
     "output_type": "stream",
     "text": [
      "Step #507.20"
     ]
    },
    {
     "name": "stderr",
     "output_type": "stream",
     "text": [
      "Warning: Vehicle '2_left.9' performs emergency braking with decel=-9.00 wished=4.50 severity=1.00, time=507.20.\n"
     ]
    },
    {
     "name": "stdout",
     "output_type": "stream",
     "text": [
      "Step #534.20 (0"
     ]
    },
    {
     "name": "stderr",
     "output_type": "stream",
     "text": [
      "Warning: Vehicle '4_left.10' performs emergency braking with decel=-9.00 wished=4.50 severity=1.00, time=537.00.\n"
     ]
    },
    {
     "name": "stdout",
     "output_type": "stream",
     "text": [
      "Step #540.00"
     ]
    },
    {
     "name": "stderr",
     "output_type": "stream",
     "text": [
      "Warning: Vehicle '3_right.8' performs emergency braking with decel=-9.00 wished=4.50 severity=1.00, time=540.00.\n",
      "Warning: Vehicle '3_right.8' performs emergency stop at the end of lane '3si_0' because of a red traffic light (decel=-12.44, offset=0.43), time=540.00.\n"
     ]
    },
    {
     "name": "stdout",
     "output_type": "stream",
     "text": [
      "Step #549.00 "
     ]
    },
    {
     "name": "stderr",
     "output_type": "stream",
     "text": [
      "Warning: Vehicle '2_right.18' performs emergency braking with decel=-9.00 wished=4.50 severity=1.00, time=552.00.\n",
      "Warning: Vehicle '2_right.18' performs emergency stop at the end of lane '2si_0' because of a red traffic light (decel=-20.32, offset=0.91), time=552.20.\n"
     ]
    },
    {
     "name": "stdout",
     "output_type": "stream",
     "text": [
      "Step #561.20 "
     ]
    },
    {
     "name": "stderr",
     "output_type": "stream",
     "text": [
      "Warning: Vehicle '2_left.10' performs emergency braking with decel=-9.00 wished=4.50 severity=1.00, time=562.20.\n",
      "Warning: Vehicle '2_left.10' performs emergency stop at the end of lane '2si_2' because of a red traffic light (decel=-14.28, offset=0.50), time=562.40.\n"
     ]
    },
    {
     "name": "stdout",
     "output_type": "stream",
     "text": [
      "Step #615.40"
     ]
    },
    {
     "name": "stderr",
     "output_type": "stream",
     "text": [
      "Warning: Vehicle '1_left.9' performs emergency braking with decel=-9.00 wished=4.50 severity=1.00, time=615.00.\n",
      "Warning: Vehicle '1_left.9' performs emergency stop at the end of lane '1si_2' because of a red traffic light (decel=-10.60, offset=0.04), time=615.40.\n"
     ]
    },
    {
     "name": "stdout",
     "output_type": "stream",
     "text": [
      "Step #687.40 (0ms ?*"
     ]
    },
    {
     "name": "stderr",
     "output_type": "stream",
     "text": [
      "Warning: Vehicle '2_left0.10' performs emergency braking with decel=-9.00 wished=4.50 severity=1.00, time=692.80.\n"
     ]
    },
    {
     "name": "stdout",
     "output_type": "stream",
     "text": [
      "Step #693.80"
     ]
    },
    {
     "name": "stderr",
     "output_type": "stream",
     "text": [
      "Warning: Vehicle '2_left0.10' performs emergency stop at the end of lane '2si_2' because of a red traffic light (decel=-11.37, offset=0.21), time=693.80.\n"
     ]
    },
    {
     "name": "stdout",
     "output_type": "stream",
     "text": [
      "Step #701.60"
     ]
    },
    {
     "name": "stderr",
     "output_type": "stream",
     "text": [
      "Warning: Vehicle '4_left.12' performs emergency braking with decel=-9.00 wished=4.50 severity=1.00, time=700.60.\n",
      "Warning: Vehicle '2_right.23' performs emergency braking with decel=-9.00 wished=4.50 severity=1.00, time=701.60.\n"
     ]
    },
    {
     "name": "stdout",
     "output_type": "stream",
     "text": [
      "Step #704.40"
     ]
    },
    {
     "name": "stderr",
     "output_type": "stream",
     "text": [
      "Warning: Vehicle '3_left.9' performs emergency braking with decel=-9.00 wished=4.50 severity=1.00, time=704.40.\n"
     ]
    },
    {
     "name": "stdout",
     "output_type": "stream",
     "text": [
      "Step #719.20"
     ]
    },
    {
     "name": "stderr",
     "output_type": "stream",
     "text": [
      "Warning: Vehicle '1_right.15' performs emergency braking with decel=-9.00 wished=4.50 severity=1.00, time=719.20.\n",
      "Warning: Vehicle '1_right.15' performs emergency stop at the end of lane '1si_0' because of a red traffic light (decel=-14.42, offset=0.86), time=719.20.\n"
     ]
    },
    {
     "name": "stdout",
     "output_type": "stream",
     "text": [
      "Step #720.20"
     ]
    },
    {
     "name": "stderr",
     "output_type": "stream",
     "text": [
      "Warning: Vehicle '1_left.10' performs emergency braking with decel=-9.00 wished=4.50 severity=1.00, time=720.20.\n",
      "Warning: Vehicle '1_left.10' performs emergency stop at the end of lane '1si_2' because of a red traffic light (decel=-15.62, offset=0.22), time=720.20.\n"
     ]
    },
    {
     "name": "stdout",
     "output_type": "stream",
     "text": [
      "Step #747.20 (1"
     ]
    },
    {
     "name": "stderr",
     "output_type": "stream",
     "text": [
      "Warning: Vehicle '2_left0.11' performs emergency braking with decel=-9.00 wished=4.50 severity=1.00, time=752.00.\n"
     ]
    },
    {
     "name": "stdout",
     "output_type": "stream",
     "text": [
      "Step #810.00"
     ]
    },
    {
     "name": "stderr",
     "output_type": "stream",
     "text": [
      "Warning: Choosing new speed factor 1.24 for vehicle '1_horizontal0.38' to match departure speed.\n"
     ]
    },
    {
     "name": "stdout",
     "output_type": "stream",
     "text": [
      "Step #821.40"
     ]
    },
    {
     "name": "stderr",
     "output_type": "stream",
     "text": [
      "Warning: Vehicle '4_left.14' performs emergency braking with decel=-9.00 wished=4.50 severity=1.00, time=821.00.\n",
      "Warning: Vehicle '4_left.14' performs emergency stop at the end of lane '4si_1' because of a red traffic light (decel=-16.56, offset=1.24), time=821.40.\n"
     ]
    },
    {
     "name": "stdout",
     "output_type": "stream",
     "text": [
      "Step #828.20"
     ]
    },
    {
     "name": "stderr",
     "output_type": "stream",
     "text": [
      "Warning: Vehicle '1_left.11' performs emergency braking with decel=-9.00 wished=4.50 severity=1.00, time=828.20.\n",
      "Warning: Vehicle '1_left.11' performs emergency stop at the end of lane '1si_2' because of a red traffic light (decel=-18.88, offset=1.44), time=828.20.\n"
     ]
    },
    {
     "name": "stdout",
     "output_type": "stream",
     "text": [
      "Step #836.60"
     ]
    },
    {
     "name": "stderr",
     "output_type": "stream",
     "text": [
      "Warning: Vehicle '2_left.15' performs emergency braking with decel=-9.00 wished=4.50 severity=1.00, time=836.60.\n"
     ]
    },
    {
     "name": "stdout",
     "output_type": "stream",
     "text": [
      "Step #919.60"
     ]
    },
    {
     "name": "stderr",
     "output_type": "stream",
     "text": [
      "Warning: Vehicle '1_right.18' performs emergency braking with decel=-9.00 wished=4.50 severity=1.00, time=918.80.\n",
      "Warning: Vehicle '1_right.18' performs emergency stop at the end of lane '1si_0' because of a red traffic light (decel=-13.98, offset=0.15), time=919.60.\n"
     ]
    },
    {
     "name": "stdout",
     "output_type": "stream",
     "text": [
      "Step #919.80"
     ]
    },
    {
     "name": "stderr",
     "output_type": "stream",
     "text": [
      "Warning: Vehicle '1_left.12' performs emergency braking with decel=-9.00 wished=4.50 severity=1.00, time=919.80.\n"
     ]
    },
    {
     "name": "stdout",
     "output_type": "stream",
     "text": [
      "Step #975.00"
     ]
    },
    {
     "name": "stderr",
     "output_type": "stream",
     "text": [
      "Warning: Choosing new speed factor 1.30 for vehicle '1_horizontal.65' to match departure speed.\n"
     ]
    },
    {
     "name": "stdout",
     "output_type": "stream",
     "text": [
      "Step #993.00 (Cumulative Reward: -484.8012219813811\n",
      " Retrying in 1 seconds\n",
      "Loading configuration ... done.\n",
      "----------------------------------\n",
      "| rollout/            |          |\n",
      "|    ep_len_mean      | 5e+03    |\n",
      "|    ep_rew_mean      | -466     |\n",
      "|    exploration_rate | 0.05     |\n",
      "| time/               |          |\n",
      "|    episodes         | 8        |\n",
      "|    fps              | 27       |\n",
      "|    time_elapsed     | 1473     |\n",
      "|    total_timesteps  | 40000    |\n",
      "----------------------------------\n"
     ]
    },
    {
     "name": "stderr",
     "output_type": "stream",
     "text": [
      "Warning: Missing yellow phase in tlLogic '0', program '0' for tl-index 3 when switching to phase 0\n",
      "Warning: Missing yellow phase in tlLogic '0', program '1' for tl-index 5 when switching to phase 0\n",
      "Warning: Missing yellow phase in tlLogic '0', program '2' for tl-index 0 when switching to phase 0\n",
      "Warning: Missing yellow phase in tlLogic '0', program '3' for tl-index 2 when switching to phase 0\n"
     ]
    },
    {
     "name": "stdout",
     "output_type": "stream",
     "text": [
      "S"
     ]
    },
    {
     "name": "stderr",
     "output_type": "stream",
     "text": [
      "Warning: Vehicle '2_right.0' performs emergency braking with decel=-9.00 wished=4.50 severity=1.00, time=12.00.\n",
      "Warning: Vehicle '1_right.0' performs emergency braking with decel=-9.00 wished=4.50 severity=1.00, time=12.00.\n",
      "Warning: Vehicle '2_left.0' performs emergency braking with decel=-9.00 wished=4.50 severity=1.00, time=13.00.\n"
     ]
    },
    {
     "name": "stdout",
     "output_type": "stream",
     "text": [
      "Step #28.40"
     ]
    },
    {
     "name": "stderr",
     "output_type": "stream",
     "text": [
      "Warning: Vehicle '2_horizontal.1' performs emergency braking with decel=-9.00 wished=4.50 severity=1.00, time=28.00.\n",
      "Warning: Vehicle '1_horizontal.1' performs emergency braking with decel=-9.00 wished=4.50 severity=1.00, time=28.00.\n",
      "Warning: Vehicle '1_horizontal.1' performs emergency stop at the end of lane '1si_1' because of a red traffic light (decel=-11.02, offset=0.09), time=28.40.\n"
     ]
    },
    {
     "name": "stdout",
     "output_type": "stream",
     "text": [
      "Step #31.00"
     ]
    },
    {
     "name": "stderr",
     "output_type": "stream",
     "text": [
      "Warning: Vehicle '4_right.0' performs emergency braking with decel=-9.00 wished=4.50 severity=1.00, time=31.00.\n"
     ]
    },
    {
     "name": "stdout",
     "output_type": "stream",
     "text": [
      "Step #45.00"
     ]
    },
    {
     "name": "stderr",
     "output_type": "stream",
     "text": [
      "Warning: Vehicle '2_right.1' performs emergency braking with decel=-9.00 wished=4.50 severity=1.00, time=43.80.\n",
      "Warning: Vehicle '2_right.1' performs emergency stop at the end of lane '2si_0' because of a red traffic light (decel=-16.12, offset=0.05), time=43.80.\n",
      "Warning: Vehicle '2_horizontal.2' performs emergency braking with decel=-9.00 wished=4.50 severity=1.00, time=43.80.\n",
      "Warning: Vehicle '2_horizontal.2' performs emergency stop at the end of lane '2si_1' because of a red traffic light (decel=-10.75, offset=0.14), time=45.00.\n"
     ]
    },
    {
     "name": "stdout",
     "output_type": "stream",
     "text": [
      "Step #73.80"
     ]
    },
    {
     "name": "stderr",
     "output_type": "stream",
     "text": [
      "Warning: Vehicle '2_horizontal.4' performs emergency braking with decel=-9.00 wished=4.50 severity=1.00, time=73.80.\n",
      "Warning: Vehicle '2_horizontal.4' performs emergency stop at the end of lane '2si_1' because of a red traffic light (decel=-11.68, offset=0.42), time=74.60.\n"
     ]
    },
    {
     "name": "stdout",
     "output_type": "stream",
     "text": [
      "Step #74.60"
     ]
    },
    {
     "name": "stderr",
     "output_type": "stream",
     "text": [
      "Warning: Vehicle '3_left.1' performs emergency braking with decel=-9.00 wished=4.50 severity=1.00, time=76.80.\n",
      "Warning: Vehicle '4_left.1' performs emergency braking with decel=-9.00 wished=4.50 severity=1.00, time=76.80.\n",
      "Warning: Vehicle '4_left.1' performs emergency stop at the end of lane '4si_1' because of a red traffic light (decel=-18.03, offset=0.30), time=77.00.\n"
     ]
    },
    {
     "name": "stdout",
     "output_type": "stream",
     "text": [
      "Step #105.20"
     ]
    },
    {
     "name": "stderr",
     "output_type": "stream",
     "text": [
      "Warning: Vehicle '2_horizontal.6' performs emergency braking with decel=-9.00 wished=4.50 severity=1.00, time=104.60.\n",
      "Warning: Vehicle '2_horizontal.6' performs emergency stop at the end of lane '2si_1' because of a red traffic light (decel=-12.48, offset=0.49), time=105.20.\n"
     ]
    },
    {
     "name": "stdout",
     "output_type": "stream",
     "text": [
      "Step #122.60"
     ]
    },
    {
     "name": "stderr",
     "output_type": "stream",
     "text": [
      "Warning: Vehicle '3_left.2' performs emergency braking with decel=-9.00 wished=4.50 severity=1.00, time=122.60.\n",
      "Warning: Vehicle '4_left.2' performs emergency braking with decel=-9.00 wished=4.50 severity=1.00, time=122.60.\n"
     ]
    },
    {
     "name": "stdout",
     "output_type": "stream",
     "text": [
      "Step #134.40"
     ]
    },
    {
     "name": "stderr",
     "output_type": "stream",
     "text": [
      "Warning: Vehicle '2_horizontal.8' performs emergency braking with decel=-9.00 wished=4.50 severity=1.00, time=134.40.\n",
      "Warning: Vehicle '2_horizontal.8' performs emergency stop at the end of lane '2si_1' because of a red traffic light (decel=-17.46, offset=1.05), time=134.40.\n"
     ]
    },
    {
     "name": "stdout",
     "output_type": "stream",
     "text": [
      "Step #143.40 "
     ]
    },
    {
     "name": "stderr",
     "output_type": "stream",
     "text": [
      "Warning: Vehicle '2_horizontal.9' performs emergency braking with decel=-9.00 wished=4.50 severity=1.00, time=147.00.\n",
      "Warning: Vehicle '2_horizontal.9' performs emergency stop at the end of lane '2si_1' because of a red traffic light (decel=-14.29, offset=0.02), time=147.60.\n"
     ]
    },
    {
     "name": "stdout",
     "output_type": "stream",
     "text": [
      "Step #152.00"
     ]
    },
    {
     "name": "stderr",
     "output_type": "stream",
     "text": [
      "Warning: Vehicle '2_left0.1' performs emergency braking with decel=-9.00 wished=4.50 severity=1.00, time=152.00.\n"
     ]
    },
    {
     "name": "stdout",
     "output_type": "stream",
     "text": [
      "Step #162.80"
     ]
    },
    {
     "name": "stderr",
     "output_type": "stream",
     "text": [
      "Warning: Vehicle '2_right.5' performs emergency braking with decel=-9.00 wished=4.50 severity=1.00, time=162.60.\n",
      "Warning: Vehicle '1_right.5' performs emergency braking with decel=-9.00 wished=4.50 severity=1.00, time=162.60.\n",
      "Warning: Vehicle '2_right.5' performs emergency stop at the end of lane '2si_0' because of a red traffic light (decel=-17.64, offset=0.57), time=162.80.\n"
     ]
    },
    {
     "name": "stdout",
     "output_type": "stream",
     "text": [
      "Step #179.80"
     ]
    },
    {
     "name": "stderr",
     "output_type": "stream",
     "text": [
      "Warning: Vehicle '2_horizontal.11' performs emergency braking with decel=-9.00 wished=4.50 severity=1.00, time=179.60.\n",
      "Warning: Vehicle '1_horizontal0.2' performs emergency braking with decel=-9.00 wished=4.50 severity=1.00, time=179.60.\n",
      "Warning: Vehicle '1_horizontal0.2' performs emergency stop at the end of lane '1si_1' because of a red traffic light (decel=-15.19, offset=0.79), time=179.60.\n",
      "Warning: Vehicle '2_horizontal.11' performs emergency stop at the end of lane '2si_1' because of a red traffic light (decel=-17.29, offset=1.06), time=179.80.\n"
     ]
    },
    {
     "name": "stdout",
     "output_type": "stream",
     "text": [
      "Step #209.20"
     ]
    },
    {
     "name": "stderr",
     "output_type": "stream",
     "text": [
      "Warning: Vehicle '2_horizontal.13' performs emergency braking with decel=-9.00 wished=4.50 severity=1.00, time=209.00.\n",
      "Warning: Vehicle '2_horizontal.13' performs emergency stop at the end of lane '2si_1' because of a red traffic light (decel=-11.17, offset=0.23), time=209.20.\n"
     ]
    },
    {
     "name": "stdout",
     "output_type": "stream",
     "text": [
      "Step #212.80"
     ]
    },
    {
     "name": "stderr",
     "output_type": "stream",
     "text": [
      "Warning: Vehicle '4_left.4' performs emergency braking with decel=-9.00 wished=4.50 severity=1.00, time=212.60.\n",
      "Warning: Vehicle '4_left.4' performs emergency stop at the end of lane '4si_1' because of a red traffic light (decel=-16.41, offset=0.63), time=212.80.\n"
     ]
    },
    {
     "name": "stdout",
     "output_type": "stream",
     "text": [
      "Step #224.20"
     ]
    },
    {
     "name": "stderr",
     "output_type": "stream",
     "text": [
      "Warning: Vehicle '2_horizontal.14' performs emergency braking with decel=-9.00 wished=4.50 severity=1.00, time=224.20.\n",
      "Warning: Vehicle '2_horizontal.14' performs emergency stop at the end of lane '2si_1' because of a red traffic light (decel=-14.29, offset=0.72), time=224.20.\n"
     ]
    },
    {
     "name": "stdout",
     "output_type": "stream",
     "text": [
      "Step #252.20"
     ]
    },
    {
     "name": "stderr",
     "output_type": "stream",
     "text": [
      "Warning: Vehicle '2_right.8' performs emergency braking with decel=-9.00 wished=4.50 severity=1.00, time=252.20.\n",
      "Warning: Vehicle '1_right.8' performs emergency braking with decel=-9.00 wished=4.50 severity=1.00, time=252.20.\n"
     ]
    },
    {
     "name": "stdout",
     "output_type": "stream",
     "text": [
      "Step #259.20"
     ]
    },
    {
     "name": "stderr",
     "output_type": "stream",
     "text": [
      "Warning: Vehicle '4_left.5' performs emergency braking with decel=-9.00 wished=4.50 severity=1.00, time=259.20.\n",
      "Warning: Vehicle '4_left.5' performs emergency stop at the end of lane '4si_1' because of a red traffic light (decel=-11.65, offset=0.11), time=259.20.\n"
     ]
    },
    {
     "name": "stdout",
     "output_type": "stream",
     "text": [
      "Step #282.60"
     ]
    },
    {
     "name": "stderr",
     "output_type": "stream",
     "text": [
      "Warning: Vehicle '3_left.5' performs emergency braking with decel=-9.00 wished=4.50 severity=1.00, time=281.60.\n",
      "Warning: Vehicle '2_right.9' performs emergency braking with decel=-9.00 wished=4.50 severity=1.00, time=282.60.\n",
      "Warning: Vehicle '1_left.6' performs emergency braking with decel=-9.00 wished=4.50 severity=1.00, time=284.00.\n",
      "Warning: Vehicle '1_left.6' performs emergency stop at the end of lane '1si_2' because of a red traffic light (decel=-19.75, offset=1.34), time=284.20.\n"
     ]
    },
    {
     "name": "stdout",
     "output_type": "stream",
     "text": [
      "Step #383.20 (0ms ?*RT."
     ]
    },
    {
     "name": "stderr",
     "output_type": "stream",
     "text": [
      "Warning: Vehicle '2_left0.5' performs emergency braking with decel=-9.00 wished=4.50 severity=1.00, time=391.40.\n",
      "Warning: Vehicle '2_left0.5' performs emergency stop at the end of lane '2si_2' because of a red traffic light (decel=-20.64, offset=1.01), time=391.60.\n"
     ]
    },
    {
     "name": "stdout",
     "output_type": "stream",
     "text": [
      "Step #391.60"
     ]
    },
    {
     "name": "stderr",
     "output_type": "stream",
     "text": [
      "Warning: Vehicle '4_left.8' performs emergency braking with decel=-9.00 wished=4.50 severity=1.00, time=393.40.\n",
      "Warning: Vehicle '4_left.8' performs emergency stop at the end of lane '4si_1' because of a red traffic light (decel=-19.64, offset=0.03), time=393.60.\n"
     ]
    },
    {
     "name": "stdout",
     "output_type": "stream",
     "text": [
      "Step #402.60 "
     ]
    },
    {
     "name": "stderr",
     "output_type": "stream",
     "text": [
      "Warning: Vehicle '1_right.10' performs emergency braking with decel=-9.00 wished=4.50 severity=1.00, time=411.40.\n"
     ]
    },
    {
     "name": "stdout",
     "output_type": "stream",
     "text": [
      "Step #429.40 ("
     ]
    },
    {
     "name": "stderr",
     "output_type": "stream",
     "text": [
      "Warning: Vehicle '4_left.9' performs emergency braking with decel=-9.00 wished=4.50 severity=1.00, time=437.20.\n"
     ]
    },
    {
     "name": "stdout",
     "output_type": "stream",
     "text": [
      "Step #462.20"
     ]
    },
    {
     "name": "stderr",
     "output_type": "stream",
     "text": [
      "Warning: Vehicle '2_right.15' performs emergency braking with decel=-9.00 wished=4.50 severity=1.00, time=462.20.\n"
     ]
    },
    {
     "name": "stdout",
     "output_type": "stream",
     "text": [
      "Step #480.20 ("
     ]
    },
    {
     "name": "stderr",
     "output_type": "stream",
     "text": [
      "Warning: Vehicle '1_right.11' performs emergency braking with decel=-9.00 wished=4.50 severity=1.00, time=487.80.\n"
     ]
    },
    {
     "name": "stdout",
     "output_type": "stream",
     "text": [
      "Step #487.80"
     ]
    },
    {
     "name": "stderr",
     "output_type": "stream",
     "text": [
      "Warning: Vehicle '2_right.16' performs emergency braking with decel=-9.00 wished=4.50 severity=1.00, time=492.60.\n",
      "Warning: Vehicle '2_right.16' performs emergency stop at the end of lane '2si_0' because of a red traffic light (decel=-19.74, offset=0.71), time=492.80.\n"
     ]
    },
    {
     "name": "stdout",
     "output_type": "stream",
     "text": [
      "Step #500.00"
     ]
    },
    {
     "name": "stderr",
     "output_type": "stream",
     "text": [
      "Warning: Choosing new speed factor 1.23 for vehicle '3_vertical0.22' to match departure speed.\n"
     ]
    },
    {
     "name": "stdout",
     "output_type": "stream",
     "text": [
      "Step #526.60"
     ]
    },
    {
     "name": "stderr",
     "output_type": "stream",
     "text": [
      "Warning: Vehicle '1_left.8' performs emergency braking with decel=-9.00 wished=4.50 severity=1.00, time=526.40.\n",
      "Warning: Vehicle '1_left.8' performs emergency stop at the end of lane '1si_2' because of a red traffic light (decel=-11.21, offset=0.29), time=526.60.\n"
     ]
    },
    {
     "name": "stdout",
     "output_type": "stream",
     "text": [
      "Step #562.60 (1m"
     ]
    },
    {
     "name": "stderr",
     "output_type": "stream",
     "text": [
      "Warning: Vehicle '1_left.9' performs emergency braking with decel=-9.00 wished=4.50 severity=1.00, time=564.80.\n",
      "Warning: Vehicle '1_left.9' performs emergency stop at the end of lane '1si_2' because of a red traffic light (decel=-10.19, offset=0.13), time=565.20.\n"
     ]
    },
    {
     "name": "stdout",
     "output_type": "stream",
     "text": [
      "Step #610.20 (1ms"
     ]
    },
    {
     "name": "stderr",
     "output_type": "stream",
     "text": [
      "Warning: Vehicle '2_left.11' performs emergency braking with decel=-9.00 wished=4.50 severity=1.00, time=618.80.\n",
      "Warning: Vehicle '2_left.11' performs emergency stop at the end of lane '2si_2' because of a red traffic light (decel=-10.90, offset=0.02), time=619.20.\n"
     ]
    },
    {
     "name": "stdout",
     "output_type": "stream",
     "text": [
      "Step #637.20 ("
     ]
    },
    {
     "name": "stderr",
     "output_type": "stream",
     "text": [
      "Warning: Vehicle '2_right.21' performs emergency braking with decel=-9.00 wished=4.50 severity=1.00, time=641.40.\n",
      "Warning: Vehicle '2_right.21' performs emergency stop at the end of lane '2si_0' because of a red traffic light (decel=-16.75, offset=1.27), time=642.00.\n"
     ]
    },
    {
     "name": "stdout",
     "output_type": "stream",
     "text": [
      "Step #642.80"
     ]
    },
    {
     "name": "stderr",
     "output_type": "stream",
     "text": [
      "Warning: Vehicle '1_left.10' performs emergency braking with decel=-9.00 wished=4.50 severity=1.00, time=642.40.\n",
      "Warning: Vehicle '1_left.10' performs emergency stop at the end of lane '1si_2' because of a red traffic light (decel=-14.84, offset=0.19), time=642.80.\n"
     ]
    },
    {
     "name": "stdout",
     "output_type": "stream",
     "text": [
      "Step #760.20"
     ]
    },
    {
     "name": "stderr",
     "output_type": "stream",
     "text": [
      "Warning: Vehicle '3_left.10' performs emergency braking with decel=-9.00 wished=4.50 severity=1.00, time=760.20.\n",
      "Warning: Vehicle '3_left.10' performs emergency stop at the end of lane '3si_1' because of a red traffic light (decel=-14.20, offset=0.52), time=760.20.\n"
     ]
    },
    {
     "name": "stdout",
     "output_type": "stream",
     "text": [
      "Step #761.40"
     ]
    },
    {
     "name": "stderr",
     "output_type": "stream",
     "text": [
      "Warning: Vehicle '2_right.25' performs emergency braking with decel=-9.00 wished=4.50 severity=1.00, time=761.40.\n"
     ]
    },
    {
     "name": "stdout",
     "output_type": "stream",
     "text": [
      "Step #810.00"
     ]
    },
    {
     "name": "stderr",
     "output_type": "stream",
     "text": [
      "Warning: Choosing new speed factor 1.24 for vehicle '1_horizontal0.38' to match departure speed.\n"
     ]
    },
    {
     "name": "stdout",
     "output_type": "stream",
     "text": [
      "Step #813.60"
     ]
    },
    {
     "name": "stderr",
     "output_type": "stream",
     "text": [
      "Warning: Vehicle '4_left.14' performs emergency braking with decel=-9.00 wished=4.50 severity=1.00, time=812.80.\n",
      "Warning: Vehicle '1_right.17' performs emergency braking with decel=-9.00 wished=4.50 severity=1.00, time=813.40.\n",
      "Warning: Vehicle '1_right.17' performs emergency stop at the end of lane '1si_0' because of a red traffic light (decel=-11.20, offset=0.05), time=813.60.\n"
     ]
    },
    {
     "name": "stdout",
     "output_type": "stream",
     "text": [
      "Step #836.60"
     ]
    },
    {
     "name": "stderr",
     "output_type": "stream",
     "text": [
      "Warning: Vehicle '2_left.15' performs emergency braking with decel=-9.00 wished=4.50 severity=1.00, time=836.60.\n"
     ]
    },
    {
     "name": "stdout",
     "output_type": "stream",
     "text": [
      "Step #872.40"
     ]
    },
    {
     "name": "stderr",
     "output_type": "stream",
     "text": [
      "Warning: Vehicle '2_left0.13' performs emergency braking with decel=-9.00 wished=4.50 severity=1.00, time=872.40.\n"
     ]
    },
    {
     "name": "stdout",
     "output_type": "stream",
     "text": [
      "Step #909.40"
     ]
    },
    {
     "name": "stderr",
     "output_type": "stream",
     "text": [
      "Warning: Vehicle '4_left.15' performs emergency braking with decel=-9.00 wished=4.50 severity=1.00, time=909.40.\n",
      "Warning: Vehicle '4_left.15' performs emergency stop at the end of lane '4si_1' because of a red traffic light (decel=-19.46, offset=1.56), time=909.60.\n"
     ]
    },
    {
     "name": "stdout",
     "output_type": "stream",
     "text": [
      "Step #928.60"
     ]
    },
    {
     "name": "stderr",
     "output_type": "stream",
     "text": [
      "Warning: Vehicle '3_vertical.15' performs emergency braking with decel=-9.00 wished=4.50 severity=1.00, time=928.60.\n",
      "Warning: Vehicle '3_vertical.15' performs emergency stop at the end of lane '3si_0' because of a red traffic light (decel=-14.65, offset=0.85), time=928.60.\n"
     ]
    },
    {
     "name": "stdout",
     "output_type": "stream",
     "text": [
      "Step #939.60"
     ]
    },
    {
     "name": "stderr",
     "output_type": "stream",
     "text": [
      "Warning: Vehicle '2_right.31' performs emergency braking with decel=-9.00 wished=4.50 severity=1.00, time=939.60.\n"
     ]
    },
    {
     "name": "stdout",
     "output_type": "stream",
     "text": [
      "Step #975.00"
     ]
    },
    {
     "name": "stderr",
     "output_type": "stream",
     "text": [
      "Warning: Vehicle '2_horizontal.59' performs emergency braking with decel=-9.00 wished=4.50 severity=1.00, time=974.00.\n",
      "Warning: Vehicle '2_horizontal.59' performs emergency stop at the end of lane '2si_1' because of a red traffic light (decel=-14.00, offset=0.58), time=974.00.\n",
      "Warning: Choosing new speed factor 1.30 for vehicle '1_horizontal.65' to match departure speed.\n"
     ]
    },
    {
     "name": "stdout",
     "output_type": "stream",
     "text": [
      "Step #993.80"
     ]
    },
    {
     "name": "stderr",
     "output_type": "stream",
     "text": [
      "Warning: Vehicle '2_left0.15' performs emergency braking with decel=-9.00 wished=4.50 severity=1.00, time=993.80.\n",
      "Warning: Vehicle '2_left0.15' performs emergency stop at the end of lane '2si_2' because of a red traffic light (decel=-16.99, offset=0.88), time=993.80.\n"
     ]
    },
    {
     "name": "stdout",
     "output_type": "stream",
     "text": [
      "Cumulative Reward: -458.5237130059728\n",
      " Retrying in 1 seconds\n",
      "Loading configuration ... done.\n"
     ]
    },
    {
     "name": "stderr",
     "output_type": "stream",
     "text": [
      "Warning: Missing yellow phase in tlLogic '0', program '0' for tl-index 3 when switching to phase 0\n",
      "Warning: Missing yellow phase in tlLogic '0', program '1' for tl-index 5 when switching to phase 0\n",
      "Warning: Missing yellow phase in tlLogic '0', program '2' for tl-index 0 when switching to phase 0\n",
      "Warning: Missing yellow phase in tlLogic '0', program '3' for tl-index 2 when switching to phase 0\n"
     ]
    },
    {
     "name": "stdout",
     "output_type": "stream",
     "text": [
      "Step #15.80"
     ]
    },
    {
     "name": "stderr",
     "output_type": "stream",
     "text": [
      "Warning: Vehicle '2_horizontal.0' performs emergency braking with decel=-9.00 wished=4.50 severity=1.00, time=15.60.\n",
      "Warning: Vehicle '2_horizontal.0' performs emergency stop at the end of lane '2si_1' because of a red traffic light (decel=-21.33, offset=0.98), time=15.60.\n",
      "Warning: Vehicle '1_horizontal.0' performs emergency braking with decel=-9.00 wished=4.50 severity=1.00, time=15.60.\n",
      "Warning: Vehicle '1_horizontal.0' performs emergency stop at the end of lane '1si_1' because of a red traffic light (decel=-20.12, offset=1.60), time=15.80.\n"
     ]
    },
    {
     "name": "stdout",
     "output_type": "stream",
     "text": [
      "Step #43.80"
     ]
    },
    {
     "name": "stderr",
     "output_type": "stream",
     "text": [
      "Warning: Vehicle '2_right.1' performs emergency braking with decel=-9.00 wished=4.50 severity=1.00, time=43.20.\n",
      "Warning: Vehicle '1_right.1' performs emergency braking with decel=-9.00 wished=4.50 severity=1.00, time=43.20.\n",
      "Warning: Vehicle '1_right.1' performs emergency stop at the end of lane '1si_0' because of a red traffic light (decel=-14.19, offset=0.85), time=43.20.\n",
      "Warning: Vehicle '2_right.1' performs emergency stop at the end of lane '2si_0' because of a red traffic light (decel=-13.27, offset=0.68), time=43.80.\n"
     ]
    },
    {
     "name": "stdout",
     "output_type": "stream",
     "text": [
      "Step #58.00"
     ]
    },
    {
     "name": "stderr",
     "output_type": "stream",
     "text": [
      "Warning: Vehicle '1_left.1' performs emergency braking with decel=-9.00 wished=4.50 severity=1.00, time=58.00.\n"
     ]
    },
    {
     "name": "stdout",
     "output_type": "stream",
     "text": [
      "Step #73.20"
     ]
    },
    {
     "name": "stderr",
     "output_type": "stream",
     "text": [
      "Warning: Vehicle '1_right.2' performs emergency braking with decel=-9.00 wished=4.50 severity=1.00, time=73.20.\n",
      "Warning: Vehicle '1_right.2' performs emergency stop at the end of lane '1si_0' because of a red traffic light (decel=-15.14, offset=0.49), time=73.20.\n"
     ]
    },
    {
     "name": "stdout",
     "output_type": "stream",
     "text": [
      "Step #91.20 ("
     ]
    },
    {
     "name": "stderr",
     "output_type": "stream",
     "text": [
      "Warning: Vehicle '2_left0.0' performs emergency braking with decel=-9.00 wished=4.50 severity=1.00, time=94.20.\n",
      "Warning: Vehicle '2_left0.0' performs emergency stop at the end of lane '2si_2' because of a red traffic light (decel=-13.94, offset=0.79), time=94.20.\n"
     ]
    },
    {
     "name": "stdout",
     "output_type": "stream",
     "text": [
      "Step #94.20"
     ]
    },
    {
     "name": "stderr",
     "output_type": "stream",
     "text": [
      "Warning: Vehicle '2_right.3' performs emergency braking with decel=-9.00 wished=4.50 severity=1.00, time=103.20.\n"
     ]
    },
    {
     "name": "stdout",
     "output_type": "stream",
     "text": [
      "Step #121.20 ("
     ]
    },
    {
     "name": "stderr",
     "output_type": "stream",
     "text": [
      "Warning: Vehicle '4_left.2' performs emergency braking with decel=-9.00 wished=4.50 severity=1.00, time=123.60.\n",
      "Warning: Vehicle '4_left.2' performs emergency stop at the end of lane '4si_1' because of a red traffic light (decel=-17.29, offset=1.57), time=123.60.\n"
     ]
    },
    {
     "name": "stdout",
     "output_type": "stream",
     "text": [
      "Step #130.60"
     ]
    },
    {
     "name": "stderr",
     "output_type": "stream",
     "text": [
      "Warning: Vehicle '2_right.4' performs emergency braking with decel=-9.00 wished=4.50 severity=1.00, time=130.60.\n"
     ]
    },
    {
     "name": "stdout",
     "output_type": "stream",
     "text": [
      "Step #146.80"
     ]
    },
    {
     "name": "stderr",
     "output_type": "stream",
     "text": [
      "Warning: Vehicle '1_left.3' performs emergency braking with decel=-9.00 wished=4.50 severity=1.00, time=146.80.\n",
      "Warning: Vehicle '1_left.3' performs emergency stop at the end of lane '1si_2' because of a red traffic light (decel=-23.17, offset=1.91), time=146.80.\n"
     ]
    },
    {
     "name": "stdout",
     "output_type": "stream",
     "text": [
      "Step #168.60"
     ]
    },
    {
     "name": "stderr",
     "output_type": "stream",
     "text": [
      "Warning: Vehicle '3_left.3' performs emergency braking with decel=-9.00 wished=4.50 severity=1.00, time=168.40.\n",
      "Warning: Vehicle '3_left.3' performs emergency stop at the end of lane '3si_1' because of a red traffic light (decel=-15.39, offset=0.11), time=168.60.\n"
     ]
    },
    {
     "name": "stdout",
     "output_type": "stream",
     "text": [
      "Step #186.60 ("
     ]
    },
    {
     "name": "stderr",
     "output_type": "stream",
     "text": [
      "Warning: Vehicle '1_left.4' performs emergency braking with decel=-9.00 wished=4.50 severity=1.00, time=194.40.\n",
      "Warning: Vehicle '1_left.4' performs emergency stop at the end of lane '1si_2' because of a red traffic light (decel=-13.70, offset=0.82), time=194.80.\n"
     ]
    },
    {
     "name": "stdout",
     "output_type": "stream",
     "text": [
      "Step #211.60"
     ]
    },
    {
     "name": "stderr",
     "output_type": "stream",
     "text": [
      "Warning: Vehicle '3_left.4' performs emergency braking with decel=-9.00 wished=4.50 severity=1.00, time=211.60.\n",
      "Warning: Vehicle '4_left.4' performs emergency braking with decel=-9.00 wished=4.50 severity=1.00, time=211.60.\n"
     ]
    },
    {
     "name": "stdout",
     "output_type": "stream",
     "text": [
      "Step #213.40"
     ]
    },
    {
     "name": "stderr",
     "output_type": "stream",
     "text": [
      "Warning: Vehicle '2_left0.2' performs emergency braking with decel=-9.00 wished=4.50 severity=1.00, time=213.00.\n",
      "Warning: Vehicle '2_left0.2' performs emergency stop at the end of lane '2si_2' because of a red traffic light (decel=-10.21, offset=0.11), time=213.40.\n"
     ]
    },
    {
     "name": "stdout",
     "output_type": "stream",
     "text": [
      "Step #231.40 ("
     ]
    },
    {
     "name": "stderr",
     "output_type": "stream",
     "text": [
      "Warning: Vehicle '1_horizontal0.2' performs emergency braking with decel=-9.00 wished=4.50 severity=1.00, time=239.60.\n"
     ]
    },
    {
     "name": "stdout",
     "output_type": "stream",
     "text": [
      "Step #257.60 ("
     ]
    },
    {
     "name": "stderr",
     "output_type": "stream",
     "text": [
      "Warning: Vehicle '1_left.5' performs emergency braking with decel=-9.00 wished=4.50 severity=1.00, time=261.40.\n"
     ]
    },
    {
     "name": "stdout",
     "output_type": "stream",
     "text": [
      "Step #270.40 "
     ]
    },
    {
     "name": "stderr",
     "output_type": "stream",
     "text": [
      "Warning: Vehicle '2_left0.3' performs emergency braking with decel=-9.00 wished=4.50 severity=1.00, time=273.00.\n",
      "Warning: Vehicle '2_left0.3' performs emergency stop at the end of lane '2si_2' because of a red traffic light (decel=-15.12, offset=0.41), time=273.00.\n"
     ]
    },
    {
     "name": "stdout",
     "output_type": "stream",
     "text": [
      "Step #302.40"
     ]
    },
    {
     "name": "stderr",
     "output_type": "stream",
     "text": [
      "Warning: Vehicle '4_left.6' performs emergency braking with decel=-9.00 wished=4.50 severity=1.00, time=302.00.\n",
      "Warning: Vehicle '4_left.6' performs emergency stop at the end of lane '4si_1' because of a red traffic light (decel=-14.51, offset=0.47), time=302.40.\n"
     ]
    },
    {
     "name": "stdout",
     "output_type": "stream",
     "text": [
      "Step #348.40"
     ]
    },
    {
     "name": "stderr",
     "output_type": "stream",
     "text": [
      "Warning: Vehicle '4_left.7' performs emergency braking with decel=-9.00 wished=4.50 severity=1.00, time=348.40.\n",
      "Warning: Vehicle '4_left.7' performs emergency stop at the end of lane '4si_1' because of a red traffic light (decel=-12.07, offset=0.12), time=348.40.\n"
     ]
    },
    {
     "name": "stdout",
     "output_type": "stream",
     "text": [
      "Step #392.00"
     ]
    },
    {
     "name": "stderr",
     "output_type": "stream",
     "text": [
      "Warning: Vehicle '3_left.6' performs emergency braking with decel=-9.00 wished=4.50 severity=1.00, time=392.00.\n"
     ]
    },
    {
     "name": "stdout",
     "output_type": "stream",
     "text": [
      "Step #413.20"
     ]
    },
    {
     "name": "stderr",
     "output_type": "stream",
     "text": [
      "Warning: Vehicle '1_horizontal0.6' performs emergency braking with decel=-9.00 wished=4.50 severity=1.00, time=413.00.\n",
      "Warning: Vehicle '1_horizontal0.6' performs emergency stop at the end of lane '1si_1' because of a red traffic light (decel=-11.43, offset=0.01), time=413.20.\n"
     ]
    },
    {
     "name": "stdout",
     "output_type": "stream",
     "text": [
      "Step #431.80"
     ]
    },
    {
     "name": "stderr",
     "output_type": "stream",
     "text": [
      "Warning: Vehicle '2_right.14' performs emergency braking with decel=-9.00 wished=4.50 severity=1.00, time=431.80.\n",
      "Warning: Vehicle '4_left.9' performs emergency braking with decel=-9.00 wished=4.50 severity=1.00, time=439.40.\n",
      "Warning: Vehicle '4_left.9' performs emergency stop at the end of lane '4si_1' because of a red traffic light (decel=-11.42, offset=0.21), time=439.40.\n",
      "Warning: Vehicle '1_right.10' performs emergency braking with decel=-9.00 wished=4.50 severity=1.00, time=440.00.\n"
     ]
    },
    {
     "name": "stdout",
     "output_type": "stream",
     "text": [
      "Step #452.40"
     ]
    },
    {
     "name": "stderr",
     "output_type": "stream",
     "text": [
      "Warning: Vehicle '2_left.8' performs emergency braking with decel=-9.00 wished=4.50 severity=1.00, time=452.20.\n",
      "Warning: Vehicle '2_left.8' performs emergency stop at the end of lane '2si_2' because of a red traffic light (decel=-18.31, offset=0.28), time=452.40.\n"
     ]
    },
    {
     "name": "stdout",
     "output_type": "stream",
     "text": [
      "Step #497.40 (0ms"
     ]
    },
    {
     "name": "stderr",
     "output_type": "stream",
     "text": [
      "Warning: Choosing new speed factor 1.23 for vehicle '3_vertical0.22' to match departure speed.\n"
     ]
    },
    {
     "name": "stdout",
     "output_type": "stream",
     "text": [
      "Step #554.00 (0ms "
     ]
    },
    {
     "name": "stderr",
     "output_type": "stream",
     "text": [
      "Warning: Vehicle '1_left.8' performs emergency braking with decel=-9.00 wished=4.50 severity=1.00, time=555.80.\n"
     ]
    },
    {
     "name": "stdout",
     "output_type": "stream",
     "text": [
      "Step #593.80"
     ]
    },
    {
     "name": "stderr",
     "output_type": "stream",
     "text": [
      "Warning: Vehicle '1_left.9' performs emergency braking with decel=-9.00 wished=4.50 severity=1.00, time=593.80.\n"
     ]
    },
    {
     "name": "stdout",
     "output_type": "stream",
     "text": [
      "Step #612.20"
     ]
    },
    {
     "name": "stderr",
     "output_type": "stream",
     "text": [
      "Warning: Vehicle '2_right.20' performs emergency braking with decel=-9.00 wished=4.50 severity=1.00, time=612.20.\n"
     ]
    },
    {
     "name": "stdout",
     "output_type": "stream",
     "text": [
      "Step #673.40"
     ]
    },
    {
     "name": "stderr",
     "output_type": "stream",
     "text": [
      "Warning: Vehicle '2_right.22' performs emergency braking with decel=-9.00 wished=4.50 severity=1.00, time=672.60.\n",
      "Warning: Vehicle '2_right.22' performs emergency stop at the end of lane '2si_0' because of a red traffic light (decel=-12.91, offset=0.45), time=673.40.\n"
     ]
    },
    {
     "name": "stdout",
     "output_type": "stream",
     "text": [
      "Step #721.20"
     ]
    },
    {
     "name": "stderr",
     "output_type": "stream",
     "text": [
      "Warning: Vehicle '4_left.12' performs emergency braking with decel=-9.00 wished=4.50 severity=1.00, time=721.20.\n"
     ]
    },
    {
     "name": "stdout",
     "output_type": "stream",
     "text": [
      "Step #730.20 "
     ]
    },
    {
     "name": "stderr",
     "output_type": "stream",
     "text": [
      "Warning: Vehicle '2_right.24' performs emergency braking with decel=-9.00 wished=4.50 severity=1.00, time=732.60.\n"
     ]
    },
    {
     "name": "stdout",
     "output_type": "stream",
     "text": [
      "Step #750.60 ("
     ]
    },
    {
     "name": "stderr",
     "output_type": "stream",
     "text": [
      "Warning: Vehicle '1_right.16' performs emergency braking with decel=-9.00 wished=4.50 severity=1.00, time=753.20.\n",
      "Warning: Vehicle '1_right.16' performs emergency stop at the end of lane '1si_0' because of a red traffic light (decel=-23.04, offset=1.39), time=753.20.\n"
     ]
    },
    {
     "name": "stdout",
     "output_type": "stream",
     "text": [
      "Step #766.60"
     ]
    },
    {
     "name": "stderr",
     "output_type": "stream",
     "text": [
      "Warning: Vehicle '4_left.13' performs emergency braking with decel=-9.00 wished=4.50 severity=1.00, time=766.60.\n"
     ]
    },
    {
     "name": "stdout",
     "output_type": "stream",
     "text": [
      "Step #793.60"
     ]
    },
    {
     "name": "stderr",
     "output_type": "stream",
     "text": [
      "Warning: Vehicle '2_right.26' performs emergency braking with decel=-9.00 wished=4.50 severity=1.00, time=793.40.\n",
      "Warning: Vehicle '2_right.26' performs emergency stop at the end of lane '2si_0' because of a red traffic light (decel=-17.02, offset=1.18), time=793.60.\n"
     ]
    },
    {
     "name": "stdout",
     "output_type": "stream",
     "text": [
      "Step #802.60 "
     ]
    },
    {
     "name": "stderr",
     "output_type": "stream",
     "text": [
      "Warning: Choosing new speed factor 1.24 for vehicle '1_horizontal0.38' to match departure speed.\n"
     ]
    },
    {
     "name": "stdout",
     "output_type": "stream",
     "text": [
      "Step #839.60"
     ]
    },
    {
     "name": "stderr",
     "output_type": "stream",
     "text": [
      "Warning: Vehicle '4_left.14' performs emergency braking with decel=-9.00 wished=4.50 severity=1.00, time=839.60.\n"
     ]
    },
    {
     "name": "stdout",
     "output_type": "stream",
     "text": [
      "Step #866.40"
     ]
    },
    {
     "name": "stderr",
     "output_type": "stream",
     "text": [
      "Warning: Vehicle '2_right.28' performs emergency braking with decel=-9.00 wished=4.50 severity=1.00, time=866.20.\n",
      "Warning: Vehicle '2_right.28' performs emergency stop at the end of lane '2si_0' because of a red traffic light (decel=-10.25, offset=0.24), time=866.40.\n"
     ]
    },
    {
     "name": "stdout",
     "output_type": "stream",
     "text": [
      "Step #908.80"
     ]
    },
    {
     "name": "stderr",
     "output_type": "stream",
     "text": [
      "Warning: Vehicle '1_left.12' performs emergency braking with decel=-9.00 wished=4.50 severity=1.00, time=908.80.\n"
     ]
    },
    {
     "name": "stdout",
     "output_type": "stream",
     "text": [
      "Step #963.60"
     ]
    },
    {
     "name": "stderr",
     "output_type": "stream",
     "text": [
      "Warning: Vehicle '3_left.11' performs emergency braking with decel=-9.00 wished=4.50 severity=1.00, time=963.60.\n",
      "Warning: Vehicle '3_left.11' performs emergency stop at the end of lane '3si_1' because of a red traffic light (decel=-14.63, offset=0.15), time=963.60.\n"
     ]
    },
    {
     "name": "stdout",
     "output_type": "stream",
     "text": [
      "Step #972.60 "
     ]
    },
    {
     "name": "stderr",
     "output_type": "stream",
     "text": [
      "Warning: Choosing new speed factor 1.30 for vehicle '1_horizontal.65' to match departure speed.\n"
     ]
    },
    {
     "name": "stdout",
     "output_type": "stream",
     "text": [
      "Step #993.00 (Cumulative Reward: -535.2579362747283\n",
      " Retrying in 1 seconds\n",
      "Loading configuration ... done.\n"
     ]
    },
    {
     "name": "stderr",
     "output_type": "stream",
     "text": [
      "Warning: Missing yellow phase in tlLogic '0', program '0' for tl-index 3 when switching to phase 0\n",
      "Warning: Missing yellow phase in tlLogic '0', program '1' for tl-index 5 when switching to phase 0\n",
      "Warning: Missing yellow phase in tlLogic '0', program '2' for tl-index 0 when switching to phase 0\n",
      "Warning: Missing yellow phase in tlLogic '0', program '3' for tl-index 2 when switching to phase 0\n"
     ]
    },
    {
     "name": "stdout",
     "output_type": "stream",
     "text": [
      "Step #272.60"
     ]
    },
    {
     "name": "stderr",
     "output_type": "stream",
     "text": [
      "Warning: Vehicle '2_left0.3' performs emergency braking with decel=-9.00 wished=4.50 severity=1.00, time=272.60.\n"
     ]
    },
    {
     "name": "stdout",
     "output_type": "stream",
     "text": [
      "Step #309.20"
     ]
    },
    {
     "name": "stderr",
     "output_type": "stream",
     "text": [
      "Warning: Vehicle '3_right.3' performs emergency braking with decel=-9.00 wished=4.50 severity=1.00, time=309.00.\n",
      "Warning: Vehicle '3_right.3' performs emergency stop at the end of lane '3si_0' because of a red traffic light (decel=-17.32, offset=1.41), time=309.20.\n"
     ]
    },
    {
     "name": "stdout",
     "output_type": "stream",
     "text": [
      "Step #441.20"
     ]
    },
    {
     "name": "stderr",
     "output_type": "stream",
     "text": [
      "Warning: Vehicle '3_left.5' performs emergency braking with decel=-9.00 wished=4.50 severity=1.00, time=440.60.\n",
      "Warning: Vehicle '1_horizontal0.2' performs emergency braking with decel=-9.00 wished=4.50 severity=1.00, time=441.20.\n"
     ]
    },
    {
     "name": "stdout",
     "output_type": "stream",
     "text": [
      "Step #441.40"
     ]
    },
    {
     "name": "stderr",
     "output_type": "stream",
     "text": [
      "Warning: Vehicle '1_horizontal0.2' performs emergency stop at the end of lane '1si_1' because of a red traffic light (decel=-10.53, offset=0.25), time=441.40.\n"
     ]
    },
    {
     "name": "stdout",
     "output_type": "stream",
     "text": [
      "Step #495.60"
     ]
    },
    {
     "name": "stderr",
     "output_type": "stream",
     "text": [
      "Warning: Vehicle '3_vertical0.5' performs emergency braking with decel=-9.00 wished=4.50 severity=1.00, time=495.40.\n",
      "Warning: Vehicle '3_vertical0.5' performs emergency stop at the end of lane '3si_0' because of a red traffic light (decel=-10.89, offset=0.23), time=495.60.\n"
     ]
    },
    {
     "name": "stdout",
     "output_type": "stream",
     "text": [
      "Step #500.00"
     ]
    },
    {
     "name": "stderr",
     "output_type": "stream",
     "text": [
      "Warning: Choosing new speed factor 1.23 for vehicle '3_vertical0.22' to match departure speed.\n"
     ]
    },
    {
     "name": "stdout",
     "output_type": "stream",
     "text": [
      "Step #505.00"
     ]
    },
    {
     "name": "stderr",
     "output_type": "stream",
     "text": [
      "Warning: Vehicle '1_right.8' performs emergency braking with decel=-9.00 wished=4.50 severity=1.00, time=505.00.\n"
     ]
    },
    {
     "name": "stdout",
     "output_type": "stream",
     "text": [
      "Step #707.00"
     ]
    },
    {
     "name": "stderr",
     "output_type": "stream",
     "text": [
      "Warning: Vehicle '2_horizontal.13' performs emergency braking with decel=-9.00 wished=4.50 severity=1.00, time=706.80.\n",
      "Warning: Vehicle '2_horizontal.13' performs emergency stop at the end of lane '2si_1' because of a red traffic light (decel=-16.12, offset=0.93), time=706.80.\n",
      "Warning: Vehicle '1_horizontal.10' performs emergency braking with decel=-9.00 wished=4.50 severity=1.00, time=706.80.\n",
      "Warning: Vehicle '1_horizontal.10' performs emergency stop at the end of lane '1si_1' because of a red traffic light (decel=-14.18, offset=0.48), time=707.00.\n"
     ]
    },
    {
     "name": "stdout",
     "output_type": "stream",
     "text": [
      "Step #725.00 ("
     ]
    },
    {
     "name": "stderr",
     "output_type": "stream",
     "text": [
      "Warning: Vehicle '2_left.7' performs emergency braking with decel=-9.00 wished=4.50 severity=1.00, time=728.80.\n",
      "Warning: Vehicle '2_left.7' performs emergency stop at the end of lane '2si_2' because of a red traffic light (decel=-20.19, offset=0.91), time=729.00.\n"
     ]
    },
    {
     "name": "stdout",
     "output_type": "stream",
     "text": [
      "Step #729.00"
     ]
    },
    {
     "name": "stderr",
     "output_type": "stream",
     "text": [
      "Warning: Vehicle '2_right.13' performs emergency braking with decel=-9.00 wished=4.50 severity=1.00, time=730.80.\n",
      "Warning: Vehicle '1_left.6' performs emergency braking with decel=-9.00 wished=4.50 severity=1.00, time=731.40.\n"
     ]
    },
    {
     "name": "stdout",
     "output_type": "stream",
     "text": [
      "Step #792.00"
     ]
    },
    {
     "name": "stderr",
     "output_type": "stream",
     "text": [
      "Warning: Vehicle '4_left.11' performs emergency braking with decel=-9.00 wished=4.50 severity=1.00, time=792.00.\n"
     ]
    },
    {
     "name": "stdout",
     "output_type": "stream",
     "text": [
      "Step #794.60"
     ]
    },
    {
     "name": "stderr",
     "output_type": "stream",
     "text": [
      "Warning: Vehicle '3_left.8' performs emergency braking with decel=-9.00 wished=4.50 severity=1.00, time=794.60.\n"
     ]
    },
    {
     "name": "stdout",
     "output_type": "stream",
     "text": [
      "Step #803.60 "
     ]
    },
    {
     "name": "stderr",
     "output_type": "stream",
     "text": [
      "Warning: Choosing new speed factor 1.24 for vehicle '1_horizontal0.38' to match departure speed.\n"
     ]
    },
    {
     "name": "stdout",
     "output_type": "stream",
     "text": [
      "Step #938.00"
     ]
    },
    {
     "name": "stderr",
     "output_type": "stream",
     "text": [
      "Warning: Vehicle '1_right.11' performs emergency braking with decel=-9.00 wished=4.50 severity=1.00, time=938.00.\n"
     ]
    },
    {
     "name": "stdout",
     "output_type": "stream",
     "text": [
      "Step #974.00 (1m"
     ]
    },
    {
     "name": "stderr",
     "output_type": "stream",
     "text": [
      "Warning: Choosing new speed factor 1.30 for vehicle '1_horizontal.65' to match departure speed.\n"
     ]
    },
    {
     "name": "stdout",
     "output_type": "stream",
     "text": [
      "Step #993.00 (Cumulative Reward: -1981.6987073909588\n",
      " Retrying in 1 seconds\n",
      "Loading configuration ... done.\n"
     ]
    },
    {
     "name": "stderr",
     "output_type": "stream",
     "text": [
      "Warning: Missing yellow phase in tlLogic '0', program '0' for tl-index 3 when switching to phase 0\n",
      "Warning: Missing yellow phase in tlLogic '0', program '1' for tl-index 5 when switching to phase 0\n",
      "Warning: Missing yellow phase in tlLogic '0', program '2' for tl-index 0 when switching to phase 0\n",
      "Warning: Missing yellow phase in tlLogic '0', program '3' for tl-index 2 when switching to phase 0\n"
     ]
    },
    {
     "name": "stdout",
     "output_type": "stream",
     "text": [
      "Step #209.20"
     ]
    },
    {
     "name": "stderr",
     "output_type": "stream",
     "text": [
      "Warning: Vehicle '2_horizontal.5' performs emergency braking with decel=-9.00 wished=4.50 severity=1.00, time=209.20.\n",
      "Warning: Vehicle '2_horizontal.5' performs emergency stop at the end of lane '2si_1' because of a red traffic light (decel=-12.00, offset=0.06), time=209.20.\n",
      "Warning: Vehicle '1_horizontal.4' performs emergency braking with decel=-9.00 wished=4.50 severity=1.00, time=209.20.\n",
      "Warning: Vehicle '1_horizontal.4' performs emergency stop at the end of lane '1si_1' because of a red traffic light (decel=-12.28, offset=0.05), time=209.20.\n"
     ]
    },
    {
     "name": "stdout",
     "output_type": "stream",
     "text": [
      "Step #452.20 (1ms ~= 200.00*RT, ~78000."
     ]
    },
    {
     "name": "stderr",
     "output_type": "stream",
     "text": [
      "Warning: Vehicle '1_horizontal0.2' performs emergency braking with decel=-9.00 wished=4.50 severity=1.00, time=456.00.\n",
      "Warning: Vehicle '1_horizontal0.2' performs emergency stop at the end of lane '1si_1' because of a red traffic light (decel=-12.41, offset=0.09), time=456.40.\n"
     ]
    },
    {
     "name": "stdout",
     "output_type": "stream",
     "text": [
      "Step #500.00"
     ]
    },
    {
     "name": "stderr",
     "output_type": "stream",
     "text": [
      "Warning: Choosing new speed factor 1.23 for vehicle '3_vertical0.22' to match departure speed.\n"
     ]
    },
    {
     "name": "stdout",
     "output_type": "stream",
     "text": [
      "Step #653.80"
     ]
    },
    {
     "name": "stderr",
     "output_type": "stream",
     "text": [
      "Warning: Vehicle '2_horizontal.21' performs emergency braking with decel=-9.00 wished=4.50 severity=1.00, time=653.80.\n",
      "Warning: Vehicle '2_horizontal.21' performs emergency stop at the end of lane '2si_1' because of a red traffic light (decel=-18.70, offset=1.79), time=653.80.\n",
      "Warning: Vehicle '2_left0.5' performs emergency braking with decel=-9.00 wished=4.50 severity=1.00, time=657.00.\n"
     ]
    },
    {
     "name": "stdout",
     "output_type": "stream",
     "text": [
      "Step #659.00"
     ]
    },
    {
     "name": "stderr",
     "output_type": "stream",
     "text": [
      "Warning: Vehicle '2_right.13' performs emergency braking with decel=-9.00 wished=4.50 severity=1.00, time=659.00.\n"
     ]
    },
    {
     "name": "stdout",
     "output_type": "stream",
     "text": [
      "Step #780.00"
     ]
    },
    {
     "name": "stderr",
     "output_type": "stream",
     "text": [
      "Warning: Vehicle '1_horizontal.18' performs emergency braking with decel=-9.00 wished=4.50 severity=1.00, time=779.60.\n",
      "Warning: Vehicle '1_horizontal.18' performs emergency stop at the end of lane '1si_1' because of a red traffic light (decel=-13.41, offset=0.05), time=780.00.\n",
      "Warning: Vehicle '2_right.20' performs emergency braking with decel=-9.00 wished=4.50 severity=1.00, time=782.00.\n"
     ]
    },
    {
     "name": "stdout",
     "output_type": "stream",
     "text": [
      "Step #810.00"
     ]
    },
    {
     "name": "stderr",
     "output_type": "stream",
     "text": [
      "Warning: Choosing new speed factor 1.24 for vehicle '1_horizontal0.38' to match departure speed.\n"
     ]
    },
    {
     "name": "stdout",
     "output_type": "stream",
     "text": [
      "Step #816.20"
     ]
    },
    {
     "name": "stderr",
     "output_type": "stream",
     "text": [
      "Warning: Vehicle '1_right.14' performs emergency braking with decel=-9.00 wished=4.50 severity=1.00, time=816.20.\n"
     ]
    },
    {
     "name": "stdout",
     "output_type": "stream",
     "text": [
      "Step #879.20 (0ms ?"
     ]
    },
    {
     "name": "stderr",
     "output_type": "stream",
     "text": [
      "Warning: Vehicle '2_right.24' performs emergency braking with decel=-9.00 wished=4.50 severity=1.00, time=886.80.\n",
      "Warning: Vehicle '2_right.24' performs emergency stop at the end of lane '2si_0' because of a red traffic light (decel=-12.50, offset=0.28), time=886.80.\n",
      "Warning: Vehicle '1_horizontal0.15' performs emergency braking with decel=-9.00 wished=4.50 severity=1.00, time=886.80.\n",
      "Warning: Vehicle '1_horizontal0.15' performs emergency stop at the end of lane '1si_1' because of a red traffic light (decel=-12.17, offset=0.07), time=886.80.\n"
     ]
    },
    {
     "name": "stdout",
     "output_type": "stream",
     "text": [
      "Step #975.00"
     ]
    },
    {
     "name": "stderr",
     "output_type": "stream",
     "text": [
      "Warning: Choosing new speed factor 1.30 for vehicle '1_horizontal.65' to match departure speed.\n"
     ]
    },
    {
     "name": "stdout",
     "output_type": "stream",
     "text": [
      "Step #993.00 (Cumulative Reward: -2883.070308250229\n",
      " Retrying in 1 seconds\n",
      "Loading configuration ... done.\n",
      "----------------------------------\n",
      "| rollout/            |          |\n",
      "|    ep_len_mean      | 5e+03    |\n",
      "|    ep_rew_mean      | -799     |\n",
      "|    exploration_rate | 0.05     |\n",
      "| time/               |          |\n",
      "|    episodes         | 12       |\n",
      "|    fps              | 25       |\n",
      "|    time_elapsed     | 2313     |\n",
      "|    total_timesteps  | 60000    |\n",
      "| train/              |          |\n",
      "|    learning_rate    | 0.0001   |\n",
      "|    loss             | 0.00013  |\n",
      "|    n_updates        | 2499     |\n",
      "----------------------------------\n"
     ]
    },
    {
     "name": "stderr",
     "output_type": "stream",
     "text": [
      "Warning: Missing yellow phase in tlLogic '0', program '0' for tl-index 3 when switching to phase 0\n",
      "Warning: Missing yellow phase in tlLogic '0', program '1' for tl-index 5 when switching to phase 0\n",
      "Warning: Missing yellow phase in tlLogic '0', program '2' for tl-index 0 when switching to phase 0\n",
      "Warning: Missing yellow phase in tlLogic '0', program '3' for tl-index 2 when switching to phase 0\n"
     ]
    },
    {
     "name": "stdout",
     "output_type": "stream",
     "text": [
      "Step #107.80"
     ]
    },
    {
     "name": "stderr",
     "output_type": "stream",
     "text": [
      "Warning: Vehicle '3_left.1' performs emergency braking with decel=-9.00 wished=4.50 severity=1.00, time=107.80.\n",
      "Warning: Vehicle '3_left.1' performs emergency stop at the end of lane '3si_1' because of a red traffic light (decel=-11.77, offset=0.13), time=107.80.\n",
      "Warning: Vehicle '4_left.1' performs emergency braking with decel=-9.00 wished=4.50 severity=1.00, time=107.80.\n",
      "Warning: Vehicle '4_left.1' performs emergency stop at the end of lane '4si_1' because of a red traffic light (decel=-11.87, offset=0.04), time=107.80.\n"
     ]
    },
    {
     "name": "stdout",
     "output_type": "stream",
     "text": [
      "Step #206.80 (0ms ?*RT."
     ]
    },
    {
     "name": "stderr",
     "output_type": "stream",
     "text": [
      "Warning: Vehicle '2_left0.2' performs emergency braking with decel=-9.00 wished=4.50 severity=1.00, time=212.00.\n"
     ]
    },
    {
     "name": "stdout",
     "output_type": "stream",
     "text": [
      "Step #213.60"
     ]
    },
    {
     "name": "stderr",
     "output_type": "stream",
     "text": [
      "Warning: Vehicle '4_left.4' performs emergency braking with decel=-9.00 wished=4.50 severity=1.00, time=213.20.\n",
      "Warning: Vehicle '4_left.4' performs emergency stop at the end of lane '4si_1' because of a red traffic light (decel=-10.80, offset=0.24), time=213.60.\n"
     ]
    },
    {
     "name": "stdout",
     "output_type": "stream",
     "text": [
      "Step #420.60 (1ms ~= 200.00*RT, ~75"
     ]
    },
    {
     "name": "stderr",
     "output_type": "stream",
     "text": [
      "Warning: Vehicle '2_horizontal.13' performs emergency braking with decel=-9.00 wished=4.50 severity=1.00, time=429.20.\n",
      "Warning: Vehicle '1_horizontal.9' performs emergency braking with decel=-9.00 wished=4.50 severity=1.00, time=429.20.\n"
     ]
    },
    {
     "name": "stdout",
     "output_type": "stream",
     "text": [
      "Step #500.00"
     ]
    },
    {
     "name": "stderr",
     "output_type": "stream",
     "text": [
      "Warning: Choosing new speed factor 1.23 for vehicle '3_vertical0.22' to match departure speed.\n"
     ]
    },
    {
     "name": "stdout",
     "output_type": "stream",
     "text": [
      "Step #603.00"
     ]
    },
    {
     "name": "stderr",
     "output_type": "stream",
     "text": [
      "Warning: Vehicle '3_vertical.7' performs emergency braking with decel=-9.00 wished=4.50 severity=1.00, time=602.80.\n",
      "Warning: Vehicle '3_vertical.7' performs emergency stop at the end of lane '3si_0' because of a red traffic light (decel=-19.29, offset=0.69), time=603.00.\n"
     ]
    },
    {
     "name": "stdout",
     "output_type": "stream",
     "text": [
      "Step #609.20"
     ]
    },
    {
     "name": "stderr",
     "output_type": "stream",
     "text": [
      "Warning: Vehicle '3_left.5' performs emergency braking with decel=-9.00 wished=4.50 severity=1.00, time=609.20.\n"
     ]
    },
    {
     "name": "stdout",
     "output_type": "stream",
     "text": [
      "Step #614.40"
     ]
    },
    {
     "name": "stderr",
     "output_type": "stream",
     "text": [
      "Warning: Vehicle '4_left.8' performs emergency braking with decel=-9.00 wished=4.50 severity=1.00, time=614.00.\n",
      "Warning: Vehicle '4_left.8' performs emergency stop at the end of lane '4si_1' because of a red traffic light (decel=-11.03, offset=0.16), time=614.40.\n"
     ]
    },
    {
     "name": "stdout",
     "output_type": "stream",
     "text": [
      "Step #666.00"
     ]
    },
    {
     "name": "stderr",
     "output_type": "stream",
     "text": [
      "Warning: Vehicle '3_right.8' performs emergency braking with decel=-9.00 wished=4.50 severity=1.00, time=666.00.\n",
      "Warning: Vehicle '3_right.8' performs emergency stop at the end of lane '3si_0' because of a red traffic light (decel=-14.62, offset=0.95), time=666.00.\n"
     ]
    },
    {
     "name": "stdout",
     "output_type": "stream",
     "text": [
      "Step #810.00"
     ]
    },
    {
     "name": "stderr",
     "output_type": "stream",
     "text": [
      "Warning: Choosing new speed factor 1.24 for vehicle '1_horizontal0.38' to match departure speed.\n"
     ]
    },
    {
     "name": "stdout",
     "output_type": "stream",
     "text": [
      "Step #975.00"
     ]
    },
    {
     "name": "stderr",
     "output_type": "stream",
     "text": [
      "Warning: Choosing new speed factor 1.30 for vehicle '1_horizontal.65' to match departure speed.\n"
     ]
    },
    {
     "name": "stdout",
     "output_type": "stream",
     "text": [
      "Step #993.00 (Cumulative Reward: -1633.2103494214641\n",
      " Retrying in 1 seconds\n",
      "Loading configuration ... done.\n"
     ]
    },
    {
     "name": "stderr",
     "output_type": "stream",
     "text": [
      "Warning: Missing yellow phase in tlLogic '0', program '0' for tl-index 3 when switching to phase 0\n",
      "Warning: Missing yellow phase in tlLogic '0', program '1' for tl-index 5 when switching to phase 0\n",
      "Warning: Missing yellow phase in tlLogic '0', program '2' for tl-index 0 when switching to phase 0\n",
      "Warning: Missing yellow phase in tlLogic '0', program '3' for tl-index 2 when switching to phase 0\n"
     ]
    },
    {
     "name": "stdout",
     "output_type": "stream",
     "text": [
      "Step #89.80"
     ]
    },
    {
     "name": "stderr",
     "output_type": "stream",
     "text": [
      "Warning: Vehicle '2_horizontal.4' performs emergency braking with decel=-9.00 wished=4.50 severity=1.00, time=89.60.\n",
      "Warning: Vehicle '1_horizontal0.0' performs emergency braking with decel=-9.00 wished=4.50 severity=1.00, time=89.60.\n",
      "Warning: Vehicle '1_horizontal0.0' performs emergency stop at the end of lane '1si_1' because of a red traffic light (decel=-17.85, offset=1.52), time=89.60.\n",
      "Warning: Vehicle '2_horizontal.4' performs emergency stop at the end of lane '2si_1' because of a red traffic light (decel=-15.39, offset=0.39), time=89.80.\n"
     ]
    },
    {
     "name": "stdout",
     "output_type": "stream",
     "text": [
      "Step #500.00"
     ]
    },
    {
     "name": "stderr",
     "output_type": "stream",
     "text": [
      "Warning: Choosing new speed factor 1.23 for vehicle '3_vertical0.22' to match departure speed.\n"
     ]
    },
    {
     "name": "stdout",
     "output_type": "stream",
     "text": [
      "Step #806.00 (0ms ?*RT. ?UPS, TraCI: 40ms, veh"
     ]
    },
    {
     "name": "stderr",
     "output_type": "stream",
     "text": [
      "Warning: Choosing new speed factor 1.24 for vehicle '1_horizontal0.38' to match departure speed.\n"
     ]
    },
    {
     "name": "stdout",
     "output_type": "stream",
     "text": [
      "Step #927.20"
     ]
    },
    {
     "name": "stderr",
     "output_type": "stream",
     "text": [
      "Warning: Vehicle '2_horizontal.27' performs emergency braking with decel=-9.00 wished=4.50 severity=1.00, time=927.20.\n",
      "Warning: Vehicle '2_horizontal.27' performs emergency stop at the end of lane '2si_1' because of a red traffic light (decel=-11.83, offset=0.06), time=927.20.\n"
     ]
    },
    {
     "name": "stdout",
     "output_type": "stream",
     "text": [
      "Step #975.00"
     ]
    },
    {
     "name": "stderr",
     "output_type": "stream",
     "text": [
      "Warning: Choosing new speed factor 1.30 for vehicle '1_horizontal.65' to match departure speed.\n"
     ]
    },
    {
     "name": "stdout",
     "output_type": "stream",
     "text": [
      "Step #993.00 (Cumulative Reward: -2988.616650270365\n",
      " Retrying in 1 seconds\n",
      "Loading configuration ... done.\n"
     ]
    },
    {
     "name": "stderr",
     "output_type": "stream",
     "text": [
      "Warning: Missing yellow phase in tlLogic '0', program '0' for tl-index 3 when switching to phase 0\n",
      "Warning: Missing yellow phase in tlLogic '0', program '1' for tl-index 5 when switching to phase 0\n",
      "Warning: Missing yellow phase in tlLogic '0', program '2' for tl-index 0 when switching to phase 0\n",
      "Warning: Missing yellow phase in tlLogic '0', program '3' for tl-index 2 when switching to phase 0\n"
     ]
    },
    {
     "name": "stdout",
     "output_type": "stream",
     "text": [
      "Step #233.60"
     ]
    },
    {
     "name": "stderr",
     "output_type": "stream",
     "text": [
      "Warning: Vehicle '2_left.4' performs emergency braking with decel=-9.00 wished=4.50 severity=1.00, time=233.60.\n",
      "Warning: Vehicle '2_left.4' performs emergency stop at the end of lane '2si_2' because of a red traffic light (decel=-16.51, offset=0.03), time=233.60.\n"
     ]
    },
    {
     "name": "stdout",
     "output_type": "stream",
     "text": [
      "Step #235.60"
     ]
    },
    {
     "name": "stderr",
     "output_type": "stream",
     "text": [
      "Warning: Vehicle '2_right.5' performs emergency braking with decel=-9.00 wished=4.50 severity=1.00, time=235.40.\n",
      "Warning: Vehicle '2_right.5' performs emergency stop at the end of lane '2si_0' because of a red traffic light (decel=-11.61, offset=0.26), time=235.60.\n"
     ]
    },
    {
     "name": "stdout",
     "output_type": "stream",
     "text": [
      "Step #272.40"
     ]
    },
    {
     "name": "stderr",
     "output_type": "stream",
     "text": [
      "Warning: Vehicle '2_left0.3' performs emergency braking with decel=-9.00 wished=4.50 severity=1.00, time=272.40.\n"
     ]
    },
    {
     "name": "stdout",
     "output_type": "stream",
     "text": [
      "Step #293.00"
     ]
    },
    {
     "name": "stderr",
     "output_type": "stream",
     "text": [
      "Warning: Vehicle '3_right.2' performs emergency braking with decel=-9.00 wished=4.50 severity=1.00, time=292.60.\n",
      "Warning: Vehicle '3_right.2' performs emergency stop at the end of lane '3si_0' because of a red traffic light (decel=-10.46, offset=0.06), time=293.00.\n"
     ]
    },
    {
     "name": "stdout",
     "output_type": "stream",
     "text": [
      "Step #431.60"
     ]
    },
    {
     "name": "stderr",
     "output_type": "stream",
     "text": [
      "Warning: Vehicle '3_vertical0.3' performs emergency braking with decel=-9.00 wished=4.50 severity=1.00, time=431.60.\n"
     ]
    },
    {
     "name": "stdout",
     "output_type": "stream",
     "text": [
      "Step #494.60 (0ms ?"
     ]
    },
    {
     "name": "stderr",
     "output_type": "stream",
     "text": [
      "Warning: Vehicle '3_vertical0.5' performs emergency braking with decel=-9.00 wished=4.50 severity=1.00, time=499.20.\n",
      "Warning: Vehicle '3_vertical0.5' performs emergency stop at the end of lane '3si_0' because of a red traffic light (decel=-11.53, offset=0.09), time=499.40.\n",
      "Warning: Choosing new speed factor 1.23 for vehicle '3_vertical0.22' to match departure speed.\n"
     ]
    },
    {
     "name": "stdout",
     "output_type": "stream",
     "text": [
      "Step #520.60"
     ]
    },
    {
     "name": "stderr",
     "output_type": "stream",
     "text": [
      "Warning: Vehicle '3_vertical0.9' performs emergency braking with decel=-9.00 wished=4.50 severity=1.00, time=520.20.\n",
      "Warning: Vehicle '3_vertical0.9' performs emergency stop at the end of lane '3si_0' because of a red traffic light (decel=-19.62, offset=2.07), time=520.40.\n",
      "Warning: Vehicle '3_right.8' performs emergency braking with decel=-9.00 wished=4.50 severity=1.00, time=520.60.\n"
     ]
    },
    {
     "name": "stdout",
     "output_type": "stream",
     "text": [
      "Step #522.60"
     ]
    },
    {
     "name": "stderr",
     "output_type": "stream",
     "text": [
      "Warning: Vehicle '4_vertical.11' performs emergency braking with decel=-9.00 wished=4.50 severity=1.00, time=522.60.\n",
      "Warning: Vehicle '4_vertical.11' performs emergency stop at the end of lane '4si_0' because of a red traffic light (decel=-11.73, offset=0.08), time=522.60.\n"
     ]
    },
    {
     "name": "stdout",
     "output_type": "stream",
     "text": [
      "Step #810.00"
     ]
    },
    {
     "name": "stderr",
     "output_type": "stream",
     "text": [
      "Warning: Choosing new speed factor 1.24 for vehicle '1_horizontal0.38' to match departure speed.\n"
     ]
    },
    {
     "name": "stdout",
     "output_type": "stream",
     "text": [
      "Step #832.40"
     ]
    },
    {
     "name": "stderr",
     "output_type": "stream",
     "text": [
      "Warning: Vehicle '1_horizontal.16' performs emergency braking with decel=-9.00 wished=4.50 severity=1.00, time=832.20.\n",
      "Warning: Vehicle '2_horizontal.27' performs emergency braking with decel=-9.00 wished=4.50 severity=1.00, time=832.20.\n",
      "Warning: Vehicle '1_horizontal.16' performs emergency stop at the end of lane '1si_1' because of a red traffic light (decel=-12.65, offset=0.20), time=832.40.\n"
     ]
    },
    {
     "name": "stdout",
     "output_type": "stream",
     "text": [
      "Step #967.40 (1ms ~= 200.00"
     ]
    },
    {
     "name": "stderr",
     "output_type": "stream",
     "text": [
      "Warning: Choosing new speed factor 1.30 for vehicle '1_horizontal.65' to match departure speed.\n"
     ]
    },
    {
     "name": "stdout",
     "output_type": "stream",
     "text": [
      "Step #993.00 (Cumulative Reward: -2099.068352776702\n",
      " Retrying in 1 seconds\n",
      "Loading configuration ... done.\n"
     ]
    },
    {
     "name": "stderr",
     "output_type": "stream",
     "text": [
      "Warning: Missing yellow phase in tlLogic '0', program '0' for tl-index 3 when switching to phase 0\n",
      "Warning: Missing yellow phase in tlLogic '0', program '1' for tl-index 5 when switching to phase 0\n",
      "Warning: Missing yellow phase in tlLogic '0', program '2' for tl-index 0 when switching to phase 0\n",
      "Warning: Missing yellow phase in tlLogic '0', program '3' for tl-index 2 when switching to phase 0\n"
     ]
    },
    {
     "name": "stdout",
     "output_type": "stream",
     "text": [
      "Step #500.00"
     ]
    },
    {
     "name": "stderr",
     "output_type": "stream",
     "text": [
      "Warning: Choosing new speed factor 1.23 for vehicle '3_vertical0.22' to match departure speed.\n"
     ]
    },
    {
     "name": "stdout",
     "output_type": "stream",
     "text": [
      "Step #508.20"
     ]
    },
    {
     "name": "stderr",
     "output_type": "stream",
     "text": [
      "Warning: Vehicle '2_left0.5' performs emergency braking with decel=-9.00 wished=4.50 severity=1.00, time=508.00.\n",
      "Warning: Vehicle '2_left0.5' performs emergency stop at the end of lane '2si_2' because of a red traffic light (decel=-20.64, offset=1.87), time=508.20.\n"
     ]
    },
    {
     "name": "stdout",
     "output_type": "stream",
     "text": [
      "Step #517.20 "
     ]
    },
    {
     "name": "stderr",
     "output_type": "stream",
     "text": [
      "Warning: Vehicle '3_vertical0.9' performs emergency braking with decel=-9.00 wished=4.50 severity=1.00, time=521.40.\n",
      "Warning: Vehicle '3_vertical0.9' performs emergency stop at the end of lane '3si_0' because of a red traffic light (decel=-18.98, offset=1.99), time=521.40.\n",
      "Warning: Vehicle '3_right.8' performs emergency braking with decel=-9.00 wished=4.50 severity=1.00, time=521.60.\n"
     ]
    },
    {
     "name": "stdout",
     "output_type": "stream",
     "text": [
      "Step #635.20"
     ]
    },
    {
     "name": "stderr",
     "output_type": "stream",
     "text": [
      "Warning: Vehicle '4_vertical.13' performs emergency braking with decel=-9.00 wished=4.50 severity=1.00, time=635.20.\n",
      "Warning: Vehicle '4_vertical.13' performs emergency stop at the end of lane '4si_0' because of a red traffic light (decel=-15.88, offset=0.07), time=635.20.\n"
     ]
    },
    {
     "name": "stdout",
     "output_type": "stream",
     "text": [
      "Step #747.40"
     ]
    },
    {
     "name": "stderr",
     "output_type": "stream",
     "text": [
      "Warning: Vehicle '2_left0.9' performs emergency braking with decel=-9.00 wished=4.50 severity=1.00, time=747.40.\n",
      "Warning: Vehicle '2_left0.9' performs emergency stop at the end of lane '2si_2' because of a red traffic light (decel=-11.71, offset=0.12), time=747.40.\n"
     ]
    },
    {
     "name": "stdout",
     "output_type": "stream",
     "text": [
      "Step #810.00"
     ]
    },
    {
     "name": "stderr",
     "output_type": "stream",
     "text": [
      "Warning: Choosing new speed factor 1.24 for vehicle '1_horizontal0.38' to match departure speed.\n"
     ]
    },
    {
     "name": "stdout",
     "output_type": "stream",
     "text": [
      "Step #941.00"
     ]
    },
    {
     "name": "stderr",
     "output_type": "stream",
     "text": [
      "Warning: Vehicle '1_horizontal.23' performs emergency braking with decel=-9.00 wished=4.50 severity=1.00, time=941.00.\n"
     ]
    },
    {
     "name": "stdout",
     "output_type": "stream",
     "text": [
      "Step #941.80"
     ]
    },
    {
     "name": "stderr",
     "output_type": "stream",
     "text": [
      "Warning: Vehicle '1_horizontal.23' performs emergency stop at the end of lane '1si_1' because of a red traffic light (decel=-11.19, offset=0.30), time=941.80.\n"
     ]
    },
    {
     "name": "stdout",
     "output_type": "stream",
     "text": [
      "Step #975.00"
     ]
    },
    {
     "name": "stderr",
     "output_type": "stream",
     "text": [
      "Warning: Choosing new speed factor 1.30 for vehicle '1_horizontal.65' to match departure speed.\n"
     ]
    },
    {
     "name": "stdout",
     "output_type": "stream",
     "text": [
      "Step #993.00 (Cumulative Reward: -1987.4782697926757\n",
      " Retrying in 1 seconds\n",
      "Loading configuration ... done.\n",
      "-----------------------------------\n",
      "| rollout/            |           |\n",
      "|    ep_len_mean      | 5e+03     |\n",
      "|    ep_rew_mean      | -1.14e+03 |\n",
      "|    exploration_rate | 0.05      |\n",
      "| time/               |           |\n",
      "|    episodes         | 16        |\n",
      "|    fps              | 24        |\n",
      "|    time_elapsed     | 3280      |\n",
      "|    total_timesteps  | 80000     |\n",
      "| train/              |           |\n",
      "|    learning_rate    | 0.0001    |\n",
      "|    loss             | 0.000146  |\n",
      "|    n_updates        | 7499      |\n",
      "-----------------------------------\n"
     ]
    },
    {
     "name": "stderr",
     "output_type": "stream",
     "text": [
      "Warning: Missing yellow phase in tlLogic '0', program '0' for tl-index 3 when switching to phase 0\n",
      "Warning: Missing yellow phase in tlLogic '0', program '1' for tl-index 5 when switching to phase 0\n",
      "Warning: Missing yellow phase in tlLogic '0', program '2' for tl-index 0 when switching to phase 0\n",
      "Warning: Missing yellow phase in tlLogic '0', program '3' for tl-index 2 when switching to phase 0\n"
     ]
    },
    {
     "name": "stdout",
     "output_type": "stream",
     "text": [
      "Step #41.20"
     ]
    },
    {
     "name": "stderr",
     "output_type": "stream",
     "text": [
      "Warning: Vehicle '1_right.1' performs emergency braking with decel=-9.00 wished=4.50 severity=1.00, time=41.20.\n"
     ]
    },
    {
     "name": "stdout",
     "output_type": "stream",
     "text": [
      "Step #51.80"
     ]
    },
    {
     "name": "stderr",
     "output_type": "stream",
     "text": [
      "Warning: Vehicle '3_vertical.0' performs emergency braking with decel=-9.00 wished=4.50 severity=1.00, time=51.80.\n",
      "Warning: Vehicle '4_vertical.0' performs emergency braking with decel=-9.00 wished=4.50 severity=1.00, time=51.80.\n",
      "Warning: Vehicle '4_vertical.0' performs emergency stop at the end of lane '4si_0' because of a red traffic light (decel=-21.65, offset=1.55), time=51.80.\n"
     ]
    },
    {
     "name": "stdout",
     "output_type": "stream",
     "text": [
      "Step #103.00"
     ]
    },
    {
     "name": "stderr",
     "output_type": "stream",
     "text": [
      "Warning: Vehicle '1_left.2' performs emergency braking with decel=-9.00 wished=4.50 severity=1.00, time=103.00.\n"
     ]
    },
    {
     "name": "stdout",
     "output_type": "stream",
     "text": [
      "Step #211.40"
     ]
    },
    {
     "name": "stderr",
     "output_type": "stream",
     "text": [
      "Warning: Vehicle '2_left0.2' performs emergency braking with decel=-9.00 wished=4.50 severity=1.00, time=211.40.\n"
     ]
    },
    {
     "name": "stdout",
     "output_type": "stream",
     "text": [
      "Step #345.20"
     ]
    },
    {
     "name": "stderr",
     "output_type": "stream",
     "text": [
      "Warning: Vehicle '2_left.6' performs emergency braking with decel=-9.00 wished=4.50 severity=1.00, time=345.20.\n"
     ]
    },
    {
     "name": "stdout",
     "output_type": "stream",
     "text": [
      "Step #498.20 (0ms ?*RT. ?UPS,"
     ]
    },
    {
     "name": "stderr",
     "output_type": "stream",
     "text": [
      "Warning: Choosing new speed factor 1.23 for vehicle '3_vertical0.22' to match departure speed.\n"
     ]
    },
    {
     "name": "stdout",
     "output_type": "stream",
     "text": [
      "Step #607.00"
     ]
    },
    {
     "name": "stderr",
     "output_type": "stream",
     "text": [
      "Warning: Vehicle '2_horizontal.17' performs emergency braking with decel=-9.00 wished=4.50 severity=1.00, time=607.00.\n",
      "Warning: Vehicle '2_horizontal.17' performs emergency stop at the end of lane '2si_1' because of a red traffic light (decel=-11.85, offset=0.13), time=607.00.\n"
     ]
    },
    {
     "name": "stdout",
     "output_type": "stream",
     "text": [
      "Step #805.00 (0ms ?*RT. ?UPS, TraC"
     ]
    },
    {
     "name": "stderr",
     "output_type": "stream",
     "text": [
      "Warning: Choosing new speed factor 1.24 for vehicle '1_horizontal0.38' to match departure speed.\n"
     ]
    },
    {
     "name": "stdout",
     "output_type": "stream",
     "text": [
      "Step #975.00"
     ]
    },
    {
     "name": "stderr",
     "output_type": "stream",
     "text": [
      "Warning: Choosing new speed factor 1.30 for vehicle '1_horizontal.65' to match departure speed.\n"
     ]
    },
    {
     "name": "stdout",
     "output_type": "stream",
     "text": [
      "Step #993.00 (Cumulative Reward: -1765.8643514561084\n",
      " Retrying in 1 seconds\n",
      "Loading configuration ... done.\n"
     ]
    },
    {
     "name": "stderr",
     "output_type": "stream",
     "text": [
      "Warning: Missing yellow phase in tlLogic '0', program '0' for tl-index 3 when switching to phase 0\n",
      "Warning: Missing yellow phase in tlLogic '0', program '1' for tl-index 5 when switching to phase 0\n",
      "Warning: Missing yellow phase in tlLogic '0', program '2' for tl-index 0 when switching to phase 0\n",
      "Warning: Missing yellow phase in tlLogic '0', program '3' for tl-index 2 when switching to phase 0\n"
     ]
    },
    {
     "name": "stdout",
     "output_type": "stream",
     "text": [
      "Step #90.0"
     ]
    },
    {
     "name": "stderr",
     "output_type": "stream",
     "text": [
      "Warning: Vehicle '2_left0.0' performs emergency braking with decel=-9.00 wished=4.50 severity=1.00, time=92.60.\n"
     ]
    },
    {
     "name": "stdout",
     "output_type": "stream",
     "text": [
      "Step #102.60"
     ]
    },
    {
     "name": "stderr",
     "output_type": "stream",
     "text": [
      "Warning: Vehicle '1_left.2' performs emergency braking with decel=-9.00 wished=4.50 severity=1.00, time=102.60.\n"
     ]
    },
    {
     "name": "stdout",
     "output_type": "stream",
     "text": [
      "Step #155.40"
     ]
    },
    {
     "name": "stderr",
     "output_type": "stream",
     "text": [
      "Warning: Vehicle '2_left0.1' performs emergency braking with decel=-9.00 wished=4.50 severity=1.00, time=155.20.\n",
      "Warning: Vehicle '2_left0.1' performs emergency stop at the end of lane '2si_2' because of a red traffic light (decel=-12.03, offset=0.33), time=155.40.\n"
     ]
    },
    {
     "name": "stdout",
     "output_type": "stream",
     "text": [
      "Step #284.40"
     ]
    },
    {
     "name": "stderr",
     "output_type": "stream",
     "text": [
      "Warning: Vehicle '2_right.5' performs emergency braking with decel=-9.00 wished=4.50 severity=1.00, time=284.40.\n",
      "Warning: Vehicle '2_right.5' performs emergency stop at the end of lane '2si_0' because of a red traffic light (decel=-14.48, offset=0.69), time=284.40.\n"
     ]
    },
    {
     "name": "stdout",
     "output_type": "stream",
     "text": [
      "Step #311.40 (0"
     ]
    },
    {
     "name": "stderr",
     "output_type": "stream",
     "text": [
      "Warning: Vehicle '2_right.7' performs emergency braking with decel=-9.00 wished=4.50 severity=1.00, time=316.20.\n",
      "Warning: Vehicle '2_right.7' performs emergency stop at the end of lane '2si_0' because of a red traffic light (decel=-10.26, offset=0.17), time=316.40.\n"
     ]
    },
    {
     "name": "stdout",
     "output_type": "stream",
     "text": [
      "Step #500.00"
     ]
    },
    {
     "name": "stderr",
     "output_type": "stream",
     "text": [
      "Warning: Choosing new speed factor 1.23 for vehicle '3_vertical0.22' to match departure speed.\n"
     ]
    },
    {
     "name": "stdout",
     "output_type": "stream",
     "text": [
      "Step #810.00"
     ]
    },
    {
     "name": "stderr",
     "output_type": "stream",
     "text": [
      "Warning: Choosing new speed factor 1.24 for vehicle '1_horizontal0.38' to match departure speed.\n"
     ]
    },
    {
     "name": "stdout",
     "output_type": "stream",
     "text": [
      "Step #975.00"
     ]
    },
    {
     "name": "stderr",
     "output_type": "stream",
     "text": [
      "Warning: Choosing new speed factor 1.30 for vehicle '1_horizontal.65' to match departure speed.\n"
     ]
    },
    {
     "name": "stdout",
     "output_type": "stream",
     "text": [
      "Step #982.80"
     ]
    },
    {
     "name": "stderr",
     "output_type": "stream",
     "text": [
      "Warning: Vehicle '2_left.11' performs emergency braking with decel=-9.00 wished=4.50 severity=1.00, time=982.80.\n"
     ]
    },
    {
     "name": "stdout",
     "output_type": "stream",
     "text": [
      "Step #983.80"
     ]
    },
    {
     "name": "stderr",
     "output_type": "stream",
     "text": [
      "Warning: Vehicle '2_left.11' performs emergency stop at the end of lane '2si_2' because of a red traffic light (decel=-10.83, offset=0.33), time=983.80.\n",
      "Warning: Vehicle '2_left0.9' performs emergency braking with decel=-9.00 wished=4.50 severity=1.00, time=990.00.\n",
      "Warning: Vehicle '2_left0.9' performs emergency stop at the end of lane '2si_2' because of a red traffic light (decel=-10.98, offset=0.08), time=990.40.\n"
     ]
    },
    {
     "name": "stdout",
     "output_type": "stream",
     "text": [
      "Step #999.40 Cumulative Reward: -2108.9106924784924\n",
      " Retrying in 1 seconds\n",
      "Loading configuration ... done.\n"
     ]
    },
    {
     "name": "stderr",
     "output_type": "stream",
     "text": [
      "Warning: Missing yellow phase in tlLogic '0', program '0' for tl-index 3 when switching to phase 0\n",
      "Warning: Missing yellow phase in tlLogic '0', program '1' for tl-index 5 when switching to phase 0\n",
      "Warning: Missing yellow phase in tlLogic '0', program '2' for tl-index 0 when switching to phase 0\n",
      "Warning: Missing yellow phase in tlLogic '0', program '3' for tl-index 2 when switching to phase 0\n"
     ]
    },
    {
     "name": "stdout",
     "output_type": "stream",
     "text": [
      "Step #35.00"
     ]
    },
    {
     "name": "stderr",
     "output_type": "stream",
     "text": [
      "Warning: Vehicle '3_right.0' performs emergency braking with decel=-9.00 wished=4.50 severity=1.00, time=33.80.\n",
      "Warning: Vehicle '3_right.0' performs emergency stop at the end of lane '3si_0' because of a red traffic light (decel=-11.71, offset=0.12), time=34.00.\n",
      "Warning: Vehicle '4_left.0' performs emergency braking with decel=-9.00 wished=4.50 severity=1.00, time=35.00.\n",
      "Warning: Vehicle '4_left.0' performs emergency stop at the end of lane '4si_1' because of a red traffic light (decel=-14.62, offset=0.53), time=35.00.\n"
     ]
    },
    {
     "name": "stdout",
     "output_type": "stream",
     "text": [
      "Step #103.20"
     ]
    },
    {
     "name": "stderr",
     "output_type": "stream",
     "text": [
      "Warning: Vehicle '2_right.3' performs emergency braking with decel=-9.00 wished=4.50 severity=1.00, time=103.20.\n",
      "Warning: Vehicle '2_right.3' performs emergency stop at the end of lane '2si_0' because of a red traffic light (decel=-21.09, offset=1.06), time=103.20.\n"
     ]
    },
    {
     "name": "stdout",
     "output_type": "stream",
     "text": [
      "Step #194.00"
     ]
    },
    {
     "name": "stderr",
     "output_type": "stream",
     "text": [
      "Warning: Vehicle '1_left.4' performs emergency braking with decel=-9.00 wished=4.50 severity=1.00, time=194.00.\n",
      "Warning: Vehicle '1_left.4' performs emergency stop at the end of lane '1si_2' because of a red traffic light (decel=-22.52, offset=2.32), time=194.00.\n"
     ]
    },
    {
     "name": "stdout",
     "output_type": "stream",
     "text": [
      "Step #315.80"
     ]
    },
    {
     "name": "stderr",
     "output_type": "stream",
     "text": [
      "Warning: Vehicle '1_horizontal0.7' performs emergency braking with decel=-9.00 wished=4.50 severity=1.00, time=315.80.\n"
     ]
    },
    {
     "name": "stdout",
     "output_type": "stream",
     "text": [
      "Step #391.60"
     ]
    },
    {
     "name": "stderr",
     "output_type": "stream",
     "text": [
      "Warning: Vehicle '2_left0.5' performs emergency braking with decel=-9.00 wished=4.50 severity=1.00, time=391.40.\n",
      "Warning: Vehicle '2_left0.5' performs emergency stop at the end of lane '2si_2' because of a red traffic light (decel=-20.64, offset=1.23), time=391.60.\n"
     ]
    },
    {
     "name": "stdout",
     "output_type": "stream",
     "text": [
      "Step #500.00"
     ]
    },
    {
     "name": "stderr",
     "output_type": "stream",
     "text": [
      "Warning: Choosing new speed factor 1.23 for vehicle '3_vertical0.22' to match departure speed.\n"
     ]
    },
    {
     "name": "stdout",
     "output_type": "stream",
     "text": [
      "Step #529.00"
     ]
    },
    {
     "name": "stderr",
     "output_type": "stream",
     "text": [
      "Warning: Vehicle '4_right.5' performs emergency braking with decel=-9.00 wished=4.50 severity=1.00, time=529.00.\n"
     ]
    },
    {
     "name": "stdout",
     "output_type": "stream",
     "text": [
      "Step #748.40"
     ]
    },
    {
     "name": "stderr",
     "output_type": "stream",
     "text": [
      "Warning: Vehicle '3_right.7' performs emergency braking with decel=-9.00 wished=4.50 severity=1.00, time=748.00.\n",
      "Warning: Vehicle '3_right.7' performs emergency stop at the end of lane '3si_0' because of a red traffic light (decel=-12.23, offset=0.17), time=748.40.\n"
     ]
    },
    {
     "name": "stdout",
     "output_type": "stream",
     "text": [
      "Step #810.00"
     ]
    },
    {
     "name": "stderr",
     "output_type": "stream",
     "text": [
      "Warning: Choosing new speed factor 1.24 for vehicle '1_horizontal0.38' to match departure speed.\n"
     ]
    },
    {
     "name": "stdout",
     "output_type": "stream",
     "text": [
      "Step #932.20"
     ]
    },
    {
     "name": "stderr",
     "output_type": "stream",
     "text": [
      "Warning: Vehicle '1_right.15' performs emergency braking with decel=-9.00 wished=4.50 severity=1.00, time=932.20.\n",
      "Warning: Vehicle '1_right.15' performs emergency stop at the end of lane '1si_0' because of a red traffic light (decel=-12.43, offset=0.03), time=932.20.\n"
     ]
    },
    {
     "name": "stdout",
     "output_type": "stream",
     "text": [
      "Step #933.00"
     ]
    },
    {
     "name": "stderr",
     "output_type": "stream",
     "text": [
      "Warning: Vehicle '1_left.10' performs emergency braking with decel=-9.00 wished=4.50 severity=1.00, time=933.00.\n"
     ]
    },
    {
     "name": "stdout",
     "output_type": "stream",
     "text": [
      "Step #969.00 (0m"
     ]
    },
    {
     "name": "stderr",
     "output_type": "stream",
     "text": [
      "Warning: Choosing new speed factor 1.30 for vehicle '1_horizontal.65' to match departure speed.\n"
     ]
    },
    {
     "name": "stdout",
     "output_type": "stream",
     "text": [
      "Step #993.00 (Cumulative Reward: -1752.3270309163165\n",
      " Retrying in 1 seconds\n",
      "Loading configuration ... done.\n"
     ]
    },
    {
     "name": "stderr",
     "output_type": "stream",
     "text": [
      "Warning: Missing yellow phase in tlLogic '0', program '0' for tl-index 3 when switching to phase 0\n",
      "Warning: Missing yellow phase in tlLogic '0', program '1' for tl-index 5 when switching to phase 0\n",
      "Warning: Missing yellow phase in tlLogic '0', program '2' for tl-index 0 when switching to phase 0\n",
      "Warning: Missing yellow phase in tlLogic '0', program '3' for tl-index 2 when switching to phase 0\n"
     ]
    },
    {
     "name": "stdout",
     "output_type": "stream",
     "text": [
      "Step #103.80"
     ]
    },
    {
     "name": "stderr",
     "output_type": "stream",
     "text": [
      "Warning: Vehicle '2_horizontal.6' performs emergency braking with decel=-9.00 wished=4.50 severity=1.00, time=103.80.\n",
      "Warning: Vehicle '2_right.3' performs emergency braking with decel=-9.00 wished=4.50 severity=1.00, time=103.80.\n"
     ]
    },
    {
     "name": "stdout",
     "output_type": "stream",
     "text": [
      "Step #166.80 (0ms ?"
     ]
    },
    {
     "name": "stderr",
     "output_type": "stream",
     "text": [
      "Warning: Vehicle '2_left.3' performs emergency braking with decel=-9.00 wished=4.50 severity=1.00, time=175.20.\n"
     ]
    },
    {
     "name": "stdout",
     "output_type": "stream",
     "text": [
      "Step #237.00"
     ]
    },
    {
     "name": "stderr",
     "output_type": "stream",
     "text": [
      "Warning: Vehicle '1_left.5' performs emergency braking with decel=-9.00 wished=4.50 severity=1.00, time=236.40.\n",
      "Warning: Vehicle '1_left.5' performs emergency stop at the end of lane '1si_2' because of a red traffic light (decel=-15.00, offset=0.91), time=237.00.\n"
     ]
    },
    {
     "name": "stdout",
     "output_type": "stream",
     "text": [
      "Step #282.00 (1ms"
     ]
    },
    {
     "name": "stderr",
     "output_type": "stream",
     "text": [
      "Warning: Vehicle '1_left.6' performs emergency braking with decel=-9.00 wished=4.50 severity=1.00, time=284.00.\n"
     ]
    },
    {
     "name": "stdout",
     "output_type": "stream",
     "text": [
      "Step #333.00"
     ]
    },
    {
     "name": "stderr",
     "output_type": "stream",
     "text": [
      "Warning: Vehicle '2_left0.4' performs emergency braking with decel=-9.00 wished=4.50 severity=1.00, time=332.60.\n",
      "Warning: Vehicle '2_left0.4' performs emergency stop at the end of lane '2si_2' because of a red traffic light (decel=-10.65, offset=0.10), time=333.00.\n"
     ]
    },
    {
     "name": "stdout",
     "output_type": "stream",
     "text": [
      "Step #350.80"
     ]
    },
    {
     "name": "stderr",
     "output_type": "stream",
     "text": [
      "Warning: Vehicle '1_right.10' performs emergency braking with decel=-9.00 wished=4.50 severity=1.00, time=350.60.\n",
      "Warning: Vehicle '1_right.10' performs emergency stop at the end of lane '1si_0' because of a red traffic light (decel=-14.67, offset=0.85), time=350.80.\n"
     ]
    },
    {
     "name": "stdout",
     "output_type": "stream",
     "text": [
      "Step #449.80 (0ms ?*RT."
     ]
    },
    {
     "name": "stderr",
     "output_type": "stream",
     "text": [
      "Warning: Vehicle '2_left.8' performs emergency braking with decel=-9.00 wished=4.50 severity=1.00, time=453.20.\n",
      "Warning: Vehicle '2_left.8' performs emergency stop at the end of lane '2si_2' because of a red traffic light (decel=-10.99, offset=0.24), time=453.40.\n"
     ]
    },
    {
     "name": "stdout",
     "output_type": "stream",
     "text": [
      "Step #500.00"
     ]
    },
    {
     "name": "stderr",
     "output_type": "stream",
     "text": [
      "Warning: Choosing new speed factor 1.23 for vehicle '3_vertical0.22' to match departure speed.\n"
     ]
    },
    {
     "name": "stdout",
     "output_type": "stream",
     "text": [
      "Step #737.20"
     ]
    },
    {
     "name": "stderr",
     "output_type": "stream",
     "text": [
      "Warning: Vehicle '2_right.21' performs emergency braking with decel=-9.00 wished=4.50 severity=1.00, time=737.20.\n"
     ]
    },
    {
     "name": "stdout",
     "output_type": "stream",
     "text": [
      "Step #744.40"
     ]
    },
    {
     "name": "stderr",
     "output_type": "stream",
     "text": [
      "Warning: Vehicle '1_horizontal0.15' performs emergency braking with decel=-9.00 wished=4.50 severity=1.00, time=744.40.\n",
      "Warning: Vehicle '1_horizontal0.15' performs emergency stop at the end of lane '1si_1' because of a red traffic light (decel=-14.39, offset=0.35), time=744.40.\n",
      "Warning: Vehicle '2_horizontal.37' performs emergency braking with decel=-9.00 wished=4.50 severity=1.00, time=744.40.\n"
     ]
    },
    {
     "name": "stdout",
     "output_type": "stream",
     "text": [
      "Step #798.40 (1ms "
     ]
    },
    {
     "name": "stderr",
     "output_type": "stream",
     "text": [
      "Warning: Vehicle '4_left.8' performs emergency braking with decel=-9.00 wished=4.50 severity=1.00, time=807.40.\n"
     ]
    },
    {
     "name": "stdout",
     "output_type": "stream",
     "text": [
      "Step #810.00"
     ]
    },
    {
     "name": "stderr",
     "output_type": "stream",
     "text": [
      "Warning: Choosing new speed factor 1.24 for vehicle '1_horizontal0.38' to match departure speed.\n"
     ]
    },
    {
     "name": "stdout",
     "output_type": "stream",
     "text": [
      "Step #819.60"
     ]
    },
    {
     "name": "stderr",
     "output_type": "stream",
     "text": [
      "Warning: Vehicle '1_horizontal0.17' performs emergency braking with decel=-9.00 wished=4.50 severity=1.00, time=819.60.\n"
     ]
    },
    {
     "name": "stdout",
     "output_type": "stream",
     "text": [
      "Step #884.20"
     ]
    },
    {
     "name": "stderr",
     "output_type": "stream",
     "text": [
      "Warning: Vehicle '2_left0.13' performs emergency braking with decel=-9.00 wished=4.50 severity=1.00, time=884.20.\n"
     ]
    },
    {
     "name": "stdout",
     "output_type": "stream",
     "text": [
      "Step #975.00"
     ]
    },
    {
     "name": "stderr",
     "output_type": "stream",
     "text": [
      "Warning: Choosing new speed factor 1.30 for vehicle '1_horizontal.65' to match departure speed.\n"
     ]
    },
    {
     "name": "stdout",
     "output_type": "stream",
     "text": [
      "Step #983.80"
     ]
    },
    {
     "name": "stderr",
     "output_type": "stream",
     "text": [
      "Warning: Vehicle '1_horizontal.29' performs emergency braking with decel=-9.00 wished=4.50 severity=1.00, time=983.80.\n",
      "Warning: Vehicle '1_horizontal.29' performs emergency stop at the end of lane '1si_1' because of a red traffic light (decel=-14.49, offset=0.67), time=983.80.\n"
     ]
    },
    {
     "name": "stdout",
     "output_type": "stream",
     "text": [
      "Step #992.80 Cumulative Reward: -1738.4962913109914\n",
      " Retrying in 1 seconds\n",
      "Loading configuration ... done.\n",
      "-----------------------------------\n",
      "| rollout/            |           |\n",
      "|    ep_len_mean      | 5e+03     |\n",
      "|    ep_rew_mean      | -1.28e+03 |\n",
      "|    exploration_rate | 0.05      |\n",
      "| time/               |           |\n",
      "|    episodes         | 20        |\n",
      "|    fps              | 23        |\n",
      "|    time_elapsed     | 4223      |\n",
      "|    total_timesteps  | 100000    |\n",
      "| train/              |           |\n",
      "|    learning_rate    | 0.0001    |\n",
      "|    loss             | 0.000276  |\n",
      "|    n_updates        | 12499     |\n",
      "-----------------------------------\n"
     ]
    },
    {
     "name": "stderr",
     "output_type": "stream",
     "text": [
      "Warning: Missing yellow phase in tlLogic '0', program '0' for tl-index 3 when switching to phase 0\n",
      "Warning: Missing yellow phase in tlLogic '0', program '1' for tl-index 5 when switching to phase 0\n",
      "Warning: Missing yellow phase in tlLogic '0', program '2' for tl-index 0 when switching to phase 0\n",
      "Warning: Missing yellow phase in tlLogic '0', program '3' for tl-index 2 when switching to phase 0\n"
     ]
    },
    {
     "name": "stdout",
     "output_type": "stream",
     "text": [
      "Step #0.00 (0ms ?*RT. ?UPS, TraCI: 502ms, vehicles TOT 0 ACT 0 BUF 0)                    \r"
     ]
    }
   ],
   "source": [
    "# Create the environment\n",
    "env = SingleRoadIntersectionEnv()\n",
    "check_env(env)  # Ensure compatibility with Gym\n",
    "\n",
    "# Instantiate the DDQN agent\n",
    "ddqn_model = DQN(\"MultiInputPolicy\", env, verbose=1, buffer_size = 8000)\n",
    "\n",
    "# Train the DDQN agent with validation callback\n",
    "ddqn_model.learn(total_timesteps=100000)\n",
    "\n",
    "# Save the model\n",
    "ddqn_model.save(\"DDQNModel\")\n",
    "\n",
    "# Close the environment\n",
    "env.close()"
   ]
  },
  {
   "cell_type": "markdown",
   "id": "7fdcecb7",
   "metadata": {
    "papermill": {
     "duration": 0.434149,
     "end_time": "2024-05-01T13:32:45.487805",
     "exception": false,
     "start_time": "2024-05-01T13:32:45.053656",
     "status": "completed"
    },
    "tags": []
   },
   "source": [
    "## Evaluation"
   ]
  },
  {
   "cell_type": "markdown",
   "id": "b9d3186b",
   "metadata": {
    "papermill": {
     "duration": 0.425589,
     "end_time": "2024-05-01T13:32:46.339984",
     "exception": false,
     "start_time": "2024-05-01T13:32:45.914395",
     "status": "completed"
    },
    "tags": []
   },
   "source": [
    "### Extracting the data for eval episodes"
   ]
  },
  {
   "cell_type": "markdown",
   "id": "ee14ae55",
   "metadata": {
    "papermill": {
     "duration": 0.430249,
     "end_time": "2024-05-01T13:32:47.191621",
     "exception": false,
     "start_time": "2024-05-01T13:32:46.761372",
     "status": "completed"
    },
    "tags": []
   },
   "source": [
    "We are going to average all our metrics over the eval episodes"
   ]
  },
  {
   "cell_type": "code",
   "execution_count": 9,
   "id": "08acbae5",
   "metadata": {
    "execution": {
     "iopub.execute_input": "2024-05-01T13:32:48.037838Z",
     "iopub.status.busy": "2024-05-01T13:32:48.036716Z",
     "iopub.status.idle": "2024-05-01T13:50:14.138601Z",
     "shell.execute_reply": "2024-05-01T13:50:14.137079Z"
    },
    "papermill": {
     "duration": 1046.525486,
     "end_time": "2024-05-01T13:50:14.140759",
     "exception": false,
     "start_time": "2024-05-01T13:32:47.615273",
     "status": "completed"
    },
    "tags": []
   },
   "outputs": [
    {
     "name": "stdout",
     "output_type": "stream",
     "text": [
      " Retrying in 1 seconds\n",
      "Loading configuration ... done.\n"
     ]
    },
    {
     "name": "stderr",
     "output_type": "stream",
     "text": [
      "Warning: Missing yellow phase in tlLogic '0', program '0' for tl-index 3 when switching to phase 0\n",
      "Warning: Missing yellow phase in tlLogic '0', program '1' for tl-index 5 when switching to phase 0\n",
      "Warning: Missing yellow phase in tlLogic '0', program '2' for tl-index 0 when switching to phase 0\n",
      "Warning: Missing yellow phase in tlLogic '0', program '3' for tl-index 2 when switching to phase 0\n",
      "/tmp/ipykernel_24/2840145907.py:38: UserWarning: getCurrentTime is deprecated, please use getTime which returns floating point seconds\n",
      "  self.simulation_time_at_phase_change = traci.simulation.getCurrentTime()/1000\n"
     ]
    },
    {
     "name": "stdout",
     "output_type": "stream",
     "text": [
      " Retrying in 1 seconds\n",
      "Loading configuration ... done.\n"
     ]
    },
    {
     "name": "stderr",
     "output_type": "stream",
     "text": [
      "Warning: Missing yellow phase in tlLogic '0', program '0' for tl-index 3 when switching to phase 0\n",
      "Warning: Missing yellow phase in tlLogic '0', program '1' for tl-index 5 when switching to phase 0\n",
      "Warning: Missing yellow phase in tlLogic '0', program '2' for tl-index 0 when switching to phase 0\n",
      "Warning: Missing yellow phase in tlLogic '0', program '3' for tl-index 2 when switching to phase 0\n",
      "/tmp/ipykernel_24/2840145907.py:52: UserWarning: getCurrentTime is deprecated, please use getTime which returns floating point seconds\n",
      "  self.simulation_time_at_phase_change = traci.simulation.getCurrentTime()/1000\n",
      "/tmp/ipykernel_24/2840145907.py:69: UserWarning: getCurrentTime is deprecated, please use getTime which returns floating point seconds\n",
      "  current_time = traci.simulation.getCurrentTime() / 1000  # Convert from ms to s\n",
      "/tmp/ipykernel_24/2840145907.py:99: UserWarning: getCurrentTime is deprecated, please use getTime which returns floating point seconds\n",
      "  current_time = traci.simulation.getCurrentTime() / 1000  # Convert from ms to s\n"
     ]
    },
    {
     "name": "stdout",
     "output_type": "stream",
     "text": [
      "S"
     ]
    },
    {
     "name": "stderr",
     "output_type": "stream",
     "text": [
      "/tmp/ipykernel_24/2840145907.py:270: UserWarning: getCurrentTime is deprecated, please use getTime which returns floating point seconds\n",
      "  1 if ((phase_change == 1) and ((traci.simulation.getCurrentTime()/1000 - self.simulation_time_at_phase_change) < min_phase_duration) and ((current_state[\"current_phase\"][0] % 3) == 0)) else 0\n",
      "/tmp/ipykernel_24/2840145907.py:135: UserWarning: getCurrentTime is deprecated, please use getTime which returns floating point seconds\n",
      "  self.simulation_time_at_phase_change = traci.simulation.getCurrentTime()/1000\n"
     ]
    },
    {
     "name": "stdout",
     "output_type": "stream",
     "text": [
      "Step #102.20"
     ]
    },
    {
     "name": "stderr",
     "output_type": "stream",
     "text": [
      "Warning: Vehicle '4_vertical.2' performs emergency braking with decel=-9.00 wished=4.50 severity=1.00, time=102.20.\n",
      "Warning: Vehicle '3_vertical.2' performs emergency braking with decel=-9.00 wished=4.50 severity=1.00, time=102.20.\n"
     ]
    },
    {
     "name": "stdout",
     "output_type": "stream",
     "text": [
      "Step #152.20"
     ]
    },
    {
     "name": "stderr",
     "output_type": "stream",
     "text": [
      "Warning: Vehicle '2_left0.1' performs emergency braking with decel=-9.00 wished=4.50 severity=1.00, time=152.20.\n"
     ]
    },
    {
     "name": "stdout",
     "output_type": "stream",
     "text": [
      "Step #153.20"
     ]
    },
    {
     "name": "stderr",
     "output_type": "stream",
     "text": [
      "Warning: Vehicle '2_left0.1' performs emergency stop at the end of lane '2si_2' because of a red traffic light (decel=-12.57, offset=0.37), time=153.20.\n"
     ]
    },
    {
     "name": "stdout",
     "output_type": "stream",
     "text": [
      "Step #271.60"
     ]
    },
    {
     "name": "stderr",
     "output_type": "stream",
     "text": [
      "Warning: Vehicle '2_horizontal.2' performs emergency braking with decel=-9.00 wished=4.50 severity=1.00, time=271.40.\n",
      "Warning: Vehicle '2_horizontal.2' performs emergency stop at the end of lane '2si_1' because of a red traffic light (decel=-10.28, offset=0.19), time=271.60.\n"
     ]
    },
    {
     "name": "stdout",
     "output_type": "stream",
     "text": [
      "Step #500.00"
     ]
    },
    {
     "name": "stderr",
     "output_type": "stream",
     "text": [
      "Warning: Choosing new speed factor 1.23 for vehicle '3_vertical0.22' to match departure speed.\n"
     ]
    },
    {
     "name": "stdout",
     "output_type": "stream",
     "text": [
      "Step #599.60"
     ]
    },
    {
     "name": "stderr",
     "output_type": "stream",
     "text": [
      "Warning: Teleporting vehicle '2_left0.3'; waited too long (jam), lane=':m2_0_2', time=599.60.\n",
      "Warning: Vehicle '2_left0.3' ends teleporting on edge '2si', time 599.60.\n"
     ]
    },
    {
     "name": "stdout",
     "output_type": "stream",
     "text": [
      "Step #608.60 "
     ]
    },
    {
     "name": "stderr",
     "output_type": "stream",
     "text": [
      "Warning: Teleporting vehicle '3_left.2'; waited too long (yield), lane='3si_1', time=612.20.\n",
      "Warning: Teleporting vehicle '4_left.2'; waited too long (yield), lane='4si_1', time=612.20.\n",
      "Warning: Vehicle '3_left.2' ends teleporting on edge '1o', time 612.20.\n",
      "Warning: Vehicle '4_left.2' ends teleporting on edge '2o', time 612.20.\n",
      "Warning: Teleporting vehicle '2_horizontal.3'; waited too long (yield), lane='2si_1', time=612.80.\n",
      "Warning: Teleporting vehicle '1_horizontal.3'; waited too long (yield), lane='1si_1', time=612.80.\n",
      "Warning: Vehicle '1_horizontal.3' ends teleporting on edge '2o', time 612.80.\n",
      "Warning: Vehicle '2_horizontal.3' ends teleporting on edge '1o', time 612.80.\n"
     ]
    },
    {
     "name": "stdout",
     "output_type": "stream",
     "text": [
      "Step #613.80"
     ]
    },
    {
     "name": "stderr",
     "output_type": "stream",
     "text": [
      "Warning: Teleporting vehicle '2_right.3'; waited too long (yield), lane='2si_0', time=613.80.\n",
      "Warning: Vehicle '2_right.3' ends teleporting on edge '4o', time 613.80.\n"
     ]
    },
    {
     "name": "stdout",
     "output_type": "stream",
     "text": [
      "Step #767.60"
     ]
    },
    {
     "name": "stderr",
     "output_type": "stream",
     "text": [
      "Warning: Vehicle '1_horizontal0.1' performs emergency braking with decel=-9.00 wished=4.50 severity=1.00, time=767.40.\n",
      "Warning: Vehicle '1_horizontal0.1' performs emergency stop at the end of lane '1si_1' because of a red traffic light (decel=-10.84, offset=0.32), time=767.60.\n"
     ]
    },
    {
     "name": "stdout",
     "output_type": "stream",
     "text": [
      "Step #808.20"
     ]
    },
    {
     "name": "stderr",
     "output_type": "stream",
     "text": [
      "Warning: Vehicle '2_left.6' performs emergency braking with decel=-9.00 wished=4.50 severity=1.00, time=808.20.\n",
      "Warning: Vehicle '2_left.6' performs emergency stop at the end of lane '2si_2' because of a red traffic light (decel=-12.76, offset=0.74), time=808.20.\n"
     ]
    },
    {
     "name": "stdout",
     "output_type": "stream",
     "text": [
      "Step #810.00"
     ]
    },
    {
     "name": "stderr",
     "output_type": "stream",
     "text": [
      "Warning: Choosing new speed factor 1.24 for vehicle '1_horizontal0.38' to match departure speed.\n"
     ]
    },
    {
     "name": "stdout",
     "output_type": "stream",
     "text": [
      "Step #972.00 (1ms ~= 200.00*RT"
     ]
    },
    {
     "name": "stderr",
     "output_type": "stream",
     "text": [
      "Warning: Choosing new speed factor 1.30 for vehicle '1_horizontal.65' to match departure speed.\n"
     ]
    },
    {
     "name": "stdout",
     "output_type": "stream",
     "text": [
      "Step #993.00 (Cumulative Reward: -4305.965883080316\n",
      " Retrying in 1 seconds\n",
      "Loading configuration ... done.\n"
     ]
    },
    {
     "name": "stderr",
     "output_type": "stream",
     "text": [
      "Warning: Missing yellow phase in tlLogic '0', program '0' for tl-index 3 when switching to phase 0\n",
      "Warning: Missing yellow phase in tlLogic '0', program '1' for tl-index 5 when switching to phase 0\n",
      "Warning: Missing yellow phase in tlLogic '0', program '2' for tl-index 0 when switching to phase 0\n",
      "Warning: Missing yellow phase in tlLogic '0', program '3' for tl-index 2 when switching to phase 0\n"
     ]
    },
    {
     "name": "stdout",
     "output_type": "stream",
     "text": [
      "Step #102.20"
     ]
    },
    {
     "name": "stderr",
     "output_type": "stream",
     "text": [
      "Warning: Vehicle '4_vertical.2' performs emergency braking with decel=-9.00 wished=4.50 severity=1.00, time=102.20.\n",
      "Warning: Vehicle '3_vertical.2' performs emergency braking with decel=-9.00 wished=4.50 severity=1.00, time=102.20.\n"
     ]
    },
    {
     "name": "stdout",
     "output_type": "stream",
     "text": [
      "Step #153.20"
     ]
    },
    {
     "name": "stderr",
     "output_type": "stream",
     "text": [
      "Warning: Vehicle '2_left0.1' performs emergency braking with decel=-9.00 wished=4.50 severity=1.00, time=152.20.\n",
      "Warning: Vehicle '2_left0.1' performs emergency stop at the end of lane '2si_2' because of a red traffic light (decel=-12.57, offset=0.37), time=153.20.\n"
     ]
    },
    {
     "name": "stdout",
     "output_type": "stream",
     "text": [
      "Step #271.60"
     ]
    },
    {
     "name": "stderr",
     "output_type": "stream",
     "text": [
      "Warning: Vehicle '2_horizontal.2' performs emergency braking with decel=-9.00 wished=4.50 severity=1.00, time=271.40.\n",
      "Warning: Vehicle '2_horizontal.2' performs emergency stop at the end of lane '2si_1' because of a red traffic light (decel=-10.28, offset=0.19), time=271.60.\n"
     ]
    },
    {
     "name": "stdout",
     "output_type": "stream",
     "text": [
      "Step #500.00"
     ]
    },
    {
     "name": "stderr",
     "output_type": "stream",
     "text": [
      "Warning: Choosing new speed factor 1.23 for vehicle '3_vertical0.22' to match departure speed.\n"
     ]
    },
    {
     "name": "stdout",
     "output_type": "stream",
     "text": [
      "Step #599.60"
     ]
    },
    {
     "name": "stderr",
     "output_type": "stream",
     "text": [
      "Warning: Teleporting vehicle '2_left0.3'; waited too long (jam), lane=':m2_0_2', time=599.60.\n",
      "Warning: Vehicle '2_left0.3' ends teleporting on edge '2si', time 599.60.\n"
     ]
    },
    {
     "name": "stdout",
     "output_type": "stream",
     "text": [
      "Step #612.80"
     ]
    },
    {
     "name": "stderr",
     "output_type": "stream",
     "text": [
      "Warning: Teleporting vehicle '3_left.2'; waited too long (yield), lane='3si_1', time=612.20.\n",
      "Warning: Teleporting vehicle '4_left.2'; waited too long (yield), lane='4si_1', time=612.20.\n",
      "Warning: Vehicle '3_left.2' ends teleporting on edge '1o', time 612.20.\n",
      "Warning: Vehicle '4_left.2' ends teleporting on edge '2o', time 612.20.\n",
      "Warning: Teleporting vehicle '2_horizontal.3'; waited too long (yield), lane='2si_1', time=612.80.\n",
      "Warning: Teleporting vehicle '1_horizontal.3'; waited too long (yield), lane='1si_1', time=612.80.\n",
      "Warning: Vehicle '1_horizontal.3' ends teleporting on edge '2o', time 612.80.\n",
      "Warning: Vehicle '2_horizontal.3' ends teleporting on edge '1o', time 612.80.\n"
     ]
    },
    {
     "name": "stdout",
     "output_type": "stream",
     "text": [
      "Step #613.80"
     ]
    },
    {
     "name": "stderr",
     "output_type": "stream",
     "text": [
      "Warning: Teleporting vehicle '2_right.3'; waited too long (yield), lane='2si_0', time=613.80.\n",
      "Warning: Vehicle '2_right.3' ends teleporting on edge '4o', time 613.80.\n"
     ]
    },
    {
     "name": "stdout",
     "output_type": "stream",
     "text": [
      "Step #767.60"
     ]
    },
    {
     "name": "stderr",
     "output_type": "stream",
     "text": [
      "Warning: Vehicle '1_horizontal0.1' performs emergency braking with decel=-9.00 wished=4.50 severity=1.00, time=767.40.\n",
      "Warning: Vehicle '1_horizontal0.1' performs emergency stop at the end of lane '1si_1' because of a red traffic light (decel=-10.84, offset=0.32), time=767.60.\n"
     ]
    },
    {
     "name": "stdout",
     "output_type": "stream",
     "text": [
      "Step #808.20"
     ]
    },
    {
     "name": "stderr",
     "output_type": "stream",
     "text": [
      "Warning: Vehicle '2_left.6' performs emergency braking with decel=-9.00 wished=4.50 severity=1.00, time=808.20.\n",
      "Warning: Vehicle '2_left.6' performs emergency stop at the end of lane '2si_2' because of a red traffic light (decel=-12.76, offset=0.74), time=808.20.\n"
     ]
    },
    {
     "name": "stdout",
     "output_type": "stream",
     "text": [
      "Step #810.00"
     ]
    },
    {
     "name": "stderr",
     "output_type": "stream",
     "text": [
      "Warning: Choosing new speed factor 1.24 for vehicle '1_horizontal0.38' to match departure speed.\n"
     ]
    },
    {
     "name": "stdout",
     "output_type": "stream",
     "text": [
      "Step #972.00 (1ms ~= 200.00*RT"
     ]
    },
    {
     "name": "stderr",
     "output_type": "stream",
     "text": [
      "Warning: Choosing new speed factor 1.30 for vehicle '1_horizontal.65' to match departure speed.\n"
     ]
    },
    {
     "name": "stdout",
     "output_type": "stream",
     "text": [
      "Step #993.00 (Cumulative Reward: -4305.965883080316\n",
      " Retrying in 1 seconds\n",
      "Loading configuration ... done.\n"
     ]
    },
    {
     "name": "stderr",
     "output_type": "stream",
     "text": [
      "Warning: Missing yellow phase in tlLogic '0', program '0' for tl-index 3 when switching to phase 0\n",
      "Warning: Missing yellow phase in tlLogic '0', program '1' for tl-index 5 when switching to phase 0\n",
      "Warning: Missing yellow phase in tlLogic '0', program '2' for tl-index 0 when switching to phase 0\n",
      "Warning: Missing yellow phase in tlLogic '0', program '3' for tl-index 2 when switching to phase 0\n"
     ]
    },
    {
     "name": "stdout",
     "output_type": "stream",
     "text": [
      "Step #102.20"
     ]
    },
    {
     "name": "stderr",
     "output_type": "stream",
     "text": [
      "Warning: Vehicle '4_vertical.2' performs emergency braking with decel=-9.00 wished=4.50 severity=1.00, time=102.20.\n",
      "Warning: Vehicle '3_vertical.2' performs emergency braking with decel=-9.00 wished=4.50 severity=1.00, time=102.20.\n"
     ]
    },
    {
     "name": "stdout",
     "output_type": "stream",
     "text": [
      "Step #153.20"
     ]
    },
    {
     "name": "stderr",
     "output_type": "stream",
     "text": [
      "Warning: Vehicle '2_left0.1' performs emergency braking with decel=-9.00 wished=4.50 severity=1.00, time=152.20.\n",
      "Warning: Vehicle '2_left0.1' performs emergency stop at the end of lane '2si_2' because of a red traffic light (decel=-12.57, offset=0.37), time=153.20.\n"
     ]
    },
    {
     "name": "stdout",
     "output_type": "stream",
     "text": [
      "Step #270.20 (0ms ?*RT. ?"
     ]
    },
    {
     "name": "stderr",
     "output_type": "stream",
     "text": [
      "Warning: Vehicle '2_horizontal.2' performs emergency braking with decel=-9.00 wished=4.50 severity=1.00, time=271.40.\n",
      "Warning: Vehicle '2_horizontal.2' performs emergency stop at the end of lane '2si_1' because of a red traffic light (decel=-10.28, offset=0.19), time=271.60.\n"
     ]
    },
    {
     "name": "stdout",
     "output_type": "stream",
     "text": [
      "Step #500.00"
     ]
    },
    {
     "name": "stderr",
     "output_type": "stream",
     "text": [
      "Warning: Choosing new speed factor 1.23 for vehicle '3_vertical0.22' to match departure speed.\n"
     ]
    },
    {
     "name": "stdout",
     "output_type": "stream",
     "text": [
      "Step #599.60"
     ]
    },
    {
     "name": "stderr",
     "output_type": "stream",
     "text": [
      "Warning: Teleporting vehicle '2_left0.3'; waited too long (jam), lane=':m2_0_2', time=599.60.\n",
      "Warning: Vehicle '2_left0.3' ends teleporting on edge '2si', time 599.60.\n"
     ]
    },
    {
     "name": "stdout",
     "output_type": "stream",
     "text": [
      "Step #608.60 "
     ]
    },
    {
     "name": "stderr",
     "output_type": "stream",
     "text": [
      "Warning: Teleporting vehicle '3_left.2'; waited too long (yield), lane='3si_1', time=612.20.\n",
      "Warning: Teleporting vehicle '4_left.2'; waited too long (yield), lane='4si_1', time=612.20.\n",
      "Warning: Vehicle '3_left.2' ends teleporting on edge '1o', time 612.20.\n",
      "Warning: Vehicle '4_left.2' ends teleporting on edge '2o', time 612.20.\n",
      "Warning: Teleporting vehicle '2_horizontal.3'; waited too long (yield), lane='2si_1', time=612.80.\n",
      "Warning: Teleporting vehicle '1_horizontal.3'; waited too long (yield), lane='1si_1', time=612.80.\n",
      "Warning: Vehicle '1_horizontal.3' ends teleporting on edge '2o', time 612.80.\n",
      "Warning: Vehicle '2_horizontal.3' ends teleporting on edge '1o', time 612.80.\n"
     ]
    },
    {
     "name": "stdout",
     "output_type": "stream",
     "text": [
      "Step #612.80"
     ]
    },
    {
     "name": "stderr",
     "output_type": "stream",
     "text": [
      "Warning: Teleporting vehicle '2_right.3'; waited too long (yield), lane='2si_0', time=613.80.\n",
      "Warning: Vehicle '2_right.3' ends teleporting on edge '4o', time 613.80.\n"
     ]
    },
    {
     "name": "stdout",
     "output_type": "stream",
     "text": [
      "Step #767.40"
     ]
    },
    {
     "name": "stderr",
     "output_type": "stream",
     "text": [
      "Warning: Vehicle '1_horizontal0.1' performs emergency braking with decel=-9.00 wished=4.50 severity=1.00, time=767.40.\n",
      "Warning: Vehicle '1_horizontal0.1' performs emergency stop at the end of lane '1si_1' because of a red traffic light (decel=-10.84, offset=0.32), time=767.60.\n"
     ]
    },
    {
     "name": "stdout",
     "output_type": "stream",
     "text": [
      "Step #803.60 (1m"
     ]
    },
    {
     "name": "stderr",
     "output_type": "stream",
     "text": [
      "Warning: Vehicle '2_left.6' performs emergency braking with decel=-9.00 wished=4.50 severity=1.00, time=808.20.\n",
      "Warning: Vehicle '2_left.6' performs emergency stop at the end of lane '2si_2' because of a red traffic light (decel=-12.76, offset=0.74), time=808.20.\n"
     ]
    },
    {
     "name": "stdout",
     "output_type": "stream",
     "text": [
      "Step #810.00"
     ]
    },
    {
     "name": "stderr",
     "output_type": "stream",
     "text": [
      "Warning: Choosing new speed factor 1.24 for vehicle '1_horizontal0.38' to match departure speed.\n"
     ]
    },
    {
     "name": "stdout",
     "output_type": "stream",
     "text": [
      "Step #972.00 (1ms ~= 200.00*RT"
     ]
    },
    {
     "name": "stderr",
     "output_type": "stream",
     "text": [
      "Warning: Choosing new speed factor 1.30 for vehicle '1_horizontal.65' to match departure speed.\n"
     ]
    },
    {
     "name": "stdout",
     "output_type": "stream",
     "text": [
      "Step #993.00 (Cumulative Reward: -4305.965883080316\n",
      " Retrying in 1 seconds\n",
      "Loading configuration ... done.\n"
     ]
    },
    {
     "name": "stderr",
     "output_type": "stream",
     "text": [
      "Warning: Missing yellow phase in tlLogic '0', program '0' for tl-index 3 when switching to phase 0\n",
      "Warning: Missing yellow phase in tlLogic '0', program '1' for tl-index 5 when switching to phase 0\n",
      "Warning: Missing yellow phase in tlLogic '0', program '2' for tl-index 0 when switching to phase 0\n",
      "Warning: Missing yellow phase in tlLogic '0', program '3' for tl-index 2 when switching to phase 0\n"
     ]
    },
    {
     "name": "stdout",
     "output_type": "stream",
     "text": [
      "Step #99.00"
     ]
    },
    {
     "name": "stderr",
     "output_type": "stream",
     "text": [
      "Warning: Vehicle '4_vertical.2' performs emergency braking with decel=-9.00 wished=4.50 severity=1.00, time=102.20.\n",
      "Warning: Vehicle '3_vertical.2' performs emergency braking with decel=-9.00 wished=4.50 severity=1.00, time=102.20.\n"
     ]
    },
    {
     "name": "stdout",
     "output_type": "stream",
     "text": [
      "Step #153.20"
     ]
    },
    {
     "name": "stderr",
     "output_type": "stream",
     "text": [
      "Warning: Vehicle '2_left0.1' performs emergency braking with decel=-9.00 wished=4.50 severity=1.00, time=152.20.\n",
      "Warning: Vehicle '2_left0.1' performs emergency stop at the end of lane '2si_2' because of a red traffic light (decel=-12.57, offset=0.37), time=153.20.\n"
     ]
    },
    {
     "name": "stdout",
     "output_type": "stream",
     "text": [
      "Step #270.20 (1ms ~= 200."
     ]
    },
    {
     "name": "stderr",
     "output_type": "stream",
     "text": [
      "Warning: Vehicle '2_horizontal.2' performs emergency braking with decel=-9.00 wished=4.50 severity=1.00, time=271.40.\n",
      "Warning: Vehicle '2_horizontal.2' performs emergency stop at the end of lane '2si_1' because of a red traffic light (decel=-10.28, offset=0.19), time=271.60.\n"
     ]
    },
    {
     "name": "stdout",
     "output_type": "stream",
     "text": [
      "Step #500.00"
     ]
    },
    {
     "name": "stderr",
     "output_type": "stream",
     "text": [
      "Warning: Choosing new speed factor 1.23 for vehicle '3_vertical0.22' to match departure speed.\n"
     ]
    },
    {
     "name": "stdout",
     "output_type": "stream",
     "text": [
      "Step #599.60"
     ]
    },
    {
     "name": "stderr",
     "output_type": "stream",
     "text": [
      "Warning: Teleporting vehicle '2_left0.3'; waited too long (jam), lane=':m2_0_2', time=599.60.\n",
      "Warning: Vehicle '2_left0.3' ends teleporting on edge '2si', time 599.60.\n"
     ]
    },
    {
     "name": "stdout",
     "output_type": "stream",
     "text": [
      "Step #608.60 "
     ]
    },
    {
     "name": "stderr",
     "output_type": "stream",
     "text": [
      "Warning: Teleporting vehicle '3_left.2'; waited too long (yield), lane='3si_1', time=612.20.\n",
      "Warning: Teleporting vehicle '4_left.2'; waited too long (yield), lane='4si_1', time=612.20.\n",
      "Warning: Vehicle '3_left.2' ends teleporting on edge '1o', time 612.20.\n",
      "Warning: Vehicle '4_left.2' ends teleporting on edge '2o', time 612.20.\n",
      "Warning: Teleporting vehicle '2_horizontal.3'; waited too long (yield), lane='2si_1', time=612.80.\n",
      "Warning: Teleporting vehicle '1_horizontal.3'; waited too long (yield), lane='1si_1', time=612.80.\n",
      "Warning: Vehicle '1_horizontal.3' ends teleporting on edge '2o', time 612.80.\n",
      "Warning: Vehicle '2_horizontal.3' ends teleporting on edge '1o', time 612.80.\n"
     ]
    },
    {
     "name": "stdout",
     "output_type": "stream",
     "text": [
      "Step #613.80"
     ]
    },
    {
     "name": "stderr",
     "output_type": "stream",
     "text": [
      "Warning: Teleporting vehicle '2_right.3'; waited too long (yield), lane='2si_0', time=613.80.\n",
      "Warning: Vehicle '2_right.3' ends teleporting on edge '4o', time 613.80.\n"
     ]
    },
    {
     "name": "stdout",
     "output_type": "stream",
     "text": [
      "Step #767.60"
     ]
    },
    {
     "name": "stderr",
     "output_type": "stream",
     "text": [
      "Warning: Vehicle '1_horizontal0.1' performs emergency braking with decel=-9.00 wished=4.50 severity=1.00, time=767.40.\n",
      "Warning: Vehicle '1_horizontal0.1' performs emergency stop at the end of lane '1si_1' because of a red traffic light (decel=-10.84, offset=0.32), time=767.60.\n"
     ]
    },
    {
     "name": "stdout",
     "output_type": "stream",
     "text": [
      "Step #808.20"
     ]
    },
    {
     "name": "stderr",
     "output_type": "stream",
     "text": [
      "Warning: Vehicle '2_left.6' performs emergency braking with decel=-9.00 wished=4.50 severity=1.00, time=808.20.\n",
      "Warning: Vehicle '2_left.6' performs emergency stop at the end of lane '2si_2' because of a red traffic light (decel=-12.76, offset=0.74), time=808.20.\n"
     ]
    },
    {
     "name": "stdout",
     "output_type": "stream",
     "text": [
      "Step #810.00"
     ]
    },
    {
     "name": "stderr",
     "output_type": "stream",
     "text": [
      "Warning: Choosing new speed factor 1.24 for vehicle '1_horizontal0.38' to match departure speed.\n"
     ]
    },
    {
     "name": "stdout",
     "output_type": "stream",
     "text": [
      "Step #975.00"
     ]
    },
    {
     "name": "stderr",
     "output_type": "stream",
     "text": [
      "Warning: Choosing new speed factor 1.30 for vehicle '1_horizontal.65' to match departure speed.\n"
     ]
    },
    {
     "name": "stdout",
     "output_type": "stream",
     "text": [
      "Step #993.00 (Cumulative Reward: -4305.965883080316\n",
      " Retrying in 1 seconds\n",
      "Loading configuration ... done.\n"
     ]
    },
    {
     "name": "stderr",
     "output_type": "stream",
     "text": [
      "Warning: Missing yellow phase in tlLogic '0', program '0' for tl-index 3 when switching to phase 0\n",
      "Warning: Missing yellow phase in tlLogic '0', program '1' for tl-index 5 when switching to phase 0\n",
      "Warning: Missing yellow phase in tlLogic '0', program '2' for tl-index 0 when switching to phase 0\n",
      "Warning: Missing yellow phase in tlLogic '0', program '3' for tl-index 2 when switching to phase 0\n"
     ]
    },
    {
     "name": "stdout",
     "output_type": "stream",
     "text": [
      "Step #102.20"
     ]
    },
    {
     "name": "stderr",
     "output_type": "stream",
     "text": [
      "Warning: Vehicle '4_vertical.2' performs emergency braking with decel=-9.00 wished=4.50 severity=1.00, time=102.20.\n",
      "Warning: Vehicle '3_vertical.2' performs emergency braking with decel=-9.00 wished=4.50 severity=1.00, time=102.20.\n"
     ]
    },
    {
     "name": "stdout",
     "output_type": "stream",
     "text": [
      "Step #153.20"
     ]
    },
    {
     "name": "stderr",
     "output_type": "stream",
     "text": [
      "Warning: Vehicle '2_left0.1' performs emergency braking with decel=-9.00 wished=4.50 severity=1.00, time=152.20.\n",
      "Warning: Vehicle '2_left0.1' performs emergency stop at the end of lane '2si_2' because of a red traffic light (decel=-12.57, offset=0.37), time=153.20.\n"
     ]
    },
    {
     "name": "stdout",
     "output_type": "stream",
     "text": [
      "Step #271.60"
     ]
    },
    {
     "name": "stderr",
     "output_type": "stream",
     "text": [
      "Warning: Vehicle '2_horizontal.2' performs emergency braking with decel=-9.00 wished=4.50 severity=1.00, time=271.40.\n",
      "Warning: Vehicle '2_horizontal.2' performs emergency stop at the end of lane '2si_1' because of a red traffic light (decel=-10.28, offset=0.19), time=271.60.\n"
     ]
    },
    {
     "name": "stdout",
     "output_type": "stream",
     "text": [
      "Step #500.00"
     ]
    },
    {
     "name": "stderr",
     "output_type": "stream",
     "text": [
      "Warning: Choosing new speed factor 1.23 for vehicle '3_vertical0.22' to match departure speed.\n"
     ]
    },
    {
     "name": "stdout",
     "output_type": "stream",
     "text": [
      "Step #599.60"
     ]
    },
    {
     "name": "stderr",
     "output_type": "stream",
     "text": [
      "Warning: Teleporting vehicle '2_left0.3'; waited too long (jam), lane=':m2_0_2', time=599.60.\n",
      "Warning: Vehicle '2_left0.3' ends teleporting on edge '2si', time 599.60.\n"
     ]
    },
    {
     "name": "stdout",
     "output_type": "stream",
     "text": [
      "Step #608.60 "
     ]
    },
    {
     "name": "stderr",
     "output_type": "stream",
     "text": [
      "Warning: Teleporting vehicle '3_left.2'; waited too long (yield), lane='3si_1', time=612.20.\n",
      "Warning: Teleporting vehicle '4_left.2'; waited too long (yield), lane='4si_1', time=612.20.\n",
      "Warning: Vehicle '3_left.2' ends teleporting on edge '1o', time 612.20.\n",
      "Warning: Vehicle '4_left.2' ends teleporting on edge '2o', time 612.20.\n",
      "Warning: Teleporting vehicle '2_horizontal.3'; waited too long (yield), lane='2si_1', time=612.80.\n",
      "Warning: Teleporting vehicle '1_horizontal.3'; waited too long (yield), lane='1si_1', time=612.80.\n",
      "Warning: Vehicle '1_horizontal.3' ends teleporting on edge '2o', time 612.80.\n",
      "Warning: Vehicle '2_horizontal.3' ends teleporting on edge '1o', time 612.80.\n"
     ]
    },
    {
     "name": "stdout",
     "output_type": "stream",
     "text": [
      "Step #613.80"
     ]
    },
    {
     "name": "stderr",
     "output_type": "stream",
     "text": [
      "Warning: Teleporting vehicle '2_right.3'; waited too long (yield), lane='2si_0', time=613.80.\n",
      "Warning: Vehicle '2_right.3' ends teleporting on edge '4o', time 613.80.\n"
     ]
    },
    {
     "name": "stdout",
     "output_type": "stream",
     "text": [
      "Step #767.60"
     ]
    },
    {
     "name": "stderr",
     "output_type": "stream",
     "text": [
      "Warning: Vehicle '1_horizontal0.1' performs emergency braking with decel=-9.00 wished=4.50 severity=1.00, time=767.40.\n",
      "Warning: Vehicle '1_horizontal0.1' performs emergency stop at the end of lane '1si_1' because of a red traffic light (decel=-10.84, offset=0.32), time=767.60.\n"
     ]
    },
    {
     "name": "stdout",
     "output_type": "stream",
     "text": [
      "Step #808.20"
     ]
    },
    {
     "name": "stderr",
     "output_type": "stream",
     "text": [
      "Warning: Vehicle '2_left.6' performs emergency braking with decel=-9.00 wished=4.50 severity=1.00, time=808.20.\n",
      "Warning: Vehicle '2_left.6' performs emergency stop at the end of lane '2si_2' because of a red traffic light (decel=-12.76, offset=0.74), time=808.20.\n"
     ]
    },
    {
     "name": "stdout",
     "output_type": "stream",
     "text": [
      "Step #810.00"
     ]
    },
    {
     "name": "stderr",
     "output_type": "stream",
     "text": [
      "Warning: Choosing new speed factor 1.24 for vehicle '1_horizontal0.38' to match departure speed.\n"
     ]
    },
    {
     "name": "stdout",
     "output_type": "stream",
     "text": [
      "Step #972.00 (1ms ~= 200.00*RT"
     ]
    },
    {
     "name": "stderr",
     "output_type": "stream",
     "text": [
      "Warning: Choosing new speed factor 1.30 for vehicle '1_horizontal.65' to match departure speed.\n"
     ]
    },
    {
     "name": "stdout",
     "output_type": "stream",
     "text": [
      "Step #993.00 (Cumulative Reward: -4305.965883080316\n",
      "Step #1000.00 (0ms ?*RT. ?UPS, TraCI: 44ms, vehicles TOT 291 ACT 89 BUF 268)               \r"
     ]
    }
   ],
   "source": [
    "# Load the pre-trained DDQN model\n",
    "ddqn_model = DQN.load(\"DDQNModel\")\n",
    "\n",
    "env = SingleRoadIntersectionEnv()\n",
    "\n",
    "num_eval_episodes = 5\n",
    "eval_data = []\n",
    "\n",
    "for episode in range(num_eval_episodes):\n",
    "    eval_data.append([])\n",
    "    state, info = env.reset()  # Reset the environment\n",
    "    \n",
    "    done = False\n",
    "    while not done:\n",
    "        # Predict the action using the DDQN model\n",
    "        action, _ = ddqn_model.predict(state, deterministic=True)  # Use deterministic for inference\n",
    "        \n",
    "        # Perform the action and get the new state\n",
    "        next_state, reward, done, _, info = env.step(action) #obs, reward, terminated, truncated, info\n",
    "        state = next_state\n",
    "        \n",
    "        reward_factors = env.reward_factors\n",
    "        eval_data[-1].append((reward, reward_factors))\n",
    "           \n",
    "# Close the environment\n",
    "env.close()"
   ]
  },
  {
   "cell_type": "markdown",
   "id": "7be06a9a",
   "metadata": {
    "papermill": {
     "duration": 0.514808,
     "end_time": "2024-05-01T13:50:15.191618",
     "exception": false,
     "start_time": "2024-05-01T13:50:14.676810",
     "status": "completed"
    },
    "tags": []
   },
   "source": [
    "### Visualising the evaluation data obtained "
   ]
  },
  {
   "cell_type": "code",
   "execution_count": 10,
   "id": "e3583c71",
   "metadata": {
    "execution": {
     "iopub.execute_input": "2024-05-01T13:50:16.238824Z",
     "iopub.status.busy": "2024-05-01T13:50:16.237977Z",
     "iopub.status.idle": "2024-05-01T13:50:18.961976Z",
     "shell.execute_reply": "2024-05-01T13:50:18.961077Z"
    },
    "papermill": {
     "duration": 3.255158,
     "end_time": "2024-05-01T13:50:18.964178",
     "exception": false,
     "start_time": "2024-05-01T13:50:15.709020",
     "status": "completed"
    },
    "tags": []
   },
   "outputs": [
    {
     "data": {
      "image/png": "[encoded data removed]",
      "text/plain": [
       "<Figure size 1000x600 with 1 Axes>"
      ]
     },
     "metadata": {},
     "output_type": "display_data"
    },
    {
     "data": {
      "image/png": "[encoded data removed]",
      "text/plain": [
       "<Figure size 1000x600 with 1 Axes>"
      ]
     },
     "metadata": {},
     "output_type": "display_data"
    },
    {
     "data": {
      "image/png": "[encoded data removed]",
      "text/plain": [
       "<Figure size 1000x600 with 1 Axes>"
      ]
     },
     "metadata": {},
     "output_type": "display_data"
    },
    {
     "data": {
      "image/png": "[encoded data removed]",
      "text/plain": [
       "<Figure size 1000x600 with 1 Axes>"
      ]
     },
     "metadata": {},
     "output_type": "display_data"
    },
    {
     "data": {
      "image/png": "[encoded data removed]",
      "text/plain": [
       "<Figure size 1000x600 with 1 Axes>"
      ]
     },
     "metadata": {},
     "output_type": "display_data"
    },
    {
     "data": {
      "image/png": "[encoded data removed]",
      "text/plain": [
       "<Figure size 1000x600 with 1 Axes>"
      ]
     },
     "metadata": {},
     "output_type": "display_data"
    },
    {
     "data": {
      "image/png": "[encoded data removed]",
      "text/plain": [
       "<Figure size 1000x600 with 1 Axes>"
      ]
     },
     "metadata": {},
     "output_type": "display_data"
    },
    {
     "data": {
      "image/png": "[encoded data removed]",
      "text/plain": [
       "<Figure size 1000x600 with 1 Axes>"
      ]
     },
     "metadata": {},
     "output_type": "display_data"
    },
    {
     "data": {
      "image/png": "[encoded data removed]",
      "text/plain": [
       "<Figure size 1000x600 with 1 Axes>"
      ]
     },
     "metadata": {},
     "output_type": "display_data"
    },
    {
     "data": {
      "image/png": "[encoded data removed]",
      "text/plain": [
       "<Figure size 1000x600 with 1 Axes>"
      ]
     },
     "metadata": {},
     "output_type": "display_data"
    }
   ],
   "source": [
    "# Reward factor naming dictionary\n",
    "naming_dict = {\n",
    "    \"queue_length\": \"Sum of queue lengths of lanes (number)\",\n",
    "    \"avg_waiting_time\": \"Sum of average waiting times of lanes (s)\",\n",
    "    \"phase_change\": \"Occurrence of phase change (flag)\",\n",
    "    \"total_delay\": \"Sum of delay for all vehicles (sum of fractions)\",\n",
    "    \"vehicles_passed\": \"Number of vehicles which exited (number)\",\n",
    "    \"total_emissions\": \"Combined CO2 and CO emission rate for all vehicles (g/s)\",\n",
    "    \"sudden_phase_change\": \"Occurrence of a sudden phase change (flag)\",\n",
    "    \"num_collided_vehicles\": \"Number of vehicles involved in a collision (number)\",\n",
    "    \"average_travel_time\": \"Average time taken by a car to exit since last action (s)\"\n",
    "}\n",
    "\n",
    "# Number of steps for each episode\n",
    "num_steps = len(eval_data[0])\n",
    "\n",
    "# Initialize lists to store summed values for each step\n",
    "reward_sums = []\n",
    "reward_factor_sums = {\n",
    "    \"queue_length\": [],\n",
    "    \"avg_waiting_time\": [],\n",
    "    \"phase_change\": [],\n",
    "    \"total_delay\": [],\n",
    "    \"vehicles_passed\": [],\n",
    "    \"total_emissions\": [],\n",
    "    \"sudden_phase_change\": [],\n",
    "    \"num_collided_vehicles\": [],\n",
    "    \"average_travel_time\": []\n",
    "}\n",
    "for i in range(num_steps):\n",
    "    reward_sums.append(0)\n",
    "    for key in reward_factor_sums:\n",
    "        reward_factor_sums[key].append(0)\n",
    "\n",
    "# Accumulate rewards and reward factors for each step across all episodes\n",
    "for episode in eval_data:\n",
    "    for step_index, (reward, reward_factors) in enumerate(episode):\n",
    "        reward_sums[step_index] += reward\n",
    "        \n",
    "        for key in reward_factor_sums:\n",
    "            reward_factor_sums[key][step_index] += reward_factors[key]\n",
    "\n",
    "# Number of episodes\n",
    "num_episodes = len(eval_data)\n",
    "\n",
    "# Calculate the average for each step\n",
    "average_rewards = [reward_sums[i] / num_episodes for i in range(num_steps)]\n",
    "\n",
    "average_reward_factors = {\n",
    "    key: [reward_factor_sums[key][i] / num_episodes for i in range(num_steps)]\n",
    "    for key in reward_factor_sums\n",
    "}\n",
    "\n",
    "# Plotting\n",
    "steps = np.arange(num_steps)  # X-axis for plotting\n",
    "\n",
    "line_thickness = 1\n",
    "\n",
    "# Plot average reward\n",
    "plt.figure(figsize=(10, 6))\n",
    "plt.plot(steps, average_rewards, linestyle='-', linewidth=line_thickness)\n",
    "plt.xlabel(\"Episode Step\")\n",
    "plt.ylabel(\"Reward\")\n",
    "plt.grid(True)\n",
    "plt.show()\n",
    "\n",
    "# Plot reward factors\n",
    "for key, values in average_reward_factors.items():\n",
    "    plt.figure(figsize=(10, 6))\n",
    "    plt.plot(steps, values, linestyle='-', linewidth=line_thickness)\n",
    "    plt.xlabel(\"Episode Step\")\n",
    "    plt.ylabel(naming_dict[key])\n",
    "    plt.grid(True)\n",
    "    plt.show()"
   ]
  },
  {
   "cell_type": "code",
   "execution_count": 11,
   "id": "f8b44da0",
   "metadata": {
    "execution": {
     "iopub.execute_input": "2024-05-01T13:50:20.027821Z",
     "iopub.status.busy": "2024-05-01T13:50:20.027440Z",
     "iopub.status.idle": "2024-05-01T13:50:20.044980Z",
     "shell.execute_reply": "2024-05-01T13:50:20.043766Z"
    },
    "papermill": {
     "duration": 0.541554,
     "end_time": "2024-05-01T13:50:20.046904",
     "exception": false,
     "start_time": "2024-05-01T13:50:19.505350",
     "status": "completed"
    },
    "tags": []
   },
   "outputs": [
    {
     "name": "stdout",
     "output_type": "stream",
     "text": [
      "Reward - Min: -3.52430603345869\n",
      "Reward - Max: -0.00044411250704520604\n",
      "Reward - Mean: -0.8611931766160665\n",
      "Reward - Cumulative: -4305.965883080316\n",
      "\n",
      "Sum of queue lengths of lanes (number) - Min: 0.0\n",
      "Sum of queue lengths of lanes (number) - Max: 99.0\n",
      "Sum of queue lengths of lanes (number) - Mean: 58.0814\n",
      "Sum of queue lengths of lanes (number) - Cumulative: 290407.0\n",
      "\n",
      "Sum of average waiting times of lanes (s) - Min: 0.0\n",
      "Sum of average waiting times of lanes (s) - Max: 16905.999999999996\n",
      "Sum of average waiting times of lanes (s) - Mean: 3709.4460400000007\n",
      "Sum of average waiting times of lanes (s) - Cumulative: 18547230.19999999\n",
      "\n",
      "Occurrence of phase change (flag) - Min: 0.0\n",
      "Occurrence of phase change (flag) - Max: 1.0\n",
      "Occurrence of phase change (flag) - Mean: 0.2388\n",
      "Occurrence of phase change (flag) - Cumulative: 1194.0\n",
      "\n",
      "Sum of delay for all vehicles (sum of fractions) - Min: 0.030940502448194684\n",
      "Sum of delay for all vehicles (sum of fractions) - Max: 98.9987866759157\n",
      "Sum of delay for all vehicles (sum of fractions) - Mean: 67.11323893884855\n",
      "Sum of delay for all vehicles (sum of fractions) - Cumulative: 335566.1946942425\n",
      "\n",
      "Number of vehicles which exited (number) - Min: 0.0\n",
      "Number of vehicles which exited (number) - Max: 3.0\n",
      "Number of vehicles which exited (number) - Mean: 0.0404\n",
      "Number of vehicles which exited (number) - Cumulative: 202.0\n",
      "\n",
      "Combined CO2 and CO emission rate for all vehicles (g/s) - Min: 0.0\n",
      "Combined CO2 and CO emission rate for all vehicles (g/s) - Max: 299.1697191890605\n",
      "Combined CO2 and CO emission rate for all vehicles (g/s) - Mean: 141.46064233602993\n",
      "Combined CO2 and CO emission rate for all vehicles (g/s) - Cumulative: 707303.2116801485\n",
      "\n",
      "Occurrence of a sudden phase change (flag) - Min: 0.0\n",
      "Occurrence of a sudden phase change (flag) - Max: 1.0\n",
      "Occurrence of a sudden phase change (flag) - Mean: 0.0786\n",
      "Occurrence of a sudden phase change (flag) - Cumulative: 393.0\n",
      "\n",
      "Number of vehicles involved in a collision (number) - Min: 0.0\n",
      "Number of vehicles involved in a collision (number) - Max: 0.0\n",
      "Number of vehicles involved in a collision (number) - Mean: 0.0\n",
      "Number of vehicles involved in a collision (number) - Cumulative: 0.0\n",
      "\n",
      "Average time taken by a car to exit since last action (s) - Min: 0.0\n",
      "Average time taken by a car to exit since last action (s) - Max: 0.20000000000004547\n",
      "Average time taken by a car to exit since last action (s) - Mean: 0.007760000000000011\n",
      "Average time taken by a car to exit since last action (s) - Cumulative: 38.800000000000054\n",
      "\n"
     ]
    }
   ],
   "source": [
    "# Function to compute min, max, mean and sum\n",
    "def compute_stats(values):\n",
    "    min_value = min(values)\n",
    "    max_value = max(values)\n",
    "    mean_value = np.mean(values)\n",
    "    cumulative_value = sum(values)\n",
    "    return min_value, max_value, mean_value, cumulative_value\n",
    "\n",
    "# Compute and print the stats for average rewards\n",
    "reward_min, reward_max, reward_mean, reward_cumulative = compute_stats(average_rewards)\n",
    "print(\"Reward - Min:\", reward_min)\n",
    "print(\"Reward - Max:\", reward_max)\n",
    "print(\"Reward - Mean:\", reward_mean)\n",
    "print(\"Reward - Cumulative:\", reward_cumulative)\n",
    "print(\"\")\n",
    "\n",
    "# Compute and print the stats for each reward factor\n",
    "for key, values in average_reward_factors.items():\n",
    "    factor_min, factor_max, factor_mean, factor_cumulative = compute_stats(values)\n",
    "    print(f\"{naming_dict[key]} - Min:\", factor_min)\n",
    "    print(f\"{naming_dict[key]} - Max:\", factor_max)\n",
    "    print(f\"{naming_dict[key]} - Mean:\", factor_mean)\n",
    "    print(f\"{naming_dict[key]} - Cumulative:\", factor_cumulative)\n",
    "    print(\"\")"
   ]
  }
 ],
 "metadata": {
  "kaggle": {
   "accelerator": "gpu",
   "dataSources": [],
   "dockerImageVersionId": 30699,
   "isGpuEnabled": true,
   "isInternetEnabled": true,
   "language": "python",
   "sourceType": "notebook"
  },
  "kernelspec": {
   "display_name": "Python 3",
   "language": "python",
   "name": "python3"
  },
  "language_info": {
   "codemirror_mode": {
    "name": "ipython",
    "version": 3
   },
   "file_extension": ".py",
   "mimetype": "text/x-python",
   "name": "python",
   "nbconvert_exporter": "python",
   "pygments_lexer": "ipython3",
   "version": "3.10.13"
  },
  "papermill": {
   "default_parameters": {},
   "duration": 5387.491684,
   "end_time": "2024-05-01T13:50:23.372653",
   "environment_variables": {},
   "exception": null,
   "input_path": "__notebook__.ipynb",
   "output_path": "__notebook__.ipynb",
   "parameters": {},
   "start_time": "2024-05-01T12:20:35.880969",
   "version": "2.5.0"
  }
 },
 "nbformat": 4,
 "nbformat_minor": 5
}
